{
 "cells": [
  {
   "cell_type": "code",
   "execution_count": 63,
   "metadata": {},
   "outputs": [],
   "source": [
    "# Set up Notebook\n",
    "% matplotlib inline\n",
    "\n",
    "# Standard imports\n",
    "import numpy as np\n",
    "import pandas as pd\n",
    "import matplotlib.pyplot as plt\n",
    "import seaborn as sns\n",
    "import scipy.stats as stats\n",
    "from matplotlib import cm\n",
    "\n",
    "\n",
    "# We do this to ignore several specific Pandas warnings\n",
    "import warnings\n",
    "warnings.filterwarnings('ignore')\n",
    "from sklearn.metrics import explained_variance_score\n",
    "from sklearn.metrics import mean_absolute_error\n",
    "from sklearn.metrics import mean_squared_error\n",
    "from sklearn.metrics import median_absolute_error\n",
    "from sklearn.metrics import r2_score"
   ]
  },
  {
   "cell_type": "code",
   "execution_count": 64,
   "metadata": {},
   "outputs": [],
   "source": [
    "train_data = pd.read_csv('train.csv')\n",
    "test_data = pd.read_csv('test.csv')\n",
    "labels = ['clust_logFCS', 'clust_RCSI', 'clust_HDDS']"
   ]
  },
  {
   "cell_type": "code",
   "execution_count": 65,
   "metadata": {},
   "outputs": [
    {
     "data": {
      "text/html": [
       "<div>\n",
       "<style scoped>\n",
       "    .dataframe tbody tr th:only-of-type {\n",
       "        vertical-align: middle;\n",
       "    }\n",
       "\n",
       "    .dataframe tbody tr th {\n",
       "        vertical-align: top;\n",
       "    }\n",
       "\n",
       "    .dataframe thead th {\n",
       "        text-align: right;\n",
       "    }\n",
       "</style>\n",
       "<table border=\"1\" class=\"dataframe\">\n",
       "  <thead>\n",
       "    <tr style=\"text-align: right;\">\n",
       "      <th></th>\n",
       "      <th>clust_L12raincytot</th>\n",
       "      <th>clust_L12day1rain</th>\n",
       "      <th>clust_L12maxdays</th>\n",
       "      <th>clust_floodmax</th>\n",
       "      <th>clust_cells_own</th>\n",
       "      <th>clust_price</th>\n",
       "      <th>clust_thinn</th>\n",
       "      <th>clust_roof</th>\n",
       "      <th>clust_hhsize</th>\n",
       "      <th>clust_hh_age</th>\n",
       "      <th>clust_hh_gender</th>\n",
       "      <th>clust_asset</th>\n",
       "      <th>clust_dist_road</th>\n",
       "      <th>clust_dist_admarc</th>\n",
       "      <th>clust_percent_ag</th>\n",
       "      <th>clust_nutri_reten_constrained</th>\n",
       "      <th>clust_elevation</th>\n",
       "      <th>ipc_lag1</th>\n",
       "      <th>ipc_lag12</th>\n",
       "    </tr>\n",
       "  </thead>\n",
       "  <tbody>\n",
       "    <tr>\n",
       "      <th>0</th>\n",
       "      <td>1090.06130</td>\n",
       "      <td>43</td>\n",
       "      <td>17</td>\n",
       "      <td>0.0</td>\n",
       "      <td>0.1250</td>\n",
       "      <td>3.824215</td>\n",
       "      <td>0.359375</td>\n",
       "      <td>0.1250</td>\n",
       "      <td>5.4375</td>\n",
       "      <td>41.6250</td>\n",
       "      <td>1.2500</td>\n",
       "      <td>-0.327686</td>\n",
       "      <td>1.395625</td>\n",
       "      <td>5.176875</td>\n",
       "      <td>0.6000</td>\n",
       "      <td>0.0000</td>\n",
       "      <td>1311.8750</td>\n",
       "      <td>1.0</td>\n",
       "      <td>NaN</td>\n",
       "    </tr>\n",
       "    <tr>\n",
       "      <th>1</th>\n",
       "      <td>855.86176</td>\n",
       "      <td>58</td>\n",
       "      <td>40</td>\n",
       "      <td>0.0</td>\n",
       "      <td>0.4375</td>\n",
       "      <td>3.917409</td>\n",
       "      <td>0.250000</td>\n",
       "      <td>0.1875</td>\n",
       "      <td>5.6875</td>\n",
       "      <td>36.5625</td>\n",
       "      <td>1.3125</td>\n",
       "      <td>-0.202549</td>\n",
       "      <td>0.756875</td>\n",
       "      <td>5.408750</td>\n",
       "      <td>0.6000</td>\n",
       "      <td>0.9375</td>\n",
       "      <td>496.0000</td>\n",
       "      <td>1.0</td>\n",
       "      <td>NaN</td>\n",
       "    </tr>\n",
       "    <tr>\n",
       "      <th>2</th>\n",
       "      <td>1300.24370</td>\n",
       "      <td>53</td>\n",
       "      <td>29</td>\n",
       "      <td>0.0</td>\n",
       "      <td>1.5000</td>\n",
       "      <td>3.683867</td>\n",
       "      <td>0.250000</td>\n",
       "      <td>0.5000</td>\n",
       "      <td>6.3750</td>\n",
       "      <td>40.4375</td>\n",
       "      <td>1.3750</td>\n",
       "      <td>0.548275</td>\n",
       "      <td>0.163125</td>\n",
       "      <td>17.038126</td>\n",
       "      <td>0.4500</td>\n",
       "      <td>1.0000</td>\n",
       "      <td>526.7500</td>\n",
       "      <td>1.0</td>\n",
       "      <td>NaN</td>\n",
       "    </tr>\n",
       "    <tr>\n",
       "      <th>3</th>\n",
       "      <td>1036.97120</td>\n",
       "      <td>52</td>\n",
       "      <td>29</td>\n",
       "      <td>0.0</td>\n",
       "      <td>0.6250</td>\n",
       "      <td>4.061391</td>\n",
       "      <td>0.500000</td>\n",
       "      <td>0.2500</td>\n",
       "      <td>5.4375</td>\n",
       "      <td>46.8750</td>\n",
       "      <td>1.1875</td>\n",
       "      <td>-0.077412</td>\n",
       "      <td>5.803750</td>\n",
       "      <td>7.724375</td>\n",
       "      <td>0.4375</td>\n",
       "      <td>0.0000</td>\n",
       "      <td>564.1875</td>\n",
       "      <td>1.0</td>\n",
       "      <td>NaN</td>\n",
       "    </tr>\n",
       "    <tr>\n",
       "      <th>4</th>\n",
       "      <td>952.18280</td>\n",
       "      <td>54</td>\n",
       "      <td>25</td>\n",
       "      <td>0.0</td>\n",
       "      <td>0.5625</td>\n",
       "      <td>3.879500</td>\n",
       "      <td>0.250000</td>\n",
       "      <td>0.0625</td>\n",
       "      <td>7.0000</td>\n",
       "      <td>43.8125</td>\n",
       "      <td>1.0000</td>\n",
       "      <td>-0.202549</td>\n",
       "      <td>11.286875</td>\n",
       "      <td>11.103125</td>\n",
       "      <td>0.4875</td>\n",
       "      <td>1.0000</td>\n",
       "      <td>1539.9375</td>\n",
       "      <td>1.0</td>\n",
       "      <td>NaN</td>\n",
       "    </tr>\n",
       "  </tbody>\n",
       "</table>\n",
       "</div>"
      ],
      "text/plain": [
       "   clust_L12raincytot  clust_L12day1rain  clust_L12maxdays  clust_floodmax  \\\n",
       "0          1090.06130                 43                17             0.0   \n",
       "1           855.86176                 58                40             0.0   \n",
       "2          1300.24370                 53                29             0.0   \n",
       "3          1036.97120                 52                29             0.0   \n",
       "4           952.18280                 54                25             0.0   \n",
       "\n",
       "   clust_cells_own  clust_price  clust_thinn  clust_roof  clust_hhsize  \\\n",
       "0           0.1250     3.824215     0.359375      0.1250        5.4375   \n",
       "1           0.4375     3.917409     0.250000      0.1875        5.6875   \n",
       "2           1.5000     3.683867     0.250000      0.5000        6.3750   \n",
       "3           0.6250     4.061391     0.500000      0.2500        5.4375   \n",
       "4           0.5625     3.879500     0.250000      0.0625        7.0000   \n",
       "\n",
       "   clust_hh_age  clust_hh_gender  clust_asset  clust_dist_road  \\\n",
       "0       41.6250           1.2500    -0.327686         1.395625   \n",
       "1       36.5625           1.3125    -0.202549         0.756875   \n",
       "2       40.4375           1.3750     0.548275         0.163125   \n",
       "3       46.8750           1.1875    -0.077412         5.803750   \n",
       "4       43.8125           1.0000    -0.202549        11.286875   \n",
       "\n",
       "   clust_dist_admarc  clust_percent_ag  clust_nutri_reten_constrained  \\\n",
       "0           5.176875            0.6000                         0.0000   \n",
       "1           5.408750            0.6000                         0.9375   \n",
       "2          17.038126            0.4500                         1.0000   \n",
       "3           7.724375            0.4375                         0.0000   \n",
       "4          11.103125            0.4875                         1.0000   \n",
       "\n",
       "   clust_elevation  ipc_lag1  ipc_lag12  \n",
       "0        1311.8750       1.0        NaN  \n",
       "1         496.0000       1.0        NaN  \n",
       "2         526.7500       1.0        NaN  \n",
       "3         564.1875       1.0        NaN  \n",
       "4        1539.9375       1.0        NaN  "
      ]
     },
     "execution_count": 65,
     "metadata": {},
     "output_type": "execute_result"
    }
   ],
   "source": [
    "X = train_data.drop(labels, axis=1)\n",
    "x_train=train_data.drop(labels, axis=1)\n",
    "x_train = x_train.drop(x_train.columns[0], axis=1)\n",
    "x_test=test_data.drop(labels, axis=1)\n",
    "x_test = x_test.drop(x_test.columns[0], axis=1)\n",
    "\n",
    "x_train.head()"
   ]
  },
  {
   "cell_type": "code",
   "execution_count": 66,
   "metadata": {},
   "outputs": [
    {
     "data": {
      "text/html": [
       "<div>\n",
       "<style scoped>\n",
       "    .dataframe tbody tr th:only-of-type {\n",
       "        vertical-align: middle;\n",
       "    }\n",
       "\n",
       "    .dataframe tbody tr th {\n",
       "        vertical-align: top;\n",
       "    }\n",
       "\n",
       "    .dataframe thead th {\n",
       "        text-align: right;\n",
       "    }\n",
       "</style>\n",
       "<table border=\"1\" class=\"dataframe\">\n",
       "  <thead>\n",
       "    <tr style=\"text-align: right;\">\n",
       "      <th></th>\n",
       "      <th>clust_logFCS</th>\n",
       "      <th>clust_RCSI</th>\n",
       "      <th>clust_HDDS</th>\n",
       "    </tr>\n",
       "  </thead>\n",
       "  <tbody>\n",
       "    <tr>\n",
       "      <th>0</th>\n",
       "      <td>3.666015</td>\n",
       "      <td>12.312500</td>\n",
       "      <td>4.687500</td>\n",
       "    </tr>\n",
       "    <tr>\n",
       "      <th>1</th>\n",
       "      <td>3.718879</td>\n",
       "      <td>5.352941</td>\n",
       "      <td>5.235294</td>\n",
       "    </tr>\n",
       "    <tr>\n",
       "      <th>2</th>\n",
       "      <td>3.799830</td>\n",
       "      <td>5.080000</td>\n",
       "      <td>5.720000</td>\n",
       "    </tr>\n",
       "    <tr>\n",
       "      <th>3</th>\n",
       "      <td>3.844891</td>\n",
       "      <td>4.285714</td>\n",
       "      <td>5.095238</td>\n",
       "    </tr>\n",
       "    <tr>\n",
       "      <th>4</th>\n",
       "      <td>3.687936</td>\n",
       "      <td>0.812500</td>\n",
       "      <td>5.312500</td>\n",
       "    </tr>\n",
       "  </tbody>\n",
       "</table>\n",
       "</div>"
      ],
      "text/plain": [
       "   clust_logFCS  clust_RCSI  clust_HDDS\n",
       "0      3.666015   12.312500    4.687500\n",
       "1      3.718879    5.352941    5.235294\n",
       "2      3.799830    5.080000    5.720000\n",
       "3      3.844891    4.285714    5.095238\n",
       "4      3.687936    0.812500    5.312500"
      ]
     },
     "execution_count": 66,
     "metadata": {},
     "output_type": "execute_result"
    }
   ],
   "source": [
    "y_train = train_data[labels]\n",
    "y_test = test_data[labels]\n",
    "y_test.head()"
   ]
  },
  {
   "cell_type": "code",
   "execution_count": 67,
   "metadata": {},
   "outputs": [],
   "source": [
    "\n",
    "# y_test = math.log(y_test)"
   ]
  },
  {
   "cell_type": "code",
   "execution_count": 68,
   "metadata": {},
   "outputs": [],
   "source": [
    "from sklearn.preprocessing import Imputer,StandardScaler\n",
    "\n",
    "imp = Imputer(missing_values='NaN', strategy='mean', axis=0, copy=False)\n",
    "x_train = imp.fit_transform(x_train)\n",
    "x_test = imp.fit_transform(x_test)\n",
    "\n",
    "ss = StandardScaler()\n",
    "x_train = ss.fit_transform(x_train)\n",
    "x_test = ss.fit_transform(x_test)\n"
   ]
  },
  {
   "cell_type": "code",
   "execution_count": 69,
   "metadata": {},
   "outputs": [],
   "source": [
    "y_train[\"clust_RCSI\"] = np.arcsinh(y_train[\"clust_RCSI\"])\n",
    "y_test[\"clust_RCSI\"] = np.arcsinh(y_test[\"clust_RCSI\"])\n"
   ]
  },
  {
   "cell_type": "code",
   "execution_count": 70,
   "metadata": {},
   "outputs": [
    {
     "data": {
      "text/html": [
       "<div>\n",
       "<style scoped>\n",
       "    .dataframe tbody tr th:only-of-type {\n",
       "        vertical-align: middle;\n",
       "    }\n",
       "\n",
       "    .dataframe tbody tr th {\n",
       "        vertical-align: top;\n",
       "    }\n",
       "\n",
       "    .dataframe thead th {\n",
       "        text-align: right;\n",
       "    }\n",
       "</style>\n",
       "<table border=\"1\" class=\"dataframe\">\n",
       "  <thead>\n",
       "    <tr style=\"text-align: right;\">\n",
       "      <th></th>\n",
       "      <th>clust_logFCS</th>\n",
       "      <th>clust_RCSI</th>\n",
       "      <th>clust_HDDS</th>\n",
       "    </tr>\n",
       "  </thead>\n",
       "  <tbody>\n",
       "    <tr>\n",
       "      <th>0</th>\n",
       "      <td>3.666015</td>\n",
       "      <td>3.205407</td>\n",
       "      <td>4.687500</td>\n",
       "    </tr>\n",
       "    <tr>\n",
       "      <th>1</th>\n",
       "      <td>3.718879</td>\n",
       "      <td>2.379406</td>\n",
       "      <td>5.235294</td>\n",
       "    </tr>\n",
       "    <tr>\n",
       "      <th>2</th>\n",
       "      <td>3.799830</td>\n",
       "      <td>2.328008</td>\n",
       "      <td>5.720000</td>\n",
       "    </tr>\n",
       "    <tr>\n",
       "      <th>3</th>\n",
       "      <td>3.844891</td>\n",
       "      <td>2.161776</td>\n",
       "      <td>5.095238</td>\n",
       "    </tr>\n",
       "    <tr>\n",
       "      <th>4</th>\n",
       "      <td>3.687936</td>\n",
       "      <td>0.742399</td>\n",
       "      <td>5.312500</td>\n",
       "    </tr>\n",
       "  </tbody>\n",
       "</table>\n",
       "</div>"
      ],
      "text/plain": [
       "   clust_logFCS  clust_RCSI  clust_HDDS\n",
       "0      3.666015    3.205407    4.687500\n",
       "1      3.718879    2.379406    5.235294\n",
       "2      3.799830    2.328008    5.720000\n",
       "3      3.844891    2.161776    5.095238\n",
       "4      3.687936    0.742399    5.312500"
      ]
     },
     "execution_count": 70,
     "metadata": {},
     "output_type": "execute_result"
    }
   ],
   "source": [
    "y_test.head()\n"
   ]
  },
  {
   "cell_type": "code",
   "execution_count": 71,
   "metadata": {},
   "outputs": [
    {
     "data": {
      "text/plain": [
       "(array([ 45.,  52.,  62.,  97., 126., 128., 118.,  74.,  51.,  15.]),\n",
       " array([0.        , 0.35417984, 0.70835969, 1.06253953, 1.41671937,\n",
       "        1.77089921, 2.12507906, 2.4792589 , 2.83343874, 3.18761858,\n",
       "        3.54179843]),\n",
       " <a list of 10 Patch objects>)"
      ]
     },
     "execution_count": 71,
     "metadata": {},
     "output_type": "execute_result"
    },
    {
     "data": {
      "image/png": "[encoded data removed]",
      "text/plain": [
       "<Figure size 432x288 with 1 Axes>"
      ]
     },
     "metadata": {},
     "output_type": "display_data"
    }
   ],
   "source": [
    "import matplotlib.pyplot as plt\n",
    "plt.hist(y_train[\"clust_RCSI\"] , 10, facecolor='blue', alpha=0.5)"
   ]
  },
  {
   "cell_type": "markdown",
   "metadata": {},
   "source": [
    "from sklearn.preprocessing import PolynomialFeatures\n",
    "poly = PolynomialFeatures(2)\n",
    "x_train = poly.fit_transform(x_train)\n",
    "x_test =  poly.fit_transform(x_test)"
   ]
  },
  {
   "cell_type": "markdown",
   "metadata": {},
   "source": [
    "import numpy as np\n",
    "y_train[\"clust_RCSI\"] = np.arcsinh(np.array (y_train[labels[1]])) \n",
    "y_test[\"clust_RCSI\"] = np.arcsinh(np.array (y_test[labels[1]])) "
   ]
  },
  {
   "cell_type": "code",
   "execution_count": 72,
   "metadata": {},
   "outputs": [
    {
     "data": {
      "text/plain": [
       "0.12297431987562665"
      ]
     },
     "execution_count": 72,
     "metadata": {},
     "output_type": "execute_result"
    }
   ],
   "source": [
    "from sklearn.linear_model import LinearRegression\n",
    "\n",
    "# Create and fit our linear regression model to training data\n",
    "model = LinearRegression(fit_intercept=True)\n",
    "model.fit(x_train, y_train[\"clust_RCSI\"])\n",
    "\n",
    "# Compute model predictions for test data\n",
    "pred = model.predict(x_test)\n",
    "actual = y_test[\"clust_RCSI\"]\n",
    "\n",
    "r2_linear = stats.pearsonr(actual, pred)[0] ** 2\n",
    "r2_linear\n"
   ]
  },
  {
   "cell_type": "code",
   "execution_count": 73,
   "metadata": {},
   "outputs": [
    {
     "data": {
      "text/plain": [
       "<matplotlib.collections.PathCollection at 0x17d49f7f710>"
      ]
     },
     "execution_count": 73,
     "metadata": {},
     "output_type": "execute_result"
    },
    {
     "data": {
      "image/png": "[encoded data removed]",
      "text/plain": [
       "<Figure size 432x288 with 1 Axes>"
      ]
     },
     "metadata": {},
     "output_type": "display_data"
    }
   ],
   "source": [
    "import matplotlib.pyplot as plt\n",
    "plt.scatter(pred, actual-pred, s=80,marker=\"*\")"
   ]
  },
  {
   "cell_type": "code",
   "execution_count": 80,
   "metadata": {},
   "outputs": [
    {
     "data": {
      "text/plain": [
       "0.025886062560550326"
      ]
     },
     "execution_count": 80,
     "metadata": {},
     "output_type": "execute_result"
    }
   ],
   "source": [
    "# fit on logFCS \n",
    "from sklearn.ensemble import RandomForestRegressor\n",
    "from sklearn.model_selection import GridSearchCV\n",
    "\n",
    "# Create Regressor with default properties\n",
    "rfc = RandomForestRegressor(random_state =0,n_jobs =4,warm_start = True)\n",
    "parameters = {'max_depth':np.arange( 10,30, 1 ).tolist(), 'min_samples_leaf':np.arange( 5, 10, 1 ).tolist()}\n",
    "clf = GridSearchCV(rfc, parameters,cv=6, n_jobs= 4, iid = True,  refit= True,pre_dispatch= '2*n_jobs')\n",
    "clf.fit(x_train, y_train[labels[1]])\n",
    " \n",
    "# Regress on test data\n",
    "pred = clf.predict(x_test)\n",
    "\n",
    "actual =  y_test[labels[1]]\n",
    "r2_rfc = stats.pearsonr(actual, pred)[0] ** 2\n",
    "r2_rfc"
   ]
  },
  {
   "cell_type": "code",
   "execution_count": 81,
   "metadata": {},
   "outputs": [
    {
     "data": {
      "text/plain": [
       "{'max_depth': 10, 'min_samples_leaf': 6}"
      ]
     },
     "execution_count": 81,
     "metadata": {},
     "output_type": "execute_result"
    }
   ],
   "source": [
    "clf.best_params_"
   ]
  },
  {
   "cell_type": "code",
   "execution_count": null,
   "metadata": {},
   "outputs": [],
   "source": []
  },
  {
   "cell_type": "code",
   "execution_count": 79,
   "metadata": {},
   "outputs": [
    {
     "data": {
      "text/plain": [
       "0.1235376781169247"
      ]
     },
     "execution_count": 79,
     "metadata": {},
     "output_type": "execute_result"
    }
   ],
   "source": [
    "from sklearn.gaussian_process import  GaussianProcessRegressor\n",
    "\n",
    "# Import our kernels\n",
    "from sklearn.gaussian_process.kernels import Matern, WhiteKernel\n",
    "\n",
    "\n",
    "\n",
    "# Define custom kernel (Matern + noise)\n",
    "krnl = 2. + Matern(length_scale=1, nu=1.3) + WhiteKernel(noise_level=10)\n",
    "\n",
    "# Create Regressor with specified properties\n",
    "gpr = GaussianProcessRegressor(kernel=krnl, random_state=23)\n",
    "\n",
    "# Fit estimator and display score\n",
    "gpr= gpr.fit(x_train, y_train[\"clust_RCSI\"])\n",
    "pred = gpr.predict(x_test)\n",
    "actual = y_test[\"clust_RCSI\"]\n",
    "r2_gpr= stats.pearsonr(actual, pred)[0] ** 2\n",
    "r2_gpr\n",
    "\n"
   ]
  },
  {
   "cell_type": "code",
   "execution_count": 32,
   "metadata": {},
   "outputs": [
    {
     "data": {
      "text/plain": [
       "<matplotlib.collections.PathCollection at 0x17d4968d940>"
      ]
     },
     "execution_count": 32,
     "metadata": {},
     "output_type": "execute_result"
    },
    {
     "data": {
      "image/png": "[encoded data removed]",
      "text/plain": [
       "<Figure size 432x288 with 1 Axes>"
      ]
     },
     "metadata": {},
     "output_type": "display_data"
    }
   ],
   "source": [
    "plt.scatter(pred, actual-pred, s=80,marker=\"*\")"
   ]
  },
  {
   "cell_type": "code",
   "execution_count": 54,
   "metadata": {},
   "outputs": [
    {
     "data": {
      "text/plain": [
       "0.0926673655785274"
      ]
     },
     "execution_count": 54,
     "metadata": {},
     "output_type": "execute_result"
    }
   ],
   "source": [
    "\n",
    "from sklearn.linear_model import Ridge\n",
    "\n",
    "# Define different alpha values for different fits\n",
    "alpha = [0.0, 1E-6, 1E-4, 1E-2, 1.0]\n",
    "\n",
    "ridge = Ridge(alpha=20,fit_intercept=False)\n",
    "\n",
    "ridge.fit(x_train, y_train[\"clust_RCSI\"])\n",
    "pred = ridge.predict(x_test)\n",
    "\n",
    "actual = y_test[\"clust_RCSI\"]\n",
    "r2_ridge= stats.pearsonr(actual, pred)[0] ** 2\n",
    "r2_ridge"
   ]
  },
  {
   "cell_type": "code",
   "execution_count": 49,
   "metadata": {},
   "outputs": [
    {
     "data": {
      "text/plain": [
       "0.12311634209636571"
      ]
     },
     "execution_count": 49,
     "metadata": {},
     "output_type": "execute_result"
    }
   ],
   "source": [
    "from sklearn.linear_model import BayesianRidge\n",
    "bridge = BayesianRidge(compute_score=True)\n",
    "bridge.fit(x_train, y_train[\"clust_RCSI\"])\n",
    "pred = bridge.predict(x_test)\n",
    "\n",
    "actual = y_test[\"clust_RCSI\"]\n",
    "r2_bridge= stats.pearsonr(actual, pred)[0] ** 2\n",
    "r2_bridge"
   ]
  },
  {
   "cell_type": "code",
   "execution_count": 44,
   "metadata": {},
   "outputs": [
    {
     "data": {
      "text/plain": [
       "0.24835244248878724"
      ]
     },
     "execution_count": 44,
     "metadata": {},
     "output_type": "execute_result"
    }
   ],
   "source": [
    "from sklearn.linear_model import Lasso\n",
    "alpha = [1E-4, 1E-2, 0.1, 1.0]\n",
    "\n",
    "ls = Lasso(alpha=alpha[2], fit_intercept=True)\n",
    "\n",
    "\n",
    "ls = ls.fit(x_train, y_train[\"clust_RCSI\"])\n",
    "pred = ls.predict(x_test)\n",
    "\n",
    "actual = y_test[\"clust_RCSI\"]\n",
    "r2_ls= stats.pearsonr(actual, pred)[0] ** 2\n",
    "r2_ls"
   ]
  },
  {
   "cell_type": "code",
   "execution_count": 52,
   "metadata": {},
   "outputs": [
    {
     "name": "stdout",
     "output_type": "stream",
     "text": [
      "0 ('clust_cells_own', -0.019282583172118062)\n",
      "1 ('clust_L12raincytot', -0.0)\n",
      "2 ('clust_L12day1rain', 0.0)\n",
      "3 ('clust_L12maxdays', -0.0)\n",
      "4 ('clust_floodmax', 0.0)\n",
      "5 ('clust_price', 0.0)\n",
      "6 ('clust_thinn', 0.0)\n",
      "7 ('clust_roof', -0.0)\n",
      "8 ('clust_hhsize', 0.0)\n",
      "9 ('clust_hh_age', 0.0)\n",
      "10 ('clust_hh_gender', 0.0)\n",
      "11 ('clust_asset', -0.0)\n",
      "12 ('clust_dist_road', 0.0)\n",
      "13 ('clust_dist_admarc', 0.0)\n",
      "14 ('clust_percent_ag', 0.0)\n",
      "15 ('clust_nutri_reten_constrained', -0.0)\n",
      "16 ('clust_elevation', -0.0)\n",
      "17 ('ipc_lag1', 0.0)\n",
      "18 ('ipc_lag12', 0.0)\n"
     ]
    }
   ],
   "source": [
    "lasso_zip  = zip(X.columns[1:], ls.coef_)\n",
    "import operator\n",
    "\n",
    "for count,ele in enumerate(sorted(lasso_zip,key=operator.itemgetter(1),reverse=False)): \n",
    "    print (count,ele)"
   ]
  },
  {
   "cell_type": "code",
   "execution_count": 46,
   "metadata": {},
   "outputs": [
    {
     "data": {
      "text/plain": [
       "<matplotlib.collections.PathCollection at 0x17d4995b240>"
      ]
     },
     "execution_count": 46,
     "metadata": {},
     "output_type": "execute_result"
    },
    {
     "data": {
      "image/png": "[encoded data removed]",
      "text/plain": [
       "<Figure size 432x288 with 1 Axes>"
      ]
     },
     "metadata": {},
     "output_type": "display_data"
    }
   ],
   "source": [
    "plt.scatter(pred, actual-pred, s=80,marker=\"*\")"
   ]
  },
  {
   "cell_type": "code",
   "execution_count": 47,
   "metadata": {},
   "outputs": [
    {
     "data": {
      "text/plain": [
       "(array([ 27.,   8.,  27.,  26.,  38.,  51.,  99., 156., 223., 113.]),\n",
       " array([0.        , 0.14333654, 0.28667308, 0.43000961, 0.57334615,\n",
       "        0.71668269, 0.86001923, 1.00335576, 1.1466923 , 1.29002884,\n",
       "        1.43336538]),\n",
       " <a list of 10 Patch objects>)"
      ]
     },
     "execution_count": 47,
     "metadata": {},
     "output_type": "execute_result"
    },
    {
     "data": {
      "image/png": "[encoded data removed]",
      "text/plain": [
       "<Figure size 432x288 with 1 Axes>"
      ]
     },
     "metadata": {},
     "output_type": "display_data"
    }
   ],
   "source": [
    "plt.hist(y_train[\"clust_RCSI\"] , 10, facecolor='blue', alpha=0.5)"
   ]
  },
  {
   "cell_type": "code",
   "execution_count": 45,
   "metadata": {},
   "outputs": [
    {
     "data": {
      "text/plain": [
       "0.19468275681439867"
      ]
     },
     "execution_count": 45,
     "metadata": {},
     "output_type": "execute_result"
    }
   ],
   "source": [
    "from sklearn.linear_model import ElasticNet\n",
    "from sklearn.model_selection import GridSearchCV\n",
    "\n",
    "alpha = [1E-4, 1E-2, 0.1, 1.0]\n",
    "\n",
    "\n",
    "en = ElasticNet()\n",
    "\n",
    "parameters = {'l1_ratio':np.arange( 0.1, 0.4, 0.05 ).tolist(), 'alpha':np.arange( 0.1, 0.3, 0.05 ).tolist()}\n",
    "clf = GridSearchCV(en, parameters,cv=5, n_jobs= 4, iid = True,  refit= True,pre_dispatch= '2*n_jobs')\n",
    "clf.fit(x_train, y_train[labels[0]])\n",
    "\n",
    "pred = clf.predict(x_test)\n",
    "\n",
    "actual = y_test[\"clust_RCSI\"]\n",
    "r2_en= stats.pearsonr(actual, pred)[0] ** 2\n",
    "r2_en\n"
   ]
  },
  {
   "cell_type": "code",
   "execution_count": 38,
   "metadata": {},
   "outputs": [
    {
     "data": {
      "text/plain": [
       "0.07500623916052811"
      ]
     },
     "execution_count": 38,
     "metadata": {},
     "output_type": "execute_result"
    }
   ],
   "source": [
    "from sklearn.ensemble import GradientBoostingRegressor\n",
    "\n",
    "# Create Regressor with default properties\n",
    "gbr = GradientBoostingRegressor(random_state=0)\n",
    "\n",
    "gbr.fit(x_train, y_train[\"clust_RCSI\"])\n",
    "pred = gbr.predict(x_test)\n",
    "\n",
    "actual = y_test[\"clust_RCSI\"]\n",
    "r2_gbr= stats.pearsonr(actual, pred)[0] ** 2\n",
    "r2_gbr\n"
   ]
  },
  {
   "cell_type": "code",
   "execution_count": null,
   "metadata": {
    "collapsed": true
   },
   "outputs": [],
   "source": []
  }
 ],
 "metadata": {
  "kernelspec": {
   "display_name": "Python 3",
   "language": "python",
   "name": "python3"
  },
  "language_info": {
   "codemirror_mode": {
    "name": "ipython",
    "version": 3
   },
   "file_extension": ".py",
   "mimetype": "text/x-python",
   "name": "python",
   "nbconvert_exporter": "python",
   "pygments_lexer": "ipython3",
   "version": "3.6.5"
  }
 },
 "nbformat": 4,
 "nbformat_minor": 2
}
