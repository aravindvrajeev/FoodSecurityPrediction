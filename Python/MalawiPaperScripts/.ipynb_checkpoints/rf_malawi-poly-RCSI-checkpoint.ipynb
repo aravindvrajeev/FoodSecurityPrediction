{
 "cells": [
  {
   "cell_type": "code",
   "execution_count": 1,
   "metadata": {},
   "outputs": [],
   "source": [
    "# Set up Notebook\n",
    "% matplotlib inline\n",
    "\n",
    "# Standard imports\n",
    "from sklearn.model_selection import GridSearchCV\n",
    "\n",
    "import numpy as np\n",
    "import pandas as pd\n",
    "import matplotlib.pyplot as plt\n",
    "import seaborn as sns\n",
    "import scipy.stats as stats\n",
    "from matplotlib import cm\n",
    "\n",
    "\n",
    "# We do this to ignore several specific Pandas warnings\n",
    "import warnings\n",
    "warnings.filterwarnings('ignore')\n",
    "from sklearn.metrics import explained_variance_score\n",
    "from sklearn.metrics import mean_absolute_error\n",
    "from sklearn.metrics import mean_squared_error\n",
    "from sklearn.metrics import median_absolute_error\n",
    "from sklearn.metrics import r2_score"
   ]
  },
  {
   "cell_type": "code",
   "execution_count": 2,
   "metadata": {},
   "outputs": [],
   "source": [
    "train_data = pd.read_csv('train.csv')\n",
    "test_data = pd.read_csv('test.csv')\n",
    "labels = ['clust_logFCS', 'clust_RCSI', 'clust_HDDS']"
   ]
  },
  {
   "cell_type": "code",
   "execution_count": 9,
   "metadata": {},
   "outputs": [
    {
     "data": {
      "text/html": [
       "<div>\n",
       "<style scoped>\n",
       "    .dataframe tbody tr th:only-of-type {\n",
       "        vertical-align: middle;\n",
       "    }\n",
       "\n",
       "    .dataframe tbody tr th {\n",
       "        vertical-align: top;\n",
       "    }\n",
       "\n",
       "    .dataframe thead th {\n",
       "        text-align: right;\n",
       "    }\n",
       "</style>\n",
       "<table border=\"1\" class=\"dataframe\">\n",
       "  <thead>\n",
       "    <tr style=\"text-align: right;\">\n",
       "      <th></th>\n",
       "      <th>clust_L12raincytot</th>\n",
       "      <th>clust_L12day1rain</th>\n",
       "      <th>clust_L12maxdays</th>\n",
       "      <th>clust_floodmax</th>\n",
       "      <th>clust_cells_own</th>\n",
       "      <th>clust_price</th>\n",
       "      <th>clust_thinn</th>\n",
       "      <th>clust_roof</th>\n",
       "      <th>clust_hhsize</th>\n",
       "      <th>clust_hh_age</th>\n",
       "      <th>clust_hh_gender</th>\n",
       "      <th>clust_asset</th>\n",
       "      <th>clust_dist_road</th>\n",
       "      <th>clust_dist_admarc</th>\n",
       "      <th>clust_percent_ag</th>\n",
       "      <th>clust_nutri_reten_constrained</th>\n",
       "      <th>clust_elevation</th>\n",
       "      <th>ipc_lag1</th>\n",
       "      <th>ipc_lag12</th>\n",
       "    </tr>\n",
       "  </thead>\n",
       "  <tbody>\n",
       "    <tr>\n",
       "      <th>0</th>\n",
       "      <td>1090.06130</td>\n",
       "      <td>43</td>\n",
       "      <td>17</td>\n",
       "      <td>0.0</td>\n",
       "      <td>0.1250</td>\n",
       "      <td>3.824215</td>\n",
       "      <td>0.359375</td>\n",
       "      <td>0.1250</td>\n",
       "      <td>5.4375</td>\n",
       "      <td>41.6250</td>\n",
       "      <td>1.2500</td>\n",
       "      <td>-0.327686</td>\n",
       "      <td>1.395625</td>\n",
       "      <td>5.176875</td>\n",
       "      <td>0.6000</td>\n",
       "      <td>0.0000</td>\n",
       "      <td>1311.8750</td>\n",
       "      <td>1.0</td>\n",
       "      <td>NaN</td>\n",
       "    </tr>\n",
       "    <tr>\n",
       "      <th>1</th>\n",
       "      <td>855.86176</td>\n",
       "      <td>58</td>\n",
       "      <td>40</td>\n",
       "      <td>0.0</td>\n",
       "      <td>0.4375</td>\n",
       "      <td>3.917409</td>\n",
       "      <td>0.250000</td>\n",
       "      <td>0.1875</td>\n",
       "      <td>5.6875</td>\n",
       "      <td>36.5625</td>\n",
       "      <td>1.3125</td>\n",
       "      <td>-0.202549</td>\n",
       "      <td>0.756875</td>\n",
       "      <td>5.408750</td>\n",
       "      <td>0.6000</td>\n",
       "      <td>0.9375</td>\n",
       "      <td>496.0000</td>\n",
       "      <td>1.0</td>\n",
       "      <td>NaN</td>\n",
       "    </tr>\n",
       "    <tr>\n",
       "      <th>2</th>\n",
       "      <td>1300.24370</td>\n",
       "      <td>53</td>\n",
       "      <td>29</td>\n",
       "      <td>0.0</td>\n",
       "      <td>1.5000</td>\n",
       "      <td>3.683867</td>\n",
       "      <td>0.250000</td>\n",
       "      <td>0.5000</td>\n",
       "      <td>6.3750</td>\n",
       "      <td>40.4375</td>\n",
       "      <td>1.3750</td>\n",
       "      <td>0.548275</td>\n",
       "      <td>0.163125</td>\n",
       "      <td>17.038126</td>\n",
       "      <td>0.4500</td>\n",
       "      <td>1.0000</td>\n",
       "      <td>526.7500</td>\n",
       "      <td>1.0</td>\n",
       "      <td>NaN</td>\n",
       "    </tr>\n",
       "    <tr>\n",
       "      <th>3</th>\n",
       "      <td>1036.97120</td>\n",
       "      <td>52</td>\n",
       "      <td>29</td>\n",
       "      <td>0.0</td>\n",
       "      <td>0.6250</td>\n",
       "      <td>4.061391</td>\n",
       "      <td>0.500000</td>\n",
       "      <td>0.2500</td>\n",
       "      <td>5.4375</td>\n",
       "      <td>46.8750</td>\n",
       "      <td>1.1875</td>\n",
       "      <td>-0.077412</td>\n",
       "      <td>5.803750</td>\n",
       "      <td>7.724375</td>\n",
       "      <td>0.4375</td>\n",
       "      <td>0.0000</td>\n",
       "      <td>564.1875</td>\n",
       "      <td>1.0</td>\n",
       "      <td>NaN</td>\n",
       "    </tr>\n",
       "    <tr>\n",
       "      <th>4</th>\n",
       "      <td>952.18280</td>\n",
       "      <td>54</td>\n",
       "      <td>25</td>\n",
       "      <td>0.0</td>\n",
       "      <td>0.5625</td>\n",
       "      <td>3.879500</td>\n",
       "      <td>0.250000</td>\n",
       "      <td>0.0625</td>\n",
       "      <td>7.0000</td>\n",
       "      <td>43.8125</td>\n",
       "      <td>1.0000</td>\n",
       "      <td>-0.202549</td>\n",
       "      <td>11.286875</td>\n",
       "      <td>11.103125</td>\n",
       "      <td>0.4875</td>\n",
       "      <td>1.0000</td>\n",
       "      <td>1539.9375</td>\n",
       "      <td>1.0</td>\n",
       "      <td>NaN</td>\n",
       "    </tr>\n",
       "  </tbody>\n",
       "</table>\n",
       "</div>"
      ],
      "text/plain": [
       "   clust_L12raincytot  clust_L12day1rain  clust_L12maxdays  clust_floodmax  \\\n",
       "0          1090.06130                 43                17             0.0   \n",
       "1           855.86176                 58                40             0.0   \n",
       "2          1300.24370                 53                29             0.0   \n",
       "3          1036.97120                 52                29             0.0   \n",
       "4           952.18280                 54                25             0.0   \n",
       "\n",
       "   clust_cells_own  clust_price  clust_thinn  clust_roof  clust_hhsize  \\\n",
       "0           0.1250     3.824215     0.359375      0.1250        5.4375   \n",
       "1           0.4375     3.917409     0.250000      0.1875        5.6875   \n",
       "2           1.5000     3.683867     0.250000      0.5000        6.3750   \n",
       "3           0.6250     4.061391     0.500000      0.2500        5.4375   \n",
       "4           0.5625     3.879500     0.250000      0.0625        7.0000   \n",
       "\n",
       "   clust_hh_age  clust_hh_gender  clust_asset  clust_dist_road  \\\n",
       "0       41.6250           1.2500    -0.327686         1.395625   \n",
       "1       36.5625           1.3125    -0.202549         0.756875   \n",
       "2       40.4375           1.3750     0.548275         0.163125   \n",
       "3       46.8750           1.1875    -0.077412         5.803750   \n",
       "4       43.8125           1.0000    -0.202549        11.286875   \n",
       "\n",
       "   clust_dist_admarc  clust_percent_ag  clust_nutri_reten_constrained  \\\n",
       "0           5.176875            0.6000                         0.0000   \n",
       "1           5.408750            0.6000                         0.9375   \n",
       "2          17.038126            0.4500                         1.0000   \n",
       "3           7.724375            0.4375                         0.0000   \n",
       "4          11.103125            0.4875                         1.0000   \n",
       "\n",
       "   clust_elevation  ipc_lag1  ipc_lag12  \n",
       "0        1311.8750       1.0        NaN  \n",
       "1         496.0000       1.0        NaN  \n",
       "2         526.7500       1.0        NaN  \n",
       "3         564.1875       1.0        NaN  \n",
       "4        1539.9375       1.0        NaN  "
      ]
     },
     "execution_count": 9,
     "metadata": {},
     "output_type": "execute_result"
    }
   ],
   "source": [
    "x_train=train_data.drop(labels, axis=1)\n",
    "x_train = x_train.drop(x_train.columns[0], axis=1)\n",
    "x_test=test_data.drop(labels, axis=1)\n",
    "x_test = x_test.drop(x_test.columns[0], axis=1)\n",
    "\n",
    "x_train.head()"
   ]
  },
  {
   "cell_type": "code",
   "execution_count": 10,
   "metadata": {},
   "outputs": [
    {
     "data": {
      "text/html": [
       "<div>\n",
       "<style scoped>\n",
       "    .dataframe tbody tr th:only-of-type {\n",
       "        vertical-align: middle;\n",
       "    }\n",
       "\n",
       "    .dataframe tbody tr th {\n",
       "        vertical-align: top;\n",
       "    }\n",
       "\n",
       "    .dataframe thead th {\n",
       "        text-align: right;\n",
       "    }\n",
       "</style>\n",
       "<table border=\"1\" class=\"dataframe\">\n",
       "  <thead>\n",
       "    <tr style=\"text-align: right;\">\n",
       "      <th></th>\n",
       "      <th>clust_logFCS</th>\n",
       "      <th>clust_RCSI</th>\n",
       "      <th>clust_HDDS</th>\n",
       "    </tr>\n",
       "  </thead>\n",
       "  <tbody>\n",
       "    <tr>\n",
       "      <th>0</th>\n",
       "      <td>3.666015</td>\n",
       "      <td>12.312500</td>\n",
       "      <td>4.687500</td>\n",
       "    </tr>\n",
       "    <tr>\n",
       "      <th>1</th>\n",
       "      <td>3.718879</td>\n",
       "      <td>5.352941</td>\n",
       "      <td>5.235294</td>\n",
       "    </tr>\n",
       "    <tr>\n",
       "      <th>2</th>\n",
       "      <td>3.799830</td>\n",
       "      <td>5.080000</td>\n",
       "      <td>5.720000</td>\n",
       "    </tr>\n",
       "    <tr>\n",
       "      <th>3</th>\n",
       "      <td>3.844891</td>\n",
       "      <td>4.285714</td>\n",
       "      <td>5.095238</td>\n",
       "    </tr>\n",
       "    <tr>\n",
       "      <th>4</th>\n",
       "      <td>3.687936</td>\n",
       "      <td>0.812500</td>\n",
       "      <td>5.312500</td>\n",
       "    </tr>\n",
       "  </tbody>\n",
       "</table>\n",
       "</div>"
      ],
      "text/plain": [
       "   clust_logFCS  clust_RCSI  clust_HDDS\n",
       "0      3.666015   12.312500    4.687500\n",
       "1      3.718879    5.352941    5.235294\n",
       "2      3.799830    5.080000    5.720000\n",
       "3      3.844891    4.285714    5.095238\n",
       "4      3.687936    0.812500    5.312500"
      ]
     },
     "execution_count": 10,
     "metadata": {},
     "output_type": "execute_result"
    }
   ],
   "source": [
    "y_train = train_data[labels]\n",
    "y_test = test_data[labels]\n",
    "y_test.head()"
   ]
  },
  {
   "cell_type": "code",
   "execution_count": 11,
   "metadata": {},
   "outputs": [],
   "source": [
    "from sklearn.preprocessing import Imputer,StandardScaler\n",
    "\n",
    "imp = Imputer(missing_values='NaN', strategy='mean', axis=0, copy=False)\n",
    "x_train = imp.fit_transform(x_train)\n",
    "x_test = imp.fit_transform(x_test)\n",
    "\n",
    "ss = StandardScaler()\n",
    "x_train = ss.fit_transform(x_train)\n",
    "x_test = ss.fit_transform(x_test)\n"
   ]
  },
  {
   "cell_type": "code",
   "execution_count": 7,
   "metadata": {},
   "outputs": [],
   "source": [
    "from sklearn.preprocessing import PolynomialFeatures\n",
    "poly = PolynomialFeatures(2)\n",
    "x_train = poly.fit_transform(x_train)\n",
    "x_test =  poly.fit_transform(x_test)\n",
    "\n"
   ]
  },
  {
   "cell_type": "code",
   "execution_count": 20,
   "metadata": {},
   "outputs": [],
   "source": [
    "import numpy as np\n",
    "y_train_new = np.arcsinh(np.array ( y_train[labels[1]])) \n",
    "y_test_new = np.arcsinh(np.array (y_test[labels[1]])) "
   ]
  },
  {
   "cell_type": "code",
   "execution_count": 21,
   "metadata": {},
   "outputs": [
    {
     "data": {
      "text/plain": [
       "0.12297431987562661"
      ]
     },
     "execution_count": 21,
     "metadata": {},
     "output_type": "execute_result"
    }
   ],
   "source": [
    "from sklearn.linear_model import LinearRegression\n",
    "\n",
    "# Create and fit our linear regression model to training data\n",
    "model = LinearRegression(fit_intercept=True)\n",
    "model.fit(x_train, y_train_new)\n",
    "\n",
    "# Compute model predictions for test data\n",
    "pred = model.predict(x_test)\n",
    "\n",
    "actual =y_test_new\n",
    "r2_linear = stats.pearsonr(actual, pred)[0] ** 2\n",
    "r2_linear"
   ]
  },
  {
   "cell_type": "code",
   "execution_count": 22,
   "metadata": {},
   "outputs": [
    {
     "data": {
      "text/plain": [
       "0.04498710944727587"
      ]
     },
     "execution_count": 22,
     "metadata": {},
     "output_type": "execute_result"
    }
   ],
   "source": [
    "# fit on logFCS \n",
    "from sklearn.ensemble import RandomForestRegressor\n",
    "\n",
    "# Create Regressor with default properties\n",
    "rfc = RandomForestRegressor(random_state =0,n_jobs =4,warm_start = True)\n",
    "\n",
    "parameters = {'max_depth':np.arange( 1,4, 1 ).tolist(), 'min_samples_leaf':np.arange( 1, 4, 1 ).tolist()}\n",
    "clf = GridSearchCV(rfc, parameters,cv=6, n_jobs= 4, iid = True,  refit= True,pre_dispatch= '2*n_jobs')\n",
    "clf.fit(x_train, y_train_new)\n",
    "\n",
    "# Fit estimator and display score\n",
    "\n",
    "# Regress on test data\n",
    "pred = clf.predict(x_test)\n",
    "\n",
    "actual =y_test_new\n",
    "r2_rfc = stats.pearsonr(actual, pred)[0] ** 2\n",
    "r2_rfc"
   ]
  },
  {
   "cell_type": "code",
   "execution_count": 23,
   "metadata": {},
   "outputs": [
    {
     "data": {
      "text/plain": [
       "0.042360029938019406"
      ]
     },
     "execution_count": 23,
     "metadata": {},
     "output_type": "execute_result"
    }
   ],
   "source": [
    "# fit on logFCS \n",
    "from sklearn.ensemble import RandomForestRegressor\n",
    "\n",
    "# Create Regressor with default properties\n",
    "rfc = RandomForestRegressor(random_state =0,n_jobs =4,warm_start = True,max_depth=4, min_samples_leaf=5 )\n",
    "\n",
    "rfc.fit(x_train, y_train_new)\n",
    "# Fit estimator and display score\n",
    "\n",
    "# Regress on test data\n",
    "pred = rfc.predict(x_test)\n",
    "\n",
    "actual =y_test_new\n",
    "r2_rfc = stats.pearsonr(actual, pred)[0] ** 2\n",
    "r2_rfc"
   ]
  },
  {
   "cell_type": "code",
   "execution_count": 34,
   "metadata": {},
   "outputs": [
    {
     "data": {
      "text/plain": [
       "0.12296352897584324"
      ]
     },
     "execution_count": 34,
     "metadata": {},
     "output_type": "execute_result"
    }
   ],
   "source": [
    "from sklearn.linear_model import RidgeCV\n",
    "ridge = RidgeCV(alphas=(0.2,0.6,0.01), fit_intercept=True, normalize=False, scoring=None, cv=5, gcv_mode='auto', store_cv_values=False) \n",
    "\n",
    "# Define different alpha values for different fits\n",
    "# alpha = [0.0, 1E-6, 1E-4, 1E-2, 1.0]\n",
    "\n",
    "ridge.fit(x_train, y_train_new)\n",
    "pred = ridge.predict(x_test)\n",
    "\n",
    "actual =y_test_new\n",
    "r2_ridge= stats.pearsonr(actual, pred)[0] ** 2\n",
    "r2_ridge"
   ]
  },
  {
   "cell_type": "code",
   "execution_count": 35,
   "metadata": {},
   "outputs": [
    {
     "data": {
      "text/plain": [
       "0.12311634209636622"
      ]
     },
     "execution_count": 35,
     "metadata": {},
     "output_type": "execute_result"
    }
   ],
   "source": [
    "from sklearn.linear_model import BayesianRidge\n",
    "bridge = BayesianRidge(compute_score=True)\n",
    "bridge.fit(x_train, y_train_new)\n",
    "pred = bridge.predict(x_test)\n",
    "\n",
    "actual =y_test_new\n",
    "r2_bridge= stats.pearsonr(actual, pred)[0] ** 2\n",
    "r2_bridge"
   ]
  },
  {
   "cell_type": "code",
   "execution_count": 113,
   "metadata": {},
   "outputs": [
    {
     "data": {
      "text/plain": [
       "0.12092485754124149"
      ]
     },
     "execution_count": 113,
     "metadata": {},
     "output_type": "execute_result"
    }
   ],
   "source": [
    "from sklearn.linear_model import LassoCV\n",
    "\n",
    "ls = LassoCV(eps=0.001, n_alphas=100, alphas=(2.1,3,0.1), fit_intercept=True,precompute='auto',n_jobs=4, random_state=0, selection='cyclic')\n",
    "\n",
    "ls = ls.fit(x_train, y_train_new)\n",
    "pred = ls.predict(x_test)\n",
    "\n",
    "actual =y_test_new\n",
    "r2_ls= stats.pearsonr(actual, pred)[0] ** 2\n",
    "r2_ls"
   ]
  },
  {
   "cell_type": "code",
   "execution_count": 141,
   "metadata": {},
   "outputs": [
    {
     "data": {
      "text/plain": [
       "0.12006059193359798"
      ]
     },
     "execution_count": 141,
     "metadata": {},
     "output_type": "execute_result"
    }
   ],
   "source": [
    "from sklearn.linear_model import ElasticNetCV\n",
    "en = ElasticNetCV(alphas=(1,4,0.1), copy_X=True, cv=5, eps=0.01, fit_intercept=True,\n",
    "       l1_ratio=0.3, max_iter=1000, n_alphas=100, n_jobs=1,\n",
    "       normalize=False, positive=False, precompute='auto', random_state=0,\n",
    "       selection='cyclic', tol=0.0001, verbose=0)\n",
    "\n",
    "en.fit(x_train, y_train_new)\n",
    "\n",
    "pred = en.predict(x_test)\n",
    "\n",
    "actual =y_test_new\n",
    "r2_en= stats.pearsonr(actual, pred)[0] ** 2\n",
    "r2_en\n"
   ]
  },
  {
   "cell_type": "code",
   "execution_count": 134,
   "metadata": {},
   "outputs": [
    {
     "data": {
      "text/plain": [
       "0.06581221706443534"
      ]
     },
     "execution_count": 134,
     "metadata": {},
     "output_type": "execute_result"
    }
   ],
   "source": [
    "from sklearn.ensemble import GradientBoostingRegressor\n",
    "\n",
    "# Create Regressor with default properties\n",
    "gbr = GradientBoostingRegressor(random_state=0,learning_rate=0.4, n_estimators=9,subsample=1, criterion='friedman_mse', min_samples_split=2)\n",
    "\n",
    "gbr.fit(x_train, y_train_new)\n",
    "pred = gbr.predict(x_test)\n",
    "\n",
    "actual =y_test_new\n",
    "r2_gbr= stats.pearsonr(actual, pred)[0] ** 2\n",
    "r2_gbr\n"
   ]
  },
  {
   "cell_type": "code",
   "execution_count": null,
   "metadata": {},
   "outputs": [],
   "source": []
  }
 ],
 "metadata": {
  "kernelspec": {
   "display_name": "Python 3",
   "language": "python",
   "name": "python3"
  },
  "language_info": {
   "codemirror_mode": {
    "name": "ipython",
    "version": 3
   },
   "file_extension": ".py",
   "mimetype": "text/x-python",
   "name": "python",
   "nbconvert_exporter": "python",
   "pygments_lexer": "ipython3",
   "version": "3.6.4"
  }
 },
 "nbformat": 4,
 "nbformat_minor": 2
}
