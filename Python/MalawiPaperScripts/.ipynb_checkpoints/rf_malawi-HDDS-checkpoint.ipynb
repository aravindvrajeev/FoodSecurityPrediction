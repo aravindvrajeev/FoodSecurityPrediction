{
 "cells": [
  {
   "cell_type": "code",
   "execution_count": 106,
   "metadata": {},
   "outputs": [],
   "source": [
    "# Set up Notebook\n",
    "% matplotlib inline\n",
    "\n",
    "# Standard imports\n",
    "import numpy as np\n",
    "import pandas as pd\n",
    "import matplotlib.pyplot as plt\n",
    "import seaborn as sns\n",
    "import scipy.stats as stats\n",
    "from matplotlib import cm\n",
    "from sklearn.model_selection import GridSearchCV\n",
    "\n",
    "# We do this to ignore several specific Pandas warnings\n",
    "import warnings\n",
    "warnings.filterwarnings('ignore')\n",
    "from sklearn.metrics import explained_variance_score\n",
    "from sklearn.metrics import mean_absolute_error\n",
    "from sklearn.metrics import mean_squared_error\n",
    "from sklearn.metrics import median_absolute_error\n",
    "from sklearn.metrics import r2_score"
   ]
  },
  {
   "cell_type": "code",
   "execution_count": 107,
   "metadata": {},
   "outputs": [],
   "source": [
    "train_data = pd.read_csv('train.csv')\n",
    "test_data = pd.read_csv('test.csv')\n",
    " \n",
    "df = train_data.append(test_data, ignore_index=True)\n",
    "df = df.dropna(axis=1, how='all')\n",
    "df = df.dropna(axis=0, how='any')\n",
    "labels = ['clust_logFCS', 'clust_RCSI', 'clust_HDDS']\n",
    "X=df.drop(labels, axis=1)\n",
    "y = df[labels]\n",
    "\n",
    "\n",
    "from sklearn.model_selection import train_test_split\n",
    "\n",
    "x_train, x_test, y_train, y_test = train_test_split(\n",
    "     X, y, test_size=0.33, random_state=42)\n",
    "\n",
    "\n"
   ]
  },
  {
   "cell_type": "code",
   "execution_count": 108,
   "metadata": {},
   "outputs": [
    {
     "data": {
      "text/html": [
       "<div>\n",
       "<style scoped>\n",
       "    .dataframe tbody tr th:only-of-type {\n",
       "        vertical-align: middle;\n",
       "    }\n",
       "\n",
       "    .dataframe tbody tr th {\n",
       "        vertical-align: top;\n",
       "    }\n",
       "\n",
       "    .dataframe thead th {\n",
       "        text-align: right;\n",
       "    }\n",
       "</style>\n",
       "<table border=\"1\" class=\"dataframe\">\n",
       "  <thead>\n",
       "    <tr style=\"text-align: right;\">\n",
       "      <th></th>\n",
       "      <th>clust_L12raincytot</th>\n",
       "      <th>clust_L12day1rain</th>\n",
       "      <th>clust_L12maxdays</th>\n",
       "      <th>clust_floodmax</th>\n",
       "      <th>clust_cells_own</th>\n",
       "      <th>clust_price</th>\n",
       "      <th>clust_thinn</th>\n",
       "      <th>clust_roof</th>\n",
       "      <th>clust_hhsize</th>\n",
       "      <th>clust_hh_age</th>\n",
       "      <th>clust_hh_gender</th>\n",
       "      <th>clust_asset</th>\n",
       "      <th>clust_dist_road</th>\n",
       "      <th>clust_dist_admarc</th>\n",
       "      <th>clust_percent_ag</th>\n",
       "      <th>clust_nutri_reten_constrained</th>\n",
       "      <th>clust_elevation</th>\n",
       "      <th>ipc_lag1</th>\n",
       "      <th>ipc_lag12</th>\n",
       "    </tr>\n",
       "  </thead>\n",
       "  <tbody>\n",
       "    <tr>\n",
       "      <th>0</th>\n",
       "      <td>1090.06130</td>\n",
       "      <td>43</td>\n",
       "      <td>17</td>\n",
       "      <td>0.0</td>\n",
       "      <td>0.1250</td>\n",
       "      <td>3.824215</td>\n",
       "      <td>0.359375</td>\n",
       "      <td>0.1250</td>\n",
       "      <td>5.4375</td>\n",
       "      <td>41.6250</td>\n",
       "      <td>1.2500</td>\n",
       "      <td>-0.327686</td>\n",
       "      <td>1.395625</td>\n",
       "      <td>5.176875</td>\n",
       "      <td>0.6000</td>\n",
       "      <td>0.0000</td>\n",
       "      <td>1311.8750</td>\n",
       "      <td>1.0</td>\n",
       "      <td>NaN</td>\n",
       "    </tr>\n",
       "    <tr>\n",
       "      <th>1</th>\n",
       "      <td>855.86176</td>\n",
       "      <td>58</td>\n",
       "      <td>40</td>\n",
       "      <td>0.0</td>\n",
       "      <td>0.4375</td>\n",
       "      <td>3.917409</td>\n",
       "      <td>0.250000</td>\n",
       "      <td>0.1875</td>\n",
       "      <td>5.6875</td>\n",
       "      <td>36.5625</td>\n",
       "      <td>1.3125</td>\n",
       "      <td>-0.202549</td>\n",
       "      <td>0.756875</td>\n",
       "      <td>5.408750</td>\n",
       "      <td>0.6000</td>\n",
       "      <td>0.9375</td>\n",
       "      <td>496.0000</td>\n",
       "      <td>1.0</td>\n",
       "      <td>NaN</td>\n",
       "    </tr>\n",
       "    <tr>\n",
       "      <th>2</th>\n",
       "      <td>1300.24370</td>\n",
       "      <td>53</td>\n",
       "      <td>29</td>\n",
       "      <td>0.0</td>\n",
       "      <td>1.5000</td>\n",
       "      <td>3.683867</td>\n",
       "      <td>0.250000</td>\n",
       "      <td>0.5000</td>\n",
       "      <td>6.3750</td>\n",
       "      <td>40.4375</td>\n",
       "      <td>1.3750</td>\n",
       "      <td>0.548275</td>\n",
       "      <td>0.163125</td>\n",
       "      <td>17.038126</td>\n",
       "      <td>0.4500</td>\n",
       "      <td>1.0000</td>\n",
       "      <td>526.7500</td>\n",
       "      <td>1.0</td>\n",
       "      <td>NaN</td>\n",
       "    </tr>\n",
       "    <tr>\n",
       "      <th>3</th>\n",
       "      <td>1036.97120</td>\n",
       "      <td>52</td>\n",
       "      <td>29</td>\n",
       "      <td>0.0</td>\n",
       "      <td>0.6250</td>\n",
       "      <td>4.061391</td>\n",
       "      <td>0.500000</td>\n",
       "      <td>0.2500</td>\n",
       "      <td>5.4375</td>\n",
       "      <td>46.8750</td>\n",
       "      <td>1.1875</td>\n",
       "      <td>-0.077412</td>\n",
       "      <td>5.803750</td>\n",
       "      <td>7.724375</td>\n",
       "      <td>0.4375</td>\n",
       "      <td>0.0000</td>\n",
       "      <td>564.1875</td>\n",
       "      <td>1.0</td>\n",
       "      <td>NaN</td>\n",
       "    </tr>\n",
       "    <tr>\n",
       "      <th>4</th>\n",
       "      <td>952.18280</td>\n",
       "      <td>54</td>\n",
       "      <td>25</td>\n",
       "      <td>0.0</td>\n",
       "      <td>0.5625</td>\n",
       "      <td>3.879500</td>\n",
       "      <td>0.250000</td>\n",
       "      <td>0.0625</td>\n",
       "      <td>7.0000</td>\n",
       "      <td>43.8125</td>\n",
       "      <td>1.0000</td>\n",
       "      <td>-0.202549</td>\n",
       "      <td>11.286875</td>\n",
       "      <td>11.103125</td>\n",
       "      <td>0.4875</td>\n",
       "      <td>1.0000</td>\n",
       "      <td>1539.9375</td>\n",
       "      <td>1.0</td>\n",
       "      <td>NaN</td>\n",
       "    </tr>\n",
       "  </tbody>\n",
       "</table>\n",
       "</div>"
      ],
      "text/plain": [
       "   clust_L12raincytot  clust_L12day1rain  clust_L12maxdays  clust_floodmax  \\\n",
       "0          1090.06130                 43                17             0.0   \n",
       "1           855.86176                 58                40             0.0   \n",
       "2          1300.24370                 53                29             0.0   \n",
       "3          1036.97120                 52                29             0.0   \n",
       "4           952.18280                 54                25             0.0   \n",
       "\n",
       "   clust_cells_own  clust_price  clust_thinn  clust_roof  clust_hhsize  \\\n",
       "0           0.1250     3.824215     0.359375      0.1250        5.4375   \n",
       "1           0.4375     3.917409     0.250000      0.1875        5.6875   \n",
       "2           1.5000     3.683867     0.250000      0.5000        6.3750   \n",
       "3           0.6250     4.061391     0.500000      0.2500        5.4375   \n",
       "4           0.5625     3.879500     0.250000      0.0625        7.0000   \n",
       "\n",
       "   clust_hh_age  clust_hh_gender  clust_asset  clust_dist_road  \\\n",
       "0       41.6250           1.2500    -0.327686         1.395625   \n",
       "1       36.5625           1.3125    -0.202549         0.756875   \n",
       "2       40.4375           1.3750     0.548275         0.163125   \n",
       "3       46.8750           1.1875    -0.077412         5.803750   \n",
       "4       43.8125           1.0000    -0.202549        11.286875   \n",
       "\n",
       "   clust_dist_admarc  clust_percent_ag  clust_nutri_reten_constrained  \\\n",
       "0           5.176875            0.6000                         0.0000   \n",
       "1           5.408750            0.6000                         0.9375   \n",
       "2          17.038126            0.4500                         1.0000   \n",
       "3           7.724375            0.4375                         0.0000   \n",
       "4          11.103125            0.4875                         1.0000   \n",
       "\n",
       "   clust_elevation  ipc_lag1  ipc_lag12  \n",
       "0        1311.8750       1.0        NaN  \n",
       "1         496.0000       1.0        NaN  \n",
       "2         526.7500       1.0        NaN  \n",
       "3         564.1875       1.0        NaN  \n",
       "4        1539.9375       1.0        NaN  "
      ]
     },
     "execution_count": 108,
     "metadata": {},
     "output_type": "execute_result"
    }
   ],
   "source": [
    "x_train=train_data.drop(labels, axis=1)\n",
    "x_train = x_train.drop(x_train.columns[0], axis=1)\n",
    "x_test=test_data.drop(labels, axis=1)\n",
    "x_test = x_test.drop(x_test.columns[0], axis=1)\n",
    "\n",
    "x_train.head()"
   ]
  },
  {
   "cell_type": "code",
   "execution_count": 109,
   "metadata": {},
   "outputs": [
    {
     "data": {
      "text/html": [
       "<div>\n",
       "<style scoped>\n",
       "    .dataframe tbody tr th:only-of-type {\n",
       "        vertical-align: middle;\n",
       "    }\n",
       "\n",
       "    .dataframe tbody tr th {\n",
       "        vertical-align: top;\n",
       "    }\n",
       "\n",
       "    .dataframe thead th {\n",
       "        text-align: right;\n",
       "    }\n",
       "</style>\n",
       "<table border=\"1\" class=\"dataframe\">\n",
       "  <thead>\n",
       "    <tr style=\"text-align: right;\">\n",
       "      <th></th>\n",
       "      <th>clust_logFCS</th>\n",
       "      <th>clust_RCSI</th>\n",
       "      <th>clust_HDDS</th>\n",
       "    </tr>\n",
       "  </thead>\n",
       "  <tbody>\n",
       "    <tr>\n",
       "      <th>0</th>\n",
       "      <td>3.666015</td>\n",
       "      <td>12.312500</td>\n",
       "      <td>4.687500</td>\n",
       "    </tr>\n",
       "    <tr>\n",
       "      <th>1</th>\n",
       "      <td>3.718879</td>\n",
       "      <td>5.352941</td>\n",
       "      <td>5.235294</td>\n",
       "    </tr>\n",
       "    <tr>\n",
       "      <th>2</th>\n",
       "      <td>3.799830</td>\n",
       "      <td>5.080000</td>\n",
       "      <td>5.720000</td>\n",
       "    </tr>\n",
       "    <tr>\n",
       "      <th>3</th>\n",
       "      <td>3.844891</td>\n",
       "      <td>4.285714</td>\n",
       "      <td>5.095238</td>\n",
       "    </tr>\n",
       "    <tr>\n",
       "      <th>4</th>\n",
       "      <td>3.687936</td>\n",
       "      <td>0.812500</td>\n",
       "      <td>5.312500</td>\n",
       "    </tr>\n",
       "  </tbody>\n",
       "</table>\n",
       "</div>"
      ],
      "text/plain": [
       "   clust_logFCS  clust_RCSI  clust_HDDS\n",
       "0      3.666015   12.312500    4.687500\n",
       "1      3.718879    5.352941    5.235294\n",
       "2      3.799830    5.080000    5.720000\n",
       "3      3.844891    4.285714    5.095238\n",
       "4      3.687936    0.812500    5.312500"
      ]
     },
     "execution_count": 109,
     "metadata": {},
     "output_type": "execute_result"
    }
   ],
   "source": [
    "y_train = train_data[labels]\n",
    "y_test = test_data[labels]\n",
    "y_test.head()"
   ]
  },
  {
   "cell_type": "code",
   "execution_count": 110,
   "metadata": {},
   "outputs": [],
   "source": [
    "from sklearn.preprocessing import Imputer,StandardScaler\n",
    "\n",
    "imp = Imputer(missing_values='NaN', strategy='mean', axis=0, copy=False)\n",
    "x_train = imp.fit_transform(x_train)\n",
    "x_test = imp.fit_transform(x_test)\n",
    "\n",
    "ss = StandardScaler()\n",
    "x_train = ss.fit_transform(x_train)\n",
    "x_test = ss.fit_transform(x_test)\n"
   ]
  },
  {
   "cell_type": "markdown",
   "metadata": {},
   "source": [
    "from sklearn.preprocessing import PolynomialFeatures\n",
    "poly = PolynomialFeatures(2)\n",
    "x_train = poly.fit_transform(x_train)\n",
    "x_test =  poly.fit_transform(x_test)\n",
    "\n"
   ]
  },
  {
   "cell_type": "code",
   "execution_count": 111,
   "metadata": {},
   "outputs": [
    {
     "data": {
      "text/plain": [
       "0.6734380246541569"
      ]
     },
     "execution_count": 111,
     "metadata": {},
     "output_type": "execute_result"
    }
   ],
   "source": [
    "from sklearn.linear_model import LinearRegression\n",
    "\n",
    "# Create and fit our linear regression model to training data\n",
    "model = LinearRegression(fit_intercept=True)\n",
    "model.fit(x_train, y_train[labels[2]])\n",
    "\n",
    "# Compute model predictions for test data\n",
    "pred = model.predict(x_test)\n",
    "\n",
    "actual = y_test[labels[2]]\n",
    "r2_linear = stats.pearsonr(actual, pred)[0] ** 2\n",
    "r2_linear"
   ]
  },
  {
   "cell_type": "code",
   "execution_count": 112,
   "metadata": {},
   "outputs": [
    {
     "data": {
      "text/plain": [
       "<matplotlib.collections.PathCollection at 0x28287b18630>"
      ]
     },
     "execution_count": 112,
     "metadata": {},
     "output_type": "execute_result"
    },
    {
     "data": {
      "image/png": "[encoded data removed]",
      "text/plain": [
       "<Figure size 432x288 with 1 Axes>"
      ]
     },
     "metadata": {},
     "output_type": "display_data"
    }
   ],
   "source": [
    "import matplotlib.pyplot as plt\n",
    "plt.scatter(pred, actual-pred, s=80,marker=\"*\")"
   ]
  },
  {
   "cell_type": "code",
   "execution_count": 113,
   "metadata": {},
   "outputs": [
    {
     "data": {
      "text/plain": [
       "0.6262966235560714"
      ]
     },
     "execution_count": 113,
     "metadata": {},
     "output_type": "execute_result"
    }
   ],
   "source": [
    "# fit on logFCS \n",
    "from sklearn.ensemble import RandomForestRegressor\n",
    "\n",
    "# Create Regressor with default properties\n",
    "rfc = RandomForestRegressor(random_state =0,n_jobs =4,warm_start = True)\n",
    "\n",
    "parameters = {'max_depth':np.arange( 1,8, 1 ).tolist(), 'min_samples_leaf':np.arange( 1, 6, 1 ).tolist()}\n",
    "clf = GridSearchCV(rfc, parameters,cv=6, n_jobs= 4, iid = True,  refit= True,pre_dispatch= '2*n_jobs')\n",
    "clf.fit(x_train, y_train[labels[2]])\n",
    "\n",
    "# Fit estimator and display score\n",
    "\n",
    "# Regress on test data\n",
    "pred = clf.predict(x_test)\n",
    "actual = y_test[labels[2]]\n",
    "r2_rfc = stats.pearsonr(actual, pred)[0] ** 2\n",
    "r2_rfc"
   ]
  },
  {
   "cell_type": "code",
   "execution_count": null,
   "metadata": {},
   "outputs": [],
   "source": []
  },
  {
   "cell_type": "code",
   "execution_count": 10,
   "metadata": {},
   "outputs": [
    {
     "data": {
      "text/plain": [
       "GridSearchCV(cv=6, error_score='raise',\n",
       "       estimator=RandomForestRegressor(bootstrap=True, criterion='mse', max_depth=None,\n",
       "           max_features='auto', max_leaf_nodes=None,\n",
       "           min_impurity_decrease=0.0, min_impurity_split=None,\n",
       "           min_samples_leaf=1, min_samples_split=2,\n",
       "           min_weight_fraction_leaf=0.0, n_estimators=10, n_jobs=4,\n",
       "           oob_score=False, random_state=0, verbose=0, warm_start=True),\n",
       "       fit_params=None, iid=True, n_jobs=4,\n",
       "       param_grid={'max_depth': [1, 2, 3, 4, 5, 6, 7], 'min_samples_leaf': [1, 2, 3, 4, 5]},\n",
       "       pre_dispatch='2*n_jobs', refit=True, return_train_score='warn',\n",
       "       scoring=None, verbose=0)"
      ]
     },
     "execution_count": 10,
     "metadata": {},
     "output_type": "execute_result"
    }
   ],
   "source": [
    "clf"
   ]
  },
  {
   "cell_type": "code",
   "execution_count": 23,
   "metadata": {},
   "outputs": [
    {
     "data": {
      "text/plain": [
       "0.5957463292037657"
      ]
     },
     "execution_count": 23,
     "metadata": {},
     "output_type": "execute_result"
    }
   ],
   "source": [
    "rfr = RandomForestRegressor(bootstrap=True, criterion='mse', max_depth=6,\n",
    "           max_features='auto', max_leaf_nodes=None,\n",
    "           min_impurity_decrease=0.0, min_impurity_split=None,\n",
    "           min_samples_leaf=4, min_samples_split=2,\n",
    "           min_weight_fraction_leaf=0.0, n_estimators=10, n_jobs=4,\n",
    "           oob_score=False, random_state=0, verbose=0, warm_start=True)\n",
    "\n",
    "rfr.fit(x_train, y_train[labels[2]])\n",
    "\n",
    "pred = clf.predict(x_test)\n",
    "actual = y_test[labels[2]]\n",
    "r2_rfc = stats.pearsonr(actual, pred)[0] ** 2\n",
    "r2_rfc\n"
   ]
  },
  {
   "cell_type": "code",
   "execution_count": 114,
   "metadata": {
    "scrolled": true
   },
   "outputs": [
    {
     "name": "stdout",
     "output_type": "stream",
     "text": [
      "0 ('clust_cells_own', 0.6402334403578613)\n",
      "1 ('clust_asset', 0.09290878061180936)\n",
      "2 ('clust_roof', 0.05345327892946876)\n",
      "3 ('clust_dist_road', 0.04383872604306222)\n",
      "4 ('clust_L12raincytot', 0.02971125336572301)\n",
      "5 ('clust_hh_age', 0.02136685310924067)\n",
      "6 ('clust_price', 0.018549551027880244)\n",
      "7 ('clust_hhsize', 0.018482498104760974)\n",
      "8 ('clust_elevation', 0.016973404157524807)\n",
      "9 ('clust_L12day1rain', 0.015572987876717698)\n",
      "10 ('clust_dist_admarc', 0.013852549013430698)\n",
      "11 ('clust_thinn', 0.010185697255087648)\n",
      "12 ('clust_percent_ag', 0.00985857050270346)\n",
      "13 ('clust_hh_gender', 0.005126980778874259)\n",
      "14 ('clust_L12maxdays', 0.004552733578359249)\n",
      "15 ('clust_nutri_reten_constrained', 0.0026849031430097358)\n",
      "16 ('ipc_lag1', 0.0014344948212359546)\n",
      "17 ('clust_floodmax', 0.0011468217380702756)\n",
      "18 ('ipc_lag12', 6.647558517969495e-05)\n"
     ]
    }
   ],
   "source": [
    "importance_zip  = zip(X.columns[1:], rfr.feature_importances_)\n",
    "import operator\n",
    "\n",
    "for count,ele in enumerate(sorted(importance_zip,key=operator.itemgetter(1),reverse=True)): \n",
    "    print (count,ele) "
   ]
  },
  {
   "cell_type": "code",
   "execution_count": 28,
   "metadata": {},
   "outputs": [
    {
     "data": {
      "text/plain": [
       "0.5330376542707573"
      ]
     },
     "execution_count": 28,
     "metadata": {},
     "output_type": "execute_result"
    }
   ],
   "source": [
    "from sklearn.gaussian_process import  GaussianProcessRegressor\n",
    "\n",
    "# Import our kernels\n",
    "from sklearn.gaussian_process.kernels import Matern, WhiteKernel\n",
    "\n",
    "\n",
    "\n",
    "# Define custom kernel (Matern + noise)\n",
    "krnl = 2. + Matern(length_scale=1, nu=1.8) + WhiteKernel(noise_level=10)\n",
    "\n",
    "# Create Regressor with specified properties\n",
    "gpr = GaussianProcessRegressor(kernel=krnl, random_state=0)\n",
    "\n",
    "# Fit estimator and display score\n",
    "gpr= gpr.fit(x_train, y_train[labels[0]])\n",
    "pred = gpr.predict(x_test)\n",
    "actual = y_test[labels[0]]\n",
    "r2_gpr= stats.pearsonr(actual, pred)[0] ** 2\n",
    "r2_gpr\n",
    "\n"
   ]
  },
  {
   "cell_type": "code",
   "execution_count": 26,
   "metadata": {},
   "outputs": [
    {
     "data": {
      "text/plain": [
       "<matplotlib.collections.PathCollection at 0x28286313c50>"
      ]
     },
     "execution_count": 26,
     "metadata": {},
     "output_type": "execute_result"
    },
    {
     "data": {
      "image/png": "[encoded data removed]",
      "text/plain": [
       "<Figure size 432x288 with 1 Axes>"
      ]
     },
     "metadata": {},
     "output_type": "display_data"
    }
   ],
   "source": [
    "plt.scatter(pred, actual-pred, s=80,marker=\"*\")"
   ]
  },
  {
   "cell_type": "code",
   "execution_count": 15,
   "metadata": {},
   "outputs": [
    {
     "data": {
      "text/plain": [
       "0.6737645351454076"
      ]
     },
     "execution_count": 15,
     "metadata": {},
     "output_type": "execute_result"
    }
   ],
   "source": [
    "\n",
    "from sklearn.linear_model import Ridge\n",
    "\n",
    "# Define different alpha values for different fits\n",
    "alpha = [0.0, 1E-6, 1E-4, 1E-2, 1.0]\n",
    "\n",
    "ridge = Ridge(alpha=20,fit_intercept=False)\n",
    "\n",
    "ridge.fit(x_train, y_train[labels[2]])\n",
    "pred = ridge.predict(x_test)\n",
    "\n",
    "actual = y_test[labels[2]]\n",
    "r2_ridge= stats.pearsonr(actual, pred)[0] ** 2\n",
    "r2_ridge"
   ]
  },
  {
   "cell_type": "code",
   "execution_count": 40,
   "metadata": {},
   "outputs": [
    {
     "data": {
      "text/plain": [
       "0.6738857240185726"
      ]
     },
     "execution_count": 40,
     "metadata": {},
     "output_type": "execute_result"
    }
   ],
   "source": [
    "from sklearn.linear_model import BayesianRidge\n",
    "bridge = BayesianRidge(compute_score=True)\n",
    "bridge.fit(x_train, y_train[labels[2]])\n",
    "pred = bridge.predict(x_test)\n",
    "\n",
    "actual = y_test[labels[2]]\n",
    "r2_bridge= stats.pearsonr(actual, pred)[0] ** 2\n",
    "r2_bridge"
   ]
  },
  {
   "cell_type": "code",
   "execution_count": 31,
   "metadata": {},
   "outputs": [
    {
     "data": {
      "text/plain": [
       "0.576439882771866"
      ]
     },
     "execution_count": 31,
     "metadata": {},
     "output_type": "execute_result"
    }
   ],
   "source": [
    "from sklearn.linear_model import Lasso\n",
    "alpha = [1E-4, 1E-2, 0.1, 1.0]\n",
    "\n",
    "ls = Lasso(alpha=alpha[2], fit_intercept=True)\n",
    "\n",
    "\n",
    "ls = ls.fit(x_train, y_train[labels[0]])\n",
    "pred = ls.predict(x_test)\n",
    "\n",
    "actual = y_test[labels[0]]\n",
    "r2_ls= stats.pearsonr(actual, pred)[0] ** 2\n",
    "r2_ls"
   ]
  },
  {
   "cell_type": "code",
   "execution_count": 32,
   "metadata": {},
   "outputs": [
    {
     "name": "stdout",
     "output_type": "stream",
     "text": [
      "0 ('clust_cells_own', 0.04585031186221589)\n",
      "1 ('clust_L12raincytot', 0.0)\n",
      "2 ('clust_L12day1rain', -0.0)\n",
      "3 ('clust_L12maxdays', 0.0)\n",
      "4 ('clust_floodmax', -0.0)\n",
      "5 ('clust_price', -0.0)\n",
      "6 ('clust_thinn', -0.0)\n",
      "7 ('clust_roof', 0.0)\n",
      "8 ('clust_hhsize', -0.0)\n",
      "9 ('clust_hh_age', -0.0)\n",
      "10 ('clust_hh_gender', -0.0)\n",
      "11 ('clust_asset', 0.0)\n",
      "12 ('clust_dist_road', -0.0)\n",
      "13 ('clust_dist_admarc', 0.0)\n",
      "14 ('clust_percent_ag', -0.0)\n",
      "15 ('clust_nutri_reten_constrained', -0.0)\n",
      "16 ('clust_elevation', 0.0)\n",
      "17 ('ipc_lag1', -0.0)\n",
      "18 ('ipc_lag12', -0.0)\n"
     ]
    }
   ],
   "source": [
    "lasso_zip  = zip(X.columns[1:], ls.coef_)\n",
    "import operator\n",
    "\n",
    "for count,ele in enumerate(sorted(lasso_zip,key=operator.itemgetter(1),reverse=True)): \n",
    "    print (count,ele)"
   ]
  },
  {
   "cell_type": "code",
   "execution_count": 33,
   "metadata": {},
   "outputs": [
    {
     "data": {
      "text/plain": [
       "0.6756292473661467"
      ]
     },
     "execution_count": 33,
     "metadata": {},
     "output_type": "execute_result"
    }
   ],
   "source": [
    "from sklearn.linear_model import ElasticNet\n",
    "alpha = [1E-4, 1E-2, 0.1, 1.0]\n",
    "\n",
    "en = ElasticNet(alpha=alpha[2], l1_ratio=0.5)\n",
    "\n",
    "\n",
    "en.fit(x_train, y_train[labels[2]])\n",
    "pred = en.predict(x_test)\n",
    "\n",
    "actual = y_test[labels[2]]\n",
    "r2_en= stats.pearsonr(actual, pred)[0] ** 2\n",
    "r2_en\n"
   ]
  },
  {
   "cell_type": "code",
   "execution_count": 30,
   "metadata": {},
   "outputs": [
    {
     "data": {
      "text/plain": [
       "0.6361988232445271"
      ]
     },
     "execution_count": 30,
     "metadata": {},
     "output_type": "execute_result"
    }
   ],
   "source": [
    "from sklearn.ensemble import GradientBoostingRegressor\n",
    "\n",
    "# Create Regressor with default properties\n",
    "gbr = GradientBoostingRegressor(random_state=0)\n",
    "\n",
    "gbr.fit(x_train, y_train[labels[2]])\n",
    "pred = gbr.predict(x_test)\n",
    "\n",
    "actual = y_test[labels[2]]\n",
    "r2_gbr= stats.pearsonr(actual, pred)[0] ** 2\n",
    "r2_gbr\n"
   ]
  },
  {
   "cell_type": "code",
   "execution_count": null,
   "metadata": {},
   "outputs": [],
   "source": [
    "pd.cut(actual,\n",
    "...        3, "
   ]
  },
  {
   "cell_type": "markdown",
   "metadata": {
    "collapsed": true
   },
   "source": [
    "fig, axs = plt.subplots(2, 2, figsize=(10, 10))\n",
    "axs[0, 0].scatter( actual_linear,pred_linear)\n",
    "fit = np.polyfit(actual_linear,pred_linear, deg=1)\n",
    "axs[0, 0].plot(actual_linear, fit[0] * actual_linear + fit[1], color='red')\n",
    "\n",
    "axs[1, 0].scatter( actual_rfr, pred_rfr)\n",
    "fit = np.polyfit(actual_rfr, pred_rfr, deg=1)\n",
    "axs[1, 0].plot(actual_rfr, fit[0] * actual_rfr + fit[1], color='red')\n",
    "\n",
    "\n",
    "axs[0, 1].scatter(actual_en ,pred_en )\n",
    "fit = np.polyfit(actual_en , pred_en, deg=1)\n",
    "axs[0, 1].plot(actual_en, fit[0] * actual_en + fit[1], color='red')\n",
    "\n",
    "axs[1, 1].scatter(actual_gbr, pred_gbr )\n",
    "fit = np.polyfit(actual_gbr, pred_gbr, deg=1)\n",
    "axs[1, 1].plot(actual_gbr, fit[0] * actual_gbr + fit[1], color='red')\n",
    "\n",
    "\n",
    "axs[0, 0].title.set_text('Scatter Plot Linear')\n",
    "axs[1, 0].title.set_text('Scatter Plot RandomForest')\n",
    "axs[0, 1].title.set_text('Scatter Plot ElasticNet')\n",
    "axs[1, 1].title.set_text('Scatter Plot GradientBoosting')\n",
    "plt.show()"
   ]
  },
  {
   "cell_type": "code",
   "execution_count": 115,
   "metadata": {},
   "outputs": [
    {
     "data": {
      "image/png": "[encoded data removed]",
      "text/plain": [
       "<Figure size 432x288 with 1 Axes>"
      ]
     },
     "metadata": {},
     "output_type": "display_data"
    }
   ],
   "source": [
    "bin = [0,3,6,9]\n",
    "#use pd.cut function can attribute the values into its specific bins\n",
    "category_actual = pd.cut(actual,bin,labels=[\"bad\", \"medium\", \"good\"])\n",
    "category_actual = category_actual.to_frame()\n",
    "category_actual.columns = ['range']\n",
    "actual_bins = pd.concat([actual,category_actual],axis = 1)\n",
    "import matplotlib.pyplot as plt \n",
    "import seaborn as sns\n",
    "sns.set(style=\"white\")\n",
    "sns.set(style=\"whitegrid\", color_codes=True)\n",
    " \n",
    "#draw histogram plot\n",
    "sns.countplot(x = 'range', data = actual_bins, palette = 'hls')\n",
    "plt.show()"
   ]
  },
  {
   "cell_type": "code",
   "execution_count": 116,
   "metadata": {},
   "outputs": [
    {
     "data": {
      "image/png": "[encoded data removed]",
      "text/plain": [
       "<Figure size 432x288 with 1 Axes>"
      ]
     },
     "metadata": {},
     "output_type": "display_data"
    }
   ],
   "source": [
    "bin = [0,3,6,9]\n",
    "#use pd.cut function can attribute the values into its specific bins\n",
    "prd_series= pd.DataFrame({'PRD':pred})['PRD']\n",
    "\n",
    "category_pred = pd.cut(prd_series,bin,labels=[\"bad\", \"medium\", \"good\"])\n",
    "category_pred = category_pred.to_frame()\n",
    "category_pred.columns = ['range']\n",
    "pred_bins = pd.concat([prd_series,category],axis = 1)\n",
    "import matplotlib.pyplot as plt \n",
    "import seaborn as sns\n",
    "sns.set(style=\"white\")\n",
    "sns.set(style=\"whitegrid\", color_codes=True)\n",
    " \n",
    "#draw histogram plot\n",
    "sns.countplot(x = 'range', data = pred_bins, palette = 'hls')\n",
    "plt.show()"
   ]
  },
  {
   "cell_type": "code",
   "execution_count": 120,
   "metadata": {},
   "outputs": [],
   "source": [
    "from sklearn.metrics import confusion_matrix\n",
    "cnf_matrix = confusion_matrix(category_actual, category_pred)"
   ]
  },
  {
   "cell_type": "code",
   "execution_count": 121,
   "metadata": {},
   "outputs": [],
   "source": [
    "bin = [0,3,6,9]\n",
    "#use pd.cut function can attribute the values into its specific bins\n",
    "#pd.cut(prd_series,bin,labels=[\"bad\", \"medium\", \"good\"])"
   ]
  },
  {
   "cell_type": "code",
   "execution_count": 122,
   "metadata": {},
   "outputs": [
    {
     "name": "stdout",
     "output_type": "stream",
     "text": [
      "Confusion matrix, without normalization\n",
      "[[ 20  28]\n",
      " [  2 154]]\n"
     ]
    },
    {
     "data": {
      "image/png": "[encoded data removed]",
      "text/plain": [
       "<Figure size 432x288 with 2 Axes>"
      ]
     },
     "metadata": {},
     "output_type": "display_data"
    }
   ],
   "source": [
    "import itertools\n",
    "plt.figure()\n",
    "plot_confusion_matrix(cnf_matrix, classes=class_names)"
   ]
  },
  {
   "cell_type": "code",
   "execution_count": 123,
   "metadata": {},
   "outputs": [
    {
     "data": {
      "text/plain": [
       "'             precision    recall  f1-score   support\\n\\n     medium       0.91      0.42      0.57        48\\n       good       0.85      0.99      0.91       156\\n\\navg / total       0.86      0.85      0.83       204\\n'"
      ]
     },
     "execution_count": 123,
     "metadata": {},
     "output_type": "execute_result"
    }
   ],
   "source": [
    "import sklearn.metrics\n",
    "sklearn.metrics.classification_report(category_actual, category_pred,target_names=[\"medium\", \"good\"])"
   ]
  },
  {
   "cell_type": "markdown",
   "metadata": {},
   "source": [
    "         precision    recall  f1-score   support\n",
    "medium       0.91      0.42      0.57        48\\n       \n",
    "good       0.85      0.99      0.91       156\\n\\navg / \n",
    "total       0.86      0.85      0.83       204\\n'\n",
    "\n"
   ]
  },
  {
   "cell_type": "code",
   "execution_count": 125,
   "metadata": {},
   "outputs": [],
   "source": [
    "bin = [0,3,6,9]\n",
    "#use pd.cut function can attribute the values into its specific bins\n",
    "category_y_test = pd.cut(y_test[labels[2]],bin,labels=[\"bad\", \"medium\", \"good\"])\n",
    "category_y_train = pd.cut(y_train[labels[2]],bin,labels=[\"bad\", \"medium\", \"good\"])\n",
    "\n",
    "\n"
   ]
  },
  {
   "cell_type": "code",
   "execution_count": 128,
   "metadata": {},
   "outputs": [],
   "source": [
    "from sklearn.ensemble import RandomForestClassifier\n",
    "\n",
    "# Create Regressor with default properties\n",
    "rfc = RandomForestClassifier(random_state =0,n_jobs =4,warm_start = True)\n",
    "\n",
    "parameters = {'max_depth':np.arange( 1,8, 1 ).tolist(), 'min_samples_leaf':np.arange( 1, 6, 1 ).tolist()}\n",
    "clf = GridSearchCV(rfc, parameters,cv=6, n_jobs= 4, iid = True,  refit= True,pre_dispatch= '2*n_jobs')\n",
    "clf.fit(x_train, category_y_train)\n",
    "\n",
    "# Fit estimator and display score\n",
    "\n",
    "# Regress on test data\n",
    "pred_catego = clf.predict(x_test)\n",
    "actual_catego = category_y_test\n"
   ]
  },
  {
   "cell_type": "code",
   "execution_count": 129,
   "metadata": {},
   "outputs": [
    {
     "name": "stdout",
     "output_type": "stream",
     "text": [
      "Confusion matrix, without normalization\n",
      "[[ 19  29]\n",
      " [  2 154]]\n"
     ]
    },
    {
     "data": {
      "image/png": "[encoded data removed]",
      "text/plain": [
       "<Figure size 432x288 with 2 Axes>"
      ]
     },
     "metadata": {},
     "output_type": "display_data"
    }
   ],
   "source": [
    "cnf_matrix_catego = confusion_matrix(actual_catego, pred_catego)\n",
    "plot_confusion_matrix(cnf_matrix_catego, classes=class_names)"
   ]
  },
  {
   "cell_type": "code",
   "execution_count": 130,
   "metadata": {},
   "outputs": [
    {
     "data": {
      "text/plain": [
       "'             precision    recall  f1-score   support\\n\\n     medium       0.90      0.40      0.55        48\\n       good       0.84      0.99      0.91       156\\n\\navg / total       0.86      0.85      0.82       204\\n'"
      ]
     },
     "execution_count": 130,
     "metadata": {},
     "output_type": "execute_result"
    }
   ],
   "source": [
    "sklearn.metrics.classification_report(actual_catego, pred_catego,target_names=[\"medium\", \"good\"])"
   ]
  },
  {
   "cell_type": "markdown",
   "metadata": {},
   "source": [
    "         precision    recall  f1-score   support\n",
    "medium       0.90      0.40      0.55        48\\n \n",
    "good       0.84      0.99      0.91       156\n",
    "total       0.86      0.85      0.82       204\\n'\n"
   ]
  }
 ],
 "metadata": {
  "kernelspec": {
   "display_name": "Python 3",
   "language": "python",
   "name": "python3"
  },
  "language_info": {
   "codemirror_mode": {
    "name": "ipython",
    "version": 3
   },
   "file_extension": ".py",
   "mimetype": "text/x-python",
   "name": "python",
   "nbconvert_exporter": "python",
   "pygments_lexer": "ipython3",
   "version": "3.6.5"
  }
 },
 "nbformat": 4,
 "nbformat_minor": 2
}
