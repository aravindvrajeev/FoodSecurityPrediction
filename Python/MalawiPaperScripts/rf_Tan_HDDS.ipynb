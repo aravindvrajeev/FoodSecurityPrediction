{
 "cells": [
  {
   "cell_type": "code",
   "execution_count": 75,
   "metadata": {},
   "outputs": [],
   "source": [
    "# Set up Notebook\n",
    "% matplotlib inline\n",
    "\n",
    "# Standard imports\n",
    "import numpy as np\n",
    "import pandas as pd\n",
    "import matplotlib.pyplot as plt\n",
    "import math\n",
    "import seaborn as sns\n",
    "import scipy.stats as stats\n",
    "from matplotlib import cm\n",
    "from sklearn.model_selection import GridSearchCV\n",
    "\n",
    "\n",
    "\n",
    "# We do this to ignore several specific Pandas warnings\n",
    "import warnings\n",
    "warnings.filterwarnings('ignore')\n",
    "from sklearn.metrics import explained_variance_score\n",
    "from sklearn.metrics import mean_absolute_error\n",
    "from sklearn.metrics import mean_squared_error\n",
    "from sklearn.metrics import median_absolute_error\n",
    "from sklearn.metrics import r2_score"
   ]
  },
  {
   "cell_type": "code",
   "execution_count": 76,
   "metadata": {},
   "outputs": [],
   "source": [
    "train_data = pd.read_csv('tz_train.csv')\n",
    "test_data = pd.read_csv('tz_test.csv')\n",
    "train_data = train_data.dropna(axis=1, how='all')\n",
    "test_data = test_data.dropna(axis=1, how='all')\n",
    "train_data = train_data.dropna(axis=0, how='any')\n",
    "test_data = test_data.dropna(axis=0, how='any')\n"
   ]
  },
  {
   "cell_type": "code",
   "execution_count": 77,
   "metadata": {},
   "outputs": [],
   "source": [
    "labels = ['logFCS', 'rCSI', 'HDDS']"
   ]
  },
  {
   "cell_type": "code",
   "execution_count": 78,
   "metadata": {},
   "outputs": [
    {
     "data": {
      "text/html": [
       "<div>\n",
       "<style scoped>\n",
       "    .dataframe tbody tr th:only-of-type {\n",
       "        vertical-align: middle;\n",
       "    }\n",
       "\n",
       "    .dataframe tbody tr th {\n",
       "        vertical-align: top;\n",
       "    }\n",
       "\n",
       "    .dataframe thead th {\n",
       "        text-align: right;\n",
       "    }\n",
       "</style>\n",
       "<table border=\"1\" class=\"dataframe\">\n",
       "  <thead>\n",
       "    <tr style=\"text-align: right;\">\n",
       "      <th></th>\n",
       "      <th>floor_cement</th>\n",
       "      <th>floor_dirt_sand_dung</th>\n",
       "      <th>roof_iron</th>\n",
       "      <th>roof_natural</th>\n",
       "      <th>slope</th>\n",
       "      <th>ag_percent</th>\n",
       "      <th>dist_road</th>\n",
       "      <th>dist_popcenter</th>\n",
       "      <th>dist_agmkt</th>\n",
       "      <th>dist_headquater</th>\n",
       "      <th>...</th>\n",
       "      <th>maxdaysnorain</th>\n",
       "      <th>dist_km</th>\n",
       "      <th>maize_price</th>\n",
       "      <th>maize_mktthin</th>\n",
       "      <th>rice_price</th>\n",
       "      <th>rice_mktthin</th>\n",
       "      <th>lhz_maize_price</th>\n",
       "      <th>lhz_maize_mktthin</th>\n",
       "      <th>lhz_rice_price</th>\n",
       "      <th>lhz_rice_mktthin</th>\n",
       "    </tr>\n",
       "  </thead>\n",
       "  <tbody>\n",
       "    <tr>\n",
       "      <th>68</th>\n",
       "      <td>0.00</td>\n",
       "      <td>1.00</td>\n",
       "      <td>0.000</td>\n",
       "      <td>1.000</td>\n",
       "      <td>1.675673</td>\n",
       "      <td>84.00</td>\n",
       "      <td>7.7</td>\n",
       "      <td>53.100000</td>\n",
       "      <td>69.900000</td>\n",
       "      <td>8.300000</td>\n",
       "      <td>...</td>\n",
       "      <td>176.0</td>\n",
       "      <td>32.213358</td>\n",
       "      <td>74400.000</td>\n",
       "      <td>0.0</td>\n",
       "      <td>157562.500</td>\n",
       "      <td>0.0</td>\n",
       "      <td>73010.215096</td>\n",
       "      <td>0.000000</td>\n",
       "      <td>162514.557193</td>\n",
       "      <td>0.000000</td>\n",
       "    </tr>\n",
       "    <tr>\n",
       "      <th>69</th>\n",
       "      <td>0.00</td>\n",
       "      <td>1.00</td>\n",
       "      <td>0.000</td>\n",
       "      <td>1.000</td>\n",
       "      <td>0.800000</td>\n",
       "      <td>0.00</td>\n",
       "      <td>45.5</td>\n",
       "      <td>50.799999</td>\n",
       "      <td>77.099998</td>\n",
       "      <td>365.899994</td>\n",
       "      <td>...</td>\n",
       "      <td>169.0</td>\n",
       "      <td>32.213358</td>\n",
       "      <td>46379.400</td>\n",
       "      <td>0.0</td>\n",
       "      <td>131016.400</td>\n",
       "      <td>0.0</td>\n",
       "      <td>31771.000000</td>\n",
       "      <td>0.043731</td>\n",
       "      <td>123750.000000</td>\n",
       "      <td>0.043731</td>\n",
       "    </tr>\n",
       "    <tr>\n",
       "      <th>70</th>\n",
       "      <td>0.00</td>\n",
       "      <td>1.00</td>\n",
       "      <td>1.000</td>\n",
       "      <td>0.000</td>\n",
       "      <td>1.291615</td>\n",
       "      <td>49.00</td>\n",
       "      <td>13.4</td>\n",
       "      <td>25.500000</td>\n",
       "      <td>63.300000</td>\n",
       "      <td>309.700000</td>\n",
       "      <td>...</td>\n",
       "      <td>176.0</td>\n",
       "      <td>32.213358</td>\n",
       "      <td>54116.000</td>\n",
       "      <td>0.0</td>\n",
       "      <td>127833.360</td>\n",
       "      <td>0.0</td>\n",
       "      <td>43150.839948</td>\n",
       "      <td>0.000000</td>\n",
       "      <td>126015.545902</td>\n",
       "      <td>0.000000</td>\n",
       "    </tr>\n",
       "    <tr>\n",
       "      <th>71</th>\n",
       "      <td>0.75</td>\n",
       "      <td>0.25</td>\n",
       "      <td>0.875</td>\n",
       "      <td>0.125</td>\n",
       "      <td>2.721242</td>\n",
       "      <td>9.25</td>\n",
       "      <td>7.0</td>\n",
       "      <td>10.012500</td>\n",
       "      <td>9.437500</td>\n",
       "      <td>255.250000</td>\n",
       "      <td>...</td>\n",
       "      <td>176.0</td>\n",
       "      <td>32.213358</td>\n",
       "      <td>85600.002</td>\n",
       "      <td>0.0</td>\n",
       "      <td>182090.900</td>\n",
       "      <td>0.0</td>\n",
       "      <td>77868.806928</td>\n",
       "      <td>0.000000</td>\n",
       "      <td>183758.272609</td>\n",
       "      <td>0.000000</td>\n",
       "    </tr>\n",
       "    <tr>\n",
       "      <th>72</th>\n",
       "      <td>0.00</td>\n",
       "      <td>1.00</td>\n",
       "      <td>1.000</td>\n",
       "      <td>0.000</td>\n",
       "      <td>5.888551</td>\n",
       "      <td>55.00</td>\n",
       "      <td>0.6</td>\n",
       "      <td>9.500000</td>\n",
       "      <td>10.600000</td>\n",
       "      <td>244.600000</td>\n",
       "      <td>...</td>\n",
       "      <td>176.0</td>\n",
       "      <td>32.213358</td>\n",
       "      <td>56044.598</td>\n",
       "      <td>0.0</td>\n",
       "      <td>134555.534</td>\n",
       "      <td>0.0</td>\n",
       "      <td>46408.696597</td>\n",
       "      <td>0.000000</td>\n",
       "      <td>137466.685807</td>\n",
       "      <td>0.000000</td>\n",
       "    </tr>\n",
       "  </tbody>\n",
       "</table>\n",
       "<p>5 rows × 33 columns</p>\n",
       "</div>"
      ],
      "text/plain": [
       "    floor_cement  floor_dirt_sand_dung  roof_iron  roof_natural     slope  \\\n",
       "68          0.00                  1.00      0.000         1.000  1.675673   \n",
       "69          0.00                  1.00      0.000         1.000  0.800000   \n",
       "70          0.00                  1.00      1.000         0.000  1.291615   \n",
       "71          0.75                  0.25      0.875         0.125  2.721242   \n",
       "72          0.00                  1.00      1.000         0.000  5.888551   \n",
       "\n",
       "    ag_percent  dist_road  dist_popcenter  dist_agmkt  dist_headquater  \\\n",
       "68       84.00        7.7       53.100000   69.900000         8.300000   \n",
       "69        0.00       45.5       50.799999   77.099998       365.899994   \n",
       "70       49.00       13.4       25.500000   63.300000       309.700000   \n",
       "71        9.25        7.0       10.012500    9.437500       255.250000   \n",
       "72       55.00        0.6        9.500000   10.600000       244.600000   \n",
       "\n",
       "          ...         maxdaysnorain    dist_km  maize_price  maize_mktthin  \\\n",
       "68        ...                 176.0  32.213358    74400.000            0.0   \n",
       "69        ...                 169.0  32.213358    46379.400            0.0   \n",
       "70        ...                 176.0  32.213358    54116.000            0.0   \n",
       "71        ...                 176.0  32.213358    85600.002            0.0   \n",
       "72        ...                 176.0  32.213358    56044.598            0.0   \n",
       "\n",
       "    rice_price  rice_mktthin  lhz_maize_price  lhz_maize_mktthin  \\\n",
       "68  157562.500           0.0     73010.215096           0.000000   \n",
       "69  131016.400           0.0     31771.000000           0.043731   \n",
       "70  127833.360           0.0     43150.839948           0.000000   \n",
       "71  182090.900           0.0     77868.806928           0.000000   \n",
       "72  134555.534           0.0     46408.696597           0.000000   \n",
       "\n",
       "    lhz_rice_price  lhz_rice_mktthin  \n",
       "68   162514.557193          0.000000  \n",
       "69   123750.000000          0.043731  \n",
       "70   126015.545902          0.000000  \n",
       "71   183758.272609          0.000000  \n",
       "72   137466.685807          0.000000  \n",
       "\n",
       "[5 rows x 33 columns]"
      ]
     },
     "execution_count": 78,
     "metadata": {},
     "output_type": "execute_result"
    }
   ],
   "source": [
    "x_train=train_data.drop(labels, axis=1)\n",
    "x_train = x_train.drop(x_train.columns[0], axis=1)\n",
    "x_test=test_data.drop(labels, axis=1)\n",
    "x_test = x_test.drop(x_test.columns[0], axis=1)\n",
    "\n",
    "x_train.head()"
   ]
  },
  {
   "cell_type": "code",
   "execution_count": 63,
   "metadata": {},
   "outputs": [
    {
     "data": {
      "text/html": [
       "<div>\n",
       "<style scoped>\n",
       "    .dataframe tbody tr th:only-of-type {\n",
       "        vertical-align: middle;\n",
       "    }\n",
       "\n",
       "    .dataframe tbody tr th {\n",
       "        vertical-align: top;\n",
       "    }\n",
       "\n",
       "    .dataframe thead th {\n",
       "        text-align: right;\n",
       "    }\n",
       "</style>\n",
       "<table border=\"1\" class=\"dataframe\">\n",
       "  <thead>\n",
       "    <tr style=\"text-align: right;\">\n",
       "      <th></th>\n",
       "      <th>logFCS</th>\n",
       "      <th>rCSI</th>\n",
       "      <th>HDDS</th>\n",
       "    </tr>\n",
       "  </thead>\n",
       "  <tbody>\n",
       "    <tr>\n",
       "      <th>10</th>\n",
       "      <td>2.833213</td>\n",
       "      <td>0.00</td>\n",
       "      <td>3.00</td>\n",
       "    </tr>\n",
       "    <tr>\n",
       "      <th>11</th>\n",
       "      <td>3.198673</td>\n",
       "      <td>0.00</td>\n",
       "      <td>2.00</td>\n",
       "    </tr>\n",
       "    <tr>\n",
       "      <th>12</th>\n",
       "      <td>2.995732</td>\n",
       "      <td>8.75</td>\n",
       "      <td>2.25</td>\n",
       "    </tr>\n",
       "    <tr>\n",
       "      <th>13</th>\n",
       "      <td>3.178054</td>\n",
       "      <td>0.00</td>\n",
       "      <td>2.00</td>\n",
       "    </tr>\n",
       "    <tr>\n",
       "      <th>15</th>\n",
       "      <td>3.433987</td>\n",
       "      <td>0.00</td>\n",
       "      <td>3.00</td>\n",
       "    </tr>\n",
       "  </tbody>\n",
       "</table>\n",
       "</div>"
      ],
      "text/plain": [
       "      logFCS  rCSI  HDDS\n",
       "10  2.833213  0.00  3.00\n",
       "11  3.198673  0.00  2.00\n",
       "12  2.995732  8.75  2.25\n",
       "13  3.178054  0.00  2.00\n",
       "15  3.433987  0.00  3.00"
      ]
     },
     "execution_count": 63,
     "metadata": {},
     "output_type": "execute_result"
    }
   ],
   "source": [
    "y_train = train_data[labels]\n",
    "y_test = test_data[labels]\n",
    "y_test.head()"
   ]
  },
  {
   "cell_type": "code",
   "execution_count": 79,
   "metadata": {},
   "outputs": [],
   "source": [
    "from sklearn.preprocessing import Imputer,StandardScaler\n",
    "\n",
    "imp = Imputer(missing_values='NaN', strategy='mean', axis=0, copy=False)\n",
    "x_train = imp.fit_transform(x_train)\n",
    "x_test = imp.fit_transform(x_test)\n",
    "\n",
    "ss = StandardScaler()\n",
    "x_train = ss.fit_transform(x_train)\n",
    "x_test = ss.fit_transform(x_test)\n"
   ]
  },
  {
   "cell_type": "code",
   "execution_count": 80,
   "metadata": {},
   "outputs": [],
   "source": [
    "from sklearn.preprocessing import PolynomialFeatures\n",
    "poly = PolynomialFeatures(2)\n",
    "x_train = poly.fit_transform(x_train)\n",
    "x_test =  poly.fit_transform(x_test)\n",
    "\n"
   ]
  },
  {
   "cell_type": "code",
   "execution_count": 81,
   "metadata": {},
   "outputs": [
    {
     "data": {
      "text/plain": [
       "0.0009861335487284884"
      ]
     },
     "execution_count": 81,
     "metadata": {},
     "output_type": "execute_result"
    }
   ],
   "source": [
    "from sklearn.linear_model import LinearRegression\n",
    "\n",
    "# Create and fit our linear regression model to training data\n",
    "model = LinearRegression(fit_intercept=True)\n",
    "model.fit(x_train, y_train[labels[2]])\n",
    "\n",
    "# Compute model predictions for test data\n",
    "pred = model.predict(x_test)\n",
    "\n",
    "actual = y_test[labels[2]]\n",
    "r2_linear = stats.pearsonr(actual, pred)[0] ** 2\n",
    "r2_linear"
   ]
  },
  {
   "cell_type": "code",
   "execution_count": 66,
   "metadata": {},
   "outputs": [
    {
     "ename": "JoblibValueError",
     "evalue": "JoblibValueError\n___________________________________________________________________________\nMultiprocessing exception:\n...........................................................................\nC:\\Users\\Administrator\\Anaconda3\\lib\\runpy.py in _run_module_as_main(mod_name='ipykernel_launcher', alter_argv=1)\n    188         sys.exit(msg)\n    189     main_globals = sys.modules[\"__main__\"].__dict__\n    190     if alter_argv:\n    191         sys.argv[0] = mod_spec.origin\n    192     return _run_code(code, main_globals, None,\n--> 193                      \"__main__\", mod_spec)\n        mod_spec = ModuleSpec(name='ipykernel_launcher', loader=<_f...nda3\\\\lib\\\\site-packages\\\\ipykernel_launcher.py')\n    194 \n    195 def run_module(mod_name, init_globals=None,\n    196                run_name=None, alter_sys=False):\n    197     \"\"\"Execute a module's code without importing it\n\n...........................................................................\nC:\\Users\\Administrator\\Anaconda3\\lib\\runpy.py in _run_code(code=<code object <module> at 0x00000236D86C3AE0, fil...lib\\site-packages\\ipykernel_launcher.py\", line 5>, run_globals={'__annotations__': {}, '__builtins__': <module 'builtins' (built-in)>, '__cached__': r'C:\\Users\\Administrator\\Anaconda3\\lib\\site-packages\\__pycache__\\ipykernel_launcher.cpython-36.pyc', '__doc__': 'Entry point for launching an IPython kernel.\\n\\nTh...orts until\\nafter removing the cwd from sys.path.\\n', '__file__': r'C:\\Users\\Administrator\\Anaconda3\\lib\\site-packages\\ipykernel_launcher.py', '__loader__': <_frozen_importlib_external.SourceFileLoader object>, '__name__': '__main__', '__package__': '', '__spec__': ModuleSpec(name='ipykernel_launcher', loader=<_f...nda3\\\\lib\\\\site-packages\\\\ipykernel_launcher.py'), 'app': <module 'ipykernel.kernelapp' from 'C:\\\\Users\\\\A...a3\\\\lib\\\\site-packages\\\\ipykernel\\\\kernelapp.py'>, ...}, init_globals=None, mod_name='__main__', mod_spec=ModuleSpec(name='ipykernel_launcher', loader=<_f...nda3\\\\lib\\\\site-packages\\\\ipykernel_launcher.py'), pkg_name='', script_name=None)\n     80                        __cached__ = cached,\n     81                        __doc__ = None,\n     82                        __loader__ = loader,\n     83                        __package__ = pkg_name,\n     84                        __spec__ = mod_spec)\n---> 85     exec(code, run_globals)\n        code = <code object <module> at 0x00000236D86C3AE0, fil...lib\\site-packages\\ipykernel_launcher.py\", line 5>\n        run_globals = {'__annotations__': {}, '__builtins__': <module 'builtins' (built-in)>, '__cached__': r'C:\\Users\\Administrator\\Anaconda3\\lib\\site-packages\\__pycache__\\ipykernel_launcher.cpython-36.pyc', '__doc__': 'Entry point for launching an IPython kernel.\\n\\nTh...orts until\\nafter removing the cwd from sys.path.\\n', '__file__': r'C:\\Users\\Administrator\\Anaconda3\\lib\\site-packages\\ipykernel_launcher.py', '__loader__': <_frozen_importlib_external.SourceFileLoader object>, '__name__': '__main__', '__package__': '', '__spec__': ModuleSpec(name='ipykernel_launcher', loader=<_f...nda3\\\\lib\\\\site-packages\\\\ipykernel_launcher.py'), 'app': <module 'ipykernel.kernelapp' from 'C:\\\\Users\\\\A...a3\\\\lib\\\\site-packages\\\\ipykernel\\\\kernelapp.py'>, ...}\n     86     return run_globals\n     87 \n     88 def _run_module_code(code, init_globals=None,\n     89                     mod_name=None, mod_spec=None,\n\n...........................................................................\nC:\\Users\\Administrator\\Anaconda3\\lib\\site-packages\\ipykernel_launcher.py in <module>()\n     11     # This is added back by InteractiveShellApp.init_path()\n     12     if sys.path[0] == '':\n     13         del sys.path[0]\n     14 \n     15     from ipykernel import kernelapp as app\n---> 16     app.launch_new_instance()\n\n...........................................................................\nC:\\Users\\Administrator\\Anaconda3\\lib\\site-packages\\traitlets\\config\\application.py in launch_instance(cls=<class 'ipykernel.kernelapp.IPKernelApp'>, argv=None, **kwargs={})\n    653 \n    654         If a global instance already exists, this reinitializes and starts it\n    655         \"\"\"\n    656         app = cls.instance(**kwargs)\n    657         app.initialize(argv)\n--> 658         app.start()\n        app.start = <bound method IPKernelApp.start of <ipykernel.kernelapp.IPKernelApp object>>\n    659 \n    660 #-----------------------------------------------------------------------------\n    661 # utility functions, for convenience\n    662 #-----------------------------------------------------------------------------\n\n...........................................................................\nC:\\Users\\Administrator\\Anaconda3\\lib\\site-packages\\ipykernel\\kernelapp.py in start(self=<ipykernel.kernelapp.IPKernelApp object>)\n    473         if self.poller is not None:\n    474             self.poller.start()\n    475         self.kernel.start()\n    476         self.io_loop = ioloop.IOLoop.current()\n    477         try:\n--> 478             self.io_loop.start()\n        self.io_loop.start = <bound method ZMQIOLoop.start of <zmq.eventloop.ioloop.ZMQIOLoop object>>\n    479         except KeyboardInterrupt:\n    480             pass\n    481 \n    482 launch_new_instance = IPKernelApp.launch_instance\n\n...........................................................................\nC:\\Users\\Administrator\\Anaconda3\\lib\\site-packages\\zmq\\eventloop\\ioloop.py in start(self=<zmq.eventloop.ioloop.ZMQIOLoop object>)\n    172             )\n    173         return loop\n    174     \n    175     def start(self):\n    176         try:\n--> 177             super(ZMQIOLoop, self).start()\n        self.start = <bound method ZMQIOLoop.start of <zmq.eventloop.ioloop.ZMQIOLoop object>>\n    178         except ZMQError as e:\n    179             if e.errno == ETERM:\n    180                 # quietly return on ETERM\n    181                 pass\n\n...........................................................................\nC:\\Users\\Administrator\\Anaconda3\\lib\\site-packages\\tornado\\ioloop.py in start(self=<zmq.eventloop.ioloop.ZMQIOLoop object>)\n    883                 self._events.update(event_pairs)\n    884                 while self._events:\n    885                     fd, events = self._events.popitem()\n    886                     try:\n    887                         fd_obj, handler_func = self._handlers[fd]\n--> 888                         handler_func(fd_obj, events)\n        handler_func = <function wrap.<locals>.null_wrapper>\n        fd_obj = <zmq.sugar.socket.Socket object>\n        events = 1\n    889                     except (OSError, IOError) as e:\n    890                         if errno_from_exception(e) == errno.EPIPE:\n    891                             # Happens when the client closes the connection\n    892                             pass\n\n...........................................................................\nC:\\Users\\Administrator\\Anaconda3\\lib\\site-packages\\tornado\\stack_context.py in null_wrapper(*args=(<zmq.sugar.socket.Socket object>, 1), **kwargs={})\n    272         # Fast path when there are no active contexts.\n    273         def null_wrapper(*args, **kwargs):\n    274             try:\n    275                 current_state = _state.contexts\n    276                 _state.contexts = cap_contexts[0]\n--> 277                 return fn(*args, **kwargs)\n        args = (<zmq.sugar.socket.Socket object>, 1)\n        kwargs = {}\n    278             finally:\n    279                 _state.contexts = current_state\n    280         null_wrapper._wrapped = True\n    281         return null_wrapper\n\n...........................................................................\nC:\\Users\\Administrator\\Anaconda3\\lib\\site-packages\\zmq\\eventloop\\zmqstream.py in _handle_events(self=<zmq.eventloop.zmqstream.ZMQStream object>, fd=<zmq.sugar.socket.Socket object>, events=1)\n    435             # dispatch events:\n    436             if events & IOLoop.ERROR:\n    437                 gen_log.error(\"got POLLERR event on ZMQStream, which doesn't make sense\")\n    438                 return\n    439             if events & IOLoop.READ:\n--> 440                 self._handle_recv()\n        self._handle_recv = <bound method ZMQStream._handle_recv of <zmq.eventloop.zmqstream.ZMQStream object>>\n    441                 if not self.socket:\n    442                     return\n    443             if events & IOLoop.WRITE:\n    444                 self._handle_send()\n\n...........................................................................\nC:\\Users\\Administrator\\Anaconda3\\lib\\site-packages\\zmq\\eventloop\\zmqstream.py in _handle_recv(self=<zmq.eventloop.zmqstream.ZMQStream object>)\n    467                 gen_log.error(\"RECV Error: %s\"%zmq.strerror(e.errno))\n    468         else:\n    469             if self._recv_callback:\n    470                 callback = self._recv_callback\n    471                 # self._recv_callback = None\n--> 472                 self._run_callback(callback, msg)\n        self._run_callback = <bound method ZMQStream._run_callback of <zmq.eventloop.zmqstream.ZMQStream object>>\n        callback = <function wrap.<locals>.null_wrapper>\n        msg = [<zmq.sugar.frame.Frame object>, <zmq.sugar.frame.Frame object>, <zmq.sugar.frame.Frame object>, <zmq.sugar.frame.Frame object>, <zmq.sugar.frame.Frame object>, <zmq.sugar.frame.Frame object>, <zmq.sugar.frame.Frame object>]\n    473                 \n    474         # self.update_state()\n    475         \n    476 \n\n...........................................................................\nC:\\Users\\Administrator\\Anaconda3\\lib\\site-packages\\zmq\\eventloop\\zmqstream.py in _run_callback(self=<zmq.eventloop.zmqstream.ZMQStream object>, callback=<function wrap.<locals>.null_wrapper>, *args=([<zmq.sugar.frame.Frame object>, <zmq.sugar.frame.Frame object>, <zmq.sugar.frame.Frame object>, <zmq.sugar.frame.Frame object>, <zmq.sugar.frame.Frame object>, <zmq.sugar.frame.Frame object>, <zmq.sugar.frame.Frame object>],), **kwargs={})\n    409         close our socket.\"\"\"\n    410         try:\n    411             # Use a NullContext to ensure that all StackContexts are run\n    412             # inside our blanket exception handler rather than outside.\n    413             with stack_context.NullContext():\n--> 414                 callback(*args, **kwargs)\n        callback = <function wrap.<locals>.null_wrapper>\n        args = ([<zmq.sugar.frame.Frame object>, <zmq.sugar.frame.Frame object>, <zmq.sugar.frame.Frame object>, <zmq.sugar.frame.Frame object>, <zmq.sugar.frame.Frame object>, <zmq.sugar.frame.Frame object>, <zmq.sugar.frame.Frame object>],)\n        kwargs = {}\n    415         except:\n    416             gen_log.error(\"Uncaught exception, closing connection.\",\n    417                           exc_info=True)\n    418             # Close the socket on an uncaught exception from a user callback\n\n...........................................................................\nC:\\Users\\Administrator\\Anaconda3\\lib\\site-packages\\tornado\\stack_context.py in null_wrapper(*args=([<zmq.sugar.frame.Frame object>, <zmq.sugar.frame.Frame object>, <zmq.sugar.frame.Frame object>, <zmq.sugar.frame.Frame object>, <zmq.sugar.frame.Frame object>, <zmq.sugar.frame.Frame object>, <zmq.sugar.frame.Frame object>],), **kwargs={})\n    272         # Fast path when there are no active contexts.\n    273         def null_wrapper(*args, **kwargs):\n    274             try:\n    275                 current_state = _state.contexts\n    276                 _state.contexts = cap_contexts[0]\n--> 277                 return fn(*args, **kwargs)\n        args = ([<zmq.sugar.frame.Frame object>, <zmq.sugar.frame.Frame object>, <zmq.sugar.frame.Frame object>, <zmq.sugar.frame.Frame object>, <zmq.sugar.frame.Frame object>, <zmq.sugar.frame.Frame object>, <zmq.sugar.frame.Frame object>],)\n        kwargs = {}\n    278             finally:\n    279                 _state.contexts = current_state\n    280         null_wrapper._wrapped = True\n    281         return null_wrapper\n\n...........................................................................\nC:\\Users\\Administrator\\Anaconda3\\lib\\site-packages\\ipykernel\\kernelbase.py in dispatcher(msg=[<zmq.sugar.frame.Frame object>, <zmq.sugar.frame.Frame object>, <zmq.sugar.frame.Frame object>, <zmq.sugar.frame.Frame object>, <zmq.sugar.frame.Frame object>, <zmq.sugar.frame.Frame object>, <zmq.sugar.frame.Frame object>])\n    278         if self.control_stream:\n    279             self.control_stream.on_recv(self.dispatch_control, copy=False)\n    280 \n    281         def make_dispatcher(stream):\n    282             def dispatcher(msg):\n--> 283                 return self.dispatch_shell(stream, msg)\n        msg = [<zmq.sugar.frame.Frame object>, <zmq.sugar.frame.Frame object>, <zmq.sugar.frame.Frame object>, <zmq.sugar.frame.Frame object>, <zmq.sugar.frame.Frame object>, <zmq.sugar.frame.Frame object>, <zmq.sugar.frame.Frame object>]\n    284             return dispatcher\n    285 \n    286         for s in self.shell_streams:\n    287             s.on_recv(make_dispatcher(s), copy=False)\n\n...........................................................................\nC:\\Users\\Administrator\\Anaconda3\\lib\\site-packages\\ipykernel\\kernelbase.py in dispatch_shell(self=<ipykernel.ipkernel.IPythonKernel object>, stream=<zmq.eventloop.zmqstream.ZMQStream object>, msg={'buffers': [], 'content': {'allow_stdin': True, 'code': '# fit on logFCS \\nfrom sklearn.ensemble import Ra...rfc = stats.pearsonr(actual, pred)[0] ** 2\\nr2_rfc', 'silent': False, 'stop_on_error': True, 'store_history': True, 'user_expressions': {}}, 'header': {'date': datetime.datetime(2018, 4, 18, 20, 32, 26, 212757, tzinfo=tzutc()), 'msg_id': '8767463f4dea43d88beaf4a83e3560e0', 'msg_type': 'execute_request', 'session': 'ce2053249d52422389200b752e2e0002', 'username': 'username', 'version': '5.2'}, 'metadata': {}, 'msg_id': '8767463f4dea43d88beaf4a83e3560e0', 'msg_type': 'execute_request', 'parent_header': {}})\n    228             self.log.warn(\"Unknown message type: %r\", msg_type)\n    229         else:\n    230             self.log.debug(\"%s: %s\", msg_type, msg)\n    231             self.pre_handler_hook()\n    232             try:\n--> 233                 handler(stream, idents, msg)\n        handler = <bound method Kernel.execute_request of <ipykernel.ipkernel.IPythonKernel object>>\n        stream = <zmq.eventloop.zmqstream.ZMQStream object>\n        idents = [b'ce2053249d52422389200b752e2e0002']\n        msg = {'buffers': [], 'content': {'allow_stdin': True, 'code': '# fit on logFCS \\nfrom sklearn.ensemble import Ra...rfc = stats.pearsonr(actual, pred)[0] ** 2\\nr2_rfc', 'silent': False, 'stop_on_error': True, 'store_history': True, 'user_expressions': {}}, 'header': {'date': datetime.datetime(2018, 4, 18, 20, 32, 26, 212757, tzinfo=tzutc()), 'msg_id': '8767463f4dea43d88beaf4a83e3560e0', 'msg_type': 'execute_request', 'session': 'ce2053249d52422389200b752e2e0002', 'username': 'username', 'version': '5.2'}, 'metadata': {}, 'msg_id': '8767463f4dea43d88beaf4a83e3560e0', 'msg_type': 'execute_request', 'parent_header': {}}\n    234             except Exception:\n    235                 self.log.error(\"Exception in message handler:\", exc_info=True)\n    236             finally:\n    237                 self.post_handler_hook()\n\n...........................................................................\nC:\\Users\\Administrator\\Anaconda3\\lib\\site-packages\\ipykernel\\kernelbase.py in execute_request(self=<ipykernel.ipkernel.IPythonKernel object>, stream=<zmq.eventloop.zmqstream.ZMQStream object>, ident=[b'ce2053249d52422389200b752e2e0002'], parent={'buffers': [], 'content': {'allow_stdin': True, 'code': '# fit on logFCS \\nfrom sklearn.ensemble import Ra...rfc = stats.pearsonr(actual, pred)[0] ** 2\\nr2_rfc', 'silent': False, 'stop_on_error': True, 'store_history': True, 'user_expressions': {}}, 'header': {'date': datetime.datetime(2018, 4, 18, 20, 32, 26, 212757, tzinfo=tzutc()), 'msg_id': '8767463f4dea43d88beaf4a83e3560e0', 'msg_type': 'execute_request', 'session': 'ce2053249d52422389200b752e2e0002', 'username': 'username', 'version': '5.2'}, 'metadata': {}, 'msg_id': '8767463f4dea43d88beaf4a83e3560e0', 'msg_type': 'execute_request', 'parent_header': {}})\n    394         if not silent:\n    395             self.execution_count += 1\n    396             self._publish_execute_input(code, parent, self.execution_count)\n    397 \n    398         reply_content = self.do_execute(code, silent, store_history,\n--> 399                                         user_expressions, allow_stdin)\n        user_expressions = {}\n        allow_stdin = True\n    400 \n    401         # Flush output before sending the reply.\n    402         sys.stdout.flush()\n    403         sys.stderr.flush()\n\n...........................................................................\nC:\\Users\\Administrator\\Anaconda3\\lib\\site-packages\\ipykernel\\ipkernel.py in do_execute(self=<ipykernel.ipkernel.IPythonKernel object>, code='# fit on logFCS \\nfrom sklearn.ensemble import Ra...rfc = stats.pearsonr(actual, pred)[0] ** 2\\nr2_rfc', silent=False, store_history=True, user_expressions={}, allow_stdin=True)\n    203 \n    204         self._forward_input(allow_stdin)\n    205 \n    206         reply_content = {}\n    207         try:\n--> 208             res = shell.run_cell(code, store_history=store_history, silent=silent)\n        res = undefined\n        shell.run_cell = <bound method ZMQInteractiveShell.run_cell of <ipykernel.zmqshell.ZMQInteractiveShell object>>\n        code = '# fit on logFCS \\nfrom sklearn.ensemble import Ra...rfc = stats.pearsonr(actual, pred)[0] ** 2\\nr2_rfc'\n        store_history = True\n        silent = False\n    209         finally:\n    210             self._restore_input()\n    211 \n    212         if res.error_before_exec is not None:\n\n...........................................................................\nC:\\Users\\Administrator\\Anaconda3\\lib\\site-packages\\ipykernel\\zmqshell.py in run_cell(self=<ipykernel.zmqshell.ZMQInteractiveShell object>, *args=('# fit on logFCS \\nfrom sklearn.ensemble import Ra...rfc = stats.pearsonr(actual, pred)[0] ** 2\\nr2_rfc',), **kwargs={'silent': False, 'store_history': True})\n    532             )\n    533         self.payload_manager.write_payload(payload)\n    534 \n    535     def run_cell(self, *args, **kwargs):\n    536         self._last_traceback = None\n--> 537         return super(ZMQInteractiveShell, self).run_cell(*args, **kwargs)\n        self.run_cell = <bound method ZMQInteractiveShell.run_cell of <ipykernel.zmqshell.ZMQInteractiveShell object>>\n        args = ('# fit on logFCS \\nfrom sklearn.ensemble import Ra...rfc = stats.pearsonr(actual, pred)[0] ** 2\\nr2_rfc',)\n        kwargs = {'silent': False, 'store_history': True}\n    538 \n    539     def _showtraceback(self, etype, evalue, stb):\n    540         # try to preserve ordering of tracebacks and print statements\n    541         sys.stdout.flush()\n\n...........................................................................\nC:\\Users\\Administrator\\Anaconda3\\lib\\site-packages\\IPython\\core\\interactiveshell.py in run_cell(self=<ipykernel.zmqshell.ZMQInteractiveShell object>, raw_cell='# fit on logFCS \\nfrom sklearn.ensemble import Ra...rfc = stats.pearsonr(actual, pred)[0] ** 2\\nr2_rfc', store_history=True, silent=False, shell_futures=True)\n   2723                 self.displayhook.exec_result = result\n   2724 \n   2725                 # Execute the user code\n   2726                 interactivity = \"none\" if silent else self.ast_node_interactivity\n   2727                 has_raised = self.run_ast_nodes(code_ast.body, cell_name,\n-> 2728                    interactivity=interactivity, compiler=compiler, result=result)\n        interactivity = 'last_expr'\n        compiler = <IPython.core.compilerop.CachingCompiler object>\n   2729                 \n   2730                 self.last_execution_succeeded = not has_raised\n   2731                 self.last_execution_result = result\n   2732 \n\n...........................................................................\nC:\\Users\\Administrator\\Anaconda3\\lib\\site-packages\\IPython\\core\\interactiveshell.py in run_ast_nodes(self=<ipykernel.zmqshell.ZMQInteractiveShell object>, nodelist=[<_ast.ImportFrom object>, <_ast.Assign object>, <_ast.Assign object>, <_ast.Assign object>, <_ast.Expr object>, <_ast.Assign object>, <_ast.Assign object>, <_ast.Assign object>, <_ast.Expr object>], cell_name='<ipython-input-66-3bdf2e244372>', interactivity='last', compiler=<IPython.core.compilerop.CachingCompiler object>, result=<ExecutionResult object at 236f25f7f28, executio..._before_exec=None error_in_exec=None result=None>)\n   2845 \n   2846         try:\n   2847             for i, node in enumerate(to_run_exec):\n   2848                 mod = ast.Module([node])\n   2849                 code = compiler(mod, cell_name, \"exec\")\n-> 2850                 if self.run_code(code, result):\n        self.run_code = <bound method InteractiveShell.run_code of <ipykernel.zmqshell.ZMQInteractiveShell object>>\n        code = <code object <module> at 0x00000236EF27B0C0, file \"<ipython-input-66-3bdf2e244372>\", line 9>\n        result = <ExecutionResult object at 236f25f7f28, executio..._before_exec=None error_in_exec=None result=None>\n   2851                     return True\n   2852 \n   2853             for i, node in enumerate(to_run_interactive):\n   2854                 mod = ast.Interactive([node])\n\n...........................................................................\nC:\\Users\\Administrator\\Anaconda3\\lib\\site-packages\\IPython\\core\\interactiveshell.py in run_code(self=<ipykernel.zmqshell.ZMQInteractiveShell object>, code_obj=<code object <module> at 0x00000236EF27B0C0, file \"<ipython-input-66-3bdf2e244372>\", line 9>, result=<ExecutionResult object at 236f25f7f28, executio..._before_exec=None error_in_exec=None result=None>)\n   2905         outflag = True  # happens in more places, so it's easier as default\n   2906         try:\n   2907             try:\n   2908                 self.hooks.pre_run_code_hook()\n   2909                 #rprint('Running code', repr(code_obj)) # dbg\n-> 2910                 exec(code_obj, self.user_global_ns, self.user_ns)\n        code_obj = <code object <module> at 0x00000236EF27B0C0, file \"<ipython-input-66-3bdf2e244372>\", line 9>\n        self.user_global_ns = {'GridSearchCV': <class 'sklearn.model_selection._search.GridSearchCV'>, 'Imputer': <class 'sklearn.preprocessing.imputation.Imputer'>, 'In': ['', \"# Set up Notebook\\nget_ipython().run_line_magic('...solute_error\\nfrom sklearn.metrics import r2_score\", \"train_data = pd.read_csv('tz_rain.csv')\\ntest_data = pd.read_csv('tz_test.csv')\", \"train_data = pd.read_csv('tz_train.csv')\\ntest_data = pd.read_csv('tz_test.csv')\", 'train_data', \"train_data = pd.read_csv('tz_train.csv')\\ntest_da...1, how='all')\\ntest_data.dropna(axis=1, how='all')\", 'train_data', \"train_data = pd.read_csv('tz_train.csv')\\ntest_da...1, how='all')\\ntest_data.dropna(axis=1, how='all')\", \"train_data = pd.read_csv('tz_train.csv')\\ntest_da...)\\ntest_data = test_data.dropna(axis=1, how='all')\", 'train_data', 'train_data[\"FCS\"]', 'train_data[\"FCS\"] = log(train_data[\"FCS\"])', \"# Set up Notebook\\nget_ipython().run_line_magic('...solute_error\\nfrom sklearn.metrics import r2_score\", 'train_data[\"FCS\"] = math.log(train_data[\"FCS\"])', 'train_data ', \"# Set up Notebook\\nget_ipython().run_line_magic('...solute_error\\nfrom sklearn.metrics import r2_score\", \"train_data = pd.read_csv('tz_train.csv')\\ntest_da...)\\ntest_data = test_data.dropna(axis=1, how='all')\", 'train_data ', \"labels = ['logFCS', 'RCSI', 'HDDS']\", 'x_train=train_data.drop(labels, axis=1)\\nx_train ...t.drop(x_test.columns[0], axis=1)\\n\\nx_train.head()', ...], 'LinearRegression': <class 'sklearn.linear_model.base.LinearRegression'>, 'Out': {4:       Unnamed: 0        FNID       ea_id   yearm...080          0.244302  \n\n[2322 rows x 43 columns], 5:       Unnamed: 0        FNID       ea_id   yearm...920          0.000000  \n\n[2289 rows x 42 columns], 6:       Unnamed: 0        FNID       ea_id   yearm...080          0.244302  \n\n[2322 rows x 43 columns], 7:       Unnamed: 0        FNID       ea_id   yearm...920          0.000000  \n\n[2289 rows x 42 columns], 9:       Unnamed: 0        FNID       ea_id   yearm...080          0.244302  \n\n[2322 rows x 42 columns], 10: 0       15.833333\n1       72.666667\n2       32.2...90.000000\nName: FCS, Length: 2322, dtype: float64, 14:       Unnamed: 0        FNID       ea_id   yearm...080          0.244302  \n\n[2322 rows x 42 columns], 17:       Unnamed: 0        FNID       ea_id   yearm...   0.244302  4.499810  \n\n[2322 rows x 43 columns], 21:   FNID       ea_id   yearmon  floor_cement  floo...aN  \n4               NaN  \n\n[5 rows x 39 columns], 22:      logFCS  rCSI  HDDS\n0  2.397895   0.0   2.0\n...0\n3  3.433987   0.0   3.0\n4  2.602690   0.0   3.0, ...}, 'PolynomialFeatures': <class 'sklearn.preprocessing.data.PolynomialFeatures'>, 'RandomForestRegressor': <class 'sklearn.ensemble.forest.RandomForestRegressor'>, 'SVR': <class 'sklearn.svm.classes.SVR'>, 'StandardScaler': <class 'sklearn.preprocessing.data.StandardScaler'>, '_': 0.04102980438848065, ...}\n        self.user_ns = {'GridSearchCV': <class 'sklearn.model_selection._search.GridSearchCV'>, 'Imputer': <class 'sklearn.preprocessing.imputation.Imputer'>, 'In': ['', \"# Set up Notebook\\nget_ipython().run_line_magic('...solute_error\\nfrom sklearn.metrics import r2_score\", \"train_data = pd.read_csv('tz_rain.csv')\\ntest_data = pd.read_csv('tz_test.csv')\", \"train_data = pd.read_csv('tz_train.csv')\\ntest_data = pd.read_csv('tz_test.csv')\", 'train_data', \"train_data = pd.read_csv('tz_train.csv')\\ntest_da...1, how='all')\\ntest_data.dropna(axis=1, how='all')\", 'train_data', \"train_data = pd.read_csv('tz_train.csv')\\ntest_da...1, how='all')\\ntest_data.dropna(axis=1, how='all')\", \"train_data = pd.read_csv('tz_train.csv')\\ntest_da...)\\ntest_data = test_data.dropna(axis=1, how='all')\", 'train_data', 'train_data[\"FCS\"]', 'train_data[\"FCS\"] = log(train_data[\"FCS\"])', \"# Set up Notebook\\nget_ipython().run_line_magic('...solute_error\\nfrom sklearn.metrics import r2_score\", 'train_data[\"FCS\"] = math.log(train_data[\"FCS\"])', 'train_data ', \"# Set up Notebook\\nget_ipython().run_line_magic('...solute_error\\nfrom sklearn.metrics import r2_score\", \"train_data = pd.read_csv('tz_train.csv')\\ntest_da...)\\ntest_data = test_data.dropna(axis=1, how='all')\", 'train_data ', \"labels = ['logFCS', 'RCSI', 'HDDS']\", 'x_train=train_data.drop(labels, axis=1)\\nx_train ...t.drop(x_test.columns[0], axis=1)\\n\\nx_train.head()', ...], 'LinearRegression': <class 'sklearn.linear_model.base.LinearRegression'>, 'Out': {4:       Unnamed: 0        FNID       ea_id   yearm...080          0.244302  \n\n[2322 rows x 43 columns], 5:       Unnamed: 0        FNID       ea_id   yearm...920          0.000000  \n\n[2289 rows x 42 columns], 6:       Unnamed: 0        FNID       ea_id   yearm...080          0.244302  \n\n[2322 rows x 43 columns], 7:       Unnamed: 0        FNID       ea_id   yearm...920          0.000000  \n\n[2289 rows x 42 columns], 9:       Unnamed: 0        FNID       ea_id   yearm...080          0.244302  \n\n[2322 rows x 42 columns], 10: 0       15.833333\n1       72.666667\n2       32.2...90.000000\nName: FCS, Length: 2322, dtype: float64, 14:       Unnamed: 0        FNID       ea_id   yearm...080          0.244302  \n\n[2322 rows x 42 columns], 17:       Unnamed: 0        FNID       ea_id   yearm...   0.244302  4.499810  \n\n[2322 rows x 43 columns], 21:   FNID       ea_id   yearmon  floor_cement  floo...aN  \n4               NaN  \n\n[5 rows x 39 columns], 22:      logFCS  rCSI  HDDS\n0  2.397895   0.0   2.0\n...0\n3  3.433987   0.0   3.0\n4  2.602690   0.0   3.0, ...}, 'PolynomialFeatures': <class 'sklearn.preprocessing.data.PolynomialFeatures'>, 'RandomForestRegressor': <class 'sklearn.ensemble.forest.RandomForestRegressor'>, 'SVR': <class 'sklearn.svm.classes.SVR'>, 'StandardScaler': <class 'sklearn.preprocessing.data.StandardScaler'>, '_': 0.04102980438848065, ...}\n   2911             finally:\n   2912                 # Reset our crash handler in place\n   2913                 sys.excepthook = old_excepthook\n   2914         except SystemExit as e:\n\n...........................................................................\nC:\\Users\\Administrator\\OneDrive - University of Illinois - Urbana\\python\\MalawiPaper\\<ipython-input-66-3bdf2e244372> in <module>()\n      4 # Create Regressor with default properties\n      5 rfc = RandomForestRegressor(random_state =0,n_jobs =4,warm_start = True)\n      6 \n      7 parameters = {'max_depth':np.arange( 1,8, 1 ).tolist(), 'min_samples_leaf':np.arange( 1, 6, 1 ).tolist()}\n      8 clf = GridSearchCV(rfc, parameters,cv=6, n_jobs= 4, iid = True,  refit= True,pre_dispatch= '2*n_jobs')\n----> 9 clf.fit(x_train, y_train[labels[0]])\n     10 \n     11 # Fit estimator and display score\n     12 \n     13 # Regress on test data\n\n...........................................................................\nC:\\Users\\Administrator\\Anaconda3\\lib\\site-packages\\sklearn\\model_selection\\_search.py in fit(self=GridSearchCV(cv=6, error_score='raise',\n       e...ain_score='warn',\n       scoring=None, verbose=0), X=array([[-1.18629573,  1.20383238, -2.0873819 , ....  1.78911047,\n        -0.15531011,  2.19393017]]), y=68      3.417727\n69      4.069027\n70      2.6390...499810\nName: logFCS, Length: 3049, dtype: float64, groups=None, **fit_params={})\n    634                                   return_train_score=self.return_train_score,\n    635                                   return_n_test_samples=True,\n    636                                   return_times=True, return_parameters=False,\n    637                                   error_score=self.error_score)\n    638           for parameters, (train, test) in product(candidate_params,\n--> 639                                                    cv.split(X, y, groups)))\n        cv.split = <bound method _BaseKFold.split of KFold(n_splits=6, random_state=None, shuffle=False)>\n        X = array([[-1.18629573,  1.20383238, -2.0873819 , ....  1.78911047,\n        -0.15531011,  2.19393017]])\n        y = 68      3.417727\n69      4.069027\n70      2.6390...499810\nName: logFCS, Length: 3049, dtype: float64\n        groups = None\n    640 \n    641         # if one choose to see train score, \"out\" will contain train score info\n    642         if self.return_train_score:\n    643             (train_score_dicts, test_score_dicts, test_sample_counts, fit_time,\n\n...........................................................................\nC:\\Users\\Administrator\\Anaconda3\\lib\\site-packages\\sklearn\\externals\\joblib\\parallel.py in __call__(self=Parallel(n_jobs=4), iterable=<generator object BaseSearchCV.fit.<locals>.<genexpr>>)\n    784             if pre_dispatch == \"all\" or n_jobs == 1:\n    785                 # The iterable was consumed all at once by the above for loop.\n    786                 # No need to wait for async callbacks to trigger to\n    787                 # consumption.\n    788                 self._iterating = False\n--> 789             self.retrieve()\n        self.retrieve = <bound method Parallel.retrieve of Parallel(n_jobs=4)>\n    790             # Make sure that we get a last message telling us we are done\n    791             elapsed_time = time.time() - self._start_time\n    792             self._print('Done %3i out of %3i | elapsed: %s finished',\n    793                         (len(self._output), len(self._output),\n\n---------------------------------------------------------------------------\nSub-process traceback:\n---------------------------------------------------------------------------\nValueError                                         Wed Apr 18 15:32:27 2018\nPID: 14744        Python 3.6.4: C:\\Users\\Administrator\\Anaconda3\\python.exe\n...........................................................................\nC:\\Users\\Administrator\\Anaconda3\\lib\\site-packages\\sklearn\\externals\\joblib\\parallel.py in __call__(self=<sklearn.externals.joblib.parallel.BatchedCalls object>)\n    126     def __init__(self, iterator_slice):\n    127         self.items = list(iterator_slice)\n    128         self._size = len(self.items)\n    129 \n    130     def __call__(self):\n--> 131         return [func(*args, **kwargs) for func, args, kwargs in self.items]\n        self.items = [(<function _fit_and_score>, (RandomForestRegressor(bootstrap=True, criterion=...alse, random_state=0, verbose=0, warm_start=True), array([[-1.18629573,  1.20383238, -2.0873819 , ....  1.78911047,\n        -0.15531011,  2.19393017]]), 68      3.417727\n69      4.069027\n70      2.6390...499810\nName: logFCS, Length: 3049, dtype: float64, {'score': <function _passthrough_scorer>}, array([ 509,  510,  511, ..., 3046, 3047, 3048]), array([  0,   1,   2,   3,   4,   5,   6,   7,  ..., 501, 502, 503, 504, 505, 506,\n       507, 508]), 0, {'max_depth': 1, 'min_samples_leaf': 1}), {'error_score': 'raise', 'fit_params': {}, 'return_n_test_samples': True, 'return_parameters': False, 'return_times': True, 'return_train_score': 'warn'})]\n    132 \n    133     def __len__(self):\n    134         return self._size\n    135 \n\n...........................................................................\nC:\\Users\\Administrator\\Anaconda3\\lib\\site-packages\\sklearn\\externals\\joblib\\parallel.py in <listcomp>(.0=<list_iterator object>)\n    126     def __init__(self, iterator_slice):\n    127         self.items = list(iterator_slice)\n    128         self._size = len(self.items)\n    129 \n    130     def __call__(self):\n--> 131         return [func(*args, **kwargs) for func, args, kwargs in self.items]\n        func = <function _fit_and_score>\n        args = (RandomForestRegressor(bootstrap=True, criterion=...alse, random_state=0, verbose=0, warm_start=True), array([[-1.18629573,  1.20383238, -2.0873819 , ....  1.78911047,\n        -0.15531011,  2.19393017]]), 68      3.417727\n69      4.069027\n70      2.6390...499810\nName: logFCS, Length: 3049, dtype: float64, {'score': <function _passthrough_scorer>}, array([ 509,  510,  511, ..., 3046, 3047, 3048]), array([  0,   1,   2,   3,   4,   5,   6,   7,  ..., 501, 502, 503, 504, 505, 506,\n       507, 508]), 0, {'max_depth': 1, 'min_samples_leaf': 1})\n        kwargs = {'error_score': 'raise', 'fit_params': {}, 'return_n_test_samples': True, 'return_parameters': False, 'return_times': True, 'return_train_score': 'warn'}\n    132 \n    133     def __len__(self):\n    134         return self._size\n    135 \n\n...........................................................................\nC:\\Users\\Administrator\\Anaconda3\\lib\\site-packages\\sklearn\\model_selection\\_validation.py in _fit_and_score(estimator=RandomForestRegressor(bootstrap=True, criterion=...alse, random_state=0, verbose=0, warm_start=True), X=array([[-1.18629573,  1.20383238, -2.0873819 , ....  1.78911047,\n        -0.15531011,  2.19393017]]), y=68      3.417727\n69      4.069027\n70      2.6390...499810\nName: logFCS, Length: 3049, dtype: float64, scorer={'score': <function _passthrough_scorer>}, train=array([ 509,  510,  511, ..., 3046, 3047, 3048]), test=array([  0,   1,   2,   3,   4,   5,   6,   7,  ..., 501, 502, 503, 504, 505, 506,\n       507, 508]), verbose=0, parameters={'max_depth': 1, 'min_samples_leaf': 1}, fit_params={}, return_train_score='warn', return_parameters=False, return_n_test_samples=True, return_times=True, error_score='raise')\n    453 \n    454     try:\n    455         if y_train is None:\n    456             estimator.fit(X_train, **fit_params)\n    457         else:\n--> 458             estimator.fit(X_train, y_train, **fit_params)\n        estimator.fit = <bound method BaseForest.fit of RandomForestRegr...lse, random_state=0, verbose=0, warm_start=True)>\n        X_train = array([[-1.18629573,  1.20383238,  0.75333937, ....  1.78911047,\n        -0.15531011,  2.19393017]])\n        y_train = 718     4.226834\n719     0.405465\n720     4.1249...499810\nName: logFCS, Length: 2540, dtype: float64\n        fit_params = {}\n    459 \n    460     except Exception as e:\n    461         # Note fit time as time until error\n    462         fit_time = time.time() - start_time\n\n...........................................................................\nC:\\Users\\Administrator\\Anaconda3\\lib\\site-packages\\sklearn\\ensemble\\forest.py in fit(self=RandomForestRegressor(bootstrap=True, criterion=...alse, random_state=0, verbose=0, warm_start=True), X=array([[-1.1862957 ,  1.2038324 ,  0.75333935, ....       -0.15531011,  2.1939301 ]], dtype=float32), y=718     4.226834\n719     0.405465\n720     4.1249...499810\nName: logFCS, Length: 2540, dtype: float64, sample_weight=None)\n    243         self : object\n    244             Returns self.\n    245         \"\"\"\n    246         # Validate or convert input data\n    247         X = check_array(X, accept_sparse=\"csc\", dtype=DTYPE)\n--> 248         y = check_array(y, accept_sparse='csc', ensure_2d=False, dtype=None)\n        y = 718     4.226834\n719     0.405465\n720     4.1249...499810\nName: logFCS, Length: 2540, dtype: float64\n    249         if sample_weight is not None:\n    250             sample_weight = check_array(sample_weight, ensure_2d=False)\n    251         if issparse(X):\n    252             # Pre-sort indices to avoid that each individual tree of the\n\n...........................................................................\nC:\\Users\\Administrator\\Anaconda3\\lib\\site-packages\\sklearn\\utils\\validation.py in check_array(array=array([4.22683375, 0.40546511, 4.12493255, ..., 3.81771233, 2.40544248,\n       4.49980967]), accept_sparse='csc', dtype=None, order=None, copy=False, force_all_finite=True, ensure_2d=False, allow_nd=False, ensure_min_samples=1, ensure_min_features=1, warn_on_dtype=False, estimator=None)\n    448             array = array.astype(np.float64)\n    449         if not allow_nd and array.ndim >= 3:\n    450             raise ValueError(\"Found array with dim %d. %s expected <= 2.\"\n    451                              % (array.ndim, estimator_name))\n    452         if force_all_finite:\n--> 453             _assert_all_finite(array)\n        array = array([4.22683375, 0.40546511, 4.12493255, ..., 3.81771233, 2.40544248,\n       4.49980967])\n    454 \n    455     shape_repr = _shape_repr(array.shape)\n    456     if ensure_min_samples > 0:\n    457         n_samples = _num_samples(array)\n\n...........................................................................\nC:\\Users\\Administrator\\Anaconda3\\lib\\site-packages\\sklearn\\utils\\validation.py in _assert_all_finite(X=array([4.22683375, 0.40546511, 4.12493255, ..., 3.81771233, 2.40544248,\n       4.49980967]))\n     39     # everything is finite; fall back to O(n) space np.isfinite to prevent\n     40     # false positives from overflow in sum method.\n     41     if (X.dtype.char in np.typecodes['AllFloat'] and not np.isfinite(X.sum())\n     42             and not np.isfinite(X).all()):\n     43         raise ValueError(\"Input contains NaN, infinity\"\n---> 44                          \" or a value too large for %r.\" % X.dtype)\n        X.dtype = dtype('float64')\n     45 \n     46 \n     47 def assert_all_finite(X):\n     48     \"\"\"Throw a ValueError if X contains NaN or infinity.\n\nValueError: Input contains NaN, infinity or a value too large for dtype('float64').\n___________________________________________________________________________",
     "output_type": "error",
     "traceback": [
      "\u001b[1;31m---------------------------------------------------------------------------\u001b[0m",
      "\u001b[1;31mRemoteTraceback\u001b[0m                           Traceback (most recent call last)",
      "\u001b[1;31mRemoteTraceback\u001b[0m: \n\"\"\"\nTraceback (most recent call last):\n  File \"C:\\Users\\Administrator\\Anaconda3\\lib\\site-packages\\sklearn\\externals\\joblib\\_parallel_backends.py\", line 350, in __call__\n    return self.func(*args, **kwargs)\n  File \"C:\\Users\\Administrator\\Anaconda3\\lib\\site-packages\\sklearn\\externals\\joblib\\parallel.py\", line 131, in __call__\n    return [func(*args, **kwargs) for func, args, kwargs in self.items]\n  File \"C:\\Users\\Administrator\\Anaconda3\\lib\\site-packages\\sklearn\\externals\\joblib\\parallel.py\", line 131, in <listcomp>\n    return [func(*args, **kwargs) for func, args, kwargs in self.items]\n  File \"C:\\Users\\Administrator\\Anaconda3\\lib\\site-packages\\sklearn\\model_selection\\_validation.py\", line 458, in _fit_and_score\n    estimator.fit(X_train, y_train, **fit_params)\n  File \"C:\\Users\\Administrator\\Anaconda3\\lib\\site-packages\\sklearn\\ensemble\\forest.py\", line 248, in fit\n    y = check_array(y, accept_sparse='csc', ensure_2d=False, dtype=None)\n  File \"C:\\Users\\Administrator\\Anaconda3\\lib\\site-packages\\sklearn\\utils\\validation.py\", line 453, in check_array\n    _assert_all_finite(array)\n  File \"C:\\Users\\Administrator\\Anaconda3\\lib\\site-packages\\sklearn\\utils\\validation.py\", line 44, in _assert_all_finite\n    \" or a value too large for %r.\" % X.dtype)\nValueError: Input contains NaN, infinity or a value too large for dtype('float64').\n\nDuring handling of the above exception, another exception occurred:\n\nTraceback (most recent call last):\n  File \"C:\\Users\\Administrator\\Anaconda3\\lib\\multiprocessing\\pool.py\", line 119, in worker\n    result = (True, func(*args, **kwds))\n  File \"C:\\Users\\Administrator\\Anaconda3\\lib\\site-packages\\sklearn\\externals\\joblib\\_parallel_backends.py\", line 359, in __call__\n    raise TransportableException(text, e_type)\nsklearn.externals.joblib.my_exceptions.TransportableException: TransportableException\n___________________________________________________________________________\nValueError                                         Wed Apr 18 15:32:27 2018\nPID: 14744        Python 3.6.4: C:\\Users\\Administrator\\Anaconda3\\python.exe\n...........................................................................\nC:\\Users\\Administrator\\Anaconda3\\lib\\site-packages\\sklearn\\externals\\joblib\\parallel.py in __call__(self=<sklearn.externals.joblib.parallel.BatchedCalls object>)\n    126     def __init__(self, iterator_slice):\n    127         self.items = list(iterator_slice)\n    128         self._size = len(self.items)\n    129 \n    130     def __call__(self):\n--> 131         return [func(*args, **kwargs) for func, args, kwargs in self.items]\n        self.items = [(<function _fit_and_score>, (RandomForestRegressor(bootstrap=True, criterion=...alse, random_state=0, verbose=0, warm_start=True), array([[-1.18629573,  1.20383238, -2.0873819 , ....  1.78911047,\n        -0.15531011,  2.19393017]]), 68      3.417727\n69      4.069027\n70      2.6390...499810\nName: logFCS, Length: 3049, dtype: float64, {'score': <function _passthrough_scorer>}, array([ 509,  510,  511, ..., 3046, 3047, 3048]), array([  0,   1,   2,   3,   4,   5,   6,   7,  ..., 501, 502, 503, 504, 505, 506,\n       507, 508]), 0, {'max_depth': 1, 'min_samples_leaf': 1}), {'error_score': 'raise', 'fit_params': {}, 'return_n_test_samples': True, 'return_parameters': False, 'return_times': True, 'return_train_score': 'warn'})]\n    132 \n    133     def __len__(self):\n    134         return self._size\n    135 \n\n...........................................................................\nC:\\Users\\Administrator\\Anaconda3\\lib\\site-packages\\sklearn\\externals\\joblib\\parallel.py in <listcomp>(.0=<list_iterator object>)\n    126     def __init__(self, iterator_slice):\n    127         self.items = list(iterator_slice)\n    128         self._size = len(self.items)\n    129 \n    130     def __call__(self):\n--> 131         return [func(*args, **kwargs) for func, args, kwargs in self.items]\n        func = <function _fit_and_score>\n        args = (RandomForestRegressor(bootstrap=True, criterion=...alse, random_state=0, verbose=0, warm_start=True), array([[-1.18629573,  1.20383238, -2.0873819 , ....  1.78911047,\n        -0.15531011,  2.19393017]]), 68      3.417727\n69      4.069027\n70      2.6390...499810\nName: logFCS, Length: 3049, dtype: float64, {'score': <function _passthrough_scorer>}, array([ 509,  510,  511, ..., 3046, 3047, 3048]), array([  0,   1,   2,   3,   4,   5,   6,   7,  ..., 501, 502, 503, 504, 505, 506,\n       507, 508]), 0, {'max_depth': 1, 'min_samples_leaf': 1})\n        kwargs = {'error_score': 'raise', 'fit_params': {}, 'return_n_test_samples': True, 'return_parameters': False, 'return_times': True, 'return_train_score': 'warn'}\n    132 \n    133     def __len__(self):\n    134         return self._size\n    135 \n\n...........................................................................\nC:\\Users\\Administrator\\Anaconda3\\lib\\site-packages\\sklearn\\model_selection\\_validation.py in _fit_and_score(estimator=RandomForestRegressor(bootstrap=True, criterion=...alse, random_state=0, verbose=0, warm_start=True), X=array([[-1.18629573,  1.20383238, -2.0873819 , ....  1.78911047,\n        -0.15531011,  2.19393017]]), y=68      3.417727\n69      4.069027\n70      2.6390...499810\nName: logFCS, Length: 3049, dtype: float64, scorer={'score': <function _passthrough_scorer>}, train=array([ 509,  510,  511, ..., 3046, 3047, 3048]), test=array([  0,   1,   2,   3,   4,   5,   6,   7,  ..., 501, 502, 503, 504, 505, 506,\n       507, 508]), verbose=0, parameters={'max_depth': 1, 'min_samples_leaf': 1}, fit_params={}, return_train_score='warn', return_parameters=False, return_n_test_samples=True, return_times=True, error_score='raise')\n    453 \n    454     try:\n    455         if y_train is None:\n    456             estimator.fit(X_train, **fit_params)\n    457         else:\n--> 458             estimator.fit(X_train, y_train, **fit_params)\n        estimator.fit = <bound method BaseForest.fit of RandomForestRegr...lse, random_state=0, verbose=0, warm_start=True)>\n        X_train = array([[-1.18629573,  1.20383238,  0.75333937, ....  1.78911047,\n        -0.15531011,  2.19393017]])\n        y_train = 718     4.226834\n719     0.405465\n720     4.1249...499810\nName: logFCS, Length: 2540, dtype: float64\n        fit_params = {}\n    459 \n    460     except Exception as e:\n    461         # Note fit time as time until error\n    462         fit_time = time.time() - start_time\n\n...........................................................................\nC:\\Users\\Administrator\\Anaconda3\\lib\\site-packages\\sklearn\\ensemble\\forest.py in fit(self=RandomForestRegressor(bootstrap=True, criterion=...alse, random_state=0, verbose=0, warm_start=True), X=array([[-1.1862957 ,  1.2038324 ,  0.75333935, ....       -0.15531011,  2.1939301 ]], dtype=float32), y=718     4.226834\n719     0.405465\n720     4.1249...499810\nName: logFCS, Length: 2540, dtype: float64, sample_weight=None)\n    243         self : object\n    244             Returns self.\n    245         \"\"\"\n    246         # Validate or convert input data\n    247         X = check_array(X, accept_sparse=\"csc\", dtype=DTYPE)\n--> 248         y = check_array(y, accept_sparse='csc', ensure_2d=False, dtype=None)\n        y = 718     4.226834\n719     0.405465\n720     4.1249...499810\nName: logFCS, Length: 2540, dtype: float64\n    249         if sample_weight is not None:\n    250             sample_weight = check_array(sample_weight, ensure_2d=False)\n    251         if issparse(X):\n    252             # Pre-sort indices to avoid that each individual tree of the\n\n...........................................................................\nC:\\Users\\Administrator\\Anaconda3\\lib\\site-packages\\sklearn\\utils\\validation.py in check_array(array=array([4.22683375, 0.40546511, 4.12493255, ..., 3.81771233, 2.40544248,\n       4.49980967]), accept_sparse='csc', dtype=None, order=None, copy=False, force_all_finite=True, ensure_2d=False, allow_nd=False, ensure_min_samples=1, ensure_min_features=1, warn_on_dtype=False, estimator=None)\n    448             array = array.astype(np.float64)\n    449         if not allow_nd and array.ndim >= 3:\n    450             raise ValueError(\"Found array with dim %d. %s expected <= 2.\"\n    451                              % (array.ndim, estimator_name))\n    452         if force_all_finite:\n--> 453             _assert_all_finite(array)\n        array = array([4.22683375, 0.40546511, 4.12493255, ..., 3.81771233, 2.40544248,\n       4.49980967])\n    454 \n    455     shape_repr = _shape_repr(array.shape)\n    456     if ensure_min_samples > 0:\n    457         n_samples = _num_samples(array)\n\n...........................................................................\nC:\\Users\\Administrator\\Anaconda3\\lib\\site-packages\\sklearn\\utils\\validation.py in _assert_all_finite(X=array([4.22683375, 0.40546511, 4.12493255, ..., 3.81771233, 2.40544248,\n       4.49980967]))\n     39     # everything is finite; fall back to O(n) space np.isfinite to prevent\n     40     # false positives from overflow in sum method.\n     41     if (X.dtype.char in np.typecodes['AllFloat'] and not np.isfinite(X.sum())\n     42             and not np.isfinite(X).all()):\n     43         raise ValueError(\"Input contains NaN, infinity\"\n---> 44                          \" or a value too large for %r.\" % X.dtype)\n        X.dtype = dtype('float64')\n     45 \n     46 \n     47 def assert_all_finite(X):\n     48     \"\"\"Throw a ValueError if X contains NaN or infinity.\n\nValueError: Input contains NaN, infinity or a value too large for dtype('float64').\n___________________________________________________________________________\n\"\"\"",
      "\nThe above exception was the direct cause of the following exception:\n",
      "\u001b[1;31mTransportableException\u001b[0m                    Traceback (most recent call last)",
      "\u001b[1;32m~\\Anaconda3\\lib\\site-packages\\sklearn\\externals\\joblib\\parallel.py\u001b[0m in \u001b[0;36mretrieve\u001b[1;34m(self)\u001b[0m\n\u001b[0;32m    698\u001b[0m                 \u001b[1;32mif\u001b[0m \u001b[0mgetattr\u001b[0m\u001b[1;33m(\u001b[0m\u001b[0mself\u001b[0m\u001b[1;33m.\u001b[0m\u001b[0m_backend\u001b[0m\u001b[1;33m,\u001b[0m \u001b[1;34m'supports_timeout'\u001b[0m\u001b[1;33m,\u001b[0m \u001b[1;32mFalse\u001b[0m\u001b[1;33m)\u001b[0m\u001b[1;33m:\u001b[0m\u001b[1;33m\u001b[0m\u001b[0m\n\u001b[1;32m--> 699\u001b[1;33m                     \u001b[0mself\u001b[0m\u001b[1;33m.\u001b[0m\u001b[0m_output\u001b[0m\u001b[1;33m.\u001b[0m\u001b[0mextend\u001b[0m\u001b[1;33m(\u001b[0m\u001b[0mjob\u001b[0m\u001b[1;33m.\u001b[0m\u001b[0mget\u001b[0m\u001b[1;33m(\u001b[0m\u001b[0mtimeout\u001b[0m\u001b[1;33m=\u001b[0m\u001b[0mself\u001b[0m\u001b[1;33m.\u001b[0m\u001b[0mtimeout\u001b[0m\u001b[1;33m)\u001b[0m\u001b[1;33m)\u001b[0m\u001b[1;33m\u001b[0m\u001b[0m\n\u001b[0m\u001b[0;32m    700\u001b[0m                 \u001b[1;32melse\u001b[0m\u001b[1;33m:\u001b[0m\u001b[1;33m\u001b[0m\u001b[0m\n",
      "\u001b[1;32m~\\Anaconda3\\lib\\multiprocessing\\pool.py\u001b[0m in \u001b[0;36mget\u001b[1;34m(self, timeout)\u001b[0m\n\u001b[0;32m    643\u001b[0m         \u001b[1;32melse\u001b[0m\u001b[1;33m:\u001b[0m\u001b[1;33m\u001b[0m\u001b[0m\n\u001b[1;32m--> 644\u001b[1;33m             \u001b[1;32mraise\u001b[0m \u001b[0mself\u001b[0m\u001b[1;33m.\u001b[0m\u001b[0m_value\u001b[0m\u001b[1;33m\u001b[0m\u001b[0m\n\u001b[0m\u001b[0;32m    645\u001b[0m \u001b[1;33m\u001b[0m\u001b[0m\n",
      "\u001b[1;31mTransportableException\u001b[0m: TransportableException\n___________________________________________________________________________\nValueError                                         Wed Apr 18 15:32:27 2018\nPID: 14744        Python 3.6.4: C:\\Users\\Administrator\\Anaconda3\\python.exe\n...........................................................................\nC:\\Users\\Administrator\\Anaconda3\\lib\\site-packages\\sklearn\\externals\\joblib\\parallel.py in __call__(self=<sklearn.externals.joblib.parallel.BatchedCalls object>)\n    126     def __init__(self, iterator_slice):\n    127         self.items = list(iterator_slice)\n    128         self._size = len(self.items)\n    129 \n    130     def __call__(self):\n--> 131         return [func(*args, **kwargs) for func, args, kwargs in self.items]\n        self.items = [(<function _fit_and_score>, (RandomForestRegressor(bootstrap=True, criterion=...alse, random_state=0, verbose=0, warm_start=True), array([[-1.18629573,  1.20383238, -2.0873819 , ....  1.78911047,\n        -0.15531011,  2.19393017]]), 68      3.417727\n69      4.069027\n70      2.6390...499810\nName: logFCS, Length: 3049, dtype: float64, {'score': <function _passthrough_scorer>}, array([ 509,  510,  511, ..., 3046, 3047, 3048]), array([  0,   1,   2,   3,   4,   5,   6,   7,  ..., 501, 502, 503, 504, 505, 506,\n       507, 508]), 0, {'max_depth': 1, 'min_samples_leaf': 1}), {'error_score': 'raise', 'fit_params': {}, 'return_n_test_samples': True, 'return_parameters': False, 'return_times': True, 'return_train_score': 'warn'})]\n    132 \n    133     def __len__(self):\n    134         return self._size\n    135 \n\n...........................................................................\nC:\\Users\\Administrator\\Anaconda3\\lib\\site-packages\\sklearn\\externals\\joblib\\parallel.py in <listcomp>(.0=<list_iterator object>)\n    126     def __init__(self, iterator_slice):\n    127         self.items = list(iterator_slice)\n    128         self._size = len(self.items)\n    129 \n    130     def __call__(self):\n--> 131         return [func(*args, **kwargs) for func, args, kwargs in self.items]\n        func = <function _fit_and_score>\n        args = (RandomForestRegressor(bootstrap=True, criterion=...alse, random_state=0, verbose=0, warm_start=True), array([[-1.18629573,  1.20383238, -2.0873819 , ....  1.78911047,\n        -0.15531011,  2.19393017]]), 68      3.417727\n69      4.069027\n70      2.6390...499810\nName: logFCS, Length: 3049, dtype: float64, {'score': <function _passthrough_scorer>}, array([ 509,  510,  511, ..., 3046, 3047, 3048]), array([  0,   1,   2,   3,   4,   5,   6,   7,  ..., 501, 502, 503, 504, 505, 506,\n       507, 508]), 0, {'max_depth': 1, 'min_samples_leaf': 1})\n        kwargs = {'error_score': 'raise', 'fit_params': {}, 'return_n_test_samples': True, 'return_parameters': False, 'return_times': True, 'return_train_score': 'warn'}\n    132 \n    133     def __len__(self):\n    134         return self._size\n    135 \n\n...........................................................................\nC:\\Users\\Administrator\\Anaconda3\\lib\\site-packages\\sklearn\\model_selection\\_validation.py in _fit_and_score(estimator=RandomForestRegressor(bootstrap=True, criterion=...alse, random_state=0, verbose=0, warm_start=True), X=array([[-1.18629573,  1.20383238, -2.0873819 , ....  1.78911047,\n        -0.15531011,  2.19393017]]), y=68      3.417727\n69      4.069027\n70      2.6390...499810\nName: logFCS, Length: 3049, dtype: float64, scorer={'score': <function _passthrough_scorer>}, train=array([ 509,  510,  511, ..., 3046, 3047, 3048]), test=array([  0,   1,   2,   3,   4,   5,   6,   7,  ..., 501, 502, 503, 504, 505, 506,\n       507, 508]), verbose=0, parameters={'max_depth': 1, 'min_samples_leaf': 1}, fit_params={}, return_train_score='warn', return_parameters=False, return_n_test_samples=True, return_times=True, error_score='raise')\n    453 \n    454     try:\n    455         if y_train is None:\n    456             estimator.fit(X_train, **fit_params)\n    457         else:\n--> 458             estimator.fit(X_train, y_train, **fit_params)\n        estimator.fit = <bound method BaseForest.fit of RandomForestRegr...lse, random_state=0, verbose=0, warm_start=True)>\n        X_train = array([[-1.18629573,  1.20383238,  0.75333937, ....  1.78911047,\n        -0.15531011,  2.19393017]])\n        y_train = 718     4.226834\n719     0.405465\n720     4.1249...499810\nName: logFCS, Length: 2540, dtype: float64\n        fit_params = {}\n    459 \n    460     except Exception as e:\n    461         # Note fit time as time until error\n    462         fit_time = time.time() - start_time\n\n...........................................................................\nC:\\Users\\Administrator\\Anaconda3\\lib\\site-packages\\sklearn\\ensemble\\forest.py in fit(self=RandomForestRegressor(bootstrap=True, criterion=...alse, random_state=0, verbose=0, warm_start=True), X=array([[-1.1862957 ,  1.2038324 ,  0.75333935, ....       -0.15531011,  2.1939301 ]], dtype=float32), y=718     4.226834\n719     0.405465\n720     4.1249...499810\nName: logFCS, Length: 2540, dtype: float64, sample_weight=None)\n    243         self : object\n    244             Returns self.\n    245         \"\"\"\n    246         # Validate or convert input data\n    247         X = check_array(X, accept_sparse=\"csc\", dtype=DTYPE)\n--> 248         y = check_array(y, accept_sparse='csc', ensure_2d=False, dtype=None)\n        y = 718     4.226834\n719     0.405465\n720     4.1249...499810\nName: logFCS, Length: 2540, dtype: float64\n    249         if sample_weight is not None:\n    250             sample_weight = check_array(sample_weight, ensure_2d=False)\n    251         if issparse(X):\n    252             # Pre-sort indices to avoid that each individual tree of the\n\n...........................................................................\nC:\\Users\\Administrator\\Anaconda3\\lib\\site-packages\\sklearn\\utils\\validation.py in check_array(array=array([4.22683375, 0.40546511, 4.12493255, ..., 3.81771233, 2.40544248,\n       4.49980967]), accept_sparse='csc', dtype=None, order=None, copy=False, force_all_finite=True, ensure_2d=False, allow_nd=False, ensure_min_samples=1, ensure_min_features=1, warn_on_dtype=False, estimator=None)\n    448             array = array.astype(np.float64)\n    449         if not allow_nd and array.ndim >= 3:\n    450             raise ValueError(\"Found array with dim %d. %s expected <= 2.\"\n    451                              % (array.ndim, estimator_name))\n    452         if force_all_finite:\n--> 453             _assert_all_finite(array)\n        array = array([4.22683375, 0.40546511, 4.12493255, ..., 3.81771233, 2.40544248,\n       4.49980967])\n    454 \n    455     shape_repr = _shape_repr(array.shape)\n    456     if ensure_min_samples > 0:\n    457         n_samples = _num_samples(array)\n\n...........................................................................\nC:\\Users\\Administrator\\Anaconda3\\lib\\site-packages\\sklearn\\utils\\validation.py in _assert_all_finite(X=array([4.22683375, 0.40546511, 4.12493255, ..., 3.81771233, 2.40544248,\n       4.49980967]))\n     39     # everything is finite; fall back to O(n) space np.isfinite to prevent\n     40     # false positives from overflow in sum method.\n     41     if (X.dtype.char in np.typecodes['AllFloat'] and not np.isfinite(X.sum())\n     42             and not np.isfinite(X).all()):\n     43         raise ValueError(\"Input contains NaN, infinity\"\n---> 44                          \" or a value too large for %r.\" % X.dtype)\n        X.dtype = dtype('float64')\n     45 \n     46 \n     47 def assert_all_finite(X):\n     48     \"\"\"Throw a ValueError if X contains NaN or infinity.\n\nValueError: Input contains NaN, infinity or a value too large for dtype('float64').\n___________________________________________________________________________",
      "\nDuring handling of the above exception, another exception occurred:\n",
      "\u001b[1;31mJoblibValueError\u001b[0m                          Traceback (most recent call last)",
      "\u001b[1;32m<ipython-input-66-3bdf2e244372>\u001b[0m in \u001b[0;36m<module>\u001b[1;34m()\u001b[0m\n\u001b[0;32m      7\u001b[0m \u001b[0mparameters\u001b[0m \u001b[1;33m=\u001b[0m \u001b[1;33m{\u001b[0m\u001b[1;34m'max_depth'\u001b[0m\u001b[1;33m:\u001b[0m\u001b[0mnp\u001b[0m\u001b[1;33m.\u001b[0m\u001b[0marange\u001b[0m\u001b[1;33m(\u001b[0m \u001b[1;36m1\u001b[0m\u001b[1;33m,\u001b[0m\u001b[1;36m8\u001b[0m\u001b[1;33m,\u001b[0m \u001b[1;36m1\u001b[0m \u001b[1;33m)\u001b[0m\u001b[1;33m.\u001b[0m\u001b[0mtolist\u001b[0m\u001b[1;33m(\u001b[0m\u001b[1;33m)\u001b[0m\u001b[1;33m,\u001b[0m \u001b[1;34m'min_samples_leaf'\u001b[0m\u001b[1;33m:\u001b[0m\u001b[0mnp\u001b[0m\u001b[1;33m.\u001b[0m\u001b[0marange\u001b[0m\u001b[1;33m(\u001b[0m \u001b[1;36m1\u001b[0m\u001b[1;33m,\u001b[0m \u001b[1;36m6\u001b[0m\u001b[1;33m,\u001b[0m \u001b[1;36m1\u001b[0m \u001b[1;33m)\u001b[0m\u001b[1;33m.\u001b[0m\u001b[0mtolist\u001b[0m\u001b[1;33m(\u001b[0m\u001b[1;33m)\u001b[0m\u001b[1;33m}\u001b[0m\u001b[1;33m\u001b[0m\u001b[0m\n\u001b[0;32m      8\u001b[0m \u001b[0mclf\u001b[0m \u001b[1;33m=\u001b[0m \u001b[0mGridSearchCV\u001b[0m\u001b[1;33m(\u001b[0m\u001b[0mrfc\u001b[0m\u001b[1;33m,\u001b[0m \u001b[0mparameters\u001b[0m\u001b[1;33m,\u001b[0m\u001b[0mcv\u001b[0m\u001b[1;33m=\u001b[0m\u001b[1;36m6\u001b[0m\u001b[1;33m,\u001b[0m \u001b[0mn_jobs\u001b[0m\u001b[1;33m=\u001b[0m \u001b[1;36m4\u001b[0m\u001b[1;33m,\u001b[0m \u001b[0miid\u001b[0m \u001b[1;33m=\u001b[0m \u001b[1;32mTrue\u001b[0m\u001b[1;33m,\u001b[0m  \u001b[0mrefit\u001b[0m\u001b[1;33m=\u001b[0m \u001b[1;32mTrue\u001b[0m\u001b[1;33m,\u001b[0m\u001b[0mpre_dispatch\u001b[0m\u001b[1;33m=\u001b[0m \u001b[1;34m'2*n_jobs'\u001b[0m\u001b[1;33m)\u001b[0m\u001b[1;33m\u001b[0m\u001b[0m\n\u001b[1;32m----> 9\u001b[1;33m \u001b[0mclf\u001b[0m\u001b[1;33m.\u001b[0m\u001b[0mfit\u001b[0m\u001b[1;33m(\u001b[0m\u001b[0mx_train\u001b[0m\u001b[1;33m,\u001b[0m \u001b[0my_train\u001b[0m\u001b[1;33m[\u001b[0m\u001b[0mlabels\u001b[0m\u001b[1;33m[\u001b[0m\u001b[1;36m0\u001b[0m\u001b[1;33m]\u001b[0m\u001b[1;33m]\u001b[0m\u001b[1;33m)\u001b[0m\u001b[1;33m\u001b[0m\u001b[0m\n\u001b[0m\u001b[0;32m     10\u001b[0m \u001b[1;33m\u001b[0m\u001b[0m\n\u001b[0;32m     11\u001b[0m \u001b[1;31m# Fit estimator and display score\u001b[0m\u001b[1;33m\u001b[0m\u001b[1;33m\u001b[0m\u001b[0m\n",
      "\u001b[1;32m~\\Anaconda3\\lib\\site-packages\\sklearn\\model_selection\\_search.py\u001b[0m in \u001b[0;36mfit\u001b[1;34m(self, X, y, groups, **fit_params)\u001b[0m\n\u001b[0;32m    637\u001b[0m                                   error_score=self.error_score)\n\u001b[0;32m    638\u001b[0m           for parameters, (train, test) in product(candidate_params,\n\u001b[1;32m--> 639\u001b[1;33m                                                    cv.split(X, y, groups)))\n\u001b[0m\u001b[0;32m    640\u001b[0m \u001b[1;33m\u001b[0m\u001b[0m\n\u001b[0;32m    641\u001b[0m         \u001b[1;31m# if one choose to see train score, \"out\" will contain train score info\u001b[0m\u001b[1;33m\u001b[0m\u001b[1;33m\u001b[0m\u001b[0m\n",
      "\u001b[1;32m~\\Anaconda3\\lib\\site-packages\\sklearn\\externals\\joblib\\parallel.py\u001b[0m in \u001b[0;36m__call__\u001b[1;34m(self, iterable)\u001b[0m\n\u001b[0;32m    787\u001b[0m                 \u001b[1;31m# consumption.\u001b[0m\u001b[1;33m\u001b[0m\u001b[1;33m\u001b[0m\u001b[0m\n\u001b[0;32m    788\u001b[0m                 \u001b[0mself\u001b[0m\u001b[1;33m.\u001b[0m\u001b[0m_iterating\u001b[0m \u001b[1;33m=\u001b[0m \u001b[1;32mFalse\u001b[0m\u001b[1;33m\u001b[0m\u001b[0m\n\u001b[1;32m--> 789\u001b[1;33m             \u001b[0mself\u001b[0m\u001b[1;33m.\u001b[0m\u001b[0mretrieve\u001b[0m\u001b[1;33m(\u001b[0m\u001b[1;33m)\u001b[0m\u001b[1;33m\u001b[0m\u001b[0m\n\u001b[0m\u001b[0;32m    790\u001b[0m             \u001b[1;31m# Make sure that we get a last message telling us we are done\u001b[0m\u001b[1;33m\u001b[0m\u001b[1;33m\u001b[0m\u001b[0m\n\u001b[0;32m    791\u001b[0m             \u001b[0melapsed_time\u001b[0m \u001b[1;33m=\u001b[0m \u001b[0mtime\u001b[0m\u001b[1;33m.\u001b[0m\u001b[0mtime\u001b[0m\u001b[1;33m(\u001b[0m\u001b[1;33m)\u001b[0m \u001b[1;33m-\u001b[0m \u001b[0mself\u001b[0m\u001b[1;33m.\u001b[0m\u001b[0m_start_time\u001b[0m\u001b[1;33m\u001b[0m\u001b[0m\n",
      "\u001b[1;32m~\\Anaconda3\\lib\\site-packages\\sklearn\\externals\\joblib\\parallel.py\u001b[0m in \u001b[0;36mretrieve\u001b[1;34m(self)\u001b[0m\n\u001b[0;32m    738\u001b[0m                     \u001b[0mexception\u001b[0m \u001b[1;33m=\u001b[0m \u001b[0mexception_type\u001b[0m\u001b[1;33m(\u001b[0m\u001b[0mreport\u001b[0m\u001b[1;33m)\u001b[0m\u001b[1;33m\u001b[0m\u001b[0m\n\u001b[0;32m    739\u001b[0m \u001b[1;33m\u001b[0m\u001b[0m\n\u001b[1;32m--> 740\u001b[1;33m                     \u001b[1;32mraise\u001b[0m \u001b[0mexception\u001b[0m\u001b[1;33m\u001b[0m\u001b[0m\n\u001b[0m\u001b[0;32m    741\u001b[0m \u001b[1;33m\u001b[0m\u001b[0m\n\u001b[0;32m    742\u001b[0m     \u001b[1;32mdef\u001b[0m \u001b[0m__call__\u001b[0m\u001b[1;33m(\u001b[0m\u001b[0mself\u001b[0m\u001b[1;33m,\u001b[0m \u001b[0miterable\u001b[0m\u001b[1;33m)\u001b[0m\u001b[1;33m:\u001b[0m\u001b[1;33m\u001b[0m\u001b[0m\n",
      "\u001b[1;31mJoblibValueError\u001b[0m: JoblibValueError\n___________________________________________________________________________\nMultiprocessing exception:\n...........................................................................\nC:\\Users\\Administrator\\Anaconda3\\lib\\runpy.py in _run_module_as_main(mod_name='ipykernel_launcher', alter_argv=1)\n    188         sys.exit(msg)\n    189     main_globals = sys.modules[\"__main__\"].__dict__\n    190     if alter_argv:\n    191         sys.argv[0] = mod_spec.origin\n    192     return _run_code(code, main_globals, None,\n--> 193                      \"__main__\", mod_spec)\n        mod_spec = ModuleSpec(name='ipykernel_launcher', loader=<_f...nda3\\\\lib\\\\site-packages\\\\ipykernel_launcher.py')\n    194 \n    195 def run_module(mod_name, init_globals=None,\n    196                run_name=None, alter_sys=False):\n    197     \"\"\"Execute a module's code without importing it\n\n...........................................................................\nC:\\Users\\Administrator\\Anaconda3\\lib\\runpy.py in _run_code(code=<code object <module> at 0x00000236D86C3AE0, fil...lib\\site-packages\\ipykernel_launcher.py\", line 5>, run_globals={'__annotations__': {}, '__builtins__': <module 'builtins' (built-in)>, '__cached__': r'C:\\Users\\Administrator\\Anaconda3\\lib\\site-packages\\__pycache__\\ipykernel_launcher.cpython-36.pyc', '__doc__': 'Entry point for launching an IPython kernel.\\n\\nTh...orts until\\nafter removing the cwd from sys.path.\\n', '__file__': r'C:\\Users\\Administrator\\Anaconda3\\lib\\site-packages\\ipykernel_launcher.py', '__loader__': <_frozen_importlib_external.SourceFileLoader object>, '__name__': '__main__', '__package__': '', '__spec__': ModuleSpec(name='ipykernel_launcher', loader=<_f...nda3\\\\lib\\\\site-packages\\\\ipykernel_launcher.py'), 'app': <module 'ipykernel.kernelapp' from 'C:\\\\Users\\\\A...a3\\\\lib\\\\site-packages\\\\ipykernel\\\\kernelapp.py'>, ...}, init_globals=None, mod_name='__main__', mod_spec=ModuleSpec(name='ipykernel_launcher', loader=<_f...nda3\\\\lib\\\\site-packages\\\\ipykernel_launcher.py'), pkg_name='', script_name=None)\n     80                        __cached__ = cached,\n     81                        __doc__ = None,\n     82                        __loader__ = loader,\n     83                        __package__ = pkg_name,\n     84                        __spec__ = mod_spec)\n---> 85     exec(code, run_globals)\n        code = <code object <module> at 0x00000236D86C3AE0, fil...lib\\site-packages\\ipykernel_launcher.py\", line 5>\n        run_globals = {'__annotations__': {}, '__builtins__': <module 'builtins' (built-in)>, '__cached__': r'C:\\Users\\Administrator\\Anaconda3\\lib\\site-packages\\__pycache__\\ipykernel_launcher.cpython-36.pyc', '__doc__': 'Entry point for launching an IPython kernel.\\n\\nTh...orts until\\nafter removing the cwd from sys.path.\\n', '__file__': r'C:\\Users\\Administrator\\Anaconda3\\lib\\site-packages\\ipykernel_launcher.py', '__loader__': <_frozen_importlib_external.SourceFileLoader object>, '__name__': '__main__', '__package__': '', '__spec__': ModuleSpec(name='ipykernel_launcher', loader=<_f...nda3\\\\lib\\\\site-packages\\\\ipykernel_launcher.py'), 'app': <module 'ipykernel.kernelapp' from 'C:\\\\Users\\\\A...a3\\\\lib\\\\site-packages\\\\ipykernel\\\\kernelapp.py'>, ...}\n     86     return run_globals\n     87 \n     88 def _run_module_code(code, init_globals=None,\n     89                     mod_name=None, mod_spec=None,\n\n...........................................................................\nC:\\Users\\Administrator\\Anaconda3\\lib\\site-packages\\ipykernel_launcher.py in <module>()\n     11     # This is added back by InteractiveShellApp.init_path()\n     12     if sys.path[0] == '':\n     13         del sys.path[0]\n     14 \n     15     from ipykernel import kernelapp as app\n---> 16     app.launch_new_instance()\n\n...........................................................................\nC:\\Users\\Administrator\\Anaconda3\\lib\\site-packages\\traitlets\\config\\application.py in launch_instance(cls=<class 'ipykernel.kernelapp.IPKernelApp'>, argv=None, **kwargs={})\n    653 \n    654         If a global instance already exists, this reinitializes and starts it\n    655         \"\"\"\n    656         app = cls.instance(**kwargs)\n    657         app.initialize(argv)\n--> 658         app.start()\n        app.start = <bound method IPKernelApp.start of <ipykernel.kernelapp.IPKernelApp object>>\n    659 \n    660 #-----------------------------------------------------------------------------\n    661 # utility functions, for convenience\n    662 #-----------------------------------------------------------------------------\n\n...........................................................................\nC:\\Users\\Administrator\\Anaconda3\\lib\\site-packages\\ipykernel\\kernelapp.py in start(self=<ipykernel.kernelapp.IPKernelApp object>)\n    473         if self.poller is not None:\n    474             self.poller.start()\n    475         self.kernel.start()\n    476         self.io_loop = ioloop.IOLoop.current()\n    477         try:\n--> 478             self.io_loop.start()\n        self.io_loop.start = <bound method ZMQIOLoop.start of <zmq.eventloop.ioloop.ZMQIOLoop object>>\n    479         except KeyboardInterrupt:\n    480             pass\n    481 \n    482 launch_new_instance = IPKernelApp.launch_instance\n\n...........................................................................\nC:\\Users\\Administrator\\Anaconda3\\lib\\site-packages\\zmq\\eventloop\\ioloop.py in start(self=<zmq.eventloop.ioloop.ZMQIOLoop object>)\n    172             )\n    173         return loop\n    174     \n    175     def start(self):\n    176         try:\n--> 177             super(ZMQIOLoop, self).start()\n        self.start = <bound method ZMQIOLoop.start of <zmq.eventloop.ioloop.ZMQIOLoop object>>\n    178         except ZMQError as e:\n    179             if e.errno == ETERM:\n    180                 # quietly return on ETERM\n    181                 pass\n\n...........................................................................\nC:\\Users\\Administrator\\Anaconda3\\lib\\site-packages\\tornado\\ioloop.py in start(self=<zmq.eventloop.ioloop.ZMQIOLoop object>)\n    883                 self._events.update(event_pairs)\n    884                 while self._events:\n    885                     fd, events = self._events.popitem()\n    886                     try:\n    887                         fd_obj, handler_func = self._handlers[fd]\n--> 888                         handler_func(fd_obj, events)\n        handler_func = <function wrap.<locals>.null_wrapper>\n        fd_obj = <zmq.sugar.socket.Socket object>\n        events = 1\n    889                     except (OSError, IOError) as e:\n    890                         if errno_from_exception(e) == errno.EPIPE:\n    891                             # Happens when the client closes the connection\n    892                             pass\n\n...........................................................................\nC:\\Users\\Administrator\\Anaconda3\\lib\\site-packages\\tornado\\stack_context.py in null_wrapper(*args=(<zmq.sugar.socket.Socket object>, 1), **kwargs={})\n    272         # Fast path when there are no active contexts.\n    273         def null_wrapper(*args, **kwargs):\n    274             try:\n    275                 current_state = _state.contexts\n    276                 _state.contexts = cap_contexts[0]\n--> 277                 return fn(*args, **kwargs)\n        args = (<zmq.sugar.socket.Socket object>, 1)\n        kwargs = {}\n    278             finally:\n    279                 _state.contexts = current_state\n    280         null_wrapper._wrapped = True\n    281         return null_wrapper\n\n...........................................................................\nC:\\Users\\Administrator\\Anaconda3\\lib\\site-packages\\zmq\\eventloop\\zmqstream.py in _handle_events(self=<zmq.eventloop.zmqstream.ZMQStream object>, fd=<zmq.sugar.socket.Socket object>, events=1)\n    435             # dispatch events:\n    436             if events & IOLoop.ERROR:\n    437                 gen_log.error(\"got POLLERR event on ZMQStream, which doesn't make sense\")\n    438                 return\n    439             if events & IOLoop.READ:\n--> 440                 self._handle_recv()\n        self._handle_recv = <bound method ZMQStream._handle_recv of <zmq.eventloop.zmqstream.ZMQStream object>>\n    441                 if not self.socket:\n    442                     return\n    443             if events & IOLoop.WRITE:\n    444                 self._handle_send()\n\n...........................................................................\nC:\\Users\\Administrator\\Anaconda3\\lib\\site-packages\\zmq\\eventloop\\zmqstream.py in _handle_recv(self=<zmq.eventloop.zmqstream.ZMQStream object>)\n    467                 gen_log.error(\"RECV Error: %s\"%zmq.strerror(e.errno))\n    468         else:\n    469             if self._recv_callback:\n    470                 callback = self._recv_callback\n    471                 # self._recv_callback = None\n--> 472                 self._run_callback(callback, msg)\n        self._run_callback = <bound method ZMQStream._run_callback of <zmq.eventloop.zmqstream.ZMQStream object>>\n        callback = <function wrap.<locals>.null_wrapper>\n        msg = [<zmq.sugar.frame.Frame object>, <zmq.sugar.frame.Frame object>, <zmq.sugar.frame.Frame object>, <zmq.sugar.frame.Frame object>, <zmq.sugar.frame.Frame object>, <zmq.sugar.frame.Frame object>, <zmq.sugar.frame.Frame object>]\n    473                 \n    474         # self.update_state()\n    475         \n    476 \n\n...........................................................................\nC:\\Users\\Administrator\\Anaconda3\\lib\\site-packages\\zmq\\eventloop\\zmqstream.py in _run_callback(self=<zmq.eventloop.zmqstream.ZMQStream object>, callback=<function wrap.<locals>.null_wrapper>, *args=([<zmq.sugar.frame.Frame object>, <zmq.sugar.frame.Frame object>, <zmq.sugar.frame.Frame object>, <zmq.sugar.frame.Frame object>, <zmq.sugar.frame.Frame object>, <zmq.sugar.frame.Frame object>, <zmq.sugar.frame.Frame object>],), **kwargs={})\n    409         close our socket.\"\"\"\n    410         try:\n    411             # Use a NullContext to ensure that all StackContexts are run\n    412             # inside our blanket exception handler rather than outside.\n    413             with stack_context.NullContext():\n--> 414                 callback(*args, **kwargs)\n        callback = <function wrap.<locals>.null_wrapper>\n        args = ([<zmq.sugar.frame.Frame object>, <zmq.sugar.frame.Frame object>, <zmq.sugar.frame.Frame object>, <zmq.sugar.frame.Frame object>, <zmq.sugar.frame.Frame object>, <zmq.sugar.frame.Frame object>, <zmq.sugar.frame.Frame object>],)\n        kwargs = {}\n    415         except:\n    416             gen_log.error(\"Uncaught exception, closing connection.\",\n    417                           exc_info=True)\n    418             # Close the socket on an uncaught exception from a user callback\n\n...........................................................................\nC:\\Users\\Administrator\\Anaconda3\\lib\\site-packages\\tornado\\stack_context.py in null_wrapper(*args=([<zmq.sugar.frame.Frame object>, <zmq.sugar.frame.Frame object>, <zmq.sugar.frame.Frame object>, <zmq.sugar.frame.Frame object>, <zmq.sugar.frame.Frame object>, <zmq.sugar.frame.Frame object>, <zmq.sugar.frame.Frame object>],), **kwargs={})\n    272         # Fast path when there are no active contexts.\n    273         def null_wrapper(*args, **kwargs):\n    274             try:\n    275                 current_state = _state.contexts\n    276                 _state.contexts = cap_contexts[0]\n--> 277                 return fn(*args, **kwargs)\n        args = ([<zmq.sugar.frame.Frame object>, <zmq.sugar.frame.Frame object>, <zmq.sugar.frame.Frame object>, <zmq.sugar.frame.Frame object>, <zmq.sugar.frame.Frame object>, <zmq.sugar.frame.Frame object>, <zmq.sugar.frame.Frame object>],)\n        kwargs = {}\n    278             finally:\n    279                 _state.contexts = current_state\n    280         null_wrapper._wrapped = True\n    281         return null_wrapper\n\n...........................................................................\nC:\\Users\\Administrator\\Anaconda3\\lib\\site-packages\\ipykernel\\kernelbase.py in dispatcher(msg=[<zmq.sugar.frame.Frame object>, <zmq.sugar.frame.Frame object>, <zmq.sugar.frame.Frame object>, <zmq.sugar.frame.Frame object>, <zmq.sugar.frame.Frame object>, <zmq.sugar.frame.Frame object>, <zmq.sugar.frame.Frame object>])\n    278         if self.control_stream:\n    279             self.control_stream.on_recv(self.dispatch_control, copy=False)\n    280 \n    281         def make_dispatcher(stream):\n    282             def dispatcher(msg):\n--> 283                 return self.dispatch_shell(stream, msg)\n        msg = [<zmq.sugar.frame.Frame object>, <zmq.sugar.frame.Frame object>, <zmq.sugar.frame.Frame object>, <zmq.sugar.frame.Frame object>, <zmq.sugar.frame.Frame object>, <zmq.sugar.frame.Frame object>, <zmq.sugar.frame.Frame object>]\n    284             return dispatcher\n    285 \n    286         for s in self.shell_streams:\n    287             s.on_recv(make_dispatcher(s), copy=False)\n\n...........................................................................\nC:\\Users\\Administrator\\Anaconda3\\lib\\site-packages\\ipykernel\\kernelbase.py in dispatch_shell(self=<ipykernel.ipkernel.IPythonKernel object>, stream=<zmq.eventloop.zmqstream.ZMQStream object>, msg={'buffers': [], 'content': {'allow_stdin': True, 'code': '# fit on logFCS \\nfrom sklearn.ensemble import Ra...rfc = stats.pearsonr(actual, pred)[0] ** 2\\nr2_rfc', 'silent': False, 'stop_on_error': True, 'store_history': True, 'user_expressions': {}}, 'header': {'date': datetime.datetime(2018, 4, 18, 20, 32, 26, 212757, tzinfo=tzutc()), 'msg_id': '8767463f4dea43d88beaf4a83e3560e0', 'msg_type': 'execute_request', 'session': 'ce2053249d52422389200b752e2e0002', 'username': 'username', 'version': '5.2'}, 'metadata': {}, 'msg_id': '8767463f4dea43d88beaf4a83e3560e0', 'msg_type': 'execute_request', 'parent_header': {}})\n    228             self.log.warn(\"Unknown message type: %r\", msg_type)\n    229         else:\n    230             self.log.debug(\"%s: %s\", msg_type, msg)\n    231             self.pre_handler_hook()\n    232             try:\n--> 233                 handler(stream, idents, msg)\n        handler = <bound method Kernel.execute_request of <ipykernel.ipkernel.IPythonKernel object>>\n        stream = <zmq.eventloop.zmqstream.ZMQStream object>\n        idents = [b'ce2053249d52422389200b752e2e0002']\n        msg = {'buffers': [], 'content': {'allow_stdin': True, 'code': '# fit on logFCS \\nfrom sklearn.ensemble import Ra...rfc = stats.pearsonr(actual, pred)[0] ** 2\\nr2_rfc', 'silent': False, 'stop_on_error': True, 'store_history': True, 'user_expressions': {}}, 'header': {'date': datetime.datetime(2018, 4, 18, 20, 32, 26, 212757, tzinfo=tzutc()), 'msg_id': '8767463f4dea43d88beaf4a83e3560e0', 'msg_type': 'execute_request', 'session': 'ce2053249d52422389200b752e2e0002', 'username': 'username', 'version': '5.2'}, 'metadata': {}, 'msg_id': '8767463f4dea43d88beaf4a83e3560e0', 'msg_type': 'execute_request', 'parent_header': {}}\n    234             except Exception:\n    235                 self.log.error(\"Exception in message handler:\", exc_info=True)\n    236             finally:\n    237                 self.post_handler_hook()\n\n...........................................................................\nC:\\Users\\Administrator\\Anaconda3\\lib\\site-packages\\ipykernel\\kernelbase.py in execute_request(self=<ipykernel.ipkernel.IPythonKernel object>, stream=<zmq.eventloop.zmqstream.ZMQStream object>, ident=[b'ce2053249d52422389200b752e2e0002'], parent={'buffers': [], 'content': {'allow_stdin': True, 'code': '# fit on logFCS \\nfrom sklearn.ensemble import Ra...rfc = stats.pearsonr(actual, pred)[0] ** 2\\nr2_rfc', 'silent': False, 'stop_on_error': True, 'store_history': True, 'user_expressions': {}}, 'header': {'date': datetime.datetime(2018, 4, 18, 20, 32, 26, 212757, tzinfo=tzutc()), 'msg_id': '8767463f4dea43d88beaf4a83e3560e0', 'msg_type': 'execute_request', 'session': 'ce2053249d52422389200b752e2e0002', 'username': 'username', 'version': '5.2'}, 'metadata': {}, 'msg_id': '8767463f4dea43d88beaf4a83e3560e0', 'msg_type': 'execute_request', 'parent_header': {}})\n    394         if not silent:\n    395             self.execution_count += 1\n    396             self._publish_execute_input(code, parent, self.execution_count)\n    397 \n    398         reply_content = self.do_execute(code, silent, store_history,\n--> 399                                         user_expressions, allow_stdin)\n        user_expressions = {}\n        allow_stdin = True\n    400 \n    401         # Flush output before sending the reply.\n    402         sys.stdout.flush()\n    403         sys.stderr.flush()\n\n...........................................................................\nC:\\Users\\Administrator\\Anaconda3\\lib\\site-packages\\ipykernel\\ipkernel.py in do_execute(self=<ipykernel.ipkernel.IPythonKernel object>, code='# fit on logFCS \\nfrom sklearn.ensemble import Ra...rfc = stats.pearsonr(actual, pred)[0] ** 2\\nr2_rfc', silent=False, store_history=True, user_expressions={}, allow_stdin=True)\n    203 \n    204         self._forward_input(allow_stdin)\n    205 \n    206         reply_content = {}\n    207         try:\n--> 208             res = shell.run_cell(code, store_history=store_history, silent=silent)\n        res = undefined\n        shell.run_cell = <bound method ZMQInteractiveShell.run_cell of <ipykernel.zmqshell.ZMQInteractiveShell object>>\n        code = '# fit on logFCS \\nfrom sklearn.ensemble import Ra...rfc = stats.pearsonr(actual, pred)[0] ** 2\\nr2_rfc'\n        store_history = True\n        silent = False\n    209         finally:\n    210             self._restore_input()\n    211 \n    212         if res.error_before_exec is not None:\n\n...........................................................................\nC:\\Users\\Administrator\\Anaconda3\\lib\\site-packages\\ipykernel\\zmqshell.py in run_cell(self=<ipykernel.zmqshell.ZMQInteractiveShell object>, *args=('# fit on logFCS \\nfrom sklearn.ensemble import Ra...rfc = stats.pearsonr(actual, pred)[0] ** 2\\nr2_rfc',), **kwargs={'silent': False, 'store_history': True})\n    532             )\n    533         self.payload_manager.write_payload(payload)\n    534 \n    535     def run_cell(self, *args, **kwargs):\n    536         self._last_traceback = None\n--> 537         return super(ZMQInteractiveShell, self).run_cell(*args, **kwargs)\n        self.run_cell = <bound method ZMQInteractiveShell.run_cell of <ipykernel.zmqshell.ZMQInteractiveShell object>>\n        args = ('# fit on logFCS \\nfrom sklearn.ensemble import Ra...rfc = stats.pearsonr(actual, pred)[0] ** 2\\nr2_rfc',)\n        kwargs = {'silent': False, 'store_history': True}\n    538 \n    539     def _showtraceback(self, etype, evalue, stb):\n    540         # try to preserve ordering of tracebacks and print statements\n    541         sys.stdout.flush()\n\n...........................................................................\nC:\\Users\\Administrator\\Anaconda3\\lib\\site-packages\\IPython\\core\\interactiveshell.py in run_cell(self=<ipykernel.zmqshell.ZMQInteractiveShell object>, raw_cell='# fit on logFCS \\nfrom sklearn.ensemble import Ra...rfc = stats.pearsonr(actual, pred)[0] ** 2\\nr2_rfc', store_history=True, silent=False, shell_futures=True)\n   2723                 self.displayhook.exec_result = result\n   2724 \n   2725                 # Execute the user code\n   2726                 interactivity = \"none\" if silent else self.ast_node_interactivity\n   2727                 has_raised = self.run_ast_nodes(code_ast.body, cell_name,\n-> 2728                    interactivity=interactivity, compiler=compiler, result=result)\n        interactivity = 'last_expr'\n        compiler = <IPython.core.compilerop.CachingCompiler object>\n   2729                 \n   2730                 self.last_execution_succeeded = not has_raised\n   2731                 self.last_execution_result = result\n   2732 \n\n...........................................................................\nC:\\Users\\Administrator\\Anaconda3\\lib\\site-packages\\IPython\\core\\interactiveshell.py in run_ast_nodes(self=<ipykernel.zmqshell.ZMQInteractiveShell object>, nodelist=[<_ast.ImportFrom object>, <_ast.Assign object>, <_ast.Assign object>, <_ast.Assign object>, <_ast.Expr object>, <_ast.Assign object>, <_ast.Assign object>, <_ast.Assign object>, <_ast.Expr object>], cell_name='<ipython-input-66-3bdf2e244372>', interactivity='last', compiler=<IPython.core.compilerop.CachingCompiler object>, result=<ExecutionResult object at 236f25f7f28, executio..._before_exec=None error_in_exec=None result=None>)\n   2845 \n   2846         try:\n   2847             for i, node in enumerate(to_run_exec):\n   2848                 mod = ast.Module([node])\n   2849                 code = compiler(mod, cell_name, \"exec\")\n-> 2850                 if self.run_code(code, result):\n        self.run_code = <bound method InteractiveShell.run_code of <ipykernel.zmqshell.ZMQInteractiveShell object>>\n        code = <code object <module> at 0x00000236EF27B0C0, file \"<ipython-input-66-3bdf2e244372>\", line 9>\n        result = <ExecutionResult object at 236f25f7f28, executio..._before_exec=None error_in_exec=None result=None>\n   2851                     return True\n   2852 \n   2853             for i, node in enumerate(to_run_interactive):\n   2854                 mod = ast.Interactive([node])\n\n...........................................................................\nC:\\Users\\Administrator\\Anaconda3\\lib\\site-packages\\IPython\\core\\interactiveshell.py in run_code(self=<ipykernel.zmqshell.ZMQInteractiveShell object>, code_obj=<code object <module> at 0x00000236EF27B0C0, file \"<ipython-input-66-3bdf2e244372>\", line 9>, result=<ExecutionResult object at 236f25f7f28, executio..._before_exec=None error_in_exec=None result=None>)\n   2905         outflag = True  # happens in more places, so it's easier as default\n   2906         try:\n   2907             try:\n   2908                 self.hooks.pre_run_code_hook()\n   2909                 #rprint('Running code', repr(code_obj)) # dbg\n-> 2910                 exec(code_obj, self.user_global_ns, self.user_ns)\n        code_obj = <code object <module> at 0x00000236EF27B0C0, file \"<ipython-input-66-3bdf2e244372>\", line 9>\n        self.user_global_ns = {'GridSearchCV': <class 'sklearn.model_selection._search.GridSearchCV'>, 'Imputer': <class 'sklearn.preprocessing.imputation.Imputer'>, 'In': ['', \"# Set up Notebook\\nget_ipython().run_line_magic('...solute_error\\nfrom sklearn.metrics import r2_score\", \"train_data = pd.read_csv('tz_rain.csv')\\ntest_data = pd.read_csv('tz_test.csv')\", \"train_data = pd.read_csv('tz_train.csv')\\ntest_data = pd.read_csv('tz_test.csv')\", 'train_data', \"train_data = pd.read_csv('tz_train.csv')\\ntest_da...1, how='all')\\ntest_data.dropna(axis=1, how='all')\", 'train_data', \"train_data = pd.read_csv('tz_train.csv')\\ntest_da...1, how='all')\\ntest_data.dropna(axis=1, how='all')\", \"train_data = pd.read_csv('tz_train.csv')\\ntest_da...)\\ntest_data = test_data.dropna(axis=1, how='all')\", 'train_data', 'train_data[\"FCS\"]', 'train_data[\"FCS\"] = log(train_data[\"FCS\"])', \"# Set up Notebook\\nget_ipython().run_line_magic('...solute_error\\nfrom sklearn.metrics import r2_score\", 'train_data[\"FCS\"] = math.log(train_data[\"FCS\"])', 'train_data ', \"# Set up Notebook\\nget_ipython().run_line_magic('...solute_error\\nfrom sklearn.metrics import r2_score\", \"train_data = pd.read_csv('tz_train.csv')\\ntest_da...)\\ntest_data = test_data.dropna(axis=1, how='all')\", 'train_data ', \"labels = ['logFCS', 'RCSI', 'HDDS']\", 'x_train=train_data.drop(labels, axis=1)\\nx_train ...t.drop(x_test.columns[0], axis=1)\\n\\nx_train.head()', ...], 'LinearRegression': <class 'sklearn.linear_model.base.LinearRegression'>, 'Out': {4:       Unnamed: 0        FNID       ea_id   yearm...080          0.244302  \n\n[2322 rows x 43 columns], 5:       Unnamed: 0        FNID       ea_id   yearm...920          0.000000  \n\n[2289 rows x 42 columns], 6:       Unnamed: 0        FNID       ea_id   yearm...080          0.244302  \n\n[2322 rows x 43 columns], 7:       Unnamed: 0        FNID       ea_id   yearm...920          0.000000  \n\n[2289 rows x 42 columns], 9:       Unnamed: 0        FNID       ea_id   yearm...080          0.244302  \n\n[2322 rows x 42 columns], 10: 0       15.833333\n1       72.666667\n2       32.2...90.000000\nName: FCS, Length: 2322, dtype: float64, 14:       Unnamed: 0        FNID       ea_id   yearm...080          0.244302  \n\n[2322 rows x 42 columns], 17:       Unnamed: 0        FNID       ea_id   yearm...   0.244302  4.499810  \n\n[2322 rows x 43 columns], 21:   FNID       ea_id   yearmon  floor_cement  floo...aN  \n4               NaN  \n\n[5 rows x 39 columns], 22:      logFCS  rCSI  HDDS\n0  2.397895   0.0   2.0\n...0\n3  3.433987   0.0   3.0\n4  2.602690   0.0   3.0, ...}, 'PolynomialFeatures': <class 'sklearn.preprocessing.data.PolynomialFeatures'>, 'RandomForestRegressor': <class 'sklearn.ensemble.forest.RandomForestRegressor'>, 'SVR': <class 'sklearn.svm.classes.SVR'>, 'StandardScaler': <class 'sklearn.preprocessing.data.StandardScaler'>, '_': 0.04102980438848065, ...}\n        self.user_ns = {'GridSearchCV': <class 'sklearn.model_selection._search.GridSearchCV'>, 'Imputer': <class 'sklearn.preprocessing.imputation.Imputer'>, 'In': ['', \"# Set up Notebook\\nget_ipython().run_line_magic('...solute_error\\nfrom sklearn.metrics import r2_score\", \"train_data = pd.read_csv('tz_rain.csv')\\ntest_data = pd.read_csv('tz_test.csv')\", \"train_data = pd.read_csv('tz_train.csv')\\ntest_data = pd.read_csv('tz_test.csv')\", 'train_data', \"train_data = pd.read_csv('tz_train.csv')\\ntest_da...1, how='all')\\ntest_data.dropna(axis=1, how='all')\", 'train_data', \"train_data = pd.read_csv('tz_train.csv')\\ntest_da...1, how='all')\\ntest_data.dropna(axis=1, how='all')\", \"train_data = pd.read_csv('tz_train.csv')\\ntest_da...)\\ntest_data = test_data.dropna(axis=1, how='all')\", 'train_data', 'train_data[\"FCS\"]', 'train_data[\"FCS\"] = log(train_data[\"FCS\"])', \"# Set up Notebook\\nget_ipython().run_line_magic('...solute_error\\nfrom sklearn.metrics import r2_score\", 'train_data[\"FCS\"] = math.log(train_data[\"FCS\"])', 'train_data ', \"# Set up Notebook\\nget_ipython().run_line_magic('...solute_error\\nfrom sklearn.metrics import r2_score\", \"train_data = pd.read_csv('tz_train.csv')\\ntest_da...)\\ntest_data = test_data.dropna(axis=1, how='all')\", 'train_data ', \"labels = ['logFCS', 'RCSI', 'HDDS']\", 'x_train=train_data.drop(labels, axis=1)\\nx_train ...t.drop(x_test.columns[0], axis=1)\\n\\nx_train.head()', ...], 'LinearRegression': <class 'sklearn.linear_model.base.LinearRegression'>, 'Out': {4:       Unnamed: 0        FNID       ea_id   yearm...080          0.244302  \n\n[2322 rows x 43 columns], 5:       Unnamed: 0        FNID       ea_id   yearm...920          0.000000  \n\n[2289 rows x 42 columns], 6:       Unnamed: 0        FNID       ea_id   yearm...080          0.244302  \n\n[2322 rows x 43 columns], 7:       Unnamed: 0        FNID       ea_id   yearm...920          0.000000  \n\n[2289 rows x 42 columns], 9:       Unnamed: 0        FNID       ea_id   yearm...080          0.244302  \n\n[2322 rows x 42 columns], 10: 0       15.833333\n1       72.666667\n2       32.2...90.000000\nName: FCS, Length: 2322, dtype: float64, 14:       Unnamed: 0        FNID       ea_id   yearm...080          0.244302  \n\n[2322 rows x 42 columns], 17:       Unnamed: 0        FNID       ea_id   yearm...   0.244302  4.499810  \n\n[2322 rows x 43 columns], 21:   FNID       ea_id   yearmon  floor_cement  floo...aN  \n4               NaN  \n\n[5 rows x 39 columns], 22:      logFCS  rCSI  HDDS\n0  2.397895   0.0   2.0\n...0\n3  3.433987   0.0   3.0\n4  2.602690   0.0   3.0, ...}, 'PolynomialFeatures': <class 'sklearn.preprocessing.data.PolynomialFeatures'>, 'RandomForestRegressor': <class 'sklearn.ensemble.forest.RandomForestRegressor'>, 'SVR': <class 'sklearn.svm.classes.SVR'>, 'StandardScaler': <class 'sklearn.preprocessing.data.StandardScaler'>, '_': 0.04102980438848065, ...}\n   2911             finally:\n   2912                 # Reset our crash handler in place\n   2913                 sys.excepthook = old_excepthook\n   2914         except SystemExit as e:\n\n...........................................................................\nC:\\Users\\Administrator\\OneDrive - University of Illinois - Urbana\\python\\MalawiPaper\\<ipython-input-66-3bdf2e244372> in <module>()\n      4 # Create Regressor with default properties\n      5 rfc = RandomForestRegressor(random_state =0,n_jobs =4,warm_start = True)\n      6 \n      7 parameters = {'max_depth':np.arange( 1,8, 1 ).tolist(), 'min_samples_leaf':np.arange( 1, 6, 1 ).tolist()}\n      8 clf = GridSearchCV(rfc, parameters,cv=6, n_jobs= 4, iid = True,  refit= True,pre_dispatch= '2*n_jobs')\n----> 9 clf.fit(x_train, y_train[labels[0]])\n     10 \n     11 # Fit estimator and display score\n     12 \n     13 # Regress on test data\n\n...........................................................................\nC:\\Users\\Administrator\\Anaconda3\\lib\\site-packages\\sklearn\\model_selection\\_search.py in fit(self=GridSearchCV(cv=6, error_score='raise',\n       e...ain_score='warn',\n       scoring=None, verbose=0), X=array([[-1.18629573,  1.20383238, -2.0873819 , ....  1.78911047,\n        -0.15531011,  2.19393017]]), y=68      3.417727\n69      4.069027\n70      2.6390...499810\nName: logFCS, Length: 3049, dtype: float64, groups=None, **fit_params={})\n    634                                   return_train_score=self.return_train_score,\n    635                                   return_n_test_samples=True,\n    636                                   return_times=True, return_parameters=False,\n    637                                   error_score=self.error_score)\n    638           for parameters, (train, test) in product(candidate_params,\n--> 639                                                    cv.split(X, y, groups)))\n        cv.split = <bound method _BaseKFold.split of KFold(n_splits=6, random_state=None, shuffle=False)>\n        X = array([[-1.18629573,  1.20383238, -2.0873819 , ....  1.78911047,\n        -0.15531011,  2.19393017]])\n        y = 68      3.417727\n69      4.069027\n70      2.6390...499810\nName: logFCS, Length: 3049, dtype: float64\n        groups = None\n    640 \n    641         # if one choose to see train score, \"out\" will contain train score info\n    642         if self.return_train_score:\n    643             (train_score_dicts, test_score_dicts, test_sample_counts, fit_time,\n\n...........................................................................\nC:\\Users\\Administrator\\Anaconda3\\lib\\site-packages\\sklearn\\externals\\joblib\\parallel.py in __call__(self=Parallel(n_jobs=4), iterable=<generator object BaseSearchCV.fit.<locals>.<genexpr>>)\n    784             if pre_dispatch == \"all\" or n_jobs == 1:\n    785                 # The iterable was consumed all at once by the above for loop.\n    786                 # No need to wait for async callbacks to trigger to\n    787                 # consumption.\n    788                 self._iterating = False\n--> 789             self.retrieve()\n        self.retrieve = <bound method Parallel.retrieve of Parallel(n_jobs=4)>\n    790             # Make sure that we get a last message telling us we are done\n    791             elapsed_time = time.time() - self._start_time\n    792             self._print('Done %3i out of %3i | elapsed: %s finished',\n    793                         (len(self._output), len(self._output),\n\n---------------------------------------------------------------------------\nSub-process traceback:\n---------------------------------------------------------------------------\nValueError                                         Wed Apr 18 15:32:27 2018\nPID: 14744        Python 3.6.4: C:\\Users\\Administrator\\Anaconda3\\python.exe\n...........................................................................\nC:\\Users\\Administrator\\Anaconda3\\lib\\site-packages\\sklearn\\externals\\joblib\\parallel.py in __call__(self=<sklearn.externals.joblib.parallel.BatchedCalls object>)\n    126     def __init__(self, iterator_slice):\n    127         self.items = list(iterator_slice)\n    128         self._size = len(self.items)\n    129 \n    130     def __call__(self):\n--> 131         return [func(*args, **kwargs) for func, args, kwargs in self.items]\n        self.items = [(<function _fit_and_score>, (RandomForestRegressor(bootstrap=True, criterion=...alse, random_state=0, verbose=0, warm_start=True), array([[-1.18629573,  1.20383238, -2.0873819 , ....  1.78911047,\n        -0.15531011,  2.19393017]]), 68      3.417727\n69      4.069027\n70      2.6390...499810\nName: logFCS, Length: 3049, dtype: float64, {'score': <function _passthrough_scorer>}, array([ 509,  510,  511, ..., 3046, 3047, 3048]), array([  0,   1,   2,   3,   4,   5,   6,   7,  ..., 501, 502, 503, 504, 505, 506,\n       507, 508]), 0, {'max_depth': 1, 'min_samples_leaf': 1}), {'error_score': 'raise', 'fit_params': {}, 'return_n_test_samples': True, 'return_parameters': False, 'return_times': True, 'return_train_score': 'warn'})]\n    132 \n    133     def __len__(self):\n    134         return self._size\n    135 \n\n...........................................................................\nC:\\Users\\Administrator\\Anaconda3\\lib\\site-packages\\sklearn\\externals\\joblib\\parallel.py in <listcomp>(.0=<list_iterator object>)\n    126     def __init__(self, iterator_slice):\n    127         self.items = list(iterator_slice)\n    128         self._size = len(self.items)\n    129 \n    130     def __call__(self):\n--> 131         return [func(*args, **kwargs) for func, args, kwargs in self.items]\n        func = <function _fit_and_score>\n        args = (RandomForestRegressor(bootstrap=True, criterion=...alse, random_state=0, verbose=0, warm_start=True), array([[-1.18629573,  1.20383238, -2.0873819 , ....  1.78911047,\n        -0.15531011,  2.19393017]]), 68      3.417727\n69      4.069027\n70      2.6390...499810\nName: logFCS, Length: 3049, dtype: float64, {'score': <function _passthrough_scorer>}, array([ 509,  510,  511, ..., 3046, 3047, 3048]), array([  0,   1,   2,   3,   4,   5,   6,   7,  ..., 501, 502, 503, 504, 505, 506,\n       507, 508]), 0, {'max_depth': 1, 'min_samples_leaf': 1})\n        kwargs = {'error_score': 'raise', 'fit_params': {}, 'return_n_test_samples': True, 'return_parameters': False, 'return_times': True, 'return_train_score': 'warn'}\n    132 \n    133     def __len__(self):\n    134         return self._size\n    135 \n\n...........................................................................\nC:\\Users\\Administrator\\Anaconda3\\lib\\site-packages\\sklearn\\model_selection\\_validation.py in _fit_and_score(estimator=RandomForestRegressor(bootstrap=True, criterion=...alse, random_state=0, verbose=0, warm_start=True), X=array([[-1.18629573,  1.20383238, -2.0873819 , ....  1.78911047,\n        -0.15531011,  2.19393017]]), y=68      3.417727\n69      4.069027\n70      2.6390...499810\nName: logFCS, Length: 3049, dtype: float64, scorer={'score': <function _passthrough_scorer>}, train=array([ 509,  510,  511, ..., 3046, 3047, 3048]), test=array([  0,   1,   2,   3,   4,   5,   6,   7,  ..., 501, 502, 503, 504, 505, 506,\n       507, 508]), verbose=0, parameters={'max_depth': 1, 'min_samples_leaf': 1}, fit_params={}, return_train_score='warn', return_parameters=False, return_n_test_samples=True, return_times=True, error_score='raise')\n    453 \n    454     try:\n    455         if y_train is None:\n    456             estimator.fit(X_train, **fit_params)\n    457         else:\n--> 458             estimator.fit(X_train, y_train, **fit_params)\n        estimator.fit = <bound method BaseForest.fit of RandomForestRegr...lse, random_state=0, verbose=0, warm_start=True)>\n        X_train = array([[-1.18629573,  1.20383238,  0.75333937, ....  1.78911047,\n        -0.15531011,  2.19393017]])\n        y_train = 718     4.226834\n719     0.405465\n720     4.1249...499810\nName: logFCS, Length: 2540, dtype: float64\n        fit_params = {}\n    459 \n    460     except Exception as e:\n    461         # Note fit time as time until error\n    462         fit_time = time.time() - start_time\n\n...........................................................................\nC:\\Users\\Administrator\\Anaconda3\\lib\\site-packages\\sklearn\\ensemble\\forest.py in fit(self=RandomForestRegressor(bootstrap=True, criterion=...alse, random_state=0, verbose=0, warm_start=True), X=array([[-1.1862957 ,  1.2038324 ,  0.75333935, ....       -0.15531011,  2.1939301 ]], dtype=float32), y=718     4.226834\n719     0.405465\n720     4.1249...499810\nName: logFCS, Length: 2540, dtype: float64, sample_weight=None)\n    243         self : object\n    244             Returns self.\n    245         \"\"\"\n    246         # Validate or convert input data\n    247         X = check_array(X, accept_sparse=\"csc\", dtype=DTYPE)\n--> 248         y = check_array(y, accept_sparse='csc', ensure_2d=False, dtype=None)\n        y = 718     4.226834\n719     0.405465\n720     4.1249...499810\nName: logFCS, Length: 2540, dtype: float64\n    249         if sample_weight is not None:\n    250             sample_weight = check_array(sample_weight, ensure_2d=False)\n    251         if issparse(X):\n    252             # Pre-sort indices to avoid that each individual tree of the\n\n...........................................................................\nC:\\Users\\Administrator\\Anaconda3\\lib\\site-packages\\sklearn\\utils\\validation.py in check_array(array=array([4.22683375, 0.40546511, 4.12493255, ..., 3.81771233, 2.40544248,\n       4.49980967]), accept_sparse='csc', dtype=None, order=None, copy=False, force_all_finite=True, ensure_2d=False, allow_nd=False, ensure_min_samples=1, ensure_min_features=1, warn_on_dtype=False, estimator=None)\n    448             array = array.astype(np.float64)\n    449         if not allow_nd and array.ndim >= 3:\n    450             raise ValueError(\"Found array with dim %d. %s expected <= 2.\"\n    451                              % (array.ndim, estimator_name))\n    452         if force_all_finite:\n--> 453             _assert_all_finite(array)\n        array = array([4.22683375, 0.40546511, 4.12493255, ..., 3.81771233, 2.40544248,\n       4.49980967])\n    454 \n    455     shape_repr = _shape_repr(array.shape)\n    456     if ensure_min_samples > 0:\n    457         n_samples = _num_samples(array)\n\n...........................................................................\nC:\\Users\\Administrator\\Anaconda3\\lib\\site-packages\\sklearn\\utils\\validation.py in _assert_all_finite(X=array([4.22683375, 0.40546511, 4.12493255, ..., 3.81771233, 2.40544248,\n       4.49980967]))\n     39     # everything is finite; fall back to O(n) space np.isfinite to prevent\n     40     # false positives from overflow in sum method.\n     41     if (X.dtype.char in np.typecodes['AllFloat'] and not np.isfinite(X.sum())\n     42             and not np.isfinite(X).all()):\n     43         raise ValueError(\"Input contains NaN, infinity\"\n---> 44                          \" or a value too large for %r.\" % X.dtype)\n        X.dtype = dtype('float64')\n     45 \n     46 \n     47 def assert_all_finite(X):\n     48     \"\"\"Throw a ValueError if X contains NaN or infinity.\n\nValueError: Input contains NaN, infinity or a value too large for dtype('float64').\n___________________________________________________________________________"
     ]
    }
   ],
   "source": [
    "# fit on logFCS \n",
    "from sklearn.ensemble import RandomForestRegressor\n",
    "\n",
    "# Create Regressor with default properties\n",
    "rfc = RandomForestRegressor(random_state =0,n_jobs =4,warm_start = True)\n",
    "\n",
    "parameters = {'max_depth':np.arange( 1,8, 1 ).tolist(), 'min_samples_leaf':np.arange( 1, 6, 1 ).tolist()}\n",
    "clf = GridSearchCV(rfc, parameters,cv=6, n_jobs= 4, iid = True,  refit= True,pre_dispatch= '2*n_jobs')\n",
    "clf.fit(x_train, y_train[labels[0]])\n",
    "\n",
    "# Fit estimator and display score\n",
    "\n",
    "# Regress on test data\n",
    "pred = clf.predict(x_test)\n",
    "actual = y_test[labels[2]]\n",
    "r2_rfc = stats.pearsonr(actual, pred)[0] ** 2\n",
    "r2_rfc"
   ]
  },
  {
   "cell_type": "code",
   "execution_count": 67,
   "metadata": {},
   "outputs": [
    {
     "data": {
      "text/plain": [
       "0.0013496236653385944"
      ]
     },
     "execution_count": 67,
     "metadata": {},
     "output_type": "execute_result"
    }
   ],
   "source": [
    "from sklearn.ensemble import ExtraTreesRegressor\n",
    "\n",
    "# Create Regressor with default properties\n",
    "extratree = ExtraTreesRegressor(random_state=0)\n",
    "\n",
    "# Fit estimator and display score\n",
    "extratree = extratree.fit(x_train, y_train[labels[2]])\n",
    "# Regress on test data\n",
    "pred = extratree.predict(x_test)\n",
    "\n",
    "actual = y_test[labels[2]]\n",
    "r2_et = stats.pearsonr(actual, pred)[0] ** 2\n",
    "r2_et\n",
    "\n",
    "\n"
   ]
  },
  {
   "cell_type": "code",
   "execution_count": null,
   "metadata": {
    "collapsed": true
   },
   "outputs": [],
   "source": []
  },
  {
   "cell_type": "code",
   "execution_count": 14,
   "metadata": {},
   "outputs": [
    {
     "data": {
      "text/plain": [
       "0.169946703220582"
      ]
     },
     "execution_count": 14,
     "metadata": {},
     "output_type": "execute_result"
    }
   ],
   "source": [
    "from sklearn.neural_network import MLPRegressor\n",
    "\n",
    "mlp = MLPRegressor(warm_start=False,random_state =0, validation_fraction=0.1,learning_rate='adaptive')\n",
    "# Fit estimator and display score\n",
    "mlp = mlp.fit(x_train, y_train[labels[2]])\n",
    "pred = mlp.predict(x_test)\n",
    "\n",
    "actual = y_test[labels[2]]\n",
    "r2_mlp= stats.pearsonr(actual, pred)[0] ** 2\n",
    "r2_mlp"
   ]
  },
  {
   "cell_type": "code",
   "execution_count": 68,
   "metadata": {},
   "outputs": [
    {
     "data": {
      "text/plain": [
       "0.03253303610022786"
      ]
     },
     "execution_count": 68,
     "metadata": {},
     "output_type": "execute_result"
    }
   ],
   "source": [
    "from sklearn.svm import SVR\n",
    "\n",
    "# Create Regressor with default properties\n",
    "svr = SVR(kernel='linear',degree =4)\n",
    "\n",
    "# Fit estimator and display score\n",
    "svr = svr.fit(x_train, y_train[labels[2]])\n",
    "pred = svr.predict(x_test)\n",
    "\n",
    "actual = y_test[labels[2]]\n",
    "r2_svr= stats.pearsonr(actual, pred)[0] ** 2\n",
    "r2_svr\n"
   ]
  },
  {
   "cell_type": "code",
   "execution_count": 16,
   "metadata": {},
   "outputs": [
    {
     "data": {
      "text/plain": [
       "0.69498912222257903"
      ]
     },
     "execution_count": 16,
     "metadata": {},
     "output_type": "execute_result"
    }
   ],
   "source": [
    "from sklearn.gaussian_process import  GaussianProcessRegressor\n",
    "\n",
    "# Import our kernels\n",
    "from sklearn.gaussian_process.kernels import Matern, WhiteKernel\n",
    "\n",
    "\n",
    "\n",
    "# Define custom kernel (Matern + noise)\n",
    "krnl = 2. + Matern(length_scale=1, nu=1.8) + WhiteKernel(noise_level=10)\n",
    "\n",
    "# Create Regressor with specified properties\n",
    "gpr = GaussianProcessRegressor(kernel=krnl, random_state=0)\n",
    "\n",
    "# Fit estimator and display score\n",
    "gpr= gpr.fit(x_train, y_train[labels[2]])\n",
    "pred = gpr.predict(x_test)\n",
    "actual = y_test[labels[2]]\n",
    "r2_gpr= stats.pearsonr(actual, pred)[0] ** 2\n",
    "r2_gpr\n",
    "\n"
   ]
  },
  {
   "cell_type": "code",
   "execution_count": 82,
   "metadata": {},
   "outputs": [
    {
     "data": {
      "text/plain": [
       "0.0010890826720968408"
      ]
     },
     "execution_count": 82,
     "metadata": {},
     "output_type": "execute_result"
    }
   ],
   "source": [
    "\n",
    "from sklearn.linear_model import Ridge\n",
    "\n",
    "# Define different alpha values for different fits\n",
    "alpha = [0.0, 1E-6, 1E-4, 1E-2, 1.0]\n",
    "\n",
    "ridge = Ridge(alpha=20,fit_intercept=False)\n",
    "\n",
    "ridge.fit(x_train, y_train[labels[2]])\n",
    "pred = ridge.predict(x_test)\n",
    "\n",
    "actual = y_test[labels[2]]\n",
    "r2_ridge= stats.pearsonr(actual, pred)[0] ** 2\n",
    "r2_ridge"
   ]
  },
  {
   "cell_type": "code",
   "execution_count": 83,
   "metadata": {},
   "outputs": [
    {
     "data": {
      "text/plain": [
       "4.8161044881285065e-05"
      ]
     },
     "execution_count": 83,
     "metadata": {},
     "output_type": "execute_result"
    }
   ],
   "source": [
    "from sklearn.linear_model import BayesianRidge\n",
    "bridge = BayesianRidge(compute_score=True)\n",
    "bridge.fit(x_train, y_train[labels[2]])\n",
    "pred = bridge.predict(x_test)\n",
    "\n",
    "actual = y_test[labels[2]]\n",
    "r2_bridge= stats.pearsonr(actual, pred)[0] ** 2\n",
    "r2_bridge"
   ]
  },
  {
   "cell_type": "code",
   "execution_count": 88,
   "metadata": {},
   "outputs": [
    {
     "data": {
      "text/plain": [
       "0.08401047638045903"
      ]
     },
     "execution_count": 88,
     "metadata": {},
     "output_type": "execute_result"
    }
   ],
   "source": [
    "from sklearn.linear_model import Lasso\n",
    "alpha = [1E-4, 1E-2, 0.1, 1.0]\n",
    "\n",
    "ls = Lasso(alpha=alpha[3], fit_intercept=True)\n",
    "\n",
    "\n",
    "ls = ls.fit(x_train, y_train[labels[2]])\n",
    "pred = ls.predict(x_test)\n",
    "\n",
    "actual = y_test[labels[2]]\n",
    "r2_ls= stats.pearsonr(actual, pred)[0] ** 2\n",
    "r2_ls"
   ]
  },
  {
   "cell_type": "code",
   "execution_count": 86,
   "metadata": {},
   "outputs": [
    {
     "data": {
      "text/plain": [
       "0.036772545065601896"
      ]
     },
     "execution_count": 86,
     "metadata": {},
     "output_type": "execute_result"
    }
   ],
   "source": [
    "from sklearn.linear_model import ElasticNet\n",
    "alpha = [1E-4, 1E-2, 0.1, 1.0]\n",
    "\n",
    "en = ElasticNet(alpha=alpha[2], l1_ratio=0.8)\n",
    "\n",
    "\n",
    "en.fit(x_train, y_train[labels[2]])\n",
    "pred = en.predict(x_test)\n",
    "\n",
    "actual = y_test[labels[2]]\n",
    "r2_en= stats.pearsonr(actual, pred)[0] ** 2\n",
    "r2_en\n"
   ]
  },
  {
   "cell_type": "code",
   "execution_count": 73,
   "metadata": {},
   "outputs": [
    {
     "data": {
      "text/plain": [
       "0.001861164562984472"
      ]
     },
     "execution_count": 73,
     "metadata": {},
     "output_type": "execute_result"
    }
   ],
   "source": [
    "from sklearn.ensemble import GradientBoostingRegressor\n",
    "\n",
    "# Create Regressor with default properties\n",
    "gbr = GradientBoostingRegressor(random_state=0)\n",
    "\n",
    "gbr.fit(x_train, y_train[labels[2]])\n",
    "pred = gbr.predict(x_test)\n",
    "\n",
    "actual = y_test[labels[2]]\n",
    "r2_gbr= stats.pearsonr(actual, pred)[0] ** 2\n",
    "r2_gbr\n"
   ]
  },
  {
   "cell_type": "code",
   "execution_count": null,
   "metadata": {
    "collapsed": true
   },
   "outputs": [],
   "source": []
  },
  {
   "cell_type": "code",
   "execution_count": null,
   "metadata": {
    "collapsed": true
   },
   "outputs": [],
   "source": []
  }
 ],
 "metadata": {
  "kernelspec": {
   "display_name": "Python 3",
   "language": "python",
   "name": "python3"
  },
  "language_info": {
   "codemirror_mode": {
    "name": "ipython",
    "version": 3
   },
   "file_extension": ".py",
   "mimetype": "text/x-python",
   "name": "python",
   "nbconvert_exporter": "python",
   "pygments_lexer": "ipython3",
   "version": "3.6.4"
  }
 },
 "nbformat": 4,
 "nbformat_minor": 2
}
