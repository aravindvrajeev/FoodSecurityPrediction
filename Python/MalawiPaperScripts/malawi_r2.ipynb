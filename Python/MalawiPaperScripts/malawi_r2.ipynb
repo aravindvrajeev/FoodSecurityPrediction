{
 "cells": [
  {
   "cell_type": "code",
   "execution_count": 1,
   "metadata": {},
   "outputs": [],
   "source": [
    "# Set up Notebook\n",
    "% matplotlib inline\n",
    "\n",
    "# Standard imports\n",
    "import numpy as np\n",
    "import pandas as pd\n",
    "import matplotlib.pyplot as plt\n",
    "import seaborn as sns\n",
    "import scipy.stats as stats\n",
    "\n",
    "# We do this to ignore several specific Pandas warnings\n",
    "import warnings\n",
    "warnings.filterwarnings('ignore')\n",
    "from sklearn.metrics import explained_variance_score\n",
    "from sklearn.metrics import mean_absolute_error\n",
    "from sklearn.metrics import mean_squared_error\n",
    "from sklearn.metrics import median_absolute_error\n",
    "from sklearn.metrics import r2_score"
   ]
  },
  {
   "cell_type": "code",
   "execution_count": 5,
   "metadata": {},
   "outputs": [],
   "source": [
    "def make_lr_plot(ind_train, dep_train, ind_test, dep_test, results):\n",
    "\n",
    "    # Set up plot area\n",
    "    sns.set(style=\"white\")\n",
    "    fig, axs = plt.subplots(figsize=(10, 8), nrows=2, ncols=1, \n",
    "                            sharex=True)\n",
    "\n",
    "    # Add space between plots\n",
    "    fig.subplots_adjust(hspace=0.5)\n",
    "\n",
    "    # Plot the training and testing data\n",
    "    axs[0].scatter(ind_train, dep_train, label='Training Data',\n",
    "               alpha = .5, cmap=cm.coolwarm)\n",
    "    axs[0].scatter(ind_test, dep_test, label='Testing Data',\n",
    "               alpha = .5, cmap=cm.coolwarm)\n",
    "\n",
    "    # Plot model prediction\n",
    "    axs[0].plot(ind_test, results, label='Model', c='r', alpha = .25)\n",
    "    \n",
    "    # Ensure equal axis\n",
    "    axs[0].set_aspect('equal')\n",
    "\n",
    "    # Decorate final plot\n",
    "    axs[0].set_xlabel(\"Total Bill\", fontsize=14)\n",
    "    axs[0].set_ylabel(\"Tip\", fontsize=14)\n",
    "    axs[0].set_title(\"Regression Plot\", fontsize=18)\n",
    "    axs[0].set_xlim(-2, 52)\n",
    "    axs[0].set_ylim(-1, 10)\n",
    "    axs[0].legend()    \n",
    "    sns.despine(ax=axs[0], trim=True)\n",
    "    \n",
    "    # Plot model residuals\n",
    "    axs[1].scatter(ind_test, dep_test - results, label='Testing Data',\n",
    "               alpha = .5, cmap=cm.coolwarm)\n",
    "\n",
    "    # Show zero residual line\n",
    "    axs[1].hlines(0, 0, 50, color='r', linestyle='--', alpha=0.25)\n",
    "\n",
    "    # Decorate final plot\n",
    "    axs[1].set_xlabel(\"Total Bill\", fontsize=14)\n",
    "    axs[1].set_ylabel(\"Residual\", fontsize=14)\n",
    "    axs[1].set_title(\"Regression Plot (model residuals)\", fontsize=18)\n",
    "    axs[1].set_ylim(-5, 5)\n",
    "    sns.despine(ax=axs[1], trim=True)"
   ]
  },
  {
   "cell_type": "code",
   "execution_count": 9,
   "metadata": {},
   "outputs": [
    {
     "data": {
      "text/plain": [
       "0.54028478011979253"
      ]
     },
     "execution_count": 9,
     "metadata": {},
     "output_type": "execute_result"
    }
   ],
   "source": [
    "logFCS = pd.read_csv('logFCS_predict_CLUST.csv')\n",
    "pred = logFCS['clust_logFCS_predict']\n",
    "actual = logFCS['clust_logFCS']\n",
    "r2 = stats.pearsonr(actual, pred)[0] ** 2\n",
    "r2"
   ]
  },
  {
   "cell_type": "code",
   "execution_count": 10,
   "metadata": {},
   "outputs": [
    {
     "data": {
      "text/plain": [
       "0.4316849862464045"
      ]
     },
     "execution_count": 10,
     "metadata": {},
     "output_type": "execute_result"
    }
   ],
   "source": [
    "logFCS2 = pd.read_csv('logFCS_predict_CLUST_dum.csv')\n",
    "pred = logFCS2['clust_logFCS_predict']\n",
    "actual = logFCS2['clust_logFCS']\n",
    "r2 = stats.pearsonr(actual, pred)[0] ** 2\n",
    "r2"
   ]
  },
  {
   "cell_type": "code",
   "execution_count": 4,
   "metadata": {},
   "outputs": [
    {
     "data": {
      "text/plain": [
       "0.62353906214700816"
      ]
     },
     "execution_count": 4,
     "metadata": {},
     "output_type": "execute_result"
    }
   ],
   "source": [
    "HDDS = pd.read_csv('HDDS_predict_CLUST.csv')\n",
    "HDDS = HDDS.dropna(axis=0)\n",
    "pred = HDDS['clust_HDDS_predict']\n",
    "actual = HDDS['clust_HDDS']\n",
    "r2 = stats.pearsonr(actual, pred)[0] ** 2\n",
    "r2"
   ]
  },
  {
   "cell_type": "code",
   "execution_count": 6,
   "metadata": {},
   "outputs": [
    {
     "data": {
      "text/plain": [
       "0.50256326879710767"
      ]
     },
     "execution_count": 6,
     "metadata": {},
     "output_type": "execute_result"
    }
   ],
   "source": [
    "HDDS2 = pd.read_csv('HDDS_predict_CLUST_dum.csv')\n",
    "HDDS2 = HDDS2.dropna(axis=0)\n",
    "pred = HDDS2['clust_HDDS_predict']\n",
    "actual = HDDS2['clust_HDDS']\n",
    "r2 = stats.pearsonr(actual, pred)[0] ** 2\n",
    "r2"
   ]
  },
  {
   "cell_type": "code",
   "execution_count": 7,
   "metadata": {},
   "outputs": [
    {
     "data": {
      "text/plain": [
       "0.16869497224541516"
      ]
     },
     "execution_count": 7,
     "metadata": {},
     "output_type": "execute_result"
    }
   ],
   "source": [
    "RCSI = pd.read_csv('RCSI_predict_CLUST.csv')\n",
    "RCSI = RCSI.dropna(axis=0)\n",
    "pred = RCSI['clust_RCSI_predict']\n",
    "actual = RCSI['clust_RCSI']\n",
    "r2 = stats.pearsonr(actual, pred)[0] ** 2\n",
    "r2"
   ]
  },
  {
   "cell_type": "code",
   "execution_count": 8,
   "metadata": {},
   "outputs": [
    {
     "data": {
      "text/plain": [
       "0.07697321841426441"
      ]
     },
     "execution_count": 8,
     "metadata": {},
     "output_type": "execute_result"
    }
   ],
   "source": [
    "RCSI = pd.read_csv('RCSI_predict_CLUST_dum.csv')\n",
    "RCSI = RCSI.dropna(axis=0)\n",
    "pred = RCSI['clust_RCSI_predict']\n",
    "actual = RCSI['clust_RCSI']\n",
    "r2 = stats.pearsonr(actual, pred)[0] ** 2\n",
    "r2"
   ]
  },
  {
   "cell_type": "code",
   "execution_count": 33,
   "metadata": {},
   "outputs": [
    {
     "data": {
      "text/plain": [
       "0.021030980463290768"
      ]
     },
     "execution_count": 33,
     "metadata": {},
     "output_type": "execute_result"
    }
   ],
   "source": [
    "RCSI_tobit = pd.read_csv('cluster_predict/RCSI_tobit_CLUST.csv')\n",
    "\n",
    "RCSI2_tobit = RCSI_tobit.dropna(axis=0)\n",
    "RCSI2_tobit.head()\n",
    " \n",
    "pred = RCSI2_tobit['RCSI_predict']\n",
    "actual = RCSI2_tobit['RCSI']\n",
    "r2 = stats.pearsonr(actual, pred)[0] ** 2\n",
    "r2"
   ]
  },
  {
   "cell_type": "code",
   "execution_count": 45,
   "metadata": {},
   "outputs": [
    {
     "name": "stdout",
     "output_type": "stream",
     "text": [
      "204\n",
      "156\n",
      "Mean Absolute Error   = 1.62429\n",
      "Mean Squared Error    = 4.09800\n",
      "Median Absolute Error = 1.32511\n",
      "R^2 Score             = 0.417\n",
      "Explained Variance    = 0.455\n"
     ]
    }
   ],
   "source": [
    "RCSI_after = pd.read_csv('RCSI_predict_CLUST_after.csv')\n",
    "\n",
    "RCSI_after2 = RCSI_after.dropna(axis=0)\n",
    "RCSI_after2.head()\n",
    "print(len(RCSI_after))\n",
    "print(len(RCSI_after2))\n",
    "pred = RCSI_before2['clust_RCSI_predict']\n",
    "actual = RCSI_before2['clust_RCSI']\n",
    "# Copute performance metrics\n",
    "mae = mean_absolute_error(actual, pred)\n",
    "mse = mean_squared_error(actual, pred)\n",
    "mbe = median_absolute_error(actual, pred)\n",
    "mr2 = r2_score(actual, pred)\n",
    "\n",
    "from sklearn import metrics\n",
    "\n",
    "# Classify test data and display score and report\n",
    " \n",
    "ev_score = explained_variance_score(actual, pred)\n",
    "\n",
    "# Display metrics\n",
    "print(f'Mean Absolute Error   = {mae:4.5f}')\n",
    "print(f'Mean Squared Error    = {mse:4.5f}')\n",
    "print(f'Median Absolute Error = {mbe:4.5f}')\n",
    "print(f'R^2 Score             = {mr2:5.3f}')\n",
    "print(f'Explained Variance    = {ev_score:5.3f}')"
   ]
  },
  {
   "cell_type": "code",
   "execution_count": null,
   "metadata": {
    "collapsed": true
   },
   "outputs": [],
   "source": []
  }
 ],
 "metadata": {
  "kernelspec": {
   "display_name": "Python 3",
   "language": "python",
   "name": "python3"
  },
  "language_info": {
   "codemirror_mode": {
    "name": "ipython",
    "version": 3
   },
   "file_extension": ".py",
   "mimetype": "text/x-python",
   "name": "python",
   "nbconvert_exporter": "python",
   "pygments_lexer": "ipython3",
   "version": "3.6.3"
  }
 },
 "nbformat": 4,
 "nbformat_minor": 2
}
