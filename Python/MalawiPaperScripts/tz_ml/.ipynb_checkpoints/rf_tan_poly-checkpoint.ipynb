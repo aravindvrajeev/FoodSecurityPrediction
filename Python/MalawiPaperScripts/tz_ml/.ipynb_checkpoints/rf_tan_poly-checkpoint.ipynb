{
 "cells": [
  {
   "cell_type": "code",
   "execution_count": 183,
   "metadata": {},
   "outputs": [],
   "source": [
    "# Set up Notebook\n",
    "% matplotlib inline\n",
    "\n",
    "# Standard imports\n",
    "from sklearn.model_selection import GridSearchCV\n",
    "from sklearn.model_selection import train_test_split\n",
    "\n",
    "import numpy as np\n",
    "import pandas as pd\n",
    "import matplotlib.pyplot as plt\n",
    "import seaborn as sns\n",
    "import scipy.stats as stats\n",
    "from matplotlib import cm\n",
    "\n",
    "\n",
    "# We do this to ignore several specific Pandas warnings\n",
    "import warnings\n",
    "warnings.filterwarnings('ignore')\n",
    "from sklearn.metrics import explained_variance_score\n",
    "from sklearn.metrics import mean_absolute_error\n",
    "from sklearn.metrics import mean_squared_error\n",
    "from sklearn.metrics import median_absolute_error\n",
    "from sklearn.metrics import r2_score"
   ]
  },
  {
   "cell_type": "code",
   "execution_count": 184,
   "metadata": {},
   "outputs": [],
   "source": [
    "df = pd.read_csv('tz_clust.csv')\n",
    "df = df.dropna(axis=1, how='all')\n",
    "df = df.dropna(axis=0, how='any')\n",
    "\n",
    "labels = ['logFCS', 'rcsi', 'hdds']\n",
    "X=df.drop(labels, axis=1)\n",
    "y = df[labels]\n",
    "\n",
    "\n",
    "\n",
    "X_train, X_test, y_train, y_test = train_test_split(\n",
    "     X, y, test_size=0.33, random_state=42)"
   ]
  },
  {
   "cell_type": "code",
   "execution_count": 150,
   "metadata": {},
   "outputs": [
    {
     "data": {
      "text/html": [
       "<div>\n",
       "<style scoped>\n",
       "    .dataframe tbody tr th:only-of-type {\n",
       "        vertical-align: middle;\n",
       "    }\n",
       "\n",
       "    .dataframe tbody tr th {\n",
       "        vertical-align: top;\n",
       "    }\n",
       "\n",
       "    .dataframe thead th {\n",
       "        text-align: right;\n",
       "    }\n",
       "</style>\n",
       "<table border=\"1\" class=\"dataframe\">\n",
       "  <thead>\n",
       "    <tr style=\"text-align: right;\">\n",
       "      <th></th>\n",
       "      <th>cellphone</th>\n",
       "      <th>number_celphones</th>\n",
       "      <th>asset_index</th>\n",
       "      <th>housing_index</th>\n",
       "      <th>nutri_reten_constrained</th>\n",
       "      <th>nutri_avail_constrained</th>\n",
       "      <th>dist_km</th>\n",
       "      <th>maize_price</th>\n",
       "      <th>maize_mktthin</th>\n",
       "      <th>rice_price</th>\n",
       "      <th>rice_mktthin</th>\n",
       "      <th>tmean</th>\n",
       "      <th>floodmax</th>\n",
       "      <th>raincytot</th>\n",
       "      <th>day1rain</th>\n",
       "      <th>maxdaysnorain</th>\n",
       "    </tr>\n",
       "  </thead>\n",
       "  <tbody>\n",
       "    <tr>\n",
       "      <th>2132</th>\n",
       "      <td>0.285714</td>\n",
       "      <td>0.285714</td>\n",
       "      <td>-0.398681</td>\n",
       "      <td>0.910648</td>\n",
       "      <td>0.0</td>\n",
       "      <td>0.0</td>\n",
       "      <td>120.156450</td>\n",
       "      <td>26583.000</td>\n",
       "      <td>0.000000</td>\n",
       "      <td>147500.000</td>\n",
       "      <td>0.000000</td>\n",
       "      <td>21.880798</td>\n",
       "      <td>0.0</td>\n",
       "      <td>716.417804</td>\n",
       "      <td>14.0</td>\n",
       "      <td>84.0</td>\n",
       "    </tr>\n",
       "    <tr>\n",
       "      <th>2157</th>\n",
       "      <td>0.875000</td>\n",
       "      <td>1.500000</td>\n",
       "      <td>-0.398681</td>\n",
       "      <td>-0.885824</td>\n",
       "      <td>0.0</td>\n",
       "      <td>0.0</td>\n",
       "      <td>104.917200</td>\n",
       "      <td>41333.000</td>\n",
       "      <td>0.000000</td>\n",
       "      <td>148750.000</td>\n",
       "      <td>0.000000</td>\n",
       "      <td>24.135103</td>\n",
       "      <td>0.0</td>\n",
       "      <td>831.109474</td>\n",
       "      <td>0.0</td>\n",
       "      <td>124.0</td>\n",
       "    </tr>\n",
       "    <tr>\n",
       "      <th>762</th>\n",
       "      <td>0.444444</td>\n",
       "      <td>1.444444</td>\n",
       "      <td>-0.398681</td>\n",
       "      <td>0.162118</td>\n",
       "      <td>1.0</td>\n",
       "      <td>1.0</td>\n",
       "      <td>62.444283</td>\n",
       "      <td>41694.285</td>\n",
       "      <td>0.000000</td>\n",
       "      <td>122828.570</td>\n",
       "      <td>0.000000</td>\n",
       "      <td>25.390187</td>\n",
       "      <td>0.0</td>\n",
       "      <td>1121.393012</td>\n",
       "      <td>64.0</td>\n",
       "      <td>122.0</td>\n",
       "    </tr>\n",
       "    <tr>\n",
       "      <th>1504</th>\n",
       "      <td>1.000000</td>\n",
       "      <td>2.000000</td>\n",
       "      <td>-0.398678</td>\n",
       "      <td>-0.885821</td>\n",
       "      <td>1.0</td>\n",
       "      <td>1.0</td>\n",
       "      <td>46.217674</td>\n",
       "      <td>52304.168</td>\n",
       "      <td>0.000000</td>\n",
       "      <td>97866.664</td>\n",
       "      <td>0.000000</td>\n",
       "      <td>24.226832</td>\n",
       "      <td>0.0</td>\n",
       "      <td>724.905183</td>\n",
       "      <td>20.0</td>\n",
       "      <td>114.0</td>\n",
       "    </tr>\n",
       "    <tr>\n",
       "      <th>1629</th>\n",
       "      <td>0.000000</td>\n",
       "      <td>0.000000</td>\n",
       "      <td>-0.398681</td>\n",
       "      <td>2.258011</td>\n",
       "      <td>1.0</td>\n",
       "      <td>1.0</td>\n",
       "      <td>59.450397</td>\n",
       "      <td>39775.000</td>\n",
       "      <td>0.285714</td>\n",
       "      <td>129646.570</td>\n",
       "      <td>0.285714</td>\n",
       "      <td>25.319608</td>\n",
       "      <td>0.0</td>\n",
       "      <td>324.277307</td>\n",
       "      <td>133.0</td>\n",
       "      <td>174.0</td>\n",
       "    </tr>\n",
       "  </tbody>\n",
       "</table>\n",
       "</div>"
      ],
      "text/plain": [
       "      cellphone  number_celphones  asset_index  housing_index  \\\n",
       "2132   0.285714          0.285714    -0.398681       0.910648   \n",
       "2157   0.875000          1.500000    -0.398681      -0.885824   \n",
       "762    0.444444          1.444444    -0.398681       0.162118   \n",
       "1504   1.000000          2.000000    -0.398678      -0.885821   \n",
       "1629   0.000000          0.000000    -0.398681       2.258011   \n",
       "\n",
       "      nutri_reten_constrained  nutri_avail_constrained     dist_km  \\\n",
       "2132                      0.0                      0.0  120.156450   \n",
       "2157                      0.0                      0.0  104.917200   \n",
       "762                       1.0                      1.0   62.444283   \n",
       "1504                      1.0                      1.0   46.217674   \n",
       "1629                      1.0                      1.0   59.450397   \n",
       "\n",
       "      maize_price  maize_mktthin  rice_price  rice_mktthin      tmean  \\\n",
       "2132    26583.000       0.000000  147500.000      0.000000  21.880798   \n",
       "2157    41333.000       0.000000  148750.000      0.000000  24.135103   \n",
       "762     41694.285       0.000000  122828.570      0.000000  25.390187   \n",
       "1504    52304.168       0.000000   97866.664      0.000000  24.226832   \n",
       "1629    39775.000       0.285714  129646.570      0.285714  25.319608   \n",
       "\n",
       "      floodmax    raincytot  day1rain  maxdaysnorain  \n",
       "2132       0.0   716.417804      14.0           84.0  \n",
       "2157       0.0   831.109474       0.0          124.0  \n",
       "762        0.0  1121.393012      64.0          122.0  \n",
       "1504       0.0   724.905183      20.0          114.0  \n",
       "1629       0.0   324.277307     133.0          174.0  "
      ]
     },
     "execution_count": 150,
     "metadata": {},
     "output_type": "execute_result"
    }
   ],
   "source": [
    "X_train.head()"
   ]
  },
  {
   "cell_type": "code",
   "execution_count": 151,
   "metadata": {},
   "outputs": [
    {
     "data": {
      "text/html": [
       "<div>\n",
       "<style scoped>\n",
       "    .dataframe tbody tr th:only-of-type {\n",
       "        vertical-align: middle;\n",
       "    }\n",
       "\n",
       "    .dataframe tbody tr th {\n",
       "        vertical-align: top;\n",
       "    }\n",
       "\n",
       "    .dataframe thead th {\n",
       "        text-align: right;\n",
       "    }\n",
       "</style>\n",
       "<table border=\"1\" class=\"dataframe\">\n",
       "  <thead>\n",
       "    <tr style=\"text-align: right;\">\n",
       "      <th></th>\n",
       "      <th>logFCS</th>\n",
       "      <th>rcsi</th>\n",
       "      <th>hdds</th>\n",
       "    </tr>\n",
       "  </thead>\n",
       "  <tbody>\n",
       "    <tr>\n",
       "      <th>1323</th>\n",
       "      <td>3.908837</td>\n",
       "      <td>16.416666</td>\n",
       "      <td>4.083334</td>\n",
       "    </tr>\n",
       "    <tr>\n",
       "      <th>916</th>\n",
       "      <td>4.091643</td>\n",
       "      <td>6.666666</td>\n",
       "      <td>5.555555</td>\n",
       "    </tr>\n",
       "    <tr>\n",
       "      <th>2311</th>\n",
       "      <td>1.543737</td>\n",
       "      <td>2.800000</td>\n",
       "      <td>1.600000</td>\n",
       "    </tr>\n",
       "    <tr>\n",
       "      <th>722</th>\n",
       "      <td>4.295629</td>\n",
       "      <td>1.555556</td>\n",
       "      <td>6.111111</td>\n",
       "    </tr>\n",
       "    <tr>\n",
       "      <th>1226</th>\n",
       "      <td>4.049976</td>\n",
       "      <td>0.888889</td>\n",
       "      <td>6.333334</td>\n",
       "    </tr>\n",
       "  </tbody>\n",
       "</table>\n",
       "</div>"
      ],
      "text/plain": [
       "        logFCS       rcsi      hdds\n",
       "1323  3.908837  16.416666  4.083334\n",
       "916   4.091643   6.666666  5.555555\n",
       "2311  1.543737   2.800000  1.600000\n",
       "722   4.295629   1.555556  6.111111\n",
       "1226  4.049976   0.888889  6.333334"
      ]
     },
     "execution_count": 151,
     "metadata": {},
     "output_type": "execute_result"
    }
   ],
   "source": [
    "y_test.head()"
   ]
  },
  {
   "cell_type": "code",
   "execution_count": 164,
   "metadata": {},
   "outputs": [],
   "source": [
    "from sklearn.preprocessing import Imputer,StandardScaler\n",
    "\n",
    "imp = Imputer(missing_values='NaN', strategy='mean', axis=0, copy=False)\n",
    "X_train = imp.fit_transform(X_train)\n",
    "X_test = imp.fit_transform(X_test)\n",
    "\n",
    "ss = StandardScaler()\n",
    "X_train = ss.fit_transform(X_train)\n",
    "X_test = ss.fit_transform(X_test)\n"
   ]
  },
  {
   "cell_type": "code",
   "execution_count": 165,
   "metadata": {},
   "outputs": [],
   "source": [
    "from sklearn.preprocessing import PolynomialFeatures\n",
    "poly = PolynomialFeatures(2)\n",
    "X_train = poly.fit_transform(X_train)\n",
    "X_test =  poly.fit_transform(X_test)\n",
    "\n"
   ]
  },
  {
   "cell_type": "code",
   "execution_count": 166,
   "metadata": {},
   "outputs": [
    {
     "data": {
      "text/plain": [
       "0.4717113023757812"
      ]
     },
     "execution_count": 166,
     "metadata": {},
     "output_type": "execute_result"
    }
   ],
   "source": [
    "from sklearn.linear_model import LinearRegression\n",
    "\n",
    "# Create and fit our linear regression model to training data\n",
    "model = LinearRegression(fit_intercept=True)\n",
    "model.fit(X_train, y_train[labels[2]])\n",
    " \n",
    "# Compute model predictions for test data\n",
    "pred = model.predict(X_test)\n",
    "\n",
    "actual = y_test[labels[2]]\n",
    "r2_linear = stats.pearsonr(actual, pred)[0] ** 2\n",
    "r2_linear"
   ]
  },
  {
   "cell_type": "code",
   "execution_count": 167,
   "metadata": {},
   "outputs": [
    {
     "data": {
      "text/plain": [
       "0.759745727934612"
      ]
     },
     "execution_count": 167,
     "metadata": {},
     "output_type": "execute_result"
    }
   ],
   "source": [
    "# fit on logFCS \n",
    "from sklearn.ensemble import RandomForestRegressor\n",
    "\n",
    "# Create Regressor with default properties\n",
    "rfc = RandomForestRegressor(random_state =0,n_jobs =4,warm_start = True)\n",
    "\n",
    "parameters = {'max_depth':np.arange( 1,10, 1 ).tolist(), 'min_samples_leaf':np.arange( 1, 4, 1 ).tolist()}\n",
    "clf = GridSearchCV(rfc, parameters,cv=6, n_jobs= 4, iid = True,  refit= True,pre_dispatch= '2*n_jobs')\n",
    "clf.fit(X_train, y_train[labels[2]])\n",
    "\n",
    "# Fit estimator and display score\n",
    "\n",
    "# Regress on test data\n",
    "pred = clf.predict(X_test)\n",
    "\n",
    "actual = y_test[labels[2]]\n",
    "r2_rfc = stats.pearsonr(actual, pred)[0] ** 2\n",
    "r2_rfc"
   ]
  },
  {
   "cell_type": "code",
   "execution_count": 157,
   "metadata": {},
   "outputs": [
    {
     "data": {
      "text/plain": [
       "0.7393084231401277"
      ]
     },
     "execution_count": 157,
     "metadata": {},
     "output_type": "execute_result"
    }
   ],
   "source": [
    "# fit on logFCS \n",
    "from sklearn.ensemble import RandomForestRegressor\n",
    "\n",
    "# Create Regressor with default properties\n",
    "rfc = RandomForestRegressor(random_state =0,n_jobs =4,warm_start = True,max_depth=4, min_samples_leaf=5 )\n",
    "\n",
    "rfc.fit(X_train, y_train[labels[2]])\n",
    "# Fit estimator and display score\n",
    "\n",
    "# Regress on test data\n",
    "pred = rfc.predict(X_test)\n",
    "\n",
    "actual = y_test[labels[2]]\n",
    "r2_rfc = stats.pearsonr(actual, pred)[0] ** 2\n",
    "r2_rfc"
   ]
  },
  {
   "cell_type": "code",
   "execution_count": 102,
   "metadata": {},
   "outputs": [],
   "source": [
    "?stats.pearsonr"
   ]
  },
  {
   "cell_type": "code",
   "execution_count": 168,
   "metadata": {},
   "outputs": [
    {
     "data": {
      "text/plain": [
       "0.4868157217016907"
      ]
     },
     "execution_count": 168,
     "metadata": {},
     "output_type": "execute_result"
    }
   ],
   "source": [
    "from sklearn.linear_model import RidgeCV\n",
    "ridge = RidgeCV(alphas=(0,2), fit_intercept=True, normalize=False, scoring=None, cv=5, gcv_mode='auto', store_cv_values=False) \n",
    "\n",
    "# Define different alpha values for different fits\n",
    "# alpha = [0.0, 1E-6, 1E-4, 1E-2, 1.0]\n",
    "\n",
    "ridge.fit(X_train, y_train[labels[2]])\n",
    "pred = ridge.predict(X_test)\n",
    "\n",
    "actual = y_test[labels[2]]\n",
    "r2_ridge= stats.pearsonr(actual, pred)[0] ** 2\n",
    "r2_ridge"
   ]
  },
  {
   "cell_type": "code",
   "execution_count": 44,
   "metadata": {},
   "outputs": [
    {
     "data": {
      "text/plain": [
       "0.004029267771234072"
      ]
     },
     "execution_count": 44,
     "metadata": {},
     "output_type": "execute_result"
    }
   ],
   "source": [
    "from sklearn.linear_model import BayesianRidge\n",
    "bridge = BayesianRidge(alpha_1=30, alpha_2=70,lambda_1=0.01, compute_score=True)\n",
    "bridge.fit(X_train, y_train[labels[2]])\n",
    "pred = bridge.predict(X_test)\n",
    "\n",
    "actual = y_test[labels[2]]\n",
    "r2_bridge= stats.pearsonr(actual, pred)[0] ** 2\n",
    "r2_bridge"
   ]
  },
  {
   "cell_type": "code",
   "execution_count": 161,
   "metadata": {},
   "outputs": [
    {
     "data": {
      "text/plain": [
       "0.6547893206227314"
      ]
     },
     "execution_count": 161,
     "metadata": {},
     "output_type": "execute_result"
    }
   ],
   "source": [
    "from sklearn.linear_model import LassoCV\n",
    "\n",
    "ls = LassoCV(eps=0.1, n_alphas=100, alphas=(0.6, 1), fit_intercept=True,precompute='auto',n_jobs=4, random_state=0, selection='cyclic')\n",
    "\n",
    "ls = ls.fit(X_train, y_train[labels[2]])\n",
    "pred = ls.predict(X_test)\n",
    "\n",
    "actual = y_test[labels[2]]\n",
    "r2_ls= stats.pearsonr(actual, pred)[0] ** 2\n",
    "r2_ls"
   ]
  },
  {
   "cell_type": "code",
   "execution_count": 162,
   "metadata": {},
   "outputs": [
    {
     "data": {
      "text/plain": [
       "0.7664872571648382"
      ]
     },
     "execution_count": 162,
     "metadata": {},
     "output_type": "execute_result"
    }
   ],
   "source": [
    "from sklearn.linear_model import ElasticNetCV\n",
    "en = ElasticNetCV(alphas=(0.1,0.02,3,2), copy_X=True, cv=10, eps=0.004, fit_intercept=True,\n",
    "       l1_ratio=0.33, max_iter=1000, n_alphas=100, n_jobs=1,\n",
    "       normalize=False, positive=False, precompute='auto', random_state=0,\n",
    "       selection='cyclic', tol=0.0001, verbose=0)\n",
    "\n",
    "en.fit(X_train, y_train[labels[2]])\n",
    "\n",
    "pred = en.predict(X_test)\n",
    "\n",
    "actual = y_test[labels[2]]\n",
    "r2_en= stats.pearsonr(actual, pred)[0] ** 2\n",
    "r2_en\n"
   ]
  },
  {
   "cell_type": "code",
   "execution_count": 163,
   "metadata": {},
   "outputs": [
    {
     "data": {
      "text/plain": [
       "0.749254871599868"
      ]
     },
     "execution_count": 163,
     "metadata": {},
     "output_type": "execute_result"
    }
   ],
   "source": [
    "from sklearn.ensemble import GradientBoostingRegressor\n",
    "\n",
    "# Create Regressor with default properties\n",
    "gbr = GradientBoostingRegressor(random_state=0,learning_rate=0.1, n_estimators=19,subsample=1, criterion='friedman_mse', min_samples_split=3)\n",
    "\n",
    "gbr.fit(X_train, y_train[labels[2]])\n",
    "pred = gbr.predict(X_test)\n",
    "\n",
    "actual = y_test[labels[2]]\n",
    "r2_gbr= stats.pearsonr(actual, pred)[0] ** 2\n",
    "r2_gbr\n"
   ]
  },
  {
   "cell_type": "code",
   "execution_count": null,
   "metadata": {},
   "outputs": [],
   "source": []
  }
 ],
 "metadata": {
  "kernelspec": {
   "display_name": "Python 3",
   "language": "python",
   "name": "python3"
  },
  "language_info": {
   "codemirror_mode": {
    "name": "ipython",
    "version": 3
   },
   "file_extension": ".py",
   "mimetype": "text/x-python",
   "name": "python",
   "nbconvert_exporter": "python",
   "pygments_lexer": "ipython3",
   "version": "3.6.4"
  }
 },
 "nbformat": 4,
 "nbformat_minor": 2
}
