{
 "cells": [
  {
   "cell_type": "code",
   "execution_count": 140,
   "metadata": {},
   "outputs": [],
   "source": [
    "# Set up Notebook\n",
    "% matplotlib inline\n",
    "\n",
    "# Standard imports\n",
    "import numpy as np\n",
    "import pandas as pd\n",
    "import matplotlib.pyplot as plt\n",
    "import math\n",
    "import seaborn as sns\n",
    "import scipy.stats as stats\n",
    "from matplotlib import cm\n",
    "from sklearn.model_selection import GridSearchCV\n",
    "\n",
    "\n",
    "\n",
    "# We do this to ignore several specific Pandas warnings\n",
    "import warnings\n",
    "warnings.filterwarnings('ignore')\n",
    "from sklearn.metrics import explained_variance_score\n",
    "from sklearn.metrics import mean_absolute_error\n",
    "from sklearn.metrics import mean_squared_error\n",
    "from sklearn.metrics import median_absolute_error\n",
    "from sklearn.metrics import r2_score"
   ]
  },
  {
   "cell_type": "code",
   "execution_count": 141,
   "metadata": {},
   "outputs": [],
   "source": [
    "train_data = pd.read_csv('tz_train_clust.csv')\n",
    "test_data = pd.read_csv('tz_test_clust.csv')\n",
    "train_data = train_data.dropna(axis=1, how='all')\n",
    "test_data = test_data.dropna(axis=1, how='all')\n",
    "train_data = train_data.dropna(axis=0, how='any')\n",
    "test_data = test_data.dropna(axis=0, how='any')\n"
   ]
  },
  {
   "cell_type": "code",
   "execution_count": null,
   "metadata": {},
   "outputs": [],
   "source": []
  },
  {
   "cell_type": "code",
   "execution_count": 142,
   "metadata": {},
   "outputs": [],
   "source": [
    "labels = ['logFCS', 'rCSI', 'HDDS']"
   ]
  },
  {
   "cell_type": "code",
   "execution_count": 143,
   "metadata": {},
   "outputs": [
    {
     "data": {
      "text/html": [
       "<div>\n",
       "<style scoped>\n",
       "    .dataframe tbody tr th:only-of-type {\n",
       "        vertical-align: middle;\n",
       "    }\n",
       "\n",
       "    .dataframe tbody tr th {\n",
       "        vertical-align: top;\n",
       "    }\n",
       "\n",
       "    .dataframe thead th {\n",
       "        text-align: right;\n",
       "    }\n",
       "</style>\n",
       "<table border=\"1\" class=\"dataframe\">\n",
       "  <thead>\n",
       "    <tr style=\"text-align: right;\">\n",
       "      <th></th>\n",
       "      <th>cellphone</th>\n",
       "      <th>number_celphones</th>\n",
       "      <th>asset_index</th>\n",
       "      <th>housing_index</th>\n",
       "      <th>nutri_reten_constrained</th>\n",
       "      <th>nutri_avail_constrained</th>\n",
       "      <th>dist_km</th>\n",
       "      <th>maize_price</th>\n",
       "      <th>maize_mktthin</th>\n",
       "      <th>rice_price</th>\n",
       "      <th>rice_mktthin</th>\n",
       "      <th>tmean</th>\n",
       "      <th>lhz_maxdaysnorain</th>\n",
       "      <th>floodmax</th>\n",
       "      <th>raincytot</th>\n",
       "      <th>day1rain</th>\n",
       "      <th>maxdaysnorain</th>\n",
       "    </tr>\n",
       "  </thead>\n",
       "  <tbody>\n",
       "    <tr>\n",
       "      <th>7</th>\n",
       "      <td>1.000</td>\n",
       "      <td>1.250</td>\n",
       "      <td>-0.398681</td>\n",
       "      <td>-0.885833</td>\n",
       "      <td>0.0</td>\n",
       "      <td>0.0</td>\n",
       "      <td>85.343202</td>\n",
       "      <td>57091.0</td>\n",
       "      <td>0.0</td>\n",
       "      <td>153636.0</td>\n",
       "      <td>0.0</td>\n",
       "      <td>27.126058</td>\n",
       "      <td>181.0</td>\n",
       "      <td>0.0</td>\n",
       "      <td>672.757605</td>\n",
       "      <td>171.0</td>\n",
       "      <td>184.0</td>\n",
       "    </tr>\n",
       "    <tr>\n",
       "      <th>8</th>\n",
       "      <td>0.875</td>\n",
       "      <td>1.125</td>\n",
       "      <td>-0.398681</td>\n",
       "      <td>1.865030</td>\n",
       "      <td>0.0</td>\n",
       "      <td>0.0</td>\n",
       "      <td>122.521901</td>\n",
       "      <td>34280.0</td>\n",
       "      <td>0.0</td>\n",
       "      <td>130750.0</td>\n",
       "      <td>0.0</td>\n",
       "      <td>27.126058</td>\n",
       "      <td>181.0</td>\n",
       "      <td>0.0</td>\n",
       "      <td>798.059355</td>\n",
       "      <td>58.0</td>\n",
       "      <td>177.0</td>\n",
       "    </tr>\n",
       "    <tr>\n",
       "      <th>9</th>\n",
       "      <td>0.750</td>\n",
       "      <td>1.625</td>\n",
       "      <td>-0.398681</td>\n",
       "      <td>0.877928</td>\n",
       "      <td>0.0</td>\n",
       "      <td>0.0</td>\n",
       "      <td>116.855826</td>\n",
       "      <td>49850.0</td>\n",
       "      <td>0.0</td>\n",
       "      <td>141041.7</td>\n",
       "      <td>0.0</td>\n",
       "      <td>27.126058</td>\n",
       "      <td>181.0</td>\n",
       "      <td>0.0</td>\n",
       "      <td>750.990698</td>\n",
       "      <td>57.0</td>\n",
       "      <td>169.0</td>\n",
       "    </tr>\n",
       "    <tr>\n",
       "      <th>11</th>\n",
       "      <td>0.750</td>\n",
       "      <td>1.750</td>\n",
       "      <td>-0.398681</td>\n",
       "      <td>-0.885830</td>\n",
       "      <td>0.0</td>\n",
       "      <td>0.0</td>\n",
       "      <td>81.256278</td>\n",
       "      <td>37000.0</td>\n",
       "      <td>0.0</td>\n",
       "      <td>140227.0</td>\n",
       "      <td>0.0</td>\n",
       "      <td>26.275643</td>\n",
       "      <td>185.0</td>\n",
       "      <td>0.0</td>\n",
       "      <td>852.666398</td>\n",
       "      <td>57.0</td>\n",
       "      <td>178.0</td>\n",
       "    </tr>\n",
       "    <tr>\n",
       "      <th>13</th>\n",
       "      <td>1.000</td>\n",
       "      <td>1.500</td>\n",
       "      <td>0.327972</td>\n",
       "      <td>-0.492849</td>\n",
       "      <td>0.0</td>\n",
       "      <td>0.0</td>\n",
       "      <td>58.985690</td>\n",
       "      <td>59556.0</td>\n",
       "      <td>0.0</td>\n",
       "      <td>156667.0</td>\n",
       "      <td>0.0</td>\n",
       "      <td>26.275643</td>\n",
       "      <td>185.0</td>\n",
       "      <td>0.0</td>\n",
       "      <td>1045.150783</td>\n",
       "      <td>2.0</td>\n",
       "      <td>174.0</td>\n",
       "    </tr>\n",
       "  </tbody>\n",
       "</table>\n",
       "</div>"
      ],
      "text/plain": [
       "    cellphone  number_celphones  asset_index  housing_index  \\\n",
       "7       1.000             1.250    -0.398681      -0.885833   \n",
       "8       0.875             1.125    -0.398681       1.865030   \n",
       "9       0.750             1.625    -0.398681       0.877928   \n",
       "11      0.750             1.750    -0.398681      -0.885830   \n",
       "13      1.000             1.500     0.327972      -0.492849   \n",
       "\n",
       "    nutri_reten_constrained  nutri_avail_constrained     dist_km  maize_price  \\\n",
       "7                       0.0                      0.0   85.343202      57091.0   \n",
       "8                       0.0                      0.0  122.521901      34280.0   \n",
       "9                       0.0                      0.0  116.855826      49850.0   \n",
       "11                      0.0                      0.0   81.256278      37000.0   \n",
       "13                      0.0                      0.0   58.985690      59556.0   \n",
       "\n",
       "    maize_mktthin  rice_price  rice_mktthin      tmean  lhz_maxdaysnorain  \\\n",
       "7             0.0    153636.0           0.0  27.126058              181.0   \n",
       "8             0.0    130750.0           0.0  27.126058              181.0   \n",
       "9             0.0    141041.7           0.0  27.126058              181.0   \n",
       "11            0.0    140227.0           0.0  26.275643              185.0   \n",
       "13            0.0    156667.0           0.0  26.275643              185.0   \n",
       "\n",
       "    floodmax    raincytot  day1rain  maxdaysnorain  \n",
       "7        0.0   672.757605     171.0          184.0  \n",
       "8        0.0   798.059355      58.0          177.0  \n",
       "9        0.0   750.990698      57.0          169.0  \n",
       "11       0.0   852.666398      57.0          178.0  \n",
       "13       0.0  1045.150783       2.0          174.0  "
      ]
     },
     "execution_count": 143,
     "metadata": {},
     "output_type": "execute_result"
    }
   ],
   "source": [
    "x_train=train_data.drop(labels, axis=1)\n",
    "x_train = x_train.drop(x_train.columns[0], axis=1)\n",
    "x_test=test_data.drop(labels, axis=1)\n",
    "x_test = x_test.drop(x_test.columns[0], axis=1)\n",
    "\n",
    "x_test.head()"
   ]
  },
  {
   "cell_type": "code",
   "execution_count": 144,
   "metadata": {},
   "outputs": [
    {
     "data": {
      "text/html": [
       "<div>\n",
       "<style scoped>\n",
       "    .dataframe tbody tr th:only-of-type {\n",
       "        vertical-align: middle;\n",
       "    }\n",
       "\n",
       "    .dataframe tbody tr th {\n",
       "        vertical-align: top;\n",
       "    }\n",
       "\n",
       "    .dataframe thead th {\n",
       "        text-align: right;\n",
       "    }\n",
       "</style>\n",
       "<table border=\"1\" class=\"dataframe\">\n",
       "  <thead>\n",
       "    <tr style=\"text-align: right;\">\n",
       "      <th></th>\n",
       "      <th>logFCS</th>\n",
       "      <th>rCSI</th>\n",
       "      <th>HDDS</th>\n",
       "    </tr>\n",
       "  </thead>\n",
       "  <tbody>\n",
       "    <tr>\n",
       "      <th>7</th>\n",
       "      <td>2.320894</td>\n",
       "      <td>2.000</td>\n",
       "      <td>1.625</td>\n",
       "    </tr>\n",
       "    <tr>\n",
       "      <th>8</th>\n",
       "      <td>2.677456</td>\n",
       "      <td>5.625</td>\n",
       "      <td>2.500</td>\n",
       "    </tr>\n",
       "    <tr>\n",
       "      <th>9</th>\n",
       "      <td>3.260911</td>\n",
       "      <td>2.500</td>\n",
       "      <td>3.000</td>\n",
       "    </tr>\n",
       "    <tr>\n",
       "      <th>11</th>\n",
       "      <td>2.830805</td>\n",
       "      <td>6.625</td>\n",
       "      <td>2.375</td>\n",
       "    </tr>\n",
       "    <tr>\n",
       "      <th>13</th>\n",
       "      <td>2.991706</td>\n",
       "      <td>4.375</td>\n",
       "      <td>2.375</td>\n",
       "    </tr>\n",
       "  </tbody>\n",
       "</table>\n",
       "</div>"
      ],
      "text/plain": [
       "      logFCS   rCSI   HDDS\n",
       "7   2.320894  2.000  1.625\n",
       "8   2.677456  5.625  2.500\n",
       "9   3.260911  2.500  3.000\n",
       "11  2.830805  6.625  2.375\n",
       "13  2.991706  4.375  2.375"
      ]
     },
     "execution_count": 144,
     "metadata": {},
     "output_type": "execute_result"
    }
   ],
   "source": [
    "y_train = train_data[labels]\n",
    "y_test = test_data[labels]\n",
    "y_test.head()"
   ]
  },
  {
   "cell_type": "code",
   "execution_count": 145,
   "metadata": {},
   "outputs": [],
   "source": [
    "from sklearn.preprocessing import Imputer,StandardScaler\n",
    "\n",
    "imp = Imputer(missing_values='NaN', strategy='mean', axis=0, copy=False)\n",
    "x_train = imp.fit_transform(x_train)\n",
    "x_test = imp.fit_transform(x_test)\n",
    "\n",
    "ss = StandardScaler()\n",
    "x_train = ss.fit_transform(x_train)\n",
    "x_test = ss.fit_transform(x_test)\n"
   ]
  },
  {
   "cell_type": "code",
   "execution_count": 130,
   "metadata": {},
   "outputs": [],
   "source": [
    "from sklearn.preprocessing import PolynomialFeatures\n",
    "poly = PolynomialFeatures(2)\n",
    "x_train = poly.fit_transform(x_train)\n",
    "x_test =  poly.fit_transform(x_test)\n",
    "\n"
   ]
  },
  {
   "cell_type": "code",
   "execution_count": 147,
   "metadata": {},
   "outputs": [
    {
     "data": {
      "text/plain": [
       "0.02991389748377062"
      ]
     },
     "execution_count": 147,
     "metadata": {},
     "output_type": "execute_result"
    }
   ],
   "source": [
    "from sklearn.linear_model import LinearRegression\n",
    "\n",
    "# Create and fit our linear regression model to training data\n",
    "model = LinearRegression(fit_intercept=True)\n",
    "model.fit(x_train, y_train[labels[2]])\n",
    "\n",
    "# Compute model predictions for test data\n",
    "pred = model.predict(x_test)\n",
    "\n",
    "actual = y_test[labels[2]]\n",
    "r2_linear = stats.pearsonr(actual, pred)[0] ** 2\n",
    "r2_linear"
   ]
  },
  {
   "cell_type": "code",
   "execution_count": 150,
   "metadata": {},
   "outputs": [
    {
     "data": {
      "text/plain": [
       "41      4.347080\n",
       "43      4.471639\n",
       "53      4.610158\n",
       "54      4.182505\n",
       "59      4.032708\n",
       "62      3.941582\n",
       "68      4.001299\n",
       "69      4.088714\n",
       "79      4.069027\n",
       "83          -inf\n",
       "85      4.170247\n",
       "89      4.388257\n",
       "91      3.890500\n",
       "93      3.895277\n",
       "96      4.548600\n",
       "98      4.205883\n",
       "100     4.089570\n",
       "104     4.073953\n",
       "106     3.891820\n",
       "108     4.001299\n",
       "109     4.088714\n",
       "114     4.347080\n",
       "116     4.471639\n",
       "120     4.610158\n",
       "121     4.182505\n",
       "137     4.338525\n",
       "140     4.269697\n",
       "142     4.110513\n",
       "146     4.263481\n",
       "151     4.345593\n",
       "          ...   \n",
       "4467    4.369448\n",
       "4468    4.624973\n",
       "4471        -inf\n",
       "4474    4.436752\n",
       "4476    4.025352\n",
       "4491    4.384392\n",
       "4494    4.388257\n",
       "4497    4.218181\n",
       "4511    4.377014\n",
       "4526    4.320571\n",
       "4530        -inf\n",
       "4538    4.314312\n",
       "4541    4.151036\n",
       "4542    4.060443\n",
       "4544    4.317488\n",
       "4546        -inf\n",
       "4548    4.226834\n",
       "4549    4.360043\n",
       "4552    3.401197\n",
       "4558    4.274552\n",
       "4567    4.465908\n",
       "4569    4.278727\n",
       "4582    4.439623\n",
       "4583        -inf\n",
       "4586    4.382417\n",
       "4589        -inf\n",
       "4592    4.303726\n",
       "4599    4.211676\n",
       "4603    4.050600\n",
       "4608    4.454347\n",
       "Name: logFCS, Length: 1319, dtype: float64"
      ]
     },
     "execution_count": 150,
     "metadata": {},
     "output_type": "execute_result"
    }
   ],
   "source": [
    " y_train[labels[0]]"
   ]
  },
  {
   "cell_type": "code",
   "execution_count": 106,
   "metadata": {},
   "outputs": [
    {
     "data": {
      "text/plain": [
       "0.00408306689596873"
      ]
     },
     "execution_count": 106,
     "metadata": {},
     "output_type": "execute_result"
    }
   ],
   "source": [
    "# fit on logFCS \n",
    "from sklearn.ensemble import RandomForestRegressor\n",
    "\n",
    "# Create Regressor with default properties\n",
    "rfc = RandomForestRegressor(random_state =0,n_jobs =4,warm_start = True)\n",
    "\n",
    "parameters = {'max_depth':np.arange( 1,8, 1 ).tolist(), 'min_samples_leaf':np.arange( 1, 6, 1 ).tolist()}\n",
    "clf = GridSearchCV(rfc, parameters,cv=6, n_jobs= 4, iid = True,  refit= True,pre_dispatch= '2*n_jobs')\n",
    "clf.fit(x_train, y_train[labels[1]])\n",
    "\n",
    "# Fit estimator and display score\n",
    "\n",
    "# Regress on test data\n",
    "pred = clf.predict(x_test)\n",
    "actual = y_test[labels[1]]\n",
    "r2_rfc = stats.pearsonr(actual, pred)[0] ** 2\n",
    "r2_rfc"
   ]
  },
  {
   "cell_type": "code",
   "execution_count": 67,
   "metadata": {},
   "outputs": [
    {
     "data": {
      "text/plain": [
       "0.0013496236653385944"
      ]
     },
     "execution_count": 67,
     "metadata": {},
     "output_type": "execute_result"
    }
   ],
   "source": [
    "from sklearn.ensemble import ExtraTreesRegressor\n",
    "\n",
    "# Create Regressor with default properties\n",
    "extratree = ExtraTreesRegressor(random_state=0)\n",
    "\n",
    "# Fit estimator and display score\n",
    "extratree = extratree.fit(x_train, y_train[labels[2]])\n",
    "# Regress on test data\n",
    "pred = extratree.predict(x_test)\n",
    "\n",
    "actual = y_test[labels[2]]\n",
    "r2_et = stats.pearsonr(actual, pred)[0] ** 2\n",
    "r2_et\n",
    "\n",
    "\n"
   ]
  },
  {
   "cell_type": "code",
   "execution_count": null,
   "metadata": {
    "collapsed": true
   },
   "outputs": [],
   "source": []
  },
  {
   "cell_type": "code",
   "execution_count": 107,
   "metadata": {},
   "outputs": [
    {
     "data": {
      "text/plain": [
       "0.0014163196007047176"
      ]
     },
     "execution_count": 107,
     "metadata": {},
     "output_type": "execute_result"
    }
   ],
   "source": [
    "from sklearn.neural_network import MLPRegressor\n",
    "\n",
    "mlp = MLPRegressor(warm_start=False,random_state =0, validation_fraction=0.1,learning_rate='adaptive')\n",
    "# Fit estimator and display score\n",
    "mlp = mlp.fit(x_train, y_train[labels[2]])\n",
    "pred = mlp.predict(x_test)\n",
    "\n",
    "actual = y_test[labels[2]]\n",
    "r2_mlp= stats.pearsonr(actual, pred)[0] ** 2\n",
    "r2_mlp"
   ]
  },
  {
   "cell_type": "code",
   "execution_count": 139,
   "metadata": {},
   "outputs": [
    {
     "data": {
      "text/plain": [
       "0.027575132000468145"
      ]
     },
     "execution_count": 139,
     "metadata": {},
     "output_type": "execute_result"
    }
   ],
   "source": [
    "from sklearn.svm import SVR\n",
    "\n",
    "# Create Regressor with default properties\n",
    "svr = SVR(kernel='linear',degree =4)\n",
    "\n",
    "# Fit estimator and display score\n",
    "svr = svr.fit(x_train, y_train[labels[2]])\n",
    "pred = svr.predict(x_test)\n",
    "\n",
    "actual = y_test[labels[2]]\n",
    "r2_svr= stats.pearsonr(actual, pred)[0] ** 2\n",
    "r2_svr\n"
   ]
  },
  {
   "cell_type": "code",
   "execution_count": 16,
   "metadata": {},
   "outputs": [
    {
     "data": {
      "text/plain": [
       "0.69498912222257903"
      ]
     },
     "execution_count": 16,
     "metadata": {},
     "output_type": "execute_result"
    }
   ],
   "source": [
    "from sklearn.gaussian_process import  GaussianProcessRegressor\n",
    "\n",
    "# Import our kernels\n",
    "from sklearn.gaussian_process.kernels import Matern, WhiteKernel\n",
    "\n",
    "\n",
    "\n",
    "# Define custom kernel (Matern + noise)\n",
    "krnl = 2. + Matern(length_scale=1, nu=1.8) + WhiteKernel(noise_level=10)\n",
    "\n",
    "# Create Regressor with specified properties\n",
    "gpr = GaussianProcessRegressor(kernel=krnl, random_state=0)\n",
    "\n",
    "# Fit estimator and display score\n",
    "gpr= gpr.fit(x_train, y_train[labels[2]])\n",
    "pred = gpr.predict(x_test)\n",
    "actual = y_test[labels[2]]\n",
    "r2_gpr= stats.pearsonr(actual, pred)[0] ** 2\n",
    "r2_gpr\n",
    "\n"
   ]
  },
  {
   "cell_type": "code",
   "execution_count": 109,
   "metadata": {},
   "outputs": [
    {
     "data": {
      "text/plain": [
       "0.004891184646259924"
      ]
     },
     "execution_count": 109,
     "metadata": {},
     "output_type": "execute_result"
    }
   ],
   "source": [
    "\n",
    "from sklearn.linear_model import Ridge\n",
    "\n",
    "# Define different alpha values for different fits\n",
    "alpha = [0.0, 1E-6, 1E-4, 1E-2, 1.0]\n",
    "\n",
    "ridge = Ridge(alpha=20,fit_intercept=False)\n",
    "\n",
    "ridge.fit(x_train, y_train[labels[2]])\n",
    "pred = ridge.predict(x_test)\n",
    "\n",
    "actual = y_test[labels[2]]\n",
    "r2_ridge= stats.pearsonr(actual, pred)[0] ** 2\n",
    "r2_ridge"
   ]
  },
  {
   "cell_type": "code",
   "execution_count": 110,
   "metadata": {},
   "outputs": [
    {
     "data": {
      "text/plain": [
       "0.016619255797532755"
      ]
     },
     "execution_count": 110,
     "metadata": {},
     "output_type": "execute_result"
    }
   ],
   "source": [
    "from sklearn.linear_model import BayesianRidge\n",
    "bridge = BayesianRidge(compute_score=True)\n",
    "bridge.fit(x_train, y_train[labels[2]])\n",
    "pred = bridge.predict(x_test)\n",
    "\n",
    "actual = y_test[labels[2]]\n",
    "r2_bridge= stats.pearsonr(actual, pred)[0] ** 2\n",
    "r2_bridge"
   ]
  },
  {
   "cell_type": "code",
   "execution_count": 117,
   "metadata": {},
   "outputs": [
    {
     "data": {
      "text/plain": [
       "0.020322407466060177"
      ]
     },
     "execution_count": 117,
     "metadata": {},
     "output_type": "execute_result"
    }
   ],
   "source": [
    "from sklearn.linear_model import Lasso\n",
    "alpha = [1E-4, 1E-2, 0.1, 1.0]\n",
    "\n",
    "ls = Lasso(alpha=alpha[0], fit_intercept=True)\n",
    "\n",
    "\n",
    "ls = ls.fit(x_train, y_train[labels[1]])\n",
    "pred = ls.predict(x_test)\n",
    "\n",
    "actual = y_test[labels[1]]\n",
    "r2_ls= stats.pearsonr(actual, pred)[0] ** 2\n",
    "r2_ls"
   ]
  },
  {
   "cell_type": "code",
   "execution_count": 112,
   "metadata": {},
   "outputs": [
    {
     "data": {
      "text/plain": [
       "0.003970719995282263"
      ]
     },
     "execution_count": 112,
     "metadata": {},
     "output_type": "execute_result"
    }
   ],
   "source": [
    "from sklearn.linear_model import ElasticNet\n",
    "alpha = [1E-4, 1E-2, 0.1, 1.0]\n",
    "\n",
    "en = ElasticNet(alpha=alpha[2], l1_ratio=0.8)\n",
    "\n",
    "\n",
    "en.fit(x_train, y_train[labels[2]])\n",
    "pred = en.predict(x_test)\n",
    "\n",
    "actual = y_test[labels[2]]\n",
    "r2_en= stats.pearsonr(actual, pred)[0] ** 2\n",
    "r2_en\n"
   ]
  },
  {
   "cell_type": "code",
   "execution_count": 118,
   "metadata": {},
   "outputs": [
    {
     "data": {
      "text/plain": [
       "0.031751391418244776"
      ]
     },
     "execution_count": 118,
     "metadata": {},
     "output_type": "execute_result"
    }
   ],
   "source": [
    "from sklearn.ensemble import GradientBoostingRegressor\n",
    "\n",
    "# Create Regressor with default properties\n",
    "gbr = GradientBoostingRegressor(random_state=0)\n",
    "\n",
    "gbr.fit(x_train, y_train[labels[1]])\n",
    "pred = gbr.predict(x_test)\n",
    "\n",
    "actual = y_test[labels[1]]\n",
    "r2_gbr= stats.pearsonr(actual, pred)[0] ** 2\n",
    "r2_gbr\n"
   ]
  },
  {
   "cell_type": "code",
   "execution_count": null,
   "metadata": {
    "collapsed": true
   },
   "outputs": [],
   "source": []
  },
  {
   "cell_type": "code",
   "execution_count": null,
   "metadata": {
    "collapsed": true
   },
   "outputs": [],
   "source": []
  }
 ],
 "metadata": {
  "kernelspec": {
   "display_name": "Python 3",
   "language": "python",
   "name": "python3"
  },
  "language_info": {
   "codemirror_mode": {
    "name": "ipython",
    "version": 3
   },
   "file_extension": ".py",
   "mimetype": "text/x-python",
   "name": "python",
   "nbconvert_exporter": "python",
   "pygments_lexer": "ipython3",
   "version": "3.6.4"
  }
 },
 "nbformat": 4,
 "nbformat_minor": 2
}
