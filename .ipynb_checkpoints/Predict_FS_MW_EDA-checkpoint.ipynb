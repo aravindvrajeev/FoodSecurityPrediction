{
 "cells": [
  {
   "cell_type": "markdown",
   "metadata": {
    "colab_type": "text",
    "id": "view-in-github"
   },
   "source": [
    "<a href=\"https://colab.research.google.com/github/zhou100/FoodSecurityPrediction/blob/master/Predict_FS_MW_EDA.ipynb\" target=\"_parent\"><img src=\"https://colab.research.google.com/assets/colab-badge.svg\" alt=\"Open In Colab\"/></a>"
   ]
  },
  {
   "cell_type": "markdown",
   "metadata": {
    "colab_type": "text",
    "id": "M84u2C8HfggW"
   },
   "source": [
    "# Use machine learning to predict food security"
   ]
  },
  {
   "cell_type": "code",
   "execution_count": 1,
   "metadata": {
    "colab": {},
    "colab_type": "code",
    "id": "I19oMdkdgy5O"
   },
   "outputs": [],
   "source": [
    "# Set up Notebook\n",
    "% matplotlib inline\n",
    "\n",
    "# Standard imports\n",
    "from sklearn.model_selection import GridSearchCV\n",
    "\n",
    "import numpy as np\n",
    "import pandas as pd\n",
    "import matplotlib.pyplot as plt\n",
    "import seaborn as sns\n",
    "import scipy.stats as stats\n",
    "from matplotlib import cm\n",
    "\n",
    "\n",
    "# We do this to ignore several specific Pandas warnings\n",
    "import warnings\n",
    "warnings.filterwarnings('ignore')\n",
    "from sklearn.metrics import explained_variance_score\n",
    "from sklearn.metrics import mean_absolute_error\n",
    "from sklearn.metrics import mean_squared_error\n",
    "from sklearn.metrics import median_absolute_error\n",
    "from sklearn.metrics import r2_score"
   ]
  },
  {
   "cell_type": "markdown",
   "metadata": {
    "colab_type": "text",
    "id": "keVrDW_bUkj7"
   },
   "source": [
    " ## Read in the data cleaned out by R"
   ]
  },
  {
   "cell_type": "markdown",
   "metadata": {
    "colab_type": "text",
    "id": "zFRtuZDugFxL"
   },
   "source": [
    "If you are using google colab like me, you will need to mount your google drive first and  copy the cleaned dataset from the R project to your google drive. \n",
    "\n",
    "If you are using python/jupyter notebook locally, just point to the right directory. "
   ]
  },
  {
   "cell_type": "code",
   "execution_count": 2,
   "metadata": {
    "colab": {},
    "colab_type": "code",
    "id": "qJVtdmY7tqHa"
   },
   "outputs": [],
   "source": [
    "url = 'https://raw.githubusercontent.com/zhou100/FoodSecurityPrediction/master/data/mw_dataset_cluster.csv'\n",
    "mw_clust = pd.read_csv(url)"
   ]
  },
  {
   "cell_type": "markdown",
   "metadata": {
    "colab_type": "text",
    "id": "sWyD9pyGg3tG"
   },
   "source": [
    "## Preprocessing data\n"
   ]
  },
  {
   "cell_type": "markdown",
   "metadata": {
    "colab_type": "text",
    "id": "kL-QAaj2oHAi"
   },
   "source": [
    "### Remove rows of missing values or extreme values"
   ]
  },
  {
   "cell_type": "markdown",
   "metadata": {
    "colab_type": "text",
    "id": "z4-7F9HoPcQq"
   },
   "source": [
    "### One-hot encoding for string variables "
   ]
  },
  {
   "cell_type": "code",
   "execution_count": 0,
   "metadata": {
    "colab": {},
    "colab_type": "code",
    "id": "o5G4izvkM1NP"
   },
   "outputs": [],
   "source": [
    "mw_clust[\"FNID\"]= mw_clust[\"FNID\"].str.lstrip('MW2012C')\n",
    "fnid_mw_clust = pd.get_dummies(mw_clust[\"FNID\"],prefix='MW', drop_first=True)\n",
    "mw_clust = pd.concat([mw_clust, fnid_mw_clust], axis=1)\n"
   ]
  },
  {
   "cell_type": "markdown",
   "metadata": {
    "colab_type": "text",
    "id": "s7DXM1k9N2nt"
   },
   "source": [
    "### Impute missing values and standarize variables "
   ]
  },
  {
   "cell_type": "code",
   "execution_count": 0,
   "metadata": {
    "colab": {},
    "colab_type": "code",
    "id": "8CwDmwc1MdA3"
   },
   "outputs": [],
   "source": [
    "from sklearn.preprocessing import StandardScaler\n",
    "\n",
    "#ss = StandardScaler()\n",
    "\n",
    "#mw_hh_X_train = ss.fit_transform(mw_hh_X_train)\n",
    "#mw_hh_X_test = ss.fit_transform(mw_hh_X_test)\n",
    "#tz_hh_X_train = ss.fit_transform(tz_hh_X_train)\n",
    "#tz_hh_X_test = ss.fit_transform(tz_hh_X_test)\n",
    "#ug_hh_X_train = ss.fit_transform(ug_hh_X_train)\n",
    "#ug_hh_X_test = ss.fit_transform(ug_hh_X_test)\n",
    "\n",
    "#mw_clust_X_train = ss.fit_transform(mw_clust_X_train)\n",
    "#mw_clust_X_test = ss.fit_transform(mw_clust_X_test)\n",
    "#tz_clust_X_train = ss.fit_transform(tz_clust_X_train)\n",
    "#tz_clust_X_test = ss.fit_transform(tz_clust_X_test)\n",
    "#ug_clust_X_train = ss.fit_transform(ug_clust_X_train)\n",
    "#ug_clust_X_test = ss.fit_transform(ug_clust_X_test)\n",
    "\n"
   ]
  },
  {
   "cell_type": "markdown",
   "metadata": {
    "colab_type": "text",
    "id": "EHTKzlm8G7rS"
   },
   "source": [
    "# Methodology\n"
   ]
  },
  {
   "cell_type": "markdown",
   "metadata": {
    "colab_type": "text",
    "id": "G1SERn3aHD_P"
   },
   "source": [
    "This section will explain our main approach with the data.\n",
    "\n",
    "1. Focus on categorical prediciton for the given cutoffs. \n",
    "\n",
    "Reasons: Close to the actual policy scenarios where we focus on capturing all the insecure households. Recall rate of the insecure villages is more important than the over all accuracy. \n",
    "\n",
    "Can apply the down sampling and over sampling technique here to improve \n",
    "\n",
    "\n",
    "2.  Algorithms to try : tree classifier, random forest classifier, xgboost \n",
    "\n",
    "2.1. By categories, vs one or rest\n",
    "\n",
    "2.2.  Parameter Tuning\n",
    "\n",
    "2.3 . feature importance analysis\n",
    "\n",
    "\n",
    "3.  Error analysis by region, by group, by month\n",
    "\n",
    "4.  Train model by division separtely Auto-segmentation by training a shallow tree in each country based on observables \n",
    "\n",
    "5. Model combination: what happens when we train on all the data \n",
    "\n",
    "6. Model generalization issues: what happens when we directly apply  models trained on one country to predict another \n",
    "\n",
    "\n",
    "\n",
    "\n",
    "\n"
   ]
  },
  {
   "cell_type": "markdown",
   "metadata": {
    "colab_type": "text",
    "id": "DSo3Zuh0jAN8"
   },
   "source": [
    "## Exploratory Data Analysis  "
   ]
  },
  {
   "cell_type": "markdown",
   "metadata": {
    "colab_type": "text",
    "id": "0EVf0OgQhyzj"
   },
   "source": [
    "### Measures:  plot target measures by year by country\n"
   ]
  },
  {
   "cell_type": "code",
   "execution_count": 6,
   "metadata": {
    "colab": {
     "base_uri": "https://localhost:8080/",
     "height": 251
    },
    "colab_type": "code",
    "id": "NhZG9v9kZt4g",
    "outputId": "04b11c47-3a80-437f-cc2c-549f3456ad36"
   },
   "outputs": [
    {
     "data": {
      "text/html": [
       "<div>\n",
       "<style scoped>\n",
       "    .dataframe tbody tr th:only-of-type {\n",
       "        vertical-align: middle;\n",
       "    }\n",
       "\n",
       "    .dataframe tbody tr th {\n",
       "        vertical-align: top;\n",
       "    }\n",
       "\n",
       "    .dataframe thead th {\n",
       "        text-align: right;\n",
       "    }\n",
       "</style>\n",
       "<table border=\"1\" class=\"dataframe\">\n",
       "  <thead>\n",
       "    <tr style=\"text-align: right;\">\n",
       "      <th></th>\n",
       "      <th>ea_id</th>\n",
       "      <th>FS_year</th>\n",
       "      <th>FNID</th>\n",
       "      <th>Refrigerator</th>\n",
       "      <th>Radio</th>\n",
       "      <th>Television</th>\n",
       "      <th>Bicycle</th>\n",
       "      <th>Motorcycle</th>\n",
       "      <th>Car</th>\n",
       "      <th>number_celphones</th>\n",
       "      <th>floor_cement</th>\n",
       "      <th>floor_tile</th>\n",
       "      <th>floor_dirt_sand_dung</th>\n",
       "      <th>roof_natural</th>\n",
       "      <th>roof_iron</th>\n",
       "      <th>roof_other</th>\n",
       "      <th>cell_phone</th>\n",
       "      <th>hhsize</th>\n",
       "      <th>FS_month</th>\n",
       "      <th>dist_road</th>\n",
       "      <th>dist_popcenter</th>\n",
       "      <th>dist_admarc</th>\n",
       "      <th>ag_percent</th>\n",
       "      <th>elevation</th>\n",
       "      <th>rCSI</th>\n",
       "      <th>HDDS</th>\n",
       "      <th>FCS</th>\n",
       "      <th>dummy_terrain_rough</th>\n",
       "      <th>nutri_severe_constraint</th>\n",
       "      <th>nutri_moderate_constraint</th>\n",
       "      <th>asset_index</th>\n",
       "      <th>rural</th>\n",
       "      <th>clust_maize_price</th>\n",
       "      <th>clust_rice_price</th>\n",
       "      <th>clust_nuts_price</th>\n",
       "      <th>clust_beans_price</th>\n",
       "      <th>clust_maize_mktthin</th>\n",
       "      <th>clust_rice_mktthin</th>\n",
       "      <th>clust_nuts_mktthin</th>\n",
       "      <th>clust_beans_mktthin</th>\n",
       "      <th>...</th>\n",
       "      <th>MW_3020213</th>\n",
       "      <th>MW_3020303</th>\n",
       "      <th>MW_3020403</th>\n",
       "      <th>MW_3020503</th>\n",
       "      <th>MW_3020513</th>\n",
       "      <th>MW_3020515</th>\n",
       "      <th>MW_3020603</th>\n",
       "      <th>MW_3020619</th>\n",
       "      <th>MW_3020703</th>\n",
       "      <th>MW_3020803</th>\n",
       "      <th>MW_3020813</th>\n",
       "      <th>MW_3020815</th>\n",
       "      <th>MW_3020913</th>\n",
       "      <th>MW_3030112</th>\n",
       "      <th>MW_3030114</th>\n",
       "      <th>MW_3030115</th>\n",
       "      <th>MW_3030204</th>\n",
       "      <th>MW_3030206</th>\n",
       "      <th>MW_3030214</th>\n",
       "      <th>MW_3030304</th>\n",
       "      <th>MW_3030306</th>\n",
       "      <th>MW_3030314</th>\n",
       "      <th>MW_3030404</th>\n",
       "      <th>MW_3030414</th>\n",
       "      <th>MW_3030506</th>\n",
       "      <th>MW_3030514</th>\n",
       "      <th>MW_3030519</th>\n",
       "      <th>MW_3030606</th>\n",
       "      <th>MW_3030613</th>\n",
       "      <th>MW_3030714</th>\n",
       "      <th>MW_3030716</th>\n",
       "      <th>MW_3030804</th>\n",
       "      <th>MW_3030816</th>\n",
       "      <th>MW_3030904</th>\n",
       "      <th>MW_3031005</th>\n",
       "      <th>MW_3031105</th>\n",
       "      <th>MW_3031206</th>\n",
       "      <th>MW_3031213</th>\n",
       "      <th>MW_3031313</th>\n",
       "      <th>MW_3999918</th>\n",
       "    </tr>\n",
       "  </thead>\n",
       "  <tbody>\n",
       "    <tr>\n",
       "      <th>0</th>\n",
       "      <td>10101016</td>\n",
       "      <td>2010</td>\n",
       "      <td>3010102</td>\n",
       "      <td>0.000000</td>\n",
       "      <td>0.437500</td>\n",
       "      <td>0.000000</td>\n",
       "      <td>0.375000</td>\n",
       "      <td>0.0</td>\n",
       "      <td>0.0</td>\n",
       "      <td>0.437500</td>\n",
       "      <td>0.062500</td>\n",
       "      <td>0.0</td>\n",
       "      <td>0.0</td>\n",
       "      <td>0.875000</td>\n",
       "      <td>0.125000</td>\n",
       "      <td>0.0</td>\n",
       "      <td>0.250000</td>\n",
       "      <td>5.937500</td>\n",
       "      <td>4.000000</td>\n",
       "      <td>2.656875</td>\n",
       "      <td>62.406875</td>\n",
       "      <td>12.016250</td>\n",
       "      <td>20.875000</td>\n",
       "      <td>1295.312500</td>\n",
       "      <td>3.625000</td>\n",
       "      <td>5.375000</td>\n",
       "      <td>39.968750</td>\n",
       "      <td>0</td>\n",
       "      <td>0.000000</td>\n",
       "      <td>0</td>\n",
       "      <td>-1.097918</td>\n",
       "      <td>1.000000</td>\n",
       "      <td>44.282500</td>\n",
       "      <td>247.276000</td>\n",
       "      <td>235.426000</td>\n",
       "      <td>187.412000</td>\n",
       "      <td>0.2</td>\n",
       "      <td>0.0</td>\n",
       "      <td>0.0</td>\n",
       "      <td>0.0</td>\n",
       "      <td>...</td>\n",
       "      <td>0</td>\n",
       "      <td>0</td>\n",
       "      <td>0</td>\n",
       "      <td>0</td>\n",
       "      <td>0</td>\n",
       "      <td>0</td>\n",
       "      <td>0</td>\n",
       "      <td>0</td>\n",
       "      <td>0</td>\n",
       "      <td>0</td>\n",
       "      <td>0</td>\n",
       "      <td>0</td>\n",
       "      <td>0</td>\n",
       "      <td>0</td>\n",
       "      <td>0</td>\n",
       "      <td>0</td>\n",
       "      <td>0</td>\n",
       "      <td>0</td>\n",
       "      <td>0</td>\n",
       "      <td>0</td>\n",
       "      <td>0</td>\n",
       "      <td>0</td>\n",
       "      <td>0</td>\n",
       "      <td>0</td>\n",
       "      <td>0</td>\n",
       "      <td>0</td>\n",
       "      <td>0</td>\n",
       "      <td>0</td>\n",
       "      <td>0</td>\n",
       "      <td>0</td>\n",
       "      <td>0</td>\n",
       "      <td>0</td>\n",
       "      <td>0</td>\n",
       "      <td>0</td>\n",
       "      <td>0</td>\n",
       "      <td>0</td>\n",
       "      <td>0</td>\n",
       "      <td>0</td>\n",
       "      <td>0</td>\n",
       "      <td>0</td>\n",
       "    </tr>\n",
       "    <tr>\n",
       "      <th>1</th>\n",
       "      <td>10101016</td>\n",
       "      <td>2013</td>\n",
       "      <td>3010102</td>\n",
       "      <td>0.000000</td>\n",
       "      <td>0.437500</td>\n",
       "      <td>0.000000</td>\n",
       "      <td>0.312500</td>\n",
       "      <td>0.0</td>\n",
       "      <td>0.0</td>\n",
       "      <td>0.250000</td>\n",
       "      <td>0.062500</td>\n",
       "      <td>0.0</td>\n",
       "      <td>0.0</td>\n",
       "      <td>0.937500</td>\n",
       "      <td>0.062500</td>\n",
       "      <td>0.0</td>\n",
       "      <td>0.250000</td>\n",
       "      <td>6.187500</td>\n",
       "      <td>4.000000</td>\n",
       "      <td>2.250000</td>\n",
       "      <td>62.562500</td>\n",
       "      <td>12.687500</td>\n",
       "      <td>23.250000</td>\n",
       "      <td>1296.250000</td>\n",
       "      <td>12.312500</td>\n",
       "      <td>4.687500</td>\n",
       "      <td>57.562500</td>\n",
       "      <td>0</td>\n",
       "      <td>0.000000</td>\n",
       "      <td>0</td>\n",
       "      <td>-1.272851</td>\n",
       "      <td>1.000000</td>\n",
       "      <td>117.495000</td>\n",
       "      <td>338.092614</td>\n",
       "      <td>260.726301</td>\n",
       "      <td>169.705691</td>\n",
       "      <td>0.5</td>\n",
       "      <td>1.0</td>\n",
       "      <td>1.0</td>\n",
       "      <td>1.0</td>\n",
       "      <td>...</td>\n",
       "      <td>0</td>\n",
       "      <td>0</td>\n",
       "      <td>0</td>\n",
       "      <td>0</td>\n",
       "      <td>0</td>\n",
       "      <td>0</td>\n",
       "      <td>0</td>\n",
       "      <td>0</td>\n",
       "      <td>0</td>\n",
       "      <td>0</td>\n",
       "      <td>0</td>\n",
       "      <td>0</td>\n",
       "      <td>0</td>\n",
       "      <td>0</td>\n",
       "      <td>0</td>\n",
       "      <td>0</td>\n",
       "      <td>0</td>\n",
       "      <td>0</td>\n",
       "      <td>0</td>\n",
       "      <td>0</td>\n",
       "      <td>0</td>\n",
       "      <td>0</td>\n",
       "      <td>0</td>\n",
       "      <td>0</td>\n",
       "      <td>0</td>\n",
       "      <td>0</td>\n",
       "      <td>0</td>\n",
       "      <td>0</td>\n",
       "      <td>0</td>\n",
       "      <td>0</td>\n",
       "      <td>0</td>\n",
       "      <td>0</td>\n",
       "      <td>0</td>\n",
       "      <td>0</td>\n",
       "      <td>0</td>\n",
       "      <td>0</td>\n",
       "      <td>0</td>\n",
       "      <td>0</td>\n",
       "      <td>0</td>\n",
       "      <td>0</td>\n",
       "    </tr>\n",
       "    <tr>\n",
       "      <th>2</th>\n",
       "      <td>10101204</td>\n",
       "      <td>2010</td>\n",
       "      <td>3010102</td>\n",
       "      <td>0.000000</td>\n",
       "      <td>0.437500</td>\n",
       "      <td>0.000000</td>\n",
       "      <td>0.500000</td>\n",
       "      <td>0.0</td>\n",
       "      <td>0.0</td>\n",
       "      <td>0.250000</td>\n",
       "      <td>0.125000</td>\n",
       "      <td>0.0</td>\n",
       "      <td>0.0</td>\n",
       "      <td>0.812500</td>\n",
       "      <td>0.187500</td>\n",
       "      <td>0.0</td>\n",
       "      <td>0.250000</td>\n",
       "      <td>5.437500</td>\n",
       "      <td>8.000000</td>\n",
       "      <td>0.513750</td>\n",
       "      <td>58.466875</td>\n",
       "      <td>10.821875</td>\n",
       "      <td>48.687500</td>\n",
       "      <td>1403.250000</td>\n",
       "      <td>2.687500</td>\n",
       "      <td>4.937500</td>\n",
       "      <td>32.093750</td>\n",
       "      <td>0</td>\n",
       "      <td>0.000000</td>\n",
       "      <td>0</td>\n",
       "      <td>-0.993365</td>\n",
       "      <td>1.000000</td>\n",
       "      <td>31.591000</td>\n",
       "      <td>176.821000</td>\n",
       "      <td>180.817000</td>\n",
       "      <td>167.261000</td>\n",
       "      <td>0.0</td>\n",
       "      <td>0.0</td>\n",
       "      <td>0.0</td>\n",
       "      <td>0.0</td>\n",
       "      <td>...</td>\n",
       "      <td>0</td>\n",
       "      <td>0</td>\n",
       "      <td>0</td>\n",
       "      <td>0</td>\n",
       "      <td>0</td>\n",
       "      <td>0</td>\n",
       "      <td>0</td>\n",
       "      <td>0</td>\n",
       "      <td>0</td>\n",
       "      <td>0</td>\n",
       "      <td>0</td>\n",
       "      <td>0</td>\n",
       "      <td>0</td>\n",
       "      <td>0</td>\n",
       "      <td>0</td>\n",
       "      <td>0</td>\n",
       "      <td>0</td>\n",
       "      <td>0</td>\n",
       "      <td>0</td>\n",
       "      <td>0</td>\n",
       "      <td>0</td>\n",
       "      <td>0</td>\n",
       "      <td>0</td>\n",
       "      <td>0</td>\n",
       "      <td>0</td>\n",
       "      <td>0</td>\n",
       "      <td>0</td>\n",
       "      <td>0</td>\n",
       "      <td>0</td>\n",
       "      <td>0</td>\n",
       "      <td>0</td>\n",
       "      <td>0</td>\n",
       "      <td>0</td>\n",
       "      <td>0</td>\n",
       "      <td>0</td>\n",
       "      <td>0</td>\n",
       "      <td>0</td>\n",
       "      <td>0</td>\n",
       "      <td>0</td>\n",
       "      <td>0</td>\n",
       "    </tr>\n",
       "    <tr>\n",
       "      <th>3</th>\n",
       "      <td>10101204</td>\n",
       "      <td>2010</td>\n",
       "      <td>3010508</td>\n",
       "      <td>0.000000</td>\n",
       "      <td>0.437500</td>\n",
       "      <td>0.000000</td>\n",
       "      <td>0.500000</td>\n",
       "      <td>0.0</td>\n",
       "      <td>0.0</td>\n",
       "      <td>0.250000</td>\n",
       "      <td>0.125000</td>\n",
       "      <td>0.0</td>\n",
       "      <td>0.0</td>\n",
       "      <td>0.812500</td>\n",
       "      <td>0.187500</td>\n",
       "      <td>0.0</td>\n",
       "      <td>0.250000</td>\n",
       "      <td>5.437500</td>\n",
       "      <td>8.000000</td>\n",
       "      <td>0.513750</td>\n",
       "      <td>58.466875</td>\n",
       "      <td>10.821875</td>\n",
       "      <td>48.687500</td>\n",
       "      <td>1403.250000</td>\n",
       "      <td>2.687500</td>\n",
       "      <td>4.937500</td>\n",
       "      <td>32.093750</td>\n",
       "      <td>0</td>\n",
       "      <td>0.000000</td>\n",
       "      <td>0</td>\n",
       "      <td>-0.993365</td>\n",
       "      <td>1.000000</td>\n",
       "      <td>31.591000</td>\n",
       "      <td>176.821000</td>\n",
       "      <td>180.817000</td>\n",
       "      <td>167.261000</td>\n",
       "      <td>0.0</td>\n",
       "      <td>0.0</td>\n",
       "      <td>0.0</td>\n",
       "      <td>0.0</td>\n",
       "      <td>...</td>\n",
       "      <td>0</td>\n",
       "      <td>0</td>\n",
       "      <td>0</td>\n",
       "      <td>0</td>\n",
       "      <td>0</td>\n",
       "      <td>0</td>\n",
       "      <td>0</td>\n",
       "      <td>0</td>\n",
       "      <td>0</td>\n",
       "      <td>0</td>\n",
       "      <td>0</td>\n",
       "      <td>0</td>\n",
       "      <td>0</td>\n",
       "      <td>0</td>\n",
       "      <td>0</td>\n",
       "      <td>0</td>\n",
       "      <td>0</td>\n",
       "      <td>0</td>\n",
       "      <td>0</td>\n",
       "      <td>0</td>\n",
       "      <td>0</td>\n",
       "      <td>0</td>\n",
       "      <td>0</td>\n",
       "      <td>0</td>\n",
       "      <td>0</td>\n",
       "      <td>0</td>\n",
       "      <td>0</td>\n",
       "      <td>0</td>\n",
       "      <td>0</td>\n",
       "      <td>0</td>\n",
       "      <td>0</td>\n",
       "      <td>0</td>\n",
       "      <td>0</td>\n",
       "      <td>0</td>\n",
       "      <td>0</td>\n",
       "      <td>0</td>\n",
       "      <td>0</td>\n",
       "      <td>0</td>\n",
       "      <td>0</td>\n",
       "      <td>0</td>\n",
       "    </tr>\n",
       "    <tr>\n",
       "      <th>4</th>\n",
       "      <td>10101204</td>\n",
       "      <td>2013</td>\n",
       "      <td>3010102</td>\n",
       "      <td>0.058824</td>\n",
       "      <td>0.352941</td>\n",
       "      <td>0.117647</td>\n",
       "      <td>0.352941</td>\n",
       "      <td>0.0</td>\n",
       "      <td>0.0</td>\n",
       "      <td>0.647059</td>\n",
       "      <td>0.176471</td>\n",
       "      <td>0.0</td>\n",
       "      <td>0.0</td>\n",
       "      <td>0.647059</td>\n",
       "      <td>0.352941</td>\n",
       "      <td>0.0</td>\n",
       "      <td>0.411765</td>\n",
       "      <td>5.529412</td>\n",
       "      <td>5.058824</td>\n",
       "      <td>0.529412</td>\n",
       "      <td>56.529412</td>\n",
       "      <td>11.411765</td>\n",
       "      <td>45.764706</td>\n",
       "      <td>1380.588235</td>\n",
       "      <td>4.470588</td>\n",
       "      <td>5.058824</td>\n",
       "      <td>68.264706</td>\n",
       "      <td>0</td>\n",
       "      <td>0.058824</td>\n",
       "      <td>0</td>\n",
       "      <td>-0.301647</td>\n",
       "      <td>0.941176</td>\n",
       "      <td>119.627402</td>\n",
       "      <td>400.969080</td>\n",
       "      <td>379.379586</td>\n",
       "      <td>347.946196</td>\n",
       "      <td>0.0</td>\n",
       "      <td>1.0</td>\n",
       "      <td>1.0</td>\n",
       "      <td>1.0</td>\n",
       "      <td>...</td>\n",
       "      <td>0</td>\n",
       "      <td>0</td>\n",
       "      <td>0</td>\n",
       "      <td>0</td>\n",
       "      <td>0</td>\n",
       "      <td>0</td>\n",
       "      <td>0</td>\n",
       "      <td>0</td>\n",
       "      <td>0</td>\n",
       "      <td>0</td>\n",
       "      <td>0</td>\n",
       "      <td>0</td>\n",
       "      <td>0</td>\n",
       "      <td>0</td>\n",
       "      <td>0</td>\n",
       "      <td>0</td>\n",
       "      <td>0</td>\n",
       "      <td>0</td>\n",
       "      <td>0</td>\n",
       "      <td>0</td>\n",
       "      <td>0</td>\n",
       "      <td>0</td>\n",
       "      <td>0</td>\n",
       "      <td>0</td>\n",
       "      <td>0</td>\n",
       "      <td>0</td>\n",
       "      <td>0</td>\n",
       "      <td>0</td>\n",
       "      <td>0</td>\n",
       "      <td>0</td>\n",
       "      <td>0</td>\n",
       "      <td>0</td>\n",
       "      <td>0</td>\n",
       "      <td>0</td>\n",
       "      <td>0</td>\n",
       "      <td>0</td>\n",
       "      <td>0</td>\n",
       "      <td>0</td>\n",
       "      <td>0</td>\n",
       "      <td>0</td>\n",
       "    </tr>\n",
       "  </tbody>\n",
       "</table>\n",
       "<p>5 rows × 114 columns</p>\n",
       "</div>"
      ],
      "text/plain": [
       "      ea_id  FS_year     FNID  ...  MW_3031213  MW_3031313  MW_3999918\n",
       "0  10101016     2010  3010102  ...           0           0           0\n",
       "1  10101016     2013  3010102  ...           0           0           0\n",
       "2  10101204     2010  3010102  ...           0           0           0\n",
       "3  10101204     2010  3010508  ...           0           0           0\n",
       "4  10101204     2013  3010102  ...           0           0           0\n",
       "\n",
       "[5 rows x 114 columns]"
      ]
     },
     "execution_count": 6,
     "metadata": {
      "tags": []
     },
     "output_type": "execute_result"
    }
   ],
   "source": [
    "\n",
    "mw_clust.head()"
   ]
  },
  {
   "cell_type": "code",
   "execution_count": 7,
   "metadata": {
    "colab": {
     "base_uri": "https://localhost:8080/",
     "height": 287
    },
    "colab_type": "code",
    "id": "vQVpjOMObguF",
    "outputId": "efd7e81a-7232-4a99-945e-0f573ab2e9cc"
   },
   "outputs": [
    {
     "data": {
      "text/plain": [
       "<matplotlib.axes._subplots.AxesSubplot at 0x7f65fa215588>"
      ]
     },
     "execution_count": 7,
     "metadata": {
      "tags": []
     },
     "output_type": "execute_result"
    },
    {
     "data": {
      "image/png": "[encoded data removed]",
      "text/plain": [
       "<Figure size 432x288 with 1 Axes>"
      ]
     },
     "metadata": {
      "tags": []
     },
     "output_type": "display_data"
    }
   ],
   "source": [
    "# cut the outcome variables by the cutoffs\n",
    "mw_clust['FCS_category']= pd.cut(x=mw_clust['FCS'], bins=[0,28,42,100],labels= [\"severe\", \"medium\", \"good\"])\n",
    "  \n",
    "mw_clust['FCS_category'].value_counts().plot(kind='pie', title=' Counts (FCS categories)')\n"
   ]
  },
  {
   "cell_type": "code",
   "execution_count": 9,
   "metadata": {
    "colab": {
     "base_uri": "https://localhost:8080/",
     "height": 287
    },
    "colab_type": "code",
    "id": "mEIDc34pb6jK",
    "outputId": "ab6cb910-06be-43fc-a411-d17e833beee4"
   },
   "outputs": [
    {
     "data": {
      "text/plain": [
       "<matplotlib.axes._subplots.AxesSubplot at 0x7f65fa141b00>"
      ]
     },
     "execution_count": 9,
     "metadata": {
      "tags": []
     },
     "output_type": "execute_result"
    },
    {
     "data": {
      "image/png": "[encoded data removed]",
      "text/plain": [
       "<Figure size 432x288 with 1 Axes>"
      ]
     },
     "metadata": {
      "tags": []
     },
     "output_type": "display_data"
    }
   ],
   "source": [
    " # HDDS 3 and 6\n",
    "mw_clust['HDDS_category']= pd.cut(x=mw_clust['HDDS'], bins=[0,3,6,10],labels= [\"severe\", \"medium\", \"good\"])\n",
    "  \n",
    "mw_clust['HDDS_category'].value_counts().plot(kind='pie', title='Count (HDDS categories)')\n"
   ]
  },
  {
   "cell_type": "code",
   "execution_count": 11,
   "metadata": {
    "colab": {
     "base_uri": "https://localhost:8080/",
     "height": 287
    },
    "colab_type": "code",
    "id": "CiRa0o7NcZ5N",
    "outputId": "faca200e-7bba-47f9-e39b-b7248c263ee1"
   },
   "outputs": [
    {
     "data": {
      "text/plain": [
       "<matplotlib.axes._subplots.AxesSubplot at 0x7f65f786dd30>"
      ]
     },
     "execution_count": 11,
     "metadata": {
      "tags": []
     },
     "output_type": "execute_result"
    },
    {
     "data": {
      "image/png": "[encoded data removed]",
      "text/plain": [
       "<Figure size 432x288 with 1 Axes>"
      ]
     },
     "metadata": {
      "tags": []
     },
     "output_type": "display_data"
    }
   ],
   "source": [
    "# rCSI 4 and 17  and 42\n",
    "mw_clust['rCSI_category']= pd.cut(x=mw_clust['rCSI'], bins=[0,4,17,42],labels= [\"secure\", \"mild insecure\", \"moderate insecure\"])\n",
    "  \n",
    "mw_clust['rCSI_category'].value_counts().plot(kind='pie', title='Count (rCSI categories)')\n"
   ]
  },
  {
   "cell_type": "markdown",
   "metadata": {
    "colab_type": "text",
    "id": "LL-JM7WeX5aL"
   },
   "source": [
    "### Asset related"
   ]
  },
  {
   "cell_type": "markdown",
   "metadata": {
    "colab_type": "text",
    "id": "Czew6mSVX9M9"
   },
   "source": [
    "### Weather"
   ]
  },
  {
   "cell_type": "markdown",
   "metadata": {
    "colab_type": "text",
    "id": "WEZ2Of2tX-uH"
   },
   "source": [
    "### Market Prices "
   ]
  },
  {
   "cell_type": "markdown",
   "metadata": {
    "colab_type": "text",
    "id": "ol13jHTkg-ko"
   },
   "source": [
    "## Modelling\n"
   ]
  },
  {
   "cell_type": "markdown",
   "metadata": {
    "colab_type": "text",
    "id": "Iw6L0fotmdJk"
   },
   "source": [
    "### Split train and test data\n",
    "\n",
    " For practical prediction purposes,  we use the most recent round of survey data  as the testing  and the rest as the training data. \n"
   ]
  },
  {
   "cell_type": "markdown",
   "metadata": {
    "colab_type": "text",
    "id": "UtjPgBKxWeDL"
   },
   "source": []
  },
  {
   "cell_type": "code",
   "execution_count": 0,
   "metadata": {
    "colab": {},
    "colab_type": "code",
    "id": "6-IIX6ZBLLZD"
   },
   "outputs": [],
   "source": [
    "mw_clust_test_cond =  mw_clust['FS_year']>2015\n",
    "mw_clust_train_cond =  mw_clust['FS_year']<2016\n",
    "mw_clust_test = mw_clust[mw_clust_test_cond]\n",
    "mw_clust_train = mw_clust[mw_clust_train_cond]\n",
    "\n"
   ]
  },
  {
   "cell_type": "markdown",
   "metadata": {
    "colab_type": "text",
    "id": "w_YE97RELQ0n"
   },
   "source": [
    "**Separate the target/labels from the X variables. **"
   ]
  },
  {
   "cell_type": "code",
   "execution_count": 0,
   "metadata": {
    "colab": {},
    "colab_type": "code",
    "id": "ss3jWM1YKHRQ"
   },
   "outputs": [],
   "source": [
    "labels = ['FCS', 'rCSI', 'HDDS']\n",
    "\n",
    " \n",
    "mw_clust_y_train= mw_clust_train[labels]\n",
    "mw_clust_y_test= mw_clust_test[labels]\n",
    " \n",
    "mw_clust_X_test= mw_clust_test.drop(labels, axis=1)\n",
    "mw_clust_X_train= mw_clust_train.drop(labels, axis=1)\n"
   ]
  },
  {
   "cell_type": "code",
   "execution_count": 0,
   "metadata": {
    "colab": {},
    "colab_type": "code",
    "id": "aRIzyyJ_70qV"
   },
   "outputs": [],
   "source": [
    "from xgboost import XGBClassifier\n"
   ]
  },
  {
   "cell_type": "markdown",
   "metadata": {
    "colab_type": "text",
    "id": "wokFM4cFG40A"
   },
   "source": []
  },
  {
   "cell_type": "markdown",
   "metadata": {
    "colab_type": "text",
    "id": "abWsB5nGWfra"
   },
   "source": [
    "### downsample / oversample \n",
    "\n",
    "Using simpler metrics like accuracy_score can be misleading. In a dataset with highly unbalanced classes, if the classifier always \"predicts\" the most common class without performing any analysis of the features, it will still have a high accuracy rate, obviously illusory."
   ]
  },
  {
   "cell_type": "markdown",
   "metadata": {
    "colab_type": "text",
    "id": "CYrYYplPWmyp"
   },
   "source": [
    "Resampling\n",
    "A widely adopted technique for dealing with highly unbalanced datasets is called resampling. It consists of removing samples from the majority class (under-sampling) and / or adding more examples from the minority class (over-sampling).\n",
    "\n",
    "Despite the advantage of balancing classes, these techniques also have their weaknesses (there is no free lunch). The simplest implementation of over-sampling is to duplicate random records from the minority class, which can cause overfitting. In under-sampling, the simplest technique involves removing random records from the majority class, which can cause loss of information.\n",
    "\n"
   ]
  },
  {
   "cell_type": "code",
   "execution_count": 0,
   "metadata": {
    "colab": {},
    "colab_type": "code",
    "id": "mx78w6b7XXT6"
   },
   "outputs": [],
   "source": [
    "# Class count\n",
    "count_class_0, count_class_1 = df_train.target.value_counts()\n",
    "\n",
    "# Divide by class\n",
    "df_class_0 = df_train[df_train['target'] == 0]\n",
    "df_class_1 = df_train[df_train['target'] == 1]\n",
    "\n",
    "df_class_0_under = df_class_0.sample(count_class_1)\n",
    "df_test_under = pd.concat([df_class_0_under, df_class_1], axis=0)\n",
    "\n",
    "print('Random under-sampling:')\n",
    "print(df_test_under.target.value_counts())\n",
    "\n",
    "df_test_under.target.value_counts().plot(kind='bar', title='Count (target)');\n",
    "\n",
    "\n",
    "df_class_1_over = df_class_1.sample(count_class_0, replace=True)\n",
    "df_test_over = pd.concat([df_class_0, df_class_1_over], axis=0)\n",
    "\n",
    "print('Random over-sampling:')\n",
    "print(df_test_over.target.value_counts())\n",
    "\n",
    "df_test_over.target.value_counts().plot(kind='bar', title='Count (target)');\n"
   ]
  },
  {
   "cell_type": "code",
   "execution_count": 0,
   "metadata": {
    "colab": {},
    "colab_type": "code",
    "id": "vpuqtRT6XlkB"
   },
   "outputs": [],
   "source": [
    "import imblearn\n"
   ]
  },
  {
   "cell_type": "markdown",
   "metadata": {
    "colab_type": "text",
    "id": "LsdAVsz0XtER"
   },
   "source": [
    "For example, we can cluster the records of the majority class, and do the under-sampling by removing records from each cluster, thus seeking to preserve information. In over-sampling, instead of creating exact copies of the minority class records, we can introduce small variations into those copies, creating more diverse synthetic samples.\n",
    "\n",
    "Let's apply some of these resampling techniques, using the Python library imbalanced-learn. It is compatible with scikit-learn and is part of scikit-learn-contrib projects."
   ]
  },
  {
   "cell_type": "code",
   "execution_count": 0,
   "metadata": {
    "colab": {
     "base_uri": "https://localhost:8080/",
     "height": 278
    },
    "colab_type": "code",
    "id": "MIWQBGxvXz-O",
    "outputId": "59dd548c-dbd3-45bc-c05d-ee09c8c8fbfb"
   },
   "outputs": [
    {
     "data": {
      "image/png": "[encoded data removed]",
      "text/plain": [
       "<Figure size 432x288 with 1 Axes>"
      ]
     },
     "metadata": {
      "tags": []
     },
     "output_type": "display_data"
    }
   ],
   "source": [
    "from sklearn.datasets import make_classification\n",
    "\n",
    "X, y = make_classification(\n",
    "    n_classes=2, class_sep=1.5, weights=[0.9, 0.1],\n",
    "    n_informative=3, n_redundant=1, flip_y=0,\n",
    "    n_features=20, n_clusters_per_class=1,\n",
    "    n_samples=100, random_state=10\n",
    ")\n",
    "\n",
    "df = pd.DataFrame(X)\n",
    "df['target'] = y\n",
    "df.target.value_counts().plot(kind='bar', title='Count (target)');\n"
   ]
  },
  {
   "cell_type": "code",
   "execution_count": 0,
   "metadata": {
    "colab": {},
    "colab_type": "code",
    "id": "ELmTTXkAX4ba"
   },
   "outputs": [],
   "source": [
    "def plot_2d_space(X, y, label='Classes'):   \n",
    "    colors = ['#1F77B4', '#FF7F0E']\n",
    "    markers = ['o', 's']\n",
    "    for l, c, m in zip(np.unique(y), colors, markers):\n",
    "        plt.scatter(\n",
    "            X[y==l, 0],\n",
    "            X[y==l, 1],\n",
    "            c=c, label=l, marker=m\n",
    "        )\n",
    "    plt.title(label)\n",
    "    plt.legend(loc='upper right')\n",
    "    plt.show()"
   ]
  },
  {
   "cell_type": "code",
   "execution_count": 0,
   "metadata": {
    "colab": {},
    "colab_type": "code",
    "id": "KpzmBBPfKzD1"
   },
   "outputs": [],
   "source": [
    "y = mw_clust['rCSI_category'] "
   ]
  },
  {
   "cell_type": "code",
   "execution_count": 0,
   "metadata": {
    "colab": {
     "base_uri": "https://localhost:8080/",
     "height": 281
    },
    "colab_type": "code",
    "id": "nXZaVVyKYGQu",
    "outputId": "fb754f1d-3a9f-4f76-9f0d-0d4f9b0e9b08"
   },
   "outputs": [
    {
     "data": {
      "image/png": "[encoded data removed]",
      "text/plain": [
       "<Figure size 432x288 with 1 Axes>"
      ]
     },
     "metadata": {
      "tags": []
     },
     "output_type": "display_data"
    }
   ],
   "source": [
    "from sklearn.decomposition import PCA\n",
    "\n",
    "pca = PCA(n_components=2)\n",
    "X = pca.fit_transform(X)\n",
    "\n",
    "plot_2d_space(X, y, 'Imbalanced dataset (2 PCA components)')"
   ]
  },
  {
   "cell_type": "code",
   "execution_count": 0,
   "metadata": {
    "colab": {},
    "colab_type": "code",
    "id": "FKs40jfBYKxv"
   },
   "outputs": [],
   "source": [
    "from imblearn.under_sampling import RandomUnderSampler\n",
    "\n",
    "rus = RandomUnderSampler(return_indices=True)\n",
    "X_rus, y_rus, id_rus = rus.fit_sample(X, y)\n",
    "\n",
    "print('Removed indexes:', id_rus)\n",
    "\n",
    "plot_2d_space(X_rus, y_rus, 'Random under-sampling')"
   ]
  },
  {
   "cell_type": "code",
   "execution_count": 0,
   "metadata": {
    "colab": {},
    "colab_type": "code",
    "id": "Uui299dHYPFa"
   },
   "outputs": [],
   "source": [
    "from imblearn.over_sampling import RandomOverSampler\n",
    "\n",
    "ros = RandomOverSampler()\n",
    "X_ros, y_ros = ros.fit_sample(X, y)\n",
    "\n",
    "print(X_ros.shape[0] - X.shape[0], 'new random picked points')\n",
    "\n",
    "plot_2d_space(X_ros, y_ros, 'Random over-sampling')"
   ]
  },
  {
   "cell_type": "code",
   "execution_count": 0,
   "metadata": {
    "colab": {},
    "colab_type": "code",
    "id": "eLUx4gXKYPqN"
   },
   "outputs": [],
   "source": [
    "from imblearn.under_sampling import TomekLinks\n",
    "\n",
    "tl = TomekLinks(return_indices=True, ratio='majority')\n",
    "X_tl, y_tl, id_tl = tl.fit_sample(X, y)\n",
    "\n",
    "print('Removed indexes:', id_tl)\n",
    "\n",
    "plot_2d_space(X_tl, y_tl, 'Tomek links under-sampling')"
   ]
  },
  {
   "cell_type": "code",
   "execution_count": 0,
   "metadata": {
    "colab": {},
    "colab_type": "code",
    "id": "GlGaG-IMZbhA"
   },
   "outputs": [],
   "source": [
    "from imblearn.over_sampling import SMOTE\n",
    "\n",
    "smote = SMOTE(ratio='minority')\n",
    "X_sm, y_sm = smote.fit_sample(X, y)\n",
    "\n",
    "plot_2d_space(X_sm, y_sm, 'SMOTE over-sampling')"
   ]
  },
  {
   "cell_type": "code",
   "execution_count": 0,
   "metadata": {
    "colab": {},
    "colab_type": "code",
    "id": "pSZuMR4EZfPH"
   },
   "outputs": [],
   "source": [
    "from imblearn.combine import SMOTETomek\n",
    "\n",
    "smt = SMOTETomek(ratio='auto')\n",
    "X_smt, y_smt = smt.fit_sample(X, y)\n",
    "\n",
    "plot_2d_space(X_smt, y_smt, 'SMOTE + Tomek links')"
   ]
  },
  {
   "cell_type": "markdown",
   "metadata": {
    "colab_type": "text",
    "id": "4LMUHzzLYSdi"
   },
   "source": [
    "Under-sampling: Tomek links\n",
    "Tomek links are pairs of very close instances, but of opposite classes. Removing the instances of the majority class of each pair increases the space between the two classes, facilitating the classification process."
   ]
  },
  {
   "cell_type": "code",
   "execution_count": 0,
   "metadata": {
    "colab": {},
    "colab_type": "code",
    "id": "h__-JaR3YUXv"
   },
   "outputs": [],
   "source": [
    "print(\"Before OverSampling, counts of label '1': {}\".format(sum(y_train==1)))\n",
    "print(\"Before OverSampling, counts of label '0': {} \\n\".format(sum(y_train==0)))\n",
    "\n",
    "sm = SMOTE(random_state=2)\n",
    "X_train_res, y_train_res = sm.fit_sample(X_train, y_train.ravel())\n",
    "\n",
    "print('After OverSampling, the shape of train_X: {}'.format(X_train_res.shape))\n",
    "print('After OverSampling, the shape of train_y: {} \\n'.format(y_train_res.shape))\n",
    "\n",
    "print(\"After OverSampling, counts of label '1': {}\".format(sum(y_train_res==1)))\n",
    "print(\"After OverSampling, counts of label '0': {}\".format(sum(y_train_res==0)))\n"
   ]
  },
  {
   "cell_type": "code",
   "execution_count": 0,
   "metadata": {
    "colab": {},
    "colab_type": "code",
    "id": "VwwRHpWtl2rH"
   },
   "outputs": [],
   "source": [
    "# confusion matrix , focus on improving the recall rate of the insecure class\n",
    "\n"
   ]
  },
  {
   "cell_type": "code",
   "execution_count": 0,
   "metadata": {
    "colab": {},
    "colab_type": "code",
    "id": "7m2r-MiEmEgQ"
   },
   "outputs": [],
   "source": [
    "# One vs all and plot the AUC ( )"
   ]
  },
  {
   "cell_type": "markdown",
   "metadata": {
    "colab_type": "text",
    "id": "MJ3dY58vWSEa"
   },
   "source": [
    "### Models"
   ]
  },
  {
   "cell_type": "code",
   "execution_count": 0,
   "metadata": {
    "colab": {
     "base_uri": "https://localhost:8080/",
     "height": 232
    },
    "colab_type": "code",
    "id": "3N_3YDvdwxiR",
    "outputId": "cbb655c5-8b0b-4477-a086-0eac7a89d320"
   },
   "outputs": [
    {
     "ename": "NameError",
     "evalue": "ignored",
     "output_type": "error",
     "traceback": [
      "\u001b[0;31m---------------------------------------------------------------------------\u001b[0m",
      "\u001b[0;31mNameError\u001b[0m                                 Traceback (most recent call last)",
      "\u001b[0;32m<ipython-input-8-e0b6f520d772>\u001b[0m in \u001b[0;36m<module>\u001b[0;34m()\u001b[0m\n\u001b[1;32m      1\u001b[0m \u001b[0;34m\u001b[0m\u001b[0m\n\u001b[0;32m----> 2\u001b[0;31m \u001b[0;32mdef\u001b[0m \u001b[0mresult_table\u001b[0m\u001b[0;34m(\u001b[0m\u001b[0mfunction\u001b[0m\u001b[0;34m,\u001b[0m\u001b[0mcolumn_names\u001b[0m\u001b[0;34m=\u001b[0m\u001b[0mcolumn_names\u001b[0m\u001b[0;34m)\u001b[0m\u001b[0;34m:\u001b[0m\u001b[0;34m\u001b[0m\u001b[0;34m\u001b[0m\u001b[0m\n\u001b[0m\u001b[1;32m      3\u001b[0m \u001b[0;34m\u001b[0m\u001b[0m\n\u001b[1;32m      4\u001b[0m   \u001b[0mresult_table\u001b[0m \u001b[0;34m=\u001b[0m \u001b[0mpd\u001b[0m\u001b[0;34m.\u001b[0m\u001b[0mDataFrame\u001b[0m\u001b[0;34m(\u001b[0m\u001b[0mcolumns\u001b[0m\u001b[0;34m=\u001b[0m\u001b[0mcolumn_names\u001b[0m\u001b[0;34m)\u001b[0m\u001b[0;34m\u001b[0m\u001b[0;34m\u001b[0m\u001b[0m\n\u001b[1;32m      5\u001b[0m \u001b[0;34m\u001b[0m\u001b[0m\n",
      "\u001b[0;31mNameError\u001b[0m: name 'column_names' is not defined"
     ]
    }
   ],
   "source": [
    "# define a function that displays multiple results at the same time as a table\n",
    "# input will be function and a character list\n",
    "  \n",
    "  def result_table(function,column_names=column_names):\n",
    "    \n",
    "    result_table = pd.DataFrame(columns=column_names)\n",
    "    \n",
    "    for index in range(len(X_train_list)):\n",
    "      fcs_value = function(X_train_list[index],X_test_list[index],y_train_list[index][\"FCS\"],y_test_list[index][\"FCS\"])\n",
    "      hdds_value = function(X_train_list[index],X_test_list[index],y_train_list[index][\"HDDS\"],y_test_list[index][\"HDDS\"])\n",
    "      if index<4:\n",
    "        rcsi_value = function(X_train_list[index],X_test_list[index],y_train_list[index][\"rCSI\"],y_test_list[index][\"rCSI\"])\n",
    "      else:\n",
    "        rcsi_value = 0\n",
    "      \n",
    "      fcs_value = '{0:.3f}'.format(fcs_value)\n",
    "      hdds_value = '{0:.3f}'.format(hdds_value)\n",
    "      rcsi_value = '{0:.3f}'.format(rcsi_value)\n",
    "      \n",
    "      \n",
    "      temp_df = pd.DataFrame([[name_list[index], fcs_value, hdds_value, rcsi_value]], columns=column_names)\n",
    "      \n",
    "      result_table = result_table.append(temp_df, ignore_index=True)\n",
    "      \n",
    "\n",
    "  \n",
    "    return result_table\n",
    "\n",
    "\n",
    "  \n"
   ]
  },
  {
   "cell_type": "markdown",
   "metadata": {
    "colab_type": "text",
    "id": "xchwjtYlnkEv"
   },
   "source": [
    "#### Linear Regression"
   ]
  },
  {
   "cell_type": "code",
   "execution_count": 0,
   "metadata": {
    "colab": {
     "base_uri": "https://localhost:8080/",
     "height": 198
    },
    "colab_type": "code",
    "id": "YG-4RJ4lhUt0",
    "outputId": "fdfa2008-9f64-45bb-d4b4-278b2fb35cc3"
   },
   "outputs": [
    {
     "ename": "NameError",
     "evalue": "ignored",
     "output_type": "error",
     "traceback": [
      "\u001b[0;31m---------------------------------------------------------------------------\u001b[0m",
      "\u001b[0;31mNameError\u001b[0m                                 Traceback (most recent call last)",
      "\u001b[0;32m<ipython-input-7-f60e5263d020>\u001b[0m in \u001b[0;36m<module>\u001b[0;34m()\u001b[0m\n\u001b[1;32m     15\u001b[0m \u001b[0;34m\u001b[0m\u001b[0m\n\u001b[1;32m     16\u001b[0m \u001b[0;31m# implement the algorithm and present results\u001b[0m\u001b[0;34m\u001b[0m\u001b[0;34m\u001b[0m\u001b[0;34m\u001b[0m\u001b[0m\n\u001b[0;32m---> 17\u001b[0;31m \u001b[0mresult_table\u001b[0m\u001b[0;34m(\u001b[0m\u001b[0mfunction\u001b[0m\u001b[0;34m=\u001b[0m\u001b[0mfit_linear\u001b[0m\u001b[0;34m)\u001b[0m\u001b[0;34m\u001b[0m\u001b[0;34m\u001b[0m\u001b[0m\n\u001b[0m",
      "\u001b[0;31mNameError\u001b[0m: name 'result_table' is not defined"
     ]
    }
   ],
   "source": [
    "from sklearn.linear_model import LinearRegression\n",
    "\n",
    "def fit_linear(X_train, X_test,y_train,y_test):\n",
    "\n",
    "    # Create and fit our linear regression model to training data\n",
    "    model = LinearRegression(fit_intercept=True)\n",
    "    model.fit(X_train, y_train)\n",
    "\n",
    "    # Compute model predictions for test data\n",
    "    pred = model.predict(X_test)\n",
    "\n",
    "    r2 = stats.pearsonr(y_test, pred)[0] ** 2\n",
    "    \n",
    "    return r2\n",
    "\n",
    "# implement the algorithm and present results\n",
    "result_table(function=fit_linear)"
   ]
  },
  {
   "cell_type": "markdown",
   "metadata": {
    "colab_type": "text",
    "id": "37T4L-Jrnn-v"
   },
   "source": [
    "#### Ridge"
   ]
  },
  {
   "cell_type": "code",
   "execution_count": 0,
   "metadata": {
    "colab": {
     "base_uri": "https://localhost:8080/",
     "height": 235
    },
    "colab_type": "code",
    "id": "vK4myVU3iJrF",
    "outputId": "9c1665a4-38f6-4503-e619-abfc0ec40b19"
   },
   "outputs": [
    {
     "data": {
      "text/html": [
       "<div>\n",
       "<style scoped>\n",
       "    .dataframe tbody tr th:only-of-type {\n",
       "        vertical-align: middle;\n",
       "    }\n",
       "\n",
       "    .dataframe tbody tr th {\n",
       "        vertical-align: top;\n",
       "    }\n",
       "\n",
       "    .dataframe thead th {\n",
       "        text-align: right;\n",
       "    }\n",
       "</style>\n",
       "<table border=\"1\" class=\"dataframe\">\n",
       "  <thead>\n",
       "    <tr style=\"text-align: right;\">\n",
       "      <th></th>\n",
       "      <th>dataset</th>\n",
       "      <th>FCS</th>\n",
       "      <th>HDDS</th>\n",
       "      <th>rCSI</th>\n",
       "    </tr>\n",
       "  </thead>\n",
       "  <tbody>\n",
       "    <tr>\n",
       "      <th>0</th>\n",
       "      <td>Malawi_household</td>\n",
       "      <td>0.265</td>\n",
       "      <td>0.270</td>\n",
       "      <td>0.110</td>\n",
       "    </tr>\n",
       "    <tr>\n",
       "      <th>1</th>\n",
       "      <td>Malawi_cluster</td>\n",
       "      <td>0.431</td>\n",
       "      <td>0.642</td>\n",
       "      <td>0.217</td>\n",
       "    </tr>\n",
       "    <tr>\n",
       "      <th>2</th>\n",
       "      <td>Tanzania_household</td>\n",
       "      <td>0.048</td>\n",
       "      <td>0.006</td>\n",
       "      <td>0.015</td>\n",
       "    </tr>\n",
       "    <tr>\n",
       "      <th>3</th>\n",
       "      <td>Tanzania_cluster</td>\n",
       "      <td>0.153</td>\n",
       "      <td>0.020</td>\n",
       "      <td>0.087</td>\n",
       "    </tr>\n",
       "    <tr>\n",
       "      <th>4</th>\n",
       "      <td>Uganda_household</td>\n",
       "      <td>0.179</td>\n",
       "      <td>0.219</td>\n",
       "      <td>0.000</td>\n",
       "    </tr>\n",
       "    <tr>\n",
       "      <th>5</th>\n",
       "      <td>Uganda_cluster</td>\n",
       "      <td>0.365</td>\n",
       "      <td>0.421</td>\n",
       "      <td>0.000</td>\n",
       "    </tr>\n",
       "  </tbody>\n",
       "</table>\n",
       "</div>"
      ],
      "text/plain": [
       "              dataset    FCS   HDDS   rCSI\n",
       "0    Malawi_household  0.265  0.270  0.110\n",
       "1      Malawi_cluster  0.431  0.642  0.217\n",
       "2  Tanzania_household  0.048  0.006  0.015\n",
       "3    Tanzania_cluster  0.153  0.020  0.087\n",
       "4    Uganda_household  0.179  0.219  0.000\n",
       "5      Uganda_cluster  0.365  0.421  0.000"
      ]
     },
     "execution_count": 88,
     "metadata": {
      "tags": []
     },
     "output_type": "execute_result"
    }
   ],
   "source": [
    "from sklearn.linear_model import RidgeCV\n",
    "from sklearn.model_selection import RandomizedSearchCV\n",
    "\n",
    "\n",
    "def fit_ridge(X_train, X_test,y_train,y_test):\n",
    "\n",
    "  model = RidgeCV(alphas=[0.0, 1E-6, 1E-4, 1E-2, 1.0], fit_intercept=True, normalize=True, scoring=None, cv=5, gcv_mode='auto', store_cv_values=False) \n",
    "\n",
    "# Define different alpha values for different fits\n",
    "# alpha = [0.0, 1E-6, 1E-4, 1E-2, 1.0]\n",
    "\n",
    "  model.fit(X_train, y_train)\n",
    "\n",
    "  # Compute model predictions for test data\n",
    "  pred = model.predict(X_test)\n",
    "\n",
    "  r2 = stats.pearsonr(y_test, pred)[0] ** 2\n",
    "    \n",
    "  return r2\n",
    "\n",
    "\n",
    "\n",
    "# implement the algorithm and present results\n",
    "result_table(function=fit_ridge)"
   ]
  },
  {
   "cell_type": "code",
   "execution_count": 0,
   "metadata": {
    "colab": {
     "base_uri": "https://localhost:8080/",
     "height": 198
    },
    "colab_type": "code",
    "id": "DfaZUtYJiT-g",
    "outputId": "5c8cf6f1-bb78-4097-eb2d-df65188d0454"
   },
   "outputs": [
    {
     "ename": "NameError",
     "evalue": "ignored",
     "output_type": "error",
     "traceback": [
      "\u001b[0;31m---------------------------------------------------------------------------\u001b[0m",
      "\u001b[0;31mNameError\u001b[0m                                 Traceback (most recent call last)",
      "\u001b[0;32m<ipython-input-13-cbfa4d4a02ea>\u001b[0m in \u001b[0;36m<module>\u001b[0;34m()\u001b[0m\n\u001b[1;32m     14\u001b[0m \u001b[0;34m\u001b[0m\u001b[0m\n\u001b[1;32m     15\u001b[0m \u001b[0;31m# implement the algorithm and present results\u001b[0m\u001b[0;34m\u001b[0m\u001b[0;34m\u001b[0m\u001b[0;34m\u001b[0m\u001b[0m\n\u001b[0;32m---> 16\u001b[0;31m \u001b[0mresult_table\u001b[0m\u001b[0;34m(\u001b[0m\u001b[0mfunction\u001b[0m\u001b[0;34m=\u001b[0m\u001b[0mfit_lasso\u001b[0m\u001b[0;34m)\u001b[0m\u001b[0;34m\u001b[0m\u001b[0;34m\u001b[0m\u001b[0m\n\u001b[0m",
      "\u001b[0;31mNameError\u001b[0m: name 'result_table' is not defined"
     ]
    }
   ],
   "source": [
    "from sklearn.linear_model import LassoCV\n",
    "\n",
    "def fit_lasso(X_train, X_test,y_train,y_test):\n",
    "\n",
    "    model = LassoCV(eps=0.001, n_alphas=100, alphas=(0.01, 2), fit_intercept=True,precompute='auto',n_jobs=4, random_state=0, selection='cyclic')\n",
    "\n",
    "    model.fit(X_train, y_train)\n",
    "    \n",
    "    pred = model.predict(X_test)\n",
    "\n",
    "    r2= stats.pearsonr(y_test, pred)[0] ** 2\n",
    "    return r2\n",
    "\n",
    "  \n",
    "# implement the algorithm and present results\n",
    "result_table(function=fit_lasso)"
   ]
  },
  {
   "cell_type": "code",
   "execution_count": 0,
   "metadata": {
    "colab": {
     "base_uri": "https://localhost:8080/",
     "height": 235
    },
    "colab_type": "code",
    "id": "cmys1Z7Ojfh-",
    "outputId": "d5e855c6-a528-48cc-ed10-6528111a2fa9"
   },
   "outputs": [
    {
     "data": {
      "text/html": [
       "<div>\n",
       "<style scoped>\n",
       "    .dataframe tbody tr th:only-of-type {\n",
       "        vertical-align: middle;\n",
       "    }\n",
       "\n",
       "    .dataframe tbody tr th {\n",
       "        vertical-align: top;\n",
       "    }\n",
       "\n",
       "    .dataframe thead th {\n",
       "        text-align: right;\n",
       "    }\n",
       "</style>\n",
       "<table border=\"1\" class=\"dataframe\">\n",
       "  <thead>\n",
       "    <tr style=\"text-align: right;\">\n",
       "      <th></th>\n",
       "      <th>dataset</th>\n",
       "      <th>FCS</th>\n",
       "      <th>HDDS</th>\n",
       "      <th>rCSI</th>\n",
       "    </tr>\n",
       "  </thead>\n",
       "  <tbody>\n",
       "    <tr>\n",
       "      <th>0</th>\n",
       "      <td>Malawi_household</td>\n",
       "      <td>0.377</td>\n",
       "      <td>0.259</td>\n",
       "      <td>0.094</td>\n",
       "    </tr>\n",
       "    <tr>\n",
       "      <th>1</th>\n",
       "      <td>Malawi_cluster</td>\n",
       "      <td>0.683</td>\n",
       "      <td>0.587</td>\n",
       "      <td>0.192</td>\n",
       "    </tr>\n",
       "    <tr>\n",
       "      <th>2</th>\n",
       "      <td>Tanzania_household</td>\n",
       "      <td>0.048</td>\n",
       "      <td>0.005</td>\n",
       "      <td>0.015</td>\n",
       "    </tr>\n",
       "    <tr>\n",
       "      <th>3</th>\n",
       "      <td>Tanzania_cluster</td>\n",
       "      <td>0.153</td>\n",
       "      <td>0.020</td>\n",
       "      <td>0.088</td>\n",
       "    </tr>\n",
       "    <tr>\n",
       "      <th>4</th>\n",
       "      <td>Uganda_household</td>\n",
       "      <td>0.141</td>\n",
       "      <td>0.219</td>\n",
       "      <td>0.000</td>\n",
       "    </tr>\n",
       "    <tr>\n",
       "      <th>5</th>\n",
       "      <td>Uganda_cluster</td>\n",
       "      <td>0.264</td>\n",
       "      <td>0.387</td>\n",
       "      <td>0.000</td>\n",
       "    </tr>\n",
       "  </tbody>\n",
       "</table>\n",
       "</div>"
      ],
      "text/plain": [
       "              dataset    FCS   HDDS   rCSI\n",
       "0    Malawi_household  0.377  0.259  0.094\n",
       "1      Malawi_cluster  0.683  0.587  0.192\n",
       "2  Tanzania_household  0.048  0.005  0.015\n",
       "3    Tanzania_cluster  0.153  0.020  0.088\n",
       "4    Uganda_household  0.141  0.219  0.000\n",
       "5      Uganda_cluster  0.264  0.387  0.000"
      ]
     },
     "execution_count": 91,
     "metadata": {
      "tags": []
     },
     "output_type": "execute_result"
    }
   ],
   "source": [
    "from sklearn.linear_model import ElasticNetCV\n",
    "\n",
    "def fit_en(X_train, X_test,y_train,y_test):\n",
    "\n",
    "\n",
    "    model = ElasticNetCV(alphas=(0.1,0.02,3,2), copy_X=True, cv=10, eps=0.004, fit_intercept=True,\n",
    "           l1_ratio=0.33, max_iter=1000, n_alphas=100, n_jobs=1,\n",
    "           normalize=False, positive=False, precompute='auto', random_state=0,\n",
    "           selection='cyclic', tol=0.0001, verbose=0)\n",
    "\n",
    "    model.fit(X_train, y_train)\n",
    "    \n",
    "    pred = model.predict(X_test)\n",
    "\n",
    "    r2= stats.pearsonr(y_test, pred)[0] ** 2\n",
    "    \n",
    "    return r2\n",
    "\n",
    "\n",
    "# implement the algorithm and present results\n",
    "result_table(function=fit_en)    \n",
    "    "
   ]
  },
  {
   "cell_type": "code",
   "execution_count": 0,
   "metadata": {
    "colab": {
     "base_uri": "https://localhost:8080/",
     "height": 235
    },
    "colab_type": "code",
    "id": "NBViYIF3iJHS",
    "outputId": "339e59ac-6c01-482b-eeac-0948886166e4"
   },
   "outputs": [
    {
     "data": {
      "text/html": [
       "<div>\n",
       "<style scoped>\n",
       "    .dataframe tbody tr th:only-of-type {\n",
       "        vertical-align: middle;\n",
       "    }\n",
       "\n",
       "    .dataframe tbody tr th {\n",
       "        vertical-align: top;\n",
       "    }\n",
       "\n",
       "    .dataframe thead th {\n",
       "        text-align: right;\n",
       "    }\n",
       "</style>\n",
       "<table border=\"1\" class=\"dataframe\">\n",
       "  <thead>\n",
       "    <tr style=\"text-align: right;\">\n",
       "      <th></th>\n",
       "      <th>dataset</th>\n",
       "      <th>FCS</th>\n",
       "      <th>HDDS</th>\n",
       "      <th>rCSI</th>\n",
       "    </tr>\n",
       "  </thead>\n",
       "  <tbody>\n",
       "    <tr>\n",
       "      <th>0</th>\n",
       "      <td>Malawi_household</td>\n",
       "      <td>0.369</td>\n",
       "      <td>0.269</td>\n",
       "      <td>0.115</td>\n",
       "    </tr>\n",
       "    <tr>\n",
       "      <th>1</th>\n",
       "      <td>Malawi_cluster</td>\n",
       "      <td>0.713</td>\n",
       "      <td>0.706</td>\n",
       "      <td>0.267</td>\n",
       "    </tr>\n",
       "    <tr>\n",
       "      <th>2</th>\n",
       "      <td>Tanzania_household</td>\n",
       "      <td>0.195</td>\n",
       "      <td>0.221</td>\n",
       "      <td>0.048</td>\n",
       "    </tr>\n",
       "    <tr>\n",
       "      <th>3</th>\n",
       "      <td>Tanzania_cluster</td>\n",
       "      <td>0.289</td>\n",
       "      <td>0.385</td>\n",
       "      <td>0.127</td>\n",
       "    </tr>\n",
       "    <tr>\n",
       "      <th>4</th>\n",
       "      <td>Uganda_household</td>\n",
       "      <td>0.172</td>\n",
       "      <td>0.189</td>\n",
       "      <td>0.000</td>\n",
       "    </tr>\n",
       "    <tr>\n",
       "      <th>5</th>\n",
       "      <td>Uganda_cluster</td>\n",
       "      <td>0.314</td>\n",
       "      <td>0.435</td>\n",
       "      <td>0.000</td>\n",
       "    </tr>\n",
       "  </tbody>\n",
       "</table>\n",
       "</div>"
      ],
      "text/plain": [
       "              dataset    FCS   HDDS   rCSI\n",
       "0    Malawi_household  0.369  0.269  0.115\n",
       "1      Malawi_cluster  0.713  0.706  0.267\n",
       "2  Tanzania_household  0.195  0.221  0.048\n",
       "3    Tanzania_cluster  0.289  0.385  0.127\n",
       "4    Uganda_household  0.172  0.189  0.000\n",
       "5      Uganda_cluster  0.314  0.435  0.000"
      ]
     },
     "execution_count": 92,
     "metadata": {
      "tags": []
     },
     "output_type": "execute_result"
    }
   ],
   "source": [
    "from sklearn.ensemble import RandomForestRegressor\n",
    "\n",
    "def fit_rfc(X_train, X_test,y_train,y_test):\n",
    "  # Create Regressor with default properties\n",
    "  rfc = RandomForestRegressor(random_state =0,n_jobs =4,warm_start = True,max_depth=4, min_samples_leaf=5 )\n",
    "  \n",
    "  \n",
    "  parameters = {'max_depth':np.arange( 1,4, 1 ).tolist(), 'min_samples_leaf':np.arange( 1, 4, 1 ).tolist()}\n",
    "  model = GridSearchCV(rfc, parameters,cv=6, n_jobs= 4, iid = True,  refit= True,pre_dispatch= '2*n_jobs')\n",
    "\n",
    "  model.fit(X_train,y_train)\n",
    "  # Fit estimator and display score\n",
    "\n",
    "  # Regress on test data\n",
    "  pred = model.predict(X_test)\n",
    "\n",
    "  r2 = stats.pearsonr(y_test, pred)[0] ** 2\n",
    "    \n",
    "  return r2\n",
    "\n",
    "result_table(function=fit_rfc)"
   ]
  },
  {
   "cell_type": "code",
   "execution_count": 0,
   "metadata": {
    "colab": {},
    "colab_type": "code",
    "id": "fz4_Tbc-sZ5q"
   },
   "outputs": [],
   "source": [
    "from sklearn.ensemble import GradientBoostingRegressor\n",
    "\n",
    "# Create Regressor with default properties\n",
    "gbr = GradientBoostingRegressor(random_state=0,learning_rate=0.4, n_estimators=9,subsample=1, criterion='friedman_mse', min_samples_split=2)\n",
    "\n",
    "gbr.fit(x_train, y_train_new)\n",
    "pred = gbr.predict(x_test)\n",
    "\n",
    "actual =y_test_new\n",
    "r2_gbr= stats.pearsonr(actual, pred)[0] ** 2\n",
    "r2_gbr"
   ]
  },
  {
   "cell_type": "code",
   "execution_count": 0,
   "metadata": {
    "colab": {},
    "colab_type": "code",
    "id": "3KqsgrvlszWR"
   },
   "outputs": [],
   "source": [
    "from sklearn.gaussian_process import  GaussianProcessRegressor\n",
    "\n",
    "# Import our kernels\n",
    "from sklearn.gaussian_process.kernels import Matern, WhiteKernel\n",
    "\n",
    "\n",
    "\n",
    "# Define custom kernel (Matern + noise)\n",
    "krnl = 2. + Matern(length_scale=1, nu=1.8) + WhiteKernel(noise_level=10)\n",
    "\n",
    "# Create Regressor with specified properties\n",
    "gpr = GaussianProcessRegressor(kernel=krnl, random_state=23)\n",
    "\n",
    "# Fit estimator and display score\n",
    "gpr= gpr.fit(x_train, y_train[labels[0]])\n",
    "pred = gpr.predict(x_test)\n",
    "actual = y_test[labels[0]]\n",
    "r2_gpr= stats.pearsonr(actual, pred)[0] ** 2\n",
    "r2_gpr\n",
    "\n",
    "pd = {'svc__C': st.uniform(0, 250),\n",
    "      'svc__gamma': g_vals}\n",
    " \n",
    "# Run randomized search\n",
    "rscv = RandomizedSearchCV(svp, param_distributions=pd,\n",
    "                          n_iter=num_samples)"
   ]
  },
  {
   "cell_type": "markdown",
   "metadata": {
    "colab_type": "text",
    "id": "ANJyTHt4jkT7"
   },
   "source": [
    "## Visualization"
   ]
  },
  {
   "cell_type": "code",
   "execution_count": 0,
   "metadata": {
    "colab": {},
    "colab_type": "code",
    "id": "BJC69mEDjhhG"
   },
   "outputs": [],
   "source": [
    "fig, axs = plt.subplots(2, 2, figsize=(10, 10))\n",
    "axs[0, 0].scatter( actual_linear,pred_linear)\n",
    "axs[0, 0].plot(actual_linear,actual_linear, color='red')\n",
    "\n",
    "axs[1, 0].scatter( actual_rfr, pred_rfr)\n",
    "axs[1, 0].plot(actual_rfr, actual_rfr, color='red')\n",
    "\n",
    "\n",
    "axs[0, 1].scatter(actual_en ,pred_en )\n",
    "axs[0, 1].plot(actual_en,actual_en, color='red')\n",
    "\n",
    "axs[1, 1].scatter(actual_gbr, pred_gbr )\n",
    "axs[1, 1].plot(actual_gbr, actual_gbr, color='red')\n",
    "\n",
    "\n",
    "axs[0, 0].title.set_text('Scatter Plot Linear')\n",
    "axs[1, 0].title.set_text('Scatter Plot RandomForest')\n",
    "axs[0, 1].title.set_text('Scatter Plot ElasticNet')\n",
    "axs[1, 1].title.set_text('Scatter Plot GradientBoosting')\n",
    "plt.show()"
   ]
  },
  {
   "cell_type": "markdown",
   "metadata": {
    "colab_type": "text",
    "id": "WWSlbeogjmtg"
   },
   "source": [
    "## Interpretation\n"
   ]
  },
  {
   "cell_type": "code",
   "execution_count": 0,
   "metadata": {
    "colab": {},
    "colab_type": "code",
    "id": "YwonIW4_mEaL"
   },
   "outputs": [],
   "source": []
  },
  {
   "cell_type": "markdown",
   "metadata": {
    "colab_type": "text",
    "id": "AOGKa1sXYam9"
   },
   "source": [
    "Hit and misses "
   ]
  },
  {
   "cell_type": "code",
   "execution_count": 0,
   "metadata": {
    "colab": {},
    "colab_type": "code",
    "id": "IHTFHwnXYbHR"
   },
   "outputs": [],
   "source": []
  },
  {
   "cell_type": "markdown",
   "metadata": {
    "colab_type": "text",
    "id": "k0RPD5FsYdVS"
   },
   "source": [
    "expand the prediction to grid level "
   ]
  }
 ],
 "metadata": {
  "accelerator": "TPU",
  "colab": {
   "collapsed_sections": [
    "z4-7F9HoPcQq",
    "s7DXM1k9N2nt",
    "Iw6L0fotmdJk"
   ],
   "include_colab_link": true,
   "name": "Copy of Predict_FS_MW_EDA.ipynb",
   "provenance": [],
   "toc_visible": true,
   "version": "0.3.2"
  },
  "kernelspec": {
   "display_name": "Python 3",
   "language": "python",
   "name": "python3"
  },
  "language_info": {
   "codemirror_mode": {
    "name": "ipython",
    "version": 3
   },
   "file_extension": ".py",
   "mimetype": "text/x-python",
   "name": "python",
   "nbconvert_exporter": "python",
   "pygments_lexer": "ipython3",
   "version": "3.6.3"
  }
 },
 "nbformat": 4,
 "nbformat_minor": 1
}
