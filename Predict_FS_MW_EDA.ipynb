{
 "cells": [
  {
   "cell_type": "markdown",
   "metadata": {
    "colab_type": "text",
    "id": "view-in-github"
   },
   "source": [
    "<a href=\"https://colab.research.google.com/github/zhou100/FoodSecurityPrediction/blob/master/Predict_FS_MW_EDA.ipynb\" target=\"_parent\"><img src=\"https://colab.research.google.com/assets/colab-badge.svg\" alt=\"Open In Colab\"/></a>"
   ]
  },
  {
   "cell_type": "markdown",
   "metadata": {
    "colab_type": "text",
    "id": "M84u2C8HfggW"
   },
   "source": [
    "# Use machine learning to predict food security"
   ]
  },
  {
   "cell_type": "code",
   "execution_count": 1,
   "metadata": {
    "colab": {},
    "colab_type": "code",
    "id": "I19oMdkdgy5O"
   },
   "outputs": [],
   "source": [
    "# Set up Notebook\n",
    "% matplotlib inline\n",
    "\n",
    "# Standard imports\n",
    "from sklearn.model_selection import GridSearchCV\n",
    "\n",
    "import numpy as np\n",
    "import pandas as pd\n",
    "import matplotlib.pyplot as plt\n",
    "import seaborn as sns\n",
    "import scipy.stats as stats\n",
    "from matplotlib import cm\n",
    "\n",
    "\n",
    "# We do this to ignore several specific Pandas warnings\n",
    "import warnings\n",
    "warnings.filterwarnings('ignore')\n",
    "from sklearn.metrics import explained_variance_score\n",
    "from sklearn.metrics import mean_absolute_error\n",
    "from sklearn.metrics import mean_squared_error\n",
    "from sklearn.metrics import median_absolute_error\n",
    "from sklearn.metrics import r2_score"
   ]
  },
  {
   "cell_type": "markdown",
   "metadata": {
    "colab_type": "text",
    "id": "keVrDW_bUkj7"
   },
   "source": [
    " ## Read in the data cleaned out by R"
   ]
  },
  {
   "cell_type": "markdown",
   "metadata": {
    "colab_type": "text",
    "id": "zFRtuZDugFxL"
   },
   "source": [
    "If you are using google colab like me, you will need to mount your google drive first and  copy the cleaned dataset from the R project to your google drive. \n",
    "\n",
    "If you are using python/jupyter notebook locally, just point to the right directory. "
   ]
  },
  {
   "cell_type": "code",
   "execution_count": 2,
   "metadata": {},
   "outputs": [
    {
     "name": "stdout",
     "output_type": "stream",
     "text": [
      "mw_dataset_cluster.csv tz_dataset_cluster.csv ug_dataset_cluster.csv\r\n",
      "mw_dataset_hh.csv      tz_dataset_hh.csv      ug_dataset_hh.csv\r\n"
     ]
    }
   ],
   "source": [
    "! ls data/clean/dataset"
   ]
  },
  {
   "cell_type": "code",
   "execution_count": 3,
   "metadata": {},
   "outputs": [],
   "source": [
    "mw_clust= pd.read_csv(\"data/clean/dataset/mw_dataset_cluster.csv\")"
   ]
  },
  {
   "cell_type": "markdown",
   "metadata": {
    "colab_type": "text",
    "id": "sWyD9pyGg3tG"
   },
   "source": [
    "## Preprocessing data\n"
   ]
  },
  {
   "cell_type": "markdown",
   "metadata": {
    "colab_type": "text",
    "id": "z4-7F9HoPcQq"
   },
   "source": [
    "### One-hot encoding for string variables "
   ]
  },
  {
   "cell_type": "code",
   "execution_count": 4,
   "metadata": {
    "colab": {},
    "colab_type": "code",
    "id": "o5G4izvkM1NP"
   },
   "outputs": [],
   "source": [
    "mw_clust[\"FNID\"]= mw_clust[\"FNID\"].str.lstrip('MW2012C')\n",
    "fnid_mw_clust = pd.get_dummies(mw_clust[\"FNID\"],prefix='MW', drop_first=True)\n",
    "mw_clust = pd.concat([mw_clust, fnid_mw_clust], axis=1)"
   ]
  },
  {
   "cell_type": "code",
   "execution_count": 289,
   "metadata": {
    "colab": {
     "base_uri": "https://localhost:8080/",
     "height": 251
    },
    "colab_type": "code",
    "id": "NhZG9v9kZt4g",
    "outputId": "04b11c47-3a80-437f-cc2c-549f3456ad36"
   },
   "outputs": [
    {
     "data": {
      "text/html": [
       "<div>\n",
       "<style>\n",
       "    .dataframe thead tr:only-child th {\n",
       "        text-align: right;\n",
       "    }\n",
       "\n",
       "    .dataframe thead th {\n",
       "        text-align: left;\n",
       "    }\n",
       "\n",
       "    .dataframe tbody tr th {\n",
       "        vertical-align: top;\n",
       "    }\n",
       "</style>\n",
       "<table border=\"1\" class=\"dataframe\">\n",
       "  <thead>\n",
       "    <tr style=\"text-align: right;\">\n",
       "      <th></th>\n",
       "      <th>FS_year</th>\n",
       "      <th>FNID</th>\n",
       "      <th>FCS</th>\n",
       "      <th>HDDS</th>\n",
       "      <th>rCSI</th>\n",
       "      <th>region_north</th>\n",
       "      <th>region_central</th>\n",
       "      <th>rural</th>\n",
       "      <th>dist_road</th>\n",
       "      <th>dist_admarc</th>\n",
       "      <th>...</th>\n",
       "      <th>MW_3030716</th>\n",
       "      <th>MW_3030804</th>\n",
       "      <th>MW_3030816</th>\n",
       "      <th>MW_3030904</th>\n",
       "      <th>MW_3031005</th>\n",
       "      <th>MW_3031105</th>\n",
       "      <th>MW_3031206</th>\n",
       "      <th>MW_3031213</th>\n",
       "      <th>MW_3031313</th>\n",
       "      <th>MW_3999918</th>\n",
       "    </tr>\n",
       "  </thead>\n",
       "  <tbody>\n",
       "    <tr>\n",
       "      <th>0</th>\n",
       "      <td>2010</td>\n",
       "      <td>3010102</td>\n",
       "      <td>42.718750</td>\n",
       "      <td>5.375000</td>\n",
       "      <td>2.750000</td>\n",
       "      <td>1.0</td>\n",
       "      <td>0.0</td>\n",
       "      <td>1.000000</td>\n",
       "      <td>2.656875</td>\n",
       "      <td>12.016250</td>\n",
       "      <td>...</td>\n",
       "      <td>0</td>\n",
       "      <td>0</td>\n",
       "      <td>0</td>\n",
       "      <td>0</td>\n",
       "      <td>0</td>\n",
       "      <td>0</td>\n",
       "      <td>0</td>\n",
       "      <td>0</td>\n",
       "      <td>0</td>\n",
       "      <td>0</td>\n",
       "    </tr>\n",
       "    <tr>\n",
       "      <th>1</th>\n",
       "      <td>2013</td>\n",
       "      <td>3010102</td>\n",
       "      <td>41.500000</td>\n",
       "      <td>4.687500</td>\n",
       "      <td>11.625000</td>\n",
       "      <td>1.0</td>\n",
       "      <td>0.0</td>\n",
       "      <td>1.000000</td>\n",
       "      <td>2.250000</td>\n",
       "      <td>12.687500</td>\n",
       "      <td>...</td>\n",
       "      <td>0</td>\n",
       "      <td>0</td>\n",
       "      <td>0</td>\n",
       "      <td>0</td>\n",
       "      <td>0</td>\n",
       "      <td>0</td>\n",
       "      <td>0</td>\n",
       "      <td>0</td>\n",
       "      <td>0</td>\n",
       "      <td>0</td>\n",
       "    </tr>\n",
       "    <tr>\n",
       "      <th>2</th>\n",
       "      <td>2010</td>\n",
       "      <td>3010102</td>\n",
       "      <td>35.218750</td>\n",
       "      <td>4.937500</td>\n",
       "      <td>2.687500</td>\n",
       "      <td>1.0</td>\n",
       "      <td>0.0</td>\n",
       "      <td>1.000000</td>\n",
       "      <td>0.513750</td>\n",
       "      <td>10.821875</td>\n",
       "      <td>...</td>\n",
       "      <td>0</td>\n",
       "      <td>0</td>\n",
       "      <td>0</td>\n",
       "      <td>0</td>\n",
       "      <td>0</td>\n",
       "      <td>0</td>\n",
       "      <td>0</td>\n",
       "      <td>0</td>\n",
       "      <td>0</td>\n",
       "      <td>0</td>\n",
       "    </tr>\n",
       "    <tr>\n",
       "      <th>3</th>\n",
       "      <td>2010</td>\n",
       "      <td>3010508</td>\n",
       "      <td>35.218750</td>\n",
       "      <td>4.937500</td>\n",
       "      <td>2.687500</td>\n",
       "      <td>1.0</td>\n",
       "      <td>0.0</td>\n",
       "      <td>1.000000</td>\n",
       "      <td>0.513750</td>\n",
       "      <td>10.821875</td>\n",
       "      <td>...</td>\n",
       "      <td>0</td>\n",
       "      <td>0</td>\n",
       "      <td>0</td>\n",
       "      <td>0</td>\n",
       "      <td>0</td>\n",
       "      <td>0</td>\n",
       "      <td>0</td>\n",
       "      <td>0</td>\n",
       "      <td>0</td>\n",
       "      <td>0</td>\n",
       "    </tr>\n",
       "    <tr>\n",
       "      <th>4</th>\n",
       "      <td>2013</td>\n",
       "      <td>3010102</td>\n",
       "      <td>48.088235</td>\n",
       "      <td>5.058824</td>\n",
       "      <td>2.411765</td>\n",
       "      <td>1.0</td>\n",
       "      <td>0.0</td>\n",
       "      <td>0.941176</td>\n",
       "      <td>0.529412</td>\n",
       "      <td>11.411765</td>\n",
       "      <td>...</td>\n",
       "      <td>0</td>\n",
       "      <td>0</td>\n",
       "      <td>0</td>\n",
       "      <td>0</td>\n",
       "      <td>0</td>\n",
       "      <td>0</td>\n",
       "      <td>0</td>\n",
       "      <td>0</td>\n",
       "      <td>0</td>\n",
       "      <td>0</td>\n",
       "    </tr>\n",
       "  </tbody>\n",
       "</table>\n",
       "<p>5 rows × 273 columns</p>\n",
       "</div>"
      ],
      "text/plain": [
       "   FS_year     FNID        FCS      HDDS       rCSI  region_north  \\\n",
       "0     2010  3010102  42.718750  5.375000   2.750000           1.0   \n",
       "1     2013  3010102  41.500000  4.687500  11.625000           1.0   \n",
       "2     2010  3010102  35.218750  4.937500   2.687500           1.0   \n",
       "3     2010  3010508  35.218750  4.937500   2.687500           1.0   \n",
       "4     2013  3010102  48.088235  5.058824   2.411765           1.0   \n",
       "\n",
       "   region_central     rural  dist_road  dist_admarc     ...      MW_3030716  \\\n",
       "0             0.0  1.000000   2.656875    12.016250     ...               0   \n",
       "1             0.0  1.000000   2.250000    12.687500     ...               0   \n",
       "2             0.0  1.000000   0.513750    10.821875     ...               0   \n",
       "3             0.0  1.000000   0.513750    10.821875     ...               0   \n",
       "4             0.0  0.941176   0.529412    11.411765     ...               0   \n",
       "\n",
       "   MW_3030804  MW_3030816  MW_3030904  MW_3031005  MW_3031105  MW_3031206  \\\n",
       "0           0           0           0           0           0           0   \n",
       "1           0           0           0           0           0           0   \n",
       "2           0           0           0           0           0           0   \n",
       "3           0           0           0           0           0           0   \n",
       "4           0           0           0           0           0           0   \n",
       "\n",
       "   MW_3031213  MW_3031313  MW_3999918  \n",
       "0           0           0           0  \n",
       "1           0           0           0  \n",
       "2           0           0           0  \n",
       "3           0           0           0  \n",
       "4           0           0           0  \n",
       "\n",
       "[5 rows x 273 columns]"
      ]
     },
     "execution_count": 289,
     "metadata": {},
     "output_type": "execute_result"
    }
   ],
   "source": [
    "mw_clust.head()"
   ]
  },
  {
   "cell_type": "markdown",
   "metadata": {
    "colab_type": "text",
    "id": "EHTKzlm8G7rS"
   },
   "source": [
    "# Methodology\n"
   ]
  },
  {
   "cell_type": "markdown",
   "metadata": {
    "colab_type": "text",
    "id": "G1SERn3aHD_P"
   },
   "source": [
    "This section will explain our main approach with the data.\n",
    "\n",
    "1. Focus on categorical prediciton for the given cutoffs. \n",
    "\n",
    "Reasons: Close to the actual policy scenarios where we focus on capturing all the insecure households. Recall rate of the insecure villages is more important than the over all accuracy. \n",
    "\n",
    "Can apply the down sampling and over sampling technique here to improve \n",
    "\n",
    "\n",
    "2.  Algorithms to try : tree classifier, random forest classifier, xgboost \n",
    "\n",
    "2.1. By categories, vs one or rest\n",
    "\n",
    "2.2.  Parameter Tuning\n",
    "\n",
    "2.3 . feature importance analysis\n",
    "\n",
    "\n",
    "3.  Error analysis by region, by group, by month\n",
    "\n",
    "4.  Train model by division separtely Auto-segmentation by training a shallow tree in each country based on observables \n",
    "\n",
    "5. Model combination: what happens when we train on all the data \n",
    "\n",
    "6. Model generalization issues: what happens when we directly apply  models trained on one country to predict another \n",
    "\n",
    "\n",
    "\n",
    "\n",
    "\n"
   ]
  },
  {
   "cell_type": "markdown",
   "metadata": {
    "colab_type": "text",
    "id": "DSo3Zuh0jAN8"
   },
   "source": [
    "## Exploratory Data Analysis  "
   ]
  },
  {
   "cell_type": "markdown",
   "metadata": {
    "colab_type": "text",
    "id": "0EVf0OgQhyzj"
   },
   "source": [
    "### Measures:  plot target measures by year by country\n"
   ]
  },
  {
   "cell_type": "code",
   "execution_count": 5,
   "metadata": {
    "colab": {
     "base_uri": "https://localhost:8080/",
     "height": 287
    },
    "colab_type": "code",
    "id": "vQVpjOMObguF",
    "outputId": "efd7e81a-7232-4a99-945e-0f573ab2e9cc"
   },
   "outputs": [
    {
     "data": {
      "text/plain": [
       "<matplotlib.axes._subplots.AxesSubplot at 0x1a09724a20>"
      ]
     },
     "execution_count": 5,
     "metadata": {},
     "output_type": "execute_result"
    },
    {
     "data": {
      "image/png": "[encoded data removed]",
      "text/plain": [
       "<matplotlib.figure.Figure at 0x1a097242e8>"
      ]
     },
     "metadata": {},
     "output_type": "display_data"
    }
   ],
   "source": [
    "# cut the outcome variables by the cutoffs\n",
    "mw_clust['FCS_category']= pd.cut(x=mw_clust['FCS'], bins=[-1,28,42,100],labels= [2, 1, 0])\n",
    "  \n",
    "mw_clust['FCS_category'].value_counts().plot(kind='pie', title=' Counts (FCS categories)')\n"
   ]
  },
  {
   "cell_type": "code",
   "execution_count": 6,
   "metadata": {
    "colab": {
     "base_uri": "https://localhost:8080/",
     "height": 287
    },
    "colab_type": "code",
    "id": "mEIDc34pb6jK",
    "outputId": "ab6cb910-06be-43fc-a411-d17e833beee4"
   },
   "outputs": [
    {
     "data": {
      "text/plain": [
       "<matplotlib.axes._subplots.AxesSubplot at 0x1a0e9233c8>"
      ]
     },
     "execution_count": 6,
     "metadata": {},
     "output_type": "execute_result"
    },
    {
     "data": {
      "image/png": "[encoded data removed]",
      "text/plain": [
       "<matplotlib.figure.Figure at 0x10260d438>"
      ]
     },
     "metadata": {},
     "output_type": "display_data"
    }
   ],
   "source": [
    " # HDDS 3 and 6\n",
    "mw_clust['HDDS_category']= pd.cut(x=mw_clust['HDDS'], bins=[0,3,6,10],labels= [2, 1, 0])\n",
    "  \n",
    "mw_clust['HDDS_category'].value_counts().plot(kind='pie', title='Count (HDDS categories)')\n"
   ]
  },
  {
   "cell_type": "code",
   "execution_count": 7,
   "metadata": {
    "colab": {
     "base_uri": "https://localhost:8080/",
     "height": 287
    },
    "colab_type": "code",
    "id": "CiRa0o7NcZ5N",
    "outputId": "faca200e-7bba-47f9-e39b-b7248c263ee1"
   },
   "outputs": [
    {
     "data": {
      "text/plain": [
       "<matplotlib.axes._subplots.AxesSubplot at 0x10260d8d0>"
      ]
     },
     "execution_count": 7,
     "metadata": {},
     "output_type": "execute_result"
    },
    {
     "data": {
      "image/png": "[encoded data removed]",
      "text/plain": [
       "<matplotlib.figure.Figure at 0x1a0e943d30>"
      ]
     },
     "metadata": {},
     "output_type": "display_data"
    }
   ],
   "source": [
    "# rCSI 4 and 17  and 42\n",
    "mw_clust['rCSI_category']= pd.cut(x=mw_clust['rCSI'], bins=[-1,4,17,42],labels= [0, 1, 2])\n",
    "  \n",
    "mw_clust['rCSI_category'].value_counts().plot(kind='pie', title='Count (rCSI categories)')\n"
   ]
  },
  {
   "cell_type": "markdown",
   "metadata": {
    "colab_type": "text",
    "id": "Iw6L0fotmdJk"
   },
   "source": [
    "### Split train and test data\n",
    "\n",
    " For practical prediction purposes,  we use the most recent round of survey data  as the testing  and the rest as the training data. \n"
   ]
  },
  {
   "cell_type": "code",
   "execution_count": 8,
   "metadata": {
    "colab": {},
    "colab_type": "code",
    "id": "6-IIX6ZBLLZD"
   },
   "outputs": [],
   "source": [
    "mw_clust_test_cond =  mw_clust['FS_year']>2015\n",
    "mw_clust_train_cond =  mw_clust['FS_year']<2016\n",
    "mw_clust_test = mw_clust[mw_clust_test_cond]\n",
    "mw_clust_train = mw_clust[mw_clust_train_cond]\n",
    "\n"
   ]
  },
  {
   "cell_type": "markdown",
   "metadata": {
    "colab_type": "text",
    "id": "w_YE97RELQ0n"
   },
   "source": [
    "**Separate the target/labels from the X variables. **"
   ]
  },
  {
   "cell_type": "code",
   "execution_count": 9,
   "metadata": {
    "colab": {},
    "colab_type": "code",
    "id": "ss3jWM1YKHRQ"
   },
   "outputs": [],
   "source": [
    "labels = ['FCS', 'rCSI', 'HDDS']\n",
    "category_labels = ['FCS_category', 'rCSI_category', 'HDDS_category']\n",
    "\n",
    "\n",
    "mw_clust_y_train= mw_clust_train[['FCS_category', 'rCSI_category', 'HDDS_category']]\n",
    "mw_clust_y_test= mw_clust_test[['FCS_category', 'rCSI_category', 'HDDS_category']]\n",
    " \n",
    "mw_clust_X_test= mw_clust_test.drop(labels+category_labels+['FNID'],  axis=1)\n",
    "mw_clust_X_train= mw_clust_train.drop(labels+category_labels+['FNID'], axis=1)\n"
   ]
  },
  {
   "cell_type": "code",
   "execution_count": 10,
   "metadata": {},
   "outputs": [],
   "source": [
    "from sklearn.tree import DecisionTreeClassifier\n",
    "from sklearn.model_selection import RandomizedSearchCV\n",
    "\n",
    "def TreeCLF(X_train,y_train,X_test, y_test):\n",
    "    # Define tree classifier\n",
    "    tree_clf = DecisionTreeClassifier(random_state=66)\n",
    "    \n",
    "    max_depth = [int(x) for x in np.linspace(3, 20, num = 10)]\n",
    "    max_features = [int(x) for x in np.linspace(3, 20, num = 10)]\n",
    "    # n_estimators = [int(x) for x in np.linspace(1, 10, num = 5)]\n",
    "\n",
    "    random_grid = {#'n_estimators': n_estimators,\n",
    "                   'max_features': max_features,\n",
    "                   'max_depth': max_depth\n",
    "                   #'min_samples_split': min_samples_split\n",
    "                   #'min_samples_leaf': min_samples_leaf}\n",
    "                   #'bootstrap': bootstrap\n",
    "                    }\n",
    "    \n",
    "    tree_random = RandomizedSearchCV(estimator = tree_clf, param_distributions = random_grid,\n",
    "                                    n_iter = 30, cv = 3, verbose=2, random_state=rs, n_jobs = -1)\n",
    "\n",
    "\n",
    "    tree_random.fit( X_train, y_train)\n",
    "\n",
    "\n",
    "    # Return accuracy\n",
    "    tree_test_score = round(tree_random.score(X_test, y_test), 3)\n",
    "    tree_train_score = round(tree_random.score(X_train, y_train), 3)\n",
    "    \n",
    "    return tree_test_score"
   ]
  },
  {
   "cell_type": "code",
   "execution_count": 11,
   "metadata": {},
   "outputs": [],
   "source": [
    "from sklearn.ensemble import RandomForestClassifier\n",
    "from sklearn.model_selection import RandomizedSearchCV\n",
    "\n",
    "\n",
    "def rfCLF(X_train,y_train,X_test, y_test):\n",
    "\n",
    "    rf_clf = RandomForestClassifier(max_features='auto', n_estimators = 100,min_samples_split=10,warm_start=True)\n",
    "\n",
    "        \n",
    "    # Define rfc classifier\n",
    "    max_depth = [int(x) for x in np.linspace(3, 20, num = 10)]\n",
    "    max_features = [int(x) for x in np.linspace(3, 20, num = 10)]\n",
    "\n",
    "    random_grid = {#'n_estimators': n_estimators,\n",
    "                   'max_features': max_features,\n",
    "                   'max_depth': max_depth\n",
    "                   #'min_samples_split': min_samples_split\n",
    "                   #'min_samples_leaf': min_samples_leaf}\n",
    "                   #'bootstrap': bootstrap\n",
    "                    }\n",
    "    \n",
    "    rf_random = RandomizedSearchCV(estimator = rf_clf, param_distributions = random_grid,\n",
    "                                    n_iter = 30, cv = 3, verbose=2, random_state=rs, n_jobs = -1)\n",
    "\n",
    "\n",
    "    # Fit the random search model\n",
    "    rf_random.fit(X_train, y_train)\n",
    "\n",
    "    # Return accuracy\n",
    "    rf_test_score = round(rf_random.score(X_test, y_test), 3)\n",
    "    rf_train_score = round(rf_random.score(X_train, y_train), 3)\n",
    "\n",
    "    return rf_test_score "
   ]
  },
  {
   "cell_type": "code",
   "execution_count": 12,
   "metadata": {},
   "outputs": [
    {
     "ename": "ModuleNotFoundError",
     "evalue": "No module named 'xgboost'",
     "output_type": "error",
     "traceback": [
      "\u001b[0;31m---------------------------------------------------------------------------\u001b[0m",
      "\u001b[0;31mModuleNotFoundError\u001b[0m                       Traceback (most recent call last)",
      "\u001b[0;32m<ipython-input-12-1941568aeae7>\u001b[0m in \u001b[0;36m<module>\u001b[0;34m()\u001b[0m\n\u001b[0;32m----> 1\u001b[0;31m \u001b[0;32mfrom\u001b[0m \u001b[0mxgboost\u001b[0m \u001b[0;32mimport\u001b[0m \u001b[0mXGBClassifier\u001b[0m\u001b[0;34m\u001b[0m\u001b[0m\n\u001b[0m\u001b[1;32m      2\u001b[0m \u001b[0;34m\u001b[0m\u001b[0m\n\u001b[1;32m      3\u001b[0m \u001b[0;32mdef\u001b[0m \u001b[0mXGBCLF\u001b[0m\u001b[0;34m(\u001b[0m\u001b[0mX_train\u001b[0m\u001b[0;34m,\u001b[0m\u001b[0my_train\u001b[0m\u001b[0;34m,\u001b[0m\u001b[0mX_test\u001b[0m\u001b[0;34m,\u001b[0m \u001b[0my_test\u001b[0m\u001b[0;34m)\u001b[0m\u001b[0;34m:\u001b[0m\u001b[0;34m\u001b[0m\u001b[0m\n\u001b[1;32m      4\u001b[0m \u001b[0;34m\u001b[0m\u001b[0m\n\u001b[1;32m      5\u001b[0m     \u001b[0;31m# fit model on  training data\u001b[0m\u001b[0;34m\u001b[0m\u001b[0;34m\u001b[0m\u001b[0m\n",
      "\u001b[0;31mModuleNotFoundError\u001b[0m: No module named 'xgboost'"
     ]
    }
   ],
   "source": [
    "from xgboost import XGBClassifier\n",
    "\n",
    "def XGBCLF(X_train,y_train,X_test, y_test):\n",
    "\n",
    "    # fit model on  training data\n",
    "    XGB_clf = XGBClassifier(silent=False, \n",
    "                          scale_pos_weight=1,\n",
    "                          learning_rate=0.3,  \n",
    "                          colsample_bytree = 0.4,\n",
    "                          subsample = 0.8,\n",
    "                          objective='binary:logistic', \n",
    "                          #objective='multi:softmax', \n",
    "                          #num_class=14,\n",
    "                          n_estimators=100, \n",
    "                          reg_alpha = 0.3,\n",
    "                          max_depth=5, \n",
    "                          gamma=10)\n",
    "    \n",
    "    max_depth = [int(x) for x in np.linspace(3, 20, num = 10)]\n",
    "    max_features = [int(x) for x in np.linspace(3, 20, num = 10)]\n",
    "\n",
    "    random_grid = {#'n_estimators': n_estimators,\n",
    "                   'max_features': max_features,\n",
    "                   'max_depth': max_depth\n",
    "                   #'min_samples_split': min_samples_split\n",
    "                   #'min_samples_leaf': min_samples_leaf}\n",
    "                   #'bootstrap': bootstrap\n",
    "                    }\n",
    "    \n",
    "    XGB_random = RandomizedSearchCV(estimator = XGB_clf, param_distributions = random_grid,\n",
    "                                    n_iter = 30, cv = 3, verbose=2, random_state=rs, n_jobs = -1)\n",
    "\n",
    "\n",
    "    \n",
    "    # Fit the random search model\n",
    "    XGB_random.fit(X_train, y_train)\n",
    "\n",
    "    # Return accuracy\n",
    "    xgb_test_score = round(XGB_random.score(X_test, y_test), 3)\n",
    "    xgb_train_score = round(XGB_random.score(X_train, y_train), 3)\n",
    "    \n",
    "    return xgb_test_score"
   ]
  },
  {
   "cell_type": "code",
   "execution_count": 267,
   "metadata": {},
   "outputs": [
    {
     "data": {
      "text/plain": [
       "0    1699\n",
       "1     461\n",
       "2      14\n",
       "Name: FCS_category, dtype: int64"
      ]
     },
     "execution_count": 267,
     "metadata": {},
     "output_type": "execute_result"
    }
   ],
   "source": [
    "mw_clust_y_train['FCS_category'].value_counts()"
   ]
  },
  {
   "cell_type": "code",
   "execution_count": 312,
   "metadata": {},
   "outputs": [
    {
     "name": "stdout",
     "output_type": "stream",
     "text": [
      "Fitting 3 folds for each of 30 candidates, totalling 90 fits\n",
      "[CV] max_features=18, max_depth=3 ....................................\n",
      "[CV] max_features=18, max_depth=3 ....................................\n",
      "[CV] max_features=18, max_depth=3 ....................................\n",
      "[CV] max_features=8, max_depth=20 ....................................\n",
      "[CV] ..................... max_features=18, max_depth=3, total=   0.0s\n",
      "[CV] ..................... max_features=8, max_depth=20, total=   0.0s\n",
      "[CV] max_features=8, max_depth=20 ....................................\n",
      "[CV] ..................... max_features=18, max_depth=3, total=   0.0s\n",
      "[CV] max_features=8, max_depth=20 ....................................\n",
      "[CV] ..................... max_features=18, max_depth=3, total=   0.1s\n",
      "[CV] max_features=10, max_depth=3 ....................................\n",
      "[CV] max_features=10, max_depth=3 ....................................\n",
      "[CV] ..................... max_features=10, max_depth=3, total=   0.0s\n",
      "[CV] max_features=10, max_depth=3 ....................................\n",
      "[CV] ..................... max_features=10, max_depth=3, total=   0.0s\n",
      "[CV] ..................... max_features=8, max_depth=20, total=   0.0s\n",
      "[CV] max_features=12, max_depth=3 ....................................\n",
      "[CV] max_features=6, max_depth=12 ....................................\n",
      "[CV] ..................... max_features=8, max_depth=20, total=   0.1s\n",
      "[CV] ..................... max_features=10, max_depth=3, total=   0.1s\n",
      "[CV] max_features=6, max_depth=12 ....................................\n",
      "[CV] max_features=12, max_depth=3 ....................................\n",
      "[CV] ..................... max_features=6, max_depth=12, total=   0.0s\n",
      "[CV] ..................... max_features=6, max_depth=12, total=   0.0s\n",
      "[CV] max_features=4, max_depth=10 ....................................\n",
      "[CV] ..................... max_features=12, max_depth=3, total=   0.0s\n",
      "[CV] ..................... max_features=12, max_depth=3, total=   0.0s\n",
      "[CV] max_features=12, max_depth=3 ....................................\n",
      "[CV] max_features=6, max_depth=12 ....................................\n",
      "[CV] ..................... max_features=4, max_depth=10, total=   0.0s\n",
      "[CV] max_features=4, max_depth=10 ....................................\n",
      "[CV] ..................... max_features=6, max_depth=12, total=   0.0s\n",
      "[CV] ..................... max_features=12, max_depth=3, total=   0.0s\n",
      "[CV] ..................... max_features=4, max_depth=10, total=   0.0s\n",
      "[CV] max_features=4, max_depth=10 ....................................\n",
      "[CV] max_features=3, max_depth=3 .....................................\n",
      "[CV] ..................... max_features=4, max_depth=10, total=   0.0s\n",
      "[CV] max_features=3, max_depth=3 .....................................\n",
      "[CV] ...................... max_features=3, max_depth=3, total=   0.0s\n",
      "[CV] max_features=8, max_depth=16 ....................................\n",
      "[CV] ...................... max_features=3, max_depth=3, total=   0.0s\n",
      "[CV] max_features=3, max_depth=3 .....................................\n",
      "[CV] max_features=8, max_depth=16 ....................................\n",
      "[CV] ..................... max_features=8, max_depth=16, total=   0.0s\n",
      "[CV] max_features=8, max_depth=16 ....................................\n",
      "[CV] ...................... max_features=3, max_depth=3, total=   0.0s\n",
      "[CV] ..................... max_features=8, max_depth=16, total=   0.0s\n",
      "[CV] max_features=18, max_depth=18 ...................................\n",
      "[CV] max_features=18, max_depth=18 ...................................\n",
      "[CV] max_features=18, max_depth=14 ...................................\n",
      "[CV] ..................... max_features=8, max_depth=16, total=   0.0s\n",
      "[CV] .................... max_features=18, max_depth=14, total=   0.0s\n",
      "[CV] max_features=18, max_depth=14 ...................................\n",
      "[CV] max_features=12, max_depth=6 ....................................\n",
      "[CV] .................... max_features=18, max_depth=18, total=   0.0s\n",
      "[CV] max_features=18, max_depth=18 ...................................\n",
      "[CV] ..................... max_features=12, max_depth=6, total=   0.0s\n",
      "[CV] max_features=12, max_depth=6 ....................................\n",
      "[CV] .................... max_features=18, max_depth=18, total=   0.1s\n",
      "[CV] ..................... max_features=12, max_depth=6, total=   0.0s\n",
      "[CV] max_features=18, max_depth=14 ...................................\n",
      "[CV] max_features=12, max_depth=6 ....................................\n",
      "[CV] .................... max_features=18, max_depth=14, total=   0.0s\n",
      "[CV] ..................... max_features=12, max_depth=6, total=   0.0s\n",
      "[CV] max_features=18, max_depth=4 ....................................\n",
      "[CV] .................... max_features=18, max_depth=18, total=   0.1s\n",
      "[CV] .................... max_features=18, max_depth=14, total=   0.1s\n",
      "[CV] max_features=18, max_depth=4 ....................................\n",
      "[CV] ..................... max_features=18, max_depth=4, total=   0.0s\n",
      "[CV] max_features=14, max_depth=6 ....................................\n",
      "[CV] max_features=14, max_depth=6 ....................................\n",
      "[CV] ..................... max_features=14, max_depth=6, total=   0.0s\n",
      "[CV] ..................... max_features=18, max_depth=4, total=   0.0s\n",
      "[CV] max_features=14, max_depth=6 ....................................\n",
      "[CV] max_features=18, max_depth=4 ....................................\n",
      "[CV] ..................... max_features=14, max_depth=6, total=   0.0s\n",
      "[CV] max_features=20, max_depth=6 ....................................\n",
      "[CV] ..................... max_features=14, max_depth=6, total=   0.0s\n",
      "[CV] max_features=20, max_depth=6 ....................................\n",
      "[CV] ..................... max_features=20, max_depth=6, total=   0.0s\n",
      "[CV] max_features=14, max_depth=14 ...................................\n",
      "[CV] max_features=14, max_depth=14 ...................................\n",
      "[CV] ..................... max_features=18, max_depth=4, total=   0.0s\n",
      "[CV] .................... max_features=14, max_depth=14, total=   0.0s\n",
      "[CV] max_features=14, max_depth=14 ...................................\n",
      "[CV] max_features=3, max_depth=12 ....................................\n",
      "[CV] ..................... max_features=20, max_depth=6, total=   0.1s\n",
      "[CV] ..................... max_features=3, max_depth=12, total=   0.0s\n",
      "[CV] max_features=3, max_depth=12 ....................................\n",
      "[CV] max_features=20, max_depth=6 ....................................\n",
      "[CV] .................... max_features=14, max_depth=14, total=   0.0s\n",
      "[CV] max_features=3, max_depth=12 ....................................\n",
      "[CV] .................... max_features=14, max_depth=14, total=   0.1s\n",
      "[CV] ..................... max_features=20, max_depth=6, total=   0.0s\n",
      "[CV] ..................... max_features=3, max_depth=12, total=   0.1s\n",
      "[CV] ..................... max_features=3, max_depth=12, total=   0.0s\n",
      "[CV] max_features=3, max_depth=18 ....................................\n",
      "[CV] max_features=3, max_depth=18 ....................................\n",
      "[CV] max_features=12, max_depth=10 ...................................\n",
      "[CV] ..................... max_features=3, max_depth=18, total=   0.0s\n",
      "[CV] max_features=18, max_depth=8 ....................................\n",
      "[CV] ..................... max_features=3, max_depth=18, total=   0.0s\n",
      "[CV] max_features=3, max_depth=18 ....................................\n",
      "[CV] max_features=12, max_depth=10 ...................................\n",
      "[CV] ..................... max_features=3, max_depth=18, total=   0.0s\n",
      "[CV] .................... max_features=12, max_depth=10, total=   0.1s\n",
      "[CV] max_features=12, max_depth=10 ...................................\n",
      "[CV] max_features=18, max_depth=8 ....................................\n",
      "[CV] ..................... max_features=18, max_depth=8, total=   0.0s\n",
      "[CV] max_features=18, max_depth=8 ....................................\n",
      "[CV] .................... max_features=12, max_depth=10, total=   0.1s\n",
      "[CV] max_features=18, max_depth=12 ...................................\n",
      "[CV] ..................... max_features=18, max_depth=8, total=   0.0s\n",
      "[CV] .................... max_features=12, max_depth=10, total=   0.1s\n",
      "[CV] ..................... max_features=18, max_depth=8, total=   0.1s\n"
     ]
    },
    {
     "name": "stdout",
     "output_type": "stream",
     "text": [
      "[CV] max_features=18, max_depth=12 ...................................\n",
      "[CV] max_features=20, max_depth=10 ...................................\n",
      "[CV] max_features=20, max_depth=10 ...................................\n",
      "[CV] .................... max_features=18, max_depth=12, total=   0.1s\n",
      "[CV] max_features=18, max_depth=12 ...................................\n",
      "[CV] .................... max_features=18, max_depth=12, total=   0.0s\n",
      "[CV] .................... max_features=20, max_depth=10, total=   0.0s\n",
      "[CV] .................... max_features=20, max_depth=10, total=   0.0s\n",
      "[CV] max_features=12, max_depth=18 ...................................\n",
      "[CV] max_features=12, max_depth=18 ...................................\n",
      "[CV] .................... max_features=18, max_depth=12, total=   0.0s\n",
      "[CV] max_features=20, max_depth=10 ...................................\n",
      "[CV] .................... max_features=12, max_depth=18, total=   0.0s\n",
      "[CV] .................... max_features=12, max_depth=18, total=   0.0s\n",
      "[CV] max_features=10, max_depth=20 ...................................\n",
      "[CV] .................... max_features=20, max_depth=10, total=   0.0s\n",
      "[CV] max_features=12, max_depth=18 ...................................\n",
      "[CV] max_features=10, max_depth=20 ...................................\n",
      "[CV] max_features=16, max_depth=18 ...................................\n",
      "[CV] .................... max_features=10, max_depth=20, total=   0.1s\n",
      "[CV] max_features=10, max_depth=20 ...................................\n",
      "[CV] .................... max_features=10, max_depth=20, total=   0.0s\n",
      "[CV] .................... max_features=16, max_depth=18, total=   0.0s\n",
      "[CV] max_features=16, max_depth=18 ...................................\n",
      "[CV] max_features=16, max_depth=18 ...................................\n"
     ]
    },
    {
     "name": "stderr",
     "output_type": "stream",
     "text": [
      "[Parallel(n_jobs=-1)]: Done  58 tasks      | elapsed:    1.2s\n"
     ]
    },
    {
     "name": "stdout",
     "output_type": "stream",
     "text": [
      "[CV] .................... max_features=16, max_depth=18, total=   0.0s\n",
      "[CV] max_features=12, max_depth=4 ....................................\n",
      "[CV] .................... max_features=12, max_depth=18, total=   0.0s\n",
      "[CV] .................... max_features=16, max_depth=18, total=   0.0s\n",
      "[CV] .................... max_features=10, max_depth=20, total=   0.1s\n",
      "[CV] max_features=12, max_depth=4 ....................................\n",
      "[CV] max_features=8, max_depth=3 .....................................\n",
      "[CV] max_features=10, max_depth=4 ....................................\n",
      "[CV] ..................... max_features=12, max_depth=4, total=   0.0s\n",
      "[CV] max_features=8, max_depth=3 .....................................\n",
      "[CV] ..................... max_features=10, max_depth=4, total=   0.0s\n",
      "[CV] ..................... max_features=12, max_depth=4, total=   0.1s\n",
      "[CV] max_features=10, max_depth=4 ....................................\n",
      "[CV] max_features=12, max_depth=4 ....................................\n",
      "[CV] ...................... max_features=8, max_depth=3, total=   0.0s\n",
      "[CV] max_features=8, max_depth=3 .....................................\n",
      "[CV] ...................... max_features=8, max_depth=3, total=   0.0s\n",
      "[CV] ..................... max_features=12, max_depth=4, total=   0.0s\n",
      "[CV] ...................... max_features=8, max_depth=3, total=   0.0s\n",
      "[CV] ..................... max_features=10, max_depth=4, total=   0.0s\n",
      "[CV] max_features=10, max_depth=4 ....................................\n",
      "[CV] max_features=8, max_depth=8 .....................................\n",
      "[CV] max_features=8, max_depth=6 .....................................\n",
      "[CV] ..................... max_features=10, max_depth=4, total=   0.0s\n",
      "[CV] max_features=8, max_depth=6 .....................................\n",
      "[CV] ...................... max_features=8, max_depth=6, total=   0.0s\n",
      "[CV] max_features=10, max_depth=6 ....................................\n",
      "[CV] ...................... max_features=8, max_depth=6, total=   0.0s\n",
      "[CV] max_features=8, max_depth=8 .....................................\n",
      "[CV] max_features=8, max_depth=6 .....................................\n",
      "[CV] ...................... max_features=8, max_depth=8, total=   0.1s\n",
      "[CV] ...................... max_features=8, max_depth=6, total=   0.0s\n",
      "[CV] ...................... max_features=8, max_depth=8, total=   0.0s\n",
      "[CV] max_features=8, max_depth=8 .....................................\n",
      "[CV] max_features=10, max_depth=6 ....................................\n",
      "[CV] ..................... max_features=10, max_depth=6, total=   0.0s\n",
      "[CV] ...................... max_features=8, max_depth=8, total=   0.0s\n",
      "[CV] ..................... max_features=10, max_depth=6, total=   0.0s\n",
      "[CV] max_features=10, max_depth=6 ....................................\n",
      "[CV] ..................... max_features=10, max_depth=6, total=   0.0s\n"
     ]
    },
    {
     "name": "stderr",
     "output_type": "stream",
     "text": [
      "[Parallel(n_jobs=-1)]: Done  90 out of  90 | elapsed:    1.7s finished\n"
     ]
    },
    {
     "data": {
      "text/plain": [
       "0.70099999999999996"
      ]
     },
     "execution_count": 312,
     "metadata": {},
     "output_type": "execute_result"
    }
   ],
   "source": [
    "TreeCLF (mw_clust_X_train,mw_clust_y_train['FCS_category'], mw_clust_X_test,mw_clust_y_test['FCS_category'] )"
   ]
  },
  {
   "cell_type": "code",
   "execution_count": 313,
   "metadata": {},
   "outputs": [
    {
     "name": "stdout",
     "output_type": "stream",
     "text": [
      "Fitting 3 folds for each of 30 candidates, totalling 90 fits\n",
      "[CV] max_features=18, max_depth=3 ....................................\n",
      "[CV] max_features=18, max_depth=3 ....................................\n",
      "[CV] ..................... max_features=18, max_depth=3, total=   0.0s\n",
      "[CV] max_features=18, max_depth=3 ....................................\n",
      "[CV] max_features=8, max_depth=20 ....................................\n",
      "[CV] ..................... max_features=18, max_depth=3, total=   0.0s\n",
      "[CV] ..................... max_features=18, max_depth=3, total=   0.1s\n",
      "[CV] max_features=8, max_depth=20 ....................................\n",
      "[CV] max_features=8, max_depth=20 ....................................\n",
      "[CV] ..................... max_features=8, max_depth=20, total=   0.0s\n",
      "[CV] ..................... max_features=8, max_depth=20, total=   0.0s\n",
      "[CV] ..................... max_features=8, max_depth=20, total=   0.1s\n",
      "[CV] max_features=10, max_depth=3 ....................................\n",
      "[CV] max_features=10, max_depth=3 ....................................\n",
      "[CV] max_features=10, max_depth=3 ....................................\n",
      "[CV] ..................... max_features=10, max_depth=3, total=   0.0s\n",
      "[CV] max_features=12, max_depth=3 ....................................\n",
      "[CV] max_features=6, max_depth=12 ....................................\n",
      "[CV] ..................... max_features=10, max_depth=3, total=   0.1s\n",
      "[CV] ..................... max_features=10, max_depth=3, total=   0.1s\n",
      "[CV] max_features=12, max_depth=3 ....................................\n",
      "[CV] ..................... max_features=12, max_depth=3, total=   0.0s\n",
      "[CV] max_features=12, max_depth=3 ....................................\n",
      "[CV] ..................... max_features=12, max_depth=3, total=   0.0s\n",
      "[CV] max_features=6, max_depth=12 ....................................\n",
      "[CV] ..................... max_features=12, max_depth=3, total=   0.0s\n",
      "[CV] ..................... max_features=6, max_depth=12, total=   0.1s\n",
      "[CV] ..................... max_features=6, max_depth=12, total=   0.0s\n",
      "[CV] max_features=4, max_depth=10 ....................................\n",
      "[CV] max_features=6, max_depth=12 ....................................\n",
      "[CV] max_features=4, max_depth=10 ....................................\n",
      "[CV] ..................... max_features=4, max_depth=10, total=   0.0s\n",
      "[CV] max_features=4, max_depth=10 ....................................\n",
      "[CV] max_features=3, max_depth=3 .....................................\n",
      "[CV] ..................... max_features=4, max_depth=10, total=   0.0s\n",
      "[CV] ..................... max_features=6, max_depth=12, total=   0.0s\n",
      "[CV] max_features=3, max_depth=3 .....................................\n",
      "[CV] ..................... max_features=4, max_depth=10, total=   0.1s\n",
      "[CV] max_features=8, max_depth=16 ....................................\n",
      "[CV] ...................... max_features=3, max_depth=3, total=   0.0s\n",
      "[CV] max_features=8, max_depth=16 ....................................\n",
      "[CV] ...................... max_features=3, max_depth=3, total=   0.0s\n",
      "[CV] max_features=3, max_depth=3 .....................................\n",
      "[CV] max_features=18, max_depth=18 ...................................\n",
      "[CV] ..................... max_features=8, max_depth=16, total=   0.0s\n",
      "[CV] max_features=8, max_depth=16 ....................................\n",
      "[CV] ...................... max_features=3, max_depth=3, total=   0.0s\n",
      "[CV] ..................... max_features=8, max_depth=16, total=   0.0s\n",
      "[CV] max_features=18, max_depth=18 ...................................\n",
      "[CV] max_features=18, max_depth=14 ...................................\n",
      "[CV] .................... max_features=18, max_depth=18, total=   0.1s\n",
      "[CV] max_features=18, max_depth=18 ...................................\n",
      "[CV] ..................... max_features=8, max_depth=16, total=   0.0s\n",
      "[CV] .................... max_features=18, max_depth=18, total=   0.1s\n",
      "[CV] max_features=12, max_depth=6 ....................................\n",
      "[CV] max_features=18, max_depth=14 ...................................\n",
      "[CV] ..................... max_features=12, max_depth=6, total=   0.0s\n",
      "[CV] .................... max_features=18, max_depth=18, total=   0.0s\n",
      "[CV] max_features=12, max_depth=6 ....................................\n",
      "[CV] .................... max_features=18, max_depth=14, total=   0.1s\n",
      "[CV] max_features=18, max_depth=14 ...................................\n",
      "[CV] ..................... max_features=12, max_depth=6, total=   0.0s\n",
      "[CV] max_features=12, max_depth=6 ....................................\n",
      "[CV] max_features=18, max_depth=4 ....................................\n",
      "[CV] .................... max_features=18, max_depth=14, total=   0.0s\n",
      "[CV] .................... max_features=18, max_depth=14, total=   0.0s\n",
      "[CV] max_features=14, max_depth=6 ....................................\n",
      "[CV] ..................... max_features=12, max_depth=6, total=   0.0s\n",
      "[CV] max_features=18, max_depth=4 ....................................\n",
      "[CV] max_features=14, max_depth=6 ....................................\n",
      "[CV] ..................... max_features=18, max_depth=4, total=   0.0s\n",
      "[CV] ..................... max_features=18, max_depth=4, total=   0.1s\n",
      "[CV] ..................... max_features=14, max_depth=6, total=   0.0s\n",
      "[CV] max_features=18, max_depth=4 ....................................\n",
      "[CV] max_features=14, max_depth=6 ....................................\n",
      "[CV] ..................... max_features=14, max_depth=6, total=   0.0s\n",
      "[CV] max_features=20, max_depth=6 ....................................\n",
      "[CV] max_features=20, max_depth=6 ....................................\n",
      "[CV] ..................... max_features=14, max_depth=6, total=   0.0s\n",
      "[CV] ..................... max_features=18, max_depth=4, total=   0.1s\n",
      "[CV] max_features=14, max_depth=14 ...................................\n",
      "[CV] ..................... max_features=20, max_depth=6, total=   0.0s\n",
      "[CV] .................... max_features=14, max_depth=14, total=   0.0s\n",
      "[CV] max_features=14, max_depth=14 ...................................\n",
      "[CV] ..................... max_features=20, max_depth=6, total=   0.0s\n",
      "[CV] max_features=14, max_depth=14 ...................................\n",
      "[CV] max_features=20, max_depth=6 ....................................\n",
      "[CV] max_features=3, max_depth=12 ....................................\n",
      "[CV] .................... max_features=14, max_depth=14, total=   0.0s\n",
      "[CV] max_features=3, max_depth=12 ....................................\n",
      "[CV] ..................... max_features=3, max_depth=12, total=   0.0s\n",
      "[CV] max_features=3, max_depth=12 ....................................\n",
      "[CV] ..................... max_features=3, max_depth=12, total=   0.0s\n",
      "[CV] ..................... max_features=3, max_depth=12, total=   0.0s\n",
      "[CV] max_features=3, max_depth=18 ....................................\n",
      "[CV] ..................... max_features=20, max_depth=6, total=   0.1s\n",
      "[CV] max_features=3, max_depth=18 ....................................\n",
      "[CV] max_features=12, max_depth=10 ...................................\n",
      "[CV] .................... max_features=14, max_depth=14, total=   0.1s\n",
      "[CV] ..................... max_features=3, max_depth=18, total=   0.0s\n",
      "[CV] max_features=12, max_depth=10 ...................................\n",
      "[CV] max_features=18, max_depth=8 ....................................\n",
      "[CV] .................... max_features=12, max_depth=10, total=   0.0s\n",
      "[CV] max_features=12, max_depth=10 ...................................\n",
      "[CV] ..................... max_features=18, max_depth=8, total=   0.0s\n",
      "[CV] ..................... max_features=3, max_depth=18, total=   0.1s\n",
      "[CV] .................... max_features=12, max_depth=10, total=   0.0s\n",
      "[CV] max_features=18, max_depth=8 ....................................\n",
      "[CV] max_features=3, max_depth=18 ....................................\n",
      "[CV] max_features=18, max_depth=8 ....................................\n",
      "[CV] ..................... max_features=18, max_depth=8, total=   0.0s\n",
      "[CV] max_features=18, max_depth=12 ...................................\n",
      "[CV] .................... max_features=12, max_depth=10, total=   0.1s\n",
      "[CV] .................... max_features=18, max_depth=12, total=   0.0s\n",
      "[CV] ..................... max_features=18, max_depth=8, total=   0.0s\n"
     ]
    },
    {
     "name": "stdout",
     "output_type": "stream",
     "text": [
      "[CV] max_features=18, max_depth=12 ...................................\n",
      "[CV] ..................... max_features=3, max_depth=18, total=   0.1s\n",
      "[CV] max_features=20, max_depth=10 ...................................\n",
      "[CV] max_features=20, max_depth=10 ...................................\n",
      "[CV] .................... max_features=18, max_depth=12, total=   0.0s\n",
      "[CV] max_features=18, max_depth=12 ...................................\n",
      "[CV] max_features=12, max_depth=18 ...................................\n",
      "[CV] .................... max_features=20, max_depth=10, total=   0.0s\n",
      "[CV] max_features=12, max_depth=18 ...................................\n",
      "[CV] .................... max_features=12, max_depth=18, total=   0.0s\n",
      "[CV] max_features=12, max_depth=18 ...................................\n",
      "[CV] .................... max_features=18, max_depth=12, total=   0.0s\n",
      "[CV] max_features=10, max_depth=20 ...................................\n",
      "[CV] .................... max_features=20, max_depth=10, total=   0.1s\n",
      "[CV] max_features=20, max_depth=10 ...................................\n",
      "[CV] .................... max_features=12, max_depth=18, total=   0.0s\n",
      "[CV] .................... max_features=12, max_depth=18, total=   0.1s\n",
      "[CV] .................... max_features=10, max_depth=20, total=   0.0s\n",
      "[CV] max_features=10, max_depth=20 ...................................\n",
      "[CV] max_features=16, max_depth=18 ...................................\n"
     ]
    },
    {
     "name": "stderr",
     "output_type": "stream",
     "text": [
      "[Parallel(n_jobs=-1)]: Done  58 tasks      | elapsed:    1.2s\n"
     ]
    },
    {
     "name": "stdout",
     "output_type": "stream",
     "text": [
      "[CV] max_features=10, max_depth=20 ...................................\n",
      "[CV] .................... max_features=20, max_depth=10, total=   0.0s\n",
      "[CV] .................... max_features=10, max_depth=20, total=   0.0s\n",
      "[CV] max_features=16, max_depth=18 ...................................\n",
      "[CV] max_features=12, max_depth=4 ....................................\n",
      "[CV] .................... max_features=10, max_depth=20, total=   0.0s\n",
      "[CV] .................... max_features=16, max_depth=18, total=   0.0s\n",
      "[CV] max_features=16, max_depth=18 ...................................\n",
      "[CV] .................... max_features=16, max_depth=18, total=   0.0s\n",
      "[CV] max_features=12, max_depth=4 ....................................\n",
      "[CV] ..................... max_features=12, max_depth=4, total=   0.0s\n",
      "[CV] .................... max_features=16, max_depth=18, total=   0.0s\n",
      "[CV] ..................... max_features=12, max_depth=4, total=   0.0s\n",
      "[CV] max_features=8, max_depth=3 .....................................\n",
      "[CV] max_features=8, max_depth=3 .....................................\n",
      "[CV] max_features=12, max_depth=4 ....................................\n",
      "[CV] ...................... max_features=8, max_depth=3, total=   0.0s\n",
      "[CV] ...................... max_features=8, max_depth=3, total=   0.0s\n",
      "[CV] max_features=8, max_depth=3 .....................................\n",
      "[CV] ..................... max_features=12, max_depth=4, total=   0.0s\n",
      "[CV] max_features=10, max_depth=4 ....................................\n",
      "[CV] max_features=10, max_depth=4 ....................................\n",
      "[CV] ...................... max_features=8, max_depth=3, total=   0.0s\n",
      "[CV] max_features=8, max_depth=8 .....................................\n",
      "[CV] max_features=8, max_depth=6 .....................................\n",
      "[CV] ...................... max_features=8, max_depth=8, total=   0.0s\n",
      "[CV] max_features=8, max_depth=8 .....................................\n",
      "[CV] ..................... max_features=10, max_depth=4, total=   0.0s\n",
      "[CV] max_features=10, max_depth=4 ....................................\n",
      "[CV] ...................... max_features=8, max_depth=8, total=   0.0s\n",
      "[CV] ..................... max_features=10, max_depth=4, total=   0.0s\n",
      "[CV] max_features=8, max_depth=8 .....................................\n",
      "[CV] ..................... max_features=10, max_depth=4, total=   0.0s\n",
      "[CV] max_features=8, max_depth=6 .....................................\n",
      "[CV] ...................... max_features=8, max_depth=6, total=   0.0s\n",
      "[CV] max_features=10, max_depth=6 ....................................\n",
      "[CV] ...................... max_features=8, max_depth=6, total=   0.0s\n",
      "[CV] max_features=10, max_depth=6 ....................................\n",
      "[CV] ...................... max_features=8, max_depth=8, total=   0.0s\n",
      "[CV] max_features=8, max_depth=6 .....................................\n",
      "[CV] ...................... max_features=8, max_depth=6, total=   0.0s\n",
      "[CV] ..................... max_features=10, max_depth=6, total=   0.0s\n",
      "[CV] max_features=10, max_depth=6 ....................................\n",
      "[CV] ..................... max_features=10, max_depth=6, total=   0.0s\n",
      "[CV] ..................... max_features=10, max_depth=6, total=   0.0s\n"
     ]
    },
    {
     "name": "stderr",
     "output_type": "stream",
     "text": [
      "[Parallel(n_jobs=-1)]: Done  90 out of  90 | elapsed:    1.7s finished\n"
     ]
    },
    {
     "data": {
      "text/plain": [
       "0.64700000000000002"
      ]
     },
     "execution_count": 313,
     "metadata": {},
     "output_type": "execute_result"
    }
   ],
   "source": [
    "TreeCLF (mw_clust_X_train,mw_clust_y_train['HDDS_category'], mw_clust_X_test,mw_clust_y_test['HDDS_category'] )"
   ]
  },
  {
   "cell_type": "code",
   "execution_count": 314,
   "metadata": {},
   "outputs": [
    {
     "name": "stdout",
     "output_type": "stream",
     "text": [
      "Fitting 3 folds for each of 30 candidates, totalling 90 fits\n",
      "[CV] max_features=18, max_depth=3 ....................................\n",
      "[CV] max_features=18, max_depth=3 ....................................\n",
      "[CV] max_features=18, max_depth=3 ....................................\n",
      "[CV] ..................... max_features=18, max_depth=3, total=   0.0s\n",
      "[CV] max_features=8, max_depth=20 ....................................\n",
      "[CV] ..................... max_features=18, max_depth=3, total=   0.1s\n",
      "[CV] ..................... max_features=8, max_depth=20, total=   0.0s\n",
      "[CV] ..................... max_features=18, max_depth=3, total=   0.1s\n",
      "[CV] max_features=8, max_depth=20 ....................................\n",
      "[CV] max_features=8, max_depth=20 ....................................\n",
      "[CV] max_features=10, max_depth=3 ....................................\n",
      "[CV] ..................... max_features=10, max_depth=3, total=   0.0s\n",
      "[CV] max_features=10, max_depth=3 ....................................\n",
      "[CV] max_features=10, max_depth=3 ....................................\n",
      "[CV] ..................... max_features=8, max_depth=20, total=   0.1s\n",
      "[CV] ..................... max_features=10, max_depth=3, total=   0.0s\n",
      "[CV] ..................... max_features=8, max_depth=20, total=   0.1s\n",
      "[CV] max_features=6, max_depth=12 ....................................\n",
      "[CV] max_features=4, max_depth=10 ....................................\n",
      "[CV] ..................... max_features=6, max_depth=12, total=   0.0s\n",
      "[CV] max_features=6, max_depth=12 ....................................\n",
      "[CV] max_features=3, max_depth=3 .....................................\n",
      "[CV] ..................... max_features=4, max_depth=10, total=   0.0s\n",
      "[CV] max_features=4, max_depth=10 ....................................\n",
      "[CV] ...................... max_features=3, max_depth=3, total=   0.0s\n",
      "[CV] max_features=8, max_depth=16 ....................................\n",
      "[CV] ..................... max_features=10, max_depth=3, total=   0.1s\n",
      "[CV] max_features=12, max_depth=3 ....................................\n",
      "[CV] ..................... max_features=4, max_depth=10, total=   0.1s\n",
      "[CV] max_features=3, max_depth=3 .....................................\n",
      "[CV] ..................... max_features=8, max_depth=16, total=   0.0s\n",
      "[CV] ..................... max_features=6, max_depth=12, total=   0.0s\n",
      "[CV] ...................... max_features=3, max_depth=3, total=   0.0s\n",
      "[CV] max_features=3, max_depth=3 .....................................\n",
      "[CV] max_features=6, max_depth=12 ....................................\n",
      "[CV] max_features=8, max_depth=16 ....................................\n",
      "[CV] ..................... max_features=12, max_depth=3, total=   0.1s\n",
      "[CV] max_features=12, max_depth=3 ....................................\n",
      "[CV] ..................... max_features=6, max_depth=12, total=   0.0s\n",
      "[CV] ..................... max_features=8, max_depth=16, total=   0.0s\n",
      "[CV] max_features=8, max_depth=16 ....................................\n",
      "[CV] ..................... max_features=12, max_depth=3, total=   0.0s\n",
      "[CV] max_features=12, max_depth=3 ....................................\n",
      "[CV] ...................... max_features=3, max_depth=3, total=   0.0s\n",
      "[CV] max_features=4, max_depth=10 ....................................\n",
      "[CV] ..................... max_features=12, max_depth=3, total=   0.0s\n",
      "[CV] max_features=18, max_depth=18 ...................................\n",
      "[CV] ..................... max_features=8, max_depth=16, total=   0.0s\n",
      "[CV] ..................... max_features=4, max_depth=10, total=   0.0s\n",
      "[CV] max_features=18, max_depth=14 ...................................\n",
      "[CV] max_features=12, max_depth=6 ....................................\n",
      "[CV] .................... max_features=18, max_depth=18, total=   0.0s\n",
      "[CV] max_features=18, max_depth=18 ...................................\n",
      "[CV] max_features=14, max_depth=6 ....................................\n",
      "[CV] ..................... max_features=12, max_depth=6, total=   0.0s\n",
      "[CV] max_features=18, max_depth=4 ....................................\n",
      "[CV] .................... max_features=18, max_depth=18, total=   0.0s\n",
      "[CV] max_features=18, max_depth=18 ...................................\n",
      "[CV] ..................... max_features=14, max_depth=6, total=   0.0s\n",
      "[CV] max_features=14, max_depth=6 ....................................\n",
      "[CV] .................... max_features=18, max_depth=14, total=   0.1s\n",
      "[CV] ..................... max_features=18, max_depth=4, total=   0.0s\n",
      "[CV] max_features=18, max_depth=14 ...................................\n",
      "[CV] max_features=18, max_depth=4 ....................................\n",
      "[CV] ..................... max_features=14, max_depth=6, total=   0.0s\n",
      "[CV] .................... max_features=18, max_depth=18, total=   0.1s\n",
      "[CV] max_features=18, max_depth=14 ...................................\n",
      "[CV] max_features=14, max_depth=6 ....................................\n",
      "[CV] .................... max_features=18, max_depth=14, total=   0.0s\n",
      "[CV] ..................... max_features=18, max_depth=4, total=   0.1s\n",
      "[CV] .................... max_features=18, max_depth=14, total=   0.1s\n",
      "[CV] max_features=18, max_depth=4 ....................................\n",
      "[CV] max_features=12, max_depth=6 ....................................\n",
      "[CV] ..................... max_features=18, max_depth=4, total=   0.0s\n",
      "[CV] max_features=20, max_depth=6 ....................................\n",
      "[CV] ..................... max_features=14, max_depth=6, total=   0.1s\n",
      "[CV] max_features=20, max_depth=6 ....................................\n",
      "[CV] max_features=14, max_depth=14 ...................................\n",
      "[CV] ..................... max_features=12, max_depth=6, total=   0.0s\n",
      "[CV] max_features=12, max_depth=6 ....................................\n",
      "[CV] ..................... max_features=20, max_depth=6, total=   0.0s\n",
      "[CV] ..................... max_features=12, max_depth=6, total=   0.0s\n",
      "[CV] max_features=3, max_depth=18 ....................................\n",
      "[CV] ..................... max_features=20, max_depth=6, total=   0.0s\n",
      "[CV] max_features=20, max_depth=6 ....................................\n",
      "[CV] .................... max_features=14, max_depth=14, total=   0.1s\n",
      "[CV] max_features=3, max_depth=12 ....................................\n",
      "[CV] max_features=12, max_depth=10 ...................................\n",
      "[CV] ..................... max_features=20, max_depth=6, total=   0.0s\n",
      "[CV] .................... max_features=12, max_depth=10, total=   0.0s\n",
      "[CV] max_features=12, max_depth=10 ...................................\n",
      "[CV] max_features=14, max_depth=14 ...................................\n",
      "[CV] ..................... max_features=3, max_depth=18, total=   0.1s\n",
      "[CV] max_features=3, max_depth=18 ....................................\n",
      "[CV] ..................... max_features=3, max_depth=12, total=   0.1s\n",
      "[CV] max_features=3, max_depth=12 ....................................\n",
      "[CV] .................... max_features=14, max_depth=14, total=   0.0s\n",
      "[CV] max_features=14, max_depth=14 ...................................\n",
      "[CV] ..................... max_features=3, max_depth=18, total=   0.0s\n",
      "[CV] ..................... max_features=3, max_depth=12, total=   0.0s\n",
      "[CV] .................... max_features=12, max_depth=10, total=   0.1s\n",
      "[CV] max_features=3, max_depth=12 ....................................\n",
      "[CV] max_features=18, max_depth=8 ....................................\n",
      "[CV] max_features=3, max_depth=18 ....................................\n",
      "[CV] .................... max_features=14, max_depth=14, total=   0.1s\n",
      "[CV] ..................... max_features=3, max_depth=18, total=   0.0s\n",
      "[CV] ..................... max_features=3, max_depth=12, total=   0.0s\n",
      "[CV] max_features=12, max_depth=10 ...................................\n",
      "[CV] ..................... max_features=18, max_depth=8, total=   0.0s\n",
      "[CV] max_features=18, max_depth=8 ....................................\n",
      "[CV] max_features=18, max_depth=8 ....................................\n",
      "[CV] .................... max_features=12, max_depth=10, total=   0.0s\n",
      "[CV] max_features=20, max_depth=10 ...................................\n",
      "[CV] ..................... max_features=18, max_depth=8, total=   0.0s\n",
      "[CV] max_features=18, max_depth=12 ...................................\n"
     ]
    },
    {
     "name": "stdout",
     "output_type": "stream",
     "text": [
      "[CV] max_features=12, max_depth=18 ...................................\n",
      "[CV] ..................... max_features=18, max_depth=8, total=   0.0s\n",
      "[CV] .................... max_features=20, max_depth=10, total=   0.0s\n",
      "[CV] max_features=20, max_depth=10 ...................................\n",
      "[CV] max_features=10, max_depth=20 ...................................\n",
      "[CV] .................... max_features=10, max_depth=20, total=   0.0s\n",
      "[CV] max_features=16, max_depth=18 ...................................\n",
      "[CV] .................... max_features=12, max_depth=18, total=   0.1s\n",
      "[CV] .................... max_features=18, max_depth=12, total=   0.0s\n",
      "[CV] max_features=12, max_depth=18 ...................................\n",
      "[CV] max_features=18, max_depth=12 ...................................\n",
      "[CV] .................... max_features=20, max_depth=10, total=   0.1s\n",
      "[CV] max_features=20, max_depth=10 ...................................\n",
      "[CV] .................... max_features=16, max_depth=18, total=   0.1s\n",
      "[CV] .................... max_features=18, max_depth=12, total=   0.0s\n",
      "[CV] .................... max_features=12, max_depth=18, total=   0.1s\n",
      "[CV] max_features=18, max_depth=12 ...................................\n",
      "[CV] max_features=10, max_depth=20 ...................................\n",
      "[CV] max_features=16, max_depth=18 ...................................\n",
      "[CV] .................... max_features=20, max_depth=10, total=   0.0s\n",
      "[CV] max_features=12, max_depth=18 ...................................\n",
      "[CV] .................... max_features=18, max_depth=12, total=   0.0s\n",
      "[CV] .................... max_features=10, max_depth=20, total=   0.0s\n",
      "[CV] .................... max_features=16, max_depth=18, total=   0.0s\n",
      "[CV] max_features=12, max_depth=4 ....................................\n",
      "[CV] max_features=16, max_depth=18 ...................................\n",
      "[CV] max_features=10, max_depth=20 ...................................\n",
      "[CV] .................... max_features=12, max_depth=18, total=   0.0s\n",
      "[CV] max_features=8, max_depth=3 .....................................\n",
      "[CV] .................... max_features=10, max_depth=20, total=   0.0s\n",
      "[CV] .................... max_features=16, max_depth=18, total=   0.0s\n",
      "[CV] max_features=10, max_depth=4 ....................................\n",
      "[CV] max_features=8, max_depth=6 .....................................\n",
      "[CV] ..................... max_features=12, max_depth=4, total=   0.0s\n",
      "[CV] max_features=12, max_depth=4 ....................................\n",
      "[CV] ...................... max_features=8, max_depth=6, total=   0.0s\n",
      "[CV] ...................... max_features=8, max_depth=3, total=   0.0s\n",
      "[CV] max_features=8, max_depth=6 .....................................\n",
      "[CV] max_features=8, max_depth=3 .....................................\n",
      "[CV] ..................... max_features=10, max_depth=4, total=   0.1s\n",
      "[CV] ..................... max_features=12, max_depth=4, total=   0.0s\n",
      "[CV] max_features=12, max_depth=4 ....................................\n",
      "[CV] max_features=8, max_depth=8 .....................................\n",
      "[CV] ...................... max_features=8, max_depth=3, total=   0.0s\n",
      "[CV] max_features=10, max_depth=4 ....................................\n",
      "[CV] ..................... max_features=12, max_depth=4, total=   0.0s\n",
      "[CV] ...................... max_features=8, max_depth=8, total=   0.0s\n",
      "[CV] max_features=8, max_depth=8 .....................................\n",
      "[CV] max_features=8, max_depth=3 .....................................\n",
      "[CV] ...................... max_features=8, max_depth=8, total=   0.0s\n",
      "[CV] ...................... max_features=8, max_depth=6, total=   0.1s\n",
      "[CV] ..................... max_features=10, max_depth=4, total=   0.0s\n",
      "[CV] ...................... max_features=8, max_depth=3, total=   0.0s\n",
      "[CV] max_features=8, max_depth=6 .....................................\n",
      "[CV] max_features=10, max_depth=4 ....................................\n",
      "[CV] ...................... max_features=8, max_depth=6, total=   0.0s\n",
      "[CV] max_features=10, max_depth=6 ....................................\n",
      "[CV] ..................... max_features=10, max_depth=4, total=   0.0s\n",
      "[CV] max_features=8, max_depth=8 .....................................\n",
      "[CV] max_features=10, max_depth=6 ....................................\n",
      "[CV] ...................... max_features=8, max_depth=8, total=   0.0s\n",
      "[CV] ..................... max_features=10, max_depth=6, total=   0.0s\n",
      "[CV] max_features=10, max_depth=6 ....................................\n",
      "[CV] ..................... max_features=10, max_depth=6, total=   0.0s\n",
      "[CV] ..................... max_features=10, max_depth=6, total=   0.0s\n"
     ]
    },
    {
     "name": "stderr",
     "output_type": "stream",
     "text": [
      "[Parallel(n_jobs=-1)]: Done  90 out of  90 | elapsed:    1.6s finished\n"
     ]
    },
    {
     "data": {
      "text/plain": [
       "0.38"
      ]
     },
     "execution_count": 314,
     "metadata": {},
     "output_type": "execute_result"
    }
   ],
   "source": [
    "TreeCLF (mw_clust_X_train,mw_clust_y_train['rCSI_category'], mw_clust_X_test,mw_clust_y_test['rCSI_category'] )\n"
   ]
  },
  {
   "cell_type": "code",
   "execution_count": 319,
   "metadata": {},
   "outputs": [
    {
     "name": "stdout",
     "output_type": "stream",
     "text": [
      "Fitting 3 folds for each of 30 candidates, totalling 90 fits\n",
      "[CV] max_features=18, max_depth=3 ....................................\n",
      "[CV] max_features=18, max_depth=3 ....................................\n",
      "[CV] max_features=18, max_depth=3 ....................................\n",
      "[CV] max_features=8, max_depth=20 ....................................\n",
      "[CV] ..................... max_features=18, max_depth=3, total=   0.7s\n",
      "[CV] max_features=8, max_depth=20 ....................................\n",
      "[CV] ..................... max_features=18, max_depth=3, total=   0.8s\n",
      "[CV] ..................... max_features=18, max_depth=3, total=   0.8s\n",
      "[CV] max_features=8, max_depth=20 ....................................\n",
      "[CV] max_features=10, max_depth=3 ....................................\n",
      "[CV] ..................... max_features=8, max_depth=20, total=   1.0s\n",
      "[CV] max_features=10, max_depth=3 ....................................\n",
      "[CV] ..................... max_features=10, max_depth=3, total=   0.7s\n",
      "[CV] max_features=10, max_depth=3 ....................................\n",
      "[CV] ..................... max_features=8, max_depth=20, total=   1.0s\n",
      "[CV] ..................... max_features=10, max_depth=3, total=   0.7s\n",
      "[CV] max_features=12, max_depth=3 ....................................\n",
      "[CV] max_features=12, max_depth=3 ....................................\n",
      "[CV] ..................... max_features=8, max_depth=20, total=   1.1s\n",
      "[CV] max_features=12, max_depth=3 ....................................\n",
      "[CV] ..................... max_features=10, max_depth=3, total=   0.8s\n",
      "[CV] max_features=6, max_depth=12 ....................................\n",
      "[CV] ..................... max_features=12, max_depth=3, total=   0.7s\n",
      "[CV] max_features=6, max_depth=12 ....................................\n",
      "[CV] ..................... max_features=12, max_depth=3, total=   0.8s\n",
      "[CV] max_features=6, max_depth=12 ....................................\n",
      "[CV] ..................... max_features=12, max_depth=3, total=   0.7s\n",
      "[CV] max_features=4, max_depth=10 ....................................\n",
      "[CV] ..................... max_features=6, max_depth=12, total=   0.9s\n",
      "[CV] max_features=4, max_depth=10 ....................................\n",
      "[CV] ..................... max_features=6, max_depth=12, total=   0.9s\n",
      "[CV] max_features=4, max_depth=10 ....................................\n",
      "[CV] ..................... max_features=4, max_depth=10, total=   0.7s\n",
      "[CV] ..................... max_features=6, max_depth=12, total=   0.8s\n",
      "[CV] max_features=3, max_depth=3 .....................................\n",
      "[CV] max_features=3, max_depth=3 .....................................\n",
      "[CV] ..................... max_features=4, max_depth=10, total=   0.9s\n",
      "[CV] max_features=3, max_depth=3 .....................................\n",
      "[CV] ...................... max_features=3, max_depth=3, total=   0.7s\n",
      "[CV] ...................... max_features=3, max_depth=3, total=   0.7s\n",
      "[CV] max_features=8, max_depth=16 ....................................\n",
      "[CV] max_features=8, max_depth=16 ....................................\n",
      "[CV] ..................... max_features=4, max_depth=10, total=   0.9s\n",
      "[CV] max_features=8, max_depth=16 ....................................\n",
      "[CV] ...................... max_features=3, max_depth=3, total=   0.7s\n",
      "[CV] max_features=18, max_depth=18 ...................................\n",
      "[CV] ..................... max_features=8, max_depth=16, total=   1.3s\n",
      "[CV] ..................... max_features=8, max_depth=16, total=   1.3s\n",
      "[CV] max_features=18, max_depth=18 ...................................\n",
      "[CV] max_features=18, max_depth=18 ...................................\n",
      "[CV] ..................... max_features=8, max_depth=16, total=   1.3s\n",
      "[CV] max_features=18, max_depth=14 ...................................\n",
      "[CV] .................... max_features=18, max_depth=18, total=   1.6s\n",
      "[CV] max_features=18, max_depth=14 ...................................\n",
      "[CV] .................... max_features=18, max_depth=18, total=   1.4s\n",
      "[CV] max_features=18, max_depth=14 ...................................\n",
      "[CV] .................... max_features=18, max_depth=18, total=   1.4s\n",
      "[CV] max_features=12, max_depth=6 ....................................\n",
      "[CV] .................... max_features=18, max_depth=14, total=   1.4s\n",
      "[CV] max_features=12, max_depth=6 ....................................\n",
      "[CV] .................... max_features=18, max_depth=14, total=   1.4s\n",
      "[CV] max_features=12, max_depth=6 ....................................\n",
      "[CV] ..................... max_features=12, max_depth=6, total=   0.9s\n",
      "[CV] max_features=18, max_depth=4 ....................................\n",
      "[CV] ..................... max_features=12, max_depth=6, total=   0.9s\n",
      "[CV] max_features=18, max_depth=4 ....................................\n",
      "[CV] .................... max_features=18, max_depth=14, total=   1.4s\n",
      "[CV] max_features=18, max_depth=4 ....................................\n",
      "[CV] ..................... max_features=12, max_depth=6, total=   1.0s\n",
      "[CV] max_features=14, max_depth=6 ....................................\n",
      "[CV] ..................... max_features=18, max_depth=4, total=   0.9s\n",
      "[CV] max_features=14, max_depth=6 ....................................\n",
      "[CV] ..................... max_features=18, max_depth=4, total=   0.9s\n",
      "[CV] max_features=14, max_depth=6 ....................................\n"
     ]
    },
    {
     "name": "stderr",
     "output_type": "stream",
     "text": [
      "[Parallel(n_jobs=-1)]: Done  33 tasks      | elapsed:    9.8s\n"
     ]
    },
    {
     "name": "stdout",
     "output_type": "stream",
     "text": [
      "[CV] ..................... max_features=18, max_depth=4, total=   0.9s\n",
      "[CV] max_features=20, max_depth=6 ....................................\n",
      "[CV] ..................... max_features=14, max_depth=6, total=   1.0s\n",
      "[CV] max_features=20, max_depth=6 ....................................\n",
      "[CV] ..................... max_features=14, max_depth=6, total=   1.0s\n",
      "[CV] max_features=20, max_depth=6 ....................................\n",
      "[CV] ..................... max_features=14, max_depth=6, total=   1.0s\n",
      "[CV] max_features=14, max_depth=14 ...................................\n",
      "[CV] ..................... max_features=20, max_depth=6, total=   1.2s\n",
      "[CV] max_features=14, max_depth=14 ...................................\n",
      "[CV] ..................... max_features=20, max_depth=6, total=   1.3s\n",
      "[CV] max_features=14, max_depth=14 ...................................\n",
      "[CV] ..................... max_features=20, max_depth=6, total=   1.3s\n",
      "[CV] max_features=3, max_depth=12 ....................................\n",
      "[CV] .................... max_features=14, max_depth=14, total=   1.3s\n",
      "[CV] max_features=3, max_depth=12 ....................................\n",
      "[CV] .................... max_features=14, max_depth=14, total=   1.3s\n",
      "[CV] max_features=3, max_depth=12 ....................................\n",
      "[CV] ..................... max_features=3, max_depth=12, total=   0.8s\n",
      "[CV] max_features=3, max_depth=18 ....................................\n",
      "[CV] ..................... max_features=3, max_depth=12, total=   0.8s\n",
      "[CV] max_features=3, max_depth=18 ....................................\n",
      "[CV] .................... max_features=14, max_depth=14, total=   1.2s\n",
      "[CV] max_features=3, max_depth=18 ....................................\n",
      "[CV] ..................... max_features=3, max_depth=12, total=   0.8s\n",
      "[CV] max_features=12, max_depth=10 ...................................\n",
      "[CV] ..................... max_features=3, max_depth=18, total=   1.0s\n",
      "[CV] max_features=12, max_depth=10 ...................................\n",
      "[CV] ..................... max_features=3, max_depth=18, total=   1.0s\n",
      "[CV] max_features=12, max_depth=10 ...................................\n",
      "[CV] ..................... max_features=3, max_depth=18, total=   1.0s\n",
      "[CV] max_features=18, max_depth=8 ....................................\n",
      "[CV] .................... max_features=12, max_depth=10, total=   1.2s\n",
      "[CV] max_features=18, max_depth=8 ....................................\n",
      "[CV] .................... max_features=12, max_depth=10, total=   1.2s\n",
      "[CV] max_features=18, max_depth=8 ....................................\n",
      "[CV] .................... max_features=12, max_depth=10, total=   1.3s\n",
      "[CV] max_features=18, max_depth=12 ...................................\n",
      "[CV] ..................... max_features=18, max_depth=8, total=   1.4s\n",
      "[CV] max_features=18, max_depth=12 ...................................\n",
      "[CV] ..................... max_features=18, max_depth=8, total=   1.6s\n",
      "[CV] max_features=18, max_depth=12 ...................................\n",
      "[CV] ..................... max_features=18, max_depth=8, total=   1.5s\n",
      "[CV] max_features=20, max_depth=10 ...................................\n",
      "[CV] .................... max_features=18, max_depth=12, total=   1.5s\n",
      "[CV] max_features=20, max_depth=10 ...................................\n",
      "[CV] .................... max_features=18, max_depth=12, total=   1.4s\n",
      "[CV] max_features=20, max_depth=10 ...................................\n",
      "[CV] .................... max_features=18, max_depth=12, total=   1.3s\n",
      "[CV] max_features=12, max_depth=18 ...................................\n",
      "[CV] .................... max_features=20, max_depth=10, total=   1.3s\n",
      "[CV] max_features=12, max_depth=18 ...................................\n",
      "[CV] .................... max_features=20, max_depth=10, total=   1.3s\n",
      "[CV] max_features=12, max_depth=18 ...................................\n",
      "[CV] .................... max_features=20, max_depth=10, total=   1.3s\n",
      "[CV] max_features=10, max_depth=20 ...................................\n",
      "[CV] .................... max_features=12, max_depth=18, total=   1.5s\n",
      "[CV] max_features=10, max_depth=20 ...................................\n",
      "[CV] .................... max_features=12, max_depth=18, total=   1.6s\n",
      "[CV] max_features=10, max_depth=20 ...................................\n",
      "[CV] .................... max_features=12, max_depth=18, total=   1.6s\n",
      "[CV] max_features=16, max_depth=18 ...................................\n",
      "[CV] .................... max_features=10, max_depth=20, total=   1.4s\n",
      "[CV] max_features=16, max_depth=18 ...................................\n",
      "[CV] .................... max_features=10, max_depth=20, total=   1.3s\n",
      "[CV] max_features=16, max_depth=18 ...................................\n",
      "[CV] .................... max_features=10, max_depth=20, total=   1.3s\n",
      "[CV] max_features=12, max_depth=4 ....................................\n",
      "[CV] .................... max_features=16, max_depth=18, total=   1.5s\n",
      "[CV] max_features=12, max_depth=4 ....................................\n",
      "[CV] .................... max_features=16, max_depth=18, total=   1.4s\n",
      "[CV] max_features=12, max_depth=4 ....................................\n",
      "[CV] .................... max_features=16, max_depth=18, total=   1.8s\n",
      "[CV] ..................... max_features=12, max_depth=4, total=   1.3s\n",
      "[CV] max_features=8, max_depth=3 .....................................\n",
      "[CV] max_features=8, max_depth=3 .....................................\n",
      "[CV] ..................... max_features=12, max_depth=4, total=   1.4s\n",
      "[CV] max_features=8, max_depth=3 .....................................\n",
      "[CV] ..................... max_features=12, max_depth=4, total=   1.1s\n",
      "[CV] max_features=10, max_depth=4 ....................................\n",
      "[CV] ...................... max_features=8, max_depth=3, total=   0.9s\n",
      "[CV] max_features=10, max_depth=4 ....................................\n",
      "[CV] ...................... max_features=8, max_depth=3, total=   0.8s\n",
      "[CV] max_features=10, max_depth=4 ....................................\n",
      "[CV] ...................... max_features=8, max_depth=3, total=   0.9s\n",
      "[CV] max_features=8, max_depth=8 .....................................\n",
      "[CV] ..................... max_features=10, max_depth=4, total=   1.0s\n",
      "[CV] max_features=8, max_depth=8 .....................................\n",
      "[CV] ..................... max_features=10, max_depth=4, total=   0.8s\n",
      "[CV] ..................... max_features=10, max_depth=4, total=   0.9s\n",
      "[CV] max_features=8, max_depth=8 .....................................\n",
      "[CV] max_features=8, max_depth=6 .....................................\n",
      "[CV] ...................... max_features=8, max_depth=8, total=   1.0s\n",
      "[CV] max_features=8, max_depth=6 .....................................\n",
      "[CV] ...................... max_features=8, max_depth=8, total=   1.0s\n",
      "[CV] max_features=8, max_depth=6 .....................................\n",
      "[CV] ...................... max_features=8, max_depth=6, total=   1.0s\n",
      "[CV] max_features=10, max_depth=6 ....................................\n",
      "[CV] ...................... max_features=8, max_depth=8, total=   1.1s\n",
      "[CV] max_features=10, max_depth=6 ....................................\n",
      "[CV] ...................... max_features=8, max_depth=6, total=   1.2s\n",
      "[CV] max_features=10, max_depth=6 ....................................\n",
      "[CV] ...................... max_features=8, max_depth=6, total=   1.1s\n",
      "[CV] ..................... max_features=10, max_depth=6, total=   1.1s\n",
      "[CV] ..................... max_features=10, max_depth=6, total=   1.1s\n",
      "[CV] ..................... max_features=10, max_depth=6, total=   1.1s\n"
     ]
    },
    {
     "name": "stderr",
     "output_type": "stream",
     "text": [
      "[Parallel(n_jobs=-1)]: Done  90 out of  90 | elapsed:   28.5s finished\n"
     ]
    },
    {
     "data": {
      "text/plain": [
       "0.69399999999999995"
      ]
     },
     "execution_count": 319,
     "metadata": {},
     "output_type": "execute_result"
    }
   ],
   "source": [
    "rfCLF (mw_clust_X_train,mw_clust_y_train['FCS_category'], mw_clust_X_test,mw_clust_y_test['FCS_category'] )"
   ]
  },
  {
   "cell_type": "code",
   "execution_count": 320,
   "metadata": {},
   "outputs": [
    {
     "name": "stdout",
     "output_type": "stream",
     "text": [
      "Fitting 3 folds for each of 30 candidates, totalling 90 fits\n",
      "[CV] max_features=18, max_depth=3 ....................................\n",
      "[CV] max_features=18, max_depth=3 ....................................\n",
      "[CV] max_features=18, max_depth=3 ....................................\n",
      "[CV] max_features=8, max_depth=20 ....................................\n",
      "[CV] ..................... max_features=18, max_depth=3, total=   0.9s\n",
      "[CV] max_features=8, max_depth=20 ....................................\n",
      "[CV] ..................... max_features=18, max_depth=3, total=   0.9s\n",
      "[CV] max_features=8, max_depth=20 ....................................\n",
      "[CV] ..................... max_features=18, max_depth=3, total=   0.9s\n",
      "[CV] max_features=10, max_depth=3 ....................................\n",
      "[CV] ..................... max_features=8, max_depth=20, total=   1.2s\n",
      "[CV] max_features=10, max_depth=3 ....................................\n",
      "[CV] ..................... max_features=10, max_depth=3, total=   0.8s\n",
      "[CV] max_features=10, max_depth=3 ....................................\n",
      "[CV] ..................... max_features=10, max_depth=3, total=   0.8s\n",
      "[CV] max_features=12, max_depth=3 ....................................\n",
      "[CV] ..................... max_features=8, max_depth=20, total=   1.2s\n",
      "[CV] ..................... max_features=8, max_depth=20, total=   1.1s\n",
      "[CV] max_features=12, max_depth=3 ....................................\n",
      "[CV] max_features=12, max_depth=3 ....................................\n",
      "[CV] ..................... max_features=10, max_depth=3, total=   0.9s\n",
      "[CV] max_features=6, max_depth=12 ....................................\n",
      "[CV] ..................... max_features=12, max_depth=3, total=   0.9s\n",
      "[CV] max_features=6, max_depth=12 ....................................\n",
      "[CV] ..................... max_features=12, max_depth=3, total=   0.9s\n",
      "[CV] ..................... max_features=12, max_depth=3, total=   0.9s\n",
      "[CV] max_features=6, max_depth=12 ....................................\n",
      "[CV] max_features=4, max_depth=10 ....................................\n",
      "[CV] ..................... max_features=6, max_depth=12, total=   0.9s\n",
      "[CV] max_features=4, max_depth=10 ....................................\n",
      "[CV] ..................... max_features=4, max_depth=10, total=   0.8s\n",
      "[CV] ..................... max_features=6, max_depth=12, total=   1.0s\n",
      "[CV] max_features=4, max_depth=10 ....................................\n",
      "[CV] max_features=3, max_depth=3 .....................................\n",
      "[CV] ..................... max_features=6, max_depth=12, total=   0.9s\n",
      "[CV] max_features=3, max_depth=3 .....................................\n",
      "[CV] ...................... max_features=3, max_depth=3, total=   0.7s\n",
      "[CV] max_features=3, max_depth=3 .....................................\n",
      "[CV] ..................... max_features=4, max_depth=10, total=   0.9s\n",
      "[CV] ...................... max_features=3, max_depth=3, total=   0.6s\n",
      "[CV] max_features=8, max_depth=16 ....................................\n",
      "[CV] max_features=8, max_depth=16 ....................................\n",
      "[CV] ..................... max_features=4, max_depth=10, total=   0.8s\n",
      "[CV] max_features=8, max_depth=16 ....................................\n",
      "[CV] ...................... max_features=3, max_depth=3, total=   0.6s\n",
      "[CV] max_features=18, max_depth=18 ...................................\n",
      "[CV] ..................... max_features=8, max_depth=16, total=   0.9s\n",
      "[CV] max_features=18, max_depth=18 ...................................\n",
      "[CV] ..................... max_features=8, max_depth=16, total=   0.9s\n",
      "[CV] max_features=18, max_depth=18 ...................................\n",
      "[CV] ..................... max_features=8, max_depth=16, total=   0.9s\n",
      "[CV] max_features=18, max_depth=14 ...................................\n",
      "[CV] .................... max_features=18, max_depth=18, total=   1.1s\n",
      "[CV] max_features=18, max_depth=14 ...................................\n",
      "[CV] .................... max_features=18, max_depth=18, total=   1.1s\n",
      "[CV] max_features=18, max_depth=14 ...................................\n",
      "[CV] .................... max_features=18, max_depth=18, total=   1.2s\n",
      "[CV] max_features=12, max_depth=6 ....................................\n",
      "[CV] .................... max_features=18, max_depth=14, total=   1.1s\n",
      "[CV] max_features=12, max_depth=6 ....................................\n",
      "[CV] .................... max_features=18, max_depth=14, total=   1.1s\n",
      "[CV] max_features=12, max_depth=6 ....................................\n",
      "[CV] ..................... max_features=12, max_depth=6, total=   0.9s\n",
      "[CV] max_features=18, max_depth=4 ....................................\n",
      "[CV] ..................... max_features=12, max_depth=6, total=   0.9s\n",
      "[CV] max_features=18, max_depth=4 ....................................\n",
      "[CV] .................... max_features=18, max_depth=14, total=   1.2s\n",
      "[CV] max_features=18, max_depth=4 ....................................\n",
      "[CV] ..................... max_features=12, max_depth=6, total=   0.9s\n",
      "[CV] max_features=14, max_depth=6 ....................................\n"
     ]
    },
    {
     "name": "stderr",
     "output_type": "stream",
     "text": [
      "[Parallel(n_jobs=-1)]: Done  33 tasks      | elapsed:    9.2s\n"
     ]
    },
    {
     "name": "stdout",
     "output_type": "stream",
     "text": [
      "[CV] ..................... max_features=18, max_depth=4, total=   0.9s\n",
      "[CV] max_features=14, max_depth=6 ....................................\n",
      "[CV] ..................... max_features=18, max_depth=4, total=   0.9s\n",
      "[CV] max_features=14, max_depth=6 ....................................\n",
      "[CV] ..................... max_features=18, max_depth=4, total=   1.0s\n",
      "[CV] max_features=20, max_depth=6 ....................................\n",
      "[CV] ..................... max_features=14, max_depth=6, total=   1.2s\n",
      "[CV] max_features=20, max_depth=6 ....................................\n",
      "[CV] ..................... max_features=14, max_depth=6, total=   1.2s\n",
      "[CV] max_features=20, max_depth=6 ....................................\n",
      "[CV] ..................... max_features=14, max_depth=6, total=   1.2s\n",
      "[CV] max_features=14, max_depth=14 ...................................\n",
      "[CV] ..................... max_features=20, max_depth=6, total=   1.2s\n",
      "[CV] max_features=14, max_depth=14 ...................................\n",
      "[CV] ..................... max_features=20, max_depth=6, total=   1.3s\n",
      "[CV] max_features=14, max_depth=14 ...................................\n",
      "[CV] ..................... max_features=20, max_depth=6, total=   1.5s\n",
      "[CV] max_features=3, max_depth=12 ....................................\n",
      "[CV] .................... max_features=14, max_depth=14, total=   1.4s\n",
      "[CV] max_features=3, max_depth=12 ....................................\n",
      "[CV] .................... max_features=14, max_depth=14, total=   1.3s\n",
      "[CV] max_features=3, max_depth=12 ....................................\n",
      "[CV] ..................... max_features=3, max_depth=12, total=   0.8s\n",
      "[CV] max_features=3, max_depth=18 ....................................\n",
      "[CV] ..................... max_features=3, max_depth=12, total=   0.8s\n",
      "[CV] .................... max_features=14, max_depth=14, total=   1.2s\n",
      "[CV] max_features=3, max_depth=18 ....................................\n",
      "[CV] max_features=3, max_depth=18 ....................................\n",
      "[CV] ..................... max_features=3, max_depth=12, total=   0.8s\n",
      "[CV] max_features=12, max_depth=10 ...................................\n",
      "[CV] ..................... max_features=3, max_depth=18, total=   1.0s\n",
      "[CV] ..................... max_features=3, max_depth=18, total=   0.9s\n",
      "[CV] max_features=12, max_depth=10 ...................................\n",
      "[CV] max_features=12, max_depth=10 ...................................\n",
      "[CV] ..................... max_features=3, max_depth=18, total=   0.9s\n",
      "[CV] max_features=18, max_depth=8 ....................................\n",
      "[CV] .................... max_features=12, max_depth=10, total=   1.1s\n",
      "[CV] max_features=18, max_depth=8 ....................................\n",
      "[CV] .................... max_features=12, max_depth=10, total=   1.1s\n",
      "[CV] max_features=18, max_depth=8 ....................................\n",
      "[CV] .................... max_features=12, max_depth=10, total=   1.0s\n",
      "[CV] max_features=18, max_depth=12 ...................................\n",
      "[CV] ..................... max_features=18, max_depth=8, total=   1.3s\n",
      "[CV] max_features=18, max_depth=12 ...................................\n",
      "[CV] ..................... max_features=18, max_depth=8, total=   1.3s\n",
      "[CV] max_features=18, max_depth=12 ...................................\n",
      "[CV] ..................... max_features=18, max_depth=8, total=   1.7s\n",
      "[CV] max_features=20, max_depth=10 ...................................\n",
      "[CV] .................... max_features=18, max_depth=12, total=   1.6s\n",
      "[CV] max_features=20, max_depth=10 ...................................\n",
      "[CV] .................... max_features=18, max_depth=12, total=   1.7s\n",
      "[CV] max_features=20, max_depth=10 ...................................\n",
      "[CV] .................... max_features=18, max_depth=12, total=   1.7s\n",
      "[CV] max_features=12, max_depth=18 ...................................\n",
      "[CV] .................... max_features=20, max_depth=10, total=   1.3s\n",
      "[CV] max_features=12, max_depth=18 ...................................\n",
      "[CV] .................... max_features=20, max_depth=10, total=   1.3s\n",
      "[CV] max_features=12, max_depth=18 ...................................\n",
      "[CV] .................... max_features=20, max_depth=10, total=   1.3s\n",
      "[CV] max_features=10, max_depth=20 ...................................\n",
      "[CV] .................... max_features=12, max_depth=18, total=   1.0s\n",
      "[CV] max_features=10, max_depth=20 ...................................\n",
      "[CV] .................... max_features=12, max_depth=18, total=   1.0s\n",
      "[CV] max_features=10, max_depth=20 ...................................\n",
      "[CV] .................... max_features=12, max_depth=18, total=   1.1s\n",
      "[CV] max_features=16, max_depth=18 ...................................\n",
      "[CV] .................... max_features=10, max_depth=20, total=   1.0s\n",
      "[CV] max_features=16, max_depth=18 ...................................\n",
      "[CV] .................... max_features=10, max_depth=20, total=   0.9s\n",
      "[CV] max_features=16, max_depth=18 ...................................\n",
      "[CV] .................... max_features=10, max_depth=20, total=   1.0s\n",
      "[CV] max_features=12, max_depth=4 ....................................\n",
      "[CV] .................... max_features=16, max_depth=18, total=   1.0s\n",
      "[CV] max_features=12, max_depth=4 ....................................\n",
      "[CV] .................... max_features=16, max_depth=18, total=   1.0s\n",
      "[CV] max_features=12, max_depth=4 ....................................\n",
      "[CV] .................... max_features=16, max_depth=18, total=   1.1s\n",
      "[CV] max_features=8, max_depth=3 .....................................\n",
      "[CV] ..................... max_features=12, max_depth=4, total=   0.9s\n",
      "[CV] max_features=8, max_depth=3 .....................................\n",
      "[CV] ..................... max_features=12, max_depth=4, total=   0.9s\n",
      "[CV] max_features=8, max_depth=3 .....................................\n",
      "[CV] ..................... max_features=12, max_depth=4, total=   0.9s\n",
      "[CV] max_features=10, max_depth=4 ....................................\n",
      "[CV] ...................... max_features=8, max_depth=3, total=   0.9s\n",
      "[CV] max_features=10, max_depth=4 ....................................\n",
      "[CV] ...................... max_features=8, max_depth=3, total=   0.8s\n",
      "[CV] max_features=10, max_depth=4 ....................................\n",
      "[CV] ...................... max_features=8, max_depth=3, total=   0.9s\n",
      "[CV] max_features=8, max_depth=8 .....................................\n",
      "[CV] ..................... max_features=10, max_depth=4, total=   0.9s\n",
      "[CV] max_features=8, max_depth=8 .....................................\n",
      "[CV] ..................... max_features=10, max_depth=4, total=   0.9s\n",
      "[CV] max_features=8, max_depth=8 .....................................\n",
      "[CV] ..................... max_features=10, max_depth=4, total=   1.2s\n",
      "[CV] max_features=8, max_depth=6 .....................................\n",
      "[CV] ...................... max_features=8, max_depth=8, total=   1.2s\n",
      "[CV] max_features=8, max_depth=6 .....................................\n",
      "[CV] ...................... max_features=8, max_depth=8, total=   1.3s\n",
      "[CV] max_features=8, max_depth=6 .....................................\n",
      "[CV] ...................... max_features=8, max_depth=8, total=   1.5s\n",
      "[CV] max_features=10, max_depth=6 ....................................\n",
      "[CV] ...................... max_features=8, max_depth=6, total=   1.3s\n",
      "[CV] max_features=10, max_depth=6 ....................................\n",
      "[CV] ...................... max_features=8, max_depth=6, total=   1.2s\n",
      "[CV] max_features=10, max_depth=6 ....................................\n",
      "[CV] ...................... max_features=8, max_depth=6, total=   1.1s\n",
      "[CV] ..................... max_features=10, max_depth=6, total=   0.9s\n",
      "[CV] ..................... max_features=10, max_depth=6, total=   0.9s\n",
      "[CV] ..................... max_features=10, max_depth=6, total=   0.9s\n"
     ]
    },
    {
     "name": "stderr",
     "output_type": "stream",
     "text": [
      "[Parallel(n_jobs=-1)]: Done  90 out of  90 | elapsed:   26.6s finished\n"
     ]
    },
    {
     "data": {
      "text/plain": [
       "0.72799999999999998"
      ]
     },
     "execution_count": 320,
     "metadata": {},
     "output_type": "execute_result"
    }
   ],
   "source": [
    "rfCLF (mw_clust_X_train,mw_clust_y_train['HDDS_category'], mw_clust_X_test,mw_clust_y_test['HDDS_category'] )"
   ]
  },
  {
   "cell_type": "code",
   "execution_count": 321,
   "metadata": {},
   "outputs": [
    {
     "name": "stdout",
     "output_type": "stream",
     "text": [
      "Fitting 3 folds for each of 30 candidates, totalling 90 fits\n",
      "[CV] max_features=18, max_depth=3 ....................................\n",
      "[CV] max_features=18, max_depth=3 ....................................\n",
      "[CV] max_features=18, max_depth=3 ....................................\n",
      "[CV] max_features=8, max_depth=20 ....................................\n",
      "[CV] ..................... max_features=18, max_depth=3, total=   0.9s\n",
      "[CV] max_features=8, max_depth=20 ....................................\n",
      "[CV] ..................... max_features=18, max_depth=3, total=   0.9s\n",
      "[CV] max_features=8, max_depth=20 ....................................\n",
      "[CV] ..................... max_features=18, max_depth=3, total=   0.9s\n",
      "[CV] max_features=10, max_depth=3 ....................................\n",
      "[CV] ..................... max_features=8, max_depth=20, total=   1.1s\n",
      "[CV] max_features=10, max_depth=3 ....................................\n",
      "[CV] ..................... max_features=10, max_depth=3, total=   0.7s\n",
      "[CV] max_features=10, max_depth=3 ....................................\n",
      "[CV] ..................... max_features=10, max_depth=3, total=   0.7s\n",
      "[CV] max_features=12, max_depth=3 ....................................\n",
      "[CV] ..................... max_features=8, max_depth=20, total=   1.1s\n",
      "[CV] max_features=12, max_depth=3 ....................................\n",
      "[CV] ..................... max_features=8, max_depth=20, total=   1.1s\n",
      "[CV] max_features=12, max_depth=3 ....................................\n",
      "[CV] ..................... max_features=10, max_depth=3, total=   0.8s\n",
      "[CV] max_features=6, max_depth=12 ....................................\n",
      "[CV] ..................... max_features=12, max_depth=3, total=   0.8s\n",
      "[CV] max_features=6, max_depth=12 ....................................\n",
      "[CV] ..................... max_features=12, max_depth=3, total=   0.8s\n",
      "[CV] max_features=6, max_depth=12 ....................................\n",
      "[CV] ..................... max_features=12, max_depth=3, total=   0.8s\n",
      "[CV] max_features=4, max_depth=10 ....................................\n",
      "[CV] ..................... max_features=6, max_depth=12, total=   0.9s\n",
      "[CV] max_features=4, max_depth=10 ....................................\n",
      "[CV] ..................... max_features=6, max_depth=12, total=   0.9s\n",
      "[CV] max_features=4, max_depth=10 ....................................\n",
      "[CV] ..................... max_features=4, max_depth=10, total=   0.8s\n",
      "[CV] max_features=3, max_depth=3 .....................................\n",
      "[CV] ..................... max_features=6, max_depth=12, total=   0.9s\n",
      "[CV] max_features=3, max_depth=3 .....................................\n",
      "[CV] ..................... max_features=4, max_depth=10, total=   1.0s\n",
      "[CV] max_features=3, max_depth=3 .....................................\n",
      "[CV] ...................... max_features=3, max_depth=3, total=   0.9s\n",
      "[CV] max_features=8, max_depth=16 ....................................\n",
      "[CV] ...................... max_features=3, max_depth=3, total=   0.9s\n",
      "[CV] max_features=8, max_depth=16 ....................................\n",
      "[CV] ..................... max_features=4, max_depth=10, total=   1.1s\n",
      "[CV] max_features=8, max_depth=16 ....................................\n",
      "[CV] ...................... max_features=3, max_depth=3, total=   0.7s\n",
      "[CV] max_features=18, max_depth=18 ...................................\n",
      "[CV] ..................... max_features=8, max_depth=16, total=   1.0s\n",
      "[CV] max_features=18, max_depth=18 ...................................\n",
      "[CV] ..................... max_features=8, max_depth=16, total=   1.0s\n",
      "[CV] max_features=18, max_depth=18 ...................................\n",
      "[CV] ..................... max_features=8, max_depth=16, total=   1.0s\n",
      "[CV] max_features=18, max_depth=14 ...................................\n",
      "[CV] .................... max_features=18, max_depth=18, total=   1.3s\n",
      "[CV] max_features=18, max_depth=14 ...................................\n",
      "[CV] .................... max_features=18, max_depth=18, total=   1.4s\n",
      "[CV] .................... max_features=18, max_depth=14, total=   1.3s\n",
      "[CV] .................... max_features=18, max_depth=18, total=   1.3s\n",
      "[CV] max_features=12, max_depth=6 ....................................\n",
      "[CV] max_features=12, max_depth=6 ....................................\n",
      "[CV] max_features=18, max_depth=14 ...................................\n",
      "[CV] .................... max_features=18, max_depth=14, total=   1.4s\n",
      "[CV] max_features=12, max_depth=6 ....................................\n",
      "[CV] ..................... max_features=12, max_depth=6, total=   0.9s\n",
      "[CV] max_features=18, max_depth=4 ....................................\n",
      "[CV] ..................... max_features=12, max_depth=6, total=   0.9s\n",
      "[CV] max_features=18, max_depth=4 ....................................\n",
      "[CV] .................... max_features=18, max_depth=14, total=   1.4s\n",
      "[CV] max_features=18, max_depth=4 ....................................\n",
      "[CV] ..................... max_features=12, max_depth=6, total=   1.0s\n",
      "[CV] max_features=14, max_depth=6 ....................................\n",
      "[CV] ..................... max_features=18, max_depth=4, total=   1.0s\n",
      "[CV] max_features=14, max_depth=6 ....................................\n"
     ]
    },
    {
     "name": "stderr",
     "output_type": "stream",
     "text": [
      "[Parallel(n_jobs=-1)]: Done  33 tasks      | elapsed:    9.9s\n"
     ]
    },
    {
     "name": "stdout",
     "output_type": "stream",
     "text": [
      "[CV] ..................... max_features=18, max_depth=4, total=   1.0s\n",
      "[CV] max_features=14, max_depth=6 ....................................\n",
      "[CV] ..................... max_features=18, max_depth=4, total=   1.1s\n",
      "[CV] max_features=20, max_depth=6 ....................................\n",
      "[CV] ..................... max_features=14, max_depth=6, total=   1.2s\n",
      "[CV] max_features=20, max_depth=6 ....................................\n",
      "[CV] ..................... max_features=14, max_depth=6, total=   1.1s\n",
      "[CV] max_features=20, max_depth=6 ....................................\n",
      "[CV] ..................... max_features=14, max_depth=6, total=   1.1s\n",
      "[CV] max_features=14, max_depth=14 ...................................\n",
      "[CV] ..................... max_features=20, max_depth=6, total=   1.2s\n",
      "[CV] max_features=14, max_depth=14 ...................................\n",
      "[CV] ..................... max_features=20, max_depth=6, total=   1.2s\n",
      "[CV] max_features=14, max_depth=14 ...................................\n",
      "[CV] ..................... max_features=20, max_depth=6, total=   1.2s\n",
      "[CV] max_features=3, max_depth=12 ....................................\n",
      "[CV] .................... max_features=14, max_depth=14, total=   1.2s\n",
      "[CV] max_features=3, max_depth=12 ....................................\n",
      "[CV] .................... max_features=14, max_depth=14, total=   1.3s\n",
      "[CV] max_features=3, max_depth=12 ....................................\n",
      "[CV] ..................... max_features=3, max_depth=12, total=   0.8s\n",
      "[CV] max_features=3, max_depth=18 ....................................\n",
      "[CV] ..................... max_features=3, max_depth=12, total=   0.8s\n",
      "[CV] max_features=3, max_depth=18 ....................................\n",
      "[CV] .................... max_features=14, max_depth=14, total=   1.2s\n",
      "[CV] max_features=3, max_depth=18 ....................................\n",
      "[CV] ..................... max_features=3, max_depth=12, total=   0.9s\n",
      "[CV] max_features=12, max_depth=10 ...................................\n",
      "[CV] ..................... max_features=3, max_depth=18, total=   0.9s\n",
      "[CV] max_features=12, max_depth=10 ...................................\n",
      "[CV] ..................... max_features=3, max_depth=18, total=   1.0s\n",
      "[CV] max_features=12, max_depth=10 ...................................\n",
      "[CV] ..................... max_features=3, max_depth=18, total=   1.1s\n",
      "[CV] max_features=18, max_depth=8 ....................................\n",
      "[CV] .................... max_features=12, max_depth=10, total=   1.6s\n",
      "[CV] max_features=18, max_depth=8 ....................................\n",
      "[CV] .................... max_features=12, max_depth=10, total=   1.6s\n",
      "[CV] max_features=18, max_depth=8 ....................................\n",
      "[CV] .................... max_features=12, max_depth=10, total=   1.5s\n",
      "[CV] max_features=18, max_depth=12 ...................................\n",
      "[CV] ..................... max_features=18, max_depth=8, total=   1.7s\n",
      "[CV] max_features=18, max_depth=12 ...................................\n",
      "[CV] ..................... max_features=18, max_depth=8, total=   1.5s\n",
      "[CV] max_features=18, max_depth=12 ...................................\n",
      "[CV] ..................... max_features=18, max_depth=8, total=   1.4s\n",
      "[CV] max_features=20, max_depth=10 ...................................\n",
      "[CV] .................... max_features=18, max_depth=12, total=   1.7s\n",
      "[CV] max_features=20, max_depth=10 ...................................\n",
      "[CV] .................... max_features=18, max_depth=12, total=   1.6s\n",
      "[CV] max_features=20, max_depth=10 ...................................\n",
      "[CV] .................... max_features=18, max_depth=12, total=   1.4s\n",
      "[CV] max_features=12, max_depth=18 ...................................\n",
      "[CV] .................... max_features=20, max_depth=10, total=   1.4s\n",
      "[CV] max_features=12, max_depth=18 ...................................\n",
      "[CV] .................... max_features=20, max_depth=10, total=   1.3s\n",
      "[CV] max_features=12, max_depth=18 ...................................\n",
      "[CV] .................... max_features=20, max_depth=10, total=   1.3s\n",
      "[CV] max_features=10, max_depth=20 ...................................\n",
      "[CV] .................... max_features=12, max_depth=18, total=   1.2s\n",
      "[CV] max_features=10, max_depth=20 ...................................\n",
      "[CV] .................... max_features=12, max_depth=18, total=   1.3s\n",
      "[CV] max_features=10, max_depth=20 ...................................\n",
      "[CV] .................... max_features=12, max_depth=18, total=   1.3s\n",
      "[CV] max_features=16, max_depth=18 ...................................\n",
      "[CV] .................... max_features=10, max_depth=20, total=   1.3s\n",
      "[CV] max_features=16, max_depth=18 ...................................\n",
      "[CV] .................... max_features=10, max_depth=20, total=   1.3s\n",
      "[CV] max_features=16, max_depth=18 ...................................\n",
      "[CV] .................... max_features=10, max_depth=20, total=   1.3s\n",
      "[CV] max_features=12, max_depth=4 ....................................\n",
      "[CV] .................... max_features=16, max_depth=18, total=   1.5s\n",
      "[CV] max_features=12, max_depth=4 ....................................\n",
      "[CV] .................... max_features=16, max_depth=18, total=   1.8s\n",
      "[CV] max_features=12, max_depth=4 ....................................\n",
      "[CV] ..................... max_features=12, max_depth=4, total=   1.0s\n",
      "[CV] max_features=8, max_depth=3 .....................................\n",
      "[CV] .................... max_features=16, max_depth=18, total=   1.7s\n",
      "[CV] max_features=8, max_depth=3 .....................................\n",
      "[CV] ..................... max_features=12, max_depth=4, total=   1.1s\n",
      "[CV] max_features=8, max_depth=3 .....................................\n",
      "[CV] ...................... max_features=8, max_depth=3, total=   0.9s\n",
      "[CV] max_features=10, max_depth=4 ....................................\n",
      "[CV] ..................... max_features=12, max_depth=4, total=   1.1s\n",
      "[CV] max_features=10, max_depth=4 ....................................\n",
      "[CV] ...................... max_features=8, max_depth=3, total=   0.9s\n",
      "[CV] max_features=10, max_depth=4 ....................................\n",
      "[CV] ...................... max_features=8, max_depth=3, total=   1.0s\n",
      "[CV] max_features=8, max_depth=8 .....................................\n",
      "[CV] ..................... max_features=10, max_depth=4, total=   1.0s\n",
      "[CV] max_features=8, max_depth=8 .....................................\n",
      "[CV] ..................... max_features=10, max_depth=4, total=   1.2s\n",
      "[CV] max_features=8, max_depth=8 .....................................\n",
      "[CV] ..................... max_features=10, max_depth=4, total=   1.0s\n",
      "[CV] max_features=8, max_depth=6 .....................................\n",
      "[CV] ...................... max_features=8, max_depth=8, total=   1.1s\n",
      "[CV] max_features=8, max_depth=6 .....................................\n",
      "[CV] ...................... max_features=8, max_depth=8, total=   1.2s\n",
      "[CV] max_features=8, max_depth=6 .....................................\n",
      "[CV] ...................... max_features=8, max_depth=8, total=   1.1s\n",
      "[CV] max_features=10, max_depth=6 ....................................\n",
      "[CV] ...................... max_features=8, max_depth=6, total=   1.0s\n",
      "[CV] max_features=10, max_depth=6 ....................................\n",
      "[CV] ...................... max_features=8, max_depth=6, total=   1.0s\n",
      "[CV] max_features=10, max_depth=6 ....................................\n",
      "[CV] ...................... max_features=8, max_depth=6, total=   0.9s\n",
      "[CV] ..................... max_features=10, max_depth=6, total=   1.0s\n",
      "[CV] ..................... max_features=10, max_depth=6, total=   0.9s\n",
      "[CV] ..................... max_features=10, max_depth=6, total=   0.9s\n"
     ]
    },
    {
     "name": "stderr",
     "output_type": "stream",
     "text": [
      "[Parallel(n_jobs=-1)]: Done  90 out of  90 | elapsed:   28.4s finished\n"
     ]
    },
    {
     "data": {
      "text/plain": [
       "0.35299999999999998"
      ]
     },
     "execution_count": 321,
     "metadata": {},
     "output_type": "execute_result"
    }
   ],
   "source": [
    "rfCLF (mw_clust_X_train,mw_clust_y_train['rCSI_category'], mw_clust_X_test,mw_clust_y_test['rCSI_category'] )"
   ]
  },
  {
   "cell_type": "code",
   "execution_count": 0,
   "metadata": {
    "colab": {},
    "colab_type": "code",
    "id": "aRIzyyJ_70qV"
   },
   "outputs": [],
   "source": [
    "from xgboost import XGBClassifier\n",
    "# fit model to  training data\n",
    "XGB_clf = XGBClassifier(silent=False, \n",
    "                      scale_pos_weight=1,\n",
    "                      learning_rate=0.3,  \n",
    "                      colsample_bytree = 0.4,\n",
    "                      subsample = 0.8,\n",
    "                      #objective='binary:logistic', \n",
    "                      objective='multi:softmax', \n",
    "                      num_class=14,\n",
    "                      n_estimators=100, \n",
    "                      reg_alpha = 0.3,\n",
    "                      max_depth=14, \n",
    "                      gamma=10)\n",
    "\n",
    "# Fit the random search model\n",
    "XGB_clf.fit(X_train, y_train)\n",
    "\n",
    "# Return accuracy\n",
    "xgb_test_score = round(XGB_clf.score(X_test, y_test), 3)\n",
    "xgb_train_score = round(XGB_clf.score(X_train, y_train), 3)\n",
    "print(xgb_test_score)"
   ]
  },
  {
   "cell_type": "markdown",
   "metadata": {
    "colab_type": "text",
    "id": "abWsB5nGWfra"
   },
   "source": [
    "### downsample / oversample \n",
    "\n",
    "Using simpler metrics like accuracy_score can be misleading. In a dataset with highly unbalanced classes, if the classifier always \"predicts\" the most common class without performing any analysis of the features, it will still have a high accuracy rate, obviously illusory."
   ]
  },
  {
   "cell_type": "markdown",
   "metadata": {
    "colab_type": "text",
    "id": "CYrYYplPWmyp"
   },
   "source": [
    "Resampling\n",
    "A widely adopted technique for dealing with highly unbalanced datasets is called resampling. It consists of removing samples from the majority class (under-sampling) and / or adding more examples from the minority class (over-sampling).\n",
    "\n",
    "Despite the advantage of balancing classes, these techniques also have their weaknesses (there is no free lunch). The simplest implementation of over-sampling is to duplicate random records from the minority class, which can cause overfitting. In under-sampling, the simplest technique involves removing random records from the majority class, which can cause loss of information.\n",
    "\n"
   ]
  },
  {
   "cell_type": "code",
   "execution_count": 0,
   "metadata": {
    "colab": {},
    "colab_type": "code",
    "id": "mx78w6b7XXT6"
   },
   "outputs": [],
   "source": [
    "# Class count\n",
    "count_class_0, count_class_1 = df_train.target.value_counts()\n",
    "\n",
    "# Divide by class\n",
    "df_class_0 = df_train[df_train['target'] == 0]\n",
    "df_class_1 = df_train[df_train['target'] == 1]\n",
    "\n",
    "df_class_0_under = df_class_0.sample(count_class_1)\n",
    "df_test_under = pd.concat([df_class_0_under, df_class_1], axis=0)\n",
    "\n",
    "print('Random under-sampling:')\n",
    "print(df_test_under.target.value_counts())\n",
    "\n",
    "df_test_under.target.value_counts().plot(kind='bar', title='Count (target)');\n",
    "\n",
    "\n",
    "df_class_1_over = df_class_1.sample(count_class_0, replace=True)\n",
    "df_test_over = pd.concat([df_class_0, df_class_1_over], axis=0)\n",
    "\n",
    "print('Random over-sampling:')\n",
    "print(df_test_over.target.value_counts())\n",
    "\n",
    "df_test_over.target.value_counts().plot(kind='bar', title='Count (target)');\n"
   ]
  },
  {
   "cell_type": "code",
   "execution_count": 0,
   "metadata": {
    "colab": {},
    "colab_type": "code",
    "id": "vpuqtRT6XlkB"
   },
   "outputs": [],
   "source": [
    "import imblearn\n"
   ]
  },
  {
   "cell_type": "markdown",
   "metadata": {
    "colab_type": "text",
    "id": "LsdAVsz0XtER"
   },
   "source": [
    "For example, we can cluster the records of the majority class, and do the under-sampling by removing records from each cluster, thus seeking to preserve information. In over-sampling, instead of creating exact copies of the minority class records, we can introduce small variations into those copies, creating more diverse synthetic samples.\n",
    "\n",
    "Let's apply some of these resampling techniques, using the Python library imbalanced-learn. It is compatible with scikit-learn and is part of scikit-learn-contrib projects."
   ]
  },
  {
   "cell_type": "code",
   "execution_count": 0,
   "metadata": {
    "colab": {
     "base_uri": "https://localhost:8080/",
     "height": 278
    },
    "colab_type": "code",
    "id": "MIWQBGxvXz-O",
    "outputId": "59dd548c-dbd3-45bc-c05d-ee09c8c8fbfb"
   },
   "outputs": [
    {
     "data": {
      "image/png": "[encoded data removed]",
      "text/plain": [
       "<Figure size 432x288 with 1 Axes>"
      ]
     },
     "metadata": {
      "tags": []
     },
     "output_type": "display_data"
    }
   ],
   "source": [
    "from sklearn.datasets import make_classification\n",
    "\n",
    "X, y = make_classification(\n",
    "    n_classes=2, class_sep=1.5, weights=[0.9, 0.1],\n",
    "    n_informative=3, n_redundant=1, flip_y=0,\n",
    "    n_features=20, n_clusters_per_class=1,\n",
    "    n_samples=100, random_state=10\n",
    ")\n",
    "\n",
    "df = pd.DataFrame(X)\n",
    "df['target'] = y\n",
    "df.target.value_counts().plot(kind='bar', title='Count (target)');\n"
   ]
  },
  {
   "cell_type": "code",
   "execution_count": 0,
   "metadata": {
    "colab": {},
    "colab_type": "code",
    "id": "Uui299dHYPFa"
   },
   "outputs": [],
   "source": [
    "from imblearn.over_sampling import RandomOverSampler\n",
    "\n",
    "ros = RandomOverSampler()\n",
    "X_ros, y_ros = ros.fit_sample(X, y)\n",
    "\n",
    "print(X_ros.shape[0] - X.shape[0], 'new random picked points')\n",
    "\n",
    "plot_2d_space(X_ros, y_ros, 'Random over-sampling')"
   ]
  },
  {
   "cell_type": "code",
   "execution_count": 0,
   "metadata": {
    "colab": {},
    "colab_type": "code",
    "id": "eLUx4gXKYPqN"
   },
   "outputs": [],
   "source": [
    "from imblearn.under_sampling import TomekLinks\n",
    "\n",
    "tl = TomekLinks(return_indices=True, ratio='majority')\n",
    "X_tl, y_tl, id_tl = tl.fit_sample(X, y)\n",
    "\n",
    "print('Removed indexes:', id_tl)\n",
    "\n",
    "plot_2d_space(X_tl, y_tl, 'Tomek links under-sampling')"
   ]
  },
  {
   "cell_type": "code",
   "execution_count": 0,
   "metadata": {
    "colab": {},
    "colab_type": "code",
    "id": "GlGaG-IMZbhA"
   },
   "outputs": [],
   "source": [
    "from imblearn.over_sampling import SMOTE\n",
    "\n",
    "smote = SMOTE(ratio='minority')\n",
    "X_sm, y_sm = smote.fit_sample(X, y)\n",
    "\n",
    "plot_2d_space(X_sm, y_sm, 'SMOTE over-sampling')"
   ]
  },
  {
   "cell_type": "code",
   "execution_count": 0,
   "metadata": {
    "colab": {},
    "colab_type": "code",
    "id": "pSZuMR4EZfPH"
   },
   "outputs": [],
   "source": [
    "from imblearn.combine import SMOTETomek\n",
    "\n",
    "smt = SMOTETomek(ratio='auto')\n",
    "X_smt, y_smt = smt.fit_sample(X, y)\n",
    "\n",
    "plot_2d_space(X_smt, y_smt, 'SMOTE + Tomek links')"
   ]
  },
  {
   "cell_type": "markdown",
   "metadata": {
    "colab_type": "text",
    "id": "4LMUHzzLYSdi"
   },
   "source": [
    "Under-sampling: Tomek links\n",
    "Tomek links are pairs of very close instances, but of opposite classes. Removing the instances of the majority class of each pair increases the space between the two classes, facilitating the classification process."
   ]
  },
  {
   "cell_type": "code",
   "execution_count": 0,
   "metadata": {
    "colab": {},
    "colab_type": "code",
    "id": "h__-JaR3YUXv"
   },
   "outputs": [],
   "source": [
    "print(\"Before OverSampling, counts of label '1': {}\".format(sum(y_train==1)))\n",
    "print(\"Before OverSampling, counts of label '0': {} \\n\".format(sum(y_train==0)))\n",
    "\n",
    "sm = SMOTE(random_state=2)\n",
    "X_train_res, y_train_res = sm.fit_sample(X_train, y_train.ravel())\n",
    "\n",
    "print('After OverSampling, the shape of train_X: {}'.format(X_train_res.shape))\n",
    "print('After OverSampling, the shape of train_y: {} \\n'.format(y_train_res.shape))\n",
    "\n",
    "print(\"After OverSampling, counts of label '1': {}\".format(sum(y_train_res==1)))\n",
    "print(\"After OverSampling, counts of label '0': {}\".format(sum(y_train_res==0)))\n"
   ]
  },
  {
   "cell_type": "code",
   "execution_count": 0,
   "metadata": {
    "colab": {},
    "colab_type": "code",
    "id": "VwwRHpWtl2rH"
   },
   "outputs": [],
   "source": [
    "# confusion matrix , focus on improving the recall rate of the insecure class\n",
    "\n"
   ]
  },
  {
   "cell_type": "code",
   "execution_count": 0,
   "metadata": {
    "colab": {},
    "colab_type": "code",
    "id": "7m2r-MiEmEgQ"
   },
   "outputs": [],
   "source": [
    "# One vs all and plot the AUC ( )"
   ]
  },
  {
   "cell_type": "markdown",
   "metadata": {
    "colab_type": "text",
    "id": "MJ3dY58vWSEa"
   },
   "source": [
    "### Models"
   ]
  },
  {
   "cell_type": "markdown",
   "metadata": {
    "colab_type": "text",
    "id": "xchwjtYlnkEv"
   },
   "source": [
    "#### Linear Regression"
   ]
  },
  {
   "cell_type": "code",
   "execution_count": 0,
   "metadata": {
    "colab": {
     "base_uri": "https://localhost:8080/",
     "height": 198
    },
    "colab_type": "code",
    "id": "YG-4RJ4lhUt0",
    "outputId": "fdfa2008-9f64-45bb-d4b4-278b2fb35cc3"
   },
   "outputs": [
    {
     "ename": "NameError",
     "evalue": "ignored",
     "output_type": "error",
     "traceback": [
      "\u001b[0;31m---------------------------------------------------------------------------\u001b[0m",
      "\u001b[0;31mNameError\u001b[0m                                 Traceback (most recent call last)",
      "\u001b[0;32m<ipython-input-7-f60e5263d020>\u001b[0m in \u001b[0;36m<module>\u001b[0;34m()\u001b[0m\n\u001b[1;32m     15\u001b[0m \u001b[0;34m\u001b[0m\u001b[0m\n\u001b[1;32m     16\u001b[0m \u001b[0;31m# implement the algorithm and present results\u001b[0m\u001b[0;34m\u001b[0m\u001b[0;34m\u001b[0m\u001b[0;34m\u001b[0m\u001b[0m\n\u001b[0;32m---> 17\u001b[0;31m \u001b[0mresult_table\u001b[0m\u001b[0;34m(\u001b[0m\u001b[0mfunction\u001b[0m\u001b[0;34m=\u001b[0m\u001b[0mfit_linear\u001b[0m\u001b[0;34m)\u001b[0m\u001b[0;34m\u001b[0m\u001b[0;34m\u001b[0m\u001b[0m\n\u001b[0m",
      "\u001b[0;31mNameError\u001b[0m: name 'result_table' is not defined"
     ]
    }
   ],
   "source": [
    "from sklearn.linear_model import LinearRegression\n",
    "\n",
    "def fit_linear(X_train, X_test,y_train,y_test):\n",
    "\n",
    "    # Create and fit our linear regression model to training data\n",
    "    model = LinearRegression(fit_intercept=True)\n",
    "    model.fit(X_train, y_train)\n",
    "\n",
    "    # Compute model predictions for test data\n",
    "    pred = model.predict(X_test)\n",
    "\n",
    "    r2 = stats.pearsonr(y_test, pred)[0] ** 2\n",
    "    \n",
    "    return r2\n",
    "\n",
    "# implement the algorithm and present results\n",
    "result_table(function=fit_linear)"
   ]
  },
  {
   "cell_type": "markdown",
   "metadata": {
    "colab_type": "text",
    "id": "37T4L-Jrnn-v"
   },
   "source": [
    "#### Ridge"
   ]
  },
  {
   "cell_type": "code",
   "execution_count": 0,
   "metadata": {
    "colab": {
     "base_uri": "https://localhost:8080/",
     "height": 235
    },
    "colab_type": "code",
    "id": "vK4myVU3iJrF",
    "outputId": "9c1665a4-38f6-4503-e619-abfc0ec40b19"
   },
   "outputs": [
    {
     "data": {
      "text/html": [
       "<div>\n",
       "<style scoped>\n",
       "    .dataframe tbody tr th:only-of-type {\n",
       "        vertical-align: middle;\n",
       "    }\n",
       "\n",
       "    .dataframe tbody tr th {\n",
       "        vertical-align: top;\n",
       "    }\n",
       "\n",
       "    .dataframe thead th {\n",
       "        text-align: right;\n",
       "    }\n",
       "</style>\n",
       "<table border=\"1\" class=\"dataframe\">\n",
       "  <thead>\n",
       "    <tr style=\"text-align: right;\">\n",
       "      <th></th>\n",
       "      <th>dataset</th>\n",
       "      <th>FCS</th>\n",
       "      <th>HDDS</th>\n",
       "      <th>rCSI</th>\n",
       "    </tr>\n",
       "  </thead>\n",
       "  <tbody>\n",
       "    <tr>\n",
       "      <th>0</th>\n",
       "      <td>Malawi_household</td>\n",
       "      <td>0.265</td>\n",
       "      <td>0.270</td>\n",
       "      <td>0.110</td>\n",
       "    </tr>\n",
       "    <tr>\n",
       "      <th>1</th>\n",
       "      <td>Malawi_cluster</td>\n",
       "      <td>0.431</td>\n",
       "      <td>0.642</td>\n",
       "      <td>0.217</td>\n",
       "    </tr>\n",
       "    <tr>\n",
       "      <th>2</th>\n",
       "      <td>Tanzania_household</td>\n",
       "      <td>0.048</td>\n",
       "      <td>0.006</td>\n",
       "      <td>0.015</td>\n",
       "    </tr>\n",
       "    <tr>\n",
       "      <th>3</th>\n",
       "      <td>Tanzania_cluster</td>\n",
       "      <td>0.153</td>\n",
       "      <td>0.020</td>\n",
       "      <td>0.087</td>\n",
       "    </tr>\n",
       "    <tr>\n",
       "      <th>4</th>\n",
       "      <td>Uganda_household</td>\n",
       "      <td>0.179</td>\n",
       "      <td>0.219</td>\n",
       "      <td>0.000</td>\n",
       "    </tr>\n",
       "    <tr>\n",
       "      <th>5</th>\n",
       "      <td>Uganda_cluster</td>\n",
       "      <td>0.365</td>\n",
       "      <td>0.421</td>\n",
       "      <td>0.000</td>\n",
       "    </tr>\n",
       "  </tbody>\n",
       "</table>\n",
       "</div>"
      ],
      "text/plain": [
       "              dataset    FCS   HDDS   rCSI\n",
       "0    Malawi_household  0.265  0.270  0.110\n",
       "1      Malawi_cluster  0.431  0.642  0.217\n",
       "2  Tanzania_household  0.048  0.006  0.015\n",
       "3    Tanzania_cluster  0.153  0.020  0.087\n",
       "4    Uganda_household  0.179  0.219  0.000\n",
       "5      Uganda_cluster  0.365  0.421  0.000"
      ]
     },
     "execution_count": 88,
     "metadata": {
      "tags": []
     },
     "output_type": "execute_result"
    }
   ],
   "source": [
    "from sklearn.linear_model import RidgeCV\n",
    "from sklearn.model_selection import RandomizedSearchCV\n",
    "\n",
    "\n",
    "def fit_ridge(X_train, X_test,y_train,y_test):\n",
    "\n",
    "  model = RidgeCV(alphas=[0.0, 1E-6, 1E-4, 1E-2, 1.0], fit_intercept=True, normalize=True, scoring=None, cv=5, gcv_mode='auto', store_cv_values=False) \n",
    "\n",
    "# Define different alpha values for different fits\n",
    "# alpha = [0.0, 1E-6, 1E-4, 1E-2, 1.0]\n",
    "\n",
    "  model.fit(X_train, y_train)\n",
    "\n",
    "  # Compute model predictions for test data\n",
    "  pred = model.predict(X_test)\n",
    "\n",
    "  r2 = stats.pearsonr(y_test, pred)[0] ** 2\n",
    "    \n",
    "  return r2\n",
    "\n",
    "\n",
    "\n",
    "# implement the algorithm and present results\n",
    "result_table(function=fit_ridge)"
   ]
  },
  {
   "cell_type": "code",
   "execution_count": 0,
   "metadata": {
    "colab": {
     "base_uri": "https://localhost:8080/",
     "height": 198
    },
    "colab_type": "code",
    "id": "DfaZUtYJiT-g",
    "outputId": "5c8cf6f1-bb78-4097-eb2d-df65188d0454"
   },
   "outputs": [
    {
     "ename": "NameError",
     "evalue": "ignored",
     "output_type": "error",
     "traceback": [
      "\u001b[0;31m---------------------------------------------------------------------------\u001b[0m",
      "\u001b[0;31mNameError\u001b[0m                                 Traceback (most recent call last)",
      "\u001b[0;32m<ipython-input-13-cbfa4d4a02ea>\u001b[0m in \u001b[0;36m<module>\u001b[0;34m()\u001b[0m\n\u001b[1;32m     14\u001b[0m \u001b[0;34m\u001b[0m\u001b[0m\n\u001b[1;32m     15\u001b[0m \u001b[0;31m# implement the algorithm and present results\u001b[0m\u001b[0;34m\u001b[0m\u001b[0;34m\u001b[0m\u001b[0;34m\u001b[0m\u001b[0m\n\u001b[0;32m---> 16\u001b[0;31m \u001b[0mresult_table\u001b[0m\u001b[0;34m(\u001b[0m\u001b[0mfunction\u001b[0m\u001b[0;34m=\u001b[0m\u001b[0mfit_lasso\u001b[0m\u001b[0;34m)\u001b[0m\u001b[0;34m\u001b[0m\u001b[0;34m\u001b[0m\u001b[0m\n\u001b[0m",
      "\u001b[0;31mNameError\u001b[0m: name 'result_table' is not defined"
     ]
    }
   ],
   "source": [
    "from sklearn.linear_model import LassoCV\n",
    "\n",
    "def fit_lasso(X_train, X_test,y_train,y_test):\n",
    "\n",
    "    model = LassoCV(eps=0.001, n_alphas=100, alphas=(0.01, 2), fit_intercept=True,precompute='auto',n_jobs=4, random_state=0, selection='cyclic')\n",
    "\n",
    "    model.fit(X_train, y_train)\n",
    "    \n",
    "    pred = model.predict(X_test)\n",
    "\n",
    "    r2= stats.pearsonr(y_test, pred)[0] ** 2\n",
    "    return r2\n",
    "\n",
    "  \n",
    "# implement the algorithm and present results\n",
    "result_table(function=fit_lasso)"
   ]
  },
  {
   "cell_type": "code",
   "execution_count": 0,
   "metadata": {
    "colab": {
     "base_uri": "https://localhost:8080/",
     "height": 235
    },
    "colab_type": "code",
    "id": "cmys1Z7Ojfh-",
    "outputId": "d5e855c6-a528-48cc-ed10-6528111a2fa9"
   },
   "outputs": [
    {
     "data": {
      "text/html": [
       "<div>\n",
       "<style scoped>\n",
       "    .dataframe tbody tr th:only-of-type {\n",
       "        vertical-align: middle;\n",
       "    }\n",
       "\n",
       "    .dataframe tbody tr th {\n",
       "        vertical-align: top;\n",
       "    }\n",
       "\n",
       "    .dataframe thead th {\n",
       "        text-align: right;\n",
       "    }\n",
       "</style>\n",
       "<table border=\"1\" class=\"dataframe\">\n",
       "  <thead>\n",
       "    <tr style=\"text-align: right;\">\n",
       "      <th></th>\n",
       "      <th>dataset</th>\n",
       "      <th>FCS</th>\n",
       "      <th>HDDS</th>\n",
       "      <th>rCSI</th>\n",
       "    </tr>\n",
       "  </thead>\n",
       "  <tbody>\n",
       "    <tr>\n",
       "      <th>0</th>\n",
       "      <td>Malawi_household</td>\n",
       "      <td>0.377</td>\n",
       "      <td>0.259</td>\n",
       "      <td>0.094</td>\n",
       "    </tr>\n",
       "    <tr>\n",
       "      <th>1</th>\n",
       "      <td>Malawi_cluster</td>\n",
       "      <td>0.683</td>\n",
       "      <td>0.587</td>\n",
       "      <td>0.192</td>\n",
       "    </tr>\n",
       "    <tr>\n",
       "      <th>2</th>\n",
       "      <td>Tanzania_household</td>\n",
       "      <td>0.048</td>\n",
       "      <td>0.005</td>\n",
       "      <td>0.015</td>\n",
       "    </tr>\n",
       "    <tr>\n",
       "      <th>3</th>\n",
       "      <td>Tanzania_cluster</td>\n",
       "      <td>0.153</td>\n",
       "      <td>0.020</td>\n",
       "      <td>0.088</td>\n",
       "    </tr>\n",
       "    <tr>\n",
       "      <th>4</th>\n",
       "      <td>Uganda_household</td>\n",
       "      <td>0.141</td>\n",
       "      <td>0.219</td>\n",
       "      <td>0.000</td>\n",
       "    </tr>\n",
       "    <tr>\n",
       "      <th>5</th>\n",
       "      <td>Uganda_cluster</td>\n",
       "      <td>0.264</td>\n",
       "      <td>0.387</td>\n",
       "      <td>0.000</td>\n",
       "    </tr>\n",
       "  </tbody>\n",
       "</table>\n",
       "</div>"
      ],
      "text/plain": [
       "              dataset    FCS   HDDS   rCSI\n",
       "0    Malawi_household  0.377  0.259  0.094\n",
       "1      Malawi_cluster  0.683  0.587  0.192\n",
       "2  Tanzania_household  0.048  0.005  0.015\n",
       "3    Tanzania_cluster  0.153  0.020  0.088\n",
       "4    Uganda_household  0.141  0.219  0.000\n",
       "5      Uganda_cluster  0.264  0.387  0.000"
      ]
     },
     "execution_count": 91,
     "metadata": {
      "tags": []
     },
     "output_type": "execute_result"
    }
   ],
   "source": [
    "from sklearn.linear_model import ElasticNetCV\n",
    "\n",
    "def fit_en(X_train, X_test,y_train,y_test):\n",
    "\n",
    "\n",
    "    model = ElasticNetCV(alphas=(0.1,0.02,3,2), copy_X=True, cv=10, eps=0.004, fit_intercept=True,\n",
    "           l1_ratio=0.33, max_iter=1000, n_alphas=100, n_jobs=1,\n",
    "           normalize=False, positive=False, precompute='auto', random_state=0,\n",
    "           selection='cyclic', tol=0.0001, verbose=0)\n",
    "\n",
    "    model.fit(X_train, y_train)\n",
    "    \n",
    "    pred = model.predict(X_test)\n",
    "\n",
    "    r2= stats.pearsonr(y_test, pred)[0] ** 2\n",
    "    \n",
    "    return r2\n",
    "\n",
    "\n",
    "# implement the algorithm and present results\n",
    "result_table(function=fit_en)    \n",
    "    "
   ]
  },
  {
   "cell_type": "code",
   "execution_count": 0,
   "metadata": {
    "colab": {
     "base_uri": "https://localhost:8080/",
     "height": 235
    },
    "colab_type": "code",
    "id": "NBViYIF3iJHS",
    "outputId": "339e59ac-6c01-482b-eeac-0948886166e4"
   },
   "outputs": [
    {
     "data": {
      "text/html": [
       "<div>\n",
       "<style scoped>\n",
       "    .dataframe tbody tr th:only-of-type {\n",
       "        vertical-align: middle;\n",
       "    }\n",
       "\n",
       "    .dataframe tbody tr th {\n",
       "        vertical-align: top;\n",
       "    }\n",
       "\n",
       "    .dataframe thead th {\n",
       "        text-align: right;\n",
       "    }\n",
       "</style>\n",
       "<table border=\"1\" class=\"dataframe\">\n",
       "  <thead>\n",
       "    <tr style=\"text-align: right;\">\n",
       "      <th></th>\n",
       "      <th>dataset</th>\n",
       "      <th>FCS</th>\n",
       "      <th>HDDS</th>\n",
       "      <th>rCSI</th>\n",
       "    </tr>\n",
       "  </thead>\n",
       "  <tbody>\n",
       "    <tr>\n",
       "      <th>0</th>\n",
       "      <td>Malawi_household</td>\n",
       "      <td>0.369</td>\n",
       "      <td>0.269</td>\n",
       "      <td>0.115</td>\n",
       "    </tr>\n",
       "    <tr>\n",
       "      <th>1</th>\n",
       "      <td>Malawi_cluster</td>\n",
       "      <td>0.713</td>\n",
       "      <td>0.706</td>\n",
       "      <td>0.267</td>\n",
       "    </tr>\n",
       "    <tr>\n",
       "      <th>2</th>\n",
       "      <td>Tanzania_household</td>\n",
       "      <td>0.195</td>\n",
       "      <td>0.221</td>\n",
       "      <td>0.048</td>\n",
       "    </tr>\n",
       "    <tr>\n",
       "      <th>3</th>\n",
       "      <td>Tanzania_cluster</td>\n",
       "      <td>0.289</td>\n",
       "      <td>0.385</td>\n",
       "      <td>0.127</td>\n",
       "    </tr>\n",
       "    <tr>\n",
       "      <th>4</th>\n",
       "      <td>Uganda_household</td>\n",
       "      <td>0.172</td>\n",
       "      <td>0.189</td>\n",
       "      <td>0.000</td>\n",
       "    </tr>\n",
       "    <tr>\n",
       "      <th>5</th>\n",
       "      <td>Uganda_cluster</td>\n",
       "      <td>0.314</td>\n",
       "      <td>0.435</td>\n",
       "      <td>0.000</td>\n",
       "    </tr>\n",
       "  </tbody>\n",
       "</table>\n",
       "</div>"
      ],
      "text/plain": [
       "              dataset    FCS   HDDS   rCSI\n",
       "0    Malawi_household  0.369  0.269  0.115\n",
       "1      Malawi_cluster  0.713  0.706  0.267\n",
       "2  Tanzania_household  0.195  0.221  0.048\n",
       "3    Tanzania_cluster  0.289  0.385  0.127\n",
       "4    Uganda_household  0.172  0.189  0.000\n",
       "5      Uganda_cluster  0.314  0.435  0.000"
      ]
     },
     "execution_count": 92,
     "metadata": {
      "tags": []
     },
     "output_type": "execute_result"
    }
   ],
   "source": [
    "from sklearn.ensemble import RandomForestRegressor\n",
    "\n",
    "def fit_rfc(X_train, X_test,y_train,y_test):\n",
    "  # Create Regressor with default properties\n",
    "  rfc = RandomForestRegressor(random_state =0,n_jobs =4,warm_start = True,max_depth=4, min_samples_leaf=5 )\n",
    "  \n",
    "  \n",
    "  parameters = {'max_depth':np.arange( 1,4, 1 ).tolist(), 'min_samples_leaf':np.arange( 1, 4, 1 ).tolist()}\n",
    "  model = GridSearchCV(rfc, parameters,cv=6, n_jobs= 4, iid = True,  refit= True,pre_dispatch= '2*n_jobs')\n",
    "\n",
    "  model.fit(X_train,y_train)\n",
    "  # Fit estimator and display score\n",
    "\n",
    "  # Regress on test data\n",
    "  pred = model.predict(X_test)\n",
    "\n",
    "  r2 = stats.pearsonr(y_test, pred)[0] ** 2\n",
    "    \n",
    "  return r2\n",
    "\n",
    "result_table(function=fit_rfc)"
   ]
  },
  {
   "cell_type": "code",
   "execution_count": 0,
   "metadata": {
    "colab": {},
    "colab_type": "code",
    "id": "fz4_Tbc-sZ5q"
   },
   "outputs": [],
   "source": [
    "from sklearn.ensemble import GradientBoostingRegressor\n",
    "\n",
    "# Create Regressor with default properties\n",
    "gbr = GradientBoostingRegressor(random_state=0,learning_rate=0.4, n_estimators=9,subsample=1, criterion='friedman_mse', min_samples_split=2)\n",
    "\n",
    "gbr.fit(x_train, y_train_new)\n",
    "pred = gbr.predict(x_test)\n",
    "\n",
    "actual =y_test_new\n",
    "r2_gbr= stats.pearsonr(actual, pred)[0] ** 2\n",
    "r2_gbr"
   ]
  },
  {
   "cell_type": "code",
   "execution_count": 0,
   "metadata": {
    "colab": {},
    "colab_type": "code",
    "id": "3KqsgrvlszWR"
   },
   "outputs": [],
   "source": [
    "from sklearn.gaussian_process import  GaussianProcessRegressor\n",
    "\n",
    "# Import our kernels\n",
    "from sklearn.gaussian_process.kernels import Matern, WhiteKernel\n",
    "\n",
    "\n",
    "\n",
    "# Define custom kernel (Matern + noise)\n",
    "krnl = 2. + Matern(length_scale=1, nu=1.8) + WhiteKernel(noise_level=10)\n",
    "\n",
    "# Create Regressor with specified properties\n",
    "gpr = GaussianProcessRegressor(kernel=krnl, random_state=23)\n",
    "\n",
    "# Fit estimator and display score\n",
    "gpr= gpr.fit(x_train, y_train[labels[0]])\n",
    "pred = gpr.predict(x_test)\n",
    "actual = y_test[labels[0]]\n",
    "r2_gpr= stats.pearsonr(actual, pred)[0] ** 2\n",
    "r2_gpr\n",
    "\n",
    "pd = {'svc__C': st.uniform(0, 250),\n",
    "      'svc__gamma': g_vals}\n",
    " \n",
    "# Run randomized search\n",
    "rscv = RandomizedSearchCV(svp, param_distributions=pd,\n",
    "                          n_iter=num_samples)"
   ]
  },
  {
   "cell_type": "markdown",
   "metadata": {
    "colab_type": "text",
    "id": "ANJyTHt4jkT7"
   },
   "source": [
    "## Visualization"
   ]
  },
  {
   "cell_type": "code",
   "execution_count": 0,
   "metadata": {
    "colab": {},
    "colab_type": "code",
    "id": "BJC69mEDjhhG"
   },
   "outputs": [],
   "source": [
    "fig, axs = plt.subplots(2, 2, figsize=(10, 10))\n",
    "axs[0, 0].scatter( actual_linear,pred_linear)\n",
    "axs[0, 0].plot(actual_linear,actual_linear, color='red')\n",
    "\n",
    "axs[1, 0].scatter( actual_rfr, pred_rfr)\n",
    "axs[1, 0].plot(actual_rfr, actual_rfr, color='red')\n",
    "\n",
    "\n",
    "axs[0, 1].scatter(actual_en ,pred_en )\n",
    "axs[0, 1].plot(actual_en,actual_en, color='red')\n",
    "\n",
    "axs[1, 1].scatter(actual_gbr, pred_gbr )\n",
    "axs[1, 1].plot(actual_gbr, actual_gbr, color='red')\n",
    "\n",
    "\n",
    "axs[0, 0].title.set_text('Scatter Plot Linear')\n",
    "axs[1, 0].title.set_text('Scatter Plot RandomForest')\n",
    "axs[0, 1].title.set_text('Scatter Plot ElasticNet')\n",
    "axs[1, 1].title.set_text('Scatter Plot GradientBoosting')\n",
    "plt.show()"
   ]
  },
  {
   "cell_type": "markdown",
   "metadata": {
    "colab_type": "text",
    "id": "WWSlbeogjmtg"
   },
   "source": [
    "## Interpretation\n"
   ]
  },
  {
   "cell_type": "code",
   "execution_count": 0,
   "metadata": {
    "colab": {},
    "colab_type": "code",
    "id": "YwonIW4_mEaL"
   },
   "outputs": [],
   "source": []
  },
  {
   "cell_type": "markdown",
   "metadata": {
    "colab_type": "text",
    "id": "AOGKa1sXYam9"
   },
   "source": [
    "Hit and misses "
   ]
  },
  {
   "cell_type": "code",
   "execution_count": 0,
   "metadata": {
    "colab": {},
    "colab_type": "code",
    "id": "IHTFHwnXYbHR"
   },
   "outputs": [],
   "source": []
  },
  {
   "cell_type": "markdown",
   "metadata": {
    "colab_type": "text",
    "id": "k0RPD5FsYdVS"
   },
   "source": [
    "expand the prediction to grid level "
   ]
  }
 ],
 "metadata": {
  "accelerator": "TPU",
  "colab": {
   "collapsed_sections": [
    "z4-7F9HoPcQq",
    "s7DXM1k9N2nt",
    "Iw6L0fotmdJk"
   ],
   "include_colab_link": true,
   "name": "Copy of Predict_FS_MW_EDA.ipynb",
   "provenance": [],
   "toc_visible": true,
   "version": "0.3.2"
  },
  "kernelspec": {
   "display_name": "Python 3",
   "language": "python",
   "name": "python3"
  },
  "language_info": {
   "codemirror_mode": {
    "name": "ipython",
    "version": 3
   },
   "file_extension": ".py",
   "mimetype": "text/x-python",
   "name": "python",
   "nbconvert_exporter": "python",
   "pygments_lexer": "ipython3",
   "version": "3.6.3"
  }
 },
 "nbformat": 4,
 "nbformat_minor": 1
}
