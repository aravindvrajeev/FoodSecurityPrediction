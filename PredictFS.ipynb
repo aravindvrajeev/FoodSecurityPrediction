{
  "nbformat": 4,
  "nbformat_minor": 0,
  "metadata": {
    "colab": {
      "name": "PredictFS.ipynb",
      "version": "0.3.2",
      "provenance": [],
      "toc_visible": true,
      "include_colab_link": true
    },
    "kernelspec": {
      "name": "python3",
      "display_name": "Python 3"
    }
  },
  "cells": [
    {
      "cell_type": "markdown",
      "metadata": {
        "id": "view-in-github",
        "colab_type": "text"
      },
      "source": [
        "<a href=\"https://colab.research.google.com/github/zhou100/FoodSecurityPrediction/blob/master/PredictFS.ipynb\" target=\"_parent\"><img src=\"https://colab.research.google.com/assets/colab-badge.svg\" alt=\"Open In Colab\"/></a>"
      ]
    },
    {
      "metadata": {
        "id": "M84u2C8HfggW",
        "colab_type": "text"
      },
      "cell_type": "markdown",
      "source": [
        "# Use machine learning to predict food security"
      ]
    },
    {
      "metadata": {
        "id": "keVrDW_bUkj7",
        "colab_type": "text"
      },
      "cell_type": "markdown",
      "source": [
        " ## Read in the data cleaned out using R"
      ]
    },
    {
      "metadata": {
        "id": "zTkVN2xhOYAe",
        "colab_type": "code",
        "colab": {
          "base_uri": "https://localhost:8080/",
          "height": 124
        },
        "outputId": "613f4abb-c986-48d0-e542-659acb218e03"
      },
      "cell_type": "code",
      "source": [
        "from google.colab import drive\n",
        "drive.mount('/gdrive')"
      ],
      "execution_count": 1,
      "outputs": [
        {
          "output_type": "stream",
          "text": [
            "Go to this URL in a browser: https://accounts.google.com/o/oauth2/auth?client_id=947318989803-6bn6qk8qdgf4n4g3pfee6491hc0brc4i.apps.googleusercontent.com&redirect_uri=urn%3Aietf%3Awg%3Aoauth%3A2.0%3Aoob&scope=email%20https%3A%2F%2Fwww.googleapis.com%2Fauth%2Fdocs.test%20https%3A%2F%2Fwww.googleapis.com%2Fauth%2Fdrive%20https%3A%2F%2Fwww.googleapis.com%2Fauth%2Fdrive.photos.readonly%20https%3A%2F%2Fwww.googleapis.com%2Fauth%2Fpeopleapi.readonly&response_type=code\n",
            "\n",
            "Enter your authorization code:\n",
            "··········\n",
            "Mounted at /gdrive\n"
          ],
          "name": "stdout"
        }
      ]
    },
    {
      "metadata": {
        "id": "j5boaZorSjeE",
        "colab_type": "code",
        "colab": {}
      },
      "cell_type": "code",
      "source": [
        "!cp /gdrive/My\\ Drive/Colab\\ Notebooks/fs_data/mw_dataset_hh.csv ./"
      ],
      "execution_count": 0,
      "outputs": []
    },
    {
      "metadata": {
        "id": "c59sJak3Tt3a",
        "colab_type": "code",
        "colab": {}
      },
      "cell_type": "code",
      "source": [
        "!cp /gdrive/My\\ Drive/Colab\\ Notebooks/fs_data/mw_dataset_cluster.csv ./"
      ],
      "execution_count": 0,
      "outputs": []
    },
    {
      "metadata": {
        "id": "RLCNCwllULY4",
        "colab_type": "code",
        "colab": {}
      },
      "cell_type": "code",
      "source": [
        "!cp /gdrive/My\\ Drive/Colab\\ Notebooks/fs_data/tz_dataset_hh.csv ./"
      ],
      "execution_count": 0,
      "outputs": []
    },
    {
      "metadata": {
        "id": "1Xa7hpY3UL8E",
        "colab_type": "code",
        "colab": {}
      },
      "cell_type": "code",
      "source": [
        "!cp /gdrive/My\\ Drive/Colab\\ Notebooks/fs_data/tz_dataset_cluster.csv ./"
      ],
      "execution_count": 0,
      "outputs": []
    },
    {
      "metadata": {
        "id": "GaDtYKQSUMLb",
        "colab_type": "code",
        "colab": {}
      },
      "cell_type": "code",
      "source": [
        "!cp /gdrive/My\\ Drive/Colab\\ Notebooks/fs_data/ug_dataset_hh.csv ./"
      ],
      "execution_count": 0,
      "outputs": []
    },
    {
      "metadata": {
        "id": "q2kn3JtZUMWw",
        "colab_type": "code",
        "colab": {}
      },
      "cell_type": "code",
      "source": [
        "!cp /gdrive/My\\ Drive/Colab\\ Notebooks/fs_data/ug_dataset_cluster.csv ./"
      ],
      "execution_count": 0,
      "outputs": []
    },
    {
      "metadata": {
        "id": "sWyD9pyGg3tG",
        "colab_type": "text"
      },
      "cell_type": "markdown",
      "source": [
        "## Preprocessing data\n"
      ]
    },
    {
      "metadata": {
        "id": "I19oMdkdgy5O",
        "colab_type": "code",
        "colab": {}
      },
      "cell_type": "code",
      "source": [
        "# Set up Notebook\n",
        "% matplotlib inline\n",
        "\n",
        "# Standard imports\n",
        "from sklearn.model_selection import GridSearchCV\n",
        "\n",
        "import numpy as np\n",
        "import pandas as pd\n",
        "import matplotlib.pyplot as plt\n",
        "import seaborn as sns\n",
        "import scipy.stats as stats\n",
        "from matplotlib import cm\n",
        "\n",
        "\n",
        "# We do this to ignore several specific Pandas warnings\n",
        "import warnings\n",
        "warnings.filterwarnings('ignore')\n",
        "from sklearn.metrics import explained_variance_score\n",
        "from sklearn.metrics import mean_absolute_error\n",
        "from sklearn.metrics import mean_squared_error\n",
        "from sklearn.metrics import median_absolute_error\n",
        "from sklearn.metrics import r2_score"
      ],
      "execution_count": 0,
      "outputs": []
    },
    {
      "metadata": {
        "id": "2HKFzJF_Uj1L",
        "colab_type": "code",
        "colab": {}
      },
      "cell_type": "code",
      "source": [
        "# Define function of split train and test data"
      ],
      "execution_count": 0,
      "outputs": []
    },
    {
      "metadata": {
        "id": "DkA5j3EthOKU",
        "colab_type": "code",
        "colab": {}
      },
      "cell_type": "code",
      "source": [
        "y_train = train_data[labels]\n",
        "y_test = test_data[labels]\n",
        "y_test.head()"
      ],
      "execution_count": 0,
      "outputs": []
    },
    {
      "metadata": {
        "id": "17AGuZdqhQqY",
        "colab_type": "code",
        "colab": {}
      },
      "cell_type": "code",
      "source": [
        "from sklearn.preprocessing import Imputer,StandardScaler\n",
        "\n",
        "imp = Imputer(missing_values='NaN', strategy='mean', axis=0, copy=False)\n",
        "x_train = imp.fit_transform(x_train)\n",
        "x_test = imp.fit_transform(x_test)\n",
        "\n",
        "ss = StandardScaler()\n",
        "x_train = ss.fit_transform(x_train)\n",
        "x_test = ss.fit_transform(x_test)"
      ],
      "execution_count": 0,
      "outputs": []
    },
    {
      "metadata": {
        "id": "DSo3Zuh0jAN8",
        "colab_type": "text"
      },
      "cell_type": "markdown",
      "source": [
        "## "
      ]
    },
    {
      "metadata": {
        "id": "ol13jHTkg-ko",
        "colab_type": "text"
      },
      "cell_type": "markdown",
      "source": [
        "## Apply algorithms"
      ]
    },
    {
      "metadata": {
        "id": "YG-4RJ4lhUt0",
        "colab_type": "code",
        "colab": {}
      },
      "cell_type": "code",
      "source": [
        "from sklearn.linear_model import LinearRegression\n",
        "\n",
        "# Create and fit our linear regression model to training data\n",
        "model = LinearRegression(fit_intercept=True)\n",
        "model.fit(x_train, y_train[labels[2]])\n",
        "\n",
        "# Compute model predictions for test data\n",
        "pred_linear = model.predict(x_test)\n",
        "\n",
        "actual_linear = y_test[labels[2]]\n",
        "r2_linear = stats.pearsonr(actual_linear, pred_linear)[0] ** 2\n",
        "r2_linear"
      ],
      "execution_count": 0,
      "outputs": []
    },
    {
      "metadata": {
        "id": "NBViYIF3iJHS",
        "colab_type": "code",
        "colab": {}
      },
      "cell_type": "code",
      "source": [
        "from sklearn.ensemble import RandomForestRegressor\n",
        "\n",
        "# Create Regressor with default properties\n",
        "rfc = RandomForestRegressor(random_state =0,n_jobs =4,warm_start = True,max_depth=4, min_samples_leaf=5 )\n",
        "\n",
        "rfc.fit(x_train, y_train[labels[2]])\n",
        "# Fit estimator and display score\n",
        "\n",
        "# Regress on test data\n",
        "pred = rfc.predict(x_test)\n",
        "\n",
        "actual = y_test[labels[2]]\n",
        "r2_rfc = stats.pearsonr(actual, pred)[0] ** 2\n",
        "r2_rfc"
      ],
      "execution_count": 0,
      "outputs": []
    },
    {
      "metadata": {
        "id": "vK4myVU3iJrF",
        "colab_type": "code",
        "colab": {}
      },
      "cell_type": "code",
      "source": [
        "from sklearn.linear_model import RidgeCV\n",
        "ridge = RidgeCV(alphas=(400,800), fit_intercept=True, normalize=False, scoring=None, cv=5, gcv_mode='auto', store_cv_values=False) \n",
        "\n",
        "# Define different alpha values for different fits\n",
        "# alpha = [0.0, 1E-6, 1E-4, 1E-2, 1.0]\n",
        "\n",
        "ridge.fit(x_train, y_train[labels[2]])\n",
        "pred = ridge.predict(x_test)\n",
        "\n",
        "actual = y_test[labels[2]]\n",
        "r2_ridge= stats.pearsonr(actual, pred)[0] ** 2\n",
        "r2_ridge"
      ],
      "execution_count": 0,
      "outputs": []
    },
    {
      "metadata": {
        "id": "DfaZUtYJiT-g",
        "colab_type": "code",
        "colab": {}
      },
      "cell_type": "code",
      "source": [
        "from sklearn.linear_model import LassoCV\n",
        "\n",
        "ls = LassoCV(eps=0.001, n_alphas=100, alphas=(0.01, 2), fit_intercept=True,precompute='auto',n_jobs=4, random_state=0, selection='cyclic')\n",
        "\n",
        "ls = ls.fit(x_train, y_train[labels[2]])\n",
        "pred = ls.predict(x_test)\n",
        "\n",
        "actual = y_test[labels[2]]\n",
        "r2_ls= stats.pearsonr(actual, pred)[0] ** 2\n",
        "r2_ls"
      ],
      "execution_count": 0,
      "outputs": []
    },
    {
      "metadata": {
        "id": "cmys1Z7Ojfh-",
        "colab_type": "code",
        "colab": {}
      },
      "cell_type": "code",
      "source": [
        "from sklearn.linear_model import ElasticNetCV\n",
        "en = ElasticNetCV(alphas=(0.1,0.02,3,2), copy_X=True, cv=10, eps=0.004, fit_intercept=True,\n",
        "       l1_ratio=0.33, max_iter=1000, n_alphas=100, n_jobs=1,\n",
        "       normalize=False, positive=False, precompute='auto', random_state=0,\n",
        "       selection='cyclic', tol=0.0001, verbose=0)\n",
        "\n",
        "en.fit(x_train, y_train[labels[2]])\n",
        "\n",
        "pred_en = en.predict(x_test)\n",
        "\n",
        "actual_en = y_test[labels[2]]\n",
        "r2_en= stats.pearsonr(actual_en, pred_en)[0] ** 2\n",
        "r2_en"
      ],
      "execution_count": 0,
      "outputs": []
    },
    {
      "metadata": {
        "id": "ANJyTHt4jkT7",
        "colab_type": "text"
      },
      "cell_type": "markdown",
      "source": [
        "## Visualization"
      ]
    },
    {
      "metadata": {
        "id": "BJC69mEDjhhG",
        "colab_type": "code",
        "colab": {}
      },
      "cell_type": "code",
      "source": [
        "fig, axs = plt.subplots(2, 2, figsize=(10, 10))\n",
        "axs[0, 0].scatter( actual_linear,pred_linear)\n",
        "axs[0, 0].plot(actual_linear,actual_linear, color='red')\n",
        "\n",
        "axs[1, 0].scatter( actual_rfr, pred_rfr)\n",
        "axs[1, 0].plot(actual_rfr, actual_rfr, color='red')\n",
        "\n",
        "\n",
        "axs[0, 1].scatter(actual_en ,pred_en )\n",
        "axs[0, 1].plot(actual_en,actual_en, color='red')\n",
        "\n",
        "axs[1, 1].scatter(actual_gbr, pred_gbr )\n",
        "axs[1, 1].plot(actual_gbr, actual_gbr, color='red')\n",
        "\n",
        "\n",
        "axs[0, 0].title.set_text('Scatter Plot Linear')\n",
        "axs[1, 0].title.set_text('Scatter Plot RandomForest')\n",
        "axs[0, 1].title.set_text('Scatter Plot ElasticNet')\n",
        "axs[1, 1].title.set_text('Scatter Plot GradientBoosting')\n",
        "plt.show()"
      ],
      "execution_count": 0,
      "outputs": []
    },
    {
      "metadata": {
        "id": "WWSlbeogjmtg",
        "colab_type": "text"
      },
      "cell_type": "markdown",
      "source": [
        "## Interpretation\n"
      ]
    },
    {
      "metadata": {
        "id": "YwonIW4_mEaL",
        "colab_type": "code",
        "colab": {}
      },
      "cell_type": "code",
      "source": [
        ""
      ],
      "execution_count": 0,
      "outputs": []
    }
  ]
}