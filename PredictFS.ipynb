{
  "nbformat": 4,
  "nbformat_minor": 0,
  "metadata": {
    "colab": {
      "name": "PredictFS.ipynb",
      "version": "0.3.2",
      "provenance": [],
      "collapsed_sections": [
        "z4-7F9HoPcQq",
        "s7DXM1k9N2nt",
        "Iw6L0fotmdJk"
      ],
      "toc_visible": true,
      "include_colab_link": true
    },
    "kernelspec": {
      "name": "python3",
      "display_name": "Python 3"
    },
    "accelerator": "TPU"
  },
  "cells": [
    {
      "cell_type": "markdown",
      "metadata": {
        "id": "view-in-github",
        "colab_type": "text"
      },
      "source": [
        "<a href=\"https://colab.research.google.com/github/zhou100/FoodSecurityPrediction/blob/master/PredictFS.ipynb\" target=\"_parent\"><img src=\"https://colab.research.google.com/assets/colab-badge.svg\" alt=\"Open In Colab\"/></a>"
      ]
    },
    {
      "cell_type": "markdown",
      "metadata": {
        "id": "M84u2C8HfggW",
        "colab_type": "text"
      },
      "source": [
        "# Use machine learning to predict food security"
      ]
    },
    {
      "cell_type": "code",
      "metadata": {
        "id": "I19oMdkdgy5O",
        "colab_type": "code",
        "colab": {}
      },
      "source": [
        "# Set up Notebook\n",
        "% matplotlib inline\n",
        "\n",
        "# Standard imports\n",
        "from sklearn.model_selection import GridSearchCV\n",
        "\n",
        "import numpy as np\n",
        "import pandas as pd\n",
        "import matplotlib.pyplot as plt\n",
        "import seaborn as sns\n",
        "import scipy.stats as stats\n",
        "from matplotlib import cm\n",
        "\n",
        "\n",
        "# We do this to ignore several specific Pandas warnings\n",
        "import warnings\n",
        "warnings.filterwarnings('ignore')\n",
        "from sklearn.metrics import explained_variance_score\n",
        "from sklearn.metrics import mean_absolute_error\n",
        "from sklearn.metrics import mean_squared_error\n",
        "from sklearn.metrics import median_absolute_error\n",
        "from sklearn.metrics import r2_score"
      ],
      "execution_count": 0,
      "outputs": []
    },
    {
      "cell_type": "markdown",
      "metadata": {
        "id": "keVrDW_bUkj7",
        "colab_type": "text"
      },
      "source": [
        " ## Read in the data cleaned out by R"
      ]
    },
    {
      "cell_type": "markdown",
      "metadata": {
        "id": "zFRtuZDugFxL",
        "colab_type": "text"
      },
      "source": [
        "If you are using google colab like me, you will need to mount your google drive first and  copy the cleaned dataset from the R project to your google drive. \n",
        "\n",
        "If you are using python/jupyter notebook locally, just point to the right directory. "
      ]
    },
    {
      "cell_type": "code",
      "metadata": {
        "id": "qJVtdmY7tqHa",
        "colab_type": "code",
        "colab": {}
      },
      "source": [
        "url = 'https://raw.githubusercontent.com/zhou100/FoodSecurityPrediction/master/data/mw_dataset_cluster.csv'\n",
        "mw_clust = pd.read_csv(url)"
      ],
      "execution_count": 0,
      "outputs": []
    },
    {
      "cell_type": "code",
      "metadata": {
        "id": "1BPoM-zu30VO",
        "colab_type": "code",
        "colab": {}
      },
      "source": [
        "url = 'https://raw.githubusercontent.com/zhou100/FoodSecurityPrediction/master/data/tz_dataset_cluster.csv'\n",
        "tz_clust = pd.read_csv(url)\n",
        "\n",
        "url = 'https://raw.githubusercontent.com/zhou100/FoodSecurityPrediction/master/data/ug_dataset_cluster.csv'\n",
        "ug_clust = pd.read_csv(url)\n",
        "\n",
        "url = 'https://raw.githubusercontent.com/zhou100/FoodSecurityPrediction/master/data/mw_dataset_hh.csv'\n",
        "mw_hh = pd.read_csv(url)\n",
        "\n",
        "url = 'https://raw.githubusercontent.com/zhou100/FoodSecurityPrediction/master/data/tz_dataset_hh.csv'\n",
        "tz_hh = pd.read_csv(url)\n",
        "\n",
        "url = 'https://raw.githubusercontent.com/zhou100/FoodSecurityPrediction/master/data/ug_dataset_hh.csv'\n",
        "ug_hh = pd.read_csv(url)"
      ],
      "execution_count": 0,
      "outputs": []
    },
    {
      "cell_type": "markdown",
      "metadata": {
        "id": "sWyD9pyGg3tG",
        "colab_type": "text"
      },
      "source": [
        "## Preprocessing data\n"
      ]
    },
    {
      "cell_type": "markdown",
      "metadata": {
        "id": "kL-QAaj2oHAi",
        "colab_type": "text"
      },
      "source": [
        "### Remove rows of missing values or extreme values"
      ]
    },
    {
      "cell_type": "code",
      "metadata": {
        "id": "-OFPmOpNW5Oc",
        "colab_type": "code",
        "colab": {
          "base_uri": "https://localhost:8080/",
          "height": 215
        },
        "outputId": "57789e1d-b221-434d-b49e-e2fa6fb5dd5b"
      },
      "source": [
        "# no missing values \n",
        "tz_clust = tz_clust.loc[(tz_clust['FCS']!=0) & (tz_clust['HDDS']!=0)]\n",
        "tz_hh = tz_hh.loc[(tz_hh['FCS']!=0 )& tz_hh['HDDS']!=0]\n",
        "ug_clust = ug_clust.loc[(ug_clust['FCS']!=0) & (ug_clust['HDDS']!=0)]\n",
        "ug_hh = ug_hh.loc[(ug_hh['FCS']!=0) & (ug_hh['HDDS']!=0)]\n"
      ],
      "execution_count": 4,
      "outputs": [
        {
          "output_type": "error",
          "ename": "NameError",
          "evalue": "ignored",
          "traceback": [
            "\u001b[0;31m---------------------------------------------------------------------------\u001b[0m",
            "\u001b[0;31mNameError\u001b[0m                                 Traceback (most recent call last)",
            "\u001b[0;32m<ipython-input-4-7cd5e71f58c2>\u001b[0m in \u001b[0;36m<module>\u001b[0;34m()\u001b[0m\n\u001b[0;32m----> 1\u001b[0;31m \u001b[0mtz_clust\u001b[0m \u001b[0;34m=\u001b[0m \u001b[0mtz_clust\u001b[0m\u001b[0;34m.\u001b[0m\u001b[0mloc\u001b[0m\u001b[0;34m[\u001b[0m\u001b[0;34m(\u001b[0m\u001b[0mtz_clust\u001b[0m\u001b[0;34m[\u001b[0m\u001b[0;34m'FCS'\u001b[0m\u001b[0;34m]\u001b[0m\u001b[0;34m!=\u001b[0m\u001b[0;36m0\u001b[0m\u001b[0;34m)\u001b[0m \u001b[0;34m&\u001b[0m \u001b[0;34m(\u001b[0m\u001b[0mtz_clust\u001b[0m\u001b[0;34m[\u001b[0m\u001b[0;34m'HDDS'\u001b[0m\u001b[0;34m]\u001b[0m\u001b[0;34m!=\u001b[0m\u001b[0;36m0\u001b[0m\u001b[0;34m)\u001b[0m\u001b[0;34m]\u001b[0m\u001b[0;34m\u001b[0m\u001b[0;34m\u001b[0m\u001b[0m\n\u001b[0m\u001b[1;32m      2\u001b[0m \u001b[0mtz_hh\u001b[0m \u001b[0;34m=\u001b[0m \u001b[0mtz_hh\u001b[0m\u001b[0;34m.\u001b[0m\u001b[0mloc\u001b[0m\u001b[0;34m[\u001b[0m\u001b[0;34m(\u001b[0m\u001b[0mtz_hh\u001b[0m\u001b[0;34m[\u001b[0m\u001b[0;34m'FCS'\u001b[0m\u001b[0;34m]\u001b[0m\u001b[0;34m!=\u001b[0m\u001b[0;36m0\u001b[0m \u001b[0;34m)\u001b[0m\u001b[0;34m&\u001b[0m \u001b[0mtz_hh\u001b[0m\u001b[0;34m[\u001b[0m\u001b[0;34m'HDDS'\u001b[0m\u001b[0;34m]\u001b[0m\u001b[0;34m!=\u001b[0m\u001b[0;36m0\u001b[0m\u001b[0;34m]\u001b[0m\u001b[0;34m\u001b[0m\u001b[0;34m\u001b[0m\u001b[0m\n\u001b[1;32m      3\u001b[0m \u001b[0mug_clust\u001b[0m \u001b[0;34m=\u001b[0m \u001b[0mug_clust\u001b[0m\u001b[0;34m.\u001b[0m\u001b[0mloc\u001b[0m\u001b[0;34m[\u001b[0m\u001b[0;34m(\u001b[0m\u001b[0mug_clust\u001b[0m\u001b[0;34m[\u001b[0m\u001b[0;34m'FCS'\u001b[0m\u001b[0;34m]\u001b[0m\u001b[0;34m!=\u001b[0m\u001b[0;36m0\u001b[0m\u001b[0;34m)\u001b[0m \u001b[0;34m&\u001b[0m \u001b[0;34m(\u001b[0m\u001b[0mug_clust\u001b[0m\u001b[0;34m[\u001b[0m\u001b[0;34m'HDDS'\u001b[0m\u001b[0;34m]\u001b[0m\u001b[0;34m!=\u001b[0m\u001b[0;36m0\u001b[0m\u001b[0;34m)\u001b[0m\u001b[0;34m]\u001b[0m\u001b[0;34m\u001b[0m\u001b[0;34m\u001b[0m\u001b[0m\n\u001b[1;32m      4\u001b[0m \u001b[0mug_hh\u001b[0m \u001b[0;34m=\u001b[0m \u001b[0mug_hh\u001b[0m\u001b[0;34m.\u001b[0m\u001b[0mloc\u001b[0m\u001b[0;34m[\u001b[0m\u001b[0;34m(\u001b[0m\u001b[0mug_hh\u001b[0m\u001b[0;34m[\u001b[0m\u001b[0;34m'FCS'\u001b[0m\u001b[0;34m]\u001b[0m\u001b[0;34m!=\u001b[0m\u001b[0;36m0\u001b[0m\u001b[0;34m)\u001b[0m \u001b[0;34m&\u001b[0m \u001b[0;34m(\u001b[0m\u001b[0mug_hh\u001b[0m\u001b[0;34m[\u001b[0m\u001b[0;34m'HDDS'\u001b[0m\u001b[0;34m]\u001b[0m\u001b[0;34m!=\u001b[0m\u001b[0;36m0\u001b[0m\u001b[0;34m)\u001b[0m\u001b[0;34m]\u001b[0m\u001b[0;34m\u001b[0m\u001b[0;34m\u001b[0m\u001b[0m\n",
            "\u001b[0;31mNameError\u001b[0m: name 'tz_clust' is not defined"
          ]
        }
      ]
    },
    {
      "cell_type": "markdown",
      "metadata": {
        "id": "z4-7F9HoPcQq",
        "colab_type": "text"
      },
      "source": [
        "### One-hot encoding for string variables "
      ]
    },
    {
      "cell_type": "code",
      "metadata": {
        "id": "o5G4izvkM1NP",
        "colab_type": "code",
        "colab": {}
      },
      "source": [
        "mw_clust[\"FNID\"]= mw_clust[\"FNID\"].str.lstrip('MW2012C')\n",
        "fnid_mw_clust = pd.get_dummies(mw_clust[\"FNID\"],prefix='MW', drop_first=True)\n",
        "mw_clust = pd.concat([mw_clust, fnid_mw_clust], axis=1)\n"
      ],
      "execution_count": 0,
      "outputs": []
    },
    {
      "cell_type": "code",
      "metadata": {
        "id": "agxwXJAMSCnq",
        "colab_type": "code",
        "cellView": "both",
        "colab": {}
      },
      "source": [
        "mw_hh[\"FNID\"]= mw_hh[\"FNID\"].str.lstrip('MW2012C')\n",
        "fnid_mw_hh = pd.get_dummies(mw_hh[\"FNID\"],prefix='MW', drop_first=True)\n",
        "mw_hh = pd.concat([mw_hh, fnid_mw_hh], axis=1)\n",
        "\n",
        "mw_clust[\"FNID\"]= mw_clust[\"FNID\"].str.lstrip('MW2012C')\n",
        "fnid_mw_clust = pd.get_dummies(mw_clust[\"FNID\"],prefix='MW', drop_first=True)\n",
        "mw_clust = pd.concat([mw_clust, fnid_mw_clust], axis=1)\n",
        "\n",
        "\n",
        "\n",
        "gender_mw_hh = pd.get_dummies(mw_hh[\"head_gender\"],prefix='gender', drop_first=True)\n",
        "mw_hh = pd.concat([mw_hh, gender_mw_hh], axis=1)\n",
        "\n",
        "edu_mw_hh = pd.get_dummies(mw_hh[\"head_edlevel\"],prefix='edu', drop_first=True)\n",
        "mw_hh = pd.concat([mw_hh, edu_mw_hh], axis=1)\n",
        "\n",
        "\n",
        "mw_hh = mw_hh.drop([\"head_gender\",\"head_edlevel\"],axis =1)\n",
        "\n",
        "tz_hh[\"FNID\"]= tz_hh[\"FNID\"].str.lstrip('TZ2009L')\n",
        "fnid_tz_hh = pd.get_dummies(tz_hh[\"FNID\"],prefix='TZ', drop_first=True)\n",
        "tz_hh = pd.concat([tz_hh, fnid_tz_hh], axis=1)\n",
        "tz_hh = tz_hh.drop([\"FNID\"],axis =1)\n",
        "\n",
        "\n",
        "tz_clust[\"FNID\"]= tz_clust[\"FNID\"].str.lstrip('TZ2009L')\n",
        "fnid_tz_clust = pd.get_dummies(tz_clust[\"FNID\"],prefix='TZ', drop_first=True)\n",
        "tz_clust = pd.concat([tz_clust, fnid_tz_clust], axis=1)\n",
        "tz_clust = tz_clust.drop([\"FNID\"],axis =1)\n",
        "\n",
        "ug_hh[\"FNID\"]= ug_hh[\"FNID\"].str.lstrip('UG2011L')\n",
        "fnid_ug_hh = pd.get_dummies(ug_hh[\"FNID\"],prefix='UG', drop_first=True)\n",
        "ug_hh = pd.concat([ug_hh, fnid_ug_hh], axis=1)\n",
        "ug_hh = ug_hh.drop([\"FNID\"],axis =1)\n",
        "\n",
        "\n",
        "ug_clust[\"FNID\"]= ug_clust[\"FNID\"].str.lstrip('UG2011L')\n",
        "fnid_ug_clust = pd.get_dummies(ug_clust[\"FNID\"],prefix='UG', drop_first=True)\n",
        "ug_clust = pd.concat([ug_clust, fnid_ug_clust], axis=1)\n",
        "ug_clust = ug_clust.drop([\"FNID\"],axis =1)\n",
        "\n",
        "mw_hh = mw_hh.drop([\"ea_id\"],axis=1)\n",
        "tz_hh = tz_hh.drop([\"yearmon\"],axis=1)\n",
        "tz_clust = tz_clust.drop([\"yearmon\"],axis=1)\n",
        "\n",
        "ug_hh = ug_hh.drop([\"yearmon\"],axis=1)\n",
        "ug_clust = ug_clust.drop([\"yearmon\"],axis=1)\n"
      ],
      "execution_count": 0,
      "outputs": []
    },
    {
      "cell_type": "markdown",
      "metadata": {
        "id": "s7DXM1k9N2nt",
        "colab_type": "text"
      },
      "source": [
        "### Impute missing values and standarize variables "
      ]
    },
    {
      "cell_type": "code",
      "metadata": {
        "id": "8CwDmwc1MdA3",
        "colab_type": "code",
        "colab": {}
      },
      "source": [
        "from sklearn.preprocessing import StandardScaler\n",
        "\n",
        "#ss = StandardScaler()\n",
        "\n",
        "#mw_hh_X_train = ss.fit_transform(mw_hh_X_train)\n",
        "#mw_hh_X_test = ss.fit_transform(mw_hh_X_test)\n",
        "#tz_hh_X_train = ss.fit_transform(tz_hh_X_train)\n",
        "#tz_hh_X_test = ss.fit_transform(tz_hh_X_test)\n",
        "#ug_hh_X_train = ss.fit_transform(ug_hh_X_train)\n",
        "#ug_hh_X_test = ss.fit_transform(ug_hh_X_test)\n",
        "\n",
        "#mw_clust_X_train = ss.fit_transform(mw_clust_X_train)\n",
        "#mw_clust_X_test = ss.fit_transform(mw_clust_X_test)\n",
        "#tz_clust_X_train = ss.fit_transform(tz_clust_X_train)\n",
        "#tz_clust_X_test = ss.fit_transform(tz_clust_X_test)\n",
        "#ug_clust_X_train = ss.fit_transform(ug_clust_X_train)\n",
        "#ug_clust_X_test = ss.fit_transform(ug_clust_X_test)\n",
        "\n"
      ],
      "execution_count": 0,
      "outputs": []
    },
    {
      "cell_type": "markdown",
      "metadata": {
        "id": "EHTKzlm8G7rS",
        "colab_type": "text"
      },
      "source": [
        "# Methodology\n"
      ]
    },
    {
      "cell_type": "markdown",
      "metadata": {
        "id": "G1SERn3aHD_P",
        "colab_type": "text"
      },
      "source": [
        "This section will explain our main approach with the data.\n",
        "\n",
        "1. Focus on categorical prediciton for the given cutoffs. \n",
        "Reasons: More close to the actual policy scenarios. Can apply the down sampling and oversampling technique here.\n",
        "\n",
        "\n",
        "2.  Algorithms to try : random forest with deep trees, xgboost \n",
        "\n",
        "2.4  Parameter Tuning\n",
        "\n",
        "2.5 . feature importance analysis\n",
        "\n",
        "\n",
        "3.  Error analysis by region, by group, by month\n",
        "\n",
        "4.  Train model by division separtely Auto-segmentation by training a shallow tree based on observables \n",
        "\n",
        "\n",
        "5. Model combination: what happens when we train on all the data \n",
        "\n",
        "6. Model generalization issues: what happens when we directly apply  models trained on one country to predict another \n",
        "\n",
        "7. Distance to school and hospital \n",
        "\n",
        "\n",
        "\n",
        "\n"
      ]
    },
    {
      "cell_type": "markdown",
      "metadata": {
        "id": "DSo3Zuh0jAN8",
        "colab_type": "text"
      },
      "source": [
        "## Exploratory Data Analysis  "
      ]
    },
    {
      "cell_type": "markdown",
      "metadata": {
        "id": "0EVf0OgQhyzj",
        "colab_type": "text"
      },
      "source": [
        "### Measures:  plot target measures by year by country\n"
      ]
    },
    {
      "cell_type": "code",
      "metadata": {
        "id": "NhZG9v9kZt4g",
        "colab_type": "code",
        "colab": {
          "base_uri": "https://localhost:8080/",
          "height": 253
        },
        "outputId": "9454fe20-b85e-47e0-ee90-fcc2c5dd1209"
      },
      "source": [
        "\n",
        "mw_clust.head()"
      ],
      "execution_count": 5,
      "outputs": [
        {
          "output_type": "execute_result",
          "data": {
            "text/html": [
              "<div>\n",
              "<style scoped>\n",
              "    .dataframe tbody tr th:only-of-type {\n",
              "        vertical-align: middle;\n",
              "    }\n",
              "\n",
              "    .dataframe tbody tr th {\n",
              "        vertical-align: top;\n",
              "    }\n",
              "\n",
              "    .dataframe thead th {\n",
              "        text-align: right;\n",
              "    }\n",
              "</style>\n",
              "<table border=\"1\" class=\"dataframe\">\n",
              "  <thead>\n",
              "    <tr style=\"text-align: right;\">\n",
              "      <th></th>\n",
              "      <th>ea_id</th>\n",
              "      <th>FS_year</th>\n",
              "      <th>FNID</th>\n",
              "      <th>Refrigerator</th>\n",
              "      <th>Radio</th>\n",
              "      <th>Television</th>\n",
              "      <th>Bicycle</th>\n",
              "      <th>Motorcycle</th>\n",
              "      <th>Car</th>\n",
              "      <th>number_celphones</th>\n",
              "      <th>floor_cement</th>\n",
              "      <th>floor_tile</th>\n",
              "      <th>floor_dirt_sand_dung</th>\n",
              "      <th>roof_natural</th>\n",
              "      <th>roof_iron</th>\n",
              "      <th>roof_other</th>\n",
              "      <th>cell_phone</th>\n",
              "      <th>hhsize</th>\n",
              "      <th>FS_month</th>\n",
              "      <th>dist_road</th>\n",
              "      <th>dist_popcenter</th>\n",
              "      <th>dist_admarc</th>\n",
              "      <th>ag_percent</th>\n",
              "      <th>elevation</th>\n",
              "      <th>rCSI</th>\n",
              "      <th>HDDS</th>\n",
              "      <th>FCS</th>\n",
              "      <th>dummy_terrain_rough</th>\n",
              "      <th>nutri_severe_constraint</th>\n",
              "      <th>nutri_moderate_constraint</th>\n",
              "      <th>asset_index</th>\n",
              "      <th>rural</th>\n",
              "      <th>clust_maize_price</th>\n",
              "      <th>clust_rice_price</th>\n",
              "      <th>clust_nuts_price</th>\n",
              "      <th>clust_beans_price</th>\n",
              "      <th>clust_maize_mktthin</th>\n",
              "      <th>clust_rice_mktthin</th>\n",
              "      <th>clust_nuts_mktthin</th>\n",
              "      <th>clust_beans_mktthin</th>\n",
              "      <th>...</th>\n",
              "      <th>MW_3020213</th>\n",
              "      <th>MW_3020303</th>\n",
              "      <th>MW_3020403</th>\n",
              "      <th>MW_3020503</th>\n",
              "      <th>MW_3020513</th>\n",
              "      <th>MW_3020515</th>\n",
              "      <th>MW_3020603</th>\n",
              "      <th>MW_3020619</th>\n",
              "      <th>MW_3020703</th>\n",
              "      <th>MW_3020803</th>\n",
              "      <th>MW_3020813</th>\n",
              "      <th>MW_3020815</th>\n",
              "      <th>MW_3020913</th>\n",
              "      <th>MW_3030112</th>\n",
              "      <th>MW_3030114</th>\n",
              "      <th>MW_3030115</th>\n",
              "      <th>MW_3030204</th>\n",
              "      <th>MW_3030206</th>\n",
              "      <th>MW_3030214</th>\n",
              "      <th>MW_3030304</th>\n",
              "      <th>MW_3030306</th>\n",
              "      <th>MW_3030314</th>\n",
              "      <th>MW_3030404</th>\n",
              "      <th>MW_3030414</th>\n",
              "      <th>MW_3030506</th>\n",
              "      <th>MW_3030514</th>\n",
              "      <th>MW_3030519</th>\n",
              "      <th>MW_3030606</th>\n",
              "      <th>MW_3030613</th>\n",
              "      <th>MW_3030714</th>\n",
              "      <th>MW_3030716</th>\n",
              "      <th>MW_3030804</th>\n",
              "      <th>MW_3030816</th>\n",
              "      <th>MW_3030904</th>\n",
              "      <th>MW_3031005</th>\n",
              "      <th>MW_3031105</th>\n",
              "      <th>MW_3031206</th>\n",
              "      <th>MW_3031213</th>\n",
              "      <th>MW_3031313</th>\n",
              "      <th>MW_3999918</th>\n",
              "    </tr>\n",
              "  </thead>\n",
              "  <tbody>\n",
              "    <tr>\n",
              "      <th>0</th>\n",
              "      <td>10101016</td>\n",
              "      <td>2010</td>\n",
              "      <td>3010102</td>\n",
              "      <td>0.000000</td>\n",
              "      <td>0.437500</td>\n",
              "      <td>0.000000</td>\n",
              "      <td>0.375000</td>\n",
              "      <td>0.0</td>\n",
              "      <td>0.0</td>\n",
              "      <td>0.437500</td>\n",
              "      <td>0.062500</td>\n",
              "      <td>0.0</td>\n",
              "      <td>0.0</td>\n",
              "      <td>0.875000</td>\n",
              "      <td>0.125000</td>\n",
              "      <td>0.0</td>\n",
              "      <td>0.250000</td>\n",
              "      <td>5.937500</td>\n",
              "      <td>4.000000</td>\n",
              "      <td>2.656875</td>\n",
              "      <td>62.406875</td>\n",
              "      <td>12.016250</td>\n",
              "      <td>20.875000</td>\n",
              "      <td>1295.312500</td>\n",
              "      <td>3.625000</td>\n",
              "      <td>5.375000</td>\n",
              "      <td>39.968750</td>\n",
              "      <td>0</td>\n",
              "      <td>0.000000</td>\n",
              "      <td>0</td>\n",
              "      <td>-1.097918</td>\n",
              "      <td>1.000000</td>\n",
              "      <td>44.282500</td>\n",
              "      <td>247.276000</td>\n",
              "      <td>235.426000</td>\n",
              "      <td>187.412000</td>\n",
              "      <td>0.2</td>\n",
              "      <td>0.0</td>\n",
              "      <td>0.0</td>\n",
              "      <td>0.0</td>\n",
              "      <td>...</td>\n",
              "      <td>0</td>\n",
              "      <td>0</td>\n",
              "      <td>0</td>\n",
              "      <td>0</td>\n",
              "      <td>0</td>\n",
              "      <td>0</td>\n",
              "      <td>0</td>\n",
              "      <td>0</td>\n",
              "      <td>0</td>\n",
              "      <td>0</td>\n",
              "      <td>0</td>\n",
              "      <td>0</td>\n",
              "      <td>0</td>\n",
              "      <td>0</td>\n",
              "      <td>0</td>\n",
              "      <td>0</td>\n",
              "      <td>0</td>\n",
              "      <td>0</td>\n",
              "      <td>0</td>\n",
              "      <td>0</td>\n",
              "      <td>0</td>\n",
              "      <td>0</td>\n",
              "      <td>0</td>\n",
              "      <td>0</td>\n",
              "      <td>0</td>\n",
              "      <td>0</td>\n",
              "      <td>0</td>\n",
              "      <td>0</td>\n",
              "      <td>0</td>\n",
              "      <td>0</td>\n",
              "      <td>0</td>\n",
              "      <td>0</td>\n",
              "      <td>0</td>\n",
              "      <td>0</td>\n",
              "      <td>0</td>\n",
              "      <td>0</td>\n",
              "      <td>0</td>\n",
              "      <td>0</td>\n",
              "      <td>0</td>\n",
              "      <td>0</td>\n",
              "    </tr>\n",
              "    <tr>\n",
              "      <th>1</th>\n",
              "      <td>10101016</td>\n",
              "      <td>2013</td>\n",
              "      <td>3010102</td>\n",
              "      <td>0.000000</td>\n",
              "      <td>0.437500</td>\n",
              "      <td>0.000000</td>\n",
              "      <td>0.312500</td>\n",
              "      <td>0.0</td>\n",
              "      <td>0.0</td>\n",
              "      <td>0.250000</td>\n",
              "      <td>0.062500</td>\n",
              "      <td>0.0</td>\n",
              "      <td>0.0</td>\n",
              "      <td>0.937500</td>\n",
              "      <td>0.062500</td>\n",
              "      <td>0.0</td>\n",
              "      <td>0.250000</td>\n",
              "      <td>6.187500</td>\n",
              "      <td>4.000000</td>\n",
              "      <td>2.250000</td>\n",
              "      <td>62.562500</td>\n",
              "      <td>12.687500</td>\n",
              "      <td>23.250000</td>\n",
              "      <td>1296.250000</td>\n",
              "      <td>12.312500</td>\n",
              "      <td>4.687500</td>\n",
              "      <td>57.562500</td>\n",
              "      <td>0</td>\n",
              "      <td>0.000000</td>\n",
              "      <td>0</td>\n",
              "      <td>-1.272851</td>\n",
              "      <td>1.000000</td>\n",
              "      <td>117.495000</td>\n",
              "      <td>338.092614</td>\n",
              "      <td>260.726301</td>\n",
              "      <td>169.705691</td>\n",
              "      <td>0.5</td>\n",
              "      <td>1.0</td>\n",
              "      <td>1.0</td>\n",
              "      <td>1.0</td>\n",
              "      <td>...</td>\n",
              "      <td>0</td>\n",
              "      <td>0</td>\n",
              "      <td>0</td>\n",
              "      <td>0</td>\n",
              "      <td>0</td>\n",
              "      <td>0</td>\n",
              "      <td>0</td>\n",
              "      <td>0</td>\n",
              "      <td>0</td>\n",
              "      <td>0</td>\n",
              "      <td>0</td>\n",
              "      <td>0</td>\n",
              "      <td>0</td>\n",
              "      <td>0</td>\n",
              "      <td>0</td>\n",
              "      <td>0</td>\n",
              "      <td>0</td>\n",
              "      <td>0</td>\n",
              "      <td>0</td>\n",
              "      <td>0</td>\n",
              "      <td>0</td>\n",
              "      <td>0</td>\n",
              "      <td>0</td>\n",
              "      <td>0</td>\n",
              "      <td>0</td>\n",
              "      <td>0</td>\n",
              "      <td>0</td>\n",
              "      <td>0</td>\n",
              "      <td>0</td>\n",
              "      <td>0</td>\n",
              "      <td>0</td>\n",
              "      <td>0</td>\n",
              "      <td>0</td>\n",
              "      <td>0</td>\n",
              "      <td>0</td>\n",
              "      <td>0</td>\n",
              "      <td>0</td>\n",
              "      <td>0</td>\n",
              "      <td>0</td>\n",
              "      <td>0</td>\n",
              "    </tr>\n",
              "    <tr>\n",
              "      <th>2</th>\n",
              "      <td>10101204</td>\n",
              "      <td>2010</td>\n",
              "      <td>3010102</td>\n",
              "      <td>0.000000</td>\n",
              "      <td>0.437500</td>\n",
              "      <td>0.000000</td>\n",
              "      <td>0.500000</td>\n",
              "      <td>0.0</td>\n",
              "      <td>0.0</td>\n",
              "      <td>0.250000</td>\n",
              "      <td>0.125000</td>\n",
              "      <td>0.0</td>\n",
              "      <td>0.0</td>\n",
              "      <td>0.812500</td>\n",
              "      <td>0.187500</td>\n",
              "      <td>0.0</td>\n",
              "      <td>0.250000</td>\n",
              "      <td>5.437500</td>\n",
              "      <td>8.000000</td>\n",
              "      <td>0.513750</td>\n",
              "      <td>58.466875</td>\n",
              "      <td>10.821875</td>\n",
              "      <td>48.687500</td>\n",
              "      <td>1403.250000</td>\n",
              "      <td>2.687500</td>\n",
              "      <td>4.937500</td>\n",
              "      <td>32.093750</td>\n",
              "      <td>0</td>\n",
              "      <td>0.000000</td>\n",
              "      <td>0</td>\n",
              "      <td>-0.993365</td>\n",
              "      <td>1.000000</td>\n",
              "      <td>31.591000</td>\n",
              "      <td>176.821000</td>\n",
              "      <td>180.817000</td>\n",
              "      <td>167.261000</td>\n",
              "      <td>0.0</td>\n",
              "      <td>0.0</td>\n",
              "      <td>0.0</td>\n",
              "      <td>0.0</td>\n",
              "      <td>...</td>\n",
              "      <td>0</td>\n",
              "      <td>0</td>\n",
              "      <td>0</td>\n",
              "      <td>0</td>\n",
              "      <td>0</td>\n",
              "      <td>0</td>\n",
              "      <td>0</td>\n",
              "      <td>0</td>\n",
              "      <td>0</td>\n",
              "      <td>0</td>\n",
              "      <td>0</td>\n",
              "      <td>0</td>\n",
              "      <td>0</td>\n",
              "      <td>0</td>\n",
              "      <td>0</td>\n",
              "      <td>0</td>\n",
              "      <td>0</td>\n",
              "      <td>0</td>\n",
              "      <td>0</td>\n",
              "      <td>0</td>\n",
              "      <td>0</td>\n",
              "      <td>0</td>\n",
              "      <td>0</td>\n",
              "      <td>0</td>\n",
              "      <td>0</td>\n",
              "      <td>0</td>\n",
              "      <td>0</td>\n",
              "      <td>0</td>\n",
              "      <td>0</td>\n",
              "      <td>0</td>\n",
              "      <td>0</td>\n",
              "      <td>0</td>\n",
              "      <td>0</td>\n",
              "      <td>0</td>\n",
              "      <td>0</td>\n",
              "      <td>0</td>\n",
              "      <td>0</td>\n",
              "      <td>0</td>\n",
              "      <td>0</td>\n",
              "      <td>0</td>\n",
              "    </tr>\n",
              "    <tr>\n",
              "      <th>3</th>\n",
              "      <td>10101204</td>\n",
              "      <td>2010</td>\n",
              "      <td>3010508</td>\n",
              "      <td>0.000000</td>\n",
              "      <td>0.437500</td>\n",
              "      <td>0.000000</td>\n",
              "      <td>0.500000</td>\n",
              "      <td>0.0</td>\n",
              "      <td>0.0</td>\n",
              "      <td>0.250000</td>\n",
              "      <td>0.125000</td>\n",
              "      <td>0.0</td>\n",
              "      <td>0.0</td>\n",
              "      <td>0.812500</td>\n",
              "      <td>0.187500</td>\n",
              "      <td>0.0</td>\n",
              "      <td>0.250000</td>\n",
              "      <td>5.437500</td>\n",
              "      <td>8.000000</td>\n",
              "      <td>0.513750</td>\n",
              "      <td>58.466875</td>\n",
              "      <td>10.821875</td>\n",
              "      <td>48.687500</td>\n",
              "      <td>1403.250000</td>\n",
              "      <td>2.687500</td>\n",
              "      <td>4.937500</td>\n",
              "      <td>32.093750</td>\n",
              "      <td>0</td>\n",
              "      <td>0.000000</td>\n",
              "      <td>0</td>\n",
              "      <td>-0.993365</td>\n",
              "      <td>1.000000</td>\n",
              "      <td>31.591000</td>\n",
              "      <td>176.821000</td>\n",
              "      <td>180.817000</td>\n",
              "      <td>167.261000</td>\n",
              "      <td>0.0</td>\n",
              "      <td>0.0</td>\n",
              "      <td>0.0</td>\n",
              "      <td>0.0</td>\n",
              "      <td>...</td>\n",
              "      <td>0</td>\n",
              "      <td>0</td>\n",
              "      <td>0</td>\n",
              "      <td>0</td>\n",
              "      <td>0</td>\n",
              "      <td>0</td>\n",
              "      <td>0</td>\n",
              "      <td>0</td>\n",
              "      <td>0</td>\n",
              "      <td>0</td>\n",
              "      <td>0</td>\n",
              "      <td>0</td>\n",
              "      <td>0</td>\n",
              "      <td>0</td>\n",
              "      <td>0</td>\n",
              "      <td>0</td>\n",
              "      <td>0</td>\n",
              "      <td>0</td>\n",
              "      <td>0</td>\n",
              "      <td>0</td>\n",
              "      <td>0</td>\n",
              "      <td>0</td>\n",
              "      <td>0</td>\n",
              "      <td>0</td>\n",
              "      <td>0</td>\n",
              "      <td>0</td>\n",
              "      <td>0</td>\n",
              "      <td>0</td>\n",
              "      <td>0</td>\n",
              "      <td>0</td>\n",
              "      <td>0</td>\n",
              "      <td>0</td>\n",
              "      <td>0</td>\n",
              "      <td>0</td>\n",
              "      <td>0</td>\n",
              "      <td>0</td>\n",
              "      <td>0</td>\n",
              "      <td>0</td>\n",
              "      <td>0</td>\n",
              "      <td>0</td>\n",
              "    </tr>\n",
              "    <tr>\n",
              "      <th>4</th>\n",
              "      <td>10101204</td>\n",
              "      <td>2013</td>\n",
              "      <td>3010102</td>\n",
              "      <td>0.058824</td>\n",
              "      <td>0.352941</td>\n",
              "      <td>0.117647</td>\n",
              "      <td>0.352941</td>\n",
              "      <td>0.0</td>\n",
              "      <td>0.0</td>\n",
              "      <td>0.647059</td>\n",
              "      <td>0.176471</td>\n",
              "      <td>0.0</td>\n",
              "      <td>0.0</td>\n",
              "      <td>0.647059</td>\n",
              "      <td>0.352941</td>\n",
              "      <td>0.0</td>\n",
              "      <td>0.411765</td>\n",
              "      <td>5.529412</td>\n",
              "      <td>5.058824</td>\n",
              "      <td>0.529412</td>\n",
              "      <td>56.529412</td>\n",
              "      <td>11.411765</td>\n",
              "      <td>45.764706</td>\n",
              "      <td>1380.588235</td>\n",
              "      <td>4.470588</td>\n",
              "      <td>5.058824</td>\n",
              "      <td>68.264706</td>\n",
              "      <td>0</td>\n",
              "      <td>0.058824</td>\n",
              "      <td>0</td>\n",
              "      <td>-0.301647</td>\n",
              "      <td>0.941176</td>\n",
              "      <td>119.627402</td>\n",
              "      <td>400.969080</td>\n",
              "      <td>379.379586</td>\n",
              "      <td>347.946196</td>\n",
              "      <td>0.0</td>\n",
              "      <td>1.0</td>\n",
              "      <td>1.0</td>\n",
              "      <td>1.0</td>\n",
              "      <td>...</td>\n",
              "      <td>0</td>\n",
              "      <td>0</td>\n",
              "      <td>0</td>\n",
              "      <td>0</td>\n",
              "      <td>0</td>\n",
              "      <td>0</td>\n",
              "      <td>0</td>\n",
              "      <td>0</td>\n",
              "      <td>0</td>\n",
              "      <td>0</td>\n",
              "      <td>0</td>\n",
              "      <td>0</td>\n",
              "      <td>0</td>\n",
              "      <td>0</td>\n",
              "      <td>0</td>\n",
              "      <td>0</td>\n",
              "      <td>0</td>\n",
              "      <td>0</td>\n",
              "      <td>0</td>\n",
              "      <td>0</td>\n",
              "      <td>0</td>\n",
              "      <td>0</td>\n",
              "      <td>0</td>\n",
              "      <td>0</td>\n",
              "      <td>0</td>\n",
              "      <td>0</td>\n",
              "      <td>0</td>\n",
              "      <td>0</td>\n",
              "      <td>0</td>\n",
              "      <td>0</td>\n",
              "      <td>0</td>\n",
              "      <td>0</td>\n",
              "      <td>0</td>\n",
              "      <td>0</td>\n",
              "      <td>0</td>\n",
              "      <td>0</td>\n",
              "      <td>0</td>\n",
              "      <td>0</td>\n",
              "      <td>0</td>\n",
              "      <td>0</td>\n",
              "    </tr>\n",
              "  </tbody>\n",
              "</table>\n",
              "<p>5 rows × 114 columns</p>\n",
              "</div>"
            ],
            "text/plain": [
              "      ea_id  FS_year     FNID  ...  MW_3031213  MW_3031313  MW_3999918\n",
              "0  10101016     2010  3010102  ...           0           0           0\n",
              "1  10101016     2013  3010102  ...           0           0           0\n",
              "2  10101204     2010  3010102  ...           0           0           0\n",
              "3  10101204     2010  3010508  ...           0           0           0\n",
              "4  10101204     2013  3010102  ...           0           0           0\n",
              "\n",
              "[5 rows x 114 columns]"
            ]
          },
          "metadata": {
            "tags": []
          },
          "execution_count": 5
        }
      ]
    },
    {
      "cell_type": "code",
      "metadata": {
        "id": "vQVpjOMObguF",
        "colab_type": "code",
        "colab": {
          "base_uri": "https://localhost:8080/",
          "height": 285
        },
        "outputId": "356d5c72-bfd3-4704-f6a6-fd9eff47ea72"
      },
      "source": [
        "# cut the outcome variables by the cutoffs\n",
        "mw_clust['FCS_category']= pd.cut(x=mw_clust['FCS'], bins=[0,28,42,100],labels= [\"severe\", \"medium\", \"good\"])\n",
        "  \n",
        "mw_clust['FCS_category'].value_counts().plot(kind='pie', title=' Counts (FCS categories)')\n"
      ],
      "execution_count": 16,
      "outputs": [
        {
          "output_type": "execute_result",
          "data": {
            "text/plain": [
              "<matplotlib.axes._subplots.AxesSubplot at 0x7f4f560ee748>"
            ]
          },
          "metadata": {
            "tags": []
          },
          "execution_count": 16
        },
        {
          "output_type": "display_data",
          "data": {
            "image/png": "[encoded data removed]",
            "text/plain": [
              "<Figure size 432x288 with 1 Axes>"
            ]
          },
          "metadata": {
            "tags": []
          }
        }
      ]
    },
    {
      "cell_type": "code",
      "metadata": {
        "id": "mEIDc34pb6jK",
        "colab_type": "code",
        "colab": {
          "base_uri": "https://localhost:8080/",
          "height": 285
        },
        "outputId": "78c86c0c-07f0-48ed-a914-8dbc4607725c"
      },
      "source": [
        " # HDDS 3 and 6\n",
        "mw_clust['HDDS_category']= pd.cut(x=mw_clust['HDDS'], bins=[0,3,6,10],labels= [\"severe\", \"medium\", \"good\"])\n",
        "  \n",
        "mw_clust['HDDS_category'].value_counts().plot(kind='pie', title='Count (HDDS categories)')\n"
      ],
      "execution_count": 17,
      "outputs": [
        {
          "output_type": "execute_result",
          "data": {
            "text/plain": [
              "<matplotlib.axes._subplots.AxesSubplot at 0x7f4f560bb470>"
            ]
          },
          "metadata": {
            "tags": []
          },
          "execution_count": 17
        },
        {
          "output_type": "display_data",
          "data": {
            "image/png": "[encoded data removed]",
            "text/plain": [
              "<Figure size 432x288 with 1 Axes>"
            ]
          },
          "metadata": {
            "tags": []
          }
        }
      ]
    },
    {
      "cell_type": "code",
      "metadata": {
        "id": "CiRa0o7NcZ5N",
        "colab_type": "code",
        "colab": {
          "base_uri": "https://localhost:8080/",
          "height": 285
        },
        "outputId": "f67cc814-7913-4ff0-8f13-435073e283be"
      },
      "source": [
        "# rCSI 4 and 17  and 42\n",
        "mw_clust['rCSI_category']= pd.cut(x=mw_clust['rCSI'], bins=[0,4,17,42],labels= [\"secure\", \"mild\", \"moderate\"])\n",
        "  \n",
        "mw_clust['rCSI_category'].value_counts().plot(kind='pie', title='Count (HDDS categories)')\n"
      ],
      "execution_count": 19,
      "outputs": [
        {
          "output_type": "execute_result",
          "data": {
            "text/plain": [
              "<matplotlib.axes._subplots.AxesSubplot at 0x7f4f5602bcf8>"
            ]
          },
          "metadata": {
            "tags": []
          },
          "execution_count": 19
        },
        {
          "output_type": "display_data",
          "data": {
            "image/png": "[encoded data removed]",
            "text/plain": [
              "<Figure size 432x288 with 1 Axes>"
            ]
          },
          "metadata": {
            "tags": []
          }
        }
      ]
    },
    {
      "cell_type": "code",
      "metadata": {
        "id": "Mp4kXpaXfS0V",
        "colab_type": "code",
        "outputId": "89d2bb84-05f0-4401-c341-2a89e757963f",
        "colab": {
          "base_uri": "https://localhost:8080/",
          "height": 1591
        }
      },
      "source": [
        "mw_clust.plot.scatter(x='FS_year', y='FCS')\n",
        "mw_clust.plot.scatter(x='FS_year', y='HDDS')\n",
        "mw_clust.plot.scatter(x='FS_year', y='rCSI')\n",
        "\n",
        "mw_clust.plot.density(y='FCS')\n",
        "mw_clust.plot.density(y='HDDS')\n",
        "mw_clust.plot.density(y='rCSI')\n"
      ],
      "execution_count": 0,
      "outputs": [
        {
          "output_type": "execute_result",
          "data": {
            "text/plain": [
              "<matplotlib.axes._subplots.AxesSubplot at 0x7f51391955c0>"
            ]
          },
          "metadata": {
            "tags": []
          },
          "execution_count": 11
        },
        {
          "output_type": "display_data",
          "data": {
            "image/png": "[encoded data removed]",
            "text/plain": [
              "<Figure size 432x288 with 1 Axes>"
            ]
          },
          "metadata": {
            "tags": []
          }
        },
        {
          "output_type": "display_data",
          "data": {
            "image/png": "[encoded data removed]",
            "text/plain": [
              "<Figure size 432x288 with 1 Axes>"
            ]
          },
          "metadata": {
            "tags": []
          }
        },
        {
          "output_type": "display_data",
          "data": {
            "image/png": "[encoded data removed]",
            "text/plain": [
              "<Figure size 432x288 with 1 Axes>"
            ]
          },
          "metadata": {
            "tags": []
          }
        },
        {
          "output_type": "display_data",
          "data": {
            "image/png": "[encoded data removed]",
            "text/plain": [
              "<Figure size 432x288 with 1 Axes>"
            ]
          },
          "metadata": {
            "tags": []
          }
        },
        {
          "output_type": "display_data",
          "data": {
            "image/png": "[encoded data removed]",
            "text/plain": [
              "<Figure size 432x288 with 1 Axes>"
            ]
          },
          "metadata": {
            "tags": []
          }
        },
        {
          "output_type": "display_data",
          "data": {
            "image/png": "[encoded data removed]",
            "text/plain": [
              "<Figure size 432x288 with 1 Axes>"
            ]
          },
          "metadata": {
            "tags": []
          }
        }
      ]
    },
    {
      "cell_type": "code",
      "metadata": {
        "id": "YEj_3ocRh2NK",
        "colab_type": "code",
        "outputId": "22efff37-e4aa-4209-cb3a-161df4596055",
        "colab": {
          "base_uri": "https://localhost:8080/",
          "height": 835
        }
      },
      "source": [
        "tz_clust.plot.scatter(x='FS_year', y='FCS')\n",
        "tz_clust.plot.scatter(x='FS_year', y='HDDS')\n",
        "tz_clust.plot.scatter(x='FS_year', y='rCSI')"
      ],
      "execution_count": 0,
      "outputs": [
        {
          "output_type": "execute_result",
          "data": {
            "text/plain": [
              "<matplotlib.axes._subplots.AxesSubplot at 0x7f5138fa05c0>"
            ]
          },
          "metadata": {
            "tags": []
          },
          "execution_count": 12
        },
        {
          "output_type": "display_data",
          "data": {
            "image/png": "[encoded data removed]",
            "text/plain": [
              "<Figure size 432x288 with 1 Axes>"
            ]
          },
          "metadata": {
            "tags": []
          }
        },
        {
          "output_type": "display_data",
          "data": {
            "image/png": "[encoded data removed]",
            "text/plain": [
              "<Figure size 432x288 with 1 Axes>"
            ]
          },
          "metadata": {
            "tags": []
          }
        },
        {
          "output_type": "display_data",
          "data": {
            "image/png": "[encoded data removed]",
            "text/plain": [
              "<Figure size 432x288 with 1 Axes>"
            ]
          },
          "metadata": {
            "tags": []
          }
        }
      ]
    },
    {
      "cell_type": "code",
      "metadata": {
        "id": "6YKt69sfc9qC",
        "colab_type": "code",
        "outputId": "87fc6c4b-394c-454a-a0c6-39298364400a",
        "colab": {
          "base_uri": "https://localhost:8080/",
          "height": 568
        }
      },
      "source": [
        "ug_clust.plot.scatter(x='FS_year', y='FCS')\n",
        "ug_clust.plot.scatter(x='FS_year', y='HDDS')\n"
      ],
      "execution_count": 0,
      "outputs": [
        {
          "output_type": "execute_result",
          "data": {
            "text/plain": [
              "<matplotlib.axes._subplots.AxesSubplot at 0x7f5138ef2160>"
            ]
          },
          "metadata": {
            "tags": []
          },
          "execution_count": 13
        },
        {
          "output_type": "display_data",
          "data": {
            "image/png": "[encoded data removed]",
            "text/plain": [
              "<Figure size 432x288 with 1 Axes>"
            ]
          },
          "metadata": {
            "tags": []
          }
        },
        {
          "output_type": "display_data",
          "data": {
            "image/png": "[encoded data removed]",
            "text/plain": [
              "<Figure size 432x288 with 1 Axes>"
            ]
          },
          "metadata": {
            "tags": []
          }
        }
      ]
    },
    {
      "cell_type": "markdown",
      "metadata": {
        "id": "LL-JM7WeX5aL",
        "colab_type": "text"
      },
      "source": [
        "### Asset related"
      ]
    },
    {
      "cell_type": "markdown",
      "metadata": {
        "id": "Czew6mSVX9M9",
        "colab_type": "text"
      },
      "source": [
        "### Weather"
      ]
    },
    {
      "cell_type": "markdown",
      "metadata": {
        "id": "WEZ2Of2tX-uH",
        "colab_type": "text"
      },
      "source": [
        "### Market Prices "
      ]
    },
    {
      "cell_type": "markdown",
      "metadata": {
        "id": "ol13jHTkg-ko",
        "colab_type": "text"
      },
      "source": [
        "## Modelling\n"
      ]
    },
    {
      "cell_type": "markdown",
      "metadata": {
        "id": "Iw6L0fotmdJk",
        "colab_type": "text"
      },
      "source": [
        "### Split train and test data\n",
        "\n",
        " For practical prediction purposes,  we use the most recent round of survey data  as the testing  and the rest as the training data. \n"
      ]
    },
    {
      "cell_type": "markdown",
      "metadata": {
        "id": "UtjPgBKxWeDL",
        "colab_type": "text"
      },
      "source": [
        ""
      ]
    },
    {
      "cell_type": "code",
      "metadata": {
        "id": "2Izr337mibX-",
        "colab_type": "code",
        "outputId": "6037bfd4-34d7-49d2-e45e-98fe960517db",
        "colab": {
          "base_uri": "https://localhost:8080/",
          "height": 34
        }
      },
      "source": [
        "mw_hh['FS_year'].unique()"
      ],
      "execution_count": 0,
      "outputs": [
        {
          "output_type": "execute_result",
          "data": {
            "text/plain": [
              "array([2010, 2011, 2013, 2016])"
            ]
          },
          "metadata": {
            "tags": []
          },
          "execution_count": 14
        }
      ]
    },
    {
      "cell_type": "code",
      "metadata": {
        "id": "2HKFzJF_Uj1L",
        "colab_type": "code",
        "colab": {}
      },
      "source": [
        "# separate test and training for mw\n",
        "\n",
        "mw_hh_test_cond =  mw_hh['FS_year']>2015\n",
        "mw_hh_train_cond =  mw_hh['FS_year']<2016\n",
        "mw_hh_test = mw_hh[mw_hh_test_cond]\n",
        "mw_hh_train = mw_hh[mw_hh_train_cond]\n",
        "\n",
        "mw_clust_test_cond =  mw_clust['FS_year']>2015\n",
        "mw_clust_train_cond =  mw_clust['FS_year']<2016\n",
        "mw_clust_test = mw_clust[mw_clust_test_cond]\n",
        "mw_clust_train = mw_clust[mw_clust_train_cond]\n",
        "\n"
      ],
      "execution_count": 0,
      "outputs": []
    },
    {
      "cell_type": "code",
      "metadata": {
        "id": "DZhVAyXIl8q1",
        "colab_type": "code",
        "outputId": "2af4fad0-0879-4ca0-dcc8-2dadff7e073b",
        "colab": {
          "base_uri": "https://localhost:8080/",
          "height": 34
        }
      },
      "source": [
        "tz_hh['FS_year'].unique()"
      ],
      "execution_count": 0,
      "outputs": [
        {
          "output_type": "execute_result",
          "data": {
            "text/plain": [
              "array([2010, 2011, 2012, 2013, 2014, 2015])"
            ]
          },
          "metadata": {
            "tags": []
          },
          "execution_count": 16
        }
      ]
    },
    {
      "cell_type": "code",
      "metadata": {
        "id": "wsEHIVZ1j9VM",
        "colab_type": "code",
        "outputId": "ae0d2927-87bc-407d-d37b-063f70d46b11",
        "colab": {
          "base_uri": "https://localhost:8080/",
          "height": 54
        }
      },
      "source": [
        "ug_clust['FS_year'].unique()"
      ],
      "execution_count": 0,
      "outputs": [
        {
          "output_type": "execute_result",
          "data": {
            "text/plain": [
              "array([2011, 2012, 2010])"
            ]
          },
          "metadata": {
            "tags": []
          },
          "execution_count": 53
        }
      ]
    },
    {
      "cell_type": "code",
      "metadata": {
        "id": "2YOATaDxlqfr",
        "colab_type": "code",
        "colab": {}
      },
      "source": [
        "# separate test and training for tz\n",
        "\n",
        "tz_hh_test_cond =  tz_hh['FS_year']>2013\n",
        "tz_hh_train_cond =  tz_hh['FS_year']<2014\n",
        "tz_hh_test = tz_hh[tz_hh_test_cond]\n",
        "tz_hh_train = tz_hh[tz_hh_train_cond]\n",
        "\n",
        "tz_clust_test_cond =  tz_clust['FS_year']>2013\n",
        "tz_clust_train_cond =  tz_clust['FS_year']<2014\n",
        "tz_clust_test = tz_clust[tz_clust_test_cond]\n",
        "tz_clust_train = tz_clust[tz_clust_train_cond]\n"
      ],
      "execution_count": 0,
      "outputs": []
    },
    {
      "cell_type": "code",
      "metadata": {
        "id": "DkA5j3EthOKU",
        "colab_type": "code",
        "outputId": "be6a1d9f-a9b6-47cc-9d09-2a05756ec683",
        "colab": {
          "base_uri": "https://localhost:8080/",
          "height": 54
        }
      },
      "source": [
        "ug_hh['FS_year'].unique()\n",
        "#ug_hh[ug_hh['FS_year']==2012].shape #3531 of tesing \n",
        "#ug_hh[ug_hh['FS_year']!=2012].shape #7372 of tesing \n"
      ],
      "execution_count": 0,
      "outputs": [
        {
          "output_type": "execute_result",
          "data": {
            "text/plain": [
              "array([2012, 2011, 2010])"
            ]
          },
          "metadata": {
            "tags": []
          },
          "execution_count": 55
        }
      ]
    },
    {
      "cell_type": "code",
      "metadata": {
        "id": "bdHBlkN6D2wC",
        "colab_type": "code",
        "colab": {}
      },
      "source": [
        "# separate test and training for ug \n",
        "ug_hh_test_cond =  ug_hh['FS_year']>2011\n",
        "ug_hh_train_cond =  ug_hh['FS_year']<2012\n",
        "ug_hh_test = ug_hh[ug_hh_test_cond]\n",
        "ug_hh_train = ug_hh[ug_hh_train_cond]\n",
        "\n",
        "ug_clust_test_cond =  ug_clust['FS_year']>2011\n",
        "ug_clust_train_cond =  ug_clust['FS_year']<2012\n",
        "ug_clust_test = ug_clust[ug_clust_test_cond]\n",
        "ug_clust_train = ug_clust[ug_clust_train_cond]\n"
      ],
      "execution_count": 0,
      "outputs": []
    },
    {
      "cell_type": "markdown",
      "metadata": {
        "id": "w_YE97RELQ0n",
        "colab_type": "text"
      },
      "source": [
        "**Separate the target/labels from the X variables. **"
      ]
    },
    {
      "cell_type": "code",
      "metadata": {
        "id": "ss3jWM1YKHRQ",
        "colab_type": "code",
        "colab": {}
      },
      "source": [
        "labels = ['FCS', 'rCSI', 'HDDS']\n",
        "\n",
        "mw_hh_y_train= mw_hh_train[labels]\n",
        "mw_hh_y_test= mw_hh_test[labels]\n",
        "tz_hh_y_train= tz_hh_train[labels]\n",
        "tz_hh_y_test= tz_hh_test[labels]\n",
        "\n",
        "mw_clust_y_train= mw_clust_train[labels]\n",
        "mw_clust_y_test= mw_clust_test[labels]\n",
        "tz_clust_y_train= tz_clust_train[labels]\n",
        "tz_clust_y_test= tz_clust_test[labels]\n",
        "\n"
      ],
      "execution_count": 0,
      "outputs": []
    },
    {
      "cell_type": "code",
      "metadata": {
        "id": "gxwxKkKTK8k_",
        "colab_type": "code",
        "colab": {}
      },
      "source": [
        "ug_labels = ['FCS', 'HDDS']\n",
        "\n",
        "ug_hh_y_train= ug_hh_train[ug_labels]\n",
        "ug_hh_y_test= ug_hh_test[ug_labels]\n",
        " \n",
        "ug_clust_y_train= ug_clust_train[ug_labels]\n",
        "ug_clust_y_test= ug_clust_test[ug_labels]\n",
        "\n"
      ],
      "execution_count": 0,
      "outputs": []
    },
    {
      "cell_type": "code",
      "metadata": {
        "id": "VTMqfrsbJZhx",
        "colab_type": "code",
        "colab": {}
      },
      "source": [
        "# Define the X variables from each country, in both training and testing.\n",
        "mw_hh_X_train= mw_hh_train.drop(labels, axis=1)\n",
        "mw_clust_X_train= mw_clust_train.drop(labels, axis=1)\n",
        "tz_hh_X_train= tz_hh_train.drop(labels, axis=1)\n",
        "tz_clust_X_train= tz_clust_train.drop(labels, axis=1)\n",
        "ug_hh_X_train= ug_hh_train.drop(ug_labels, axis=1)\n",
        "ug_clust_X_train= ug_clust_train.drop(ug_labels, axis=1)\n",
        "\n",
        "mw_hh_X_test= mw_hh_test.drop(labels, axis=1)\n",
        "mw_clust_X_test= mw_clust_test.drop(labels, axis=1)\n",
        "tz_hh_X_test= tz_hh_test.drop(labels, axis=1)\n",
        "tz_clust_X_test= tz_clust_test.drop(labels, axis=1)\n",
        "ug_hh_X_test= ug_hh_test.drop(ug_labels, axis=1)\n",
        "ug_clust_X_test= ug_clust_test.drop(ug_labels, axis=1)\n"
      ],
      "execution_count": 0,
      "outputs": []
    },
    {
      "cell_type": "code",
      "metadata": {
        "id": "44mXtgDmjfCi",
        "colab_type": "code",
        "outputId": "79609a1d-988b-4984-e638-a46b6fb419e0",
        "colab": {
          "base_uri": "https://localhost:8080/",
          "height": 54
        }
      },
      "source": [
        "mw_hh_X_test.shape"
      ],
      "execution_count": 0,
      "outputs": [
        {
          "output_type": "execute_result",
          "data": {
            "text/plain": [
              "(9953, 114)"
            ]
          },
          "metadata": {
            "tags": []
          },
          "execution_count": 60
        }
      ]
    },
    {
      "cell_type": "code",
      "metadata": {
        "id": "IsIxRC36hWYF",
        "colab_type": "code",
        "outputId": "d3b96cf9-285d-4e6c-c7a9-618ce32ef3cd",
        "colab": {
          "base_uri": "https://localhost:8080/",
          "height": 54
        }
      },
      "source": [
        "mw_hh_X_train.shape"
      ],
      "execution_count": 0,
      "outputs": [
        {
          "output_type": "execute_result",
          "data": {
            "text/plain": [
              "(38145, 114)"
            ]
          },
          "metadata": {
            "tags": []
          },
          "execution_count": 61
        }
      ]
    },
    {
      "cell_type": "code",
      "metadata": {
        "id": "e4RjTCmq09hD",
        "colab_type": "code",
        "colab": {}
      },
      "source": [
        "X_train_list = [mw_hh_X_train,mw_clust_X_train,tz_hh_X_train,tz_clust_X_train,ug_hh_X_train,ug_clust_X_train]\n",
        "\n",
        "X_test_list = [mw_hh_X_test,mw_clust_X_test,tz_hh_X_test,tz_clust_X_test,ug_hh_X_test,ug_clust_X_test]\n",
        "\n",
        "y_train_list = [mw_hh_y_train,mw_clust_y_train,tz_hh_y_train,tz_clust_y_train,ug_hh_y_train,ug_clust_y_train]\n",
        "\n",
        "y_test_list = [mw_hh_y_test,mw_clust_y_test,tz_hh_y_test,tz_clust_y_test,ug_hh_y_test,ug_clust_y_test]\n",
        "\n",
        "column_names = [\"dataset\",\"FCS\",\"HDDS\",\"rCSI\"]\n",
        "\n",
        "name_list = [\"Malawi_household\",\"Malawi_cluster\",\"Tanzania_household\",\"Tanzania_cluster\",\"Uganda_household\",\"Uganda_cluster\"]"
      ],
      "execution_count": 0,
      "outputs": []
    },
    {
      "cell_type": "code",
      "metadata": {
        "id": "ntliaZ0wYih5",
        "colab_type": "code",
        "outputId": "04e6ecea-a55e-42a3-db0e-7e621bf5ebf5",
        "colab": {
          "base_uri": "https://localhost:8080/",
          "height": 54
        }
      },
      "source": [
        "ug_hh_X_train.isna().sum().sum()"
      ],
      "execution_count": 0,
      "outputs": [
        {
          "output_type": "execute_result",
          "data": {
            "text/plain": [
              "0"
            ]
          },
          "metadata": {
            "tags": []
          },
          "execution_count": 63
        }
      ]
    },
    {
      "cell_type": "code",
      "metadata": {
        "id": "aRIzyyJ_70qV",
        "colab_type": "code",
        "colab": {}
      },
      "source": [
        "from xgboost import XGBClassifier\n"
      ],
      "execution_count": 0,
      "outputs": []
    },
    {
      "cell_type": "markdown",
      "metadata": {
        "id": "wokFM4cFG40A",
        "colab_type": "text"
      },
      "source": [
        ""
      ]
    },
    {
      "cell_type": "markdown",
      "metadata": {
        "id": "abWsB5nGWfra",
        "colab_type": "text"
      },
      "source": [
        "### downsample / oversample \n",
        "\n",
        "Using simpler metrics like accuracy_score can be misleading. In a dataset with highly unbalanced classes, if the classifier always \"predicts\" the most common class without performing any analysis of the features, it will still have a high accuracy rate, obviously illusory."
      ]
    },
    {
      "cell_type": "markdown",
      "metadata": {
        "id": "CYrYYplPWmyp",
        "colab_type": "text"
      },
      "source": [
        "Resampling\n",
        "A widely adopted technique for dealing with highly unbalanced datasets is called resampling. It consists of removing samples from the majority class (under-sampling) and / or adding more examples from the minority class (over-sampling).\n",
        "\n",
        "Despite the advantage of balancing classes, these techniques also have their weaknesses (there is no free lunch). The simplest implementation of over-sampling is to duplicate random records from the minority class, which can cause overfitting. In under-sampling, the simplest technique involves removing random records from the majority class, which can cause loss of information.\n",
        "\n"
      ]
    },
    {
      "cell_type": "code",
      "metadata": {
        "id": "mx78w6b7XXT6",
        "colab_type": "code",
        "colab": {}
      },
      "source": [
        "# Class count\n",
        "count_class_0, count_class_1 = df_train.target.value_counts()\n",
        "\n",
        "# Divide by class\n",
        "df_class_0 = df_train[df_train['target'] == 0]\n",
        "df_class_1 = df_train[df_train['target'] == 1]\n",
        "\n",
        "df_class_0_under = df_class_0.sample(count_class_1)\n",
        "df_test_under = pd.concat([df_class_0_under, df_class_1], axis=0)\n",
        "\n",
        "print('Random under-sampling:')\n",
        "print(df_test_under.target.value_counts())\n",
        "\n",
        "df_test_under.target.value_counts().plot(kind='bar', title='Count (target)');\n",
        "\n",
        "\n",
        "df_class_1_over = df_class_1.sample(count_class_0, replace=True)\n",
        "df_test_over = pd.concat([df_class_0, df_class_1_over], axis=0)\n",
        "\n",
        "print('Random over-sampling:')\n",
        "print(df_test_over.target.value_counts())\n",
        "\n",
        "df_test_over.target.value_counts().plot(kind='bar', title='Count (target)');\n"
      ],
      "execution_count": 0,
      "outputs": []
    },
    {
      "cell_type": "code",
      "metadata": {
        "id": "vpuqtRT6XlkB",
        "colab_type": "code",
        "colab": {}
      },
      "source": [
        "import imblearn\n"
      ],
      "execution_count": 0,
      "outputs": []
    },
    {
      "cell_type": "markdown",
      "metadata": {
        "id": "LsdAVsz0XtER",
        "colab_type": "text"
      },
      "source": [
        "For example, we can cluster the records of the majority class, and do the under-sampling by removing records from each cluster, thus seeking to preserve information. In over-sampling, instead of creating exact copies of the minority class records, we can introduce small variations into those copies, creating more diverse synthetic samples.\n",
        "\n",
        "Let's apply some of these resampling techniques, using the Python library imbalanced-learn. It is compatible with scikit-learn and is part of scikit-learn-contrib projects."
      ]
    },
    {
      "cell_type": "code",
      "metadata": {
        "id": "MIWQBGxvXz-O",
        "colab_type": "code",
        "colab": {}
      },
      "source": [
        "from sklearn.datasets import make_classification\n",
        "\n",
        "X, y = make_classification(\n",
        "    n_classes=2, class_sep=1.5, weights=[0.9, 0.1],\n",
        "    n_informative=3, n_redundant=1, flip_y=0,\n",
        "    n_features=20, n_clusters_per_class=1,\n",
        "    n_samples=100, random_state=10\n",
        ")\n",
        "\n",
        "df = pd.DataFrame(X)\n",
        "df['target'] = y\n",
        "df.target.value_counts().plot(kind='bar', title='Count (target)');\n"
      ],
      "execution_count": 0,
      "outputs": []
    },
    {
      "cell_type": "code",
      "metadata": {
        "id": "ELmTTXkAX4ba",
        "colab_type": "code",
        "colab": {}
      },
      "source": [
        "def plot_2d_space(X, y, label='Classes'):   \n",
        "    colors = ['#1F77B4', '#FF7F0E']\n",
        "    markers = ['o', 's']\n",
        "    for l, c, m in zip(np.unique(y), colors, markers):\n",
        "        plt.scatter(\n",
        "            X[y==l, 0],\n",
        "            X[y==l, 1],\n",
        "            c=c, label=l, marker=m\n",
        "        )\n",
        "    plt.title(label)\n",
        "    plt.legend(loc='upper right')\n",
        "    plt.show()"
      ],
      "execution_count": 0,
      "outputs": []
    },
    {
      "cell_type": "code",
      "metadata": {
        "id": "nXZaVVyKYGQu",
        "colab_type": "code",
        "colab": {}
      },
      "source": [
        "from sklearn.decomposition import PCA\n",
        "\n",
        "pca = PCA(n_components=2)\n",
        "X = pca.fit_transform(X)\n",
        "\n",
        "plot_2d_space(X, y, 'Imbalanced dataset (2 PCA components)')"
      ],
      "execution_count": 0,
      "outputs": []
    },
    {
      "cell_type": "code",
      "metadata": {
        "id": "FKs40jfBYKxv",
        "colab_type": "code",
        "colab": {}
      },
      "source": [
        "from imblearn.under_sampling import RandomUnderSampler\n",
        "\n",
        "rus = RandomUnderSampler(return_indices=True)\n",
        "X_rus, y_rus, id_rus = rus.fit_sample(X, y)\n",
        "\n",
        "print('Removed indexes:', id_rus)\n",
        "\n",
        "plot_2d_space(X_rus, y_rus, 'Random under-sampling')"
      ],
      "execution_count": 0,
      "outputs": []
    },
    {
      "cell_type": "code",
      "metadata": {
        "id": "Uui299dHYPFa",
        "colab_type": "code",
        "colab": {}
      },
      "source": [
        "from imblearn.over_sampling import RandomOverSampler\n",
        "\n",
        "ros = RandomOverSampler()\n",
        "X_ros, y_ros = ros.fit_sample(X, y)\n",
        "\n",
        "print(X_ros.shape[0] - X.shape[0], 'new random picked points')\n",
        "\n",
        "plot_2d_space(X_ros, y_ros, 'Random over-sampling')"
      ],
      "execution_count": 0,
      "outputs": []
    },
    {
      "cell_type": "code",
      "metadata": {
        "id": "eLUx4gXKYPqN",
        "colab_type": "code",
        "colab": {}
      },
      "source": [
        "from imblearn.under_sampling import TomekLinks\n",
        "\n",
        "tl = TomekLinks(return_indices=True, ratio='majority')\n",
        "X_tl, y_tl, id_tl = tl.fit_sample(X, y)\n",
        "\n",
        "print('Removed indexes:', id_tl)\n",
        "\n",
        "plot_2d_space(X_tl, y_tl, 'Tomek links under-sampling')"
      ],
      "execution_count": 0,
      "outputs": []
    },
    {
      "cell_type": "code",
      "metadata": {
        "id": "GlGaG-IMZbhA",
        "colab_type": "code",
        "colab": {}
      },
      "source": [
        "from imblearn.over_sampling import SMOTE\n",
        "\n",
        "smote = SMOTE(ratio='minority')\n",
        "X_sm, y_sm = smote.fit_sample(X, y)\n",
        "\n",
        "plot_2d_space(X_sm, y_sm, 'SMOTE over-sampling')"
      ],
      "execution_count": 0,
      "outputs": []
    },
    {
      "cell_type": "code",
      "metadata": {
        "id": "pSZuMR4EZfPH",
        "colab_type": "code",
        "colab": {}
      },
      "source": [
        "from imblearn.combine import SMOTETomek\n",
        "\n",
        "smt = SMOTETomek(ratio='auto')\n",
        "X_smt, y_smt = smt.fit_sample(X, y)\n",
        "\n",
        "plot_2d_space(X_smt, y_smt, 'SMOTE + Tomek links')"
      ],
      "execution_count": 0,
      "outputs": []
    },
    {
      "cell_type": "markdown",
      "metadata": {
        "id": "4LMUHzzLYSdi",
        "colab_type": "text"
      },
      "source": [
        "Under-sampling: Tomek links\n",
        "Tomek links are pairs of very close instances, but of opposite classes. Removing the instances of the majority class of each pair increases the space between the two classes, facilitating the classification process."
      ]
    },
    {
      "cell_type": "code",
      "metadata": {
        "id": "h__-JaR3YUXv",
        "colab_type": "code",
        "colab": {}
      },
      "source": [
        "print(\"Before OverSampling, counts of label '1': {}\".format(sum(y_train==1)))\n",
        "print(\"Before OverSampling, counts of label '0': {} \\n\".format(sum(y_train==0)))\n",
        "\n",
        "sm = SMOTE(random_state=2)\n",
        "X_train_res, y_train_res = sm.fit_sample(X_train, y_train.ravel())\n",
        "\n",
        "print('After OverSampling, the shape of train_X: {}'.format(X_train_res.shape))\n",
        "print('After OverSampling, the shape of train_y: {} \\n'.format(y_train_res.shape))\n",
        "\n",
        "print(\"After OverSampling, counts of label '1': {}\".format(sum(y_train_res==1)))\n",
        "print(\"After OverSampling, counts of label '0': {}\".format(sum(y_train_res==0)))\n"
      ],
      "execution_count": 0,
      "outputs": []
    },
    {
      "cell_type": "code",
      "metadata": {
        "id": "VwwRHpWtl2rH",
        "colab_type": "code",
        "colab": {}
      },
      "source": [
        "# confusion matrix , focus on improving the recall rate of the insecure class\n",
        "\n"
      ],
      "execution_count": 0,
      "outputs": []
    },
    {
      "cell_type": "code",
      "metadata": {
        "id": "7m2r-MiEmEgQ",
        "colab_type": "code",
        "colab": {}
      },
      "source": [
        "# One vs all and plot the AUC ( )"
      ],
      "execution_count": 0,
      "outputs": []
    },
    {
      "cell_type": "markdown",
      "metadata": {
        "id": "MJ3dY58vWSEa",
        "colab_type": "text"
      },
      "source": [
        "### Models"
      ]
    },
    {
      "cell_type": "code",
      "metadata": {
        "id": "3N_3YDvdwxiR",
        "colab_type": "code",
        "colab": {}
      },
      "source": [
        "# define a function that displays multiple results at the same time as a table\n",
        "# input will be function and a character list\n",
        "  \n",
        "  def result_table(function,column_names=column_names):\n",
        "    \n",
        "    result_table = pd.DataFrame(columns=column_names)\n",
        "    \n",
        "    for index in range(len(X_train_list)):\n",
        "      fcs_value = function(X_train_list[index],X_test_list[index],y_train_list[index][\"FCS\"],y_test_list[index][\"FCS\"])\n",
        "      hdds_value = function(X_train_list[index],X_test_list[index],y_train_list[index][\"HDDS\"],y_test_list[index][\"HDDS\"])\n",
        "      if index<4:\n",
        "        rcsi_value = function(X_train_list[index],X_test_list[index],y_train_list[index][\"rCSI\"],y_test_list[index][\"rCSI\"])\n",
        "      else:\n",
        "        rcsi_value = 0\n",
        "      \n",
        "      fcs_value = '{0:.3f}'.format(fcs_value)\n",
        "      hdds_value = '{0:.3f}'.format(hdds_value)\n",
        "      rcsi_value = '{0:.3f}'.format(rcsi_value)\n",
        "      \n",
        "      \n",
        "      temp_df = pd.DataFrame([[name_list[index], fcs_value, hdds_value, rcsi_value]], columns=column_names)\n",
        "      \n",
        "      result_table = result_table.append(temp_df, ignore_index=True)\n",
        "      \n",
        "\n",
        "  \n",
        "    return result_table\n",
        "\n",
        "\n",
        "  \n"
      ],
      "execution_count": 0,
      "outputs": []
    },
    {
      "cell_type": "markdown",
      "metadata": {
        "id": "xchwjtYlnkEv",
        "colab_type": "text"
      },
      "source": [
        "#### Linear Regression"
      ]
    },
    {
      "cell_type": "code",
      "metadata": {
        "id": "YG-4RJ4lhUt0",
        "colab_type": "code",
        "outputId": "553e092d-9434-4cdf-8858-a4a2071a9f10",
        "colab": {
          "base_uri": "https://localhost:8080/",
          "height": 235
        }
      },
      "source": [
        "from sklearn.linear_model import LinearRegression\n",
        "\n",
        "def fit_linear(X_train, X_test,y_train,y_test):\n",
        "\n",
        "    # Create and fit our linear regression model to training data\n",
        "    model = LinearRegression(fit_intercept=True)\n",
        "    model.fit(X_train, y_train)\n",
        "\n",
        "    # Compute model predictions for test data\n",
        "    pred = model.predict(X_test)\n",
        "\n",
        "    r2 = stats.pearsonr(y_test, pred)[0] ** 2\n",
        "    \n",
        "    return r2\n",
        "\n",
        "# implement the algorithm and present results\n",
        "result_table(function=fit_linear)"
      ],
      "execution_count": 0,
      "outputs": [
        {
          "output_type": "execute_result",
          "data": {
            "text/html": [
              "<div>\n",
              "<style scoped>\n",
              "    .dataframe tbody tr th:only-of-type {\n",
              "        vertical-align: middle;\n",
              "    }\n",
              "\n",
              "    .dataframe tbody tr th {\n",
              "        vertical-align: top;\n",
              "    }\n",
              "\n",
              "    .dataframe thead th {\n",
              "        text-align: right;\n",
              "    }\n",
              "</style>\n",
              "<table border=\"1\" class=\"dataframe\">\n",
              "  <thead>\n",
              "    <tr style=\"text-align: right;\">\n",
              "      <th></th>\n",
              "      <th>dataset</th>\n",
              "      <th>FCS</th>\n",
              "      <th>HDDS</th>\n",
              "      <th>rCSI</th>\n",
              "    </tr>\n",
              "  </thead>\n",
              "  <tbody>\n",
              "    <tr>\n",
              "      <th>0</th>\n",
              "      <td>Malawi_household</td>\n",
              "      <td>0.264</td>\n",
              "      <td>0.268</td>\n",
              "      <td>0.120</td>\n",
              "    </tr>\n",
              "    <tr>\n",
              "      <th>1</th>\n",
              "      <td>Malawi_cluster</td>\n",
              "      <td>0.431</td>\n",
              "      <td>0.606</td>\n",
              "      <td>0.200</td>\n",
              "    </tr>\n",
              "    <tr>\n",
              "      <th>2</th>\n",
              "      <td>Tanzania_household</td>\n",
              "      <td>0.048</td>\n",
              "      <td>0.006</td>\n",
              "      <td>0.015</td>\n",
              "    </tr>\n",
              "    <tr>\n",
              "      <th>3</th>\n",
              "      <td>Tanzania_cluster</td>\n",
              "      <td>0.153</td>\n",
              "      <td>0.022</td>\n",
              "      <td>0.085</td>\n",
              "    </tr>\n",
              "    <tr>\n",
              "      <th>4</th>\n",
              "      <td>Uganda_household</td>\n",
              "      <td>0.174</td>\n",
              "      <td>0.213</td>\n",
              "      <td>0.000</td>\n",
              "    </tr>\n",
              "    <tr>\n",
              "      <th>5</th>\n",
              "      <td>Uganda_cluster</td>\n",
              "      <td>0.326</td>\n",
              "      <td>0.430</td>\n",
              "      <td>0.000</td>\n",
              "    </tr>\n",
              "  </tbody>\n",
              "</table>\n",
              "</div>"
            ],
            "text/plain": [
              "              dataset    FCS   HDDS   rCSI\n",
              "0    Malawi_household  0.264  0.268  0.120\n",
              "1      Malawi_cluster  0.431  0.606  0.200\n",
              "2  Tanzania_household  0.048  0.006  0.015\n",
              "3    Tanzania_cluster  0.153  0.022  0.085\n",
              "4    Uganda_household  0.174  0.213  0.000\n",
              "5      Uganda_cluster  0.326  0.430  0.000"
            ]
          },
          "metadata": {
            "tags": []
          },
          "execution_count": 87
        }
      ]
    },
    {
      "cell_type": "markdown",
      "metadata": {
        "id": "37T4L-Jrnn-v",
        "colab_type": "text"
      },
      "source": [
        "#### Ridge"
      ]
    },
    {
      "cell_type": "code",
      "metadata": {
        "id": "vK4myVU3iJrF",
        "colab_type": "code",
        "outputId": "9c1665a4-38f6-4503-e619-abfc0ec40b19",
        "colab": {
          "base_uri": "https://localhost:8080/",
          "height": 235
        }
      },
      "source": [
        "from sklearn.linear_model import RidgeCV\n",
        "from sklearn.model_selection import RandomizedSearchCV\n",
        "\n",
        "\n",
        "def fit_ridge(X_train, X_test,y_train,y_test):\n",
        "\n",
        "  model = RidgeCV(alphas=[0.0, 1E-6, 1E-4, 1E-2, 1.0], fit_intercept=True, normalize=True, scoring=None, cv=5, gcv_mode='auto', store_cv_values=False) \n",
        "\n",
        "# Define different alpha values for different fits\n",
        "# alpha = [0.0, 1E-6, 1E-4, 1E-2, 1.0]\n",
        "\n",
        "  model.fit(X_train, y_train)\n",
        "\n",
        "  # Compute model predictions for test data\n",
        "  pred = model.predict(X_test)\n",
        "\n",
        "  r2 = stats.pearsonr(y_test, pred)[0] ** 2\n",
        "    \n",
        "  return r2\n",
        "\n",
        "\n",
        "\n",
        "# implement the algorithm and present results\n",
        "result_table(function=fit_ridge)"
      ],
      "execution_count": 0,
      "outputs": [
        {
          "output_type": "execute_result",
          "data": {
            "text/html": [
              "<div>\n",
              "<style scoped>\n",
              "    .dataframe tbody tr th:only-of-type {\n",
              "        vertical-align: middle;\n",
              "    }\n",
              "\n",
              "    .dataframe tbody tr th {\n",
              "        vertical-align: top;\n",
              "    }\n",
              "\n",
              "    .dataframe thead th {\n",
              "        text-align: right;\n",
              "    }\n",
              "</style>\n",
              "<table border=\"1\" class=\"dataframe\">\n",
              "  <thead>\n",
              "    <tr style=\"text-align: right;\">\n",
              "      <th></th>\n",
              "      <th>dataset</th>\n",
              "      <th>FCS</th>\n",
              "      <th>HDDS</th>\n",
              "      <th>rCSI</th>\n",
              "    </tr>\n",
              "  </thead>\n",
              "  <tbody>\n",
              "    <tr>\n",
              "      <th>0</th>\n",
              "      <td>Malawi_household</td>\n",
              "      <td>0.265</td>\n",
              "      <td>0.270</td>\n",
              "      <td>0.110</td>\n",
              "    </tr>\n",
              "    <tr>\n",
              "      <th>1</th>\n",
              "      <td>Malawi_cluster</td>\n",
              "      <td>0.431</td>\n",
              "      <td>0.642</td>\n",
              "      <td>0.217</td>\n",
              "    </tr>\n",
              "    <tr>\n",
              "      <th>2</th>\n",
              "      <td>Tanzania_household</td>\n",
              "      <td>0.048</td>\n",
              "      <td>0.006</td>\n",
              "      <td>0.015</td>\n",
              "    </tr>\n",
              "    <tr>\n",
              "      <th>3</th>\n",
              "      <td>Tanzania_cluster</td>\n",
              "      <td>0.153</td>\n",
              "      <td>0.020</td>\n",
              "      <td>0.087</td>\n",
              "    </tr>\n",
              "    <tr>\n",
              "      <th>4</th>\n",
              "      <td>Uganda_household</td>\n",
              "      <td>0.179</td>\n",
              "      <td>0.219</td>\n",
              "      <td>0.000</td>\n",
              "    </tr>\n",
              "    <tr>\n",
              "      <th>5</th>\n",
              "      <td>Uganda_cluster</td>\n",
              "      <td>0.365</td>\n",
              "      <td>0.421</td>\n",
              "      <td>0.000</td>\n",
              "    </tr>\n",
              "  </tbody>\n",
              "</table>\n",
              "</div>"
            ],
            "text/plain": [
              "              dataset    FCS   HDDS   rCSI\n",
              "0    Malawi_household  0.265  0.270  0.110\n",
              "1      Malawi_cluster  0.431  0.642  0.217\n",
              "2  Tanzania_household  0.048  0.006  0.015\n",
              "3    Tanzania_cluster  0.153  0.020  0.087\n",
              "4    Uganda_household  0.179  0.219  0.000\n",
              "5      Uganda_cluster  0.365  0.421  0.000"
            ]
          },
          "metadata": {
            "tags": []
          },
          "execution_count": 88
        }
      ]
    },
    {
      "cell_type": "code",
      "metadata": {
        "id": "DfaZUtYJiT-g",
        "colab_type": "code",
        "outputId": "08f178cc-6e8a-497b-b3f3-37e18716b9e2",
        "colab": {
          "base_uri": "https://localhost:8080/",
          "height": 235
        }
      },
      "source": [
        "from sklearn.linear_model import LassoCV\n",
        "\n",
        "def fit_lasso(X_train, X_test,y_train,y_test):\n",
        "\n",
        "    model = LassoCV(eps=0.001, n_alphas=100, alphas=(0.01, 2), fit_intercept=True,precompute='auto',n_jobs=4, random_state=0, selection='cyclic')\n",
        "\n",
        "    model.fit(X_train, y_train)\n",
        "    \n",
        "    pred = model.predict(X_test)\n",
        "\n",
        "    r2= stats.pearsonr(y_test, pred)[0] ** 2\n",
        "    return r2\n",
        "\n",
        "  \n",
        "# implement the algorithm and present results\n",
        "result_table(function=fit_lasso)"
      ],
      "execution_count": 0,
      "outputs": [
        {
          "output_type": "execute_result",
          "data": {
            "text/html": [
              "<div>\n",
              "<style scoped>\n",
              "    .dataframe tbody tr th:only-of-type {\n",
              "        vertical-align: middle;\n",
              "    }\n",
              "\n",
              "    .dataframe tbody tr th {\n",
              "        vertical-align: top;\n",
              "    }\n",
              "\n",
              "    .dataframe thead th {\n",
              "        text-align: right;\n",
              "    }\n",
              "</style>\n",
              "<table border=\"1\" class=\"dataframe\">\n",
              "  <thead>\n",
              "    <tr style=\"text-align: right;\">\n",
              "      <th></th>\n",
              "      <th>dataset</th>\n",
              "      <th>FCS</th>\n",
              "      <th>HDDS</th>\n",
              "      <th>rCSI</th>\n",
              "    </tr>\n",
              "  </thead>\n",
              "  <tbody>\n",
              "    <tr>\n",
              "      <th>0</th>\n",
              "      <td>Malawi_household</td>\n",
              "      <td>0.377</td>\n",
              "      <td>0.255</td>\n",
              "      <td>0.093</td>\n",
              "    </tr>\n",
              "    <tr>\n",
              "      <th>1</th>\n",
              "      <td>Malawi_cluster</td>\n",
              "      <td>0.677</td>\n",
              "      <td>0.565</td>\n",
              "      <td>0.157</td>\n",
              "    </tr>\n",
              "    <tr>\n",
              "      <th>2</th>\n",
              "      <td>Tanzania_household</td>\n",
              "      <td>0.047</td>\n",
              "      <td>0.005</td>\n",
              "      <td>0.015</td>\n",
              "    </tr>\n",
              "    <tr>\n",
              "      <th>3</th>\n",
              "      <td>Tanzania_cluster</td>\n",
              "      <td>0.153</td>\n",
              "      <td>0.020</td>\n",
              "      <td>0.088</td>\n",
              "    </tr>\n",
              "    <tr>\n",
              "      <th>4</th>\n",
              "      <td>Uganda_household</td>\n",
              "      <td>0.152</td>\n",
              "      <td>0.216</td>\n",
              "      <td>0.000</td>\n",
              "    </tr>\n",
              "    <tr>\n",
              "      <th>5</th>\n",
              "      <td>Uganda_cluster</td>\n",
              "      <td>0.317</td>\n",
              "      <td>0.421</td>\n",
              "      <td>0.000</td>\n",
              "    </tr>\n",
              "  </tbody>\n",
              "</table>\n",
              "</div>"
            ],
            "text/plain": [
              "              dataset    FCS   HDDS   rCSI\n",
              "0    Malawi_household  0.377  0.255  0.093\n",
              "1      Malawi_cluster  0.677  0.565  0.157\n",
              "2  Tanzania_household  0.047  0.005  0.015\n",
              "3    Tanzania_cluster  0.153  0.020  0.088\n",
              "4    Uganda_household  0.152  0.216  0.000\n",
              "5      Uganda_cluster  0.317  0.421  0.000"
            ]
          },
          "metadata": {
            "tags": []
          },
          "execution_count": 90
        }
      ]
    },
    {
      "cell_type": "code",
      "metadata": {
        "id": "cmys1Z7Ojfh-",
        "colab_type": "code",
        "outputId": "d5e855c6-a528-48cc-ed10-6528111a2fa9",
        "colab": {
          "base_uri": "https://localhost:8080/",
          "height": 235
        }
      },
      "source": [
        "from sklearn.linear_model import ElasticNetCV\n",
        "\n",
        "def fit_en(X_train, X_test,y_train,y_test):\n",
        "\n",
        "\n",
        "    model = ElasticNetCV(alphas=(0.1,0.02,3,2), copy_X=True, cv=10, eps=0.004, fit_intercept=True,\n",
        "           l1_ratio=0.33, max_iter=1000, n_alphas=100, n_jobs=1,\n",
        "           normalize=False, positive=False, precompute='auto', random_state=0,\n",
        "           selection='cyclic', tol=0.0001, verbose=0)\n",
        "\n",
        "    model.fit(X_train, y_train)\n",
        "    \n",
        "    pred = model.predict(X_test)\n",
        "\n",
        "    r2= stats.pearsonr(y_test, pred)[0] ** 2\n",
        "    \n",
        "    return r2\n",
        "\n",
        "\n",
        "# implement the algorithm and present results\n",
        "result_table(function=fit_en)    \n",
        "    "
      ],
      "execution_count": 0,
      "outputs": [
        {
          "output_type": "execute_result",
          "data": {
            "text/html": [
              "<div>\n",
              "<style scoped>\n",
              "    .dataframe tbody tr th:only-of-type {\n",
              "        vertical-align: middle;\n",
              "    }\n",
              "\n",
              "    .dataframe tbody tr th {\n",
              "        vertical-align: top;\n",
              "    }\n",
              "\n",
              "    .dataframe thead th {\n",
              "        text-align: right;\n",
              "    }\n",
              "</style>\n",
              "<table border=\"1\" class=\"dataframe\">\n",
              "  <thead>\n",
              "    <tr style=\"text-align: right;\">\n",
              "      <th></th>\n",
              "      <th>dataset</th>\n",
              "      <th>FCS</th>\n",
              "      <th>HDDS</th>\n",
              "      <th>rCSI</th>\n",
              "    </tr>\n",
              "  </thead>\n",
              "  <tbody>\n",
              "    <tr>\n",
              "      <th>0</th>\n",
              "      <td>Malawi_household</td>\n",
              "      <td>0.377</td>\n",
              "      <td>0.259</td>\n",
              "      <td>0.094</td>\n",
              "    </tr>\n",
              "    <tr>\n",
              "      <th>1</th>\n",
              "      <td>Malawi_cluster</td>\n",
              "      <td>0.683</td>\n",
              "      <td>0.587</td>\n",
              "      <td>0.192</td>\n",
              "    </tr>\n",
              "    <tr>\n",
              "      <th>2</th>\n",
              "      <td>Tanzania_household</td>\n",
              "      <td>0.048</td>\n",
              "      <td>0.005</td>\n",
              "      <td>0.015</td>\n",
              "    </tr>\n",
              "    <tr>\n",
              "      <th>3</th>\n",
              "      <td>Tanzania_cluster</td>\n",
              "      <td>0.153</td>\n",
              "      <td>0.020</td>\n",
              "      <td>0.088</td>\n",
              "    </tr>\n",
              "    <tr>\n",
              "      <th>4</th>\n",
              "      <td>Uganda_household</td>\n",
              "      <td>0.141</td>\n",
              "      <td>0.219</td>\n",
              "      <td>0.000</td>\n",
              "    </tr>\n",
              "    <tr>\n",
              "      <th>5</th>\n",
              "      <td>Uganda_cluster</td>\n",
              "      <td>0.264</td>\n",
              "      <td>0.387</td>\n",
              "      <td>0.000</td>\n",
              "    </tr>\n",
              "  </tbody>\n",
              "</table>\n",
              "</div>"
            ],
            "text/plain": [
              "              dataset    FCS   HDDS   rCSI\n",
              "0    Malawi_household  0.377  0.259  0.094\n",
              "1      Malawi_cluster  0.683  0.587  0.192\n",
              "2  Tanzania_household  0.048  0.005  0.015\n",
              "3    Tanzania_cluster  0.153  0.020  0.088\n",
              "4    Uganda_household  0.141  0.219  0.000\n",
              "5      Uganda_cluster  0.264  0.387  0.000"
            ]
          },
          "metadata": {
            "tags": []
          },
          "execution_count": 91
        }
      ]
    },
    {
      "cell_type": "code",
      "metadata": {
        "id": "NBViYIF3iJHS",
        "colab_type": "code",
        "outputId": "339e59ac-6c01-482b-eeac-0948886166e4",
        "colab": {
          "base_uri": "https://localhost:8080/",
          "height": 235
        }
      },
      "source": [
        "from sklearn.ensemble import RandomForestRegressor\n",
        "\n",
        "def fit_rfc(X_train, X_test,y_train,y_test):\n",
        "  # Create Regressor with default properties\n",
        "  rfc = RandomForestRegressor(random_state =0,n_jobs =4,warm_start = True,max_depth=4, min_samples_leaf=5 )\n",
        "  \n",
        "  \n",
        "  parameters = {'max_depth':np.arange( 1,4, 1 ).tolist(), 'min_samples_leaf':np.arange( 1, 4, 1 ).tolist()}\n",
        "  model = GridSearchCV(rfc, parameters,cv=6, n_jobs= 4, iid = True,  refit= True,pre_dispatch= '2*n_jobs')\n",
        "\n",
        "  model.fit(X_train,y_train)\n",
        "  # Fit estimator and display score\n",
        "\n",
        "  # Regress on test data\n",
        "  pred = model.predict(X_test)\n",
        "\n",
        "  r2 = stats.pearsonr(y_test, pred)[0] ** 2\n",
        "    \n",
        "  return r2\n",
        "\n",
        "result_table(function=fit_rfc)"
      ],
      "execution_count": 0,
      "outputs": [
        {
          "output_type": "execute_result",
          "data": {
            "text/html": [
              "<div>\n",
              "<style scoped>\n",
              "    .dataframe tbody tr th:only-of-type {\n",
              "        vertical-align: middle;\n",
              "    }\n",
              "\n",
              "    .dataframe tbody tr th {\n",
              "        vertical-align: top;\n",
              "    }\n",
              "\n",
              "    .dataframe thead th {\n",
              "        text-align: right;\n",
              "    }\n",
              "</style>\n",
              "<table border=\"1\" class=\"dataframe\">\n",
              "  <thead>\n",
              "    <tr style=\"text-align: right;\">\n",
              "      <th></th>\n",
              "      <th>dataset</th>\n",
              "      <th>FCS</th>\n",
              "      <th>HDDS</th>\n",
              "      <th>rCSI</th>\n",
              "    </tr>\n",
              "  </thead>\n",
              "  <tbody>\n",
              "    <tr>\n",
              "      <th>0</th>\n",
              "      <td>Malawi_household</td>\n",
              "      <td>0.369</td>\n",
              "      <td>0.269</td>\n",
              "      <td>0.115</td>\n",
              "    </tr>\n",
              "    <tr>\n",
              "      <th>1</th>\n",
              "      <td>Malawi_cluster</td>\n",
              "      <td>0.713</td>\n",
              "      <td>0.706</td>\n",
              "      <td>0.267</td>\n",
              "    </tr>\n",
              "    <tr>\n",
              "      <th>2</th>\n",
              "      <td>Tanzania_household</td>\n",
              "      <td>0.195</td>\n",
              "      <td>0.221</td>\n",
              "      <td>0.048</td>\n",
              "    </tr>\n",
              "    <tr>\n",
              "      <th>3</th>\n",
              "      <td>Tanzania_cluster</td>\n",
              "      <td>0.289</td>\n",
              "      <td>0.385</td>\n",
              "      <td>0.127</td>\n",
              "    </tr>\n",
              "    <tr>\n",
              "      <th>4</th>\n",
              "      <td>Uganda_household</td>\n",
              "      <td>0.172</td>\n",
              "      <td>0.189</td>\n",
              "      <td>0.000</td>\n",
              "    </tr>\n",
              "    <tr>\n",
              "      <th>5</th>\n",
              "      <td>Uganda_cluster</td>\n",
              "      <td>0.314</td>\n",
              "      <td>0.435</td>\n",
              "      <td>0.000</td>\n",
              "    </tr>\n",
              "  </tbody>\n",
              "</table>\n",
              "</div>"
            ],
            "text/plain": [
              "              dataset    FCS   HDDS   rCSI\n",
              "0    Malawi_household  0.369  0.269  0.115\n",
              "1      Malawi_cluster  0.713  0.706  0.267\n",
              "2  Tanzania_household  0.195  0.221  0.048\n",
              "3    Tanzania_cluster  0.289  0.385  0.127\n",
              "4    Uganda_household  0.172  0.189  0.000\n",
              "5      Uganda_cluster  0.314  0.435  0.000"
            ]
          },
          "metadata": {
            "tags": []
          },
          "execution_count": 92
        }
      ]
    },
    {
      "cell_type": "code",
      "metadata": {
        "id": "fz4_Tbc-sZ5q",
        "colab_type": "code",
        "colab": {}
      },
      "source": [
        "from sklearn.ensemble import GradientBoostingRegressor\n",
        "\n",
        "# Create Regressor with default properties\n",
        "gbr = GradientBoostingRegressor(random_state=0,learning_rate=0.4, n_estimators=9,subsample=1, criterion='friedman_mse', min_samples_split=2)\n",
        "\n",
        "gbr.fit(x_train, y_train_new)\n",
        "pred = gbr.predict(x_test)\n",
        "\n",
        "actual =y_test_new\n",
        "r2_gbr= stats.pearsonr(actual, pred)[0] ** 2\n",
        "r2_gbr"
      ],
      "execution_count": 0,
      "outputs": []
    },
    {
      "cell_type": "code",
      "metadata": {
        "id": "3KqsgrvlszWR",
        "colab_type": "code",
        "colab": {}
      },
      "source": [
        "from sklearn.gaussian_process import  GaussianProcessRegressor\n",
        "\n",
        "# Import our kernels\n",
        "from sklearn.gaussian_process.kernels import Matern, WhiteKernel\n",
        "\n",
        "\n",
        "\n",
        "# Define custom kernel (Matern + noise)\n",
        "krnl = 2. + Matern(length_scale=1, nu=1.8) + WhiteKernel(noise_level=10)\n",
        "\n",
        "# Create Regressor with specified properties\n",
        "gpr = GaussianProcessRegressor(kernel=krnl, random_state=23)\n",
        "\n",
        "# Fit estimator and display score\n",
        "gpr= gpr.fit(x_train, y_train[labels[0]])\n",
        "pred = gpr.predict(x_test)\n",
        "actual = y_test[labels[0]]\n",
        "r2_gpr= stats.pearsonr(actual, pred)[0] ** 2\n",
        "r2_gpr\n",
        "\n",
        "pd = {'svc__C': st.uniform(0, 250),\n",
        "      'svc__gamma': g_vals}\n",
        " \n",
        "# Run randomized search\n",
        "rscv = RandomizedSearchCV(svp, param_distributions=pd,\n",
        "                          n_iter=num_samples)"
      ],
      "execution_count": 0,
      "outputs": []
    },
    {
      "cell_type": "markdown",
      "metadata": {
        "id": "ANJyTHt4jkT7",
        "colab_type": "text"
      },
      "source": [
        "## Visualization"
      ]
    },
    {
      "cell_type": "code",
      "metadata": {
        "id": "BJC69mEDjhhG",
        "colab_type": "code",
        "colab": {}
      },
      "source": [
        "fig, axs = plt.subplots(2, 2, figsize=(10, 10))\n",
        "axs[0, 0].scatter( actual_linear,pred_linear)\n",
        "axs[0, 0].plot(actual_linear,actual_linear, color='red')\n",
        "\n",
        "axs[1, 0].scatter( actual_rfr, pred_rfr)\n",
        "axs[1, 0].plot(actual_rfr, actual_rfr, color='red')\n",
        "\n",
        "\n",
        "axs[0, 1].scatter(actual_en ,pred_en )\n",
        "axs[0, 1].plot(actual_en,actual_en, color='red')\n",
        "\n",
        "axs[1, 1].scatter(actual_gbr, pred_gbr )\n",
        "axs[1, 1].plot(actual_gbr, actual_gbr, color='red')\n",
        "\n",
        "\n",
        "axs[0, 0].title.set_text('Scatter Plot Linear')\n",
        "axs[1, 0].title.set_text('Scatter Plot RandomForest')\n",
        "axs[0, 1].title.set_text('Scatter Plot ElasticNet')\n",
        "axs[1, 1].title.set_text('Scatter Plot GradientBoosting')\n",
        "plt.show()"
      ],
      "execution_count": 0,
      "outputs": []
    },
    {
      "cell_type": "markdown",
      "metadata": {
        "id": "WWSlbeogjmtg",
        "colab_type": "text"
      },
      "source": [
        "## Interpretation\n"
      ]
    },
    {
      "cell_type": "code",
      "metadata": {
        "id": "YwonIW4_mEaL",
        "colab_type": "code",
        "colab": {}
      },
      "source": [
        ""
      ],
      "execution_count": 0,
      "outputs": []
    },
    {
      "cell_type": "markdown",
      "metadata": {
        "id": "AOGKa1sXYam9",
        "colab_type": "text"
      },
      "source": [
        "Hit and misses "
      ]
    },
    {
      "cell_type": "code",
      "metadata": {
        "id": "IHTFHwnXYbHR",
        "colab_type": "code",
        "colab": {}
      },
      "source": [
        ""
      ],
      "execution_count": 0,
      "outputs": []
    },
    {
      "cell_type": "markdown",
      "metadata": {
        "id": "k0RPD5FsYdVS",
        "colab_type": "text"
      },
      "source": [
        "expand the prediction to grid level "
      ]
    }
  ]
}