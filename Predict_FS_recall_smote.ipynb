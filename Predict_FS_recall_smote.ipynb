{
  "nbformat": 4,
  "nbformat_minor": 0,
  "metadata": {
    "accelerator": "TPU",
    "colab": {
      "name": "Copy of Predict_FS_MW_EDA.ipynb",
      "version": "0.3.2",
      "provenance": [],
      "collapsed_sections": [
        "z4-7F9HoPcQq",
        "s7DXM1k9N2nt",
        "Iw6L0fotmdJk"
      ],
      "toc_visible": true,
      "include_colab_link": true
    },
    "kernelspec": {
      "display_name": "Python 3",
      "language": "python",
      "name": "python3"
    },
    "language_info": {
      "codemirror_mode": {
        "name": "ipython",
        "version": 3
      },
      "file_extension": ".py",
      "mimetype": "text/x-python",
      "name": "python",
      "nbconvert_exporter": "python",
      "pygments_lexer": "ipython3",
      "version": "3.6.3"
    }
  },
  "cells": [
    {
      "cell_type": "markdown",
      "metadata": {
        "id": "view-in-github",
        "colab_type": "text"
      },
      "source": [
        "<a href=\"https://colab.research.google.com/github/zhou100/FoodSecurityPrediction/blob/master/Predict_FS_recall_smote.ipynb\" target=\"_parent\"><img src=\"https://colab.research.google.com/assets/colab-badge.svg\" alt=\"Open In Colab\"/></a>"
      ]
    },
    {
      "cell_type": "markdown",
      "metadata": {
        "colab_type": "text",
        "id": "M84u2C8HfggW"
      },
      "source": [
        "# Use machine learning to predict food security"
      ]
    },
    {
      "cell_type": "code",
      "metadata": {
        "colab_type": "code",
        "id": "I19oMdkdgy5O",
        "colab": {}
      },
      "source": [
        "# Set up Notebook\n",
        "% matplotlib inline\n",
        "\n",
        "# Standard imports\n",
        "from sklearn.model_selection import GridSearchCV\n",
        "\n",
        "import numpy as np\n",
        "import pandas as pd\n",
        "import matplotlib.pyplot as plt\n",
        "import seaborn as sns\n",
        "import scipy.stats as stats\n",
        "from matplotlib import cm\n",
        "\n",
        "\n",
        "# We do this to ignore several specific Pandas warnings\n",
        "import warnings\n",
        "warnings.filterwarnings('ignore')\n",
        "from sklearn.metrics import explained_variance_score\n",
        "from sklearn.metrics import mean_absolute_error\n",
        "from sklearn.metrics import mean_squared_error\n",
        "from sklearn.metrics import median_absolute_error\n",
        "from sklearn.metrics import r2_score"
      ],
      "execution_count": 0,
      "outputs": []
    },
    {
      "cell_type": "markdown",
      "metadata": {
        "colab_type": "text",
        "id": "keVrDW_bUkj7"
      },
      "source": [
        " ## Read in the data cleaned out by R"
      ]
    },
    {
      "cell_type": "markdown",
      "metadata": {
        "colab_type": "text",
        "id": "zFRtuZDugFxL"
      },
      "source": [
        "If you are using google colab like me, you will need to mount your google drive first and  copy the cleaned dataset from the R project to your google drive. \n",
        "\n",
        "If you are using python/jupyter notebook locally, just point to the right directory. "
      ]
    },
    {
      "cell_type": "code",
      "metadata": {
        "id": "pL87zGxjfWxp",
        "colab_type": "code",
        "colab": {}
      },
      "source": [
        "# mw_clust= pd.read_csv(\"data/clean/dataset/mw_dataset_cluster.csv\")\n",
        "\n",
        "url = 'https://raw.githubusercontent.com/zhou100/FoodSecurityPrediction/master/data/clean/dataset/mw_dataset_cluster.csv'\n",
        "mw_clust = pd.read_csv(url)"
      ],
      "execution_count": 0,
      "outputs": []
    },
    {
      "cell_type": "code",
      "metadata": {
        "id": "Amj_OZ_9t4BK",
        "colab_type": "code",
        "colab": {}
      },
      "source": [
        "url_tz = 'https://raw.githubusercontent.com/zhou100/FoodSecurityPrediction/master/data/clean/dataset/tz_dataset_cluster.csv'\n",
        "tz_clust = pd.read_csv(url_tz)"
      ],
      "execution_count": 0,
      "outputs": []
    },
    {
      "cell_type": "code",
      "metadata": {
        "id": "N5pltNNPuCn9",
        "colab_type": "code",
        "colab": {
          "base_uri": "https://localhost:8080/",
          "height": 34
        },
        "outputId": "e5aacd78-9cf4-45aa-9410-f6ead064ca39"
      },
      "source": [
        "url_ug = 'https://raw.githubusercontent.com/zhou100/FoodSecurityPrediction/master/data/clean/dataset/ug_dataset_cluster.csv'\n",
        "ug_clust = pd.read_csv(url_ug)\n",
        "ug_clust = ug_clust.replace([np.inf, -np.inf], np.nan)\n",
        "ug_clust = ug_clust.dropna()\n",
        "ug_clust.isnull().values.any()"
      ],
      "execution_count": 166,
      "outputs": [
        {
          "output_type": "execute_result",
          "data": {
            "text/plain": [
              "False"
            ]
          },
          "metadata": {
            "tags": []
          },
          "execution_count": 166
        }
      ]
    },
    {
      "cell_type": "markdown",
      "metadata": {
        "colab_type": "text",
        "id": "sWyD9pyGg3tG"
      },
      "source": [
        "## Preprocessing data\n"
      ]
    },
    {
      "cell_type": "markdown",
      "metadata": {
        "colab_type": "text",
        "id": "z4-7F9HoPcQq"
      },
      "source": [
        "### One-hot encoding for string variables "
      ]
    },
    {
      "cell_type": "code",
      "metadata": {
        "colab_type": "code",
        "id": "o5G4izvkM1NP",
        "colab": {}
      },
      "source": [
        "mw_clust[\"FNID\"]= mw_clust[\"FNID\"].str.lstrip('MW2012C')\n",
        "fnid_mw_clust = pd.get_dummies(mw_clust[\"FNID\"],prefix='MW', drop_first=True)\n",
        "mw_clust = pd.concat([mw_clust, fnid_mw_clust], axis=1)"
      ],
      "execution_count": 0,
      "outputs": []
    },
    {
      "cell_type": "code",
      "metadata": {
        "colab_type": "code",
        "id": "NhZG9v9kZt4g",
        "outputId": "9289a35e-ee5d-4755-c48e-d8d87e62395e",
        "colab": {
          "base_uri": "https://localhost:8080/",
          "height": 253
        }
      },
      "source": [
        "mw_clust.head()"
      ],
      "execution_count": 4,
      "outputs": [
        {
          "output_type": "execute_result",
          "data": {
            "text/html": [
              "<div>\n",
              "<style scoped>\n",
              "    .dataframe tbody tr th:only-of-type {\n",
              "        vertical-align: middle;\n",
              "    }\n",
              "\n",
              "    .dataframe tbody tr th {\n",
              "        vertical-align: top;\n",
              "    }\n",
              "\n",
              "    .dataframe thead th {\n",
              "        text-align: right;\n",
              "    }\n",
              "</style>\n",
              "<table border=\"1\" class=\"dataframe\">\n",
              "  <thead>\n",
              "    <tr style=\"text-align: right;\">\n",
              "      <th></th>\n",
              "      <th>FS_year</th>\n",
              "      <th>FNID</th>\n",
              "      <th>FCS</th>\n",
              "      <th>HDDS</th>\n",
              "      <th>rCSI</th>\n",
              "      <th>region_north</th>\n",
              "      <th>region_central</th>\n",
              "      <th>rural</th>\n",
              "      <th>dist_road</th>\n",
              "      <th>dist_admarc</th>\n",
              "      <th>dist_popcenter</th>\n",
              "      <th>percent_ag</th>\n",
              "      <th>nutri_severe_constraint</th>\n",
              "      <th>nutri_moderate_constraint</th>\n",
              "      <th>nutri_reten_severe_constraint</th>\n",
              "      <th>dummy_terrain_rough</th>\n",
              "      <th>FS_month</th>\n",
              "      <th>head_age</th>\n",
              "      <th>female_head</th>\n",
              "      <th>hhsize</th>\n",
              "      <th>floor_dirt_sand_dung</th>\n",
              "      <th>cell_phone</th>\n",
              "      <th>number_celphones</th>\n",
              "      <th>roof_not_natural</th>\n",
              "      <th>roof_iron</th>\n",
              "      <th>asset_index</th>\n",
              "      <th>clust_maize_price</th>\n",
              "      <th>clust_rice_price</th>\n",
              "      <th>clust_nuts_price</th>\n",
              "      <th>clust_beans_price</th>\n",
              "      <th>clust_maize_mktthin</th>\n",
              "      <th>clust_rice_mktthin</th>\n",
              "      <th>clust_nuts_mktthin</th>\n",
              "      <th>clust_beans_mktthin</th>\n",
              "      <th>lhz_maize_price</th>\n",
              "      <th>lhz_rice_price</th>\n",
              "      <th>lhz_nuts_price</th>\n",
              "      <th>lhz_beans_price</th>\n",
              "      <th>lhz_maize_mktthin</th>\n",
              "      <th>lhz_rice_mktthin</th>\n",
              "      <th>...</th>\n",
              "      <th>MW_3020213</th>\n",
              "      <th>MW_3020303</th>\n",
              "      <th>MW_3020403</th>\n",
              "      <th>MW_3020503</th>\n",
              "      <th>MW_3020513</th>\n",
              "      <th>MW_3020515</th>\n",
              "      <th>MW_3020603</th>\n",
              "      <th>MW_3020619</th>\n",
              "      <th>MW_3020703</th>\n",
              "      <th>MW_3020803</th>\n",
              "      <th>MW_3020813</th>\n",
              "      <th>MW_3020815</th>\n",
              "      <th>MW_3020913</th>\n",
              "      <th>MW_3030112</th>\n",
              "      <th>MW_3030114</th>\n",
              "      <th>MW_3030115</th>\n",
              "      <th>MW_3030204</th>\n",
              "      <th>MW_3030206</th>\n",
              "      <th>MW_3030214</th>\n",
              "      <th>MW_3030304</th>\n",
              "      <th>MW_3030306</th>\n",
              "      <th>MW_3030314</th>\n",
              "      <th>MW_3030404</th>\n",
              "      <th>MW_3030414</th>\n",
              "      <th>MW_3030506</th>\n",
              "      <th>MW_3030514</th>\n",
              "      <th>MW_3030519</th>\n",
              "      <th>MW_3030606</th>\n",
              "      <th>MW_3030613</th>\n",
              "      <th>MW_3030714</th>\n",
              "      <th>MW_3030716</th>\n",
              "      <th>MW_3030804</th>\n",
              "      <th>MW_3030816</th>\n",
              "      <th>MW_3030904</th>\n",
              "      <th>MW_3031005</th>\n",
              "      <th>MW_3031105</th>\n",
              "      <th>MW_3031206</th>\n",
              "      <th>MW_3031213</th>\n",
              "      <th>MW_3031313</th>\n",
              "      <th>MW_3999918</th>\n",
              "    </tr>\n",
              "  </thead>\n",
              "  <tbody>\n",
              "    <tr>\n",
              "      <th>0</th>\n",
              "      <td>2010</td>\n",
              "      <td>3010102</td>\n",
              "      <td>42.718750</td>\n",
              "      <td>5.375000</td>\n",
              "      <td>2.750000</td>\n",
              "      <td>1.0</td>\n",
              "      <td>0.0</td>\n",
              "      <td>1.000000</td>\n",
              "      <td>2.656875</td>\n",
              "      <td>12.016250</td>\n",
              "      <td>62.406875</td>\n",
              "      <td>20.875000</td>\n",
              "      <td>0.000000</td>\n",
              "      <td>1.000000</td>\n",
              "      <td>0.0</td>\n",
              "      <td>0</td>\n",
              "      <td>4.000000</td>\n",
              "      <td>45.375000</td>\n",
              "      <td>0.187500</td>\n",
              "      <td>5.937500</td>\n",
              "      <td>0.937500</td>\n",
              "      <td>0.250000</td>\n",
              "      <td>0.437500</td>\n",
              "      <td>0.125000</td>\n",
              "      <td>0.125000</td>\n",
              "      <td>-0.409163</td>\n",
              "      <td>44.282500</td>\n",
              "      <td>247.276000</td>\n",
              "      <td>235.426000</td>\n",
              "      <td>187.412000</td>\n",
              "      <td>0.2</td>\n",
              "      <td>0.0</td>\n",
              "      <td>0.0</td>\n",
              "      <td>0.0</td>\n",
              "      <td>51.144094</td>\n",
              "      <td>194.816929</td>\n",
              "      <td>233.930246</td>\n",
              "      <td>167.089217</td>\n",
              "      <td>0.400000</td>\n",
              "      <td>0.4</td>\n",
              "      <td>...</td>\n",
              "      <td>0</td>\n",
              "      <td>0</td>\n",
              "      <td>0</td>\n",
              "      <td>0</td>\n",
              "      <td>0</td>\n",
              "      <td>0</td>\n",
              "      <td>0</td>\n",
              "      <td>0</td>\n",
              "      <td>0</td>\n",
              "      <td>0</td>\n",
              "      <td>0</td>\n",
              "      <td>0</td>\n",
              "      <td>0</td>\n",
              "      <td>0</td>\n",
              "      <td>0</td>\n",
              "      <td>0</td>\n",
              "      <td>0</td>\n",
              "      <td>0</td>\n",
              "      <td>0</td>\n",
              "      <td>0</td>\n",
              "      <td>0</td>\n",
              "      <td>0</td>\n",
              "      <td>0</td>\n",
              "      <td>0</td>\n",
              "      <td>0</td>\n",
              "      <td>0</td>\n",
              "      <td>0</td>\n",
              "      <td>0</td>\n",
              "      <td>0</td>\n",
              "      <td>0</td>\n",
              "      <td>0</td>\n",
              "      <td>0</td>\n",
              "      <td>0</td>\n",
              "      <td>0</td>\n",
              "      <td>0</td>\n",
              "      <td>0</td>\n",
              "      <td>0</td>\n",
              "      <td>0</td>\n",
              "      <td>0</td>\n",
              "      <td>0</td>\n",
              "    </tr>\n",
              "    <tr>\n",
              "      <th>1</th>\n",
              "      <td>2013</td>\n",
              "      <td>3010102</td>\n",
              "      <td>41.500000</td>\n",
              "      <td>4.687500</td>\n",
              "      <td>11.625000</td>\n",
              "      <td>1.0</td>\n",
              "      <td>0.0</td>\n",
              "      <td>1.000000</td>\n",
              "      <td>2.250000</td>\n",
              "      <td>12.687500</td>\n",
              "      <td>62.562500</td>\n",
              "      <td>23.250000</td>\n",
              "      <td>0.000000</td>\n",
              "      <td>1.000000</td>\n",
              "      <td>0.0</td>\n",
              "      <td>0</td>\n",
              "      <td>4.000000</td>\n",
              "      <td>47.937500</td>\n",
              "      <td>0.250000</td>\n",
              "      <td>6.187500</td>\n",
              "      <td>0.937500</td>\n",
              "      <td>0.250000</td>\n",
              "      <td>0.250000</td>\n",
              "      <td>0.062500</td>\n",
              "      <td>0.062500</td>\n",
              "      <td>-0.587467</td>\n",
              "      <td>117.495000</td>\n",
              "      <td>338.092614</td>\n",
              "      <td>260.726301</td>\n",
              "      <td>169.705691</td>\n",
              "      <td>0.5</td>\n",
              "      <td>1.0</td>\n",
              "      <td>1.0</td>\n",
              "      <td>1.0</td>\n",
              "      <td>145.347005</td>\n",
              "      <td>390.687644</td>\n",
              "      <td>237.306038</td>\n",
              "      <td>271.791314</td>\n",
              "      <td>0.500000</td>\n",
              "      <td>1.0</td>\n",
              "      <td>...</td>\n",
              "      <td>0</td>\n",
              "      <td>0</td>\n",
              "      <td>0</td>\n",
              "      <td>0</td>\n",
              "      <td>0</td>\n",
              "      <td>0</td>\n",
              "      <td>0</td>\n",
              "      <td>0</td>\n",
              "      <td>0</td>\n",
              "      <td>0</td>\n",
              "      <td>0</td>\n",
              "      <td>0</td>\n",
              "      <td>0</td>\n",
              "      <td>0</td>\n",
              "      <td>0</td>\n",
              "      <td>0</td>\n",
              "      <td>0</td>\n",
              "      <td>0</td>\n",
              "      <td>0</td>\n",
              "      <td>0</td>\n",
              "      <td>0</td>\n",
              "      <td>0</td>\n",
              "      <td>0</td>\n",
              "      <td>0</td>\n",
              "      <td>0</td>\n",
              "      <td>0</td>\n",
              "      <td>0</td>\n",
              "      <td>0</td>\n",
              "      <td>0</td>\n",
              "      <td>0</td>\n",
              "      <td>0</td>\n",
              "      <td>0</td>\n",
              "      <td>0</td>\n",
              "      <td>0</td>\n",
              "      <td>0</td>\n",
              "      <td>0</td>\n",
              "      <td>0</td>\n",
              "      <td>0</td>\n",
              "      <td>0</td>\n",
              "      <td>0</td>\n",
              "    </tr>\n",
              "    <tr>\n",
              "      <th>2</th>\n",
              "      <td>2010</td>\n",
              "      <td>3010102</td>\n",
              "      <td>35.218750</td>\n",
              "      <td>4.937500</td>\n",
              "      <td>2.687500</td>\n",
              "      <td>1.0</td>\n",
              "      <td>0.0</td>\n",
              "      <td>1.000000</td>\n",
              "      <td>0.513750</td>\n",
              "      <td>10.821875</td>\n",
              "      <td>58.466875</td>\n",
              "      <td>48.687500</td>\n",
              "      <td>0.000000</td>\n",
              "      <td>1.000000</td>\n",
              "      <td>0.0</td>\n",
              "      <td>0</td>\n",
              "      <td>8.000000</td>\n",
              "      <td>43.187500</td>\n",
              "      <td>0.062500</td>\n",
              "      <td>5.437500</td>\n",
              "      <td>0.875000</td>\n",
              "      <td>0.250000</td>\n",
              "      <td>0.250000</td>\n",
              "      <td>0.187500</td>\n",
              "      <td>0.187500</td>\n",
              "      <td>-0.373761</td>\n",
              "      <td>31.591000</td>\n",
              "      <td>176.821000</td>\n",
              "      <td>180.817000</td>\n",
              "      <td>167.261000</td>\n",
              "      <td>0.0</td>\n",
              "      <td>0.0</td>\n",
              "      <td>0.0</td>\n",
              "      <td>0.0</td>\n",
              "      <td>30.082676</td>\n",
              "      <td>141.357511</td>\n",
              "      <td>92.399333</td>\n",
              "      <td>144.797615</td>\n",
              "      <td>1.000000</td>\n",
              "      <td>1.0</td>\n",
              "      <td>...</td>\n",
              "      <td>0</td>\n",
              "      <td>0</td>\n",
              "      <td>0</td>\n",
              "      <td>0</td>\n",
              "      <td>0</td>\n",
              "      <td>0</td>\n",
              "      <td>0</td>\n",
              "      <td>0</td>\n",
              "      <td>0</td>\n",
              "      <td>0</td>\n",
              "      <td>0</td>\n",
              "      <td>0</td>\n",
              "      <td>0</td>\n",
              "      <td>0</td>\n",
              "      <td>0</td>\n",
              "      <td>0</td>\n",
              "      <td>0</td>\n",
              "      <td>0</td>\n",
              "      <td>0</td>\n",
              "      <td>0</td>\n",
              "      <td>0</td>\n",
              "      <td>0</td>\n",
              "      <td>0</td>\n",
              "      <td>0</td>\n",
              "      <td>0</td>\n",
              "      <td>0</td>\n",
              "      <td>0</td>\n",
              "      <td>0</td>\n",
              "      <td>0</td>\n",
              "      <td>0</td>\n",
              "      <td>0</td>\n",
              "      <td>0</td>\n",
              "      <td>0</td>\n",
              "      <td>0</td>\n",
              "      <td>0</td>\n",
              "      <td>0</td>\n",
              "      <td>0</td>\n",
              "      <td>0</td>\n",
              "      <td>0</td>\n",
              "      <td>0</td>\n",
              "    </tr>\n",
              "    <tr>\n",
              "      <th>3</th>\n",
              "      <td>2010</td>\n",
              "      <td>3010508</td>\n",
              "      <td>35.218750</td>\n",
              "      <td>4.937500</td>\n",
              "      <td>2.687500</td>\n",
              "      <td>1.0</td>\n",
              "      <td>0.0</td>\n",
              "      <td>1.000000</td>\n",
              "      <td>0.513750</td>\n",
              "      <td>10.821875</td>\n",
              "      <td>58.466875</td>\n",
              "      <td>48.687500</td>\n",
              "      <td>0.000000</td>\n",
              "      <td>1.000000</td>\n",
              "      <td>0.0</td>\n",
              "      <td>0</td>\n",
              "      <td>8.000000</td>\n",
              "      <td>43.187500</td>\n",
              "      <td>0.062500</td>\n",
              "      <td>5.437500</td>\n",
              "      <td>0.875000</td>\n",
              "      <td>0.250000</td>\n",
              "      <td>0.250000</td>\n",
              "      <td>0.187500</td>\n",
              "      <td>0.187500</td>\n",
              "      <td>-0.373761</td>\n",
              "      <td>31.591000</td>\n",
              "      <td>176.821000</td>\n",
              "      <td>180.817000</td>\n",
              "      <td>167.261000</td>\n",
              "      <td>0.0</td>\n",
              "      <td>0.0</td>\n",
              "      <td>0.0</td>\n",
              "      <td>0.0</td>\n",
              "      <td>30.082676</td>\n",
              "      <td>141.357511</td>\n",
              "      <td>92.399333</td>\n",
              "      <td>144.797615</td>\n",
              "      <td>1.000000</td>\n",
              "      <td>1.0</td>\n",
              "      <td>...</td>\n",
              "      <td>0</td>\n",
              "      <td>0</td>\n",
              "      <td>0</td>\n",
              "      <td>0</td>\n",
              "      <td>0</td>\n",
              "      <td>0</td>\n",
              "      <td>0</td>\n",
              "      <td>0</td>\n",
              "      <td>0</td>\n",
              "      <td>0</td>\n",
              "      <td>0</td>\n",
              "      <td>0</td>\n",
              "      <td>0</td>\n",
              "      <td>0</td>\n",
              "      <td>0</td>\n",
              "      <td>0</td>\n",
              "      <td>0</td>\n",
              "      <td>0</td>\n",
              "      <td>0</td>\n",
              "      <td>0</td>\n",
              "      <td>0</td>\n",
              "      <td>0</td>\n",
              "      <td>0</td>\n",
              "      <td>0</td>\n",
              "      <td>0</td>\n",
              "      <td>0</td>\n",
              "      <td>0</td>\n",
              "      <td>0</td>\n",
              "      <td>0</td>\n",
              "      <td>0</td>\n",
              "      <td>0</td>\n",
              "      <td>0</td>\n",
              "      <td>0</td>\n",
              "      <td>0</td>\n",
              "      <td>0</td>\n",
              "      <td>0</td>\n",
              "      <td>0</td>\n",
              "      <td>0</td>\n",
              "      <td>0</td>\n",
              "      <td>0</td>\n",
              "    </tr>\n",
              "    <tr>\n",
              "      <th>4</th>\n",
              "      <td>2013</td>\n",
              "      <td>3010102</td>\n",
              "      <td>48.088235</td>\n",
              "      <td>5.058824</td>\n",
              "      <td>2.411765</td>\n",
              "      <td>1.0</td>\n",
              "      <td>0.0</td>\n",
              "      <td>0.941176</td>\n",
              "      <td>0.529412</td>\n",
              "      <td>11.411765</td>\n",
              "      <td>56.529412</td>\n",
              "      <td>45.764706</td>\n",
              "      <td>0.058824</td>\n",
              "      <td>0.941176</td>\n",
              "      <td>0.0</td>\n",
              "      <td>0</td>\n",
              "      <td>5.058824</td>\n",
              "      <td>45.647059</td>\n",
              "      <td>0.176471</td>\n",
              "      <td>5.529412</td>\n",
              "      <td>0.823529</td>\n",
              "      <td>0.411765</td>\n",
              "      <td>0.647059</td>\n",
              "      <td>0.352941</td>\n",
              "      <td>0.352941</td>\n",
              "      <td>-0.322886</td>\n",
              "      <td>119.627402</td>\n",
              "      <td>400.969080</td>\n",
              "      <td>379.379586</td>\n",
              "      <td>347.946196</td>\n",
              "      <td>0.0</td>\n",
              "      <td>1.0</td>\n",
              "      <td>1.0</td>\n",
              "      <td>1.0</td>\n",
              "      <td>96.706535</td>\n",
              "      <td>257.533827</td>\n",
              "      <td>244.449981</td>\n",
              "      <td>231.704856</td>\n",
              "      <td>0.627451</td>\n",
              "      <td>1.0</td>\n",
              "      <td>...</td>\n",
              "      <td>0</td>\n",
              "      <td>0</td>\n",
              "      <td>0</td>\n",
              "      <td>0</td>\n",
              "      <td>0</td>\n",
              "      <td>0</td>\n",
              "      <td>0</td>\n",
              "      <td>0</td>\n",
              "      <td>0</td>\n",
              "      <td>0</td>\n",
              "      <td>0</td>\n",
              "      <td>0</td>\n",
              "      <td>0</td>\n",
              "      <td>0</td>\n",
              "      <td>0</td>\n",
              "      <td>0</td>\n",
              "      <td>0</td>\n",
              "      <td>0</td>\n",
              "      <td>0</td>\n",
              "      <td>0</td>\n",
              "      <td>0</td>\n",
              "      <td>0</td>\n",
              "      <td>0</td>\n",
              "      <td>0</td>\n",
              "      <td>0</td>\n",
              "      <td>0</td>\n",
              "      <td>0</td>\n",
              "      <td>0</td>\n",
              "      <td>0</td>\n",
              "      <td>0</td>\n",
              "      <td>0</td>\n",
              "      <td>0</td>\n",
              "      <td>0</td>\n",
              "      <td>0</td>\n",
              "      <td>0</td>\n",
              "      <td>0</td>\n",
              "      <td>0</td>\n",
              "      <td>0</td>\n",
              "      <td>0</td>\n",
              "      <td>0</td>\n",
              "    </tr>\n",
              "  </tbody>\n",
              "</table>\n",
              "<p>5 rows × 108 columns</p>\n",
              "</div>"
            ],
            "text/plain": [
              "   FS_year     FNID        FCS  ...  MW_3031213  MW_3031313  MW_3999918\n",
              "0     2010  3010102  42.718750  ...           0           0           0\n",
              "1     2013  3010102  41.500000  ...           0           0           0\n",
              "2     2010  3010102  35.218750  ...           0           0           0\n",
              "3     2010  3010508  35.218750  ...           0           0           0\n",
              "4     2013  3010102  48.088235  ...           0           0           0\n",
              "\n",
              "[5 rows x 108 columns]"
            ]
          },
          "metadata": {
            "tags": []
          },
          "execution_count": 4
        }
      ]
    },
    {
      "cell_type": "code",
      "metadata": {
        "id": "P4HSNy0du4AC",
        "colab_type": "code",
        "colab": {
          "base_uri": "https://localhost:8080/",
          "height": 224
        },
        "outputId": "446dc315-56a9-428d-83d5-3481d0561797"
      },
      "source": [
        "tz_clust.head()"
      ],
      "execution_count": 103,
      "outputs": [
        {
          "output_type": "execute_result",
          "data": {
            "text/html": [
              "<div>\n",
              "<style scoped>\n",
              "    .dataframe tbody tr th:only-of-type {\n",
              "        vertical-align: middle;\n",
              "    }\n",
              "\n",
              "    .dataframe tbody tr th {\n",
              "        vertical-align: top;\n",
              "    }\n",
              "\n",
              "    .dataframe thead th {\n",
              "        text-align: right;\n",
              "    }\n",
              "</style>\n",
              "<table border=\"1\" class=\"dataframe\">\n",
              "  <thead>\n",
              "    <tr style=\"text-align: right;\">\n",
              "      <th></th>\n",
              "      <th>FS_year</th>\n",
              "      <th>FCS</th>\n",
              "      <th>HDDS</th>\n",
              "      <th>rCSI</th>\n",
              "      <th>rural</th>\n",
              "      <th>FS_month</th>\n",
              "      <th>region2</th>\n",
              "      <th>region3</th>\n",
              "      <th>region4</th>\n",
              "      <th>region5</th>\n",
              "      <th>region6</th>\n",
              "      <th>region7</th>\n",
              "      <th>region8</th>\n",
              "      <th>region9</th>\n",
              "      <th>region10</th>\n",
              "      <th>region11</th>\n",
              "      <th>region12</th>\n",
              "      <th>region13</th>\n",
              "      <th>region14</th>\n",
              "      <th>region15</th>\n",
              "      <th>region16</th>\n",
              "      <th>region17</th>\n",
              "      <th>region18</th>\n",
              "      <th>region19</th>\n",
              "      <th>region20</th>\n",
              "      <th>region21</th>\n",
              "      <th>region51</th>\n",
              "      <th>region52</th>\n",
              "      <th>region53</th>\n",
              "      <th>region54</th>\n",
              "      <th>region55</th>\n",
              "      <th>dist_road</th>\n",
              "      <th>dist_popcenter</th>\n",
              "      <th>percent_ag</th>\n",
              "      <th>nutri_severe_constraint</th>\n",
              "      <th>nutri_moderate_constraint</th>\n",
              "      <th>nutri_reten_severe_constraint</th>\n",
              "      <th>dummy_terrain_rough</th>\n",
              "      <th>head_age</th>\n",
              "      <th>female_head</th>\n",
              "      <th>asset_index</th>\n",
              "      <th>Cellphone</th>\n",
              "      <th>num_cell</th>\n",
              "      <th>floor_dirt_sand_dung</th>\n",
              "      <th>roof_not_natural</th>\n",
              "      <th>roof_iron</th>\n",
              "      <th>clust_maize_price</th>\n",
              "      <th>clust_rice_price</th>\n",
              "      <th>clust_bean_mktthin</th>\n",
              "      <th>clust_maize_mktthin</th>\n",
              "      <th>clust_rice_mktthin</th>\n",
              "      <th>lhz_maize_price</th>\n",
              "      <th>lhz_rice_price</th>\n",
              "      <th>lhz_bean_mktthin</th>\n",
              "      <th>lhz_maize_mktthin</th>\n",
              "      <th>lhz_rice_mktthin</th>\n",
              "      <th>raincytot</th>\n",
              "      <th>day1rain</th>\n",
              "      <th>maxdaysnorain</th>\n",
              "      <th>lhz_day1rain</th>\n",
              "      <th>gdd</th>\n",
              "      <th>tmean</th>\n",
              "      <th>lhz_raincytot</th>\n",
              "      <th>lhz_maxdaysnorain</th>\n",
              "      <th>heatdays</th>\n",
              "      <th>floodmax</th>\n",
              "      <th>lhz_floodmax</th>\n",
              "    </tr>\n",
              "  </thead>\n",
              "  <tbody>\n",
              "    <tr>\n",
              "      <th>0</th>\n",
              "      <td>2015</td>\n",
              "      <td>43.375000</td>\n",
              "      <td>5.250000</td>\n",
              "      <td>6.125</td>\n",
              "      <td>1.0</td>\n",
              "      <td>4.0</td>\n",
              "      <td>0.0</td>\n",
              "      <td>0.0</td>\n",
              "      <td>0.0</td>\n",
              "      <td>0.0</td>\n",
              "      <td>0.0</td>\n",
              "      <td>0.0</td>\n",
              "      <td>0.0</td>\n",
              "      <td>0.0</td>\n",
              "      <td>1.0</td>\n",
              "      <td>0.0</td>\n",
              "      <td>0.0</td>\n",
              "      <td>0.0</td>\n",
              "      <td>0.0</td>\n",
              "      <td>0.0</td>\n",
              "      <td>0.0</td>\n",
              "      <td>0.0</td>\n",
              "      <td>0.0</td>\n",
              "      <td>0.0</td>\n",
              "      <td>0.0</td>\n",
              "      <td>0.0</td>\n",
              "      <td>0.0</td>\n",
              "      <td>0.0</td>\n",
              "      <td>0.0</td>\n",
              "      <td>0.0</td>\n",
              "      <td>0.0</td>\n",
              "      <td>13.464894</td>\n",
              "      <td>32.893617</td>\n",
              "      <td>32.898936</td>\n",
              "      <td>0.606383</td>\n",
              "      <td>0.313830</td>\n",
              "      <td>0.005319</td>\n",
              "      <td>0</td>\n",
              "      <td>41.375000</td>\n",
              "      <td>0.250000</td>\n",
              "      <td>-0.765501</td>\n",
              "      <td>0.625000</td>\n",
              "      <td>0.875000</td>\n",
              "      <td>0.625000</td>\n",
              "      <td>0.625000</td>\n",
              "      <td>0.625000</td>\n",
              "      <td>27708.0</td>\n",
              "      <td>175833.0</td>\n",
              "      <td>0.0</td>\n",
              "      <td>0.0</td>\n",
              "      <td>0.0</td>\n",
              "      <td>44926.970174</td>\n",
              "      <td>175166.466099</td>\n",
              "      <td>0.0</td>\n",
              "      <td>0.0</td>\n",
              "      <td>0.0</td>\n",
              "      <td>949.138410</td>\n",
              "      <td>5</td>\n",
              "      <td>148</td>\n",
              "      <td>81</td>\n",
              "      <td>213</td>\n",
              "      <td>27.410465</td>\n",
              "      <td>701.392269</td>\n",
              "      <td>142</td>\n",
              "      <td>213</td>\n",
              "      <td>0.0</td>\n",
              "      <td>0.0</td>\n",
              "    </tr>\n",
              "    <tr>\n",
              "      <th>1</th>\n",
              "      <td>2015</td>\n",
              "      <td>33.562500</td>\n",
              "      <td>4.500000</td>\n",
              "      <td>17.750</td>\n",
              "      <td>1.0</td>\n",
              "      <td>1.0</td>\n",
              "      <td>0.0</td>\n",
              "      <td>0.0</td>\n",
              "      <td>0.0</td>\n",
              "      <td>0.0</td>\n",
              "      <td>0.0</td>\n",
              "      <td>0.0</td>\n",
              "      <td>0.0</td>\n",
              "      <td>0.0</td>\n",
              "      <td>1.0</td>\n",
              "      <td>0.0</td>\n",
              "      <td>0.0</td>\n",
              "      <td>0.0</td>\n",
              "      <td>0.0</td>\n",
              "      <td>0.0</td>\n",
              "      <td>0.0</td>\n",
              "      <td>0.0</td>\n",
              "      <td>0.0</td>\n",
              "      <td>0.0</td>\n",
              "      <td>0.0</td>\n",
              "      <td>0.0</td>\n",
              "      <td>0.0</td>\n",
              "      <td>0.0</td>\n",
              "      <td>0.0</td>\n",
              "      <td>0.0</td>\n",
              "      <td>0.0</td>\n",
              "      <td>13.464894</td>\n",
              "      <td>32.893617</td>\n",
              "      <td>32.898936</td>\n",
              "      <td>0.606383</td>\n",
              "      <td>0.313830</td>\n",
              "      <td>0.005319</td>\n",
              "      <td>0</td>\n",
              "      <td>46.000000</td>\n",
              "      <td>0.125000</td>\n",
              "      <td>-0.886329</td>\n",
              "      <td>0.500000</td>\n",
              "      <td>0.500000</td>\n",
              "      <td>1.000000</td>\n",
              "      <td>0.000000</td>\n",
              "      <td>0.000000</td>\n",
              "      <td>21731.0</td>\n",
              "      <td>161538.0</td>\n",
              "      <td>0.0</td>\n",
              "      <td>0.0</td>\n",
              "      <td>0.0</td>\n",
              "      <td>38137.865269</td>\n",
              "      <td>156000.969581</td>\n",
              "      <td>0.0</td>\n",
              "      <td>0.0</td>\n",
              "      <td>0.0</td>\n",
              "      <td>948.396418</td>\n",
              "      <td>5</td>\n",
              "      <td>117</td>\n",
              "      <td>81</td>\n",
              "      <td>213</td>\n",
              "      <td>27.410465</td>\n",
              "      <td>701.392269</td>\n",
              "      <td>142</td>\n",
              "      <td>213</td>\n",
              "      <td>0.0</td>\n",
              "      <td>0.0</td>\n",
              "    </tr>\n",
              "    <tr>\n",
              "      <th>2</th>\n",
              "      <td>2014</td>\n",
              "      <td>34.000000</td>\n",
              "      <td>4.000000</td>\n",
              "      <td>0.000</td>\n",
              "      <td>1.0</td>\n",
              "      <td>7.0</td>\n",
              "      <td>0.0</td>\n",
              "      <td>0.0</td>\n",
              "      <td>0.0</td>\n",
              "      <td>0.0</td>\n",
              "      <td>0.0</td>\n",
              "      <td>0.0</td>\n",
              "      <td>0.0</td>\n",
              "      <td>0.0</td>\n",
              "      <td>1.0</td>\n",
              "      <td>0.0</td>\n",
              "      <td>0.0</td>\n",
              "      <td>0.0</td>\n",
              "      <td>0.0</td>\n",
              "      <td>0.0</td>\n",
              "      <td>0.0</td>\n",
              "      <td>0.0</td>\n",
              "      <td>0.0</td>\n",
              "      <td>0.0</td>\n",
              "      <td>0.0</td>\n",
              "      <td>0.0</td>\n",
              "      <td>0.0</td>\n",
              "      <td>0.0</td>\n",
              "      <td>0.0</td>\n",
              "      <td>0.0</td>\n",
              "      <td>0.0</td>\n",
              "      <td>17.142582</td>\n",
              "      <td>50.944231</td>\n",
              "      <td>23.662088</td>\n",
              "      <td>0.054945</td>\n",
              "      <td>0.708791</td>\n",
              "      <td>0.000000</td>\n",
              "      <td>0</td>\n",
              "      <td>57.000000</td>\n",
              "      <td>0.000000</td>\n",
              "      <td>-0.583524</td>\n",
              "      <td>0.000000</td>\n",
              "      <td>0.000000</td>\n",
              "      <td>1.000000</td>\n",
              "      <td>1.000000</td>\n",
              "      <td>1.000000</td>\n",
              "      <td>34125.0</td>\n",
              "      <td>154166.5</td>\n",
              "      <td>0.0</td>\n",
              "      <td>0.0</td>\n",
              "      <td>0.0</td>\n",
              "      <td>34493.312488</td>\n",
              "      <td>153017.457084</td>\n",
              "      <td>0.0</td>\n",
              "      <td>0.0</td>\n",
              "      <td>0.0</td>\n",
              "      <td>1008.294152</td>\n",
              "      <td>56</td>\n",
              "      <td>154</td>\n",
              "      <td>56</td>\n",
              "      <td>213</td>\n",
              "      <td>23.074113</td>\n",
              "      <td>1057.404969</td>\n",
              "      <td>122</td>\n",
              "      <td>213</td>\n",
              "      <td>0.0</td>\n",
              "      <td>0.0</td>\n",
              "    </tr>\n",
              "    <tr>\n",
              "      <th>3</th>\n",
              "      <td>2015</td>\n",
              "      <td>40.642857</td>\n",
              "      <td>4.142857</td>\n",
              "      <td>2.000</td>\n",
              "      <td>1.0</td>\n",
              "      <td>7.0</td>\n",
              "      <td>0.0</td>\n",
              "      <td>0.0</td>\n",
              "      <td>0.0</td>\n",
              "      <td>0.0</td>\n",
              "      <td>0.0</td>\n",
              "      <td>0.0</td>\n",
              "      <td>0.0</td>\n",
              "      <td>0.0</td>\n",
              "      <td>1.0</td>\n",
              "      <td>0.0</td>\n",
              "      <td>0.0</td>\n",
              "      <td>0.0</td>\n",
              "      <td>0.0</td>\n",
              "      <td>0.0</td>\n",
              "      <td>0.0</td>\n",
              "      <td>0.0</td>\n",
              "      <td>0.0</td>\n",
              "      <td>0.0</td>\n",
              "      <td>0.0</td>\n",
              "      <td>0.0</td>\n",
              "      <td>0.0</td>\n",
              "      <td>0.0</td>\n",
              "      <td>0.0</td>\n",
              "      <td>0.0</td>\n",
              "      <td>0.0</td>\n",
              "      <td>17.142582</td>\n",
              "      <td>50.944231</td>\n",
              "      <td>23.662088</td>\n",
              "      <td>0.054945</td>\n",
              "      <td>0.708791</td>\n",
              "      <td>0.000000</td>\n",
              "      <td>0</td>\n",
              "      <td>44.428571</td>\n",
              "      <td>0.571429</td>\n",
              "      <td>-0.895485</td>\n",
              "      <td>0.857143</td>\n",
              "      <td>1.285714</td>\n",
              "      <td>0.857143</td>\n",
              "      <td>0.571429</td>\n",
              "      <td>0.571429</td>\n",
              "      <td>33000.0</td>\n",
              "      <td>172778.0</td>\n",
              "      <td>0.0</td>\n",
              "      <td>0.0</td>\n",
              "      <td>0.0</td>\n",
              "      <td>33426.151812</td>\n",
              "      <td>171574.642544</td>\n",
              "      <td>0.0</td>\n",
              "      <td>0.0</td>\n",
              "      <td>0.0</td>\n",
              "      <td>946.519706</td>\n",
              "      <td>5</td>\n",
              "      <td>148</td>\n",
              "      <td>51</td>\n",
              "      <td>213</td>\n",
              "      <td>24.746366</td>\n",
              "      <td>779.541637</td>\n",
              "      <td>125</td>\n",
              "      <td>213</td>\n",
              "      <td>0.0</td>\n",
              "      <td>0.0</td>\n",
              "    </tr>\n",
              "    <tr>\n",
              "      <th>4</th>\n",
              "      <td>2015</td>\n",
              "      <td>53.625000</td>\n",
              "      <td>5.000000</td>\n",
              "      <td>9.375</td>\n",
              "      <td>0.0</td>\n",
              "      <td>7.0</td>\n",
              "      <td>0.0</td>\n",
              "      <td>0.0</td>\n",
              "      <td>0.0</td>\n",
              "      <td>0.0</td>\n",
              "      <td>0.0</td>\n",
              "      <td>0.0</td>\n",
              "      <td>0.0</td>\n",
              "      <td>0.0</td>\n",
              "      <td>1.0</td>\n",
              "      <td>0.0</td>\n",
              "      <td>0.0</td>\n",
              "      <td>0.0</td>\n",
              "      <td>0.0</td>\n",
              "      <td>0.0</td>\n",
              "      <td>0.0</td>\n",
              "      <td>0.0</td>\n",
              "      <td>0.0</td>\n",
              "      <td>0.0</td>\n",
              "      <td>0.0</td>\n",
              "      <td>0.0</td>\n",
              "      <td>0.0</td>\n",
              "      <td>0.0</td>\n",
              "      <td>0.0</td>\n",
              "      <td>0.0</td>\n",
              "      <td>0.0</td>\n",
              "      <td>15.661765</td>\n",
              "      <td>70.922549</td>\n",
              "      <td>19.411765</td>\n",
              "      <td>0.009804</td>\n",
              "      <td>0.774510</td>\n",
              "      <td>0.000000</td>\n",
              "      <td>0</td>\n",
              "      <td>50.625000</td>\n",
              "      <td>0.250000</td>\n",
              "      <td>0.050865</td>\n",
              "      <td>1.000000</td>\n",
              "      <td>1.875000</td>\n",
              "      <td>0.125000</td>\n",
              "      <td>1.000000</td>\n",
              "      <td>1.000000</td>\n",
              "      <td>33000.0</td>\n",
              "      <td>172778.0</td>\n",
              "      <td>0.0</td>\n",
              "      <td>0.0</td>\n",
              "      <td>0.0</td>\n",
              "      <td>33000.000000</td>\n",
              "      <td>172778.000000</td>\n",
              "      <td>0.0</td>\n",
              "      <td>0.0</td>\n",
              "      <td>0.0</td>\n",
              "      <td>922.248186</td>\n",
              "      <td>5</td>\n",
              "      <td>117</td>\n",
              "      <td>50</td>\n",
              "      <td>213</td>\n",
              "      <td>24.762482</td>\n",
              "      <td>807.468836</td>\n",
              "      <td>123</td>\n",
              "      <td>213</td>\n",
              "      <td>0.0</td>\n",
              "      <td>0.0</td>\n",
              "    </tr>\n",
              "  </tbody>\n",
              "</table>\n",
              "</div>"
            ],
            "text/plain": [
              "   FS_year        FCS      HDDS  ...  heatdays  floodmax  lhz_floodmax\n",
              "0     2015  43.375000  5.250000  ...       213       0.0           0.0\n",
              "1     2015  33.562500  4.500000  ...       213       0.0           0.0\n",
              "2     2014  34.000000  4.000000  ...       213       0.0           0.0\n",
              "3     2015  40.642857  4.142857  ...       213       0.0           0.0\n",
              "4     2015  53.625000  5.000000  ...       213       0.0           0.0\n",
              "\n",
              "[5 rows x 67 columns]"
            ]
          },
          "metadata": {
            "tags": []
          },
          "execution_count": 103
        }
      ]
    },
    {
      "cell_type": "code",
      "metadata": {
        "id": "DhJste619U_E",
        "colab_type": "code",
        "colab": {
          "base_uri": "https://localhost:8080/",
          "height": 34
        },
        "outputId": "98432bf3-25f7-40f9-d1db-7776c7da8fb6"
      },
      "source": [
        "ug_clust['FCS_category']= pd.cut(x=ug_clust['FCS'], bins=[-1,28,42,200],labels= [2, 1, 0])\n",
        "ug_clust['HDDS_category']= pd.cut(x=ug_clust['HDDS'], bins=[-1,3,6,20],labels= [2, 1, 0])\n",
        "\n",
        "ug_clust.isnull().values.any()"
      ],
      "execution_count": 171,
      "outputs": [
        {
          "output_type": "execute_result",
          "data": {
            "text/plain": [
              "False"
            ]
          },
          "metadata": {
            "tags": []
          },
          "execution_count": 171
        }
      ]
    },
    {
      "cell_type": "code",
      "metadata": {
        "id": "zq_RKrrbu8fe",
        "colab_type": "code",
        "colab": {
          "base_uri": "https://localhost:8080/",
          "height": 224
        },
        "outputId": "991d3f3a-6dfa-4862-cd8a-43f09bed2f83"
      },
      "source": [
        "ug_clust.head()"
      ],
      "execution_count": 172,
      "outputs": [
        {
          "output_type": "execute_result",
          "data": {
            "text/html": [
              "<div>\n",
              "<style scoped>\n",
              "    .dataframe tbody tr th:only-of-type {\n",
              "        vertical-align: middle;\n",
              "    }\n",
              "\n",
              "    .dataframe tbody tr th {\n",
              "        vertical-align: top;\n",
              "    }\n",
              "\n",
              "    .dataframe thead th {\n",
              "        text-align: right;\n",
              "    }\n",
              "</style>\n",
              "<table border=\"1\" class=\"dataframe\">\n",
              "  <thead>\n",
              "    <tr style=\"text-align: right;\">\n",
              "      <th></th>\n",
              "      <th>FS_year</th>\n",
              "      <th>FNID</th>\n",
              "      <th>FCS</th>\n",
              "      <th>HDDS</th>\n",
              "      <th>rural</th>\n",
              "      <th>FS_month</th>\n",
              "      <th>region2</th>\n",
              "      <th>region3</th>\n",
              "      <th>region4</th>\n",
              "      <th>dist_road</th>\n",
              "      <th>dist_popcenter</th>\n",
              "      <th>percent_ag</th>\n",
              "      <th>nutri_severe_constraint</th>\n",
              "      <th>nutri_moderate_constraint</th>\n",
              "      <th>nutri_reten_severe_constraint</th>\n",
              "      <th>dummy_terrain_rough</th>\n",
              "      <th>head_age</th>\n",
              "      <th>female_head</th>\n",
              "      <th>asset_index</th>\n",
              "      <th>Cellphone</th>\n",
              "      <th>num_cell</th>\n",
              "      <th>floor_dirt_sand_dung</th>\n",
              "      <th>roof_not_natural</th>\n",
              "      <th>roof_iron</th>\n",
              "      <th>clust_cassava_price</th>\n",
              "      <th>clust_bean_mktthin</th>\n",
              "      <th>clust_maize_mktthin</th>\n",
              "      <th>clust_cassava_mktthin</th>\n",
              "      <th>lhz_cassava_price</th>\n",
              "      <th>lhz_bean_mktthin</th>\n",
              "      <th>lhz_maize_mktthin</th>\n",
              "      <th>lhz_cassava_mktthin</th>\n",
              "      <th>raincytot</th>\n",
              "      <th>day1rain</th>\n",
              "      <th>maxdaysnorain</th>\n",
              "      <th>lhz_day1rain</th>\n",
              "      <th>gdd</th>\n",
              "      <th>tmean</th>\n",
              "      <th>lhz_raincytot</th>\n",
              "      <th>lhz_maxdaysnorain</th>\n",
              "      <th>floodmax</th>\n",
              "      <th>lhz_floodmax</th>\n",
              "      <th>FCS_category</th>\n",
              "      <th>HDDS_category</th>\n",
              "    </tr>\n",
              "  </thead>\n",
              "  <tbody>\n",
              "    <tr>\n",
              "      <th>0</th>\n",
              "      <td>2010</td>\n",
              "      <td>UG2011L141</td>\n",
              "      <td>47.5</td>\n",
              "      <td>3.0</td>\n",
              "      <td>0.0</td>\n",
              "      <td>12.0</td>\n",
              "      <td>0.0</td>\n",
              "      <td>0.0</td>\n",
              "      <td>0.0</td>\n",
              "      <td>0.81360</td>\n",
              "      <td>4.09120</td>\n",
              "      <td>22.0</td>\n",
              "      <td>0.0</td>\n",
              "      <td>1.0</td>\n",
              "      <td>0.0</td>\n",
              "      <td>0</td>\n",
              "      <td>31.0</td>\n",
              "      <td>0.0</td>\n",
              "      <td>1.933340</td>\n",
              "      <td>1.0</td>\n",
              "      <td>3.0</td>\n",
              "      <td>0.0</td>\n",
              "      <td>1.0</td>\n",
              "      <td>1.0</td>\n",
              "      <td>600.0</td>\n",
              "      <td>1.0</td>\n",
              "      <td>1.0</td>\n",
              "      <td>0.0</td>\n",
              "      <td>593.592838</td>\n",
              "      <td>1.00000</td>\n",
              "      <td>1.00000</td>\n",
              "      <td>0.000000</td>\n",
              "      <td>474.492036</td>\n",
              "      <td>3</td>\n",
              "      <td>28</td>\n",
              "      <td>3</td>\n",
              "      <td>123</td>\n",
              "      <td>25.129216</td>\n",
              "      <td>558.706113</td>\n",
              "      <td>2</td>\n",
              "      <td>0.0</td>\n",
              "      <td>0.0</td>\n",
              "      <td>0</td>\n",
              "      <td>2</td>\n",
              "    </tr>\n",
              "    <tr>\n",
              "      <th>1</th>\n",
              "      <td>2011</td>\n",
              "      <td>UG2011L141</td>\n",
              "      <td>20.0</td>\n",
              "      <td>3.0</td>\n",
              "      <td>1.0</td>\n",
              "      <td>1.0</td>\n",
              "      <td>0.0</td>\n",
              "      <td>0.0</td>\n",
              "      <td>0.0</td>\n",
              "      <td>40.43450</td>\n",
              "      <td>65.52810</td>\n",
              "      <td>0.0</td>\n",
              "      <td>0.0</td>\n",
              "      <td>0.0</td>\n",
              "      <td>0.0</td>\n",
              "      <td>0</td>\n",
              "      <td>45.0</td>\n",
              "      <td>0.0</td>\n",
              "      <td>-1.270643</td>\n",
              "      <td>1.0</td>\n",
              "      <td>1.0</td>\n",
              "      <td>1.0</td>\n",
              "      <td>1.0</td>\n",
              "      <td>1.0</td>\n",
              "      <td>900.0</td>\n",
              "      <td>1.0</td>\n",
              "      <td>1.0</td>\n",
              "      <td>0.0</td>\n",
              "      <td>702.971126</td>\n",
              "      <td>1.00000</td>\n",
              "      <td>1.00000</td>\n",
              "      <td>0.028336</td>\n",
              "      <td>1823.754595</td>\n",
              "      <td>3</td>\n",
              "      <td>143</td>\n",
              "      <td>3</td>\n",
              "      <td>488</td>\n",
              "      <td>23.691104</td>\n",
              "      <td>1866.829980</td>\n",
              "      <td>18</td>\n",
              "      <td>0.0</td>\n",
              "      <td>0.0</td>\n",
              "      <td>2</td>\n",
              "      <td>2</td>\n",
              "    </tr>\n",
              "    <tr>\n",
              "      <th>2</th>\n",
              "      <td>2012</td>\n",
              "      <td>UG2011L137</td>\n",
              "      <td>52.0</td>\n",
              "      <td>5.4</td>\n",
              "      <td>1.0</td>\n",
              "      <td>4.0</td>\n",
              "      <td>0.0</td>\n",
              "      <td>0.0</td>\n",
              "      <td>0.0</td>\n",
              "      <td>24.63892</td>\n",
              "      <td>48.91718</td>\n",
              "      <td>19.8</td>\n",
              "      <td>0.2</td>\n",
              "      <td>0.2</td>\n",
              "      <td>0.2</td>\n",
              "      <td>0</td>\n",
              "      <td>36.2</td>\n",
              "      <td>0.4</td>\n",
              "      <td>-0.033716</td>\n",
              "      <td>0.8</td>\n",
              "      <td>0.8</td>\n",
              "      <td>0.8</td>\n",
              "      <td>1.0</td>\n",
              "      <td>1.0</td>\n",
              "      <td>1193.6</td>\n",
              "      <td>0.0</td>\n",
              "      <td>0.0</td>\n",
              "      <td>0.0</td>\n",
              "      <td>1197.521782</td>\n",
              "      <td>0.01498</td>\n",
              "      <td>0.01498</td>\n",
              "      <td>0.014980</td>\n",
              "      <td>2040.792751</td>\n",
              "      <td>17</td>\n",
              "      <td>40</td>\n",
              "      <td>14</td>\n",
              "      <td>489</td>\n",
              "      <td>23.937279</td>\n",
              "      <td>1939.734309</td>\n",
              "      <td>24</td>\n",
              "      <td>0.0</td>\n",
              "      <td>0.0</td>\n",
              "      <td>0</td>\n",
              "      <td>1</td>\n",
              "    </tr>\n",
              "    <tr>\n",
              "      <th>3</th>\n",
              "      <td>2012</td>\n",
              "      <td>UG2011L140</td>\n",
              "      <td>52.0</td>\n",
              "      <td>5.4</td>\n",
              "      <td>1.0</td>\n",
              "      <td>4.0</td>\n",
              "      <td>0.0</td>\n",
              "      <td>0.0</td>\n",
              "      <td>0.0</td>\n",
              "      <td>24.63892</td>\n",
              "      <td>48.91718</td>\n",
              "      <td>19.8</td>\n",
              "      <td>0.2</td>\n",
              "      <td>0.2</td>\n",
              "      <td>0.2</td>\n",
              "      <td>0</td>\n",
              "      <td>36.2</td>\n",
              "      <td>0.4</td>\n",
              "      <td>-0.033716</td>\n",
              "      <td>0.8</td>\n",
              "      <td>0.8</td>\n",
              "      <td>0.8</td>\n",
              "      <td>1.0</td>\n",
              "      <td>1.0</td>\n",
              "      <td>1193.6</td>\n",
              "      <td>0.0</td>\n",
              "      <td>0.0</td>\n",
              "      <td>0.0</td>\n",
              "      <td>1197.521782</td>\n",
              "      <td>0.01498</td>\n",
              "      <td>0.01498</td>\n",
              "      <td>0.014980</td>\n",
              "      <td>2040.792751</td>\n",
              "      <td>17</td>\n",
              "      <td>40</td>\n",
              "      <td>5</td>\n",
              "      <td>489</td>\n",
              "      <td>23.030044</td>\n",
              "      <td>1967.415063</td>\n",
              "      <td>22</td>\n",
              "      <td>0.0</td>\n",
              "      <td>0.0</td>\n",
              "      <td>0</td>\n",
              "      <td>1</td>\n",
              "    </tr>\n",
              "    <tr>\n",
              "      <th>4</th>\n",
              "      <td>2012</td>\n",
              "      <td>UG2011L141</td>\n",
              "      <td>52.0</td>\n",
              "      <td>5.4</td>\n",
              "      <td>1.0</td>\n",
              "      <td>4.0</td>\n",
              "      <td>0.0</td>\n",
              "      <td>0.0</td>\n",
              "      <td>0.0</td>\n",
              "      <td>24.63892</td>\n",
              "      <td>48.91718</td>\n",
              "      <td>19.8</td>\n",
              "      <td>0.2</td>\n",
              "      <td>0.2</td>\n",
              "      <td>0.2</td>\n",
              "      <td>0</td>\n",
              "      <td>36.2</td>\n",
              "      <td>0.4</td>\n",
              "      <td>-0.033716</td>\n",
              "      <td>0.8</td>\n",
              "      <td>0.8</td>\n",
              "      <td>0.8</td>\n",
              "      <td>1.0</td>\n",
              "      <td>1.0</td>\n",
              "      <td>1193.6</td>\n",
              "      <td>0.0</td>\n",
              "      <td>0.0</td>\n",
              "      <td>0.0</td>\n",
              "      <td>1197.521782</td>\n",
              "      <td>0.01498</td>\n",
              "      <td>0.01498</td>\n",
              "      <td>0.014980</td>\n",
              "      <td>2040.792751</td>\n",
              "      <td>17</td>\n",
              "      <td>40</td>\n",
              "      <td>5</td>\n",
              "      <td>489</td>\n",
              "      <td>23.658749</td>\n",
              "      <td>2223.933356</td>\n",
              "      <td>13</td>\n",
              "      <td>0.0</td>\n",
              "      <td>0.0</td>\n",
              "      <td>0</td>\n",
              "      <td>1</td>\n",
              "    </tr>\n",
              "  </tbody>\n",
              "</table>\n",
              "</div>"
            ],
            "text/plain": [
              "   FS_year        FNID   FCS  ...  lhz_floodmax  FCS_category  HDDS_category\n",
              "0     2010  UG2011L141  47.5  ...           0.0             0              2\n",
              "1     2011  UG2011L141  20.0  ...           0.0             2              2\n",
              "2     2012  UG2011L137  52.0  ...           0.0             0              1\n",
              "3     2012  UG2011L140  52.0  ...           0.0             0              1\n",
              "4     2012  UG2011L141  52.0  ...           0.0             0              1\n",
              "\n",
              "[5 rows x 44 columns]"
            ]
          },
          "metadata": {
            "tags": []
          },
          "execution_count": 172
        }
      ]
    },
    {
      "cell_type": "code",
      "metadata": {
        "id": "rnL-llJixXJl",
        "colab_type": "code",
        "colab": {}
      },
      "source": [
        "ug_clust = ug_clust.drop(\"FNID\",axis =1 )"
      ],
      "execution_count": 0,
      "outputs": []
    },
    {
      "cell_type": "code",
      "metadata": {
        "id": "q_cqm_RO7LXk",
        "colab_type": "code",
        "colab": {
          "base_uri": "https://localhost:8080/",
          "height": 34
        },
        "outputId": "78886ecb-9d52-440f-add2-7e6fbbd778c8"
      },
      "source": [
        "ug_clust.isnull().values.any()"
      ],
      "execution_count": 174,
      "outputs": [
        {
          "output_type": "execute_result",
          "data": {
            "text/plain": [
              "False"
            ]
          },
          "metadata": {
            "tags": []
          },
          "execution_count": 174
        }
      ]
    },
    {
      "cell_type": "markdown",
      "metadata": {
        "colab_type": "text",
        "id": "EHTKzlm8G7rS"
      },
      "source": [
        "# Methodology\n"
      ]
    },
    {
      "cell_type": "markdown",
      "metadata": {
        "colab_type": "text",
        "id": "G1SERn3aHD_P"
      },
      "source": [
        "This section will explain our main approach with the data.\n",
        "\n",
        "1. Focus on categorical prediciton for the given cutoffs. \n",
        "\n",
        "Reasons: Close to the actual policy scenarios where we focus on capturing all the insecure households. Recall rate of the insecure villages is more important than the over all accuracy. \n",
        "\n",
        "Can apply the down sampling and over sampling technique here to improve \n",
        "\n",
        "\n",
        "2.  Algorithms to try : tree classifier, random forest classifier, xgboost \n",
        "\n",
        "2.1. By categories, vs one or rest\n",
        "\n",
        "2.2.  Parameter Tuning\n",
        "\n",
        "2.3 . feature importance analysis\n",
        "\n",
        "\n",
        "3.  Error analysis by region, by group, by month\n",
        "\n",
        "4.  Train model by division separtely Auto-segmentation by training a shallow tree in each country based on observables \n",
        "\n",
        "5. Model combination: what happens when we train on all the data \n",
        "\n",
        "6. Model generalization issues: what happens when we directly apply  models trained on one country to predict another \n",
        "\n",
        "\n",
        "\n",
        "\n",
        "\n"
      ]
    },
    {
      "cell_type": "markdown",
      "metadata": {
        "colab_type": "text",
        "id": "DSo3Zuh0jAN8"
      },
      "source": [
        "## Exploratory Data Analysis  "
      ]
    },
    {
      "cell_type": "markdown",
      "metadata": {
        "colab_type": "text",
        "id": "0EVf0OgQhyzj"
      },
      "source": [
        "### Measures:  plot target measures by year by country\n"
      ]
    },
    {
      "cell_type": "code",
      "metadata": {
        "colab_type": "code",
        "id": "vQVpjOMObguF",
        "outputId": "cfbc2b15-189b-4028-a4e2-9cb33a1b1aad",
        "colab": {
          "base_uri": "https://localhost:8080/",
          "height": 285
        }
      },
      "source": [
        "# cut the outcome variables by the cutoffs\n",
        "mw_clust['FCS_category']= pd.cut(x=mw_clust['FCS'], bins=[-1,28,42,100],labels= [2, 1, 0])\n",
        "  \n",
        "mw_clust['FCS_category'].value_counts().plot(kind='pie', title=' Counts (FCS categories)')\n",
        "\n",
        "\n",
        " # HDDS 3 and 6\n",
        "mw_clust['HDDS_category']= pd.cut(x=mw_clust['HDDS'], bins=[0,3,6,10],labels= [2, 1, 0])\n",
        "  \n",
        "mw_clust['HDDS_category'].value_counts().plot(kind='pie', title='Count (HDDS categories)')\n",
        "\n",
        "# rCSI 4 and 17  and 42\n",
        "mw_clust['rCSI_category']= pd.cut(x=mw_clust['rCSI'], bins=[-1,4,17,42],labels= [0, 1, 2])\n",
        "  \n",
        "mw_clust['rCSI_category'].value_counts().plot(kind='pie', title='Count (rCSI categories)')\n",
        "\n",
        "\n"
      ],
      "execution_count": 185,
      "outputs": [
        {
          "output_type": "execute_result",
          "data": {
            "text/plain": [
              "<matplotlib.axes._subplots.AxesSubplot at 0x7fb63b080940>"
            ]
          },
          "metadata": {
            "tags": []
          },
          "execution_count": 185
        },
        {
          "output_type": "display_data",
          "data": {
            "image/png": "[encoded data removed]",
            "text/plain": [
              "<Figure size 432x288 with 1 Axes>"
            ]
          },
          "metadata": {
            "tags": []
          }
        }
      ]
    },
    {
      "cell_type": "code",
      "metadata": {
        "colab_type": "code",
        "id": "mEIDc34pb6jK",
        "outputId": "f0d34dd1-9375-4b77-9924-01acb052ffdc",
        "colab": {
          "base_uri": "https://localhost:8080/",
          "height": 285
        }
      },
      "source": [
        "# cut the outcome variables by the cutoffs\n",
        "tz_clust['FCS_category']= pd.cut(x=tz_clust['FCS'], bins=[-1,28,42,200],labels= [2, 1, 0])\n",
        "\n",
        "tz_clust['FCS_category'].value_counts().plot(kind='pie', title=' Counts (FCS categories)')\n"
      ],
      "execution_count": 175,
      "outputs": [
        {
          "output_type": "execute_result",
          "data": {
            "text/plain": [
              "<matplotlib.axes._subplots.AxesSubplot at 0x7fb63b1a2278>"
            ]
          },
          "metadata": {
            "tags": []
          },
          "execution_count": 175
        },
        {
          "output_type": "display_data",
          "data": {
            "image/png": "[encoded data removed]",
            "text/plain": [
              "<Figure size 432x288 with 1 Axes>"
            ]
          },
          "metadata": {
            "tags": []
          }
        }
      ]
    },
    {
      "cell_type": "code",
      "metadata": {
        "id": "nuqDVxU4yy3Z",
        "colab_type": "code",
        "colab": {
          "base_uri": "https://localhost:8080/",
          "height": 285
        },
        "outputId": "8c4a48c9-71ed-48ce-9742-10a404c4e9f2"
      },
      "source": [
        "# HDDS 3 and 6\n",
        "tz_clust['HDDS_category']= pd.cut(x=tz_clust['HDDS'], bins=[-1,3,6,20],labels= [2, 1, 0])\n",
        "\n",
        "tz_clust['HDDS_category'].value_counts().plot(kind='pie', title='Count (HDDS categories)')\n"
      ],
      "execution_count": 176,
      "outputs": [
        {
          "output_type": "execute_result",
          "data": {
            "text/plain": [
              "<matplotlib.axes._subplots.AxesSubplot at 0x7fb63b180240>"
            ]
          },
          "metadata": {
            "tags": []
          },
          "execution_count": 176
        },
        {
          "output_type": "display_data",
          "data": {
            "image/png": "[encoded data removed]",
            "text/plain": [
              "<Figure size 432x288 with 1 Axes>"
            ]
          },
          "metadata": {
            "tags": []
          }
        }
      ]
    },
    {
      "cell_type": "code",
      "metadata": {
        "id": "hQVa2nvKyxVK",
        "colab_type": "code",
        "colab": {
          "base_uri": "https://localhost:8080/",
          "height": 285
        },
        "outputId": "c55f181a-f0b6-461d-a6b9-07534337ce7e"
      },
      "source": [
        "# rCSI 4 and 17  and 42\n",
        "tz_clust['rCSI_category']= pd.cut(x=tz_clust['rCSI'], bins=[-1,4,17,43],labels= [0, 1, 2])\n",
        "\n",
        "tz_clust['rCSI_category'].value_counts().plot(kind='pie', title='Count (rCSI categories)')\n"
      ],
      "execution_count": 177,
      "outputs": [
        {
          "output_type": "execute_result",
          "data": {
            "text/plain": [
              "<matplotlib.axes._subplots.AxesSubplot at 0x7fb63b12eeb8>"
            ]
          },
          "metadata": {
            "tags": []
          },
          "execution_count": 177
        },
        {
          "output_type": "display_data",
          "data": {
            "image/png": "[encoded data removed]",
            "text/plain": [
              "<Figure size 432x288 with 1 Axes>"
            ]
          },
          "metadata": {
            "tags": []
          }
        }
      ]
    },
    {
      "cell_type": "code",
      "metadata": {
        "colab_type": "code",
        "id": "CiRa0o7NcZ5N",
        "outputId": "e28a848b-7c2c-4ab3-d334-43a80cd2c0e5",
        "colab": {
          "base_uri": "https://localhost:8080/",
          "height": 285
        }
      },
      "source": [
        "# cut the outcome variables by the cutoffs\n",
        "ug_clust['FCS_category']= pd.cut(x=ug_clust['FCS'], bins=[-1,28,42,200],labels= [2, 1, 0])\n",
        "\n",
        "ug_clust['FCS_category'].value_counts().plot(kind='pie', title=' Counts (FCS categories)')\n",
        "\n",
        "\n"
      ],
      "execution_count": 178,
      "outputs": [
        {
          "output_type": "execute_result",
          "data": {
            "text/plain": [
              "<matplotlib.axes._subplots.AxesSubplot at 0x7fb63b0e7d68>"
            ]
          },
          "metadata": {
            "tags": []
          },
          "execution_count": 178
        },
        {
          "output_type": "display_data",
          "data": {
            "image/png": "[encoded data removed]",
            "text/plain": [
              "<Figure size 432x288 with 1 Axes>"
            ]
          },
          "metadata": {
            "tags": []
          }
        }
      ]
    },
    {
      "cell_type": "code",
      "metadata": {
        "id": "BwjrBOeNy4XB",
        "colab_type": "code",
        "colab": {
          "base_uri": "https://localhost:8080/",
          "height": 285
        },
        "outputId": "f759cb17-ff8e-4125-e7dc-0eed293b2872"
      },
      "source": [
        "# HDDS 3 and 6\n",
        "ug_clust['HDDS_category']= pd.cut(x=ug_clust['HDDS'], bins=[-1,3,6,20],labels= [2, 1, 0])\n",
        "\n",
        "ug_clust['HDDS_category'].value_counts().plot(kind='pie', title='Count (HDDS categories)')\n",
        "\n",
        " "
      ],
      "execution_count": 179,
      "outputs": [
        {
          "output_type": "execute_result",
          "data": {
            "text/plain": [
              "<matplotlib.axes._subplots.AxesSubplot at 0x7fb63b11fcc0>"
            ]
          },
          "metadata": {
            "tags": []
          },
          "execution_count": 179
        },
        {
          "output_type": "display_data",
          "data": {
            "image/png": "[encoded data removed]",
            "text/plain": [
              "<Figure size 432x288 with 1 Axes>"
            ]
          },
          "metadata": {
            "tags": []
          }
        }
      ]
    },
    {
      "cell_type": "markdown",
      "metadata": {
        "colab_type": "text",
        "id": "Iw6L0fotmdJk"
      },
      "source": [
        "### Split train and test data\n",
        "\n",
        " For practical prediction purposes,  we use the most recent round of survey data  as the testing  and the rest as the training data. \n"
      ]
    },
    {
      "cell_type": "code",
      "metadata": {
        "colab_type": "code",
        "id": "6-IIX6ZBLLZD",
        "colab": {}
      },
      "source": [
        "# Year split \n",
        "mw_clust_test_cond =  mw_clust['FS_year']>2015\n",
        "mw_clust_train_cond =  mw_clust['FS_year']<2016\n",
        "mw_clust_test = mw_clust[mw_clust_test_cond]\n",
        "mw_clust_train = mw_clust[mw_clust_train_cond]\n",
        "\n",
        "\n",
        "tz_clust_test_cond =  tz_clust['FS_year']>2013\n",
        "tz_clust_train_cond =  tz_clust['FS_year']<2014\n",
        "tz_clust_test = tz_clust[tz_clust_test_cond]\n",
        "tz_clust_train = tz_clust[tz_clust_train_cond]\n",
        "\n",
        "ug_clust_test_cond =  ug_clust['FS_year']>2011\n",
        "ug_clust_train_cond =  ug_clust['FS_year']<2012\n",
        "ug_clust_test = ug_clust[ug_clust_test_cond]\n",
        "ug_clust_train = ug_clust[ug_clust_train_cond]"
      ],
      "execution_count": 0,
      "outputs": []
    },
    {
      "cell_type": "code",
      "metadata": {
        "id": "1oVO_l3N3ow2",
        "colab_type": "code",
        "colab": {
          "base_uri": "https://localhost:8080/",
          "height": 34
        },
        "outputId": "20f0c1d9-b642-4c6e-dddd-5d326bdda092"
      },
      "source": [
        "ug_clust_train.isnull().values.any()"
      ],
      "execution_count": 181,
      "outputs": [
        {
          "output_type": "execute_result",
          "data": {
            "text/plain": [
              "False"
            ]
          },
          "metadata": {
            "tags": []
          },
          "execution_count": 181
        }
      ]
    },
    {
      "cell_type": "code",
      "metadata": {
        "id": "8ioSj-n43xbM",
        "colab_type": "code",
        "colab": {
          "base_uri": "https://localhost:8080/",
          "height": 34
        },
        "outputId": "07d70220-9733-4638-ff4c-23e2b4a2c1f2"
      },
      "source": [
        "ug_clust_test.isnull().values.any()"
      ],
      "execution_count": 183,
      "outputs": [
        {
          "output_type": "execute_result",
          "data": {
            "text/plain": [
              "False"
            ]
          },
          "metadata": {
            "tags": []
          },
          "execution_count": 183
        }
      ]
    },
    {
      "cell_type": "code",
      "metadata": {
        "id": "CWJ45aOV39wB",
        "colab_type": "code",
        "colab": {
          "base_uri": "https://localhost:8080/",
          "height": 34
        },
        "outputId": "186415df-0e62-4447-a7c6-678fcf4cb813"
      },
      "source": [
        "mw_clust.isnull().values.any()"
      ],
      "execution_count": 139,
      "outputs": [
        {
          "output_type": "execute_result",
          "data": {
            "text/plain": [
              "False"
            ]
          },
          "metadata": {
            "tags": []
          },
          "execution_count": 139
        }
      ]
    },
    {
      "cell_type": "markdown",
      "metadata": {
        "colab_type": "text",
        "id": "w_YE97RELQ0n"
      },
      "source": [
        "**Separate the target/labels from the X variables. **"
      ]
    },
    {
      "cell_type": "code",
      "metadata": {
        "colab_type": "code",
        "id": "ss3jWM1YKHRQ",
        "colab": {}
      },
      "source": [
        "labels = ['FCS', 'rCSI', 'HDDS']\n",
        "category_labels = ['FCS_category', 'rCSI_category', 'HDDS_category']\n",
        "\n",
        "\n",
        "mw_clust_y_train= mw_clust_train[['FCS_category', 'rCSI_category', 'HDDS_category']]\n",
        "mw_clust_y_test= mw_clust_test[['FCS_category', 'rCSI_category', 'HDDS_category']]\n",
        " \n",
        "mw_clust_X_test= mw_clust_test.drop(labels+category_labels+['FNID'],  axis=1)\n",
        "mw_clust_X_train= mw_clust_train.drop(labels+category_labels+['FNID'], axis=1)\n",
        "\n",
        "\n",
        "tz_clust_y_train= tz_clust_train[['FCS_category', 'rCSI_category', 'HDDS_category']]\n",
        "tz_clust_y_test= tz_clust_test[['FCS_category', 'rCSI_category', 'HDDS_category']]\n",
        "\n",
        "tz_clust_X_test= tz_clust_test.drop(labels+category_labels,  axis=1)\n",
        "tz_clust_X_train= tz_clust_train.drop(labels+category_labels, axis=1)\n",
        "\n",
        "\n",
        "ug_clust_y_train= ug_clust_train[['FCS_category', 'HDDS_category']]\n",
        "ug_clust_y_test= ug_clust_test[['FCS_category', 'HDDS_category']]\n",
        "\n",
        "ug_clust_X_test= ug_clust_test.drop(['FCS_category', 'FCS', 'HDDS', 'HDDS_category'],  axis=1)\n",
        "ug_clust_X_train= ug_clust_train.drop(['FCS_category', 'FCS', 'HDDS', 'HDDS_category'],axis=1)\n"
      ],
      "execution_count": 0,
      "outputs": []
    },
    {
      "cell_type": "code",
      "metadata": {
        "id": "pQ-QpM6-fWyG",
        "colab_type": "code",
        "colab": {}
      },
      "source": [
        "from sklearn.tree import DecisionTreeClassifier\n",
        "from sklearn.model_selection import RandomizedSearchCV\n",
        "from sklearn.metrics import classification_report\n",
        "\n",
        "\n",
        "def TreeCLF(X_train,y_train,X_test, y_test):\n",
        "    # Define tree classifier\n",
        "    tree_clf = DecisionTreeClassifier(random_state=66)\n",
        "    \n",
        "    max_depth = [int(x) for x in np.linspace(3, 20, num = 10)]\n",
        "    max_features = [int(x) for x in np.linspace(3, 20, num = 10)]\n",
        "    # n_estimators = [int(x) for x in np.linspace(1, 10, num = 5)]\n",
        "\n",
        "    random_grid = {#'n_estimators': n_estimators,\n",
        "                   'max_features': max_features,\n",
        "                   'max_depth': max_depth\n",
        "                   #'min_samples_split': min_samples_split\n",
        "                   #'min_samples_leaf': min_samples_leaf}\n",
        "                   #'bootstrap': bootstrap\n",
        "                    }\n",
        "    \n",
        "    tree_random = RandomizedSearchCV(estimator = tree_clf, param_distributions = random_grid,\n",
        "                                    n_iter = 30, cv = 3, verbose=2, random_state=666, n_jobs = -1)\n",
        "\n",
        "\n",
        "    tree_random.fit( X_train, y_train)\n",
        "\n",
        "    y_pred = tree_random.predict(X_test)\n",
        "    \n",
        "    # report = classification_report(y_test, y_pred)\n",
        "\n",
        "    \n",
        "    # Return accuracy\n",
        "    tree_test_score = round(tree_random.score(X_test, y_test), 3)\n",
        "    tree_train_score = round(tree_random.score(X_train, y_train), 3)\n",
        "    \n",
        "    \n",
        "    \n",
        "    return y_pred,y_test\n",
        "    \n",
        "    # return report"
      ],
      "execution_count": 0,
      "outputs": []
    },
    {
      "cell_type": "code",
      "metadata": {
        "id": "GYNCGR5MfWyJ",
        "colab_type": "code",
        "colab": {}
      },
      "source": [
        "from sklearn.ensemble import RandomForestClassifier\n",
        "from sklearn.model_selection import RandomizedSearchCV\n",
        "from sklearn.metrics import classification_report\n",
        "\n",
        "\n",
        "def rfCLF(X_train,y_train,X_test, y_test):\n",
        "\n",
        "    rf_clf = RandomForestClassifier(max_features='auto', n_estimators = 100,min_samples_split=10,warm_start=True)\n",
        "\n",
        "        \n",
        "    # Define rfc classifier\n",
        "    max_depth = [int(x) for x in np.linspace(3, 20, num = 10)]\n",
        "    max_features = [int(x) for x in np.linspace(3, 20, num = 10)]\n",
        "\n",
        "    random_grid = {#'n_estimators': n_estimators,\n",
        "                   'max_features': max_features,\n",
        "                   'max_depth': max_depth\n",
        "                   #'min_samples_split': min_samples_split\n",
        "                   #'min_samples_leaf': min_samples_leaf}\n",
        "                   #'bootstrap': bootstrap\n",
        "                    }\n",
        "    \n",
        "    rf_random = RandomizedSearchCV(estimator = rf_clf, param_distributions = random_grid,\n",
        "                                    n_iter = 30, cv = 3, verbose=2, random_state=666, n_jobs = -1)\n",
        "\n",
        "\n",
        "    # Fit the random search model\n",
        "    rf_random.fit(X_train, y_train)\n",
        "\n",
        "    # Return accuracy\n",
        "#     rf_test_score = round(rf_random.score(X_test, y_test), 3)\n",
        "#     rf_train_score = round(rf_random.score(X_train, y_train), 3)\n",
        "    \n",
        "    y_pred = rf_random.predict(X_test)\n",
        "    \n",
        "\n",
        "    # return rf_test_score \n",
        "    return y_pred,y_test"
      ],
      "execution_count": 0,
      "outputs": []
    },
    {
      "cell_type": "code",
      "metadata": {
        "id": "MrFVrNryfWyL",
        "colab_type": "code",
        "colab": {}
      },
      "source": [
        "from xgboost import XGBClassifier\n",
        "from sklearn.metrics import classification_report\n",
        "\n",
        "\n",
        "def XGBCLF(X_train,y_train,X_test, y_test):\n",
        "\n",
        "    # fit model on  training data\n",
        "    XGB_clf = XGBClassifier(silent=False, \n",
        "                          scale_pos_weight=1,\n",
        "                          learning_rate=0.3,  \n",
        "                          colsample_bytree = 0.4,\n",
        "                          subsample = 0.8,\n",
        "                          objective='binary:logistic', \n",
        "                          #objective='multi:softmax', \n",
        "                          #num_class=14,\n",
        "                          n_estimators=100, \n",
        "                          reg_alpha = 0.3,\n",
        "                          max_depth=5, \n",
        "                          gamma=10)\n",
        "    \n",
        "    max_depth = [int(x) for x in np.linspace(3, 20, num = 10)]\n",
        "    max_features = [int(x) for x in np.linspace(3, 20, num = 10)]\n",
        "\n",
        "    random_grid = {#'n_estimators': n_estimators,\n",
        "                   'max_features': max_features,\n",
        "                   'max_depth': max_depth\n",
        "                   #'min_samples_split': min_samples_split\n",
        "                   #'min_samples_leaf': min_samples_leaf}\n",
        "                   #'bootstrap': bootstrap\n",
        "                    }\n",
        "    \n",
        "    XGB_random = RandomizedSearchCV(estimator = XGB_clf, param_distributions = random_grid,\n",
        "                                    n_iter = 30, cv = 3, verbose=2, random_state=666, n_jobs = -1)\n",
        "\n",
        "\n",
        "    \n",
        "    # Fit the random search model\n",
        "    XGB_random.fit(X_train, y_train)\n",
        "\n",
        "    # Return accuracy\n",
        "    xgb_test_score = round(XGB_random.score(X_test, y_test), 3)\n",
        "    xgb_train_score = round(XGB_random.score(X_train, y_train), 3)\n",
        "    \n",
        "    # return xgb_test_score\n",
        "    \n",
        "    y_pred = XGB_random.predict(X_test)\n",
        "    \n",
        "\n",
        "    # return rf_test_score \n",
        "    return y_pred,y_test\n"
      ],
      "execution_count": 0,
      "outputs": []
    },
    {
      "cell_type": "code",
      "metadata": {
        "id": "WQdfoEQBfWyO",
        "colab_type": "code",
        "colab": {
          "base_uri": "https://localhost:8080/",
          "height": 85
        },
        "outputId": "0a7b03d5-a054-4783-a27a-8e9f808ea0fe"
      },
      "source": [
        "mw_clust_y_train['FCS_category'].value_counts()"
      ],
      "execution_count": 13,
      "outputs": [
        {
          "output_type": "execute_result",
          "data": {
            "text/plain": [
              "0    1699\n",
              "1     461\n",
              "2      14\n",
              "Name: FCS_category, dtype: int64"
            ]
          },
          "metadata": {
            "tags": []
          },
          "execution_count": 13
        }
      ]
    },
    {
      "cell_type": "code",
      "metadata": {
        "id": "cJxiyR2YfWyV",
        "colab_type": "code",
        "colab": {
          "base_uri": "https://localhost:8080/",
          "height": 221
        },
        "outputId": "6a04bdb3-18e0-4dd6-9b4c-4932dcc72490"
      },
      "source": [
        "y_pred,y_test = TreeCLF (mw_clust_X_train,mw_clust_y_train['FCS_category'], mw_clust_X_test,mw_clust_y_test['FCS_category'] )\n",
        "\n",
        "print(classification_report(y_test, y_pred))\n"
      ],
      "execution_count": 191,
      "outputs": [
        {
          "output_type": "stream",
          "text": [
            "Fitting 3 folds for each of 30 candidates, totalling 90 fits\n"
          ],
          "name": "stdout"
        },
        {
          "output_type": "stream",
          "text": [
            "[Parallel(n_jobs=-1)]: Using backend LokyBackend with 2 concurrent workers.\n"
          ],
          "name": "stderr"
        },
        {
          "output_type": "stream",
          "text": [
            "              precision    recall  f1-score   support\n",
            "\n",
            "           0       0.70      1.00      0.82       309\n",
            "           1       0.83      0.04      0.07       136\n",
            "\n",
            "    accuracy                           0.70       445\n",
            "   macro avg       0.77      0.52      0.45       445\n",
            "weighted avg       0.74      0.70      0.59       445\n",
            "\n"
          ],
          "name": "stdout"
        },
        {
          "output_type": "stream",
          "text": [
            "[Parallel(n_jobs=-1)]: Done  90 out of  90 | elapsed:    2.6s finished\n"
          ],
          "name": "stderr"
        }
      ]
    },
    {
      "cell_type": "code",
      "metadata": {
        "id": "wmu3pWFrfWyZ",
        "colab_type": "code",
        "colab": {
          "base_uri": "https://localhost:8080/",
          "height": 221
        },
        "outputId": "a2d98dc7-930d-4d46-c2ab-88e9b99b65fd"
      },
      "source": [
        "y_pred,y_test  = TreeCLF (mw_clust_X_train,mw_clust_y_train['HDDS_category'], mw_clust_X_test,mw_clust_y_test['HDDS_category'] )\n",
        "\n",
        "print(classification_report(y_test, y_pred))\n"
      ],
      "execution_count": 36,
      "outputs": [
        {
          "output_type": "stream",
          "text": [
            "Fitting 3 folds for each of 30 candidates, totalling 90 fits\n"
          ],
          "name": "stdout"
        },
        {
          "output_type": "stream",
          "text": [
            "[Parallel(n_jobs=-1)]: Using backend LokyBackend with 2 concurrent workers.\n"
          ],
          "name": "stderr"
        },
        {
          "output_type": "stream",
          "text": [
            "              precision    recall  f1-score   support\n",
            "\n",
            "           0       0.00      0.00      0.00         0\n",
            "           1       1.00      0.49      0.66       445\n",
            "\n",
            "    accuracy                           0.49       445\n",
            "   macro avg       0.50      0.24      0.33       445\n",
            "weighted avg       1.00      0.49      0.66       445\n",
            "\n"
          ],
          "name": "stdout"
        },
        {
          "output_type": "stream",
          "text": [
            "[Parallel(n_jobs=-1)]: Done  90 out of  90 | elapsed:    2.1s finished\n"
          ],
          "name": "stderr"
        }
      ]
    },
    {
      "cell_type": "code",
      "metadata": {
        "id": "efAlPsSpfWyd",
        "colab_type": "code",
        "colab": {
          "base_uri": "https://localhost:8080/",
          "height": 238
        },
        "outputId": "aaf5ae9a-943f-42d5-e307-dce740e39ce7"
      },
      "source": [
        "y_pred,y_test  = TreeCLF (mw_clust_X_train,mw_clust_y_train['rCSI_category'], mw_clust_X_test,mw_clust_y_test['rCSI_category'] )\n",
        "print(classification_report(y_test, y_pred))\n"
      ],
      "execution_count": 37,
      "outputs": [
        {
          "output_type": "stream",
          "text": [
            "Fitting 3 folds for each of 30 candidates, totalling 90 fits\n"
          ],
          "name": "stdout"
        },
        {
          "output_type": "stream",
          "text": [
            "[Parallel(n_jobs=-1)]: Using backend LokyBackend with 2 concurrent workers.\n"
          ],
          "name": "stderr"
        },
        {
          "output_type": "stream",
          "text": [
            "              precision    recall  f1-score   support\n",
            "\n",
            "           0       0.33      0.69      0.45       157\n",
            "           1       0.55      0.23      0.33       282\n",
            "           2       0.00      0.00      0.00         6\n",
            "\n",
            "    accuracy                           0.39       445\n",
            "   macro avg       0.30      0.31      0.26       445\n",
            "weighted avg       0.47      0.39      0.37       445\n",
            "\n"
          ],
          "name": "stdout"
        },
        {
          "output_type": "stream",
          "text": [
            "[Parallel(n_jobs=-1)]: Done  90 out of  90 | elapsed:    0.8s finished\n"
          ],
          "name": "stderr"
        }
      ]
    },
    {
      "cell_type": "code",
      "metadata": {
        "id": "7xfMskxXfWyh",
        "colab_type": "code",
        "colab": {
          "base_uri": "https://localhost:8080/",
          "height": 238
        },
        "outputId": "6a055bef-499b-460d-8bd9-06eeb475d608"
      },
      "source": [
        "y_pred,y_test  =  rfCLF (mw_clust_X_train,mw_clust_y_train['FCS_category'], mw_clust_X_test,mw_clust_y_test['FCS_category'] )\n",
        "print(classification_report(y_test, y_pred))\n"
      ],
      "execution_count": 43,
      "outputs": [
        {
          "output_type": "stream",
          "text": [
            "Fitting 3 folds for each of 30 candidates, totalling 90 fits\n"
          ],
          "name": "stdout"
        },
        {
          "output_type": "stream",
          "text": [
            "[Parallel(n_jobs=-1)]: Using backend LokyBackend with 2 concurrent workers.\n",
            "[Parallel(n_jobs=-1)]: Done  37 tasks      | elapsed:    7.4s\n",
            "[Parallel(n_jobs=-1)]: Done  90 out of  90 | elapsed:   18.0s finished\n"
          ],
          "name": "stderr"
        },
        {
          "output_type": "stream",
          "text": [
            "              precision    recall  f1-score   support\n",
            "\n",
            "           0       0.69      1.00      0.82       309\n",
            "           1       0.00      0.00      0.00       136\n",
            "\n",
            "    accuracy                           0.69       445\n",
            "   macro avg       0.35      0.50      0.41       445\n",
            "weighted avg       0.48      0.69      0.57       445\n",
            "\n"
          ],
          "name": "stdout"
        }
      ]
    },
    {
      "cell_type": "code",
      "metadata": {
        "id": "4nn8zJH_fWyk",
        "colab_type": "code",
        "colab": {
          "base_uri": "https://localhost:8080/",
          "height": 238
        },
        "outputId": "e201942b-ceef-4306-c2fd-a2ec6d71a8f9"
      },
      "source": [
        "y_pred,y_test  = rfCLF (mw_clust_X_train,mw_clust_y_train['HDDS_category'], mw_clust_X_test,mw_clust_y_test['HDDS_category'] )\n",
        "\n",
        "print(classification_report(y_test, y_pred))\n"
      ],
      "execution_count": 46,
      "outputs": [
        {
          "output_type": "stream",
          "text": [
            "Fitting 3 folds for each of 30 candidates, totalling 90 fits\n"
          ],
          "name": "stdout"
        },
        {
          "output_type": "stream",
          "text": [
            "[Parallel(n_jobs=-1)]: Using backend LokyBackend with 2 concurrent workers.\n",
            "[Parallel(n_jobs=-1)]: Done  37 tasks      | elapsed:    6.9s\n",
            "[Parallel(n_jobs=-1)]: Done  90 out of  90 | elapsed:   16.6s finished\n"
          ],
          "name": "stderr"
        },
        {
          "output_type": "stream",
          "text": [
            "              precision    recall  f1-score   support\n",
            "\n",
            "           0       0.00      0.00      0.00         0\n",
            "           1       1.00      0.67      0.80       445\n",
            "\n",
            "    accuracy                           0.67       445\n",
            "   macro avg       0.50      0.34      0.40       445\n",
            "weighted avg       1.00      0.67      0.80       445\n",
            "\n"
          ],
          "name": "stdout"
        }
      ]
    },
    {
      "cell_type": "code",
      "metadata": {
        "id": "uDVl4FrPfWyn",
        "colab_type": "code",
        "colab": {
          "base_uri": "https://localhost:8080/",
          "height": 255
        },
        "outputId": "968cfcf5-a92e-4c90-c90e-7c484e11395e"
      },
      "source": [
        "y_pred,y_test  =  rfCLF (mw_clust_X_train,mw_clust_y_train['rCSI_category'], mw_clust_X_test,mw_clust_y_test['rCSI_category'] )\n",
        "\n",
        "print(classification_report(y_test, y_pred))\n"
      ],
      "execution_count": 47,
      "outputs": [
        {
          "output_type": "stream",
          "text": [
            "Fitting 3 folds for each of 30 candidates, totalling 90 fits\n"
          ],
          "name": "stdout"
        },
        {
          "output_type": "stream",
          "text": [
            "[Parallel(n_jobs=-1)]: Using backend LokyBackend with 2 concurrent workers.\n",
            "[Parallel(n_jobs=-1)]: Done  37 tasks      | elapsed:    7.9s\n",
            "[Parallel(n_jobs=-1)]: Done  90 out of  90 | elapsed:   19.0s finished\n"
          ],
          "name": "stderr"
        },
        {
          "output_type": "stream",
          "text": [
            "              precision    recall  f1-score   support\n",
            "\n",
            "           0       0.39      0.93      0.55       157\n",
            "           1       0.78      0.20      0.32       282\n",
            "           2       0.00      0.00      0.00         6\n",
            "\n",
            "    accuracy                           0.45       445\n",
            "   macro avg       0.39      0.38      0.29       445\n",
            "weighted avg       0.63      0.45      0.39       445\n",
            "\n"
          ],
          "name": "stdout"
        }
      ]
    },
    {
      "cell_type": "code",
      "metadata": {
        "colab_type": "code",
        "id": "aRIzyyJ_70qV",
        "colab": {
          "base_uri": "https://localhost:8080/",
          "height": 238
        },
        "outputId": "c5c12019-b1d8-41db-ef7b-2388d1813f5f"
      },
      "source": [
        "y_pred,y_test  = XGBCLF (mw_clust_X_train,mw_clust_y_train['FCS_category'], mw_clust_X_test,mw_clust_y_test['FCS_category'] )\n",
        "\n",
        "print(classification_report(y_test, y_pred))\n"
      ],
      "execution_count": 50,
      "outputs": [
        {
          "output_type": "stream",
          "text": [
            "Fitting 3 folds for each of 30 candidates, totalling 90 fits\n"
          ],
          "name": "stdout"
        },
        {
          "output_type": "stream",
          "text": [
            "[Parallel(n_jobs=-1)]: Using backend LokyBackend with 2 concurrent workers.\n",
            "[Parallel(n_jobs=-1)]: Done  37 tasks      | elapsed:   44.4s\n",
            "[Parallel(n_jobs=-1)]: Done  90 out of  90 | elapsed:  1.7min finished\n"
          ],
          "name": "stderr"
        },
        {
          "output_type": "stream",
          "text": [
            "              precision    recall  f1-score   support\n",
            "\n",
            "           0       0.69      1.00      0.82       309\n",
            "           1       0.00      0.00      0.00       136\n",
            "\n",
            "    accuracy                           0.69       445\n",
            "   macro avg       0.35      0.50      0.41       445\n",
            "weighted avg       0.48      0.69      0.57       445\n",
            "\n"
          ],
          "name": "stdout"
        }
      ]
    },
    {
      "cell_type": "code",
      "metadata": {
        "id": "ARKdfCI-hAA7",
        "colab_type": "code",
        "colab": {
          "base_uri": "https://localhost:8080/",
          "height": 238
        },
        "outputId": "f61abf29-4c46-498c-e0e3-f6e4c245fa7e"
      },
      "source": [
        "y_pred,y_test  =  XGBCLF (mw_clust_X_train,mw_clust_y_train['HDDS_category'], mw_clust_X_test,mw_clust_y_test['HDDS_category'] )\n",
        "\n",
        "print(classification_report(y_test, y_pred))\n"
      ],
      "execution_count": 51,
      "outputs": [
        {
          "output_type": "stream",
          "text": [
            "Fitting 3 folds for each of 30 candidates, totalling 90 fits\n"
          ],
          "name": "stdout"
        },
        {
          "output_type": "stream",
          "text": [
            "[Parallel(n_jobs=-1)]: Using backend LokyBackend with 2 concurrent workers.\n",
            "[Parallel(n_jobs=-1)]: Done  37 tasks      | elapsed:   34.2s\n",
            "[Parallel(n_jobs=-1)]: Done  90 out of  90 | elapsed:  1.3min finished\n"
          ],
          "name": "stderr"
        },
        {
          "output_type": "stream",
          "text": [
            "              precision    recall  f1-score   support\n",
            "\n",
            "           0       0.00      0.00      0.00         0\n",
            "           1       1.00      0.66      0.79       445\n",
            "\n",
            "    accuracy                           0.66       445\n",
            "   macro avg       0.50      0.33      0.40       445\n",
            "weighted avg       1.00      0.66      0.79       445\n",
            "\n"
          ],
          "name": "stdout"
        }
      ]
    },
    {
      "cell_type": "code",
      "metadata": {
        "id": "CfD1dUt1hCra",
        "colab_type": "code",
        "colab": {
          "base_uri": "https://localhost:8080/",
          "height": 255
        },
        "outputId": "e6a79013-3019-4740-cf1d-faf610121611"
      },
      "source": [
        "y_pred,y_test  =  XGBCLF (mw_clust_X_train,mw_clust_y_train['rCSI_category'], mw_clust_X_test,mw_clust_y_test['rCSI_category'] )\n",
        "\n",
        "print(classification_report(y_test, y_pred))\n"
      ],
      "execution_count": 52,
      "outputs": [
        {
          "output_type": "stream",
          "text": [
            "Fitting 3 folds for each of 30 candidates, totalling 90 fits\n"
          ],
          "name": "stdout"
        },
        {
          "output_type": "stream",
          "text": [
            "[Parallel(n_jobs=-1)]: Using backend LokyBackend with 2 concurrent workers.\n",
            "[Parallel(n_jobs=-1)]: Done  37 tasks      | elapsed:   33.3s\n",
            "[Parallel(n_jobs=-1)]: Done  90 out of  90 | elapsed:  1.3min finished\n"
          ],
          "name": "stderr"
        },
        {
          "output_type": "stream",
          "text": [
            "              precision    recall  f1-score   support\n",
            "\n",
            "           0       0.59      0.55      0.57       157\n",
            "           1       0.74      0.79      0.77       282\n",
            "           2       0.00      0.00      0.00         6\n",
            "\n",
            "    accuracy                           0.69       445\n",
            "   macro avg       0.45      0.45      0.45       445\n",
            "weighted avg       0.68      0.69      0.69       445\n",
            "\n"
          ],
          "name": "stdout"
        }
      ]
    },
    {
      "cell_type": "code",
      "metadata": {
        "id": "qC_JeJo-1N8T",
        "colab_type": "code",
        "colab": {
          "base_uri": "https://localhost:8080/",
          "height": 1000
        },
        "outputId": "9fc98071-7fab-4a37-c802-1ddc8fa5285d"
      },
      "source": [
        "y_pred,y_test = TreeCLF (tz_clust_X_train,tz_clust_y_train['FCS_category'], tz_clust_X_test,tz_clust_y_test['FCS_category'] )\n",
        "\n",
        "print(classification_report(y_test, y_pred))\n",
        "\n",
        "y_pred,y_test  = TreeCLF (tz_clust_X_train,tz_clust_y_train['HDDS_category'], tz_clust_X_test,tz_clust_y_test['HDDS_category'] )\n",
        "\n",
        "print(classification_report(y_test, y_pred))\n",
        "\n",
        "y_pred,y_test  = TreeCLF (tz_clust_X_train,tz_clust_y_train['rCSI_category'], tz_clust_X_test,tz_clust_y_test['rCSI_category'] )\n",
        "print(classification_report(y_test, y_pred))\n",
        "\n",
        "\n",
        "y_pred,y_test  =  rfCLF (tz_clust_X_train,tz_clust_y_train['FCS_category'], tz_clust_X_test,tz_clust_y_test['FCS_category'] )\n",
        "print(classification_report(y_test, y_pred))\n",
        "\n",
        "y_pred,y_test  = rfCLF (tz_clust_X_train,tz_clust_y_train['HDDS_category'], tz_clust_X_test,tz_clust_y_test['HDDS_category'] )\n",
        "\n",
        "print(classification_report(y_test, y_pred))\n",
        "\n",
        "\n",
        "y_pred,y_test  =  rfCLF (tz_clust_X_train,tz_clust_y_train['rCSI_category'], tz_clust_X_test,tz_clust_y_test['rCSI_category'] )\n",
        "\n",
        "print(classification_report(y_test, y_pred))\n",
        "\n",
        "\n",
        "y_pred,y_test  = XGBCLF (tz_clust_X_train,tz_clust_y_train['FCS_category'], tz_clust_X_test,tz_clust_y_test['FCS_category'] )\n",
        "\n",
        "print(classification_report(y_test, y_pred))\n",
        "\n",
        "\n",
        "y_pred,y_test  =  XGBCLF (tz_clust_X_train,tz_clust_y_train['HDDS_category'], tz_clust_X_test,tz_clust_y_test['HDDS_category'] )\n",
        "\n",
        "print(classification_report(y_test, y_pred))\n",
        "\n",
        "y_pred,y_test  =  XGBCLF (tz_clust_X_train,tz_clust_y_train['rCSI_category'], tz_clust_X_test,tz_clust_y_test['rCSI_category'] )\n",
        "\n",
        "print(classification_report(y_test, y_pred))"
      ],
      "execution_count": 192,
      "outputs": [
        {
          "output_type": "stream",
          "text": [
            "Fitting 3 folds for each of 30 candidates, totalling 90 fits\n"
          ],
          "name": "stdout"
        },
        {
          "output_type": "stream",
          "text": [
            "[Parallel(n_jobs=-1)]: Using backend LokyBackend with 2 concurrent workers.\n",
            "[Parallel(n_jobs=-1)]: Done  90 out of  90 | elapsed:    0.8s finished\n",
            "[Parallel(n_jobs=-1)]: Using backend LokyBackend with 2 concurrent workers.\n"
          ],
          "name": "stderr"
        },
        {
          "output_type": "stream",
          "text": [
            "              precision    recall  f1-score   support\n",
            "\n",
            "           0       0.89      1.00      0.94       342\n",
            "           1       0.50      0.02      0.04        43\n",
            "           2       0.00      0.00      0.00         1\n",
            "\n",
            "    accuracy                           0.89       386\n",
            "   macro avg       0.46      0.34      0.33       386\n",
            "weighted avg       0.84      0.89      0.84       386\n",
            "\n",
            "Fitting 3 folds for each of 30 candidates, totalling 90 fits\n"
          ],
          "name": "stdout"
        },
        {
          "output_type": "stream",
          "text": [
            "[Parallel(n_jobs=-1)]: Done  90 out of  90 | elapsed:    0.8s finished\n",
            "[Parallel(n_jobs=-1)]: Using backend LokyBackend with 2 concurrent workers.\n"
          ],
          "name": "stderr"
        },
        {
          "output_type": "stream",
          "text": [
            "              precision    recall  f1-score   support\n",
            "\n",
            "           0       0.50      0.02      0.05        82\n",
            "           1       0.79      0.99      0.88       304\n",
            "\n",
            "    accuracy                           0.79       386\n",
            "   macro avg       0.65      0.51      0.46       386\n",
            "weighted avg       0.73      0.79      0.70       386\n",
            "\n",
            "Fitting 3 folds for each of 30 candidates, totalling 90 fits\n"
          ],
          "name": "stdout"
        },
        {
          "output_type": "stream",
          "text": [
            "[Parallel(n_jobs=-1)]: Done  90 out of  90 | elapsed:    0.8s finished\n",
            "[Parallel(n_jobs=-1)]: Using backend LokyBackend with 2 concurrent workers.\n"
          ],
          "name": "stderr"
        },
        {
          "output_type": "stream",
          "text": [
            "              precision    recall  f1-score   support\n",
            "\n",
            "           0       0.65      0.83      0.73       227\n",
            "           1       0.58      0.37      0.45       153\n",
            "           2       0.00      0.00      0.00         6\n",
            "\n",
            "    accuracy                           0.63       386\n",
            "   macro avg       0.41      0.40      0.39       386\n",
            "weighted avg       0.61      0.63      0.61       386\n",
            "\n",
            "Fitting 3 folds for each of 30 candidates, totalling 90 fits\n"
          ],
          "name": "stdout"
        },
        {
          "output_type": "stream",
          "text": [
            "[Parallel(n_jobs=-1)]: Done  37 tasks      | elapsed:    9.3s\n",
            "[Parallel(n_jobs=-1)]: Done  90 out of  90 | elapsed:   22.1s finished\n"
          ],
          "name": "stderr"
        },
        {
          "output_type": "stream",
          "text": [
            "              precision    recall  f1-score   support\n",
            "\n",
            "           0       0.89      1.00      0.94       342\n",
            "           1       0.00      0.00      0.00        43\n",
            "           2       0.00      0.00      0.00         1\n",
            "\n",
            "    accuracy                           0.89       386\n",
            "   macro avg       0.30      0.33      0.31       386\n",
            "weighted avg       0.79      0.89      0.83       386\n",
            "\n",
            "Fitting 3 folds for each of 30 candidates, totalling 90 fits\n"
          ],
          "name": "stdout"
        },
        {
          "output_type": "stream",
          "text": [
            "[Parallel(n_jobs=-1)]: Using backend LokyBackend with 2 concurrent workers.\n",
            "[Parallel(n_jobs=-1)]: Done  37 tasks      | elapsed:    9.2s\n",
            "[Parallel(n_jobs=-1)]: Done  90 out of  90 | elapsed:   22.0s finished\n",
            "[Parallel(n_jobs=-1)]: Using backend LokyBackend with 2 concurrent workers.\n"
          ],
          "name": "stderr"
        },
        {
          "output_type": "stream",
          "text": [
            "              precision    recall  f1-score   support\n",
            "\n",
            "           0       0.00      0.00      0.00        82\n",
            "           1       0.79      1.00      0.88       304\n",
            "\n",
            "    accuracy                           0.79       386\n",
            "   macro avg       0.39      0.50      0.44       386\n",
            "weighted avg       0.62      0.79      0.69       386\n",
            "\n",
            "Fitting 3 folds for each of 30 candidates, totalling 90 fits\n"
          ],
          "name": "stdout"
        },
        {
          "output_type": "stream",
          "text": [
            "[Parallel(n_jobs=-1)]: Done  37 tasks      | elapsed:    9.6s\n",
            "[Parallel(n_jobs=-1)]: Done  90 out of  90 | elapsed:   22.9s finished\n"
          ],
          "name": "stderr"
        },
        {
          "output_type": "stream",
          "text": [
            "              precision    recall  f1-score   support\n",
            "\n",
            "           0       0.64      0.88      0.74       227\n",
            "           1       0.57      0.28      0.38       153\n",
            "           2       0.00      0.00      0.00         6\n",
            "\n",
            "    accuracy                           0.63       386\n",
            "   macro avg       0.40      0.39      0.37       386\n",
            "weighted avg       0.60      0.63      0.58       386\n",
            "\n",
            "Fitting 3 folds for each of 30 candidates, totalling 90 fits\n"
          ],
          "name": "stdout"
        },
        {
          "output_type": "stream",
          "text": [
            "[Parallel(n_jobs=-1)]: Using backend LokyBackend with 2 concurrent workers.\n",
            "[Parallel(n_jobs=-1)]: Done  37 tasks      | elapsed:   33.6s\n",
            "[Parallel(n_jobs=-1)]: Done  90 out of  90 | elapsed:  1.3min finished\n"
          ],
          "name": "stderr"
        },
        {
          "output_type": "stream",
          "text": [
            "              precision    recall  f1-score   support\n",
            "\n",
            "           0       0.91      0.96      0.93       342\n",
            "           1       0.41      0.21      0.28        43\n",
            "           2       0.00      0.00      0.00         1\n",
            "\n",
            "    accuracy                           0.88       386\n",
            "   macro avg       0.44      0.39      0.40       386\n",
            "weighted avg       0.85      0.88      0.86       386\n",
            "\n",
            "Fitting 3 folds for each of 30 candidates, totalling 90 fits\n"
          ],
          "name": "stdout"
        },
        {
          "output_type": "stream",
          "text": [
            "[Parallel(n_jobs=-1)]: Using backend LokyBackend with 2 concurrent workers.\n",
            "[Parallel(n_jobs=-1)]: Done  37 tasks      | elapsed:   31.6s\n",
            "[Parallel(n_jobs=-1)]: Done  90 out of  90 | elapsed:  1.2min finished\n"
          ],
          "name": "stderr"
        },
        {
          "output_type": "stream",
          "text": [
            "              precision    recall  f1-score   support\n",
            "\n",
            "           0       0.58      0.23      0.33        82\n",
            "           1       0.82      0.95      0.88       304\n",
            "\n",
            "    accuracy                           0.80       386\n",
            "   macro avg       0.70      0.59      0.61       386\n",
            "weighted avg       0.77      0.80      0.77       386\n",
            "\n",
            "Fitting 3 folds for each of 30 candidates, totalling 90 fits\n"
          ],
          "name": "stdout"
        },
        {
          "output_type": "stream",
          "text": [
            "[Parallel(n_jobs=-1)]: Using backend LokyBackend with 2 concurrent workers.\n",
            "[Parallel(n_jobs=-1)]: Done  37 tasks      | elapsed:   36.9s\n",
            "[Parallel(n_jobs=-1)]: Done  90 out of  90 | elapsed:  1.4min finished\n"
          ],
          "name": "stderr"
        },
        {
          "output_type": "stream",
          "text": [
            "              precision    recall  f1-score   support\n",
            "\n",
            "           0       0.65      0.81      0.73       227\n",
            "           1       0.56      0.38      0.45       153\n",
            "           2       0.00      0.00      0.00         6\n",
            "\n",
            "    accuracy                           0.63       386\n",
            "   macro avg       0.41      0.40      0.39       386\n",
            "weighted avg       0.61      0.63      0.61       386\n",
            "\n"
          ],
          "name": "stdout"
        }
      ]
    },
    {
      "cell_type": "code",
      "metadata": {
        "id": "avVDgEmM2JV6",
        "colab_type": "code",
        "colab": {
          "base_uri": "https://localhost:8080/",
          "height": 1000
        },
        "outputId": "7d5ef202-cdfc-416a-f385-8e106674de2b"
      },
      "source": [
        "y_pred,y_test = TreeCLF (ug_clust_X_train,ug_clust_y_train['FCS_category'], ug_clust_X_test,ug_clust_y_test['FCS_category'] )\n",
        "\n",
        "print(classification_report(y_test, y_pred))\n",
        "\n",
        "y_pred,y_test  = TreeCLF (ug_clust_X_train,ug_clust_y_train['HDDS_category'], ug_clust_X_test,ug_clust_y_test['HDDS_category'] )\n",
        "\n",
        "print(classification_report(y_test, y_pred))\n",
        "\n",
        "\n",
        "y_pred,y_test  =  rfCLF (ug_clust_X_train,ug_clust_y_train['FCS_category'], ug_clust_X_test,ug_clust_y_test['FCS_category'] )\n",
        "print(classification_report(y_test, y_pred))\n",
        "\n",
        "y_pred,y_test  = rfCLF (ug_clust_X_train,ug_clust_y_train['HDDS_category'], ug_clust_X_test,ug_clust_y_test['HDDS_category'] )\n",
        "\n",
        "print(classification_report(y_test, y_pred))\n",
        "\n",
        "\n",
        "\n",
        "y_pred,y_test  = XGBCLF (ug_clust_X_train,ug_clust_y_train['FCS_category'], ug_clust_X_test,ug_clust_y_test['FCS_category'] )\n",
        "\n",
        "print(classification_report(y_test, y_pred))\n",
        "\n",
        "\n",
        "y_pred,y_test  =  XGBCLF (ug_clust_X_train,ug_clust_y_train['HDDS_category'], ug_clust_X_test,ug_clust_y_test['HDDS_category'] )\n",
        "\n",
        "print(classification_report(y_test, y_pred))\n",
        "\n"
      ],
      "execution_count": 193,
      "outputs": [
        {
          "output_type": "stream",
          "text": [
            "Fitting 3 folds for each of 30 candidates, totalling 90 fits\n"
          ],
          "name": "stdout"
        },
        {
          "output_type": "stream",
          "text": [
            "[Parallel(n_jobs=-1)]: Using backend LokyBackend with 2 concurrent workers.\n",
            "[Parallel(n_jobs=-1)]: Done  90 out of  90 | elapsed:    0.6s finished\n",
            "[Parallel(n_jobs=-1)]: Using backend LokyBackend with 2 concurrent workers.\n"
          ],
          "name": "stderr"
        },
        {
          "output_type": "stream",
          "text": [
            "              precision    recall  f1-score   support\n",
            "\n",
            "           0       0.82      0.86      0.84       334\n",
            "           1       0.42      0.37      0.39        97\n",
            "           2       1.00      0.11      0.20         9\n",
            "\n",
            "    accuracy                           0.74       440\n",
            "   macro avg       0.74      0.45      0.48       440\n",
            "weighted avg       0.73      0.74      0.73       440\n",
            "\n",
            "Fitting 3 folds for each of 30 candidates, totalling 90 fits\n"
          ],
          "name": "stdout"
        },
        {
          "output_type": "stream",
          "text": [
            "[Parallel(n_jobs=-1)]: Done  90 out of  90 | elapsed:    0.6s finished\n",
            "[Parallel(n_jobs=-1)]: Using backend LokyBackend with 2 concurrent workers.\n"
          ],
          "name": "stderr"
        },
        {
          "output_type": "stream",
          "text": [
            "              precision    recall  f1-score   support\n",
            "\n",
            "           0       0.00      0.00      0.00        49\n",
            "           1       0.88      1.00      0.94       389\n",
            "           2       0.00      0.00      0.00         2\n",
            "\n",
            "    accuracy                           0.88       440\n",
            "   macro avg       0.29      0.33      0.31       440\n",
            "weighted avg       0.78      0.88      0.83       440\n",
            "\n",
            "Fitting 3 folds for each of 30 candidates, totalling 90 fits\n"
          ],
          "name": "stdout"
        },
        {
          "output_type": "stream",
          "text": [
            "[Parallel(n_jobs=-1)]: Done  37 tasks      | elapsed:    5.6s\n",
            "[Parallel(n_jobs=-1)]: Done  90 out of  90 | elapsed:   13.4s finished\n",
            "[Parallel(n_jobs=-1)]: Using backend LokyBackend with 2 concurrent workers.\n"
          ],
          "name": "stderr"
        },
        {
          "output_type": "stream",
          "text": [
            "              precision    recall  f1-score   support\n",
            "\n",
            "           0       0.80      0.96      0.87       334\n",
            "           1       0.46      0.16      0.24        97\n",
            "           2       0.00      0.00      0.00         9\n",
            "\n",
            "    accuracy                           0.77       440\n",
            "   macro avg       0.42      0.38      0.37       440\n",
            "weighted avg       0.70      0.77      0.71       440\n",
            "\n",
            "Fitting 3 folds for each of 30 candidates, totalling 90 fits\n"
          ],
          "name": "stdout"
        },
        {
          "output_type": "stream",
          "text": [
            "[Parallel(n_jobs=-1)]: Done  37 tasks      | elapsed:    5.2s\n",
            "[Parallel(n_jobs=-1)]: Done  90 out of  90 | elapsed:   12.6s finished\n",
            "[Parallel(n_jobs=-1)]: Using backend LokyBackend with 2 concurrent workers.\n"
          ],
          "name": "stderr"
        },
        {
          "output_type": "stream",
          "text": [
            "              precision    recall  f1-score   support\n",
            "\n",
            "           0       0.00      0.00      0.00        49\n",
            "           1       0.88      1.00      0.94       389\n",
            "           2       0.00      0.00      0.00         2\n",
            "\n",
            "    accuracy                           0.88       440\n",
            "   macro avg       0.29      0.33      0.31       440\n",
            "weighted avg       0.78      0.88      0.83       440\n",
            "\n",
            "Fitting 3 folds for each of 30 candidates, totalling 90 fits\n"
          ],
          "name": "stdout"
        },
        {
          "output_type": "stream",
          "text": [
            "[Parallel(n_jobs=-1)]: Done  37 tasks      | elapsed:   11.5s\n",
            "[Parallel(n_jobs=-1)]: Done  90 out of  90 | elapsed:   26.6s finished\n"
          ],
          "name": "stderr"
        },
        {
          "output_type": "stream",
          "text": [
            "              precision    recall  f1-score   support\n",
            "\n",
            "           0       0.78      0.96      0.86       334\n",
            "           1       0.41      0.12      0.19        97\n",
            "           2       0.00      0.00      0.00         9\n",
            "\n",
            "    accuracy                           0.76       440\n",
            "   macro avg       0.40      0.36      0.35       440\n",
            "weighted avg       0.69      0.76      0.70       440\n",
            "\n",
            "Fitting 3 folds for each of 30 candidates, totalling 90 fits\n"
          ],
          "name": "stdout"
        },
        {
          "output_type": "stream",
          "text": [
            "[Parallel(n_jobs=-1)]: Using backend LokyBackend with 2 concurrent workers.\n",
            "[Parallel(n_jobs=-1)]: Done  37 tasks      | elapsed:    8.0s\n",
            "[Parallel(n_jobs=-1)]: Done  90 out of  90 | elapsed:   18.9s finished\n"
          ],
          "name": "stderr"
        },
        {
          "output_type": "stream",
          "text": [
            "              precision    recall  f1-score   support\n",
            "\n",
            "           0       0.00      0.00      0.00        49\n",
            "           1       0.88      1.00      0.94       389\n",
            "           2       0.00      0.00      0.00         2\n",
            "\n",
            "    accuracy                           0.88       440\n",
            "   macro avg       0.29      0.33      0.31       440\n",
            "weighted avg       0.78      0.88      0.83       440\n",
            "\n"
          ],
          "name": "stdout"
        }
      ]
    },
    {
      "cell_type": "code",
      "metadata": {
        "id": "S_VPhxlh2Xxg",
        "colab_type": "code",
        "colab": {
          "base_uri": "https://localhost:8080/",
          "height": 34
        },
        "outputId": "626274c3-1153-40ad-dfe7-585a00072a2b"
      },
      "source": [
        "ug_clust_y_train.isnull().values.any()"
      ],
      "execution_count": 86,
      "outputs": [
        {
          "output_type": "execute_result",
          "data": {
            "text/plain": [
              "True"
            ]
          },
          "metadata": {
            "tags": []
          },
          "execution_count": 86
        }
      ]
    },
    {
      "cell_type": "code",
      "metadata": {
        "id": "G2D2l3lj2zHk",
        "colab_type": "code",
        "colab": {
          "base_uri": "https://localhost:8080/",
          "height": 34
        },
        "outputId": "39208728-1cc9-4b69-c08d-53ea5cbe896f"
      },
      "source": [
        "tz_clust_X_train.isnull().values.any()"
      ],
      "execution_count": 90,
      "outputs": [
        {
          "output_type": "execute_result",
          "data": {
            "text/plain": [
              "False"
            ]
          },
          "metadata": {
            "tags": []
          },
          "execution_count": 90
        }
      ]
    },
    {
      "cell_type": "markdown",
      "metadata": {
        "colab_type": "text",
        "id": "abWsB5nGWfra"
      },
      "source": [
        "### downsample / oversample \n",
        "\n",
        "Using simpler metrics like accuracy_score can be misleading. In a dataset with highly unbalanced classes, if the classifier always \"predicts\" the most common class without performing any analysis of the features, it will still have a high accuracy rate, obviously illusory."
      ]
    },
    {
      "cell_type": "markdown",
      "metadata": {
        "colab_type": "text",
        "id": "CYrYYplPWmyp"
      },
      "source": [
        "Resampling\n",
        "A widely adopted technique for dealing with highly unbalanced datasets is called resampling. It consists of removing samples from the majority class (under-sampling) and / or adding more examples from the minority class (over-sampling).\n",
        "\n",
        "Despite the advantage of balancing classes, these techniques also have their weaknesses (there is no free lunch). The simplest implementation of over-sampling is to duplicate random records from the minority class, which can cause overfitting. In under-sampling, the simplest technique involves removing random records from the majority class, which can cause loss of information.\n",
        "\n"
      ]
    },
    {
      "cell_type": "code",
      "metadata": {
        "colab_type": "code",
        "id": "mx78w6b7XXT6",
        "colab": {}
      },
      "source": [
        "from sklearn.utils import resample\n",
        "\n",
        "# concatenate our training data back together\n",
        "X = pd.concat([mw_clust_X_train, mw_clust_y_train['rCSI_category']], axis=1)\n",
        "\n",
        "\n",
        "not_crisis = X[X.rCSI_category==0]\n",
        "crisis = X[X.rCSI_category!=0]\n",
        "\n",
        "# separate minority and majority classes\n",
        "\n",
        "# upsample minority\n",
        "crisis_upsampled = resample(crisis,\n",
        "                          replace=True, # sample with replacement\n",
        "                          n_samples=len(not_crisis), # match number in majority class\n",
        "                          random_state=27) # reproducible results\n",
        "\n",
        "# combine majority and upsampled minority\n",
        "upsampled = pd.concat([not_crisis, crisis_upsampled])\n",
        "\n",
        "upsampled_y_train = upsampled[\"rCSI_category\"]\n",
        "\n",
        "upsampled_X_train = upsampled.drop(\"rCSI_category\",axis=1)"
      ],
      "execution_count": 0,
      "outputs": []
    },
    {
      "cell_type": "code",
      "metadata": {
        "id": "Mgsxm2vsHwAT",
        "colab_type": "code",
        "colab": {
          "base_uri": "https://localhost:8080/",
          "height": 255
        },
        "outputId": "1b77b80f-c0df-469d-8045-d8d76433cb30"
      },
      "source": [
        "y_pred,y_test  = rfCLF (upsampled_X_train,upsampled_y_train, mw_clust_X_test,mw_clust_y_test['rCSI_category'] )\n",
        "\n",
        "print(classification_report(y_test, y_pred))"
      ],
      "execution_count": 212,
      "outputs": [
        {
          "output_type": "stream",
          "text": [
            "Fitting 3 folds for each of 30 candidates, totalling 90 fits\n"
          ],
          "name": "stdout"
        },
        {
          "output_type": "stream",
          "text": [
            "[Parallel(n_jobs=-1)]: Using backend LokyBackend with 2 concurrent workers.\n",
            "[Parallel(n_jobs=-1)]: Done  37 tasks      | elapsed:   10.2s\n",
            "[Parallel(n_jobs=-1)]: Done  90 out of  90 | elapsed:   24.4s finished\n"
          ],
          "name": "stderr"
        },
        {
          "output_type": "stream",
          "text": [
            "              precision    recall  f1-score   support\n",
            "\n",
            "           0       0.42      0.87      0.56       157\n",
            "           1       0.77      0.32      0.45       282\n",
            "           2       0.00      0.00      0.00         6\n",
            "\n",
            "    accuracy                           0.51       445\n",
            "   macro avg       0.40      0.40      0.34       445\n",
            "weighted avg       0.64      0.51      0.48       445\n",
            "\n"
          ],
          "name": "stdout"
        }
      ]
    },
    {
      "cell_type": "code",
      "metadata": {
        "id": "6tuAAE00HqY2",
        "colab_type": "code",
        "colab": {
          "base_uri": "https://localhost:8080/",
          "height": 255
        },
        "outputId": "3d5c1a6e-3185-4af8-bc09-4dca33d4ee50"
      },
      "source": [
        "y_pred,y_test  = XGBCLF (upsampled_X_train,upsampled_y_train, mw_clust_X_test,mw_clust_y_test['rCSI_category'] )\n",
        "\n",
        "print(classification_report(y_test, y_pred))"
      ],
      "execution_count": 213,
      "outputs": [
        {
          "output_type": "stream",
          "text": [
            "Fitting 3 folds for each of 30 candidates, totalling 90 fits\n"
          ],
          "name": "stdout"
        },
        {
          "output_type": "stream",
          "text": [
            "[Parallel(n_jobs=-1)]: Using backend LokyBackend with 2 concurrent workers.\n",
            "[Parallel(n_jobs=-1)]: Done  37 tasks      | elapsed:  1.1min\n",
            "[Parallel(n_jobs=-1)]: Done  90 out of  90 | elapsed:  2.5min finished\n"
          ],
          "name": "stderr"
        },
        {
          "output_type": "stream",
          "text": [
            "              precision    recall  f1-score   support\n",
            "\n",
            "           0       0.62      0.56      0.59       157\n",
            "           1       0.75      0.80      0.78       282\n",
            "           2       0.00      0.00      0.00         6\n",
            "\n",
            "    accuracy                           0.71       445\n",
            "   macro avg       0.46      0.46      0.45       445\n",
            "weighted avg       0.69      0.71      0.70       445\n",
            "\n"
          ],
          "name": "stdout"
        }
      ]
    },
    {
      "cell_type": "code",
      "metadata": {
        "id": "qwQ6T4cuHMdu",
        "colab_type": "code",
        "colab": {
          "base_uri": "https://localhost:8080/",
          "height": 459
        },
        "outputId": "07db6c6a-9351-499a-c08d-604e85b4cfb9"
      },
      "source": [
        "from sklearn.utils import resample\n",
        "\n",
        "# concatenate our training data back together\n",
        "HDDS_df = pd.concat([mw_clust_X_train, mw_clust_y_train['HDDS_category']], axis=1)\n",
        "\n",
        "\n",
        "HDDS_not_crisis = HDDS_df[HDDS_df.HDDS_category==0]\n",
        "HDDS_crisis = HDDS_df[HDDS_df.HDDS_category!=0]\n",
        "\n",
        "# separate minority and majority classes\n",
        "\n",
        "# upsample minority\n",
        "HDDS_crisis_upsampled = resample(HDDS_crisis,\n",
        "                          replace=True, # sample with replacement\n",
        "                          n_samples=len(HDDS_not_crisis), # match number in majority class\n",
        "                          random_state=27) # reproducible results\n",
        "\n",
        "# combine majority and upsampled minority\n",
        "HDDS_upsampled = pd.concat([HDDS_not_crisis, HDDS_crisis_upsampled])\n",
        "\n",
        "HDDS_upsampled_y_train = HDDS_upsampled[\"HDDS_category\"]\n",
        "\n",
        "HDDS_upsampled_X_train = HDDS_upsampled.drop(\"HDDS_category\",axis=1)\n",
        "\n",
        "y_pred,y_test  = rfCLF (upsampled_X_train,upsampled_y_train, mw_clust_X_test,mw_clust_y_test['HDDS_category'] )\n",
        "\n",
        "print(classification_report(y_test, y_pred))\n",
        "\n",
        "y_pred,y_test  = XGBCLF (upsampled_X_train,upsampled_y_train, mw_clust_X_test,mw_clust_y_test['HDDS_category'] )\n",
        "\n",
        "print(classification_report(y_test, y_pred))"
      ],
      "execution_count": 215,
      "outputs": [
        {
          "output_type": "stream",
          "text": [
            "Fitting 3 folds for each of 30 candidates, totalling 90 fits\n"
          ],
          "name": "stdout"
        },
        {
          "output_type": "stream",
          "text": [
            "[Parallel(n_jobs=-1)]: Using backend LokyBackend with 2 concurrent workers.\n",
            "[Parallel(n_jobs=-1)]: Done  37 tasks      | elapsed:   11.2s\n",
            "[Parallel(n_jobs=-1)]: Done  90 out of  90 | elapsed:   25.3s finished\n"
          ],
          "name": "stderr"
        },
        {
          "output_type": "stream",
          "text": [
            "              precision    recall  f1-score   support\n",
            "\n",
            "           0       0.00      0.00      0.00         0\n",
            "           1       1.00      0.13      0.23       445\n",
            "\n",
            "    accuracy                           0.13       445\n",
            "   macro avg       0.50      0.07      0.12       445\n",
            "weighted avg       1.00      0.13      0.23       445\n",
            "\n",
            "Fitting 3 folds for each of 30 candidates, totalling 90 fits\n"
          ],
          "name": "stdout"
        },
        {
          "output_type": "stream",
          "text": [
            "[Parallel(n_jobs=-1)]: Using backend LokyBackend with 2 concurrent workers.\n",
            "[Parallel(n_jobs=-1)]: Done  37 tasks      | elapsed:  1.1min\n",
            "[Parallel(n_jobs=-1)]: Done  90 out of  90 | elapsed:  2.5min finished\n"
          ],
          "name": "stderr"
        },
        {
          "output_type": "stream",
          "text": [
            "              precision    recall  f1-score   support\n",
            "\n",
            "           0       0.00      0.00      0.00         0\n",
            "           1       1.00      0.68      0.81       445\n",
            "\n",
            "    accuracy                           0.68       445\n",
            "   macro avg       0.50      0.34      0.40       445\n",
            "weighted avg       1.00      0.68      0.81       445\n",
            "\n"
          ],
          "name": "stdout"
        }
      ]
    },
    {
      "cell_type": "code",
      "metadata": {
        "id": "aoKf2MsrMdys",
        "colab_type": "code",
        "colab": {
          "base_uri": "https://localhost:8080/",
          "height": 459
        },
        "outputId": "86e27d71-be36-4126-8aa3-cb37e0e414af"
      },
      "source": [
        "from sklearn.utils import resample\n",
        "\n",
        "# concatenate our training data back together\n",
        "FCS_df = pd.concat([mw_clust_X_train, mw_clust_y_train['FCS_category']], axis=1)\n",
        "\n",
        "\n",
        "FCS_not_crisis = FCS_df[FCS_df.FCS_category==0]\n",
        "FCS_crisis = FCS_df[FCS_df.FCS_category!=0]\n",
        "\n",
        "# separate minority and majority classes\n",
        "\n",
        "# upsample minority\n",
        "FCS_crisis_upsampled = resample(FCS_crisis,\n",
        "                                 replace=True, # sample with replacement\n",
        "                                 n_samples=len(FCS_not_crisis), # match number in majority class\n",
        "                                 random_state=27) # reproducible results\n",
        "\n",
        "# combine majority and upsampled minority\n",
        "FCS_upsampled = pd.concat([FCS_not_crisis, FCS_crisis_upsampled])\n",
        "\n",
        "FCS_upsampled_y_train = FCS_upsampled[\"FCS_category\"]\n",
        "\n",
        "FCS_upsampled_X_train = FCS_upsampled.drop(\"FCS_category\",axis=1)\n",
        "\n",
        "y_pred,y_test  = rfCLF (upsampled_X_train,upsampled_y_train, mw_clust_X_test,mw_clust_y_test['FCS_category'] )\n",
        "\n",
        "print(classification_report(y_test, y_pred))\n",
        "\n",
        "y_pred,y_test  = XGBCLF (upsampled_X_train,upsampled_y_train, mw_clust_X_test,mw_clust_y_test['FCS_category'] )\n",
        "\n",
        "print(classification_report(y_test, y_pred))"
      ],
      "execution_count": 216,
      "outputs": [
        {
          "output_type": "stream",
          "text": [
            "Fitting 3 folds for each of 30 candidates, totalling 90 fits\n"
          ],
          "name": "stdout"
        },
        {
          "output_type": "stream",
          "text": [
            "[Parallel(n_jobs=-1)]: Using backend LokyBackend with 2 concurrent workers.\n",
            "[Parallel(n_jobs=-1)]: Done  37 tasks      | elapsed:   10.2s\n",
            "[Parallel(n_jobs=-1)]: Done  90 out of  90 | elapsed:   24.4s finished\n"
          ],
          "name": "stderr"
        },
        {
          "output_type": "stream",
          "text": [
            "              precision    recall  f1-score   support\n",
            "\n",
            "           0       0.80      0.95      0.87       309\n",
            "           1       0.82      0.46      0.59       136\n",
            "\n",
            "    accuracy                           0.80       445\n",
            "   macro avg       0.81      0.71      0.73       445\n",
            "weighted avg       0.81      0.80      0.79       445\n",
            "\n",
            "Fitting 3 folds for each of 30 candidates, totalling 90 fits\n"
          ],
          "name": "stdout"
        },
        {
          "output_type": "stream",
          "text": [
            "[Parallel(n_jobs=-1)]: Using backend LokyBackend with 2 concurrent workers.\n",
            "[Parallel(n_jobs=-1)]: Done  37 tasks      | elapsed:  1.1min\n",
            "[Parallel(n_jobs=-1)]: Done  90 out of  90 | elapsed:  2.5min finished\n"
          ],
          "name": "stderr"
        },
        {
          "output_type": "stream",
          "text": [
            "              precision    recall  f1-score   support\n",
            "\n",
            "           0       0.94      0.43      0.59       309\n",
            "           1       0.42      0.93      0.58       136\n",
            "\n",
            "    accuracy                           0.59       445\n",
            "   macro avg       0.68      0.68      0.59       445\n",
            "weighted avg       0.78      0.59      0.59       445\n",
            "\n"
          ],
          "name": "stdout"
        }
      ]
    },
    {
      "cell_type": "code",
      "metadata": {
        "id": "sgtMEBk-Nqo9",
        "colab_type": "code",
        "colab": {
          "base_uri": "https://localhost:8080/",
          "height": 459
        },
        "outputId": "13e805bc-525f-479f-f6d1-6aad8ec5d2d8"
      },
      "source": [
        "from sklearn.utils import resample\n",
        "\n",
        "# concatenate our training data back together\n",
        "HDDS_df = pd.concat([tz_clust_X_train, tz_clust_y_train['HDDS_category']], axis=1)\n",
        "\n",
        "\n",
        "HDDS_not_crisis = HDDS_df[HDDS_df.HDDS_category==0]\n",
        "HDDS_crisis = HDDS_df[HDDS_df.HDDS_category!=0]\n",
        "\n",
        "# separate minority and majority classes\n",
        "\n",
        "# upsample minority\n",
        "HDDS_crisis_upsampled = resample(HDDS_crisis,\n",
        "                                 replace=True, # sample with replacement\n",
        "                                 n_samples=len(HDDS_not_crisis), # match number in majority class\n",
        "                                 random_state=27) # reproducible results\n",
        "\n",
        "# combine majority and upsampled minority\n",
        "HDDS_upsampled = pd.concat([HDDS_not_crisis, HDDS_crisis_upsampled])\n",
        "\n",
        "HDDS_upsampled_y_train = HDDS_upsampled[\"HDDS_category\"]\n",
        "\n",
        "HDDS_upsampled_X_train = HDDS_upsampled.drop(\"HDDS_category\",axis=1)\n",
        "\n",
        "y_pred,y_test  = rfCLF (HDDS_upsampled_X_train,HDDS_upsampled_y_train, tz_clust_X_test,tz_clust_y_test['HDDS_category'] )\n",
        "\n",
        "print(classification_report(y_test, y_pred))\n",
        "\n",
        "y_pred,y_test  = XGBCLF (HDDS_upsampled_X_train,HDDS_upsampled_y_train, tz_clust_X_test,tz_clust_y_test['HDDS_category'] )\n",
        "\n",
        "print(classification_report(y_test, y_pred))\n",
        "\n",
        "\n",
        "\n",
        "\n"
      ],
      "execution_count": 219,
      "outputs": [
        {
          "output_type": "stream",
          "text": [
            "Fitting 3 folds for each of 30 candidates, totalling 90 fits\n"
          ],
          "name": "stdout"
        },
        {
          "output_type": "stream",
          "text": [
            "[Parallel(n_jobs=-1)]: Using backend LokyBackend with 2 concurrent workers.\n",
            "[Parallel(n_jobs=-1)]: Done  37 tasks      | elapsed:    6.6s\n",
            "[Parallel(n_jobs=-1)]: Done  90 out of  90 | elapsed:   13.6s finished\n",
            "[Parallel(n_jobs=-1)]: Using backend LokyBackend with 2 concurrent workers.\n"
          ],
          "name": "stderr"
        },
        {
          "output_type": "stream",
          "text": [
            "              precision    recall  f1-score   support\n",
            "\n",
            "           0       0.40      0.84      0.55        82\n",
            "           1       0.94      0.66      0.78       304\n",
            "\n",
            "    accuracy                           0.70       386\n",
            "   macro avg       0.67      0.75      0.66       386\n",
            "weighted avg       0.83      0.70      0.73       386\n",
            "\n",
            "Fitting 3 folds for each of 30 candidates, totalling 90 fits\n"
          ],
          "name": "stdout"
        },
        {
          "output_type": "stream",
          "text": [
            "[Parallel(n_jobs=-1)]: Done  37 tasks      | elapsed:   12.6s\n",
            "[Parallel(n_jobs=-1)]: Done  90 out of  90 | elapsed:   29.4s finished\n"
          ],
          "name": "stderr"
        },
        {
          "output_type": "stream",
          "text": [
            "              precision    recall  f1-score   support\n",
            "\n",
            "           0       0.40      0.84      0.54        82\n",
            "           1       0.94      0.65      0.77       304\n",
            "\n",
            "    accuracy                           0.69       386\n",
            "   macro avg       0.67      0.75      0.66       386\n",
            "weighted avg       0.82      0.69      0.72       386\n",
            "\n"
          ],
          "name": "stdout"
        }
      ]
    },
    {
      "cell_type": "code",
      "metadata": {
        "id": "B2XYCANhNr7H",
        "colab_type": "code",
        "colab": {
          "base_uri": "https://localhost:8080/",
          "height": 493
        },
        "outputId": "3b3b6aaa-18bc-4a62-f4cc-17e5aef5eea8"
      },
      "source": [
        "from sklearn.utils import resample\n",
        "\n",
        "# concatenate our training data back together\n",
        "FCS_df = pd.concat([tz_clust_X_train, tz_clust_y_train['FCS_category']], axis=1)\n",
        "\n",
        "\n",
        "FCS_not_crisis = FCS_df[FCS_df.FCS_category==0]\n",
        "FCS_crisis = FCS_df[FCS_df.FCS_category!=0]\n",
        "\n",
        "# separate minority and majority classes\n",
        "\n",
        "# upsample minority\n",
        "FCS_crisis_upsampled = resample(FCS_crisis,\n",
        "                                replace=True, # sample with replacement\n",
        "                                n_samples=len(FCS_not_crisis), # match number in majority class\n",
        "                                random_state=27) # reproducible results\n",
        "\n",
        "# combine majority and upsampled minority\n",
        "FCS_upsampled = pd.concat([FCS_not_crisis, FCS_crisis_upsampled])\n",
        "\n",
        "FCS_upsampled_y_train = FCS_upsampled[\"FCS_category\"]\n",
        "\n",
        "FCS_upsampled_X_train = FCS_upsampled.drop(\"FCS_category\",axis=1)\n",
        "\n",
        "y_pred,y_test  = rfCLF (FCS_upsampled_X_train,FCS_upsampled_y_train, tz_clust_X_test,tz_clust_y_test['FCS_category'] )\n",
        "\n",
        "print(classification_report(y_test, y_pred))\n",
        "\n",
        "y_pred,y_test  = XGBCLF (FCS_upsampled_X_train,FCS_upsampled_y_train, tz_clust_X_test,tz_clust_y_test['FCS_category'] )\n",
        "\n",
        "print(classification_report(y_test, y_pred))"
      ],
      "execution_count": 220,
      "outputs": [
        {
          "output_type": "stream",
          "text": [
            "Fitting 3 folds for each of 30 candidates, totalling 90 fits\n"
          ],
          "name": "stdout"
        },
        {
          "output_type": "stream",
          "text": [
            "[Parallel(n_jobs=-1)]: Using backend LokyBackend with 2 concurrent workers.\n",
            "[Parallel(n_jobs=-1)]: Done  37 tasks      | elapsed:   12.5s\n",
            "[Parallel(n_jobs=-1)]: Done  90 out of  90 | elapsed:   29.7s finished\n"
          ],
          "name": "stderr"
        },
        {
          "output_type": "stream",
          "text": [
            "              precision    recall  f1-score   support\n",
            "\n",
            "           0       0.93      0.92      0.92       342\n",
            "           1       0.39      0.44      0.41        43\n",
            "           2       0.00      0.00      0.00         1\n",
            "\n",
            "    accuracy                           0.86       386\n",
            "   macro avg       0.44      0.45      0.44       386\n",
            "weighted avg       0.87      0.86      0.86       386\n",
            "\n",
            "Fitting 3 folds for each of 30 candidates, totalling 90 fits\n"
          ],
          "name": "stdout"
        },
        {
          "output_type": "stream",
          "text": [
            "[Parallel(n_jobs=-1)]: Using backend LokyBackend with 2 concurrent workers.\n",
            "[Parallel(n_jobs=-1)]: Done  37 tasks      | elapsed:   55.9s\n",
            "[Parallel(n_jobs=-1)]: Done  90 out of  90 | elapsed:  2.1min finished\n"
          ],
          "name": "stderr"
        },
        {
          "output_type": "stream",
          "text": [
            "              precision    recall  f1-score   support\n",
            "\n",
            "           0       0.95      0.83      0.89       342\n",
            "           1       0.32      0.63      0.42        43\n",
            "           2       0.00      0.00      0.00         1\n",
            "\n",
            "    accuracy                           0.81       386\n",
            "   macro avg       0.42      0.49      0.44       386\n",
            "weighted avg       0.87      0.81      0.83       386\n",
            "\n"
          ],
          "name": "stdout"
        }
      ]
    },
    {
      "cell_type": "code",
      "metadata": {
        "id": "tvCn0iVSWhDV",
        "colab_type": "code",
        "colab": {
          "base_uri": "https://localhost:8080/",
          "height": 493
        },
        "outputId": "fd320978-88f1-4728-ae66-2cce159a622b"
      },
      "source": [
        "from sklearn.utils import resample\n",
        "\n",
        "# concatenate our training data back together\n",
        "rCSI_df = pd.concat([tz_clust_X_train, tz_clust_y_train['rCSI_category']], axis=1)\n",
        "\n",
        "\n",
        "rCSI_not_crisis = rCSI_df[rCSI_df.rCSI_category==0]\n",
        "rCSI_crisis = rCSI_df[rCSI_df.rCSI_category!=0]\n",
        "\n",
        "# separate minority and majority classes\n",
        "\n",
        "# upsample minority\n",
        "rCSI_crisis_upsampled = resample(rCSI_crisis,\n",
        "                                replace=True, # sample with replacement\n",
        "                                n_samples=len(rCSI_not_crisis), # match number in majority class\n",
        "                                random_state=27) # reproducible results\n",
        "\n",
        "# combine majority and upsampled minority\n",
        "rCSI_upsampled = pd.concat([rCSI_not_crisis, rCSI_crisis_upsampled])\n",
        "\n",
        "rCSI_upsampled_y_train = rCSI_upsampled[\"rCSI_category\"]\n",
        "\n",
        "rCSI_upsampled_X_train = rCSI_upsampled.drop(\"rCSI_category\",axis=1)\n",
        "\n",
        "y_pred,y_test  = rfCLF (rCSI_upsampled_X_train,rCSI_upsampled_y_train, tz_clust_X_test,tz_clust_y_test['rCSI_category'] )\n",
        "\n",
        "print(classification_report(y_test, y_pred))\n",
        "\n",
        "y_pred,y_test  = XGBCLF (rCSI_upsampled_X_train,rCSI_upsampled_y_train, tz_clust_X_test,tz_clust_y_test['rCSI_category'] )\n",
        "\n",
        "print(classification_report(y_test, y_pred))"
      ],
      "execution_count": 221,
      "outputs": [
        {
          "output_type": "stream",
          "text": [
            "Fitting 3 folds for each of 30 candidates, totalling 90 fits\n"
          ],
          "name": "stdout"
        },
        {
          "output_type": "stream",
          "text": [
            "[Parallel(n_jobs=-1)]: Using backend LokyBackend with 2 concurrent workers.\n",
            "[Parallel(n_jobs=-1)]: Done  37 tasks      | elapsed:   10.2s\n",
            "[Parallel(n_jobs=-1)]: Done  90 out of  90 | elapsed:   25.5s finished\n"
          ],
          "name": "stderr"
        },
        {
          "output_type": "stream",
          "text": [
            "              precision    recall  f1-score   support\n",
            "\n",
            "           0       0.66      0.78      0.72       227\n",
            "           1       0.55      0.43      0.49       153\n",
            "           2       0.00      0.00      0.00         6\n",
            "\n",
            "    accuracy                           0.63       386\n",
            "   macro avg       0.41      0.40      0.40       386\n",
            "weighted avg       0.61      0.63      0.61       386\n",
            "\n",
            "Fitting 3 folds for each of 30 candidates, totalling 90 fits\n"
          ],
          "name": "stdout"
        },
        {
          "output_type": "stream",
          "text": [
            "[Parallel(n_jobs=-1)]: Using backend LokyBackend with 2 concurrent workers.\n",
            "[Parallel(n_jobs=-1)]: Done  37 tasks      | elapsed:   45.2s\n",
            "[Parallel(n_jobs=-1)]: Done  90 out of  90 | elapsed:  1.7min finished\n"
          ],
          "name": "stderr"
        },
        {
          "output_type": "stream",
          "text": [
            "              precision    recall  f1-score   support\n",
            "\n",
            "           0       0.66      0.74      0.70       227\n",
            "           1       0.52      0.44      0.48       153\n",
            "           2       0.00      0.00      0.00         6\n",
            "\n",
            "    accuracy                           0.61       386\n",
            "   macro avg       0.39      0.39      0.39       386\n",
            "weighted avg       0.59      0.61      0.60       386\n",
            "\n"
          ],
          "name": "stdout"
        }
      ]
    },
    {
      "cell_type": "code",
      "metadata": {
        "id": "18sfKYpYbAt9",
        "colab_type": "code",
        "colab": {
          "base_uri": "https://localhost:8080/",
          "height": 493
        },
        "outputId": "62dd7ee2-e93c-4711-f1b3-1b7bfa7b81f2"
      },
      "source": [
        "from sklearn.utils import resample\n",
        "\n",
        "# concatenate our training data back together\n",
        "FCS_df = pd.concat([ug_clust_X_train, ug_clust_y_train['FCS_category']], axis=1)\n",
        "\n",
        "\n",
        "FCS_not_crisis = FCS_df[FCS_df.FCS_category==0]\n",
        "FCS_crisis = FCS_df[FCS_df.FCS_category!=0]\n",
        "\n",
        "# separate minority and majority classes\n",
        "\n",
        "# upsample minority\n",
        "FCS_crisis_upsampled = resample(FCS_crisis,\n",
        "                                replace=True, # sample with replacement\n",
        "                                n_samples=len(FCS_not_crisis), # match number in majority class\n",
        "                                random_state=27) # reproducible results\n",
        "\n",
        "# combine majority and upsampled minority\n",
        "FCS_upsampled = pd.concat([FCS_not_crisis, FCS_crisis_upsampled])\n",
        "\n",
        "FCS_upsampled_y_train = FCS_upsampled[\"FCS_category\"]\n",
        "\n",
        "FCS_upsampled_X_train = FCS_upsampled.drop(\"FCS_category\",axis=1)\n",
        "\n",
        "y_pred,y_test  = rfCLF (FCS_upsampled_X_train,FCS_upsampled_y_train, ug_clust_X_test,ug_clust_y_test['FCS_category'] )\n",
        "\n",
        "print(classification_report(y_test, y_pred))\n",
        "\n",
        "y_pred,y_test  = XGBCLF (FCS_upsampled_X_train,FCS_upsampled_y_train, ug_clust_X_test,ug_clust_y_test['FCS_category'] )\n",
        "\n",
        "print(classification_report(y_test, y_pred))"
      ],
      "execution_count": 222,
      "outputs": [
        {
          "output_type": "stream",
          "text": [
            "Fitting 3 folds for each of 30 candidates, totalling 90 fits\n"
          ],
          "name": "stdout"
        },
        {
          "output_type": "stream",
          "text": [
            "[Parallel(n_jobs=-1)]: Using backend LokyBackend with 2 concurrent workers.\n",
            "[Parallel(n_jobs=-1)]: Done  37 tasks      | elapsed:    5.5s\n",
            "[Parallel(n_jobs=-1)]: Done  90 out of  90 | elapsed:   14.3s finished\n"
          ],
          "name": "stderr"
        },
        {
          "output_type": "stream",
          "text": [
            "              precision    recall  f1-score   support\n",
            "\n",
            "           0       0.80      0.94      0.87       334\n",
            "           1       0.44      0.21      0.28        97\n",
            "           2       1.00      0.11      0.20         9\n",
            "\n",
            "    accuracy                           0.76       440\n",
            "   macro avg       0.75      0.42      0.45       440\n",
            "weighted avg       0.73      0.76      0.72       440\n",
            "\n",
            "Fitting 3 folds for each of 30 candidates, totalling 90 fits\n"
          ],
          "name": "stdout"
        },
        {
          "output_type": "stream",
          "text": [
            "[Parallel(n_jobs=-1)]: Using backend LokyBackend with 2 concurrent workers.\n",
            "[Parallel(n_jobs=-1)]: Done  37 tasks      | elapsed:   14.3s\n",
            "[Parallel(n_jobs=-1)]: Done  90 out of  90 | elapsed:   32.7s finished\n"
          ],
          "name": "stderr"
        },
        {
          "output_type": "stream",
          "text": [
            "              precision    recall  f1-score   support\n",
            "\n",
            "           0       0.80      0.93      0.86       334\n",
            "           1       0.42      0.24      0.30        97\n",
            "           2       0.00      0.00      0.00         9\n",
            "\n",
            "    accuracy                           0.75       440\n",
            "   macro avg       0.41      0.39      0.39       440\n",
            "weighted avg       0.70      0.75      0.72       440\n",
            "\n"
          ],
          "name": "stdout"
        }
      ]
    },
    {
      "cell_type": "code",
      "metadata": {
        "id": "UD3ywclqbFsJ",
        "colab_type": "code",
        "colab": {
          "base_uri": "https://localhost:8080/",
          "height": 476
        },
        "outputId": "85183715-7b61-4d33-f756-555a798e4171"
      },
      "source": [
        "from sklearn.utils import resample\n",
        "\n",
        "# concatenate our training data back together\n",
        "HDDS_df = pd.concat([ug_clust_X_train, ug_clust_y_train['HDDS_category']], axis=1)\n",
        "\n",
        "\n",
        "HDDS_not_crisis = HDDS_df[HDDS_df.HDDS_category==0]\n",
        "HDDS_crisis = HDDS_df[HDDS_df.HDDS_category!=0]\n",
        "\n",
        "# separate minority and majority classes\n",
        "\n",
        "# upsample minority\n",
        "HDDS_crisis_upsampled = resample(HDDS_crisis,\n",
        "                                replace=True, # sample with replacement\n",
        "                                n_samples=len(HDDS_not_crisis), # match number in majority class\n",
        "                                random_state=27) # reproducible results\n",
        "\n",
        "# combine majority and upsampled minority\n",
        "HDDS_upsampled = pd.concat([HDDS_not_crisis, HDDS_crisis_upsampled])\n",
        "\n",
        "HDDS_upsampled_y_train = HDDS_upsampled[\"HDDS_category\"]\n",
        "\n",
        "HDDS_upsampled_X_train = HDDS_upsampled.drop(\"HDDS_category\",axis=1)\n",
        "\n",
        "y_pred,y_test  = rfCLF (HDDS_upsampled_X_train,HDDS_upsampled_y_train, ug_clust_X_test,ug_clust_y_test['HDDS_category'] )\n",
        "\n",
        "print(classification_report(y_test, y_pred))\n",
        "\n",
        "y_pred,y_test  = XGBCLF (HDDS_upsampled_X_train,HDDS_upsampled_y_train, ug_clust_X_test,ug_clust_y_test['HDDS_category'] )\n",
        "\n",
        "print(classification_report(y_test, y_pred))"
      ],
      "execution_count": 224,
      "outputs": [
        {
          "output_type": "stream",
          "text": [
            "Fitting 3 folds for each of 30 candidates, totalling 90 fits\n"
          ],
          "name": "stdout"
        },
        {
          "output_type": "stream",
          "text": [
            "[Parallel(n_jobs=-1)]: Using backend LokyBackend with 2 concurrent workers.\n",
            "[Parallel(n_jobs=-1)]: Done  70 tasks      | elapsed:    4.8s\n",
            "[Parallel(n_jobs=-1)]: Done  90 out of  90 | elapsed:    6.2s finished\n",
            "[Parallel(n_jobs=-1)]: Using backend LokyBackend with 2 concurrent workers.\n"
          ],
          "name": "stderr"
        },
        {
          "output_type": "stream",
          "text": [
            "              precision    recall  f1-score   support\n",
            "\n",
            "           0       0.37      0.51      0.43        49\n",
            "           1       0.93      0.89      0.91       389\n",
            "           2       0.00      0.00      0.00         2\n",
            "\n",
            "    accuracy                           0.85       440\n",
            "   macro avg       0.43      0.47      0.45       440\n",
            "weighted avg       0.86      0.85      0.85       440\n",
            "\n",
            "Fitting 3 folds for each of 30 candidates, totalling 90 fits\n",
            "              precision    recall  f1-score   support\n",
            "\n",
            "           0       0.23      0.73      0.35        49\n",
            "           1       0.95      0.69      0.80       389\n",
            "           2       0.00      0.00      0.00         2\n",
            "\n",
            "    accuracy                           0.69       440\n",
            "   macro avg       0.39      0.48      0.38       440\n",
            "weighted avg       0.86      0.69      0.75       440\n",
            "\n"
          ],
          "name": "stdout"
        },
        {
          "output_type": "stream",
          "text": [
            "[Parallel(n_jobs=-1)]: Done  90 out of  90 | elapsed:    3.1s finished\n"
          ],
          "name": "stderr"
        }
      ]
    },
    {
      "cell_type": "code",
      "metadata": {
        "colab_type": "code",
        "id": "vpuqtRT6XlkB",
        "colab": {}
      },
      "source": [
        "import imblearn\n",
        "\n",
        "from imblearn.over_sampling import SMOTE\n",
        "\n",
        "smote = SMOTE(ratio='minority')\n",
        "X_sm, y_sm = smote.fit_sample(X, y)\n",
        "\n",
        "sm = SMOTE(random_state=27, ratio=1.0)\n",
        "X_train, y_train = sm.fit_sample(X_train, y_train\n",
        "                                )\n",
        "\n",
        "smote = LogisticRegression(solver='liblinear').fit(X_train, y_train)\n",
        "\n",
        "smote_pred = smote.predict(X_test)\n",
        "\n"
      ],
      "execution_count": 0,
      "outputs": []
    },
    {
      "cell_type": "markdown",
      "metadata": {
        "colab_type": "text",
        "id": "LsdAVsz0XtER"
      },
      "source": [
        "For example, we can cluster the records of the majority class, and do the under-sampling by removing records from each cluster, thus seeking to preserve information. In over-sampling, instead of creating exact copies of the minority class records, we can introduce small variations into those copies, creating more diverse synthetic samples.\n",
        "\n",
        "Let's apply some of these resampling techniques, using the Python library imbalanced-learn. It is compatible with scikit-learn and is part of scikit-learn-contrib projects."
      ]
    },
    {
      "cell_type": "code",
      "metadata": {
        "colab_type": "code",
        "id": "MIWQBGxvXz-O",
        "outputId": "59dd548c-dbd3-45bc-c05d-ee09c8c8fbfb",
        "colab": {
          "base_uri": "https://localhost:8080/",
          "height": 278
        }
      },
      "source": [
        "from sklearn.datasets import make_classification\n",
        "\n",
        "X, y = make_classification(\n",
        "    n_classes=2, class_sep=1.5, weights=[0.9, 0.1],\n",
        "    n_informative=3, n_redundant=1, flip_y=0,\n",
        "    n_features=20, n_clusters_per_class=1,\n",
        "    n_samples=100, random_state=10\n",
        ")\n",
        "\n",
        "df = pd.DataFrame(X)\n",
        "df['target'] = y\n",
        "df.target.value_counts().plot(kind='bar', title='Count (target)');\n"
      ],
      "execution_count": 0,
      "outputs": [
        {
          "output_type": "display_data",
          "data": {
            "image/png": "[encoded data removed]",
            "text/plain": [
              "<Figure size 432x288 with 1 Axes>"
            ]
          },
          "metadata": {
            "tags": []
          }
        }
      ]
    },
    {
      "cell_type": "code",
      "metadata": {
        "colab_type": "code",
        "id": "Uui299dHYPFa",
        "colab": {}
      },
      "source": [
        "from imblearn.over_sampling import RandomOverSampler\n",
        "\n",
        "ros = RandomOverSampler()\n",
        "X_ros, y_ros = ros.fit_sample(X, y)\n",
        "\n",
        "print(X_ros.shape[0] - X.shape[0], 'new random picked points')\n",
        "\n",
        "plot_2d_space(X_ros, y_ros, 'Random over-sampling')"
      ],
      "execution_count": 0,
      "outputs": []
    },
    {
      "cell_type": "code",
      "metadata": {
        "colab_type": "code",
        "id": "eLUx4gXKYPqN",
        "colab": {}
      },
      "source": [
        "from imblearn.under_sampling import TomekLinks\n",
        "\n",
        "tl = TomekLinks(return_indices=True, ratio='majority')\n",
        "X_tl, y_tl, id_tl = tl.fit_sample(X, y)\n",
        "\n",
        "print('Removed indexes:', id_tl)\n",
        "\n",
        "plot_2d_space(X_tl, y_tl, 'Tomek links under-sampling')"
      ],
      "execution_count": 0,
      "outputs": []
    },
    {
      "cell_type": "code",
      "metadata": {
        "colab_type": "code",
        "id": "GlGaG-IMZbhA",
        "colab": {}
      },
      "source": [
        "from imblearn.over_sampling import SMOTE\n",
        "\n",
        "smote = SMOTE(ratio='minority')\n",
        "X_sm, y_sm = smote.fit_sample(X, y)\n",
        "\n",
        "plot_2d_space(X_sm, y_sm, 'SMOTE over-sampling')"
      ],
      "execution_count": 0,
      "outputs": []
    },
    {
      "cell_type": "code",
      "metadata": {
        "colab_type": "code",
        "id": "pSZuMR4EZfPH",
        "colab": {}
      },
      "source": [
        "from imblearn.combine import SMOTETomek\n",
        "\n",
        "smt = SMOTETomek(ratio='auto')\n",
        "X_smt, y_smt = smt.fit_sample(X, y)\n",
        "\n",
        "plot_2d_space(X_smt, y_smt, 'SMOTE + Tomek links')"
      ],
      "execution_count": 0,
      "outputs": []
    },
    {
      "cell_type": "markdown",
      "metadata": {
        "colab_type": "text",
        "id": "4LMUHzzLYSdi"
      },
      "source": [
        "Under-sampling: Tomek links\n",
        "Tomek links are pairs of very close instances, but of opposite classes. Removing the instances of the majority class of each pair increases the space between the two classes, facilitating the classification process."
      ]
    },
    {
      "cell_type": "code",
      "metadata": {
        "colab_type": "code",
        "id": "h__-JaR3YUXv",
        "colab": {}
      },
      "source": [
        "print(\"Before OverSampling, counts of label '1': {}\".format(sum(y_train==1)))\n",
        "print(\"Before OverSampling, counts of label '0': {} \\n\".format(sum(y_train==0)))\n",
        "\n",
        "sm = SMOTE(random_state=2)\n",
        "X_train_res, y_train_res = sm.fit_sample(X_train, y_train.ravel())\n",
        "\n",
        "print('After OverSampling, the shape of train_X: {}'.format(X_train_res.shape))\n",
        "print('After OverSampling, the shape of train_y: {} \\n'.format(y_train_res.shape))\n",
        "\n",
        "print(\"After OverSampling, counts of label '1': {}\".format(sum(y_train_res==1)))\n",
        "print(\"After OverSampling, counts of label '0': {}\".format(sum(y_train_res==0)))\n"
      ],
      "execution_count": 0,
      "outputs": []
    },
    {
      "cell_type": "code",
      "metadata": {
        "colab_type": "code",
        "id": "VwwRHpWtl2rH",
        "colab": {}
      },
      "source": [
        "# confusion matrix , focus on improving the recall rate of the insecure class\n",
        "\n"
      ],
      "execution_count": 0,
      "outputs": []
    },
    {
      "cell_type": "code",
      "metadata": {
        "colab_type": "code",
        "id": "7m2r-MiEmEgQ",
        "colab": {}
      },
      "source": [
        "# One vs all and plot the AUC ( )"
      ],
      "execution_count": 0,
      "outputs": []
    },
    {
      "cell_type": "markdown",
      "metadata": {
        "colab_type": "text",
        "id": "MJ3dY58vWSEa"
      },
      "source": [
        "### Models"
      ]
    },
    {
      "cell_type": "markdown",
      "metadata": {
        "colab_type": "text",
        "id": "xchwjtYlnkEv"
      },
      "source": [
        "#### Linear Regression"
      ]
    },
    {
      "cell_type": "code",
      "metadata": {
        "colab_type": "code",
        "id": "YG-4RJ4lhUt0",
        "outputId": "fdfa2008-9f64-45bb-d4b4-278b2fb35cc3",
        "colab": {
          "base_uri": "https://localhost:8080/",
          "height": 198
        }
      },
      "source": [
        "from sklearn.linear_model import LinearRegression\n",
        "\n",
        "def fit_linear(X_train, X_test,y_train,y_test):\n",
        "\n",
        "    # Create and fit our linear regression model to training data\n",
        "    model = LinearRegression(fit_intercept=True)\n",
        "    model.fit(X_train, y_train)\n",
        "\n",
        "    # Compute model predictions for test data\n",
        "    pred = model.predict(X_test)\n",
        "\n",
        "    r2 = stats.pearsonr(y_test, pred)[0] ** 2\n",
        "    \n",
        "    return r2\n",
        "\n",
        "# implement the algorithm and present results\n",
        "result_table(function=fit_linear)"
      ],
      "execution_count": 0,
      "outputs": [
        {
          "output_type": "error",
          "ename": "NameError",
          "evalue": "ignored",
          "traceback": [
            "\u001b[0;31m---------------------------------------------------------------------------\u001b[0m",
            "\u001b[0;31mNameError\u001b[0m                                 Traceback (most recent call last)",
            "\u001b[0;32m<ipython-input-7-f60e5263d020>\u001b[0m in \u001b[0;36m<module>\u001b[0;34m()\u001b[0m\n\u001b[1;32m     15\u001b[0m \u001b[0;34m\u001b[0m\u001b[0m\n\u001b[1;32m     16\u001b[0m \u001b[0;31m# implement the algorithm and present results\u001b[0m\u001b[0;34m\u001b[0m\u001b[0;34m\u001b[0m\u001b[0;34m\u001b[0m\u001b[0m\n\u001b[0;32m---> 17\u001b[0;31m \u001b[0mresult_table\u001b[0m\u001b[0;34m(\u001b[0m\u001b[0mfunction\u001b[0m\u001b[0;34m=\u001b[0m\u001b[0mfit_linear\u001b[0m\u001b[0;34m)\u001b[0m\u001b[0;34m\u001b[0m\u001b[0;34m\u001b[0m\u001b[0m\n\u001b[0m",
            "\u001b[0;31mNameError\u001b[0m: name 'result_table' is not defined"
          ]
        }
      ]
    },
    {
      "cell_type": "markdown",
      "metadata": {
        "colab_type": "text",
        "id": "37T4L-Jrnn-v"
      },
      "source": [
        "#### Ridge"
      ]
    },
    {
      "cell_type": "code",
      "metadata": {
        "colab_type": "code",
        "id": "vK4myVU3iJrF",
        "outputId": "9c1665a4-38f6-4503-e619-abfc0ec40b19",
        "colab": {
          "base_uri": "https://localhost:8080/",
          "height": 235
        }
      },
      "source": [
        "from sklearn.linear_model import RidgeCV\n",
        "from sklearn.model_selection import RandomizedSearchCV\n",
        "\n",
        "\n",
        "def fit_ridge(X_train, X_test,y_train,y_test):\n",
        "\n",
        "  model = RidgeCV(alphas=[0.0, 1E-6, 1E-4, 1E-2, 1.0], fit_intercept=True, normalize=True, scoring=None, cv=5, gcv_mode='auto', store_cv_values=False) \n",
        "\n",
        "# Define different alpha values for different fits\n",
        "# alpha = [0.0, 1E-6, 1E-4, 1E-2, 1.0]\n",
        "\n",
        "  model.fit(X_train, y_train)\n",
        "\n",
        "  # Compute model predictions for test data\n",
        "  pred = model.predict(X_test)\n",
        "\n",
        "  r2 = stats.pearsonr(y_test, pred)[0] ** 2\n",
        "    \n",
        "  return r2\n",
        "\n",
        "\n",
        "\n",
        "# implement the algorithm and present results\n",
        "result_table(function=fit_ridge)"
      ],
      "execution_count": 0,
      "outputs": [
        {
          "output_type": "execute_result",
          "data": {
            "text/html": [
              "<div>\n",
              "<style scoped>\n",
              "    .dataframe tbody tr th:only-of-type {\n",
              "        vertical-align: middle;\n",
              "    }\n",
              "\n",
              "    .dataframe tbody tr th {\n",
              "        vertical-align: top;\n",
              "    }\n",
              "\n",
              "    .dataframe thead th {\n",
              "        text-align: right;\n",
              "    }\n",
              "</style>\n",
              "<table border=\"1\" class=\"dataframe\">\n",
              "  <thead>\n",
              "    <tr style=\"text-align: right;\">\n",
              "      <th></th>\n",
              "      <th>dataset</th>\n",
              "      <th>FCS</th>\n",
              "      <th>HDDS</th>\n",
              "      <th>rCSI</th>\n",
              "    </tr>\n",
              "  </thead>\n",
              "  <tbody>\n",
              "    <tr>\n",
              "      <th>0</th>\n",
              "      <td>Malawi_household</td>\n",
              "      <td>0.265</td>\n",
              "      <td>0.270</td>\n",
              "      <td>0.110</td>\n",
              "    </tr>\n",
              "    <tr>\n",
              "      <th>1</th>\n",
              "      <td>Malawi_cluster</td>\n",
              "      <td>0.431</td>\n",
              "      <td>0.642</td>\n",
              "      <td>0.217</td>\n",
              "    </tr>\n",
              "    <tr>\n",
              "      <th>2</th>\n",
              "      <td>Tanzania_household</td>\n",
              "      <td>0.048</td>\n",
              "      <td>0.006</td>\n",
              "      <td>0.015</td>\n",
              "    </tr>\n",
              "    <tr>\n",
              "      <th>3</th>\n",
              "      <td>Tanzania_cluster</td>\n",
              "      <td>0.153</td>\n",
              "      <td>0.020</td>\n",
              "      <td>0.087</td>\n",
              "    </tr>\n",
              "    <tr>\n",
              "      <th>4</th>\n",
              "      <td>Uganda_household</td>\n",
              "      <td>0.179</td>\n",
              "      <td>0.219</td>\n",
              "      <td>0.000</td>\n",
              "    </tr>\n",
              "    <tr>\n",
              "      <th>5</th>\n",
              "      <td>Uganda_cluster</td>\n",
              "      <td>0.365</td>\n",
              "      <td>0.421</td>\n",
              "      <td>0.000</td>\n",
              "    </tr>\n",
              "  </tbody>\n",
              "</table>\n",
              "</div>"
            ],
            "text/plain": [
              "              dataset    FCS   HDDS   rCSI\n",
              "0    Malawi_household  0.265  0.270  0.110\n",
              "1      Malawi_cluster  0.431  0.642  0.217\n",
              "2  Tanzania_household  0.048  0.006  0.015\n",
              "3    Tanzania_cluster  0.153  0.020  0.087\n",
              "4    Uganda_household  0.179  0.219  0.000\n",
              "5      Uganda_cluster  0.365  0.421  0.000"
            ]
          },
          "metadata": {
            "tags": []
          },
          "execution_count": 88
        }
      ]
    },
    {
      "cell_type": "code",
      "metadata": {
        "colab_type": "code",
        "id": "DfaZUtYJiT-g",
        "outputId": "5c8cf6f1-bb78-4097-eb2d-df65188d0454",
        "colab": {
          "base_uri": "https://localhost:8080/",
          "height": 198
        }
      },
      "source": [
        "from sklearn.linear_model import LassoCV\n",
        "\n",
        "def fit_lasso(X_train, X_test,y_train,y_test):\n",
        "\n",
        "    model = LassoCV(eps=0.001, n_alphas=100, alphas=(0.01, 2), fit_intercept=True,precompute='auto',n_jobs=4, random_state=0, selection='cyclic')\n",
        "\n",
        "    model.fit(X_train, y_train)\n",
        "    \n",
        "    pred = model.predict(X_test)\n",
        "\n",
        "    r2= stats.pearsonr(y_test, pred)[0] ** 2\n",
        "    return r2\n",
        "\n",
        "  \n",
        "# implement the algorithm and present results\n",
        "result_table(function=fit_lasso)"
      ],
      "execution_count": 0,
      "outputs": [
        {
          "output_type": "error",
          "ename": "NameError",
          "evalue": "ignored",
          "traceback": [
            "\u001b[0;31m---------------------------------------------------------------------------\u001b[0m",
            "\u001b[0;31mNameError\u001b[0m                                 Traceback (most recent call last)",
            "\u001b[0;32m<ipython-input-13-cbfa4d4a02ea>\u001b[0m in \u001b[0;36m<module>\u001b[0;34m()\u001b[0m\n\u001b[1;32m     14\u001b[0m \u001b[0;34m\u001b[0m\u001b[0m\n\u001b[1;32m     15\u001b[0m \u001b[0;31m# implement the algorithm and present results\u001b[0m\u001b[0;34m\u001b[0m\u001b[0;34m\u001b[0m\u001b[0;34m\u001b[0m\u001b[0m\n\u001b[0;32m---> 16\u001b[0;31m \u001b[0mresult_table\u001b[0m\u001b[0;34m(\u001b[0m\u001b[0mfunction\u001b[0m\u001b[0;34m=\u001b[0m\u001b[0mfit_lasso\u001b[0m\u001b[0;34m)\u001b[0m\u001b[0;34m\u001b[0m\u001b[0;34m\u001b[0m\u001b[0m\n\u001b[0m",
            "\u001b[0;31mNameError\u001b[0m: name 'result_table' is not defined"
          ]
        }
      ]
    },
    {
      "cell_type": "code",
      "metadata": {
        "colab_type": "code",
        "id": "cmys1Z7Ojfh-",
        "outputId": "d5e855c6-a528-48cc-ed10-6528111a2fa9",
        "colab": {
          "base_uri": "https://localhost:8080/",
          "height": 235
        }
      },
      "source": [
        "from sklearn.linear_model import ElasticNetCV\n",
        "\n",
        "def fit_en(X_train, X_test,y_train,y_test):\n",
        "\n",
        "\n",
        "    model = ElasticNetCV(alphas=(0.1,0.02,3,2), copy_X=True, cv=10, eps=0.004, fit_intercept=True,\n",
        "           l1_ratio=0.33, max_iter=1000, n_alphas=100, n_jobs=1,\n",
        "           normalize=False, positive=False, precompute='auto', random_state=0,\n",
        "           selection='cyclic', tol=0.0001, verbose=0)\n",
        "\n",
        "    model.fit(X_train, y_train)\n",
        "    \n",
        "    pred = model.predict(X_test)\n",
        "\n",
        "    r2= stats.pearsonr(y_test, pred)[0] ** 2\n",
        "    \n",
        "    return r2\n",
        "\n",
        "\n",
        "# implement the algorithm and present results\n",
        "result_table(function=fit_en)    \n",
        "    "
      ],
      "execution_count": 0,
      "outputs": [
        {
          "output_type": "execute_result",
          "data": {
            "text/html": [
              "<div>\n",
              "<style scoped>\n",
              "    .dataframe tbody tr th:only-of-type {\n",
              "        vertical-align: middle;\n",
              "    }\n",
              "\n",
              "    .dataframe tbody tr th {\n",
              "        vertical-align: top;\n",
              "    }\n",
              "\n",
              "    .dataframe thead th {\n",
              "        text-align: right;\n",
              "    }\n",
              "</style>\n",
              "<table border=\"1\" class=\"dataframe\">\n",
              "  <thead>\n",
              "    <tr style=\"text-align: right;\">\n",
              "      <th></th>\n",
              "      <th>dataset</th>\n",
              "      <th>FCS</th>\n",
              "      <th>HDDS</th>\n",
              "      <th>rCSI</th>\n",
              "    </tr>\n",
              "  </thead>\n",
              "  <tbody>\n",
              "    <tr>\n",
              "      <th>0</th>\n",
              "      <td>Malawi_household</td>\n",
              "      <td>0.377</td>\n",
              "      <td>0.259</td>\n",
              "      <td>0.094</td>\n",
              "    </tr>\n",
              "    <tr>\n",
              "      <th>1</th>\n",
              "      <td>Malawi_cluster</td>\n",
              "      <td>0.683</td>\n",
              "      <td>0.587</td>\n",
              "      <td>0.192</td>\n",
              "    </tr>\n",
              "    <tr>\n",
              "      <th>2</th>\n",
              "      <td>Tanzania_household</td>\n",
              "      <td>0.048</td>\n",
              "      <td>0.005</td>\n",
              "      <td>0.015</td>\n",
              "    </tr>\n",
              "    <tr>\n",
              "      <th>3</th>\n",
              "      <td>Tanzania_cluster</td>\n",
              "      <td>0.153</td>\n",
              "      <td>0.020</td>\n",
              "      <td>0.088</td>\n",
              "    </tr>\n",
              "    <tr>\n",
              "      <th>4</th>\n",
              "      <td>Uganda_household</td>\n",
              "      <td>0.141</td>\n",
              "      <td>0.219</td>\n",
              "      <td>0.000</td>\n",
              "    </tr>\n",
              "    <tr>\n",
              "      <th>5</th>\n",
              "      <td>Uganda_cluster</td>\n",
              "      <td>0.264</td>\n",
              "      <td>0.387</td>\n",
              "      <td>0.000</td>\n",
              "    </tr>\n",
              "  </tbody>\n",
              "</table>\n",
              "</div>"
            ],
            "text/plain": [
              "              dataset    FCS   HDDS   rCSI\n",
              "0    Malawi_household  0.377  0.259  0.094\n",
              "1      Malawi_cluster  0.683  0.587  0.192\n",
              "2  Tanzania_household  0.048  0.005  0.015\n",
              "3    Tanzania_cluster  0.153  0.020  0.088\n",
              "4    Uganda_household  0.141  0.219  0.000\n",
              "5      Uganda_cluster  0.264  0.387  0.000"
            ]
          },
          "metadata": {
            "tags": []
          },
          "execution_count": 91
        }
      ]
    },
    {
      "cell_type": "code",
      "metadata": {
        "colab_type": "code",
        "id": "NBViYIF3iJHS",
        "outputId": "339e59ac-6c01-482b-eeac-0948886166e4",
        "colab": {
          "base_uri": "https://localhost:8080/",
          "height": 235
        }
      },
      "source": [
        "from sklearn.ensemble import RandomForestRegressor\n",
        "\n",
        "def fit_rfc(X_train, X_test,y_train,y_test):\n",
        "  # Create Regressor with default properties\n",
        "  rfc = RandomForestRegressor(random_state =0,n_jobs =4,warm_start = True,max_depth=4, min_samples_leaf=5 )\n",
        "  \n",
        "  \n",
        "  parameters = {'max_depth':np.arange( 1,4, 1 ).tolist(), 'min_samples_leaf':np.arange( 1, 4, 1 ).tolist()}\n",
        "  model = GridSearchCV(rfc, parameters,cv=6, n_jobs= 4, iid = True,  refit= True,pre_dispatch= '2*n_jobs')\n",
        "\n",
        "  model.fit(X_train,y_train)\n",
        "  # Fit estimator and display score\n",
        "\n",
        "  # Regress on test data\n",
        "  pred = model.predict(X_test)\n",
        "\n",
        "  r2 = stats.pearsonr(y_test, pred)[0] ** 2\n",
        "    \n",
        "  return r2\n",
        "\n",
        "result_table(function=fit_rfc)"
      ],
      "execution_count": 0,
      "outputs": [
        {
          "output_type": "execute_result",
          "data": {
            "text/html": [
              "<div>\n",
              "<style scoped>\n",
              "    .dataframe tbody tr th:only-of-type {\n",
              "        vertical-align: middle;\n",
              "    }\n",
              "\n",
              "    .dataframe tbody tr th {\n",
              "        vertical-align: top;\n",
              "    }\n",
              "\n",
              "    .dataframe thead th {\n",
              "        text-align: right;\n",
              "    }\n",
              "</style>\n",
              "<table border=\"1\" class=\"dataframe\">\n",
              "  <thead>\n",
              "    <tr style=\"text-align: right;\">\n",
              "      <th></th>\n",
              "      <th>dataset</th>\n",
              "      <th>FCS</th>\n",
              "      <th>HDDS</th>\n",
              "      <th>rCSI</th>\n",
              "    </tr>\n",
              "  </thead>\n",
              "  <tbody>\n",
              "    <tr>\n",
              "      <th>0</th>\n",
              "      <td>Malawi_household</td>\n",
              "      <td>0.369</td>\n",
              "      <td>0.269</td>\n",
              "      <td>0.115</td>\n",
              "    </tr>\n",
              "    <tr>\n",
              "      <th>1</th>\n",
              "      <td>Malawi_cluster</td>\n",
              "      <td>0.713</td>\n",
              "      <td>0.706</td>\n",
              "      <td>0.267</td>\n",
              "    </tr>\n",
              "    <tr>\n",
              "      <th>2</th>\n",
              "      <td>Tanzania_household</td>\n",
              "      <td>0.195</td>\n",
              "      <td>0.221</td>\n",
              "      <td>0.048</td>\n",
              "    </tr>\n",
              "    <tr>\n",
              "      <th>3</th>\n",
              "      <td>Tanzania_cluster</td>\n",
              "      <td>0.289</td>\n",
              "      <td>0.385</td>\n",
              "      <td>0.127</td>\n",
              "    </tr>\n",
              "    <tr>\n",
              "      <th>4</th>\n",
              "      <td>Uganda_household</td>\n",
              "      <td>0.172</td>\n",
              "      <td>0.189</td>\n",
              "      <td>0.000</td>\n",
              "    </tr>\n",
              "    <tr>\n",
              "      <th>5</th>\n",
              "      <td>Uganda_cluster</td>\n",
              "      <td>0.314</td>\n",
              "      <td>0.435</td>\n",
              "      <td>0.000</td>\n",
              "    </tr>\n",
              "  </tbody>\n",
              "</table>\n",
              "</div>"
            ],
            "text/plain": [
              "              dataset    FCS   HDDS   rCSI\n",
              "0    Malawi_household  0.369  0.269  0.115\n",
              "1      Malawi_cluster  0.713  0.706  0.267\n",
              "2  Tanzania_household  0.195  0.221  0.048\n",
              "3    Tanzania_cluster  0.289  0.385  0.127\n",
              "4    Uganda_household  0.172  0.189  0.000\n",
              "5      Uganda_cluster  0.314  0.435  0.000"
            ]
          },
          "metadata": {
            "tags": []
          },
          "execution_count": 92
        }
      ]
    },
    {
      "cell_type": "code",
      "metadata": {
        "colab_type": "code",
        "id": "fz4_Tbc-sZ5q",
        "colab": {}
      },
      "source": [
        "from sklearn.ensemble import GradientBoostingRegressor\n",
        "\n",
        "# Create Regressor with default properties\n",
        "gbr = GradientBoostingRegressor(random_state=0,learning_rate=0.4, n_estimators=9,subsample=1, criterion='friedman_mse', min_samples_split=2)\n",
        "\n",
        "gbr.fit(x_train, y_train_new)\n",
        "pred = gbr.predict(x_test)\n",
        "\n",
        "actual =y_test_new\n",
        "r2_gbr= stats.pearsonr(actual, pred)[0] ** 2\n",
        "r2_gbr"
      ],
      "execution_count": 0,
      "outputs": []
    },
    {
      "cell_type": "code",
      "metadata": {
        "colab_type": "code",
        "id": "3KqsgrvlszWR",
        "colab": {}
      },
      "source": [
        "from sklearn.gaussian_process import  GaussianProcessRegressor\n",
        "\n",
        "# Import our kernels\n",
        "from sklearn.gaussian_process.kernels import Matern, WhiteKernel\n",
        "\n",
        "\n",
        "\n",
        "# Define custom kernel (Matern + noise)\n",
        "krnl = 2. + Matern(length_scale=1, nu=1.8) + WhiteKernel(noise_level=10)\n",
        "\n",
        "# Create Regressor with specified properties\n",
        "gpr = GaussianProcessRegressor(kernel=krnl, random_state=23)\n",
        "\n",
        "# Fit estimator and display score\n",
        "gpr= gpr.fit(x_train, y_train[labels[0]])\n",
        "pred = gpr.predict(x_test)\n",
        "actual = y_test[labels[0]]\n",
        "r2_gpr= stats.pearsonr(actual, pred)[0] ** 2\n",
        "r2_gpr\n",
        "\n",
        "pd = {'svc__C': st.uniform(0, 250),\n",
        "      'svc__gamma': g_vals}\n",
        " \n",
        "# Run randomized search\n",
        "rscv = RandomizedSearchCV(svp, param_distributions=pd,\n",
        "                          n_iter=num_samples)"
      ],
      "execution_count": 0,
      "outputs": []
    },
    {
      "cell_type": "markdown",
      "metadata": {
        "colab_type": "text",
        "id": "ANJyTHt4jkT7"
      },
      "source": [
        "## Visualization"
      ]
    },
    {
      "cell_type": "code",
      "metadata": {
        "colab_type": "code",
        "id": "BJC69mEDjhhG",
        "colab": {}
      },
      "source": [
        "fig, axs = plt.subplots(2, 2, figsize=(10, 10))\n",
        "axs[0, 0].scatter( actual_linear,pred_linear)\n",
        "axs[0, 0].plot(actual_linear,actual_linear, color='red')\n",
        "\n",
        "axs[1, 0].scatter( actual_rfr, pred_rfr)\n",
        "axs[1, 0].plot(actual_rfr, actual_rfr, color='red')\n",
        "\n",
        "\n",
        "axs[0, 1].scatter(actual_en ,pred_en )\n",
        "axs[0, 1].plot(actual_en,actual_en, color='red')\n",
        "\n",
        "axs[1, 1].scatter(actual_gbr, pred_gbr )\n",
        "axs[1, 1].plot(actual_gbr, actual_gbr, color='red')\n",
        "\n",
        "\n",
        "axs[0, 0].title.set_text('Scatter Plot Linear')\n",
        "axs[1, 0].title.set_text('Scatter Plot RandomForest')\n",
        "axs[0, 1].title.set_text('Scatter Plot ElasticNet')\n",
        "axs[1, 1].title.set_text('Scatter Plot GradientBoosting')\n",
        "plt.show()"
      ],
      "execution_count": 0,
      "outputs": []
    },
    {
      "cell_type": "markdown",
      "metadata": {
        "colab_type": "text",
        "id": "WWSlbeogjmtg"
      },
      "source": [
        "## Interpretation\n"
      ]
    },
    {
      "cell_type": "code",
      "metadata": {
        "colab_type": "code",
        "id": "YwonIW4_mEaL",
        "colab": {}
      },
      "source": [
        ""
      ],
      "execution_count": 0,
      "outputs": []
    },
    {
      "cell_type": "markdown",
      "metadata": {
        "colab_type": "text",
        "id": "AOGKa1sXYam9"
      },
      "source": [
        "Hit and misses "
      ]
    },
    {
      "cell_type": "code",
      "metadata": {
        "colab_type": "code",
        "id": "IHTFHwnXYbHR",
        "colab": {}
      },
      "source": [
        ""
      ],
      "execution_count": 0,
      "outputs": []
    },
    {
      "cell_type": "markdown",
      "metadata": {
        "colab_type": "text",
        "id": "k0RPD5FsYdVS"
      },
      "source": [
        "expand the prediction to grid level "
      ]
    }
  ]
}