{
  "nbformat": 4,
  "nbformat_minor": 0,
  "metadata": {
    "accelerator": "TPU",
    "colab": {
      "name": "Copy of Copy of Predict_FS_MW_EDA.ipynb",
      "version": "0.3.2",
      "provenance": [],
      "collapsed_sections": [
        "z4-7F9HoPcQq",
        "cZh5Qbven7hP",
        "etYt0_NGlWjx",
        "d3GE90dXmbJ4",
        "YP4qHrfXmno3",
        "fDnkoMgM_Xj5",
        "X6E32FdL_NGj",
        "1TQEf9mdw7al"
      ],
      "toc_visible": true,
      "include_colab_link": true
    },
    "kernelspec": {
      "display_name": "Python 3",
      "language": "python",
      "name": "python3"
    },
    "language_info": {
      "codemirror_mode": {
        "name": "ipython",
        "version": 3
      },
      "file_extension": ".py",
      "mimetype": "text/x-python",
      "name": "python",
      "nbconvert_exporter": "python",
      "pygments_lexer": "ipython3",
      "version": "3.6.3"
    }
  },
  "cells": [
    {
      "cell_type": "markdown",
      "metadata": {
        "id": "view-in-github",
        "colab_type": "text"
      },
      "source": [
        "<a href=\"https://colab.research.google.com/github/zhou100/FoodSecurityPrediction/blob/master/Predict_FS_analysis.ipynb\" target=\"_parent\"><img src=\"https://colab.research.google.com/assets/colab-badge.svg\" alt=\"Open In Colab\"/></a>"
      ]
    },
    {
      "cell_type": "markdown",
      "metadata": {
        "colab_type": "text",
        "id": "M84u2C8HfggW"
      },
      "source": [
        "# Use machine learning to predict food security"
      ]
    },
    {
      "cell_type": "code",
      "metadata": {
        "colab_type": "code",
        "id": "I19oMdkdgy5O",
        "colab": {}
      },
      "source": [
        "# Set up Notebook\n",
        "% matplotlib inline\n",
        "\n",
        "# Standard imports\n",
        "from sklearn.model_selection import GridSearchCV\n",
        "\n",
        "import numpy as np\n",
        "import pandas as pd\n",
        "import matplotlib.pyplot as plt\n",
        "import seaborn as sns\n",
        "import scipy.stats as stats\n",
        "from matplotlib import cm\n",
        "\n",
        "\n",
        "# We do this to ignore several specific Pandas warnings\n",
        "import warnings\n",
        "warnings.filterwarnings('ignore')\n",
        "from sklearn.metrics import explained_variance_score\n",
        "from sklearn.metrics import mean_absolute_error\n",
        "from sklearn.metrics import mean_squared_error\n",
        "from sklearn.metrics import median_absolute_error\n",
        "from sklearn.metrics import r2_score"
      ],
      "execution_count": 0,
      "outputs": []
    },
    {
      "cell_type": "markdown",
      "metadata": {
        "colab_type": "text",
        "id": "keVrDW_bUkj7"
      },
      "source": [
        " ## Read in the data cleaned out by R"
      ]
    },
    {
      "cell_type": "markdown",
      "metadata": {
        "colab_type": "text",
        "id": "zFRtuZDugFxL"
      },
      "source": [
        "If you are using google colab like me, you will need to mount your google drive first and  copy the cleaned dataset from the R project to your google drive. \n",
        "\n",
        "If you are using python/jupyter notebook locally, just point to the right directory. "
      ]
    },
    {
      "cell_type": "code",
      "metadata": {
        "id": "pL87zGxjfWxp",
        "colab_type": "code",
        "colab": {}
      },
      "source": [
        "# mw_clust= pd.read_csv(\"data/clean/dataset/mw_dataset_cluster.csv\")\n",
        "\n",
        "url = 'https://raw.githubusercontent.com/zhou100/FoodSecurityPrediction/master/data/clean/dataset/mw_dataset_cluster.csv'\n",
        "mw_clust = pd.read_csv(url)"
      ],
      "execution_count": 0,
      "outputs": []
    },
    {
      "cell_type": "code",
      "metadata": {
        "id": "Amj_OZ_9t4BK",
        "colab_type": "code",
        "colab": {}
      },
      "source": [
        "url_tz = 'https://raw.githubusercontent.com/zhou100/FoodSecurityPrediction/master/data/clean/dataset/tz_dataset_cluster.csv'\n",
        "tz_clust = pd.read_csv(url_tz)"
      ],
      "execution_count": 0,
      "outputs": []
    },
    {
      "cell_type": "code",
      "metadata": {
        "id": "N5pltNNPuCn9",
        "colab_type": "code",
        "outputId": "47f4aa30-8df5-4b78-98c4-bd7feaa03b2d",
        "colab": {
          "base_uri": "https://localhost:8080/",
          "height": 33
        }
      },
      "source": [
        "url_ug = 'https://raw.githubusercontent.com/zhou100/FoodSecurityPrediction/master/data/clean/dataset/ug_dataset_cluster.csv'\n",
        "ug_clust = pd.read_csv(url_ug)\n",
        "ug_clust = ug_clust.replace([np.inf, -np.inf], np.nan)\n",
        "ug_clust = ug_clust.dropna()\n",
        "ug_clust.isnull().values.any()"
      ],
      "execution_count": 167,
      "outputs": [
        {
          "output_type": "execute_result",
          "data": {
            "text/plain": [
              "False"
            ]
          },
          "metadata": {
            "tags": []
          },
          "execution_count": 167
        }
      ]
    },
    {
      "cell_type": "markdown",
      "metadata": {
        "colab_type": "text",
        "id": "sWyD9pyGg3tG"
      },
      "source": [
        "## Preprocessing data\n"
      ]
    },
    {
      "cell_type": "markdown",
      "metadata": {
        "colab_type": "text",
        "id": "z4-7F9HoPcQq"
      },
      "source": [
        "### One-hot encoding for string variables "
      ]
    },
    {
      "cell_type": "code",
      "metadata": {
        "colab_type": "code",
        "id": "o5G4izvkM1NP",
        "colab": {}
      },
      "source": [
        "mw_clust[\"FNID\"]= mw_clust[\"FNID\"].str.lstrip('MW2012C')\n",
        "fnid_mw_clust = pd.get_dummies(mw_clust[\"FNID\"],prefix='MW', drop_first=True)\n",
        "mw_clust = pd.concat([mw_clust, fnid_mw_clust], axis=1)"
      ],
      "execution_count": 0,
      "outputs": []
    },
    {
      "cell_type": "code",
      "metadata": {
        "colab_type": "code",
        "id": "NhZG9v9kZt4g",
        "outputId": "6015386e-2baa-4c92-c641-d44598d74af7",
        "colab": {
          "base_uri": "https://localhost:8080/",
          "height": 0
        }
      },
      "source": [
        "mw_clust.head()"
      ],
      "execution_count": 14,
      "outputs": [
        {
          "output_type": "execute_result",
          "data": {
            "text/html": [
              "<div>\n",
              "<style scoped>\n",
              "    .dataframe tbody tr th:only-of-type {\n",
              "        vertical-align: middle;\n",
              "    }\n",
              "\n",
              "    .dataframe tbody tr th {\n",
              "        vertical-align: top;\n",
              "    }\n",
              "\n",
              "    .dataframe thead th {\n",
              "        text-align: right;\n",
              "    }\n",
              "</style>\n",
              "<table border=\"1\" class=\"dataframe\">\n",
              "  <thead>\n",
              "    <tr style=\"text-align: right;\">\n",
              "      <th></th>\n",
              "      <th>FS_year</th>\n",
              "      <th>FNID</th>\n",
              "      <th>FCS</th>\n",
              "      <th>HDDS</th>\n",
              "      <th>rCSI</th>\n",
              "      <th>region_north</th>\n",
              "      <th>region_central</th>\n",
              "      <th>rural</th>\n",
              "      <th>dist_road</th>\n",
              "      <th>dist_admarc</th>\n",
              "      <th>dist_popcenter</th>\n",
              "      <th>percent_ag</th>\n",
              "      <th>nutri_severe_constraint</th>\n",
              "      <th>nutri_moderate_constraint</th>\n",
              "      <th>nutri_reten_severe_constraint</th>\n",
              "      <th>dummy_terrain_rough</th>\n",
              "      <th>FS_month</th>\n",
              "      <th>head_age</th>\n",
              "      <th>female_head</th>\n",
              "      <th>hhsize</th>\n",
              "      <th>floor_dirt_sand_dung</th>\n",
              "      <th>cell_phone</th>\n",
              "      <th>number_celphones</th>\n",
              "      <th>roof_not_natural</th>\n",
              "      <th>roof_iron</th>\n",
              "      <th>asset_index</th>\n",
              "      <th>clust_maize_price</th>\n",
              "      <th>clust_rice_price</th>\n",
              "      <th>clust_nuts_price</th>\n",
              "      <th>clust_beans_price</th>\n",
              "      <th>clust_maize_mktthin</th>\n",
              "      <th>clust_rice_mktthin</th>\n",
              "      <th>clust_nuts_mktthin</th>\n",
              "      <th>clust_beans_mktthin</th>\n",
              "      <th>lhz_maize_price</th>\n",
              "      <th>lhz_rice_price</th>\n",
              "      <th>lhz_nuts_price</th>\n",
              "      <th>lhz_beans_price</th>\n",
              "      <th>lhz_maize_mktthin</th>\n",
              "      <th>lhz_rice_mktthin</th>\n",
              "      <th>...</th>\n",
              "      <th>MW_3020213</th>\n",
              "      <th>MW_3020303</th>\n",
              "      <th>MW_3020403</th>\n",
              "      <th>MW_3020503</th>\n",
              "      <th>MW_3020513</th>\n",
              "      <th>MW_3020515</th>\n",
              "      <th>MW_3020603</th>\n",
              "      <th>MW_3020619</th>\n",
              "      <th>MW_3020703</th>\n",
              "      <th>MW_3020803</th>\n",
              "      <th>MW_3020813</th>\n",
              "      <th>MW_3020815</th>\n",
              "      <th>MW_3020913</th>\n",
              "      <th>MW_3030112</th>\n",
              "      <th>MW_3030114</th>\n",
              "      <th>MW_3030115</th>\n",
              "      <th>MW_3030204</th>\n",
              "      <th>MW_3030206</th>\n",
              "      <th>MW_3030214</th>\n",
              "      <th>MW_3030304</th>\n",
              "      <th>MW_3030306</th>\n",
              "      <th>MW_3030314</th>\n",
              "      <th>MW_3030404</th>\n",
              "      <th>MW_3030414</th>\n",
              "      <th>MW_3030506</th>\n",
              "      <th>MW_3030514</th>\n",
              "      <th>MW_3030519</th>\n",
              "      <th>MW_3030606</th>\n",
              "      <th>MW_3030613</th>\n",
              "      <th>MW_3030714</th>\n",
              "      <th>MW_3030716</th>\n",
              "      <th>MW_3030804</th>\n",
              "      <th>MW_3030816</th>\n",
              "      <th>MW_3030904</th>\n",
              "      <th>MW_3031005</th>\n",
              "      <th>MW_3031105</th>\n",
              "      <th>MW_3031206</th>\n",
              "      <th>MW_3031213</th>\n",
              "      <th>MW_3031313</th>\n",
              "      <th>MW_3999918</th>\n",
              "    </tr>\n",
              "  </thead>\n",
              "  <tbody>\n",
              "    <tr>\n",
              "      <th>0</th>\n",
              "      <td>2010</td>\n",
              "      <td>3010102</td>\n",
              "      <td>42.718750</td>\n",
              "      <td>5.375000</td>\n",
              "      <td>2.750000</td>\n",
              "      <td>1.0</td>\n",
              "      <td>0.0</td>\n",
              "      <td>1.000000</td>\n",
              "      <td>2.656875</td>\n",
              "      <td>12.016250</td>\n",
              "      <td>62.406875</td>\n",
              "      <td>20.875000</td>\n",
              "      <td>0.000000</td>\n",
              "      <td>1.000000</td>\n",
              "      <td>0.0</td>\n",
              "      <td>0</td>\n",
              "      <td>4.000000</td>\n",
              "      <td>45.375000</td>\n",
              "      <td>0.187500</td>\n",
              "      <td>5.937500</td>\n",
              "      <td>0.937500</td>\n",
              "      <td>0.250000</td>\n",
              "      <td>0.437500</td>\n",
              "      <td>0.125000</td>\n",
              "      <td>0.125000</td>\n",
              "      <td>-0.409163</td>\n",
              "      <td>44.282500</td>\n",
              "      <td>247.276000</td>\n",
              "      <td>235.426000</td>\n",
              "      <td>187.412000</td>\n",
              "      <td>0.2</td>\n",
              "      <td>0.0</td>\n",
              "      <td>0.0</td>\n",
              "      <td>0.0</td>\n",
              "      <td>51.144094</td>\n",
              "      <td>194.816929</td>\n",
              "      <td>233.930246</td>\n",
              "      <td>167.089217</td>\n",
              "      <td>0.400000</td>\n",
              "      <td>0.4</td>\n",
              "      <td>...</td>\n",
              "      <td>0</td>\n",
              "      <td>0</td>\n",
              "      <td>0</td>\n",
              "      <td>0</td>\n",
              "      <td>0</td>\n",
              "      <td>0</td>\n",
              "      <td>0</td>\n",
              "      <td>0</td>\n",
              "      <td>0</td>\n",
              "      <td>0</td>\n",
              "      <td>0</td>\n",
              "      <td>0</td>\n",
              "      <td>0</td>\n",
              "      <td>0</td>\n",
              "      <td>0</td>\n",
              "      <td>0</td>\n",
              "      <td>0</td>\n",
              "      <td>0</td>\n",
              "      <td>0</td>\n",
              "      <td>0</td>\n",
              "      <td>0</td>\n",
              "      <td>0</td>\n",
              "      <td>0</td>\n",
              "      <td>0</td>\n",
              "      <td>0</td>\n",
              "      <td>0</td>\n",
              "      <td>0</td>\n",
              "      <td>0</td>\n",
              "      <td>0</td>\n",
              "      <td>0</td>\n",
              "      <td>0</td>\n",
              "      <td>0</td>\n",
              "      <td>0</td>\n",
              "      <td>0</td>\n",
              "      <td>0</td>\n",
              "      <td>0</td>\n",
              "      <td>0</td>\n",
              "      <td>0</td>\n",
              "      <td>0</td>\n",
              "      <td>0</td>\n",
              "    </tr>\n",
              "    <tr>\n",
              "      <th>1</th>\n",
              "      <td>2013</td>\n",
              "      <td>3010102</td>\n",
              "      <td>41.500000</td>\n",
              "      <td>4.687500</td>\n",
              "      <td>11.625000</td>\n",
              "      <td>1.0</td>\n",
              "      <td>0.0</td>\n",
              "      <td>1.000000</td>\n",
              "      <td>2.250000</td>\n",
              "      <td>12.687500</td>\n",
              "      <td>62.562500</td>\n",
              "      <td>23.250000</td>\n",
              "      <td>0.000000</td>\n",
              "      <td>1.000000</td>\n",
              "      <td>0.0</td>\n",
              "      <td>0</td>\n",
              "      <td>4.000000</td>\n",
              "      <td>47.937500</td>\n",
              "      <td>0.250000</td>\n",
              "      <td>6.187500</td>\n",
              "      <td>0.937500</td>\n",
              "      <td>0.250000</td>\n",
              "      <td>0.250000</td>\n",
              "      <td>0.062500</td>\n",
              "      <td>0.062500</td>\n",
              "      <td>-0.587467</td>\n",
              "      <td>117.495000</td>\n",
              "      <td>338.092614</td>\n",
              "      <td>260.726301</td>\n",
              "      <td>169.705691</td>\n",
              "      <td>0.5</td>\n",
              "      <td>1.0</td>\n",
              "      <td>1.0</td>\n",
              "      <td>1.0</td>\n",
              "      <td>145.347005</td>\n",
              "      <td>390.687644</td>\n",
              "      <td>237.306038</td>\n",
              "      <td>271.791314</td>\n",
              "      <td>0.500000</td>\n",
              "      <td>1.0</td>\n",
              "      <td>...</td>\n",
              "      <td>0</td>\n",
              "      <td>0</td>\n",
              "      <td>0</td>\n",
              "      <td>0</td>\n",
              "      <td>0</td>\n",
              "      <td>0</td>\n",
              "      <td>0</td>\n",
              "      <td>0</td>\n",
              "      <td>0</td>\n",
              "      <td>0</td>\n",
              "      <td>0</td>\n",
              "      <td>0</td>\n",
              "      <td>0</td>\n",
              "      <td>0</td>\n",
              "      <td>0</td>\n",
              "      <td>0</td>\n",
              "      <td>0</td>\n",
              "      <td>0</td>\n",
              "      <td>0</td>\n",
              "      <td>0</td>\n",
              "      <td>0</td>\n",
              "      <td>0</td>\n",
              "      <td>0</td>\n",
              "      <td>0</td>\n",
              "      <td>0</td>\n",
              "      <td>0</td>\n",
              "      <td>0</td>\n",
              "      <td>0</td>\n",
              "      <td>0</td>\n",
              "      <td>0</td>\n",
              "      <td>0</td>\n",
              "      <td>0</td>\n",
              "      <td>0</td>\n",
              "      <td>0</td>\n",
              "      <td>0</td>\n",
              "      <td>0</td>\n",
              "      <td>0</td>\n",
              "      <td>0</td>\n",
              "      <td>0</td>\n",
              "      <td>0</td>\n",
              "    </tr>\n",
              "    <tr>\n",
              "      <th>2</th>\n",
              "      <td>2010</td>\n",
              "      <td>3010102</td>\n",
              "      <td>35.218750</td>\n",
              "      <td>4.937500</td>\n",
              "      <td>2.687500</td>\n",
              "      <td>1.0</td>\n",
              "      <td>0.0</td>\n",
              "      <td>1.000000</td>\n",
              "      <td>0.513750</td>\n",
              "      <td>10.821875</td>\n",
              "      <td>58.466875</td>\n",
              "      <td>48.687500</td>\n",
              "      <td>0.000000</td>\n",
              "      <td>1.000000</td>\n",
              "      <td>0.0</td>\n",
              "      <td>0</td>\n",
              "      <td>8.000000</td>\n",
              "      <td>43.187500</td>\n",
              "      <td>0.062500</td>\n",
              "      <td>5.437500</td>\n",
              "      <td>0.875000</td>\n",
              "      <td>0.250000</td>\n",
              "      <td>0.250000</td>\n",
              "      <td>0.187500</td>\n",
              "      <td>0.187500</td>\n",
              "      <td>-0.373761</td>\n",
              "      <td>31.591000</td>\n",
              "      <td>176.821000</td>\n",
              "      <td>180.817000</td>\n",
              "      <td>167.261000</td>\n",
              "      <td>0.0</td>\n",
              "      <td>0.0</td>\n",
              "      <td>0.0</td>\n",
              "      <td>0.0</td>\n",
              "      <td>30.082676</td>\n",
              "      <td>141.357511</td>\n",
              "      <td>92.399333</td>\n",
              "      <td>144.797615</td>\n",
              "      <td>1.000000</td>\n",
              "      <td>1.0</td>\n",
              "      <td>...</td>\n",
              "      <td>0</td>\n",
              "      <td>0</td>\n",
              "      <td>0</td>\n",
              "      <td>0</td>\n",
              "      <td>0</td>\n",
              "      <td>0</td>\n",
              "      <td>0</td>\n",
              "      <td>0</td>\n",
              "      <td>0</td>\n",
              "      <td>0</td>\n",
              "      <td>0</td>\n",
              "      <td>0</td>\n",
              "      <td>0</td>\n",
              "      <td>0</td>\n",
              "      <td>0</td>\n",
              "      <td>0</td>\n",
              "      <td>0</td>\n",
              "      <td>0</td>\n",
              "      <td>0</td>\n",
              "      <td>0</td>\n",
              "      <td>0</td>\n",
              "      <td>0</td>\n",
              "      <td>0</td>\n",
              "      <td>0</td>\n",
              "      <td>0</td>\n",
              "      <td>0</td>\n",
              "      <td>0</td>\n",
              "      <td>0</td>\n",
              "      <td>0</td>\n",
              "      <td>0</td>\n",
              "      <td>0</td>\n",
              "      <td>0</td>\n",
              "      <td>0</td>\n",
              "      <td>0</td>\n",
              "      <td>0</td>\n",
              "      <td>0</td>\n",
              "      <td>0</td>\n",
              "      <td>0</td>\n",
              "      <td>0</td>\n",
              "      <td>0</td>\n",
              "    </tr>\n",
              "    <tr>\n",
              "      <th>3</th>\n",
              "      <td>2010</td>\n",
              "      <td>3010508</td>\n",
              "      <td>35.218750</td>\n",
              "      <td>4.937500</td>\n",
              "      <td>2.687500</td>\n",
              "      <td>1.0</td>\n",
              "      <td>0.0</td>\n",
              "      <td>1.000000</td>\n",
              "      <td>0.513750</td>\n",
              "      <td>10.821875</td>\n",
              "      <td>58.466875</td>\n",
              "      <td>48.687500</td>\n",
              "      <td>0.000000</td>\n",
              "      <td>1.000000</td>\n",
              "      <td>0.0</td>\n",
              "      <td>0</td>\n",
              "      <td>8.000000</td>\n",
              "      <td>43.187500</td>\n",
              "      <td>0.062500</td>\n",
              "      <td>5.437500</td>\n",
              "      <td>0.875000</td>\n",
              "      <td>0.250000</td>\n",
              "      <td>0.250000</td>\n",
              "      <td>0.187500</td>\n",
              "      <td>0.187500</td>\n",
              "      <td>-0.373761</td>\n",
              "      <td>31.591000</td>\n",
              "      <td>176.821000</td>\n",
              "      <td>180.817000</td>\n",
              "      <td>167.261000</td>\n",
              "      <td>0.0</td>\n",
              "      <td>0.0</td>\n",
              "      <td>0.0</td>\n",
              "      <td>0.0</td>\n",
              "      <td>30.082676</td>\n",
              "      <td>141.357511</td>\n",
              "      <td>92.399333</td>\n",
              "      <td>144.797615</td>\n",
              "      <td>1.000000</td>\n",
              "      <td>1.0</td>\n",
              "      <td>...</td>\n",
              "      <td>0</td>\n",
              "      <td>0</td>\n",
              "      <td>0</td>\n",
              "      <td>0</td>\n",
              "      <td>0</td>\n",
              "      <td>0</td>\n",
              "      <td>0</td>\n",
              "      <td>0</td>\n",
              "      <td>0</td>\n",
              "      <td>0</td>\n",
              "      <td>0</td>\n",
              "      <td>0</td>\n",
              "      <td>0</td>\n",
              "      <td>0</td>\n",
              "      <td>0</td>\n",
              "      <td>0</td>\n",
              "      <td>0</td>\n",
              "      <td>0</td>\n",
              "      <td>0</td>\n",
              "      <td>0</td>\n",
              "      <td>0</td>\n",
              "      <td>0</td>\n",
              "      <td>0</td>\n",
              "      <td>0</td>\n",
              "      <td>0</td>\n",
              "      <td>0</td>\n",
              "      <td>0</td>\n",
              "      <td>0</td>\n",
              "      <td>0</td>\n",
              "      <td>0</td>\n",
              "      <td>0</td>\n",
              "      <td>0</td>\n",
              "      <td>0</td>\n",
              "      <td>0</td>\n",
              "      <td>0</td>\n",
              "      <td>0</td>\n",
              "      <td>0</td>\n",
              "      <td>0</td>\n",
              "      <td>0</td>\n",
              "      <td>0</td>\n",
              "    </tr>\n",
              "    <tr>\n",
              "      <th>4</th>\n",
              "      <td>2013</td>\n",
              "      <td>3010102</td>\n",
              "      <td>48.088235</td>\n",
              "      <td>5.058824</td>\n",
              "      <td>2.411765</td>\n",
              "      <td>1.0</td>\n",
              "      <td>0.0</td>\n",
              "      <td>0.941176</td>\n",
              "      <td>0.529412</td>\n",
              "      <td>11.411765</td>\n",
              "      <td>56.529412</td>\n",
              "      <td>45.764706</td>\n",
              "      <td>0.058824</td>\n",
              "      <td>0.941176</td>\n",
              "      <td>0.0</td>\n",
              "      <td>0</td>\n",
              "      <td>5.058824</td>\n",
              "      <td>45.647059</td>\n",
              "      <td>0.176471</td>\n",
              "      <td>5.529412</td>\n",
              "      <td>0.823529</td>\n",
              "      <td>0.411765</td>\n",
              "      <td>0.647059</td>\n",
              "      <td>0.352941</td>\n",
              "      <td>0.352941</td>\n",
              "      <td>-0.322886</td>\n",
              "      <td>119.627402</td>\n",
              "      <td>400.969080</td>\n",
              "      <td>379.379586</td>\n",
              "      <td>347.946196</td>\n",
              "      <td>0.0</td>\n",
              "      <td>1.0</td>\n",
              "      <td>1.0</td>\n",
              "      <td>1.0</td>\n",
              "      <td>96.706535</td>\n",
              "      <td>257.533827</td>\n",
              "      <td>244.449981</td>\n",
              "      <td>231.704856</td>\n",
              "      <td>0.627451</td>\n",
              "      <td>1.0</td>\n",
              "      <td>...</td>\n",
              "      <td>0</td>\n",
              "      <td>0</td>\n",
              "      <td>0</td>\n",
              "      <td>0</td>\n",
              "      <td>0</td>\n",
              "      <td>0</td>\n",
              "      <td>0</td>\n",
              "      <td>0</td>\n",
              "      <td>0</td>\n",
              "      <td>0</td>\n",
              "      <td>0</td>\n",
              "      <td>0</td>\n",
              "      <td>0</td>\n",
              "      <td>0</td>\n",
              "      <td>0</td>\n",
              "      <td>0</td>\n",
              "      <td>0</td>\n",
              "      <td>0</td>\n",
              "      <td>0</td>\n",
              "      <td>0</td>\n",
              "      <td>0</td>\n",
              "      <td>0</td>\n",
              "      <td>0</td>\n",
              "      <td>0</td>\n",
              "      <td>0</td>\n",
              "      <td>0</td>\n",
              "      <td>0</td>\n",
              "      <td>0</td>\n",
              "      <td>0</td>\n",
              "      <td>0</td>\n",
              "      <td>0</td>\n",
              "      <td>0</td>\n",
              "      <td>0</td>\n",
              "      <td>0</td>\n",
              "      <td>0</td>\n",
              "      <td>0</td>\n",
              "      <td>0</td>\n",
              "      <td>0</td>\n",
              "      <td>0</td>\n",
              "      <td>0</td>\n",
              "    </tr>\n",
              "  </tbody>\n",
              "</table>\n",
              "<p>5 rows × 111 columns</p>\n",
              "</div>"
            ],
            "text/plain": [
              "   FS_year     FNID        FCS  ...  MW_3031213  MW_3031313  MW_3999918\n",
              "0     2010  3010102  42.718750  ...           0           0           0\n",
              "1     2013  3010102  41.500000  ...           0           0           0\n",
              "2     2010  3010102  35.218750  ...           0           0           0\n",
              "3     2010  3010508  35.218750  ...           0           0           0\n",
              "4     2013  3010102  48.088235  ...           0           0           0\n",
              "\n",
              "[5 rows x 111 columns]"
            ]
          },
          "metadata": {
            "tags": []
          },
          "execution_count": 14
        }
      ]
    },
    {
      "cell_type": "code",
      "metadata": {
        "id": "P4HSNy0du4AC",
        "colab_type": "code",
        "outputId": "0ff8b0d0-2c2a-4628-cbe4-1815ebb8a479",
        "colab": {
          "base_uri": "https://localhost:8080/",
          "height": 0
        }
      },
      "source": [
        "tz_clust.head()"
      ],
      "execution_count": 15,
      "outputs": [
        {
          "output_type": "execute_result",
          "data": {
            "text/html": [
              "<div>\n",
              "<style scoped>\n",
              "    .dataframe tbody tr th:only-of-type {\n",
              "        vertical-align: middle;\n",
              "    }\n",
              "\n",
              "    .dataframe tbody tr th {\n",
              "        vertical-align: top;\n",
              "    }\n",
              "\n",
              "    .dataframe thead th {\n",
              "        text-align: right;\n",
              "    }\n",
              "</style>\n",
              "<table border=\"1\" class=\"dataframe\">\n",
              "  <thead>\n",
              "    <tr style=\"text-align: right;\">\n",
              "      <th></th>\n",
              "      <th>FS_year</th>\n",
              "      <th>FCS</th>\n",
              "      <th>HDDS</th>\n",
              "      <th>rCSI</th>\n",
              "      <th>rural</th>\n",
              "      <th>FS_month</th>\n",
              "      <th>region2</th>\n",
              "      <th>region3</th>\n",
              "      <th>region4</th>\n",
              "      <th>region5</th>\n",
              "      <th>region6</th>\n",
              "      <th>region7</th>\n",
              "      <th>region8</th>\n",
              "      <th>region9</th>\n",
              "      <th>region10</th>\n",
              "      <th>region11</th>\n",
              "      <th>region12</th>\n",
              "      <th>region13</th>\n",
              "      <th>region14</th>\n",
              "      <th>region15</th>\n",
              "      <th>region16</th>\n",
              "      <th>region17</th>\n",
              "      <th>region18</th>\n",
              "      <th>region19</th>\n",
              "      <th>region20</th>\n",
              "      <th>region21</th>\n",
              "      <th>region51</th>\n",
              "      <th>region52</th>\n",
              "      <th>region53</th>\n",
              "      <th>region54</th>\n",
              "      <th>region55</th>\n",
              "      <th>dist_road</th>\n",
              "      <th>dist_popcenter</th>\n",
              "      <th>percent_ag</th>\n",
              "      <th>nutri_severe_constraint</th>\n",
              "      <th>nutri_moderate_constraint</th>\n",
              "      <th>nutri_reten_severe_constraint</th>\n",
              "      <th>dummy_terrain_rough</th>\n",
              "      <th>head_age</th>\n",
              "      <th>female_head</th>\n",
              "      <th>asset_index</th>\n",
              "      <th>Cellphone</th>\n",
              "      <th>num_cell</th>\n",
              "      <th>floor_dirt_sand_dung</th>\n",
              "      <th>roof_not_natural</th>\n",
              "      <th>roof_iron</th>\n",
              "      <th>clust_maize_price</th>\n",
              "      <th>clust_rice_price</th>\n",
              "      <th>clust_bean_mktthin</th>\n",
              "      <th>clust_maize_mktthin</th>\n",
              "      <th>clust_rice_mktthin</th>\n",
              "      <th>lhz_maize_price</th>\n",
              "      <th>lhz_rice_price</th>\n",
              "      <th>lhz_bean_mktthin</th>\n",
              "      <th>lhz_maize_mktthin</th>\n",
              "      <th>lhz_rice_mktthin</th>\n",
              "      <th>raincytot</th>\n",
              "      <th>day1rain</th>\n",
              "      <th>maxdaysnorain</th>\n",
              "      <th>lhz_day1rain</th>\n",
              "      <th>gdd</th>\n",
              "      <th>tmean</th>\n",
              "      <th>lhz_raincytot</th>\n",
              "      <th>lhz_maxdaysnorain</th>\n",
              "      <th>heatdays</th>\n",
              "      <th>floodmax</th>\n",
              "      <th>lhz_floodmax</th>\n",
              "      <th>FCS_category</th>\n",
              "      <th>HDDS_category</th>\n",
              "    </tr>\n",
              "  </thead>\n",
              "  <tbody>\n",
              "    <tr>\n",
              "      <th>0</th>\n",
              "      <td>2015</td>\n",
              "      <td>43.375000</td>\n",
              "      <td>5.250000</td>\n",
              "      <td>6.125</td>\n",
              "      <td>1.0</td>\n",
              "      <td>4.0</td>\n",
              "      <td>0.0</td>\n",
              "      <td>0.0</td>\n",
              "      <td>0.0</td>\n",
              "      <td>0.0</td>\n",
              "      <td>0.0</td>\n",
              "      <td>0.0</td>\n",
              "      <td>0.0</td>\n",
              "      <td>0.0</td>\n",
              "      <td>1.0</td>\n",
              "      <td>0.0</td>\n",
              "      <td>0.0</td>\n",
              "      <td>0.0</td>\n",
              "      <td>0.0</td>\n",
              "      <td>0.0</td>\n",
              "      <td>0.0</td>\n",
              "      <td>0.0</td>\n",
              "      <td>0.0</td>\n",
              "      <td>0.0</td>\n",
              "      <td>0.0</td>\n",
              "      <td>0.0</td>\n",
              "      <td>0.0</td>\n",
              "      <td>0.0</td>\n",
              "      <td>0.0</td>\n",
              "      <td>0.0</td>\n",
              "      <td>0.0</td>\n",
              "      <td>13.464894</td>\n",
              "      <td>32.893617</td>\n",
              "      <td>32.898936</td>\n",
              "      <td>0.606383</td>\n",
              "      <td>0.313830</td>\n",
              "      <td>0.005319</td>\n",
              "      <td>0</td>\n",
              "      <td>41.375000</td>\n",
              "      <td>0.250000</td>\n",
              "      <td>-0.765501</td>\n",
              "      <td>0.625000</td>\n",
              "      <td>0.875000</td>\n",
              "      <td>0.625000</td>\n",
              "      <td>0.625000</td>\n",
              "      <td>0.625000</td>\n",
              "      <td>27708.0</td>\n",
              "      <td>175833.0</td>\n",
              "      <td>0.0</td>\n",
              "      <td>0.0</td>\n",
              "      <td>0.0</td>\n",
              "      <td>44926.970174</td>\n",
              "      <td>175166.466099</td>\n",
              "      <td>0.0</td>\n",
              "      <td>0.0</td>\n",
              "      <td>0.0</td>\n",
              "      <td>949.138410</td>\n",
              "      <td>5</td>\n",
              "      <td>148</td>\n",
              "      <td>81</td>\n",
              "      <td>213</td>\n",
              "      <td>27.410465</td>\n",
              "      <td>701.392269</td>\n",
              "      <td>142</td>\n",
              "      <td>213</td>\n",
              "      <td>0.0</td>\n",
              "      <td>0.0</td>\n",
              "      <td>0</td>\n",
              "      <td>1</td>\n",
              "    </tr>\n",
              "    <tr>\n",
              "      <th>1</th>\n",
              "      <td>2015</td>\n",
              "      <td>33.562500</td>\n",
              "      <td>4.500000</td>\n",
              "      <td>17.750</td>\n",
              "      <td>1.0</td>\n",
              "      <td>1.0</td>\n",
              "      <td>0.0</td>\n",
              "      <td>0.0</td>\n",
              "      <td>0.0</td>\n",
              "      <td>0.0</td>\n",
              "      <td>0.0</td>\n",
              "      <td>0.0</td>\n",
              "      <td>0.0</td>\n",
              "      <td>0.0</td>\n",
              "      <td>1.0</td>\n",
              "      <td>0.0</td>\n",
              "      <td>0.0</td>\n",
              "      <td>0.0</td>\n",
              "      <td>0.0</td>\n",
              "      <td>0.0</td>\n",
              "      <td>0.0</td>\n",
              "      <td>0.0</td>\n",
              "      <td>0.0</td>\n",
              "      <td>0.0</td>\n",
              "      <td>0.0</td>\n",
              "      <td>0.0</td>\n",
              "      <td>0.0</td>\n",
              "      <td>0.0</td>\n",
              "      <td>0.0</td>\n",
              "      <td>0.0</td>\n",
              "      <td>0.0</td>\n",
              "      <td>13.464894</td>\n",
              "      <td>32.893617</td>\n",
              "      <td>32.898936</td>\n",
              "      <td>0.606383</td>\n",
              "      <td>0.313830</td>\n",
              "      <td>0.005319</td>\n",
              "      <td>0</td>\n",
              "      <td>46.000000</td>\n",
              "      <td>0.125000</td>\n",
              "      <td>-0.886329</td>\n",
              "      <td>0.500000</td>\n",
              "      <td>0.500000</td>\n",
              "      <td>1.000000</td>\n",
              "      <td>0.000000</td>\n",
              "      <td>0.000000</td>\n",
              "      <td>21731.0</td>\n",
              "      <td>161538.0</td>\n",
              "      <td>0.0</td>\n",
              "      <td>0.0</td>\n",
              "      <td>0.0</td>\n",
              "      <td>38137.865269</td>\n",
              "      <td>156000.969581</td>\n",
              "      <td>0.0</td>\n",
              "      <td>0.0</td>\n",
              "      <td>0.0</td>\n",
              "      <td>948.396418</td>\n",
              "      <td>5</td>\n",
              "      <td>117</td>\n",
              "      <td>81</td>\n",
              "      <td>213</td>\n",
              "      <td>27.410465</td>\n",
              "      <td>701.392269</td>\n",
              "      <td>142</td>\n",
              "      <td>213</td>\n",
              "      <td>0.0</td>\n",
              "      <td>0.0</td>\n",
              "      <td>1</td>\n",
              "      <td>1</td>\n",
              "    </tr>\n",
              "    <tr>\n",
              "      <th>2</th>\n",
              "      <td>2014</td>\n",
              "      <td>34.000000</td>\n",
              "      <td>4.000000</td>\n",
              "      <td>0.000</td>\n",
              "      <td>1.0</td>\n",
              "      <td>7.0</td>\n",
              "      <td>0.0</td>\n",
              "      <td>0.0</td>\n",
              "      <td>0.0</td>\n",
              "      <td>0.0</td>\n",
              "      <td>0.0</td>\n",
              "      <td>0.0</td>\n",
              "      <td>0.0</td>\n",
              "      <td>0.0</td>\n",
              "      <td>1.0</td>\n",
              "      <td>0.0</td>\n",
              "      <td>0.0</td>\n",
              "      <td>0.0</td>\n",
              "      <td>0.0</td>\n",
              "      <td>0.0</td>\n",
              "      <td>0.0</td>\n",
              "      <td>0.0</td>\n",
              "      <td>0.0</td>\n",
              "      <td>0.0</td>\n",
              "      <td>0.0</td>\n",
              "      <td>0.0</td>\n",
              "      <td>0.0</td>\n",
              "      <td>0.0</td>\n",
              "      <td>0.0</td>\n",
              "      <td>0.0</td>\n",
              "      <td>0.0</td>\n",
              "      <td>17.142582</td>\n",
              "      <td>50.944231</td>\n",
              "      <td>23.662088</td>\n",
              "      <td>0.054945</td>\n",
              "      <td>0.708791</td>\n",
              "      <td>0.000000</td>\n",
              "      <td>0</td>\n",
              "      <td>57.000000</td>\n",
              "      <td>0.000000</td>\n",
              "      <td>-0.583524</td>\n",
              "      <td>0.000000</td>\n",
              "      <td>0.000000</td>\n",
              "      <td>1.000000</td>\n",
              "      <td>1.000000</td>\n",
              "      <td>1.000000</td>\n",
              "      <td>34125.0</td>\n",
              "      <td>154166.5</td>\n",
              "      <td>0.0</td>\n",
              "      <td>0.0</td>\n",
              "      <td>0.0</td>\n",
              "      <td>34493.312488</td>\n",
              "      <td>153017.457084</td>\n",
              "      <td>0.0</td>\n",
              "      <td>0.0</td>\n",
              "      <td>0.0</td>\n",
              "      <td>1008.294152</td>\n",
              "      <td>56</td>\n",
              "      <td>154</td>\n",
              "      <td>56</td>\n",
              "      <td>213</td>\n",
              "      <td>23.074113</td>\n",
              "      <td>1057.404969</td>\n",
              "      <td>122</td>\n",
              "      <td>213</td>\n",
              "      <td>0.0</td>\n",
              "      <td>0.0</td>\n",
              "      <td>1</td>\n",
              "      <td>1</td>\n",
              "    </tr>\n",
              "    <tr>\n",
              "      <th>3</th>\n",
              "      <td>2015</td>\n",
              "      <td>40.642857</td>\n",
              "      <td>4.142857</td>\n",
              "      <td>2.000</td>\n",
              "      <td>1.0</td>\n",
              "      <td>7.0</td>\n",
              "      <td>0.0</td>\n",
              "      <td>0.0</td>\n",
              "      <td>0.0</td>\n",
              "      <td>0.0</td>\n",
              "      <td>0.0</td>\n",
              "      <td>0.0</td>\n",
              "      <td>0.0</td>\n",
              "      <td>0.0</td>\n",
              "      <td>1.0</td>\n",
              "      <td>0.0</td>\n",
              "      <td>0.0</td>\n",
              "      <td>0.0</td>\n",
              "      <td>0.0</td>\n",
              "      <td>0.0</td>\n",
              "      <td>0.0</td>\n",
              "      <td>0.0</td>\n",
              "      <td>0.0</td>\n",
              "      <td>0.0</td>\n",
              "      <td>0.0</td>\n",
              "      <td>0.0</td>\n",
              "      <td>0.0</td>\n",
              "      <td>0.0</td>\n",
              "      <td>0.0</td>\n",
              "      <td>0.0</td>\n",
              "      <td>0.0</td>\n",
              "      <td>17.142582</td>\n",
              "      <td>50.944231</td>\n",
              "      <td>23.662088</td>\n",
              "      <td>0.054945</td>\n",
              "      <td>0.708791</td>\n",
              "      <td>0.000000</td>\n",
              "      <td>0</td>\n",
              "      <td>44.428571</td>\n",
              "      <td>0.571429</td>\n",
              "      <td>-0.895485</td>\n",
              "      <td>0.857143</td>\n",
              "      <td>1.285714</td>\n",
              "      <td>0.857143</td>\n",
              "      <td>0.571429</td>\n",
              "      <td>0.571429</td>\n",
              "      <td>33000.0</td>\n",
              "      <td>172778.0</td>\n",
              "      <td>0.0</td>\n",
              "      <td>0.0</td>\n",
              "      <td>0.0</td>\n",
              "      <td>33426.151812</td>\n",
              "      <td>171574.642544</td>\n",
              "      <td>0.0</td>\n",
              "      <td>0.0</td>\n",
              "      <td>0.0</td>\n",
              "      <td>946.519706</td>\n",
              "      <td>5</td>\n",
              "      <td>148</td>\n",
              "      <td>51</td>\n",
              "      <td>213</td>\n",
              "      <td>24.746366</td>\n",
              "      <td>779.541637</td>\n",
              "      <td>125</td>\n",
              "      <td>213</td>\n",
              "      <td>0.0</td>\n",
              "      <td>0.0</td>\n",
              "      <td>1</td>\n",
              "      <td>1</td>\n",
              "    </tr>\n",
              "    <tr>\n",
              "      <th>4</th>\n",
              "      <td>2015</td>\n",
              "      <td>53.625000</td>\n",
              "      <td>5.000000</td>\n",
              "      <td>9.375</td>\n",
              "      <td>0.0</td>\n",
              "      <td>7.0</td>\n",
              "      <td>0.0</td>\n",
              "      <td>0.0</td>\n",
              "      <td>0.0</td>\n",
              "      <td>0.0</td>\n",
              "      <td>0.0</td>\n",
              "      <td>0.0</td>\n",
              "      <td>0.0</td>\n",
              "      <td>0.0</td>\n",
              "      <td>1.0</td>\n",
              "      <td>0.0</td>\n",
              "      <td>0.0</td>\n",
              "      <td>0.0</td>\n",
              "      <td>0.0</td>\n",
              "      <td>0.0</td>\n",
              "      <td>0.0</td>\n",
              "      <td>0.0</td>\n",
              "      <td>0.0</td>\n",
              "      <td>0.0</td>\n",
              "      <td>0.0</td>\n",
              "      <td>0.0</td>\n",
              "      <td>0.0</td>\n",
              "      <td>0.0</td>\n",
              "      <td>0.0</td>\n",
              "      <td>0.0</td>\n",
              "      <td>0.0</td>\n",
              "      <td>15.661765</td>\n",
              "      <td>70.922549</td>\n",
              "      <td>19.411765</td>\n",
              "      <td>0.009804</td>\n",
              "      <td>0.774510</td>\n",
              "      <td>0.000000</td>\n",
              "      <td>0</td>\n",
              "      <td>50.625000</td>\n",
              "      <td>0.250000</td>\n",
              "      <td>0.050865</td>\n",
              "      <td>1.000000</td>\n",
              "      <td>1.875000</td>\n",
              "      <td>0.125000</td>\n",
              "      <td>1.000000</td>\n",
              "      <td>1.000000</td>\n",
              "      <td>33000.0</td>\n",
              "      <td>172778.0</td>\n",
              "      <td>0.0</td>\n",
              "      <td>0.0</td>\n",
              "      <td>0.0</td>\n",
              "      <td>33000.000000</td>\n",
              "      <td>172778.000000</td>\n",
              "      <td>0.0</td>\n",
              "      <td>0.0</td>\n",
              "      <td>0.0</td>\n",
              "      <td>922.248186</td>\n",
              "      <td>5</td>\n",
              "      <td>117</td>\n",
              "      <td>50</td>\n",
              "      <td>213</td>\n",
              "      <td>24.762482</td>\n",
              "      <td>807.468836</td>\n",
              "      <td>123</td>\n",
              "      <td>213</td>\n",
              "      <td>0.0</td>\n",
              "      <td>0.0</td>\n",
              "      <td>0</td>\n",
              "      <td>1</td>\n",
              "    </tr>\n",
              "  </tbody>\n",
              "</table>\n",
              "</div>"
            ],
            "text/plain": [
              "   FS_year        FCS      HDDS  ...  lhz_floodmax  FCS_category  HDDS_category\n",
              "0     2015  43.375000  5.250000  ...           0.0             0              1\n",
              "1     2015  33.562500  4.500000  ...           0.0             1              1\n",
              "2     2014  34.000000  4.000000  ...           0.0             1              1\n",
              "3     2015  40.642857  4.142857  ...           0.0             1              1\n",
              "4     2015  53.625000  5.000000  ...           0.0             0              1\n",
              "\n",
              "[5 rows x 69 columns]"
            ]
          },
          "metadata": {
            "tags": []
          },
          "execution_count": 15
        }
      ]
    },
    {
      "cell_type": "code",
      "metadata": {
        "id": "DhJste619U_E",
        "colab_type": "code",
        "outputId": "aa49fc8a-2cb2-4323-a23f-8dcaaef4e176",
        "colab": {
          "base_uri": "https://localhost:8080/",
          "height": 34
        }
      },
      "source": [
        "ug_clust['FCS_category']= pd.cut(x=ug_clust['FCS'], bins=[-1,28,42,200],labels= [2, 1, 0])\n",
        "ug_clust['HDDS_category']= pd.cut(x=ug_clust['HDDS'], bins=[-1,3,6,20],labels= [2, 1, 0])\n",
        "\n",
        "ug_clust.isnull().values.any()"
      ],
      "execution_count": 16,
      "outputs": [
        {
          "output_type": "execute_result",
          "data": {
            "text/plain": [
              "False"
            ]
          },
          "metadata": {
            "tags": []
          },
          "execution_count": 16
        }
      ]
    },
    {
      "cell_type": "code",
      "metadata": {
        "id": "zq_RKrrbu8fe",
        "colab_type": "code",
        "outputId": "cf4a58bd-813f-44ad-d98f-72dd0bd37855",
        "colab": {
          "base_uri": "https://localhost:8080/",
          "height": 217
        }
      },
      "source": [
        "ug_clust.head()"
      ],
      "execution_count": 17,
      "outputs": [
        {
          "output_type": "execute_result",
          "data": {
            "text/html": [
              "<div>\n",
              "<style scoped>\n",
              "    .dataframe tbody tr th:only-of-type {\n",
              "        vertical-align: middle;\n",
              "    }\n",
              "\n",
              "    .dataframe tbody tr th {\n",
              "        vertical-align: top;\n",
              "    }\n",
              "\n",
              "    .dataframe thead th {\n",
              "        text-align: right;\n",
              "    }\n",
              "</style>\n",
              "<table border=\"1\" class=\"dataframe\">\n",
              "  <thead>\n",
              "    <tr style=\"text-align: right;\">\n",
              "      <th></th>\n",
              "      <th>FS_year</th>\n",
              "      <th>FNID</th>\n",
              "      <th>FCS</th>\n",
              "      <th>HDDS</th>\n",
              "      <th>rural</th>\n",
              "      <th>FS_month</th>\n",
              "      <th>region2</th>\n",
              "      <th>region3</th>\n",
              "      <th>region4</th>\n",
              "      <th>dist_road</th>\n",
              "      <th>dist_popcenter</th>\n",
              "      <th>percent_ag</th>\n",
              "      <th>nutri_severe_constraint</th>\n",
              "      <th>nutri_moderate_constraint</th>\n",
              "      <th>nutri_reten_severe_constraint</th>\n",
              "      <th>dummy_terrain_rough</th>\n",
              "      <th>head_age</th>\n",
              "      <th>female_head</th>\n",
              "      <th>asset_index</th>\n",
              "      <th>Cellphone</th>\n",
              "      <th>num_cell</th>\n",
              "      <th>floor_dirt_sand_dung</th>\n",
              "      <th>roof_not_natural</th>\n",
              "      <th>roof_iron</th>\n",
              "      <th>clust_cassava_price</th>\n",
              "      <th>clust_bean_mktthin</th>\n",
              "      <th>clust_maize_mktthin</th>\n",
              "      <th>clust_cassava_mktthin</th>\n",
              "      <th>lhz_cassava_price</th>\n",
              "      <th>lhz_bean_mktthin</th>\n",
              "      <th>lhz_maize_mktthin</th>\n",
              "      <th>lhz_cassava_mktthin</th>\n",
              "      <th>raincytot</th>\n",
              "      <th>day1rain</th>\n",
              "      <th>maxdaysnorain</th>\n",
              "      <th>lhz_day1rain</th>\n",
              "      <th>gdd</th>\n",
              "      <th>tmean</th>\n",
              "      <th>lhz_raincytot</th>\n",
              "      <th>lhz_maxdaysnorain</th>\n",
              "      <th>floodmax</th>\n",
              "      <th>lhz_floodmax</th>\n",
              "      <th>FCS_category</th>\n",
              "      <th>HDDS_category</th>\n",
              "    </tr>\n",
              "  </thead>\n",
              "  <tbody>\n",
              "    <tr>\n",
              "      <th>0</th>\n",
              "      <td>2010</td>\n",
              "      <td>UG2011L141</td>\n",
              "      <td>47.5</td>\n",
              "      <td>3.0</td>\n",
              "      <td>0.0</td>\n",
              "      <td>12.0</td>\n",
              "      <td>0.0</td>\n",
              "      <td>0.0</td>\n",
              "      <td>0.0</td>\n",
              "      <td>0.81360</td>\n",
              "      <td>4.09120</td>\n",
              "      <td>22.0</td>\n",
              "      <td>0.0</td>\n",
              "      <td>1.0</td>\n",
              "      <td>0.0</td>\n",
              "      <td>0</td>\n",
              "      <td>31.0</td>\n",
              "      <td>0.0</td>\n",
              "      <td>1.933340</td>\n",
              "      <td>1.0</td>\n",
              "      <td>3.0</td>\n",
              "      <td>0.0</td>\n",
              "      <td>1.0</td>\n",
              "      <td>1.0</td>\n",
              "      <td>600.0</td>\n",
              "      <td>1.0</td>\n",
              "      <td>1.0</td>\n",
              "      <td>0.0</td>\n",
              "      <td>593.592838</td>\n",
              "      <td>1.00000</td>\n",
              "      <td>1.00000</td>\n",
              "      <td>0.000000</td>\n",
              "      <td>474.492036</td>\n",
              "      <td>3</td>\n",
              "      <td>28</td>\n",
              "      <td>3</td>\n",
              "      <td>123</td>\n",
              "      <td>25.129216</td>\n",
              "      <td>558.706113</td>\n",
              "      <td>2</td>\n",
              "      <td>0.0</td>\n",
              "      <td>0.0</td>\n",
              "      <td>0</td>\n",
              "      <td>2</td>\n",
              "    </tr>\n",
              "    <tr>\n",
              "      <th>1</th>\n",
              "      <td>2011</td>\n",
              "      <td>UG2011L141</td>\n",
              "      <td>20.0</td>\n",
              "      <td>3.0</td>\n",
              "      <td>1.0</td>\n",
              "      <td>1.0</td>\n",
              "      <td>0.0</td>\n",
              "      <td>0.0</td>\n",
              "      <td>0.0</td>\n",
              "      <td>40.43450</td>\n",
              "      <td>65.52810</td>\n",
              "      <td>0.0</td>\n",
              "      <td>0.0</td>\n",
              "      <td>0.0</td>\n",
              "      <td>0.0</td>\n",
              "      <td>0</td>\n",
              "      <td>45.0</td>\n",
              "      <td>0.0</td>\n",
              "      <td>-1.270643</td>\n",
              "      <td>1.0</td>\n",
              "      <td>1.0</td>\n",
              "      <td>1.0</td>\n",
              "      <td>1.0</td>\n",
              "      <td>1.0</td>\n",
              "      <td>900.0</td>\n",
              "      <td>1.0</td>\n",
              "      <td>1.0</td>\n",
              "      <td>0.0</td>\n",
              "      <td>702.971126</td>\n",
              "      <td>1.00000</td>\n",
              "      <td>1.00000</td>\n",
              "      <td>0.028336</td>\n",
              "      <td>1823.754595</td>\n",
              "      <td>3</td>\n",
              "      <td>143</td>\n",
              "      <td>3</td>\n",
              "      <td>488</td>\n",
              "      <td>23.691104</td>\n",
              "      <td>1866.829980</td>\n",
              "      <td>18</td>\n",
              "      <td>0.0</td>\n",
              "      <td>0.0</td>\n",
              "      <td>2</td>\n",
              "      <td>2</td>\n",
              "    </tr>\n",
              "    <tr>\n",
              "      <th>2</th>\n",
              "      <td>2012</td>\n",
              "      <td>UG2011L137</td>\n",
              "      <td>52.0</td>\n",
              "      <td>5.4</td>\n",
              "      <td>1.0</td>\n",
              "      <td>4.0</td>\n",
              "      <td>0.0</td>\n",
              "      <td>0.0</td>\n",
              "      <td>0.0</td>\n",
              "      <td>24.63892</td>\n",
              "      <td>48.91718</td>\n",
              "      <td>19.8</td>\n",
              "      <td>0.2</td>\n",
              "      <td>0.2</td>\n",
              "      <td>0.2</td>\n",
              "      <td>0</td>\n",
              "      <td>36.2</td>\n",
              "      <td>0.4</td>\n",
              "      <td>-0.033716</td>\n",
              "      <td>0.8</td>\n",
              "      <td>0.8</td>\n",
              "      <td>0.8</td>\n",
              "      <td>1.0</td>\n",
              "      <td>1.0</td>\n",
              "      <td>1193.6</td>\n",
              "      <td>0.0</td>\n",
              "      <td>0.0</td>\n",
              "      <td>0.0</td>\n",
              "      <td>1197.521782</td>\n",
              "      <td>0.01498</td>\n",
              "      <td>0.01498</td>\n",
              "      <td>0.014980</td>\n",
              "      <td>2040.792751</td>\n",
              "      <td>17</td>\n",
              "      <td>40</td>\n",
              "      <td>14</td>\n",
              "      <td>489</td>\n",
              "      <td>23.937279</td>\n",
              "      <td>1939.734309</td>\n",
              "      <td>24</td>\n",
              "      <td>0.0</td>\n",
              "      <td>0.0</td>\n",
              "      <td>0</td>\n",
              "      <td>1</td>\n",
              "    </tr>\n",
              "    <tr>\n",
              "      <th>3</th>\n",
              "      <td>2012</td>\n",
              "      <td>UG2011L140</td>\n",
              "      <td>52.0</td>\n",
              "      <td>5.4</td>\n",
              "      <td>1.0</td>\n",
              "      <td>4.0</td>\n",
              "      <td>0.0</td>\n",
              "      <td>0.0</td>\n",
              "      <td>0.0</td>\n",
              "      <td>24.63892</td>\n",
              "      <td>48.91718</td>\n",
              "      <td>19.8</td>\n",
              "      <td>0.2</td>\n",
              "      <td>0.2</td>\n",
              "      <td>0.2</td>\n",
              "      <td>0</td>\n",
              "      <td>36.2</td>\n",
              "      <td>0.4</td>\n",
              "      <td>-0.033716</td>\n",
              "      <td>0.8</td>\n",
              "      <td>0.8</td>\n",
              "      <td>0.8</td>\n",
              "      <td>1.0</td>\n",
              "      <td>1.0</td>\n",
              "      <td>1193.6</td>\n",
              "      <td>0.0</td>\n",
              "      <td>0.0</td>\n",
              "      <td>0.0</td>\n",
              "      <td>1197.521782</td>\n",
              "      <td>0.01498</td>\n",
              "      <td>0.01498</td>\n",
              "      <td>0.014980</td>\n",
              "      <td>2040.792751</td>\n",
              "      <td>17</td>\n",
              "      <td>40</td>\n",
              "      <td>5</td>\n",
              "      <td>489</td>\n",
              "      <td>23.030044</td>\n",
              "      <td>1967.415063</td>\n",
              "      <td>22</td>\n",
              "      <td>0.0</td>\n",
              "      <td>0.0</td>\n",
              "      <td>0</td>\n",
              "      <td>1</td>\n",
              "    </tr>\n",
              "    <tr>\n",
              "      <th>4</th>\n",
              "      <td>2012</td>\n",
              "      <td>UG2011L141</td>\n",
              "      <td>52.0</td>\n",
              "      <td>5.4</td>\n",
              "      <td>1.0</td>\n",
              "      <td>4.0</td>\n",
              "      <td>0.0</td>\n",
              "      <td>0.0</td>\n",
              "      <td>0.0</td>\n",
              "      <td>24.63892</td>\n",
              "      <td>48.91718</td>\n",
              "      <td>19.8</td>\n",
              "      <td>0.2</td>\n",
              "      <td>0.2</td>\n",
              "      <td>0.2</td>\n",
              "      <td>0</td>\n",
              "      <td>36.2</td>\n",
              "      <td>0.4</td>\n",
              "      <td>-0.033716</td>\n",
              "      <td>0.8</td>\n",
              "      <td>0.8</td>\n",
              "      <td>0.8</td>\n",
              "      <td>1.0</td>\n",
              "      <td>1.0</td>\n",
              "      <td>1193.6</td>\n",
              "      <td>0.0</td>\n",
              "      <td>0.0</td>\n",
              "      <td>0.0</td>\n",
              "      <td>1197.521782</td>\n",
              "      <td>0.01498</td>\n",
              "      <td>0.01498</td>\n",
              "      <td>0.014980</td>\n",
              "      <td>2040.792751</td>\n",
              "      <td>17</td>\n",
              "      <td>40</td>\n",
              "      <td>5</td>\n",
              "      <td>489</td>\n",
              "      <td>23.658749</td>\n",
              "      <td>2223.933356</td>\n",
              "      <td>13</td>\n",
              "      <td>0.0</td>\n",
              "      <td>0.0</td>\n",
              "      <td>0</td>\n",
              "      <td>1</td>\n",
              "    </tr>\n",
              "  </tbody>\n",
              "</table>\n",
              "</div>"
            ],
            "text/plain": [
              "   FS_year        FNID   FCS  ...  lhz_floodmax  FCS_category  HDDS_category\n",
              "0     2010  UG2011L141  47.5  ...           0.0             0              2\n",
              "1     2011  UG2011L141  20.0  ...           0.0             2              2\n",
              "2     2012  UG2011L137  52.0  ...           0.0             0              1\n",
              "3     2012  UG2011L140  52.0  ...           0.0             0              1\n",
              "4     2012  UG2011L141  52.0  ...           0.0             0              1\n",
              "\n",
              "[5 rows x 44 columns]"
            ]
          },
          "metadata": {
            "tags": []
          },
          "execution_count": 17
        }
      ]
    },
    {
      "cell_type": "code",
      "metadata": {
        "id": "rnL-llJixXJl",
        "colab_type": "code",
        "colab": {}
      },
      "source": [
        "ug_clust = ug_clust.drop(\"FNID\",axis =1 )"
      ],
      "execution_count": 0,
      "outputs": []
    },
    {
      "cell_type": "code",
      "metadata": {
        "id": "q_cqm_RO7LXk",
        "colab_type": "code",
        "outputId": "a0e47a39-4619-4b2f-923e-fa0d490e2f18",
        "colab": {
          "base_uri": "https://localhost:8080/",
          "height": 34
        }
      },
      "source": [
        "ug_clust.isnull().values.any()"
      ],
      "execution_count": 19,
      "outputs": [
        {
          "output_type": "execute_result",
          "data": {
            "text/plain": [
              "False"
            ]
          },
          "metadata": {
            "tags": []
          },
          "execution_count": 19
        }
      ]
    },
    {
      "cell_type": "markdown",
      "metadata": {
        "colab_type": "text",
        "id": "EHTKzlm8G7rS"
      },
      "source": [
        "# Methodology\n"
      ]
    },
    {
      "cell_type": "markdown",
      "metadata": {
        "colab_type": "text",
        "id": "G1SERn3aHD_P"
      },
      "source": [
        "This section will explain our main approach with the data.\n",
        "\n",
        "1. Focus on categorical prediciton for the given cutoffs. \n",
        "\n",
        "Reasons: Close to the actual policy scenarios where we focus on capturing all the insecure households. Recall rate of the insecure villages is more important than the over all accuracy. \n",
        "\n",
        "Can apply the down sampling and over sampling technique here to improve \n",
        "\n",
        "\n",
        "2.  Algorithms to try : tree classifier, random forest classifier, xgboost \n",
        "\n",
        "2.1. By categories, vs one or rest\n",
        "\n",
        "2.2.  Parameter Tuning\n",
        "\n",
        "2.3 . feature importance analysis\n",
        "\n",
        "\n",
        "3.  Error analysis by region, by group, by month\n",
        "\n",
        "4.  Train model by division separtely Auto-segmentation by training a shallow tree in each country based on observables \n",
        "\n",
        "5. Model combination: what happens when we train on all the data \n",
        "\n",
        "6. Model generalization issues: what happens when we directly apply  models trained on one country to predict another \n",
        "\n",
        "\n",
        "\n",
        "\n",
        "\n"
      ]
    },
    {
      "cell_type": "markdown",
      "metadata": {
        "colab_type": "text",
        "id": "DSo3Zuh0jAN8"
      },
      "source": [
        "## Exploratory Data Analysis  "
      ]
    },
    {
      "cell_type": "markdown",
      "metadata": {
        "colab_type": "text",
        "id": "0EVf0OgQhyzj"
      },
      "source": [
        "### Measures:  plot target measures by year by country\n"
      ]
    },
    {
      "cell_type": "code",
      "metadata": {
        "colab_type": "code",
        "id": "vQVpjOMObguF",
        "outputId": "504c55e8-7e02-4040-9370-e7a965aa671a",
        "colab": {
          "base_uri": "https://localhost:8080/",
          "height": 271
        }
      },
      "source": [
        "# cut the outcome variables by the cutoffs\n",
        "#mw_clust['FCS_category']= pd.cut(x=mw_clust['FCS'], bins=[-1,28,42,100],labels= [\"Poor\", \"Borderline\", \"Acceptable\"])\n",
        "mw_clust['FCS_category']= pd.cut(x=mw_clust['FCS'], bins=[-1,28,42,100],labels= [2, 1, 0])\n",
        "\n",
        "mw_clust['FCS_category'].value_counts().plot(kind='pie', title='',autopct = \"%.2f%%\", colors = ['chartreuse', 'aqua','red'])\n"
      ],
      "execution_count": 176,
      "outputs": [
        {
          "output_type": "execute_result",
          "data": {
            "text/plain": [
              "<matplotlib.axes._subplots.AxesSubplot at 0x7f77986a9978>"
            ]
          },
          "metadata": {
            "tags": []
          },
          "execution_count": 176
        },
        {
          "output_type": "display_data",
          "data": {
            "image/png": "[encoded data removed]",
            "text/plain": [
              "<Figure size 432x288 with 1 Axes>"
            ]
          },
          "metadata": {
            "tags": []
          }
        }
      ]
    },
    {
      "cell_type": "code",
      "metadata": {
        "id": "AIx2rKlW-Yyo",
        "colab_type": "code",
        "colab": {
          "base_uri": "https://localhost:8080/",
          "height": 271
        },
        "outputId": "6b026d84-b0a3-4c43-aae4-2d6858f0c94e"
      },
      "source": [
        "\n",
        "\n",
        " # HDDS 3 and 6\n",
        "#mw_clust['HDDS_category']= pd.cut(x=mw_clust['HDDS'], bins=[0,3,6,10],labels= [\"Low Diversity\",\"Medium Diversity\",\"Good Diversity\"])\n",
        "mw_clust['HDDS_category']= pd.cut(x=mw_clust['HDDS'], bins=[0,3,6,10],labels= [2, 1, 0])\n",
        "  \n",
        "mw_clust['HDDS_category'].value_counts().plot(kind='pie', title='',autopct = \"%.2f%%\", colors = ['aqua','chartreuse','red'])"
      ],
      "execution_count": 177,
      "outputs": [
        {
          "output_type": "execute_result",
          "data": {
            "text/plain": [
              "<matplotlib.axes._subplots.AxesSubplot at 0x7f779865eeb8>"
            ]
          },
          "metadata": {
            "tags": []
          },
          "execution_count": 177
        },
        {
          "output_type": "display_data",
          "data": {
            "image/png": "[encoded data removed]",
            "text/plain": [
              "<Figure size 432x288 with 1 Axes>"
            ]
          },
          "metadata": {
            "tags": []
          }
        }
      ]
    },
    {
      "cell_type": "code",
      "metadata": {
        "id": "KJyKFv0lEI82",
        "colab_type": "code",
        "colab": {
          "base_uri": "https://localhost:8080/",
          "height": 271
        },
        "outputId": "1bd1bd93-8a61-4c92-e651-436750c9facc"
      },
      "source": [
        "\n",
        "\n",
        "# rCSI 4 and 17  and 42\n",
        "# mw_clust['rCSI_category']= pd.cut(x=mw_clust['rCSI'], bins=[-1,4,17,42],labels= [\"Food Secure\",\"Mildly insecure\",\"Moderately insecure\"])\n",
        "  \n",
        "mw_clust['rCSI_category']= pd.cut(x=mw_clust['rCSI'], bins=[-1,4,17,42],labels= [0, 1, 2])\n",
        "  \n",
        "mw_clust['rCSI_category'].value_counts().plot(kind='pie', title='',autopct = \"%.2f%%\", colors = ['chartreuse','aqua','red'])\n",
        "\n",
        "\n"
      ],
      "execution_count": 178,
      "outputs": [
        {
          "output_type": "execute_result",
          "data": {
            "text/plain": [
              "<matplotlib.axes._subplots.AxesSubplot at 0x7f779861f470>"
            ]
          },
          "metadata": {
            "tags": []
          },
          "execution_count": 178
        },
        {
          "output_type": "display_data",
          "data": {
            "image/png": "[encoded data removed]",
            "text/plain": [
              "<Figure size 432x288 with 1 Axes>"
            ]
          },
          "metadata": {
            "tags": []
          }
        }
      ]
    },
    {
      "cell_type": "code",
      "metadata": {
        "colab_type": "code",
        "id": "mEIDc34pb6jK",
        "outputId": "3ef529ad-9229-47f6-de3a-400c5c45fc70",
        "colab": {
          "base_uri": "https://localhost:8080/",
          "height": 283
        }
      },
      "source": [
        "# cut the outcome variables by the cutoffs\n",
        "tz_clust['FCS_category']= pd.cut(x=tz_clust['FCS'], bins=[-1,28,42,200],labels= [2, 1, 0])\n",
        "\n",
        "tz_clust['FCS_category'].value_counts().plot(kind='pie', title=' Counts (FCS categories)')\n"
      ],
      "execution_count": 175,
      "outputs": [
        {
          "output_type": "execute_result",
          "data": {
            "text/plain": [
              "<matplotlib.axes._subplots.AxesSubplot at 0x7f77986f4828>"
            ]
          },
          "metadata": {
            "tags": []
          },
          "execution_count": 175
        },
        {
          "output_type": "display_data",
          "data": {
            "image/png": "[encoded data removed]",
            "text/plain": [
              "<Figure size 432x288 with 1 Axes>"
            ]
          },
          "metadata": {
            "tags": []
          }
        }
      ]
    },
    {
      "cell_type": "code",
      "metadata": {
        "id": "nuqDVxU4yy3Z",
        "colab_type": "code",
        "outputId": "584d4da4-cb00-4866-d424-1ac474ed97db",
        "colab": {
          "base_uri": "https://localhost:8080/",
          "height": 283
        }
      },
      "source": [
        "# HDDS 3 and 6\n",
        "tz_clust['HDDS_category']= pd.cut(x=tz_clust['HDDS'], bins=[-1,3,6,20],labels= [2, 1, 0])\n",
        "\n",
        "tz_clust['HDDS_category'].value_counts().plot(kind='pie', title='Count (HDDS categories)')\n"
      ],
      "execution_count": 174,
      "outputs": [
        {
          "output_type": "execute_result",
          "data": {
            "text/plain": [
              "<matplotlib.axes._subplots.AxesSubplot at 0x7f7798b6ec88>"
            ]
          },
          "metadata": {
            "tags": []
          },
          "execution_count": 174
        },
        {
          "output_type": "display_data",
          "data": {
            "image/png": "[encoded data removed]",
            "text/plain": [
              "<Figure size 432x288 with 1 Axes>"
            ]
          },
          "metadata": {
            "tags": []
          }
        }
      ]
    },
    {
      "cell_type": "code",
      "metadata": {
        "id": "hQVa2nvKyxVK",
        "colab_type": "code",
        "outputId": "22c28629-a2a8-42d0-97cc-0f12cbfc0aee",
        "colab": {
          "base_uri": "https://localhost:8080/",
          "height": 283
        }
      },
      "source": [
        "# rCSI 4 and 17  and 42\n",
        "tz_clust['rCSI_category']= pd.cut(x=tz_clust['rCSI'], bins=[-1,4,17,43],labels= [0, 1, 2])\n",
        "\n",
        "tz_clust['rCSI_category'].value_counts().plot(kind='pie', title='Count (rCSI categories)')\n"
      ],
      "execution_count": 173,
      "outputs": [
        {
          "output_type": "execute_result",
          "data": {
            "text/plain": [
              "<matplotlib.axes._subplots.AxesSubplot at 0x7f7798741588>"
            ]
          },
          "metadata": {
            "tags": []
          },
          "execution_count": 173
        },
        {
          "output_type": "display_data",
          "data": {
            "image/png": "[encoded data removed]",
            "text/plain": [
              "<Figure size 432x288 with 1 Axes>"
            ]
          },
          "metadata": {
            "tags": []
          }
        }
      ]
    },
    {
      "cell_type": "code",
      "metadata": {
        "colab_type": "code",
        "id": "CiRa0o7NcZ5N",
        "outputId": "6f048756-70aa-4a14-a96f-e27748cd65d1",
        "colab": {
          "base_uri": "https://localhost:8080/",
          "height": 283
        }
      },
      "source": [
        "# cut the outcome variables by the cutoffs\n",
        "ug_clust['FCS_category']= pd.cut(x=ug_clust['FCS'], bins=[-1,28,42,200],labels= [2, 1, 0])\n",
        "\n",
        "ug_clust['FCS_category'].value_counts().plot(kind='pie', title=' Counts (FCS categories)')\n",
        "\n",
        "\n"
      ],
      "execution_count": 172,
      "outputs": [
        {
          "output_type": "execute_result",
          "data": {
            "text/plain": [
              "<matplotlib.axes._subplots.AxesSubplot at 0x7f7789b120b8>"
            ]
          },
          "metadata": {
            "tags": []
          },
          "execution_count": 172
        },
        {
          "output_type": "display_data",
          "data": {
            "image/png": "[encoded data removed]",
            "text/plain": [
              "<Figure size 432x288 with 1 Axes>"
            ]
          },
          "metadata": {
            "tags": []
          }
        }
      ]
    },
    {
      "cell_type": "code",
      "metadata": {
        "id": "BwjrBOeNy4XB",
        "colab_type": "code",
        "outputId": "f13e800a-e0ef-4398-c37d-99a7331ebb0f",
        "colab": {
          "base_uri": "https://localhost:8080/",
          "height": 283
        }
      },
      "source": [
        "# HDDS 3 and 6\n",
        "ug_clust['HDDS_category']= pd.cut(x=ug_clust['HDDS'], bins=[-1,3,6,20],labels= [2, 1, 0])\n",
        "\n",
        "ug_clust['HDDS_category'].value_counts().plot(kind='pie', title='Count (HDDS categories)')\n",
        "\n",
        " "
      ],
      "execution_count": 171,
      "outputs": [
        {
          "output_type": "execute_result",
          "data": {
            "text/plain": [
              "<matplotlib.axes._subplots.AxesSubplot at 0x7f778992a400>"
            ]
          },
          "metadata": {
            "tags": []
          },
          "execution_count": 171
        },
        {
          "output_type": "display_data",
          "data": {
            "image/png": "[encoded data removed]",
            "text/plain": [
              "<Figure size 432x288 with 1 Axes>"
            ]
          },
          "metadata": {
            "tags": []
          }
        }
      ]
    },
    {
      "cell_type": "markdown",
      "metadata": {
        "colab_type": "text",
        "id": "Iw6L0fotmdJk"
      },
      "source": [
        "## Split train and test data\n",
        "\n",
        " For practical prediction purposes,  we use the most recent round of survey data  as the testing  and the rest as the training data. \n"
      ]
    },
    {
      "cell_type": "markdown",
      "metadata": {
        "id": "cZh5Qbven7hP",
        "colab_type": "text"
      },
      "source": [
        "### Year split "
      ]
    },
    {
      "cell_type": "code",
      "metadata": {
        "colab_type": "code",
        "id": "6-IIX6ZBLLZD",
        "colab": {}
      },
      "source": [
        "mw_clust_test_cond =  mw_clust['FS_year']>2015\n",
        "mw_clust_train_cond =  mw_clust['FS_year']<2016\n",
        "mw_clust_test = mw_clust[mw_clust_test_cond]\n",
        "mw_clust_train = mw_clust[mw_clust_train_cond]\n",
        "\n",
        "\n",
        "tz_clust_test_cond =  tz_clust['FS_year']>2013\n",
        "tz_clust_train_cond =  tz_clust['FS_year']<2014\n",
        "tz_clust_test = tz_clust[tz_clust_test_cond]\n",
        "tz_clust_train = tz_clust[tz_clust_train_cond]\n",
        "\n",
        "ug_clust_test_cond =  ug_clust['FS_year']>2011\n",
        "ug_clust_train_cond =  ug_clust['FS_year']<2012\n",
        "ug_clust_test = ug_clust[ug_clust_test_cond]\n",
        "ug_clust_train = ug_clust[ug_clust_train_cond]\n",
        "\n",
        "\n",
        "# Define label variables  \n",
        "labels = ['FCS', 'rCSI', 'HDDS']\n",
        "category_labels = ['FCS_category', 'rCSI_category', 'HDDS_category']\n",
        "\n",
        "\n",
        "# Separate y and X\n",
        "\n",
        "mw_clust_y_train= mw_clust_train[['FCS_category', 'rCSI_category', 'HDDS_category']]\n",
        "mw_clust_y_test= mw_clust_test[['FCS_category', 'rCSI_category', 'HDDS_category']]\n",
        " \n",
        "mw_clust_X_test= mw_clust_test.drop(labels+category_labels+['FNID'],  axis=1)\n",
        "mw_clust_X_train= mw_clust_train.drop(labels+category_labels+['FNID'], axis=1)\n",
        "\n",
        "\n",
        "tz_clust_y_train= tz_clust_train[['FCS_category', 'rCSI_category', 'HDDS_category']]\n",
        "tz_clust_y_test= tz_clust_test[['FCS_category', 'rCSI_category', 'HDDS_category']]\n",
        "\n",
        "tz_clust_X_test= tz_clust_test.drop(labels+category_labels,  axis=1)\n",
        "tz_clust_X_train= tz_clust_train.drop(labels+category_labels, axis=1)\n",
        "\n",
        "\n",
        "ug_clust_y_train= ug_clust_train[['FCS_category', 'HDDS_category']]\n",
        "ug_clust_y_test= ug_clust_test[['FCS_category', 'HDDS_category']]\n",
        "\n",
        "ug_clust_X_test= ug_clust_test.drop(['FCS_category', 'FCS', 'HDDS', 'HDDS_category'],  axis=1)\n",
        "ug_clust_X_train= ug_clust_train.drop(['FCS_category', 'FCS', 'HDDS', 'HDDS_category'],axis=1)\n"
      ],
      "execution_count": 0,
      "outputs": []
    },
    {
      "cell_type": "markdown",
      "metadata": {
        "id": "etYt0_NGlWjx",
        "colab_type": "text"
      },
      "source": [
        "### Region split"
      ]
    },
    {
      "cell_type": "code",
      "metadata": {
        "id": "ss3jWM1YKHRQ",
        "colab_type": "code",
        "colab": {}
      },
      "source": [
        "mw_clust_test_cond_region =  mw_clust['region_central']>0.7\n",
        "mw_clust_train_cond_region =  mw_clust['region_central']<0.7\n",
        "\n",
        "mw_clust_test_region = mw_clust[mw_clust_test_cond_region]\n",
        "mw_clust_train_region = mw_clust[mw_clust_train_cond_region]\n",
        "\n"
      ],
      "execution_count": 0,
      "outputs": []
    },
    {
      "cell_type": "code",
      "metadata": {
        "id": "X-tIfZU7vWcV",
        "colab_type": "code",
        "colab": {}
      },
      "source": [
        "ug_clust_test_cond_region1 =  ug_clust['region4']==0 \n",
        "ug_clust_test_cond_region2 =  ug_clust['region3']==0 \n",
        "ug_clust_test_cond_region3 =  ug_clust['region2']==0 \n",
        "\n",
        "ug_clust_train_cond_region1 =  ug_clust['region4']!=0 \n",
        "ug_clust_train_cond_region2 =  ug_clust['region3']!=0 \n",
        "ug_clust_train_cond_region3 =  ug_clust['region2']!=0 \n",
        "\n",
        "\n",
        "ug_clust_test_region = ug_clust[ug_clust_test_cond_region1 & ug_clust_test_cond_region2 & ug_clust_test_cond_region3]\n",
        "ug_clust_train_region = ug_clust[ ug_clust_train_cond_region1 | ug_clust_train_cond_region2 | ug_clust_train_cond_region3 ]\n"
      ],
      "execution_count": 0,
      "outputs": []
    },
    {
      "cell_type": "code",
      "metadata": {
        "id": "3DHCLAwv2K-3",
        "colab_type": "code",
        "colab": {
          "base_uri": "https://localhost:8080/",
          "height": 33
        },
        "outputId": "39583227-b777-40d6-d143-36c476f1e0ff"
      },
      "source": [
        "ug_clust_test_region.shape"
      ],
      "execution_count": 139,
      "outputs": [
        {
          "output_type": "execute_result",
          "data": {
            "text/plain": [
              "(450, 43)"
            ]
          },
          "metadata": {
            "tags": []
          },
          "execution_count": 139
        }
      ]
    },
    {
      "cell_type": "code",
      "metadata": {
        "id": "GkVuzH_PvZFQ",
        "colab_type": "code",
        "colab": {}
      },
      "source": [
        "\n",
        "\n",
        "# Define label variables  \n",
        "labels = ['FCS', 'rCSI', 'HDDS']\n",
        "category_labels = ['FCS_category', 'rCSI_category', 'HDDS_category']\n",
        "\n",
        "\n",
        "# Separate y and X\n",
        "\n",
        "mw_clust_y_train_region= mw_clust_train_region[['FCS_category', 'rCSI_category', 'HDDS_category']]\n",
        "mw_clust_y_test_region= mw_clust_test_region[['FCS_category', 'rCSI_category', 'HDDS_category']]\n",
        " \n",
        "mw_clust_X_test_region= mw_clust_test_region.drop(labels+category_labels+['FNID'],  axis=1)\n",
        "mw_clust_X_train_region= mw_clust_train_region.drop(labels+category_labels+['FNID'], axis=1)\n",
        "\n",
        "\n",
        " \n",
        "\n",
        "ug_clust_y_train_region= ug_clust_train_region[['FCS_category', 'HDDS_category']]\n",
        "ug_clust_y_test_region= ug_clust_test_region[['FCS_category', 'HDDS_category']]\n",
        "\n",
        "ug_clust_X_test_region= ug_clust_test_region.drop(['FCS_category', 'FCS', 'HDDS', 'HDDS_category'],  axis=1)\n",
        "ug_clust_X_train_region= ug_clust_train_region.drop(['FCS_category', 'FCS', 'HDDS', 'HDDS_category'],axis=1)\n",
        " "
      ],
      "execution_count": 0,
      "outputs": []
    },
    {
      "cell_type": "markdown",
      "metadata": {
        "id": "Y_hd88AFPx2E",
        "colab_type": "text"
      },
      "source": [
        "### Random split"
      ]
    },
    {
      "cell_type": "code",
      "metadata": {
        "id": "EHnrXCeYPs1Q",
        "colab_type": "code",
        "colab": {}
      },
      "source": [
        "### Random split\n",
        "\n",
        "from sklearn.model_selection import train_test_split\n",
        "\n",
        "\n",
        "\n",
        "\n",
        "y_mw = mw_clust[['FCS_category', 'rCSI_category', 'HDDS_category']]\n",
        "\n",
        "X_mw = mw_clust.drop(labels+category_labels+['FNID'],  axis=1)\n",
        "\n",
        "\n",
        "\n",
        "X_train_mw, X_test_mw, y_train_mw, y_test_mw = train_test_split(X_mw, y_mw, test_size=0.33, random_state=42)\n",
        "\n",
        "\n",
        "\n",
        "\n",
        "y_ug = ug_clust[['FCS_category', 'HDDS_category']]\n",
        "\n",
        "X_ug = ug_clust.drop(['FCS_category', 'FCS', 'HDDS', 'HDDS_category','FNID'],  axis=1)\n",
        "\n",
        "\n",
        "\n",
        "X_train_ug, X_test_ug, y_train_ug, y_test_ug = train_test_split(X_ug, y_ug, test_size=0.33, random_state=42)\n",
        "\n",
        "\n",
        "\n",
        "\n"
      ],
      "execution_count": 0,
      "outputs": []
    },
    {
      "cell_type": "markdown",
      "metadata": {
        "id": "thtcmyNxlLcr",
        "colab_type": "text"
      },
      "source": [
        "## Baseline models\n",
        "\n"
      ]
    },
    {
      "cell_type": "markdown",
      "metadata": {
        "id": "AKneynVimVa4",
        "colab_type": "text"
      },
      "source": [
        "### Define models"
      ]
    },
    {
      "cell_type": "code",
      "metadata": {
        "id": "pQ-QpM6-fWyG",
        "colab_type": "code",
        "colab": {}
      },
      "source": [
        "from sklearn.tree import DecisionTreeClassifier\n",
        "from sklearn.model_selection import RandomizedSearchCV\n",
        "from sklearn.metrics import classification_report\n",
        "\n",
        "\n",
        "def TreeCLF(X_train,y_train,X_test, y_test):\n",
        "    # Define tree classifier\n",
        "    tree_clf = DecisionTreeClassifier(random_state=66)\n",
        "    \n",
        "    max_depth = [int(x) for x in np.linspace(3, 20, num = 10)]\n",
        "    max_features = [int(x) for x in np.linspace(3, 20, num = 10)]\n",
        "    # n_estimators = [int(x) for x in np.linspace(1, 10, num = 5)]\n",
        "\n",
        "    random_grid = {#'n_estimators': n_estimators,\n",
        "                   'max_features': max_features,\n",
        "                   'max_depth': max_depth\n",
        "                   #'min_samples_split': min_samples_split\n",
        "                   #'min_samples_leaf': min_samples_leaf}\n",
        "                   #'bootstrap': bootstrap\n",
        "                    }\n",
        "    \n",
        "    tree_random = RandomizedSearchCV(estimator = tree_clf, param_distributions = random_grid,\n",
        "                                    n_iter = 30, cv = 3, verbose=2, random_state=666, n_jobs = -1)\n",
        "\n",
        "\n",
        "    tree_random.fit( X_train, y_train)\n",
        "\n",
        "    y_pred = tree_random.predict(X_test)\n",
        "    \n",
        "    # report = classification_report(y_test, y_pred)\n",
        "\n",
        "    \n",
        "    # Return accuracy\n",
        "    tree_test_score = round(tree_random.score(X_test, y_test), 3)\n",
        "    tree_train_score = round(tree_random.score(X_train, y_train), 3)\n",
        "    \n",
        "    \n",
        "    \n",
        "    return y_pred,y_test\n",
        "    # return tree_random \n",
        "    # return report"
      ],
      "execution_count": 0,
      "outputs": []
    },
    {
      "cell_type": "code",
      "metadata": {
        "id": "GYNCGR5MfWyJ",
        "colab_type": "code",
        "colab": {}
      },
      "source": [
        "from sklearn.ensemble import RandomForestClassifier\n",
        "from sklearn.model_selection import RandomizedSearchCV\n",
        "from sklearn.metrics import classification_report\n",
        "\n",
        "\n",
        "def rfCLF(X_train,y_train,X_test, y_test):\n",
        "\n",
        "    rf_clf = RandomForestClassifier(max_features='auto', n_estimators = 100,min_samples_split=10,warm_start=True)\n",
        "\n",
        "        \n",
        "    # Define rfc classifier\n",
        "    max_depth = [int(x) for x in np.linspace(3, 20, num = 10)]\n",
        "    max_features = [int(x) for x in np.linspace(3, 20, num = 10)]\n",
        "\n",
        "    random_grid = {#'n_estimators': n_estimators,\n",
        "                   'max_features': max_features,\n",
        "                   'max_depth': max_depth\n",
        "                   #'min_samples_split': min_samples_split\n",
        "                   #'min_samples_leaf': min_samples_leaf}\n",
        "                   #'bootstrap': bootstrap\n",
        "                    }\n",
        "    \n",
        "    rf_random = RandomizedSearchCV(estimator = rf_clf, param_distributions = random_grid,\n",
        "                                    n_iter = 30, cv = 3, verbose=2, random_state=666, n_jobs = -1)\n",
        "\n",
        "\n",
        "    # Fit the random search model\n",
        "    rf_random.fit(X_train, y_train)\n",
        "\n",
        "    # Return accuracy\n",
        "#     rf_test_score = round(rf_random.score(X_test, y_test), 3)\n",
        "#     rf_train_score = round(rf_random.score(X_train, y_train), 3)\n",
        "    \n",
        "    y_pred = rf_random.predict(X_test)\n",
        "    \n",
        "\n",
        "    # return rf_test_score \n",
        "    return y_pred,y_test"
      ],
      "execution_count": 0,
      "outputs": []
    },
    {
      "cell_type": "code",
      "metadata": {
        "id": "MrFVrNryfWyL",
        "colab_type": "code",
        "colab": {}
      },
      "source": [
        "from xgboost import XGBClassifier\n",
        "from sklearn.metrics import classification_report\n",
        "\n",
        "\n",
        "def XGBCLF(X_train,y_train,X_test, y_test):\n",
        "\n",
        "    # fit model on  training data\n",
        "    XGB_clf = XGBClassifier(silent=False, \n",
        "                          scale_pos_weight=1,\n",
        "                          learning_rate=0.3,  \n",
        "                          colsample_bytree = 0.4,\n",
        "                          subsample = 0.8,\n",
        "                          objective='binary:logistic', \n",
        "                          #objective='multi:softmax', \n",
        "                          #num_class=14,\n",
        "                          n_estimators=100, \n",
        "                          reg_alpha = 0.3,\n",
        "                          max_depth=5, \n",
        "                          gamma=10)\n",
        "    \n",
        "    max_depth = [int(x) for x in np.linspace(3, 20, num = 10)]\n",
        "    max_features = [int(x) for x in np.linspace(3, 20, num = 10)]\n",
        "\n",
        "    random_grid = {#'n_estimators': n_estimators,\n",
        "                   'max_features': max_features,\n",
        "                   'max_depth': max_depth\n",
        "                   #'min_samples_split': min_samples_split\n",
        "                   #'min_samples_leaf': min_samples_leaf}\n",
        "                   #'bootstrap': bootstrap\n",
        "                    }\n",
        "    \n",
        "    XGB_random = RandomizedSearchCV(estimator = XGB_clf, param_distributions = random_grid,\n",
        "                                    n_iter = 30, cv = 3, verbose=2, random_state=666, n_jobs = -1)\n",
        "\n",
        "\n",
        "    \n",
        "    # Fit the random search model\n",
        "    XGB_random.fit(X_train, y_train)\n",
        "\n",
        "    # Return accuracy\n",
        "    xgb_test_score = round(XGB_random.score(X_test, y_test), 3)\n",
        "    xgb_train_score = round(XGB_random.score(X_train, y_train), 3)\n",
        "    \n",
        "    # return xgb_test_score\n",
        "    \n",
        "    y_pred = XGB_random.predict(X_test)\n",
        "    \n",
        "\n",
        "    # return rf_test_score \n",
        "    return y_pred,y_test\n"
      ],
      "execution_count": 0,
      "outputs": []
    },
    {
      "cell_type": "markdown",
      "metadata": {
        "id": "d3GE90dXmbJ4",
        "colab_type": "text"
      },
      "source": [
        "### Tree models"
      ]
    },
    {
      "cell_type": "code",
      "metadata": {
        "id": "cJxiyR2YfWyV",
        "colab_type": "code",
        "outputId": "5fda905f-e2ee-40fb-bb09-2e8fc1f1f9b3",
        "colab": {
          "base_uri": "https://localhost:8080/",
          "height": 0
        }
      },
      "source": [
        "#y_pred,y_test = TreeCLF (mw_clust_X_train,mw_clust_y_train['FCS_category'], mw_clust_X_test,mw_clust_y_test['FCS_category'] )\n",
        "\n",
        "tree_model = TreeCLF (mw_clust_X_train,mw_clust_y_train['FCS_category'], mw_clust_X_test,mw_clust_y_test['FCS_category'] )\n",
        "\n",
        "# print(classification_report(y_test, y_pred))\n"
      ],
      "execution_count": 43,
      "outputs": [
        {
          "output_type": "stream",
          "text": [
            "Fitting 3 folds for each of 30 candidates, totalling 90 fits\n"
          ],
          "name": "stdout"
        },
        {
          "output_type": "stream",
          "text": [
            "[Parallel(n_jobs=-1)]: Using backend LokyBackend with 2 concurrent workers.\n",
            "[Parallel(n_jobs=-1)]: Done  90 out of  90 | elapsed:    0.8s finished\n"
          ],
          "name": "stderr"
        }
      ]
    },
    {
      "cell_type": "code",
      "metadata": {
        "id": "RZ3wIFCr24vH",
        "colab_type": "code",
        "colab": {
          "base_uri": "https://localhost:8080/",
          "height": 0
        },
        "outputId": "1fddfc0e-5ccf-4ad3-e28d-893cc26bf817"
      },
      "source": [
        "# tree_model.best_params_\n",
        "\n",
        "tree_clf = DecisionTreeClassifier(random_state=66,max_depth=3,max_features= 14)\n",
        "tree_clf.fit(mw_clust_X_train,mw_clust_y_train['FCS_category'])"
      ],
      "execution_count": 50,
      "outputs": [
        {
          "output_type": "execute_result",
          "data": {
            "text/plain": [
              "DecisionTreeClassifier(class_weight=None, criterion='gini', max_depth=3,\n",
              "                       max_features=14, max_leaf_nodes=None,\n",
              "                       min_impurity_decrease=0.0, min_impurity_split=None,\n",
              "                       min_samples_leaf=1, min_samples_split=2,\n",
              "                       min_weight_fraction_leaf=0.0, presort=False,\n",
              "                       random_state=66, splitter='best')"
            ]
          },
          "metadata": {
            "tags": []
          },
          "execution_count": 50
        }
      ]
    },
    {
      "cell_type": "code",
      "metadata": {
        "id": "rlJiYgQe2TZq",
        "colab_type": "code",
        "colab": {
          "base_uri": "https://localhost:8080/",
          "height": 518
        },
        "outputId": "e98b279c-eb21-49e6-c900-d8d7d130c16b"
      },
      "source": [
        "from sklearn.externals.six import StringIO  \n",
        "from IPython.display import Image  \n",
        "from sklearn.tree import export_graphviz\n",
        "import pydotplus\n",
        "dot_data = StringIO()\n",
        "export_graphviz(tree_clf, out_file=dot_data,  \n",
        "                filled=True, rounded=True,\n",
        "                special_characters=True)\n",
        "graph = pydotplus.graph_from_dot_data(dot_data.getvalue())  \n",
        "Image(graph.create_png())"
      ],
      "execution_count": 51,
      "outputs": [
        {
          "output_type": "execute_result",
          "data": {
            "image/png": "[encoded data removed]",
            "text/plain": [
              "<IPython.core.display.Image object>"
            ]
          },
          "metadata": {
            "tags": []
          },
          "execution_count": 51
        }
      ]
    },
    {
      "cell_type": "code",
      "metadata": {
        "id": "ccBpt5bZ4tKM",
        "colab_type": "code",
        "colab": {
          "base_uri": "https://localhost:8080/",
          "height": 34
        },
        "outputId": "ecb6c3b2-9a19-420b-a992-9ce0f6dda2dd"
      },
      "source": [
        "mw_clust_X_train.columns[13]"
      ],
      "execution_count": 61,
      "outputs": [
        {
          "output_type": "execute_result",
          "data": {
            "text/plain": [
              "'head_age'"
            ]
          },
          "metadata": {
            "tags": []
          },
          "execution_count": 61
        }
      ]
    },
    {
      "cell_type": "code",
      "metadata": {
        "id": "wmu3pWFrfWyZ",
        "colab_type": "code",
        "outputId": "03196f25-b784-45b6-bcca-b737739a29aa",
        "colab": {
          "base_uri": "https://localhost:8080/",
          "height": 381
        }
      },
      "source": [
        "y_pred,y_test  = TreeCLF (mw_clust_X_train,mw_clust_y_train['HDDS_category'], mw_clust_X_test,mw_clust_y_test['HDDS_category'] )\n",
        "\n",
        "print(classification_report(y_test, y_pred))\n"
      ],
      "execution_count": 39,
      "outputs": [
        {
          "output_type": "stream",
          "text": [
            "Fitting 3 folds for each of 30 candidates, totalling 90 fits\n"
          ],
          "name": "stdout"
        },
        {
          "output_type": "stream",
          "text": [
            "[Parallel(n_jobs=-1)]: Using backend LokyBackend with 2 concurrent workers.\n"
          ],
          "name": "stderr"
        },
        {
          "output_type": "error",
          "ename": "KeyboardInterrupt",
          "evalue": "ignored",
          "traceback": [
            "\u001b[0;31m---------------------------------------------------------------------------\u001b[0m",
            "\u001b[0;31mKeyboardInterrupt\u001b[0m                         Traceback (most recent call last)",
            "\u001b[0;32m<ipython-input-39-9ca7d7e285f4>\u001b[0m in \u001b[0;36m<module>\u001b[0;34m()\u001b[0m\n\u001b[0;32m----> 1\u001b[0;31m \u001b[0my_pred\u001b[0m\u001b[0;34m,\u001b[0m\u001b[0my_test\u001b[0m  \u001b[0;34m=\u001b[0m \u001b[0mTreeCLF\u001b[0m \u001b[0;34m(\u001b[0m\u001b[0mmw_clust_X_train\u001b[0m\u001b[0;34m,\u001b[0m\u001b[0mmw_clust_y_train\u001b[0m\u001b[0;34m[\u001b[0m\u001b[0;34m'HDDS_category'\u001b[0m\u001b[0;34m]\u001b[0m\u001b[0;34m,\u001b[0m \u001b[0mmw_clust_X_test\u001b[0m\u001b[0;34m,\u001b[0m\u001b[0mmw_clust_y_test\u001b[0m\u001b[0;34m[\u001b[0m\u001b[0;34m'HDDS_category'\u001b[0m\u001b[0;34m]\u001b[0m \u001b[0;34m)\u001b[0m\u001b[0;34m\u001b[0m\u001b[0;34m\u001b[0m\u001b[0m\n\u001b[0m\u001b[1;32m      2\u001b[0m \u001b[0;34m\u001b[0m\u001b[0m\n\u001b[1;32m      3\u001b[0m \u001b[0mprint\u001b[0m\u001b[0;34m(\u001b[0m\u001b[0mclassification_report\u001b[0m\u001b[0;34m(\u001b[0m\u001b[0my_test\u001b[0m\u001b[0;34m,\u001b[0m \u001b[0my_pred\u001b[0m\u001b[0;34m)\u001b[0m\u001b[0;34m)\u001b[0m\u001b[0;34m\u001b[0m\u001b[0;34m\u001b[0m\u001b[0m\n",
            "\u001b[0;32m<ipython-input-30-1abce329dfd8>\u001b[0m in \u001b[0;36mTreeCLF\u001b[0;34m(X_train, y_train, X_test, y_test)\u001b[0m\n\u001b[1;32m     24\u001b[0m \u001b[0;34m\u001b[0m\u001b[0m\n\u001b[1;32m     25\u001b[0m \u001b[0;34m\u001b[0m\u001b[0m\n\u001b[0;32m---> 26\u001b[0;31m     \u001b[0mtree_random\u001b[0m\u001b[0;34m.\u001b[0m\u001b[0mfit\u001b[0m\u001b[0;34m(\u001b[0m \u001b[0mX_train\u001b[0m\u001b[0;34m,\u001b[0m \u001b[0my_train\u001b[0m\u001b[0;34m)\u001b[0m\u001b[0;34m\u001b[0m\u001b[0;34m\u001b[0m\u001b[0m\n\u001b[0m\u001b[1;32m     27\u001b[0m \u001b[0;34m\u001b[0m\u001b[0m\n\u001b[1;32m     28\u001b[0m     \u001b[0my_pred\u001b[0m \u001b[0;34m=\u001b[0m \u001b[0mtree_random\u001b[0m\u001b[0;34m.\u001b[0m\u001b[0mpredict\u001b[0m\u001b[0;34m(\u001b[0m\u001b[0mX_test\u001b[0m\u001b[0;34m)\u001b[0m\u001b[0;34m\u001b[0m\u001b[0;34m\u001b[0m\u001b[0m\n",
            "\u001b[0;32m/usr/local/lib/python3.6/dist-packages/sklearn/model_selection/_search.py\u001b[0m in \u001b[0;36mfit\u001b[0;34m(self, X, y, groups, **fit_params)\u001b[0m\n\u001b[1;32m    685\u001b[0m                 \u001b[0;32mreturn\u001b[0m \u001b[0mresults\u001b[0m\u001b[0;34m\u001b[0m\u001b[0;34m\u001b[0m\u001b[0m\n\u001b[1;32m    686\u001b[0m \u001b[0;34m\u001b[0m\u001b[0m\n\u001b[0;32m--> 687\u001b[0;31m             \u001b[0mself\u001b[0m\u001b[0;34m.\u001b[0m\u001b[0m_run_search\u001b[0m\u001b[0;34m(\u001b[0m\u001b[0mevaluate_candidates\u001b[0m\u001b[0;34m)\u001b[0m\u001b[0;34m\u001b[0m\u001b[0;34m\u001b[0m\u001b[0m\n\u001b[0m\u001b[1;32m    688\u001b[0m \u001b[0;34m\u001b[0m\u001b[0m\n\u001b[1;32m    689\u001b[0m         \u001b[0;31m# For multi-metric evaluation, store the best_index_, best_params_ and\u001b[0m\u001b[0;34m\u001b[0m\u001b[0;34m\u001b[0m\u001b[0;34m\u001b[0m\u001b[0m\n",
            "\u001b[0;32m/usr/local/lib/python3.6/dist-packages/sklearn/model_selection/_search.py\u001b[0m in \u001b[0;36m_run_search\u001b[0;34m(self, evaluate_candidates)\u001b[0m\n\u001b[1;32m   1466\u001b[0m         evaluate_candidates(ParameterSampler(\n\u001b[1;32m   1467\u001b[0m             \u001b[0mself\u001b[0m\u001b[0;34m.\u001b[0m\u001b[0mparam_distributions\u001b[0m\u001b[0;34m,\u001b[0m \u001b[0mself\u001b[0m\u001b[0;34m.\u001b[0m\u001b[0mn_iter\u001b[0m\u001b[0;34m,\u001b[0m\u001b[0;34m\u001b[0m\u001b[0;34m\u001b[0m\u001b[0m\n\u001b[0;32m-> 1468\u001b[0;31m             random_state=self.random_state))\n\u001b[0m",
            "\u001b[0;32m/usr/local/lib/python3.6/dist-packages/sklearn/model_selection/_search.py\u001b[0m in \u001b[0;36mevaluate_candidates\u001b[0;34m(candidate_params)\u001b[0m\n\u001b[1;32m    664\u001b[0m                                \u001b[0;32mfor\u001b[0m \u001b[0mparameters\u001b[0m\u001b[0;34m,\u001b[0m \u001b[0;34m(\u001b[0m\u001b[0mtrain\u001b[0m\u001b[0;34m,\u001b[0m \u001b[0mtest\u001b[0m\u001b[0;34m)\u001b[0m\u001b[0;34m\u001b[0m\u001b[0;34m\u001b[0m\u001b[0m\n\u001b[1;32m    665\u001b[0m                                in product(candidate_params,\n\u001b[0;32m--> 666\u001b[0;31m                                           cv.split(X, y, groups)))\n\u001b[0m\u001b[1;32m    667\u001b[0m \u001b[0;34m\u001b[0m\u001b[0m\n\u001b[1;32m    668\u001b[0m                 \u001b[0;32mif\u001b[0m \u001b[0mlen\u001b[0m\u001b[0;34m(\u001b[0m\u001b[0mout\u001b[0m\u001b[0;34m)\u001b[0m \u001b[0;34m<\u001b[0m \u001b[0;36m1\u001b[0m\u001b[0;34m:\u001b[0m\u001b[0;34m\u001b[0m\u001b[0;34m\u001b[0m\u001b[0m\n",
            "\u001b[0;32m/usr/local/lib/python3.6/dist-packages/joblib/parallel.py\u001b[0m in \u001b[0;36m__call__\u001b[0;34m(self, iterable)\u001b[0m\n\u001b[1;32m    932\u001b[0m \u001b[0;34m\u001b[0m\u001b[0m\n\u001b[1;32m    933\u001b[0m             \u001b[0;32mwith\u001b[0m \u001b[0mself\u001b[0m\u001b[0;34m.\u001b[0m\u001b[0m_backend\u001b[0m\u001b[0;34m.\u001b[0m\u001b[0mretrieval_context\u001b[0m\u001b[0;34m(\u001b[0m\u001b[0;34m)\u001b[0m\u001b[0;34m:\u001b[0m\u001b[0;34m\u001b[0m\u001b[0;34m\u001b[0m\u001b[0m\n\u001b[0;32m--> 934\u001b[0;31m                 \u001b[0mself\u001b[0m\u001b[0;34m.\u001b[0m\u001b[0mretrieve\u001b[0m\u001b[0;34m(\u001b[0m\u001b[0;34m)\u001b[0m\u001b[0;34m\u001b[0m\u001b[0;34m\u001b[0m\u001b[0m\n\u001b[0m\u001b[1;32m    935\u001b[0m             \u001b[0;31m# Make sure that we get a last message telling us we are done\u001b[0m\u001b[0;34m\u001b[0m\u001b[0;34m\u001b[0m\u001b[0;34m\u001b[0m\u001b[0m\n\u001b[1;32m    936\u001b[0m             \u001b[0melapsed_time\u001b[0m \u001b[0;34m=\u001b[0m \u001b[0mtime\u001b[0m\u001b[0;34m.\u001b[0m\u001b[0mtime\u001b[0m\u001b[0;34m(\u001b[0m\u001b[0;34m)\u001b[0m \u001b[0;34m-\u001b[0m \u001b[0mself\u001b[0m\u001b[0;34m.\u001b[0m\u001b[0m_start_time\u001b[0m\u001b[0;34m\u001b[0m\u001b[0;34m\u001b[0m\u001b[0m\n",
            "\u001b[0;32m/usr/local/lib/python3.6/dist-packages/joblib/parallel.py\u001b[0m in \u001b[0;36mretrieve\u001b[0;34m(self)\u001b[0m\n\u001b[1;32m    831\u001b[0m             \u001b[0;32mtry\u001b[0m\u001b[0;34m:\u001b[0m\u001b[0;34m\u001b[0m\u001b[0;34m\u001b[0m\u001b[0m\n\u001b[1;32m    832\u001b[0m                 \u001b[0;32mif\u001b[0m \u001b[0mgetattr\u001b[0m\u001b[0;34m(\u001b[0m\u001b[0mself\u001b[0m\u001b[0;34m.\u001b[0m\u001b[0m_backend\u001b[0m\u001b[0;34m,\u001b[0m \u001b[0;34m'supports_timeout'\u001b[0m\u001b[0;34m,\u001b[0m \u001b[0;32mFalse\u001b[0m\u001b[0;34m)\u001b[0m\u001b[0;34m:\u001b[0m\u001b[0;34m\u001b[0m\u001b[0;34m\u001b[0m\u001b[0m\n\u001b[0;32m--> 833\u001b[0;31m                     \u001b[0mself\u001b[0m\u001b[0;34m.\u001b[0m\u001b[0m_output\u001b[0m\u001b[0;34m.\u001b[0m\u001b[0mextend\u001b[0m\u001b[0;34m(\u001b[0m\u001b[0mjob\u001b[0m\u001b[0;34m.\u001b[0m\u001b[0mget\u001b[0m\u001b[0;34m(\u001b[0m\u001b[0mtimeout\u001b[0m\u001b[0;34m=\u001b[0m\u001b[0mself\u001b[0m\u001b[0;34m.\u001b[0m\u001b[0mtimeout\u001b[0m\u001b[0;34m)\u001b[0m\u001b[0;34m)\u001b[0m\u001b[0;34m\u001b[0m\u001b[0;34m\u001b[0m\u001b[0m\n\u001b[0m\u001b[1;32m    834\u001b[0m                 \u001b[0;32melse\u001b[0m\u001b[0;34m:\u001b[0m\u001b[0;34m\u001b[0m\u001b[0;34m\u001b[0m\u001b[0m\n\u001b[1;32m    835\u001b[0m                     \u001b[0mself\u001b[0m\u001b[0;34m.\u001b[0m\u001b[0m_output\u001b[0m\u001b[0;34m.\u001b[0m\u001b[0mextend\u001b[0m\u001b[0;34m(\u001b[0m\u001b[0mjob\u001b[0m\u001b[0;34m.\u001b[0m\u001b[0mget\u001b[0m\u001b[0;34m(\u001b[0m\u001b[0;34m)\u001b[0m\u001b[0;34m)\u001b[0m\u001b[0;34m\u001b[0m\u001b[0;34m\u001b[0m\u001b[0m\n",
            "\u001b[0;32m/usr/local/lib/python3.6/dist-packages/joblib/_parallel_backends.py\u001b[0m in \u001b[0;36mwrap_future_result\u001b[0;34m(future, timeout)\u001b[0m\n\u001b[1;32m    519\u001b[0m         AsyncResults.get from multiprocessing.\"\"\"\n\u001b[1;32m    520\u001b[0m         \u001b[0;32mtry\u001b[0m\u001b[0;34m:\u001b[0m\u001b[0;34m\u001b[0m\u001b[0;34m\u001b[0m\u001b[0m\n\u001b[0;32m--> 521\u001b[0;31m             \u001b[0;32mreturn\u001b[0m \u001b[0mfuture\u001b[0m\u001b[0;34m.\u001b[0m\u001b[0mresult\u001b[0m\u001b[0;34m(\u001b[0m\u001b[0mtimeout\u001b[0m\u001b[0;34m=\u001b[0m\u001b[0mtimeout\u001b[0m\u001b[0;34m)\u001b[0m\u001b[0;34m\u001b[0m\u001b[0;34m\u001b[0m\u001b[0m\n\u001b[0m\u001b[1;32m    522\u001b[0m         \u001b[0;32mexcept\u001b[0m \u001b[0mLokyTimeoutError\u001b[0m\u001b[0;34m:\u001b[0m\u001b[0;34m\u001b[0m\u001b[0;34m\u001b[0m\u001b[0m\n\u001b[1;32m    523\u001b[0m             \u001b[0;32mraise\u001b[0m \u001b[0mTimeoutError\u001b[0m\u001b[0;34m(\u001b[0m\u001b[0;34m)\u001b[0m\u001b[0;34m\u001b[0m\u001b[0;34m\u001b[0m\u001b[0m\n",
            "\u001b[0;32m/usr/lib/python3.6/concurrent/futures/_base.py\u001b[0m in \u001b[0;36mresult\u001b[0;34m(self, timeout)\u001b[0m\n\u001b[1;32m    425\u001b[0m                 \u001b[0;32mreturn\u001b[0m \u001b[0mself\u001b[0m\u001b[0;34m.\u001b[0m\u001b[0m__get_result\u001b[0m\u001b[0;34m(\u001b[0m\u001b[0;34m)\u001b[0m\u001b[0;34m\u001b[0m\u001b[0;34m\u001b[0m\u001b[0m\n\u001b[1;32m    426\u001b[0m \u001b[0;34m\u001b[0m\u001b[0m\n\u001b[0;32m--> 427\u001b[0;31m             \u001b[0mself\u001b[0m\u001b[0;34m.\u001b[0m\u001b[0m_condition\u001b[0m\u001b[0;34m.\u001b[0m\u001b[0mwait\u001b[0m\u001b[0;34m(\u001b[0m\u001b[0mtimeout\u001b[0m\u001b[0;34m)\u001b[0m\u001b[0;34m\u001b[0m\u001b[0;34m\u001b[0m\u001b[0m\n\u001b[0m\u001b[1;32m    428\u001b[0m \u001b[0;34m\u001b[0m\u001b[0m\n\u001b[1;32m    429\u001b[0m             \u001b[0;32mif\u001b[0m \u001b[0mself\u001b[0m\u001b[0;34m.\u001b[0m\u001b[0m_state\u001b[0m \u001b[0;32min\u001b[0m \u001b[0;34m[\u001b[0m\u001b[0mCANCELLED\u001b[0m\u001b[0;34m,\u001b[0m \u001b[0mCANCELLED_AND_NOTIFIED\u001b[0m\u001b[0;34m]\u001b[0m\u001b[0;34m:\u001b[0m\u001b[0;34m\u001b[0m\u001b[0;34m\u001b[0m\u001b[0m\n",
            "\u001b[0;32m/usr/lib/python3.6/threading.py\u001b[0m in \u001b[0;36mwait\u001b[0;34m(self, timeout)\u001b[0m\n\u001b[1;32m    293\u001b[0m         \u001b[0;32mtry\u001b[0m\u001b[0;34m:\u001b[0m    \u001b[0;31m# restore state no matter what (e.g., KeyboardInterrupt)\u001b[0m\u001b[0;34m\u001b[0m\u001b[0;34m\u001b[0m\u001b[0m\n\u001b[1;32m    294\u001b[0m             \u001b[0;32mif\u001b[0m \u001b[0mtimeout\u001b[0m \u001b[0;32mis\u001b[0m \u001b[0;32mNone\u001b[0m\u001b[0;34m:\u001b[0m\u001b[0;34m\u001b[0m\u001b[0;34m\u001b[0m\u001b[0m\n\u001b[0;32m--> 295\u001b[0;31m                 \u001b[0mwaiter\u001b[0m\u001b[0;34m.\u001b[0m\u001b[0macquire\u001b[0m\u001b[0;34m(\u001b[0m\u001b[0;34m)\u001b[0m\u001b[0;34m\u001b[0m\u001b[0;34m\u001b[0m\u001b[0m\n\u001b[0m\u001b[1;32m    296\u001b[0m                 \u001b[0mgotit\u001b[0m \u001b[0;34m=\u001b[0m \u001b[0;32mTrue\u001b[0m\u001b[0;34m\u001b[0m\u001b[0;34m\u001b[0m\u001b[0m\n\u001b[1;32m    297\u001b[0m             \u001b[0;32melse\u001b[0m\u001b[0;34m:\u001b[0m\u001b[0;34m\u001b[0m\u001b[0;34m\u001b[0m\u001b[0m\n",
            "\u001b[0;31mKeyboardInterrupt\u001b[0m: "
          ]
        }
      ]
    },
    {
      "cell_type": "code",
      "metadata": {
        "id": "efAlPsSpfWyd",
        "colab_type": "code",
        "outputId": "e41900b9-9c63-4592-d8b9-5431e8bae0b6",
        "colab": {
          "base_uri": "https://localhost:8080/",
          "height": 260
        }
      },
      "source": [
        "y_pred,y_test  = TreeCLF (mw_clust_X_train,mw_clust_y_train['rCSI_category'], mw_clust_X_test,mw_clust_y_test['rCSI_category'] )\n",
        "print(classification_report(y_test, y_pred))\n"
      ],
      "execution_count": 38,
      "outputs": [
        {
          "output_type": "stream",
          "text": [
            "Fitting 3 folds for each of 30 candidates, totalling 90 fits\n"
          ],
          "name": "stdout"
        },
        {
          "output_type": "stream",
          "text": [
            "[Parallel(n_jobs=-1)]: Using backend LokyBackend with 2 concurrent workers.\n"
          ],
          "name": "stderr"
        },
        {
          "output_type": "stream",
          "text": [
            "              precision    recall  f1-score   support\n",
            "\n",
            "           0       0.33      0.69      0.45       157\n",
            "           1       0.55      0.23      0.33       282\n",
            "           2       0.00      0.00      0.00         6\n",
            "\n",
            "    accuracy                           0.39       445\n",
            "   macro avg       0.30      0.31      0.26       445\n",
            "weighted avg       0.47      0.39      0.37       445\n",
            "\n"
          ],
          "name": "stdout"
        },
        {
          "output_type": "stream",
          "text": [
            "[Parallel(n_jobs=-1)]: Done  87 out of  90 | elapsed:    2.8s remaining:    0.1s\n",
            "[Parallel(n_jobs=-1)]: Done  90 out of  90 | elapsed:    2.8s finished\n"
          ],
          "name": "stderr"
        }
      ]
    },
    {
      "cell_type": "markdown",
      "metadata": {
        "id": "YP4qHrfXmno3",
        "colab_type": "text"
      },
      "source": [
        "### ML models baseline"
      ]
    },
    {
      "cell_type": "code",
      "metadata": {
        "id": "7xfMskxXfWyh",
        "colab_type": "code",
        "outputId": "6a055bef-499b-460d-8bd9-06eeb475d608",
        "colab": {
          "base_uri": "https://localhost:8080/",
          "height": 238
        }
      },
      "source": [
        "y_pred,y_test  =  rfCLF (mw_clust_X_train,mw_clust_y_train['FCS_category'], mw_clust_X_test,mw_clust_y_test['FCS_category'] )\n",
        "print(classification_report(y_test, y_pred))\n"
      ],
      "execution_count": 0,
      "outputs": [
        {
          "output_type": "stream",
          "text": [
            "Fitting 3 folds for each of 30 candidates, totalling 90 fits\n"
          ],
          "name": "stdout"
        },
        {
          "output_type": "stream",
          "text": [
            "[Parallel(n_jobs=-1)]: Using backend LokyBackend with 2 concurrent workers.\n",
            "[Parallel(n_jobs=-1)]: Done  37 tasks      | elapsed:    7.4s\n",
            "[Parallel(n_jobs=-1)]: Done  90 out of  90 | elapsed:   18.0s finished\n"
          ],
          "name": "stderr"
        },
        {
          "output_type": "stream",
          "text": [
            "              precision    recall  f1-score   support\n",
            "\n",
            "           0       0.69      1.00      0.82       309\n",
            "           1       0.00      0.00      0.00       136\n",
            "\n",
            "    accuracy                           0.69       445\n",
            "   macro avg       0.35      0.50      0.41       445\n",
            "weighted avg       0.48      0.69      0.57       445\n",
            "\n"
          ],
          "name": "stdout"
        }
      ]
    },
    {
      "cell_type": "code",
      "metadata": {
        "id": "4nn8zJH_fWyk",
        "colab_type": "code",
        "outputId": "c8f2b6f3-3993-4cd1-82af-3d84282b8a1d",
        "colab": {
          "base_uri": "https://localhost:8080/",
          "height": 388
        }
      },
      "source": [
        "y_pred,y_test  = rfCLF (mw_clust_X_train,mw_clust_y_train['HDDS_category'], mw_clust_X_test,mw_clust_y_test['HDDS_category'] )\n",
        "\n",
        "print(classification_report(y_test, y_pred))\n"
      ],
      "execution_count": 37,
      "outputs": [
        {
          "output_type": "stream",
          "text": [
            "Fitting 3 folds for each of 30 candidates, totalling 90 fits\n"
          ],
          "name": "stdout"
        },
        {
          "output_type": "stream",
          "text": [
            "[Parallel(n_jobs=-1)]: Using backend LokyBackend with 2 concurrent workers.\n"
          ],
          "name": "stderr"
        },
        {
          "output_type": "error",
          "ename": "KeyboardInterrupt",
          "evalue": "ignored",
          "traceback": [
            "\u001b[0;31m---------------------------------------------------------------------------\u001b[0m",
            "\u001b[0;31mKeyboardInterrupt\u001b[0m                         Traceback (most recent call last)",
            "\u001b[0;32m<ipython-input-37-1ccd899b82e7>\u001b[0m in \u001b[0;36m<module>\u001b[0;34m()\u001b[0m\n\u001b[0;32m----> 1\u001b[0;31m \u001b[0my_pred\u001b[0m\u001b[0;34m,\u001b[0m\u001b[0my_test\u001b[0m  \u001b[0;34m=\u001b[0m \u001b[0mrfCLF\u001b[0m \u001b[0;34m(\u001b[0m\u001b[0mmw_clust_X_train\u001b[0m\u001b[0;34m,\u001b[0m\u001b[0mmw_clust_y_train\u001b[0m\u001b[0;34m[\u001b[0m\u001b[0;34m'HDDS_category'\u001b[0m\u001b[0;34m]\u001b[0m\u001b[0;34m,\u001b[0m \u001b[0mmw_clust_X_test\u001b[0m\u001b[0;34m,\u001b[0m\u001b[0mmw_clust_y_test\u001b[0m\u001b[0;34m[\u001b[0m\u001b[0;34m'HDDS_category'\u001b[0m\u001b[0;34m]\u001b[0m \u001b[0;34m)\u001b[0m\u001b[0;34m\u001b[0m\u001b[0;34m\u001b[0m\u001b[0m\n\u001b[0m\u001b[1;32m      2\u001b[0m \u001b[0;34m\u001b[0m\u001b[0m\n\u001b[1;32m      3\u001b[0m \u001b[0mprint\u001b[0m\u001b[0;34m(\u001b[0m\u001b[0mclassification_report\u001b[0m\u001b[0;34m(\u001b[0m\u001b[0my_test\u001b[0m\u001b[0;34m,\u001b[0m \u001b[0my_pred\u001b[0m\u001b[0;34m)\u001b[0m\u001b[0;34m)\u001b[0m\u001b[0;34m\u001b[0m\u001b[0;34m\u001b[0m\u001b[0m\n",
            "\u001b[0;32m<ipython-input-31-e76535d58fe8>\u001b[0m in \u001b[0;36mrfCLF\u001b[0;34m(X_train, y_train, X_test, y_test)\u001b[0m\n\u001b[1;32m     26\u001b[0m \u001b[0;34m\u001b[0m\u001b[0m\n\u001b[1;32m     27\u001b[0m     \u001b[0;31m# Fit the random search model\u001b[0m\u001b[0;34m\u001b[0m\u001b[0;34m\u001b[0m\u001b[0;34m\u001b[0m\u001b[0m\n\u001b[0;32m---> 28\u001b[0;31m     \u001b[0mrf_random\u001b[0m\u001b[0;34m.\u001b[0m\u001b[0mfit\u001b[0m\u001b[0;34m(\u001b[0m\u001b[0mX_train\u001b[0m\u001b[0;34m,\u001b[0m \u001b[0my_train\u001b[0m\u001b[0;34m)\u001b[0m\u001b[0;34m\u001b[0m\u001b[0;34m\u001b[0m\u001b[0m\n\u001b[0m\u001b[1;32m     29\u001b[0m \u001b[0;34m\u001b[0m\u001b[0m\n\u001b[1;32m     30\u001b[0m     \u001b[0;31m# Return accuracy\u001b[0m\u001b[0;34m\u001b[0m\u001b[0;34m\u001b[0m\u001b[0;34m\u001b[0m\u001b[0m\n",
            "\u001b[0;32m/usr/local/lib/python3.6/dist-packages/sklearn/model_selection/_search.py\u001b[0m in \u001b[0;36mfit\u001b[0;34m(self, X, y, groups, **fit_params)\u001b[0m\n\u001b[1;32m    685\u001b[0m                 \u001b[0;32mreturn\u001b[0m \u001b[0mresults\u001b[0m\u001b[0;34m\u001b[0m\u001b[0;34m\u001b[0m\u001b[0m\n\u001b[1;32m    686\u001b[0m \u001b[0;34m\u001b[0m\u001b[0m\n\u001b[0;32m--> 687\u001b[0;31m             \u001b[0mself\u001b[0m\u001b[0;34m.\u001b[0m\u001b[0m_run_search\u001b[0m\u001b[0;34m(\u001b[0m\u001b[0mevaluate_candidates\u001b[0m\u001b[0;34m)\u001b[0m\u001b[0;34m\u001b[0m\u001b[0;34m\u001b[0m\u001b[0m\n\u001b[0m\u001b[1;32m    688\u001b[0m \u001b[0;34m\u001b[0m\u001b[0m\n\u001b[1;32m    689\u001b[0m         \u001b[0;31m# For multi-metric evaluation, store the best_index_, best_params_ and\u001b[0m\u001b[0;34m\u001b[0m\u001b[0;34m\u001b[0m\u001b[0;34m\u001b[0m\u001b[0m\n",
            "\u001b[0;32m/usr/local/lib/python3.6/dist-packages/sklearn/model_selection/_search.py\u001b[0m in \u001b[0;36m_run_search\u001b[0;34m(self, evaluate_candidates)\u001b[0m\n\u001b[1;32m   1466\u001b[0m         evaluate_candidates(ParameterSampler(\n\u001b[1;32m   1467\u001b[0m             \u001b[0mself\u001b[0m\u001b[0;34m.\u001b[0m\u001b[0mparam_distributions\u001b[0m\u001b[0;34m,\u001b[0m \u001b[0mself\u001b[0m\u001b[0;34m.\u001b[0m\u001b[0mn_iter\u001b[0m\u001b[0;34m,\u001b[0m\u001b[0;34m\u001b[0m\u001b[0;34m\u001b[0m\u001b[0m\n\u001b[0;32m-> 1468\u001b[0;31m             random_state=self.random_state))\n\u001b[0m",
            "\u001b[0;32m/usr/local/lib/python3.6/dist-packages/sklearn/model_selection/_search.py\u001b[0m in \u001b[0;36mevaluate_candidates\u001b[0;34m(candidate_params)\u001b[0m\n\u001b[1;32m    664\u001b[0m                                \u001b[0;32mfor\u001b[0m \u001b[0mparameters\u001b[0m\u001b[0;34m,\u001b[0m \u001b[0;34m(\u001b[0m\u001b[0mtrain\u001b[0m\u001b[0;34m,\u001b[0m \u001b[0mtest\u001b[0m\u001b[0;34m)\u001b[0m\u001b[0;34m\u001b[0m\u001b[0;34m\u001b[0m\u001b[0m\n\u001b[1;32m    665\u001b[0m                                in product(candidate_params,\n\u001b[0;32m--> 666\u001b[0;31m                                           cv.split(X, y, groups)))\n\u001b[0m\u001b[1;32m    667\u001b[0m \u001b[0;34m\u001b[0m\u001b[0m\n\u001b[1;32m    668\u001b[0m                 \u001b[0;32mif\u001b[0m \u001b[0mlen\u001b[0m\u001b[0;34m(\u001b[0m\u001b[0mout\u001b[0m\u001b[0;34m)\u001b[0m \u001b[0;34m<\u001b[0m \u001b[0;36m1\u001b[0m\u001b[0;34m:\u001b[0m\u001b[0;34m\u001b[0m\u001b[0;34m\u001b[0m\u001b[0m\n",
            "\u001b[0;32m/usr/local/lib/python3.6/dist-packages/joblib/parallel.py\u001b[0m in \u001b[0;36m__call__\u001b[0;34m(self, iterable)\u001b[0m\n\u001b[1;32m    932\u001b[0m \u001b[0;34m\u001b[0m\u001b[0m\n\u001b[1;32m    933\u001b[0m             \u001b[0;32mwith\u001b[0m \u001b[0mself\u001b[0m\u001b[0;34m.\u001b[0m\u001b[0m_backend\u001b[0m\u001b[0;34m.\u001b[0m\u001b[0mretrieval_context\u001b[0m\u001b[0;34m(\u001b[0m\u001b[0;34m)\u001b[0m\u001b[0;34m:\u001b[0m\u001b[0;34m\u001b[0m\u001b[0;34m\u001b[0m\u001b[0m\n\u001b[0;32m--> 934\u001b[0;31m                 \u001b[0mself\u001b[0m\u001b[0;34m.\u001b[0m\u001b[0mretrieve\u001b[0m\u001b[0;34m(\u001b[0m\u001b[0;34m)\u001b[0m\u001b[0;34m\u001b[0m\u001b[0;34m\u001b[0m\u001b[0m\n\u001b[0m\u001b[1;32m    935\u001b[0m             \u001b[0;31m# Make sure that we get a last message telling us we are done\u001b[0m\u001b[0;34m\u001b[0m\u001b[0;34m\u001b[0m\u001b[0;34m\u001b[0m\u001b[0m\n\u001b[1;32m    936\u001b[0m             \u001b[0melapsed_time\u001b[0m \u001b[0;34m=\u001b[0m \u001b[0mtime\u001b[0m\u001b[0;34m.\u001b[0m\u001b[0mtime\u001b[0m\u001b[0;34m(\u001b[0m\u001b[0;34m)\u001b[0m \u001b[0;34m-\u001b[0m \u001b[0mself\u001b[0m\u001b[0;34m.\u001b[0m\u001b[0m_start_time\u001b[0m\u001b[0;34m\u001b[0m\u001b[0;34m\u001b[0m\u001b[0m\n",
            "\u001b[0;32m/usr/local/lib/python3.6/dist-packages/joblib/parallel.py\u001b[0m in \u001b[0;36mretrieve\u001b[0;34m(self)\u001b[0m\n\u001b[1;32m    831\u001b[0m             \u001b[0;32mtry\u001b[0m\u001b[0;34m:\u001b[0m\u001b[0;34m\u001b[0m\u001b[0;34m\u001b[0m\u001b[0m\n\u001b[1;32m    832\u001b[0m                 \u001b[0;32mif\u001b[0m \u001b[0mgetattr\u001b[0m\u001b[0;34m(\u001b[0m\u001b[0mself\u001b[0m\u001b[0;34m.\u001b[0m\u001b[0m_backend\u001b[0m\u001b[0;34m,\u001b[0m \u001b[0;34m'supports_timeout'\u001b[0m\u001b[0;34m,\u001b[0m \u001b[0;32mFalse\u001b[0m\u001b[0;34m)\u001b[0m\u001b[0;34m:\u001b[0m\u001b[0;34m\u001b[0m\u001b[0;34m\u001b[0m\u001b[0m\n\u001b[0;32m--> 833\u001b[0;31m                     \u001b[0mself\u001b[0m\u001b[0;34m.\u001b[0m\u001b[0m_output\u001b[0m\u001b[0;34m.\u001b[0m\u001b[0mextend\u001b[0m\u001b[0;34m(\u001b[0m\u001b[0mjob\u001b[0m\u001b[0;34m.\u001b[0m\u001b[0mget\u001b[0m\u001b[0;34m(\u001b[0m\u001b[0mtimeout\u001b[0m\u001b[0;34m=\u001b[0m\u001b[0mself\u001b[0m\u001b[0;34m.\u001b[0m\u001b[0mtimeout\u001b[0m\u001b[0;34m)\u001b[0m\u001b[0;34m)\u001b[0m\u001b[0;34m\u001b[0m\u001b[0;34m\u001b[0m\u001b[0m\n\u001b[0m\u001b[1;32m    834\u001b[0m                 \u001b[0;32melse\u001b[0m\u001b[0;34m:\u001b[0m\u001b[0;34m\u001b[0m\u001b[0;34m\u001b[0m\u001b[0m\n\u001b[1;32m    835\u001b[0m                     \u001b[0mself\u001b[0m\u001b[0;34m.\u001b[0m\u001b[0m_output\u001b[0m\u001b[0;34m.\u001b[0m\u001b[0mextend\u001b[0m\u001b[0;34m(\u001b[0m\u001b[0mjob\u001b[0m\u001b[0;34m.\u001b[0m\u001b[0mget\u001b[0m\u001b[0;34m(\u001b[0m\u001b[0;34m)\u001b[0m\u001b[0;34m)\u001b[0m\u001b[0;34m\u001b[0m\u001b[0;34m\u001b[0m\u001b[0m\n",
            "\u001b[0;32m/usr/local/lib/python3.6/dist-packages/joblib/_parallel_backends.py\u001b[0m in \u001b[0;36mwrap_future_result\u001b[0;34m(future, timeout)\u001b[0m\n\u001b[1;32m    519\u001b[0m         AsyncResults.get from multiprocessing.\"\"\"\n\u001b[1;32m    520\u001b[0m         \u001b[0;32mtry\u001b[0m\u001b[0;34m:\u001b[0m\u001b[0;34m\u001b[0m\u001b[0;34m\u001b[0m\u001b[0m\n\u001b[0;32m--> 521\u001b[0;31m             \u001b[0;32mreturn\u001b[0m \u001b[0mfuture\u001b[0m\u001b[0;34m.\u001b[0m\u001b[0mresult\u001b[0m\u001b[0;34m(\u001b[0m\u001b[0mtimeout\u001b[0m\u001b[0;34m=\u001b[0m\u001b[0mtimeout\u001b[0m\u001b[0;34m)\u001b[0m\u001b[0;34m\u001b[0m\u001b[0;34m\u001b[0m\u001b[0m\n\u001b[0m\u001b[1;32m    522\u001b[0m         \u001b[0;32mexcept\u001b[0m \u001b[0mLokyTimeoutError\u001b[0m\u001b[0;34m:\u001b[0m\u001b[0;34m\u001b[0m\u001b[0;34m\u001b[0m\u001b[0m\n\u001b[1;32m    523\u001b[0m             \u001b[0;32mraise\u001b[0m \u001b[0mTimeoutError\u001b[0m\u001b[0;34m(\u001b[0m\u001b[0;34m)\u001b[0m\u001b[0;34m\u001b[0m\u001b[0;34m\u001b[0m\u001b[0m\n",
            "\u001b[0;32m/usr/lib/python3.6/concurrent/futures/_base.py\u001b[0m in \u001b[0;36mresult\u001b[0;34m(self, timeout)\u001b[0m\n\u001b[1;32m    425\u001b[0m                 \u001b[0;32mreturn\u001b[0m \u001b[0mself\u001b[0m\u001b[0;34m.\u001b[0m\u001b[0m__get_result\u001b[0m\u001b[0;34m(\u001b[0m\u001b[0;34m)\u001b[0m\u001b[0;34m\u001b[0m\u001b[0;34m\u001b[0m\u001b[0m\n\u001b[1;32m    426\u001b[0m \u001b[0;34m\u001b[0m\u001b[0m\n\u001b[0;32m--> 427\u001b[0;31m             \u001b[0mself\u001b[0m\u001b[0;34m.\u001b[0m\u001b[0m_condition\u001b[0m\u001b[0;34m.\u001b[0m\u001b[0mwait\u001b[0m\u001b[0;34m(\u001b[0m\u001b[0mtimeout\u001b[0m\u001b[0;34m)\u001b[0m\u001b[0;34m\u001b[0m\u001b[0;34m\u001b[0m\u001b[0m\n\u001b[0m\u001b[1;32m    428\u001b[0m \u001b[0;34m\u001b[0m\u001b[0m\n\u001b[1;32m    429\u001b[0m             \u001b[0;32mif\u001b[0m \u001b[0mself\u001b[0m\u001b[0;34m.\u001b[0m\u001b[0m_state\u001b[0m \u001b[0;32min\u001b[0m \u001b[0;34m[\u001b[0m\u001b[0mCANCELLED\u001b[0m\u001b[0;34m,\u001b[0m \u001b[0mCANCELLED_AND_NOTIFIED\u001b[0m\u001b[0;34m]\u001b[0m\u001b[0;34m:\u001b[0m\u001b[0;34m\u001b[0m\u001b[0;34m\u001b[0m\u001b[0m\n",
            "\u001b[0;32m/usr/lib/python3.6/threading.py\u001b[0m in \u001b[0;36mwait\u001b[0;34m(self, timeout)\u001b[0m\n\u001b[1;32m    293\u001b[0m         \u001b[0;32mtry\u001b[0m\u001b[0;34m:\u001b[0m    \u001b[0;31m# restore state no matter what (e.g., KeyboardInterrupt)\u001b[0m\u001b[0;34m\u001b[0m\u001b[0;34m\u001b[0m\u001b[0m\n\u001b[1;32m    294\u001b[0m             \u001b[0;32mif\u001b[0m \u001b[0mtimeout\u001b[0m \u001b[0;32mis\u001b[0m \u001b[0;32mNone\u001b[0m\u001b[0;34m:\u001b[0m\u001b[0;34m\u001b[0m\u001b[0;34m\u001b[0m\u001b[0m\n\u001b[0;32m--> 295\u001b[0;31m                 \u001b[0mwaiter\u001b[0m\u001b[0;34m.\u001b[0m\u001b[0macquire\u001b[0m\u001b[0;34m(\u001b[0m\u001b[0;34m)\u001b[0m\u001b[0;34m\u001b[0m\u001b[0;34m\u001b[0m\u001b[0m\n\u001b[0m\u001b[1;32m    296\u001b[0m                 \u001b[0mgotit\u001b[0m \u001b[0;34m=\u001b[0m \u001b[0;32mTrue\u001b[0m\u001b[0;34m\u001b[0m\u001b[0;34m\u001b[0m\u001b[0m\n\u001b[1;32m    297\u001b[0m             \u001b[0;32melse\u001b[0m\u001b[0;34m:\u001b[0m\u001b[0;34m\u001b[0m\u001b[0;34m\u001b[0m\u001b[0m\n",
            "\u001b[0;31mKeyboardInterrupt\u001b[0m: "
          ]
        }
      ]
    },
    {
      "cell_type": "code",
      "metadata": {
        "id": "uDVl4FrPfWyn",
        "colab_type": "code",
        "outputId": "968cfcf5-a92e-4c90-c90e-7c484e11395e",
        "colab": {
          "base_uri": "https://localhost:8080/",
          "height": 255
        }
      },
      "source": [
        "y_pred,y_test  =  rfCLF (mw_clust_X_train,mw_clust_y_train['rCSI_category'], mw_clust_X_test,mw_clust_y_test['rCSI_category'] )\n",
        "\n",
        "print(classification_report(y_test, y_pred))\n"
      ],
      "execution_count": 0,
      "outputs": [
        {
          "output_type": "stream",
          "text": [
            "Fitting 3 folds for each of 30 candidates, totalling 90 fits\n"
          ],
          "name": "stdout"
        },
        {
          "output_type": "stream",
          "text": [
            "[Parallel(n_jobs=-1)]: Using backend LokyBackend with 2 concurrent workers.\n",
            "[Parallel(n_jobs=-1)]: Done  37 tasks      | elapsed:    7.9s\n",
            "[Parallel(n_jobs=-1)]: Done  90 out of  90 | elapsed:   19.0s finished\n"
          ],
          "name": "stderr"
        },
        {
          "output_type": "stream",
          "text": [
            "              precision    recall  f1-score   support\n",
            "\n",
            "           0       0.39      0.93      0.55       157\n",
            "           1       0.78      0.20      0.32       282\n",
            "           2       0.00      0.00      0.00         6\n",
            "\n",
            "    accuracy                           0.45       445\n",
            "   macro avg       0.39      0.38      0.29       445\n",
            "weighted avg       0.63      0.45      0.39       445\n",
            "\n"
          ],
          "name": "stdout"
        }
      ]
    },
    {
      "cell_type": "code",
      "metadata": {
        "colab_type": "code",
        "id": "aRIzyyJ_70qV",
        "outputId": "c5c12019-b1d8-41db-ef7b-2388d1813f5f",
        "colab": {
          "base_uri": "https://localhost:8080/",
          "height": 238
        }
      },
      "source": [
        "y_pred,y_test  = XGBCLF (mw_clust_X_train,mw_clust_y_train['FCS_category'], mw_clust_X_test,mw_clust_y_test['FCS_category'] )\n",
        "\n",
        "print(classification_report(y_test, y_pred))\n"
      ],
      "execution_count": 0,
      "outputs": [
        {
          "output_type": "stream",
          "text": [
            "Fitting 3 folds for each of 30 candidates, totalling 90 fits\n"
          ],
          "name": "stdout"
        },
        {
          "output_type": "stream",
          "text": [
            "[Parallel(n_jobs=-1)]: Using backend LokyBackend with 2 concurrent workers.\n",
            "[Parallel(n_jobs=-1)]: Done  37 tasks      | elapsed:   44.4s\n",
            "[Parallel(n_jobs=-1)]: Done  90 out of  90 | elapsed:  1.7min finished\n"
          ],
          "name": "stderr"
        },
        {
          "output_type": "stream",
          "text": [
            "              precision    recall  f1-score   support\n",
            "\n",
            "           0       0.69      1.00      0.82       309\n",
            "           1       0.00      0.00      0.00       136\n",
            "\n",
            "    accuracy                           0.69       445\n",
            "   macro avg       0.35      0.50      0.41       445\n",
            "weighted avg       0.48      0.69      0.57       445\n",
            "\n"
          ],
          "name": "stdout"
        }
      ]
    },
    {
      "cell_type": "code",
      "metadata": {
        "id": "ARKdfCI-hAA7",
        "colab_type": "code",
        "outputId": "f61abf29-4c46-498c-e0e3-f6e4c245fa7e",
        "colab": {
          "base_uri": "https://localhost:8080/",
          "height": 238
        }
      },
      "source": [
        "y_pred,y_test  =  XGBCLF (mw_clust_X_train,mw_clust_y_train['HDDS_category'], mw_clust_X_test,mw_clust_y_test['HDDS_category'] )\n",
        "\n",
        "print(classification_report(y_test, y_pred))\n"
      ],
      "execution_count": 0,
      "outputs": [
        {
          "output_type": "stream",
          "text": [
            "Fitting 3 folds for each of 30 candidates, totalling 90 fits\n"
          ],
          "name": "stdout"
        },
        {
          "output_type": "stream",
          "text": [
            "[Parallel(n_jobs=-1)]: Using backend LokyBackend with 2 concurrent workers.\n",
            "[Parallel(n_jobs=-1)]: Done  37 tasks      | elapsed:   34.2s\n",
            "[Parallel(n_jobs=-1)]: Done  90 out of  90 | elapsed:  1.3min finished\n"
          ],
          "name": "stderr"
        },
        {
          "output_type": "stream",
          "text": [
            "              precision    recall  f1-score   support\n",
            "\n",
            "           0       0.00      0.00      0.00         0\n",
            "           1       1.00      0.66      0.79       445\n",
            "\n",
            "    accuracy                           0.66       445\n",
            "   macro avg       0.50      0.33      0.40       445\n",
            "weighted avg       1.00      0.66      0.79       445\n",
            "\n"
          ],
          "name": "stdout"
        }
      ]
    },
    {
      "cell_type": "code",
      "metadata": {
        "id": "CfD1dUt1hCra",
        "colab_type": "code",
        "outputId": "e6a79013-3019-4740-cf1d-faf610121611",
        "colab": {
          "base_uri": "https://localhost:8080/",
          "height": 255
        }
      },
      "source": [
        "y_pred,y_test  =  XGBCLF (mw_clust_X_train,mw_clust_y_train['rCSI_category'], mw_clust_X_test,mw_clust_y_test['rCSI_category'] )\n",
        "\n",
        "print(classification_report(y_test, y_pred))\n"
      ],
      "execution_count": 0,
      "outputs": [
        {
          "output_type": "stream",
          "text": [
            "Fitting 3 folds for each of 30 candidates, totalling 90 fits\n"
          ],
          "name": "stdout"
        },
        {
          "output_type": "stream",
          "text": [
            "[Parallel(n_jobs=-1)]: Using backend LokyBackend with 2 concurrent workers.\n",
            "[Parallel(n_jobs=-1)]: Done  37 tasks      | elapsed:   33.3s\n",
            "[Parallel(n_jobs=-1)]: Done  90 out of  90 | elapsed:  1.3min finished\n"
          ],
          "name": "stderr"
        },
        {
          "output_type": "stream",
          "text": [
            "              precision    recall  f1-score   support\n",
            "\n",
            "           0       0.59      0.55      0.57       157\n",
            "           1       0.74      0.79      0.77       282\n",
            "           2       0.00      0.00      0.00         6\n",
            "\n",
            "    accuracy                           0.69       445\n",
            "   macro avg       0.45      0.45      0.45       445\n",
            "weighted avg       0.68      0.69      0.69       445\n",
            "\n"
          ],
          "name": "stdout"
        }
      ]
    },
    {
      "cell_type": "code",
      "metadata": {
        "id": "qC_JeJo-1N8T",
        "colab_type": "code",
        "outputId": "9fc98071-7fab-4a37-c802-1ddc8fa5285d",
        "colab": {
          "base_uri": "https://localhost:8080/",
          "height": 1000
        }
      },
      "source": [
        "y_pred,y_test = TreeCLF (tz_clust_X_train,tz_clust_y_train['FCS_category'], tz_clust_X_test,tz_clust_y_test['FCS_category'] )\n",
        "\n",
        "print(classification_report(y_test, y_pred))\n",
        "\n",
        "y_pred,y_test  = TreeCLF (tz_clust_X_train,tz_clust_y_train['HDDS_category'], tz_clust_X_test,tz_clust_y_test['HDDS_category'] )\n",
        "\n",
        "print(classification_report(y_test, y_pred))\n",
        "\n",
        "y_pred,y_test  = TreeCLF (tz_clust_X_train,tz_clust_y_train['rCSI_category'], tz_clust_X_test,tz_clust_y_test['rCSI_category'] )\n",
        "print(classification_report(y_test, y_pred))\n",
        "\n",
        "\n",
        "y_pred,y_test  =  rfCLF (tz_clust_X_train,tz_clust_y_train['FCS_category'], tz_clust_X_test,tz_clust_y_test['FCS_category'] )\n",
        "print(classification_report(y_test, y_pred))\n",
        "\n",
        "y_pred,y_test  = rfCLF (tz_clust_X_train,tz_clust_y_train['HDDS_category'], tz_clust_X_test,tz_clust_y_test['HDDS_category'] )\n",
        "\n",
        "print(classification_report(y_test, y_pred))\n",
        "\n",
        "\n",
        "y_pred,y_test  =  rfCLF (tz_clust_X_train,tz_clust_y_train['rCSI_category'], tz_clust_X_test,tz_clust_y_test['rCSI_category'] )\n",
        "\n",
        "print(classification_report(y_test, y_pred))\n",
        "\n",
        "\n",
        "y_pred,y_test  = XGBCLF (tz_clust_X_train,tz_clust_y_train['FCS_category'], tz_clust_X_test,tz_clust_y_test['FCS_category'] )\n",
        "\n",
        "print(classification_report(y_test, y_pred))\n",
        "\n",
        "\n",
        "y_pred,y_test  =  XGBCLF (tz_clust_X_train,tz_clust_y_train['HDDS_category'], tz_clust_X_test,tz_clust_y_test['HDDS_category'] )\n",
        "\n",
        "print(classification_report(y_test, y_pred))\n",
        "\n",
        "y_pred,y_test  =  XGBCLF (tz_clust_X_train,tz_clust_y_train['rCSI_category'], tz_clust_X_test,tz_clust_y_test['rCSI_category'] )\n",
        "\n",
        "print(classification_report(y_test, y_pred))"
      ],
      "execution_count": 0,
      "outputs": [
        {
          "output_type": "stream",
          "text": [
            "Fitting 3 folds for each of 30 candidates, totalling 90 fits\n"
          ],
          "name": "stdout"
        },
        {
          "output_type": "stream",
          "text": [
            "[Parallel(n_jobs=-1)]: Using backend LokyBackend with 2 concurrent workers.\n",
            "[Parallel(n_jobs=-1)]: Done  90 out of  90 | elapsed:    0.8s finished\n",
            "[Parallel(n_jobs=-1)]: Using backend LokyBackend with 2 concurrent workers.\n"
          ],
          "name": "stderr"
        },
        {
          "output_type": "stream",
          "text": [
            "              precision    recall  f1-score   support\n",
            "\n",
            "           0       0.89      1.00      0.94       342\n",
            "           1       0.50      0.02      0.04        43\n",
            "           2       0.00      0.00      0.00         1\n",
            "\n",
            "    accuracy                           0.89       386\n",
            "   macro avg       0.46      0.34      0.33       386\n",
            "weighted avg       0.84      0.89      0.84       386\n",
            "\n",
            "Fitting 3 folds for each of 30 candidates, totalling 90 fits\n"
          ],
          "name": "stdout"
        },
        {
          "output_type": "stream",
          "text": [
            "[Parallel(n_jobs=-1)]: Done  90 out of  90 | elapsed:    0.8s finished\n",
            "[Parallel(n_jobs=-1)]: Using backend LokyBackend with 2 concurrent workers.\n"
          ],
          "name": "stderr"
        },
        {
          "output_type": "stream",
          "text": [
            "              precision    recall  f1-score   support\n",
            "\n",
            "           0       0.50      0.02      0.05        82\n",
            "           1       0.79      0.99      0.88       304\n",
            "\n",
            "    accuracy                           0.79       386\n",
            "   macro avg       0.65      0.51      0.46       386\n",
            "weighted avg       0.73      0.79      0.70       386\n",
            "\n",
            "Fitting 3 folds for each of 30 candidates, totalling 90 fits\n"
          ],
          "name": "stdout"
        },
        {
          "output_type": "stream",
          "text": [
            "[Parallel(n_jobs=-1)]: Done  90 out of  90 | elapsed:    0.8s finished\n",
            "[Parallel(n_jobs=-1)]: Using backend LokyBackend with 2 concurrent workers.\n"
          ],
          "name": "stderr"
        },
        {
          "output_type": "stream",
          "text": [
            "              precision    recall  f1-score   support\n",
            "\n",
            "           0       0.65      0.83      0.73       227\n",
            "           1       0.58      0.37      0.45       153\n",
            "           2       0.00      0.00      0.00         6\n",
            "\n",
            "    accuracy                           0.63       386\n",
            "   macro avg       0.41      0.40      0.39       386\n",
            "weighted avg       0.61      0.63      0.61       386\n",
            "\n",
            "Fitting 3 folds for each of 30 candidates, totalling 90 fits\n"
          ],
          "name": "stdout"
        },
        {
          "output_type": "stream",
          "text": [
            "[Parallel(n_jobs=-1)]: Done  37 tasks      | elapsed:    9.3s\n",
            "[Parallel(n_jobs=-1)]: Done  90 out of  90 | elapsed:   22.1s finished\n"
          ],
          "name": "stderr"
        },
        {
          "output_type": "stream",
          "text": [
            "              precision    recall  f1-score   support\n",
            "\n",
            "           0       0.89      1.00      0.94       342\n",
            "           1       0.00      0.00      0.00        43\n",
            "           2       0.00      0.00      0.00         1\n",
            "\n",
            "    accuracy                           0.89       386\n",
            "   macro avg       0.30      0.33      0.31       386\n",
            "weighted avg       0.79      0.89      0.83       386\n",
            "\n",
            "Fitting 3 folds for each of 30 candidates, totalling 90 fits\n"
          ],
          "name": "stdout"
        },
        {
          "output_type": "stream",
          "text": [
            "[Parallel(n_jobs=-1)]: Using backend LokyBackend with 2 concurrent workers.\n",
            "[Parallel(n_jobs=-1)]: Done  37 tasks      | elapsed:    9.2s\n",
            "[Parallel(n_jobs=-1)]: Done  90 out of  90 | elapsed:   22.0s finished\n",
            "[Parallel(n_jobs=-1)]: Using backend LokyBackend with 2 concurrent workers.\n"
          ],
          "name": "stderr"
        },
        {
          "output_type": "stream",
          "text": [
            "              precision    recall  f1-score   support\n",
            "\n",
            "           0       0.00      0.00      0.00        82\n",
            "           1       0.79      1.00      0.88       304\n",
            "\n",
            "    accuracy                           0.79       386\n",
            "   macro avg       0.39      0.50      0.44       386\n",
            "weighted avg       0.62      0.79      0.69       386\n",
            "\n",
            "Fitting 3 folds for each of 30 candidates, totalling 90 fits\n"
          ],
          "name": "stdout"
        },
        {
          "output_type": "stream",
          "text": [
            "[Parallel(n_jobs=-1)]: Done  37 tasks      | elapsed:    9.6s\n",
            "[Parallel(n_jobs=-1)]: Done  90 out of  90 | elapsed:   22.9s finished\n"
          ],
          "name": "stderr"
        },
        {
          "output_type": "stream",
          "text": [
            "              precision    recall  f1-score   support\n",
            "\n",
            "           0       0.64      0.88      0.74       227\n",
            "           1       0.57      0.28      0.38       153\n",
            "           2       0.00      0.00      0.00         6\n",
            "\n",
            "    accuracy                           0.63       386\n",
            "   macro avg       0.40      0.39      0.37       386\n",
            "weighted avg       0.60      0.63      0.58       386\n",
            "\n",
            "Fitting 3 folds for each of 30 candidates, totalling 90 fits\n"
          ],
          "name": "stdout"
        },
        {
          "output_type": "stream",
          "text": [
            "[Parallel(n_jobs=-1)]: Using backend LokyBackend with 2 concurrent workers.\n",
            "[Parallel(n_jobs=-1)]: Done  37 tasks      | elapsed:   33.6s\n",
            "[Parallel(n_jobs=-1)]: Done  90 out of  90 | elapsed:  1.3min finished\n"
          ],
          "name": "stderr"
        },
        {
          "output_type": "stream",
          "text": [
            "              precision    recall  f1-score   support\n",
            "\n",
            "           0       0.91      0.96      0.93       342\n",
            "           1       0.41      0.21      0.28        43\n",
            "           2       0.00      0.00      0.00         1\n",
            "\n",
            "    accuracy                           0.88       386\n",
            "   macro avg       0.44      0.39      0.40       386\n",
            "weighted avg       0.85      0.88      0.86       386\n",
            "\n",
            "Fitting 3 folds for each of 30 candidates, totalling 90 fits\n"
          ],
          "name": "stdout"
        },
        {
          "output_type": "stream",
          "text": [
            "[Parallel(n_jobs=-1)]: Using backend LokyBackend with 2 concurrent workers.\n",
            "[Parallel(n_jobs=-1)]: Done  37 tasks      | elapsed:   31.6s\n",
            "[Parallel(n_jobs=-1)]: Done  90 out of  90 | elapsed:  1.2min finished\n"
          ],
          "name": "stderr"
        },
        {
          "output_type": "stream",
          "text": [
            "              precision    recall  f1-score   support\n",
            "\n",
            "           0       0.58      0.23      0.33        82\n",
            "           1       0.82      0.95      0.88       304\n",
            "\n",
            "    accuracy                           0.80       386\n",
            "   macro avg       0.70      0.59      0.61       386\n",
            "weighted avg       0.77      0.80      0.77       386\n",
            "\n",
            "Fitting 3 folds for each of 30 candidates, totalling 90 fits\n"
          ],
          "name": "stdout"
        },
        {
          "output_type": "stream",
          "text": [
            "[Parallel(n_jobs=-1)]: Using backend LokyBackend with 2 concurrent workers.\n",
            "[Parallel(n_jobs=-1)]: Done  37 tasks      | elapsed:   36.9s\n",
            "[Parallel(n_jobs=-1)]: Done  90 out of  90 | elapsed:  1.4min finished\n"
          ],
          "name": "stderr"
        },
        {
          "output_type": "stream",
          "text": [
            "              precision    recall  f1-score   support\n",
            "\n",
            "           0       0.65      0.81      0.73       227\n",
            "           1       0.56      0.38      0.45       153\n",
            "           2       0.00      0.00      0.00         6\n",
            "\n",
            "    accuracy                           0.63       386\n",
            "   macro avg       0.41      0.40      0.39       386\n",
            "weighted avg       0.61      0.63      0.61       386\n",
            "\n"
          ],
          "name": "stdout"
        }
      ]
    },
    {
      "cell_type": "code",
      "metadata": {
        "id": "avVDgEmM2JV6",
        "colab_type": "code",
        "outputId": "7d5ef202-cdfc-416a-f385-8e106674de2b",
        "colab": {
          "base_uri": "https://localhost:8080/",
          "height": 1000
        }
      },
      "source": [
        "y_pred,y_test = TreeCLF (ug_clust_X_train,ug_clust_y_train['FCS_category'], ug_clust_X_test,ug_clust_y_test['FCS_category'] )\n",
        "\n",
        "print(classification_report(y_test, y_pred))\n",
        "\n",
        "y_pred,y_test  = TreeCLF (ug_clust_X_train,ug_clust_y_train['HDDS_category'], ug_clust_X_test,ug_clust_y_test['HDDS_category'] )\n",
        "\n",
        "print(classification_report(y_test, y_pred))\n",
        "\n",
        "\n",
        "y_pred,y_test  =  rfCLF (ug_clust_X_train,ug_clust_y_train['FCS_category'], ug_clust_X_test,ug_clust_y_test['FCS_category'] )\n",
        "print(classification_report(y_test, y_pred))\n",
        "\n",
        "y_pred,y_test  = rfCLF (ug_clust_X_train,ug_clust_y_train['HDDS_category'], ug_clust_X_test,ug_clust_y_test['HDDS_category'] )\n",
        "\n",
        "print(classification_report(y_test, y_pred))\n",
        "\n",
        "\n",
        "\n",
        "y_pred,y_test  = XGBCLF (ug_clust_X_train,ug_clust_y_train['FCS_category'], ug_clust_X_test,ug_clust_y_test['FCS_category'] )\n",
        "\n",
        "print(classification_report(y_test, y_pred))\n",
        "\n",
        "\n",
        "y_pred,y_test  =  XGBCLF (ug_clust_X_train,ug_clust_y_train['HDDS_category'], ug_clust_X_test,ug_clust_y_test['HDDS_category'] )\n",
        "\n",
        "print(classification_report(y_test, y_pred))\n",
        "\n"
      ],
      "execution_count": 0,
      "outputs": [
        {
          "output_type": "stream",
          "text": [
            "Fitting 3 folds for each of 30 candidates, totalling 90 fits\n"
          ],
          "name": "stdout"
        },
        {
          "output_type": "stream",
          "text": [
            "[Parallel(n_jobs=-1)]: Using backend LokyBackend with 2 concurrent workers.\n",
            "[Parallel(n_jobs=-1)]: Done  90 out of  90 | elapsed:    0.6s finished\n",
            "[Parallel(n_jobs=-1)]: Using backend LokyBackend with 2 concurrent workers.\n"
          ],
          "name": "stderr"
        },
        {
          "output_type": "stream",
          "text": [
            "              precision    recall  f1-score   support\n",
            "\n",
            "           0       0.82      0.86      0.84       334\n",
            "           1       0.42      0.37      0.39        97\n",
            "           2       1.00      0.11      0.20         9\n",
            "\n",
            "    accuracy                           0.74       440\n",
            "   macro avg       0.74      0.45      0.48       440\n",
            "weighted avg       0.73      0.74      0.73       440\n",
            "\n",
            "Fitting 3 folds for each of 30 candidates, totalling 90 fits\n"
          ],
          "name": "stdout"
        },
        {
          "output_type": "stream",
          "text": [
            "[Parallel(n_jobs=-1)]: Done  90 out of  90 | elapsed:    0.6s finished\n",
            "[Parallel(n_jobs=-1)]: Using backend LokyBackend with 2 concurrent workers.\n"
          ],
          "name": "stderr"
        },
        {
          "output_type": "stream",
          "text": [
            "              precision    recall  f1-score   support\n",
            "\n",
            "           0       0.00      0.00      0.00        49\n",
            "           1       0.88      1.00      0.94       389\n",
            "           2       0.00      0.00      0.00         2\n",
            "\n",
            "    accuracy                           0.88       440\n",
            "   macro avg       0.29      0.33      0.31       440\n",
            "weighted avg       0.78      0.88      0.83       440\n",
            "\n",
            "Fitting 3 folds for each of 30 candidates, totalling 90 fits\n"
          ],
          "name": "stdout"
        },
        {
          "output_type": "stream",
          "text": [
            "[Parallel(n_jobs=-1)]: Done  37 tasks      | elapsed:    5.6s\n",
            "[Parallel(n_jobs=-1)]: Done  90 out of  90 | elapsed:   13.4s finished\n",
            "[Parallel(n_jobs=-1)]: Using backend LokyBackend with 2 concurrent workers.\n"
          ],
          "name": "stderr"
        },
        {
          "output_type": "stream",
          "text": [
            "              precision    recall  f1-score   support\n",
            "\n",
            "           0       0.80      0.96      0.87       334\n",
            "           1       0.46      0.16      0.24        97\n",
            "           2       0.00      0.00      0.00         9\n",
            "\n",
            "    accuracy                           0.77       440\n",
            "   macro avg       0.42      0.38      0.37       440\n",
            "weighted avg       0.70      0.77      0.71       440\n",
            "\n",
            "Fitting 3 folds for each of 30 candidates, totalling 90 fits\n"
          ],
          "name": "stdout"
        },
        {
          "output_type": "stream",
          "text": [
            "[Parallel(n_jobs=-1)]: Done  37 tasks      | elapsed:    5.2s\n",
            "[Parallel(n_jobs=-1)]: Done  90 out of  90 | elapsed:   12.6s finished\n",
            "[Parallel(n_jobs=-1)]: Using backend LokyBackend with 2 concurrent workers.\n"
          ],
          "name": "stderr"
        },
        {
          "output_type": "stream",
          "text": [
            "              precision    recall  f1-score   support\n",
            "\n",
            "           0       0.00      0.00      0.00        49\n",
            "           1       0.88      1.00      0.94       389\n",
            "           2       0.00      0.00      0.00         2\n",
            "\n",
            "    accuracy                           0.88       440\n",
            "   macro avg       0.29      0.33      0.31       440\n",
            "weighted avg       0.78      0.88      0.83       440\n",
            "\n",
            "Fitting 3 folds for each of 30 candidates, totalling 90 fits\n"
          ],
          "name": "stdout"
        },
        {
          "output_type": "stream",
          "text": [
            "[Parallel(n_jobs=-1)]: Done  37 tasks      | elapsed:   11.5s\n",
            "[Parallel(n_jobs=-1)]: Done  90 out of  90 | elapsed:   26.6s finished\n"
          ],
          "name": "stderr"
        },
        {
          "output_type": "stream",
          "text": [
            "              precision    recall  f1-score   support\n",
            "\n",
            "           0       0.78      0.96      0.86       334\n",
            "           1       0.41      0.12      0.19        97\n",
            "           2       0.00      0.00      0.00         9\n",
            "\n",
            "    accuracy                           0.76       440\n",
            "   macro avg       0.40      0.36      0.35       440\n",
            "weighted avg       0.69      0.76      0.70       440\n",
            "\n",
            "Fitting 3 folds for each of 30 candidates, totalling 90 fits\n"
          ],
          "name": "stdout"
        },
        {
          "output_type": "stream",
          "text": [
            "[Parallel(n_jobs=-1)]: Using backend LokyBackend with 2 concurrent workers.\n",
            "[Parallel(n_jobs=-1)]: Done  37 tasks      | elapsed:    8.0s\n",
            "[Parallel(n_jobs=-1)]: Done  90 out of  90 | elapsed:   18.9s finished\n"
          ],
          "name": "stderr"
        },
        {
          "output_type": "stream",
          "text": [
            "              precision    recall  f1-score   support\n",
            "\n",
            "           0       0.00      0.00      0.00        49\n",
            "           1       0.88      1.00      0.94       389\n",
            "           2       0.00      0.00      0.00         2\n",
            "\n",
            "    accuracy                           0.88       440\n",
            "   macro avg       0.29      0.33      0.31       440\n",
            "weighted avg       0.78      0.88      0.83       440\n",
            "\n"
          ],
          "name": "stdout"
        }
      ]
    },
    {
      "cell_type": "code",
      "metadata": {
        "id": "S_VPhxlh2Xxg",
        "colab_type": "code",
        "outputId": "626274c3-1153-40ad-dfe7-585a00072a2b",
        "colab": {
          "base_uri": "https://localhost:8080/",
          "height": 34
        }
      },
      "source": [
        "ug_clust_y_train.isnull().values.any()"
      ],
      "execution_count": 0,
      "outputs": [
        {
          "output_type": "execute_result",
          "data": {
            "text/plain": [
              "True"
            ]
          },
          "metadata": {
            "tags": []
          },
          "execution_count": 86
        }
      ]
    },
    {
      "cell_type": "code",
      "metadata": {
        "id": "G2D2l3lj2zHk",
        "colab_type": "code",
        "outputId": "39208728-1cc9-4b69-c08d-53ea5cbe896f",
        "colab": {
          "base_uri": "https://localhost:8080/",
          "height": 34
        }
      },
      "source": [
        "tz_clust_X_train.isnull().values.any()"
      ],
      "execution_count": 0,
      "outputs": [
        {
          "output_type": "execute_result",
          "data": {
            "text/plain": [
              "False"
            ]
          },
          "metadata": {
            "tags": []
          },
          "execution_count": 90
        }
      ]
    },
    {
      "cell_type": "markdown",
      "metadata": {
        "colab_type": "text",
        "id": "abWsB5nGWfra"
      },
      "source": [
        "## Downsample / oversample \n",
        "\n",
        "Using simpler metrics like accuracy_score can be misleading. In a dataset with highly unbalanced classes, if the classifier always \"predicts\" the most common class without performing any analysis of the features, it will still have a high accuracy rate, obviously illusory."
      ]
    },
    {
      "cell_type": "markdown",
      "metadata": {
        "colab_type": "text",
        "id": "CYrYYplPWmyp"
      },
      "source": [
        "Resampling\n",
        "A widely adopted technique for dealing with highly unbalanced datasets is called resampling. It consists of removing samples from the majority class (under-sampling) and / or adding more examples from the minority class (over-sampling).\n",
        "\n",
        "Despite the advantage of balancing classes, these techniques also have their weaknesses (there is no free lunch). The simplest implementation of over-sampling is to duplicate random records from the minority class, which can cause overfitting. In under-sampling, the simplest technique involves removing random records from the majority class, which can cause loss of information.\n",
        "\n"
      ]
    },
    {
      "cell_type": "markdown",
      "metadata": {
        "id": "fDnkoMgM_Xj5",
        "colab_type": "text"
      },
      "source": [
        "### Oversampling"
      ]
    },
    {
      "cell_type": "code",
      "metadata": {
        "colab_type": "code",
        "id": "mx78w6b7XXT6",
        "colab": {
          "base_uri": "https://localhost:8080/",
          "height": 0
        },
        "outputId": "0ca622b5-9143-4125-d02e-cc57b29f31bd"
      },
      "source": [
        "from sklearn.utils import resample\n",
        "\n",
        "# concatenate our training data back together\n",
        "rCSI_df = pd.concat([mw_clust_X_train, mw_clust_y_train['rCSI_category']], axis=1)\n",
        "\n",
        "\n",
        "rCSI_not_crisis = rCSI_df[rCSI_df.rCSI_category==0]\n",
        "rCSI_crisis = rCSI_df[rCSI_df.rCSI_category!=0]\n",
        "\n",
        "# separate minority and majority classes\n",
        "\n",
        "# upsample minority\n",
        "rCSI_crisis_upsampled = resample(rCSI_crisis,\n",
        "                                 replace=True, # sample with replacement\n",
        "                                 n_samples=len(rCSI_not_crisis), # match number in majority class\n",
        "                                 random_state=27) # reproducible results\n",
        "\n",
        "# combine majority and upsampled minority\n",
        "rCSI_upsampled = pd.concat([rCSI_not_crisis, rCSI_crisis_upsampled])\n",
        "\n",
        "rCSI_upsampled_y_train = rCSI_upsampled[\"rCSI_category\"]\n",
        "\n",
        "rCSI_upsampled_X_train = rCSI_upsampled.drop(\"rCSI_category\",axis=1)\n",
        "\n",
        "y_pred,y_test  = rfCLF (rCSI_upsampled_X_train,rCSI_upsampled_y_train, mw_clust_X_test,mw_clust_y_test['rCSI_category'] )\n",
        "\n",
        "print(classification_report(y_test, y_pred))\n",
        "\n",
        "y_pred,y_test  = XGBCLF (rCSI_upsampled_X_train,rCSI_upsampled_y_train, mw_clust_X_test,mw_clust_y_test['rCSI_category'] )\n",
        "\n",
        "print(classification_report(y_test, y_pred))"
      ],
      "execution_count": 36,
      "outputs": [
        {
          "output_type": "stream",
          "text": [
            "Fitting 3 folds for each of 30 candidates, totalling 90 fits\n"
          ],
          "name": "stdout"
        },
        {
          "output_type": "stream",
          "text": [
            "[Parallel(n_jobs=-1)]: Using backend LokyBackend with 2 concurrent workers.\n",
            "[Parallel(n_jobs=-1)]: Done  37 tasks      | elapsed:   12.0s\n",
            "[Parallel(n_jobs=-1)]: Done  90 out of  90 | elapsed:   26.7s finished\n"
          ],
          "name": "stderr"
        },
        {
          "output_type": "stream",
          "text": [
            "              precision    recall  f1-score   support\n",
            "\n",
            "           0       0.39      0.96      0.55       157\n",
            "           1       0.80      0.16      0.26       282\n",
            "           2       0.00      0.00      0.00         6\n",
            "\n",
            "    accuracy                           0.44       445\n",
            "   macro avg       0.40      0.37      0.27       445\n",
            "weighted avg       0.64      0.44      0.36       445\n",
            "\n",
            "Fitting 3 folds for each of 30 candidates, totalling 90 fits\n"
          ],
          "name": "stdout"
        },
        {
          "output_type": "stream",
          "text": [
            "[Parallel(n_jobs=-1)]: Using backend LokyBackend with 2 concurrent workers.\n",
            "[Parallel(n_jobs=-1)]: Done  37 tasks      | elapsed:  1.1min\n",
            "[Parallel(n_jobs=-1)]: Done  90 out of  90 | elapsed:  2.5min finished\n"
          ],
          "name": "stderr"
        },
        {
          "output_type": "stream",
          "text": [
            "              precision    recall  f1-score   support\n",
            "\n",
            "           0       0.62      0.56      0.59       157\n",
            "           1       0.75      0.80      0.78       282\n",
            "           2       0.00      0.00      0.00         6\n",
            "\n",
            "    accuracy                           0.71       445\n",
            "   macro avg       0.46      0.46      0.45       445\n",
            "weighted avg       0.69      0.71      0.70       445\n",
            "\n"
          ],
          "name": "stdout"
        }
      ]
    },
    {
      "cell_type": "code",
      "metadata": {
        "id": "qwQ6T4cuHMdu",
        "colab_type": "code",
        "outputId": "07db6c6a-9351-499a-c08d-604e85b4cfb9",
        "colab": {
          "base_uri": "https://localhost:8080/",
          "height": 459
        }
      },
      "source": [
        "from sklearn.utils import resample\n",
        "\n",
        "# concatenate our training data back together\n",
        "HDDS_df = pd.concat([mw_clust_X_train, mw_clust_y_train['HDDS_category']], axis=1)\n",
        "\n",
        "\n",
        "HDDS_not_crisis = HDDS_df[HDDS_df.HDDS_category==0]\n",
        "HDDS_crisis = HDDS_df[HDDS_df.HDDS_category!=0]\n",
        "\n",
        "# separate minority and majority classes\n",
        "\n",
        "# upsample minority\n",
        "HDDS_crisis_upsampled = resample(HDDS_crisis,\n",
        "                                 replace=True, # sample with replacement\n",
        "                                 n_samples=len(HDDS_not_crisis), # match number in majority class\n",
        "                                 random_state=27) # reproducible results\n",
        "\n",
        "# combine majority and upsampled minority\n",
        "HDDS_upsampled = pd.concat([HDDS_not_crisis, HDDS_crisis_upsampled])\n",
        "\n",
        "HDDS_upsampled_y_train = HDDS_upsampled[\"HDDS_category\"]\n",
        "\n",
        "HDDS_upsampled_X_train = HDDS_upsampled.drop(\"HDDS_category\",axis=1)\n",
        "\n",
        "y_pred,y_test  = rfCLF (HDDS_upsampled_X_train,HDDS_upsampled_y_train, mw_clust_X_test,mw_clust_y_test['HDDS_category'] )\n",
        "\n",
        "print(classification_report(y_test, y_pred))\n",
        "\n",
        "y_pred,y_test  = XGBCLF (HDDS_upsampled_X_train,HDDS_upsampled_y_train, mw_clust_X_test,mw_clust_y_test['HDDS_category'] )\n",
        "\n",
        "print(classification_report(y_test, y_pred))"
      ],
      "execution_count": 0,
      "outputs": [
        {
          "output_type": "stream",
          "text": [
            "Fitting 3 folds for each of 30 candidates, totalling 90 fits\n"
          ],
          "name": "stdout"
        },
        {
          "output_type": "stream",
          "text": [
            "[Parallel(n_jobs=-1)]: Using backend LokyBackend with 2 concurrent workers.\n",
            "[Parallel(n_jobs=-1)]: Done  37 tasks      | elapsed:   11.2s\n",
            "[Parallel(n_jobs=-1)]: Done  90 out of  90 | elapsed:   25.3s finished\n"
          ],
          "name": "stderr"
        },
        {
          "output_type": "stream",
          "text": [
            "              precision    recall  f1-score   support\n",
            "\n",
            "           0       0.00      0.00      0.00         0\n",
            "           1       1.00      0.13      0.23       445\n",
            "\n",
            "    accuracy                           0.13       445\n",
            "   macro avg       0.50      0.07      0.12       445\n",
            "weighted avg       1.00      0.13      0.23       445\n",
            "\n",
            "Fitting 3 folds for each of 30 candidates, totalling 90 fits\n"
          ],
          "name": "stdout"
        },
        {
          "output_type": "stream",
          "text": [
            "[Parallel(n_jobs=-1)]: Using backend LokyBackend with 2 concurrent workers.\n",
            "[Parallel(n_jobs=-1)]: Done  37 tasks      | elapsed:  1.1min\n",
            "[Parallel(n_jobs=-1)]: Done  90 out of  90 | elapsed:  2.5min finished\n"
          ],
          "name": "stderr"
        },
        {
          "output_type": "stream",
          "text": [
            "              precision    recall  f1-score   support\n",
            "\n",
            "           0       0.00      0.00      0.00         0\n",
            "           1       1.00      0.68      0.81       445\n",
            "\n",
            "    accuracy                           0.68       445\n",
            "   macro avg       0.50      0.34      0.40       445\n",
            "weighted avg       1.00      0.68      0.81       445\n",
            "\n"
          ],
          "name": "stdout"
        }
      ]
    },
    {
      "cell_type": "code",
      "metadata": {
        "id": "aoKf2MsrMdys",
        "colab_type": "code",
        "outputId": "86e27d71-be36-4126-8aa3-cb37e0e414af",
        "colab": {
          "base_uri": "https://localhost:8080/",
          "height": 459
        }
      },
      "source": [
        "from sklearn.utils import resample\n",
        "\n",
        "# concatenate our training data back together\n",
        "FCS_df = pd.concat([mw_clust_X_train, mw_clust_y_train['FCS_category']], axis=1)\n",
        "\n",
        "\n",
        "FCS_not_crisis = FCS_df[FCS_df.FCS_category==0]\n",
        "FCS_crisis = FCS_df[FCS_df.FCS_category!=0]\n",
        "\n",
        "# separate minority and majority classes\n",
        "\n",
        "# upsample minority\n",
        "FCS_crisis_upsampled = resample(FCS_crisis,\n",
        "                                 replace=True, # sample with replacement\n",
        "                                 n_samples=len(FCS_not_crisis), # match number in majority class\n",
        "                                 random_state=27) # reproducible results\n",
        "\n",
        "# combine majority and upsampled minority\n",
        "FCS_upsampled = pd.concat([FCS_not_crisis, FCS_crisis_upsampled])\n",
        "\n",
        "FCS_upsampled_y_train = FCS_upsampled[\"FCS_category\"]\n",
        "\n",
        "FCS_upsampled_X_train = FCS_upsampled.drop(\"FCS_category\",axis=1)\n",
        "\n",
        "y_pred,y_test  = rfCLF (FCS_upsampled_X_train,FCS_upsampled_y_train, mw_clust_X_test,mw_clust_y_test['FCS_category'] )\n",
        "\n",
        "print(classification_report(y_test, y_pred))\n",
        "\n",
        "y_pred,y_test  = XGBCLF (FCS_upsampled_X_train,FCS_upsampled_y_train, mw_clust_X_test,mw_clust_y_test['FCS_category'] )\n",
        "\n",
        "print(classification_report(y_test, y_pred))"
      ],
      "execution_count": 0,
      "outputs": [
        {
          "output_type": "stream",
          "text": [
            "Fitting 3 folds for each of 30 candidates, totalling 90 fits\n"
          ],
          "name": "stdout"
        },
        {
          "output_type": "stream",
          "text": [
            "[Parallel(n_jobs=-1)]: Using backend LokyBackend with 2 concurrent workers.\n",
            "[Parallel(n_jobs=-1)]: Done  37 tasks      | elapsed:   10.2s\n",
            "[Parallel(n_jobs=-1)]: Done  90 out of  90 | elapsed:   24.4s finished\n"
          ],
          "name": "stderr"
        },
        {
          "output_type": "stream",
          "text": [
            "              precision    recall  f1-score   support\n",
            "\n",
            "           0       0.80      0.95      0.87       309\n",
            "           1       0.82      0.46      0.59       136\n",
            "\n",
            "    accuracy                           0.80       445\n",
            "   macro avg       0.81      0.71      0.73       445\n",
            "weighted avg       0.81      0.80      0.79       445\n",
            "\n",
            "Fitting 3 folds for each of 30 candidates, totalling 90 fits\n"
          ],
          "name": "stdout"
        },
        {
          "output_type": "stream",
          "text": [
            "[Parallel(n_jobs=-1)]: Using backend LokyBackend with 2 concurrent workers.\n",
            "[Parallel(n_jobs=-1)]: Done  37 tasks      | elapsed:  1.1min\n",
            "[Parallel(n_jobs=-1)]: Done  90 out of  90 | elapsed:  2.5min finished\n"
          ],
          "name": "stderr"
        },
        {
          "output_type": "stream",
          "text": [
            "              precision    recall  f1-score   support\n",
            "\n",
            "           0       0.94      0.43      0.59       309\n",
            "           1       0.42      0.93      0.58       136\n",
            "\n",
            "    accuracy                           0.59       445\n",
            "   macro avg       0.68      0.68      0.59       445\n",
            "weighted avg       0.78      0.59      0.59       445\n",
            "\n"
          ],
          "name": "stdout"
        }
      ]
    },
    {
      "cell_type": "code",
      "metadata": {
        "id": "sgtMEBk-Nqo9",
        "colab_type": "code",
        "outputId": "13e805bc-525f-479f-f6d1-6aad8ec5d2d8",
        "colab": {
          "base_uri": "https://localhost:8080/",
          "height": 459
        }
      },
      "source": [
        "from sklearn.utils import resample\n",
        "\n",
        "# concatenate our training data back together\n",
        "HDDS_df = pd.concat([tz_clust_X_train, tz_clust_y_train['HDDS_category']], axis=1)\n",
        "\n",
        "\n",
        "HDDS_not_crisis = HDDS_df[HDDS_df.HDDS_category==0]\n",
        "HDDS_crisis = HDDS_df[HDDS_df.HDDS_category!=0]\n",
        "\n",
        "# separate minority and majority classes\n",
        "\n",
        "# upsample minority\n",
        "HDDS_crisis_upsampled = resample(HDDS_crisis,\n",
        "                                 replace=True, # sample with replacement\n",
        "                                 n_samples=len(HDDS_not_crisis), # match number in majority class\n",
        "                                 random_state=27) # reproducible results\n",
        "\n",
        "# combine majority and upsampled minority\n",
        "HDDS_upsampled = pd.concat([HDDS_not_crisis, HDDS_crisis_upsampled])\n",
        "\n",
        "HDDS_upsampled_y_train = HDDS_upsampled[\"HDDS_category\"]\n",
        "\n",
        "HDDS_upsampled_X_train = HDDS_upsampled.drop(\"HDDS_category\",axis=1)\n",
        "\n",
        "y_pred,y_test  = rfCLF (HDDS_upsampled_X_train,HDDS_upsampled_y_train, tz_clust_X_test,tz_clust_y_test['HDDS_category'] )\n",
        "\n",
        "print(classification_report(y_test, y_pred))\n",
        "\n",
        "y_pred,y_test  = XGBCLF (HDDS_upsampled_X_train,HDDS_upsampled_y_train, tz_clust_X_test,tz_clust_y_test['HDDS_category'] )\n",
        "\n",
        "print(classification_report(y_test, y_pred))\n",
        "\n",
        "\n",
        "\n",
        "\n"
      ],
      "execution_count": 0,
      "outputs": [
        {
          "output_type": "stream",
          "text": [
            "Fitting 3 folds for each of 30 candidates, totalling 90 fits\n"
          ],
          "name": "stdout"
        },
        {
          "output_type": "stream",
          "text": [
            "[Parallel(n_jobs=-1)]: Using backend LokyBackend with 2 concurrent workers.\n",
            "[Parallel(n_jobs=-1)]: Done  37 tasks      | elapsed:    6.6s\n",
            "[Parallel(n_jobs=-1)]: Done  90 out of  90 | elapsed:   13.6s finished\n",
            "[Parallel(n_jobs=-1)]: Using backend LokyBackend with 2 concurrent workers.\n"
          ],
          "name": "stderr"
        },
        {
          "output_type": "stream",
          "text": [
            "              precision    recall  f1-score   support\n",
            "\n",
            "           0       0.40      0.84      0.55        82\n",
            "           1       0.94      0.66      0.78       304\n",
            "\n",
            "    accuracy                           0.70       386\n",
            "   macro avg       0.67      0.75      0.66       386\n",
            "weighted avg       0.83      0.70      0.73       386\n",
            "\n",
            "Fitting 3 folds for each of 30 candidates, totalling 90 fits\n"
          ],
          "name": "stdout"
        },
        {
          "output_type": "stream",
          "text": [
            "[Parallel(n_jobs=-1)]: Done  37 tasks      | elapsed:   12.6s\n",
            "[Parallel(n_jobs=-1)]: Done  90 out of  90 | elapsed:   29.4s finished\n"
          ],
          "name": "stderr"
        },
        {
          "output_type": "stream",
          "text": [
            "              precision    recall  f1-score   support\n",
            "\n",
            "           0       0.40      0.84      0.54        82\n",
            "           1       0.94      0.65      0.77       304\n",
            "\n",
            "    accuracy                           0.69       386\n",
            "   macro avg       0.67      0.75      0.66       386\n",
            "weighted avg       0.82      0.69      0.72       386\n",
            "\n"
          ],
          "name": "stdout"
        }
      ]
    },
    {
      "cell_type": "code",
      "metadata": {
        "id": "B2XYCANhNr7H",
        "colab_type": "code",
        "outputId": "3b3b6aaa-18bc-4a62-f4cc-17e5aef5eea8",
        "colab": {
          "base_uri": "https://localhost:8080/",
          "height": 493
        }
      },
      "source": [
        "from sklearn.utils import resample\n",
        "\n",
        "# concatenate our training data back together\n",
        "FCS_df = pd.concat([tz_clust_X_train, tz_clust_y_train['FCS_category']], axis=1)\n",
        "\n",
        "\n",
        "FCS_not_crisis = FCS_df[FCS_df.FCS_category==0]\n",
        "FCS_crisis = FCS_df[FCS_df.FCS_category!=0]\n",
        "\n",
        "# separate minority and majority classes\n",
        "\n",
        "# upsample minority\n",
        "FCS_crisis_upsampled = resample(FCS_crisis,\n",
        "                                replace=True, # sample with replacement\n",
        "                                n_samples=len(FCS_not_crisis), # match number in majority class\n",
        "                                random_state=27) # reproducible results\n",
        "\n",
        "# combine majority and upsampled minority\n",
        "FCS_upsampled = pd.concat([FCS_not_crisis, FCS_crisis_upsampled])\n",
        "\n",
        "FCS_upsampled_y_train = FCS_upsampled[\"FCS_category\"]\n",
        "\n",
        "FCS_upsampled_X_train = FCS_upsampled.drop(\"FCS_category\",axis=1)\n",
        "\n",
        "y_pred,y_test  = rfCLF (FCS_upsampled_X_train,FCS_upsampled_y_train, tz_clust_X_test,tz_clust_y_test['FCS_category'] )\n",
        "\n",
        "print(classification_report(y_test, y_pred))\n",
        "\n",
        "y_pred,y_test  = XGBCLF (FCS_upsampled_X_train,FCS_upsampled_y_train, tz_clust_X_test,tz_clust_y_test['FCS_category'] )\n",
        "\n",
        "print(classification_report(y_test, y_pred))"
      ],
      "execution_count": 0,
      "outputs": [
        {
          "output_type": "stream",
          "text": [
            "Fitting 3 folds for each of 30 candidates, totalling 90 fits\n"
          ],
          "name": "stdout"
        },
        {
          "output_type": "stream",
          "text": [
            "[Parallel(n_jobs=-1)]: Using backend LokyBackend with 2 concurrent workers.\n",
            "[Parallel(n_jobs=-1)]: Done  37 tasks      | elapsed:   12.5s\n",
            "[Parallel(n_jobs=-1)]: Done  90 out of  90 | elapsed:   29.7s finished\n"
          ],
          "name": "stderr"
        },
        {
          "output_type": "stream",
          "text": [
            "              precision    recall  f1-score   support\n",
            "\n",
            "           0       0.93      0.92      0.92       342\n",
            "           1       0.39      0.44      0.41        43\n",
            "           2       0.00      0.00      0.00         1\n",
            "\n",
            "    accuracy                           0.86       386\n",
            "   macro avg       0.44      0.45      0.44       386\n",
            "weighted avg       0.87      0.86      0.86       386\n",
            "\n",
            "Fitting 3 folds for each of 30 candidates, totalling 90 fits\n"
          ],
          "name": "stdout"
        },
        {
          "output_type": "stream",
          "text": [
            "[Parallel(n_jobs=-1)]: Using backend LokyBackend with 2 concurrent workers.\n",
            "[Parallel(n_jobs=-1)]: Done  37 tasks      | elapsed:   55.9s\n",
            "[Parallel(n_jobs=-1)]: Done  90 out of  90 | elapsed:  2.1min finished\n"
          ],
          "name": "stderr"
        },
        {
          "output_type": "stream",
          "text": [
            "              precision    recall  f1-score   support\n",
            "\n",
            "           0       0.95      0.83      0.89       342\n",
            "           1       0.32      0.63      0.42        43\n",
            "           2       0.00      0.00      0.00         1\n",
            "\n",
            "    accuracy                           0.81       386\n",
            "   macro avg       0.42      0.49      0.44       386\n",
            "weighted avg       0.87      0.81      0.83       386\n",
            "\n"
          ],
          "name": "stdout"
        }
      ]
    },
    {
      "cell_type": "code",
      "metadata": {
        "id": "tvCn0iVSWhDV",
        "colab_type": "code",
        "outputId": "fd320978-88f1-4728-ae66-2cce159a622b",
        "colab": {
          "base_uri": "https://localhost:8080/",
          "height": 493
        }
      },
      "source": [
        "from sklearn.utils import resample\n",
        "\n",
        "# concatenate our training data back together\n",
        "rCSI_df = pd.concat([tz_clust_X_train, tz_clust_y_train['rCSI_category']], axis=1)\n",
        "\n",
        "\n",
        "rCSI_not_crisis = rCSI_df[rCSI_df.rCSI_category==0]\n",
        "rCSI_crisis = rCSI_df[rCSI_df.rCSI_category!=0]\n",
        "\n",
        "# separate minority and majority classes\n",
        "\n",
        "# upsample minority\n",
        "rCSI_crisis_upsampled = resample(rCSI_crisis,\n",
        "                                replace=True, # sample with replacement\n",
        "                                n_samples=len(rCSI_not_crisis), # match number in majority class\n",
        "                                random_state=27) # reproducible results\n",
        "\n",
        "# combine majority and upsampled minority\n",
        "rCSI_upsampled = pd.concat([rCSI_not_crisis, rCSI_crisis_upsampled])\n",
        "\n",
        "rCSI_upsampled_y_train = rCSI_upsampled[\"rCSI_category\"]\n",
        "\n",
        "rCSI_upsampled_X_train = rCSI_upsampled.drop(\"rCSI_category\",axis=1)\n",
        "\n",
        "y_pred,y_test  = rfCLF (rCSI_upsampled_X_train,rCSI_upsampled_y_train, tz_clust_X_test,tz_clust_y_test['rCSI_category'] )\n",
        "\n",
        "print(classification_report(y_test, y_pred))\n",
        "\n",
        "y_pred,y_test  = XGBCLF (rCSI_upsampled_X_train,rCSI_upsampled_y_train, tz_clust_X_test,tz_clust_y_test['rCSI_category'] )\n",
        "\n",
        "print(classification_report(y_test, y_pred))"
      ],
      "execution_count": 0,
      "outputs": [
        {
          "output_type": "stream",
          "text": [
            "Fitting 3 folds for each of 30 candidates, totalling 90 fits\n"
          ],
          "name": "stdout"
        },
        {
          "output_type": "stream",
          "text": [
            "[Parallel(n_jobs=-1)]: Using backend LokyBackend with 2 concurrent workers.\n",
            "[Parallel(n_jobs=-1)]: Done  37 tasks      | elapsed:   10.2s\n",
            "[Parallel(n_jobs=-1)]: Done  90 out of  90 | elapsed:   25.5s finished\n"
          ],
          "name": "stderr"
        },
        {
          "output_type": "stream",
          "text": [
            "              precision    recall  f1-score   support\n",
            "\n",
            "           0       0.66      0.78      0.72       227\n",
            "           1       0.55      0.43      0.49       153\n",
            "           2       0.00      0.00      0.00         6\n",
            "\n",
            "    accuracy                           0.63       386\n",
            "   macro avg       0.41      0.40      0.40       386\n",
            "weighted avg       0.61      0.63      0.61       386\n",
            "\n",
            "Fitting 3 folds for each of 30 candidates, totalling 90 fits\n"
          ],
          "name": "stdout"
        },
        {
          "output_type": "stream",
          "text": [
            "[Parallel(n_jobs=-1)]: Using backend LokyBackend with 2 concurrent workers.\n",
            "[Parallel(n_jobs=-1)]: Done  37 tasks      | elapsed:   45.2s\n",
            "[Parallel(n_jobs=-1)]: Done  90 out of  90 | elapsed:  1.7min finished\n"
          ],
          "name": "stderr"
        },
        {
          "output_type": "stream",
          "text": [
            "              precision    recall  f1-score   support\n",
            "\n",
            "           0       0.66      0.74      0.70       227\n",
            "           1       0.52      0.44      0.48       153\n",
            "           2       0.00      0.00      0.00         6\n",
            "\n",
            "    accuracy                           0.61       386\n",
            "   macro avg       0.39      0.39      0.39       386\n",
            "weighted avg       0.59      0.61      0.60       386\n",
            "\n"
          ],
          "name": "stdout"
        }
      ]
    },
    {
      "cell_type": "code",
      "metadata": {
        "id": "18sfKYpYbAt9",
        "colab_type": "code",
        "outputId": "62dd7ee2-e93c-4711-f1b3-1b7bfa7b81f2",
        "colab": {
          "base_uri": "https://localhost:8080/",
          "height": 493
        }
      },
      "source": [
        "from sklearn.utils import resample\n",
        "\n",
        "# concatenate our training data back together\n",
        "FCS_df = pd.concat([ug_clust_X_train, ug_clust_y_train['FCS_category']], axis=1)\n",
        "\n",
        "\n",
        "FCS_not_crisis = FCS_df[FCS_df.FCS_category==0]\n",
        "FCS_crisis = FCS_df[FCS_df.FCS_category!=0]\n",
        "\n",
        "# separate minority and majority classes\n",
        "\n",
        "# upsample minority\n",
        "FCS_crisis_upsampled = resample(FCS_crisis,\n",
        "                                replace=True, # sample with replacement\n",
        "                                n_samples=len(FCS_not_crisis), # match number in majority class\n",
        "                                random_state=27) # reproducible results\n",
        "\n",
        "# combine majority and upsampled minority\n",
        "FCS_upsampled = pd.concat([FCS_not_crisis, FCS_crisis_upsampled])\n",
        "\n",
        "FCS_upsampled_y_train = FCS_upsampled[\"FCS_category\"]\n",
        "\n",
        "FCS_upsampled_X_train = FCS_upsampled.drop(\"FCS_category\",axis=1)\n",
        "\n",
        "y_pred,y_test  = rfCLF (FCS_upsampled_X_train,FCS_upsampled_y_train, ug_clust_X_test,ug_clust_y_test['FCS_category'] )\n",
        "\n",
        "print(classification_report(y_test, y_pred))\n",
        "\n",
        "y_pred,y_test  = XGBCLF (FCS_upsampled_X_train,FCS_upsampled_y_train, ug_clust_X_test,ug_clust_y_test['FCS_category'] )\n",
        "\n",
        "print(classification_report(y_test, y_pred))"
      ],
      "execution_count": 0,
      "outputs": [
        {
          "output_type": "stream",
          "text": [
            "Fitting 3 folds for each of 30 candidates, totalling 90 fits\n"
          ],
          "name": "stdout"
        },
        {
          "output_type": "stream",
          "text": [
            "[Parallel(n_jobs=-1)]: Using backend LokyBackend with 2 concurrent workers.\n",
            "[Parallel(n_jobs=-1)]: Done  37 tasks      | elapsed:    5.5s\n",
            "[Parallel(n_jobs=-1)]: Done  90 out of  90 | elapsed:   14.3s finished\n"
          ],
          "name": "stderr"
        },
        {
          "output_type": "stream",
          "text": [
            "              precision    recall  f1-score   support\n",
            "\n",
            "           0       0.80      0.94      0.87       334\n",
            "           1       0.44      0.21      0.28        97\n",
            "           2       1.00      0.11      0.20         9\n",
            "\n",
            "    accuracy                           0.76       440\n",
            "   macro avg       0.75      0.42      0.45       440\n",
            "weighted avg       0.73      0.76      0.72       440\n",
            "\n",
            "Fitting 3 folds for each of 30 candidates, totalling 90 fits\n"
          ],
          "name": "stdout"
        },
        {
          "output_type": "stream",
          "text": [
            "[Parallel(n_jobs=-1)]: Using backend LokyBackend with 2 concurrent workers.\n",
            "[Parallel(n_jobs=-1)]: Done  37 tasks      | elapsed:   14.3s\n",
            "[Parallel(n_jobs=-1)]: Done  90 out of  90 | elapsed:   32.7s finished\n"
          ],
          "name": "stderr"
        },
        {
          "output_type": "stream",
          "text": [
            "              precision    recall  f1-score   support\n",
            "\n",
            "           0       0.80      0.93      0.86       334\n",
            "           1       0.42      0.24      0.30        97\n",
            "           2       0.00      0.00      0.00         9\n",
            "\n",
            "    accuracy                           0.75       440\n",
            "   macro avg       0.41      0.39      0.39       440\n",
            "weighted avg       0.70      0.75      0.72       440\n",
            "\n"
          ],
          "name": "stdout"
        }
      ]
    },
    {
      "cell_type": "code",
      "metadata": {
        "id": "UD3ywclqbFsJ",
        "colab_type": "code",
        "outputId": "85183715-7b61-4d33-f756-555a798e4171",
        "colab": {
          "base_uri": "https://localhost:8080/",
          "height": 476
        }
      },
      "source": [
        "from sklearn.utils import resample\n",
        "\n",
        "# concatenate our training data back together\n",
        "HDDS_df = pd.concat([ug_clust_X_train, ug_clust_y_train['HDDS_category']], axis=1)\n",
        "\n",
        "\n",
        "HDDS_not_crisis = HDDS_df[HDDS_df.HDDS_category==0]\n",
        "HDDS_crisis = HDDS_df[HDDS_df.HDDS_category!=0]\n",
        "\n",
        "# separate minority and majority classes\n",
        "\n",
        "# upsample minority\n",
        "HDDS_crisis_upsampled = resample(HDDS_crisis,\n",
        "                                replace=True, # sample with replacement\n",
        "                                n_samples=len(HDDS_not_crisis), # match number in majority class\n",
        "                                random_state=27) # reproducible results\n",
        "\n",
        "# combine majority and upsampled minority\n",
        "HDDS_upsampled = pd.concat([HDDS_not_crisis, HDDS_crisis_upsampled])\n",
        "\n",
        "HDDS_upsampled_y_train = HDDS_upsampled[\"HDDS_category\"]\n",
        "\n",
        "HDDS_upsampled_X_train = HDDS_upsampled.drop(\"HDDS_category\",axis=1)\n",
        "\n",
        "y_pred,y_test  = rfCLF (HDDS_upsampled_X_train,HDDS_upsampled_y_train, ug_clust_X_test,ug_clust_y_test['HDDS_category'] )\n",
        "\n",
        "print(classification_report(y_test, y_pred))\n",
        "\n",
        "y_pred,y_test  = XGBCLF (HDDS_upsampled_X_train,HDDS_upsampled_y_train, ug_clust_X_test,ug_clust_y_test['HDDS_category'] )\n",
        "\n",
        "print(classification_report(y_test, y_pred))"
      ],
      "execution_count": 0,
      "outputs": [
        {
          "output_type": "stream",
          "text": [
            "Fitting 3 folds for each of 30 candidates, totalling 90 fits\n"
          ],
          "name": "stdout"
        },
        {
          "output_type": "stream",
          "text": [
            "[Parallel(n_jobs=-1)]: Using backend LokyBackend with 2 concurrent workers.\n",
            "[Parallel(n_jobs=-1)]: Done  70 tasks      | elapsed:    4.8s\n",
            "[Parallel(n_jobs=-1)]: Done  90 out of  90 | elapsed:    6.2s finished\n",
            "[Parallel(n_jobs=-1)]: Using backend LokyBackend with 2 concurrent workers.\n"
          ],
          "name": "stderr"
        },
        {
          "output_type": "stream",
          "text": [
            "              precision    recall  f1-score   support\n",
            "\n",
            "           0       0.37      0.51      0.43        49\n",
            "           1       0.93      0.89      0.91       389\n",
            "           2       0.00      0.00      0.00         2\n",
            "\n",
            "    accuracy                           0.85       440\n",
            "   macro avg       0.43      0.47      0.45       440\n",
            "weighted avg       0.86      0.85      0.85       440\n",
            "\n",
            "Fitting 3 folds for each of 30 candidates, totalling 90 fits\n",
            "              precision    recall  f1-score   support\n",
            "\n",
            "           0       0.23      0.73      0.35        49\n",
            "           1       0.95      0.69      0.80       389\n",
            "           2       0.00      0.00      0.00         2\n",
            "\n",
            "    accuracy                           0.69       440\n",
            "   macro avg       0.39      0.48      0.38       440\n",
            "weighted avg       0.86      0.69      0.75       440\n",
            "\n"
          ],
          "name": "stdout"
        },
        {
          "output_type": "stream",
          "text": [
            "[Parallel(n_jobs=-1)]: Done  90 out of  90 | elapsed:    3.1s finished\n"
          ],
          "name": "stderr"
        }
      ]
    },
    {
      "cell_type": "markdown",
      "metadata": {
        "id": "X6E32FdL_NGj",
        "colab_type": "text"
      },
      "source": [
        "### SMOTE  methods"
      ]
    },
    {
      "cell_type": "code",
      "metadata": {
        "id": "4ljNPtjlA71b",
        "colab_type": "code",
        "colab": {}
      },
      "source": [
        "from sklearn.ensemble import GradientBoostingClassifier\n",
        "from sklearn.metrics import classification_report\n",
        "\n",
        "\n",
        "def GBCLF(X_train,y_train,X_test, y_test):\n",
        "\n",
        "    # fit model on  training data\n",
        "    GB_clf = GradientBoostingClassifier(\n",
        "                          \n",
        "                          learning_rate=0.3,  \n",
        "                          \n",
        "                          subsample = 0.8,                    \n",
        "                          n_estimators=100, \n",
        "                          \n",
        "                          max_depth=5)\n",
        "    \n",
        "    max_depth = [int(x) for x in np.linspace(3, 20, num = 10)]\n",
        "    max_features = [int(x) for x in np.linspace(3, 20, num = 10)]\n",
        "\n",
        "    random_grid = {#'n_estimators': n_estimators,\n",
        "                   'max_features': max_features,\n",
        "                   'max_depth': max_depth\n",
        "                   #'min_samples_split': min_samples_split\n",
        "                   #'min_samples_leaf': min_samples_leaf}\n",
        "                   #'bootstrap': bootstrap\n",
        "                    }\n",
        "    \n",
        "    GB_random = RandomizedSearchCV(estimator = GB_clf, param_distributions = random_grid,\n",
        "                                    n_iter = 30, cv = 3, verbose=2, random_state=666, n_jobs = -1)\n",
        "\n",
        "\n",
        "    \n",
        "    # Fit the random search model\n",
        "    GB_random.fit(X_train, y_train)\n",
        "\n",
        "    # Return accuracy\n",
        "    gb_test_score = round(GB_random.score(X_test, y_test), 3)\n",
        "    gb_train_score = round(GB_random.score(X_train, y_train), 3)\n",
        "    \n",
        "    # return xgb_test_score\n",
        "    \n",
        "    y_pred = GB_random.predict(X_test)\n",
        "    \n",
        "\n",
        "    # return rf_test_score \n",
        "    return y_pred,y_test\n"
      ],
      "execution_count": 0,
      "outputs": []
    },
    {
      "cell_type": "code",
      "metadata": {
        "colab_type": "code",
        "id": "vpuqtRT6XlkB",
        "colab": {
          "base_uri": "https://localhost:8080/",
          "height": 260
        },
        "outputId": "00dbedf6-170c-4225-8548-759fde7f3db2"
      },
      "source": [
        "import imblearn\n",
        "\n",
        "from imblearn.over_sampling import SMOTE\n",
        "\n",
        "sm = SMOTE(random_state=27, ratio='minority')\n",
        "\n",
        "ug_smote_X_train, ug_smote_HDDS_y_train = sm.fit_sample(ug_clust_X_train, ug_clust_y_train['HDDS_category'])\n",
        "\n",
        "# y_pred,y_test  = rfCLF (ug_smote_X_train,ug_smote_HDDS_y_train, ug_clust_X_test,ug_clust_y_test['HDDS_category'] )\n",
        "\n",
        "# print(classification_report(y_test, y_pred))\n",
        " \n",
        "y_pred,y_test  = GBCLF (ug_smote_X_train,ug_smote_HDDS_y_train, ug_clust_X_test,ug_clust_y_test['HDDS_category'] )\n",
        "\n",
        "print(classification_report(y_test, y_pred))\n"
      ],
      "execution_count": 83,
      "outputs": [
        {
          "output_type": "stream",
          "text": [
            "Fitting 3 folds for each of 30 candidates, totalling 90 fits\n"
          ],
          "name": "stdout"
        },
        {
          "output_type": "stream",
          "text": [
            "[Parallel(n_jobs=-1)]: Using backend LokyBackend with 2 concurrent workers.\n",
            "[Parallel(n_jobs=-1)]: Done  37 tasks      | elapsed:   15.7s\n",
            "[Parallel(n_jobs=-1)]: Done  90 out of  90 | elapsed:   37.4s finished\n"
          ],
          "name": "stderr"
        },
        {
          "output_type": "stream",
          "text": [
            "              precision    recall  f1-score   support\n",
            "\n",
            "           0       0.24      0.20      0.22        49\n",
            "           1       0.90      0.92      0.91       389\n",
            "           2       0.00      0.00      0.00         2\n",
            "\n",
            "    accuracy                           0.83       440\n",
            "   macro avg       0.38      0.37      0.38       440\n",
            "weighted avg       0.82      0.83      0.83       440\n",
            "\n"
          ],
          "name": "stdout"
        }
      ]
    },
    {
      "cell_type": "code",
      "metadata": {
        "id": "Lw2QokXSADKy",
        "colab_type": "code",
        "colab": {
          "base_uri": "https://localhost:8080/",
          "height": 502
        },
        "outputId": "8ed04af1-206a-464a-c6d3-ef83c3fcc347"
      },
      "source": [
        "import imblearn\n",
        "\n",
        "from imblearn.combine import SMOTETomek\n",
        "\n",
        "smt = SMOTETomek(random_state=42)\n",
        "\n",
        "ug_smote_X_train, ug_smote_HDDS_y_train = smt.fit_sample(ug_clust_X_train, ug_clust_y_train['HDDS_category'])\n",
        "\n",
        "y_pred,y_test  = rfCLF (ug_smote_X_train,ug_smote_HDDS_y_train, ug_clust_X_test,ug_clust_y_test['HDDS_category'] )\n",
        "\n",
        "print(classification_report(y_test, y_pred))\n",
        "\n",
        "y_pred,y_test  = GBCLF (ug_smote_X_train,ug_smote_HDDS_y_train, ug_clust_X_test,ug_clust_y_test['HDDS_category'] )\n",
        "\n",
        "print(classification_report(y_test, y_pred))\n"
      ],
      "execution_count": 88,
      "outputs": [
        {
          "output_type": "stream",
          "text": [
            "Fitting 3 folds for each of 30 candidates, totalling 90 fits\n"
          ],
          "name": "stdout"
        },
        {
          "output_type": "stream",
          "text": [
            "[Parallel(n_jobs=-1)]: Using backend LokyBackend with 2 concurrent workers.\n",
            "[Parallel(n_jobs=-1)]: Done  37 tasks      | elapsed:   13.1s\n",
            "[Parallel(n_jobs=-1)]: Done  90 out of  90 | elapsed:   31.7s finished\n"
          ],
          "name": "stderr"
        },
        {
          "output_type": "stream",
          "text": [
            "              precision    recall  f1-score   support\n",
            "\n",
            "           0       0.53      0.16      0.25        49\n",
            "           1       0.90      0.98      0.94       389\n",
            "           2       0.00      0.00      0.00         2\n",
            "\n",
            "    accuracy                           0.88       440\n",
            "   macro avg       0.48      0.38      0.40       440\n",
            "weighted avg       0.85      0.88      0.86       440\n",
            "\n",
            "Fitting 3 folds for each of 30 candidates, totalling 90 fits\n"
          ],
          "name": "stdout"
        },
        {
          "output_type": "stream",
          "text": [
            "[Parallel(n_jobs=-1)]: Using backend LokyBackend with 2 concurrent workers.\n",
            "[Parallel(n_jobs=-1)]: Done  37 tasks      | elapsed:   25.1s\n",
            "[Parallel(n_jobs=-1)]: Done  90 out of  90 | elapsed:  1.0min finished\n"
          ],
          "name": "stderr"
        },
        {
          "output_type": "stream",
          "text": [
            "              precision    recall  f1-score   support\n",
            "\n",
            "           0       0.47      0.33      0.39        49\n",
            "           1       0.91      0.95      0.93       389\n",
            "           2       0.00      0.00      0.00         2\n",
            "\n",
            "    accuracy                           0.88       440\n",
            "   macro avg       0.46      0.43      0.44       440\n",
            "weighted avg       0.86      0.88      0.87       440\n",
            "\n"
          ],
          "name": "stdout"
        }
      ]
    },
    {
      "cell_type": "code",
      "metadata": {
        "id": "dQte0sLrGU18",
        "colab_type": "code",
        "colab": {
          "base_uri": "https://localhost:8080/",
          "height": 502
        },
        "outputId": "d6c7dad8-83e1-4827-b8ae-01291639a47f"
      },
      "source": [
        "import imblearn\n",
        "\n",
        "from imblearn.combine import SMOTETomek\n",
        "\n",
        "smt = SMOTETomek(random_state=42)\n",
        "\n",
        "ug_smote_X_train, ug_smote_FCS_y_train = smt.fit_sample(ug_clust_X_train, ug_clust_y_train['FCS_category'])\n",
        "\n",
        "y_pred,y_test  = rfCLF (ug_smote_X_train,ug_smote_FCS_y_train, ug_clust_X_test,ug_clust_y_test['FCS_category'] )\n",
        "\n",
        "print(classification_report(y_test, y_pred))\n",
        "\n",
        "y_pred,y_test  = GBCLF (ug_smote_X_train,ug_smote_FCS_y_train, ug_clust_X_test,ug_clust_y_test['FCS_category'] )\n",
        "\n",
        "print(classification_report(y_test, y_pred))\n"
      ],
      "execution_count": 87,
      "outputs": [
        {
          "output_type": "stream",
          "text": [
            "Fitting 3 folds for each of 30 candidates, totalling 90 fits\n"
          ],
          "name": "stdout"
        },
        {
          "output_type": "stream",
          "text": [
            "[Parallel(n_jobs=-1)]: Using backend LokyBackend with 2 concurrent workers.\n",
            "[Parallel(n_jobs=-1)]: Done  37 tasks      | elapsed:    9.1s\n",
            "[Parallel(n_jobs=-1)]: Done  90 out of  90 | elapsed:   21.7s finished\n"
          ],
          "name": "stderr"
        },
        {
          "output_type": "stream",
          "text": [
            "              precision    recall  f1-score   support\n",
            "\n",
            "           0       0.83      0.90      0.87       334\n",
            "           1       0.48      0.36      0.41        97\n",
            "           2       0.40      0.22      0.29         9\n",
            "\n",
            "    accuracy                           0.77       440\n",
            "   macro avg       0.57      0.50      0.52       440\n",
            "weighted avg       0.75      0.77      0.76       440\n",
            "\n",
            "Fitting 3 folds for each of 30 candidates, totalling 90 fits\n"
          ],
          "name": "stdout"
        },
        {
          "output_type": "stream",
          "text": [
            "[Parallel(n_jobs=-1)]: Using backend LokyBackend with 2 concurrent workers.\n",
            "[Parallel(n_jobs=-1)]: Done  37 tasks      | elapsed:   24.9s\n",
            "[Parallel(n_jobs=-1)]: Done  90 out of  90 | elapsed:   58.9s finished\n"
          ],
          "name": "stderr"
        },
        {
          "output_type": "stream",
          "text": [
            "              precision    recall  f1-score   support\n",
            "\n",
            "           0       0.85      0.86      0.86       334\n",
            "           1       0.46      0.44      0.45        97\n",
            "           2       0.27      0.33      0.30         9\n",
            "\n",
            "    accuracy                           0.75       440\n",
            "   macro avg       0.53      0.54      0.54       440\n",
            "weighted avg       0.75      0.75      0.75       440\n",
            "\n"
          ],
          "name": "stdout"
        }
      ]
    },
    {
      "cell_type": "code",
      "metadata": {
        "id": "C4nXrQW5AhMG",
        "colab_type": "code",
        "colab": {
          "base_uri": "https://localhost:8080/",
          "height": 1000
        },
        "outputId": "3d0a6e89-671b-4156-bc8a-d2a547eaef91"
      },
      "source": [
        "import imblearn\n",
        "\n",
        "from imblearn.combine import SMOTETomek\n",
        "\n",
        "# smt = SMOTETomek(random_state=42)\n",
        "\n",
        "smt = SMOTETomek(random_state=42)\n",
        "\n",
        "tz_smote_X_train, tz_smote_FCS_y_train = smt.fit_sample(tz_clust_X_train, tz_clust_y_train['FCS_category'])\n",
        "\n",
        "y_pred,y_test  = rfCLF (tz_smote_X_train,tz_smote_FCS_y_train, tz_clust_X_test,tz_clust_y_test['FCS_category'] )\n",
        "\n",
        "print(classification_report(y_test, y_pred))\n",
        "\n",
        "y_pred,y_test  = GBCLF (tz_smote_X_train,tz_smote_FCS_y_train, tz_clust_X_test,tz_clust_y_test['FCS_category'] )\n",
        "\n",
        "print(classification_report(y_test, y_pred))\n",
        "\n",
        "\n",
        "import imblearn\n",
        "\n",
        "from imblearn.combine import SMOTETomek\n",
        "\n",
        "smt = SMOTETomek(random_state=42)\n",
        "\n",
        "tz_smote_X_train, tz_smote_HDDS_y_train = smt.fit_sample(tz_clust_X_train, tz_clust_y_train['HDDS_category'])\n",
        "\n",
        "y_pred,y_test  = rfCLF (tz_smote_X_train,tz_smote_HDDS_y_train, tz_clust_X_test,tz_clust_y_test['HDDS_category'] )\n",
        "\n",
        "print(classification_report(y_test, y_pred))\n",
        "\n",
        "y_pred,y_test  = GBCLF (tz_smote_X_train,tz_smote_HDDS_y_train, tz_clust_X_test,tz_clust_y_test['HDDS_category'] )\n",
        "\n",
        "print(classification_report(y_test, y_pred))\n",
        "\n",
        "\n",
        "\n",
        "import imblearn\n",
        "\n",
        "from imblearn.combine import SMOTETomek\n",
        "\n",
        "smt = SMOTETomek(random_state=42)\n",
        "\n",
        "tz_smote_X_train, tz_smote_rCSI_y_train = smt.fit_sample(tz_clust_X_train, tz_clust_y_train['rCSI_category'])\n",
        "\n",
        "y_pred,y_test  = rfCLF (tz_smote_X_train,tz_smote_rCSI_y_train, tz_clust_X_test,tz_clust_y_test['rCSI_category'] )\n",
        "\n",
        "print(classification_report(y_test, y_pred))\n",
        "\n",
        "y_pred,y_test  = GBCLF (tz_smote_X_train,tz_smote_rCSI_y_train, tz_clust_X_test,tz_clust_y_test['rCSI_category'] )\n",
        "\n",
        "print(classification_report(y_test, y_pred))\n"
      ],
      "execution_count": 89,
      "outputs": [
        {
          "output_type": "stream",
          "text": [
            "Fitting 3 folds for each of 30 candidates, totalling 90 fits\n"
          ],
          "name": "stdout"
        },
        {
          "output_type": "stream",
          "text": [
            "[Parallel(n_jobs=-1)]: Using backend LokyBackend with 2 concurrent workers.\n",
            "[Parallel(n_jobs=-1)]: Done  37 tasks      | elapsed:   21.4s\n",
            "[Parallel(n_jobs=-1)]: Done  90 out of  90 | elapsed:   51.1s finished\n"
          ],
          "name": "stderr"
        },
        {
          "output_type": "stream",
          "text": [
            "              precision    recall  f1-score   support\n",
            "\n",
            "           0       0.93      0.95      0.94       342\n",
            "           1       0.51      0.42      0.46        43\n",
            "           2       0.00      0.00      0.00         1\n",
            "\n",
            "    accuracy                           0.89       386\n",
            "   macro avg       0.48      0.46      0.47       386\n",
            "weighted avg       0.88      0.89      0.89       386\n",
            "\n",
            "Fitting 3 folds for each of 30 candidates, totalling 90 fits\n"
          ],
          "name": "stdout"
        },
        {
          "output_type": "stream",
          "text": [
            "[Parallel(n_jobs=-1)]: Using backend LokyBackend with 2 concurrent workers.\n",
            "[Parallel(n_jobs=-1)]: Done  37 tasks      | elapsed:   56.1s\n",
            "[Parallel(n_jobs=-1)]: Done  90 out of  90 | elapsed:  2.2min finished\n"
          ],
          "name": "stderr"
        },
        {
          "output_type": "stream",
          "text": [
            "              precision    recall  f1-score   support\n",
            "\n",
            "           0       0.94      0.94      0.94       342\n",
            "           1       0.49      0.49      0.49        43\n",
            "           2       0.00      0.00      0.00         1\n",
            "\n",
            "    accuracy                           0.89       386\n",
            "   macro avg       0.47      0.48      0.48       386\n",
            "weighted avg       0.88      0.89      0.88       386\n",
            "\n",
            "Fitting 3 folds for each of 30 candidates, totalling 90 fits\n"
          ],
          "name": "stdout"
        },
        {
          "output_type": "stream",
          "text": [
            "[Parallel(n_jobs=-1)]: Using backend LokyBackend with 2 concurrent workers.\n",
            "[Parallel(n_jobs=-1)]: Done  37 tasks      | elapsed:   20.8s\n",
            "[Parallel(n_jobs=-1)]: Done  90 out of  90 | elapsed:   49.8s finished\n"
          ],
          "name": "stderr"
        },
        {
          "output_type": "stream",
          "text": [
            "              precision    recall  f1-score   support\n",
            "\n",
            "           0       0.51      0.48      0.49        82\n",
            "           1       0.86      0.88      0.87       304\n",
            "\n",
            "    accuracy                           0.79       386\n",
            "   macro avg       0.69      0.68      0.68       386\n",
            "weighted avg       0.79      0.79      0.79       386\n",
            "\n",
            "Fitting 3 folds for each of 30 candidates, totalling 90 fits\n"
          ],
          "name": "stdout"
        },
        {
          "output_type": "stream",
          "text": [
            "[Parallel(n_jobs=-1)]: Using backend LokyBackend with 2 concurrent workers.\n",
            "[Parallel(n_jobs=-1)]: Done  37 tasks      | elapsed:   51.7s\n",
            "[Parallel(n_jobs=-1)]: Done  90 out of  90 | elapsed:  2.0min finished\n"
          ],
          "name": "stderr"
        },
        {
          "output_type": "stream",
          "text": [
            "              precision    recall  f1-score   support\n",
            "\n",
            "           0       0.55      0.35      0.43        82\n",
            "           1       0.84      0.92      0.88       304\n",
            "\n",
            "    accuracy                           0.80       386\n",
            "   macro avg       0.69      0.64      0.65       386\n",
            "weighted avg       0.78      0.80      0.78       386\n",
            "\n",
            "Fitting 3 folds for each of 30 candidates, totalling 90 fits\n"
          ],
          "name": "stdout"
        },
        {
          "output_type": "stream",
          "text": [
            "[Parallel(n_jobs=-1)]: Using backend LokyBackend with 2 concurrent workers.\n",
            "[Parallel(n_jobs=-1)]: Done  37 tasks      | elapsed:   16.5s\n",
            "[Parallel(n_jobs=-1)]: Done  90 out of  90 | elapsed:   39.3s finished\n"
          ],
          "name": "stderr"
        },
        {
          "output_type": "stream",
          "text": [
            "              precision    recall  f1-score   support\n",
            "\n",
            "           0       0.66      0.77      0.71       227\n",
            "           1       0.53      0.42      0.47       153\n",
            "           2       0.00      0.00      0.00         6\n",
            "\n",
            "    accuracy                           0.62       386\n",
            "   macro avg       0.40      0.40      0.39       386\n",
            "weighted avg       0.60      0.62      0.60       386\n",
            "\n",
            "Fitting 3 folds for each of 30 candidates, totalling 90 fits\n"
          ],
          "name": "stdout"
        },
        {
          "output_type": "stream",
          "text": [
            "[Parallel(n_jobs=-1)]: Using backend LokyBackend with 2 concurrent workers.\n",
            "[Parallel(n_jobs=-1)]: Done  37 tasks      | elapsed:   51.1s\n",
            "[Parallel(n_jobs=-1)]: Done  90 out of  90 | elapsed:  2.0min finished\n"
          ],
          "name": "stderr"
        },
        {
          "output_type": "stream",
          "text": [
            "              precision    recall  f1-score   support\n",
            "\n",
            "           0       0.64      0.75      0.69       227\n",
            "           1       0.52      0.40      0.45       153\n",
            "           2       0.00      0.00      0.00         6\n",
            "\n",
            "    accuracy                           0.60       386\n",
            "   macro avg       0.39      0.38      0.38       386\n",
            "weighted avg       0.58      0.60      0.58       386\n",
            "\n"
          ],
          "name": "stdout"
        }
      ]
    },
    {
      "cell_type": "code",
      "metadata": {
        "id": "rqSo21y-Cui9",
        "colab_type": "code",
        "colab": {
          "base_uri": "https://localhost:8080/",
          "height": 641
        },
        "outputId": "ae3881e7-92ae-4706-b990-3682e008296d"
      },
      "source": [
        "import imblearn\n",
        "\n",
        "from imblearn.combine import SMOTETomek\n",
        "\n",
        "smt = SMOTE(random_state=42,kind='regular',k_neighbors=3)\n",
        "\n",
        "mw_smote_X_train, mw_smote_FCS_y_train = smt.fit_resample(mw_clust_X_train, mw_clust_y_train['FCS_category'])\n",
        "\n",
        "y_pred,y_test  = rfCLF (mw_smote_X_train,mw_smote_FCS_y_train, mw_clust_X_test,mw_clust_y_test['FCS_category'] )\n",
        "\n",
        "print(classification_report(y_test, y_pred))\n",
        "\n",
        "y_pred,y_test  = GBCLF (mw_smote_X_train,mw_smote_FCS_y_train, mw_clust_X_test,mw_clust_y_test['FCS_category'] )\n",
        "\n",
        "print(classification_report(y_test, y_pred))\n",
        "\n",
        "\n",
        "import imblearn\n",
        "\n",
        "from imblearn.combine import SMOTETomek\n",
        "\n",
        "smt = SMOTE(random_state=42,kind='regular',k_neighbors=1)\n",
        "\n",
        "mw_smote_X_train, mw_smote_HDDS_y_train = smt.fit_resample(mw_clust_X_train, mw_clust_y_train['HDDS_category'])\n",
        "\n",
        "y_pred,y_test  = rfCLF (mw_smote_X_train,mw_smote_HDDS_y_train, mw_clust_X_test,mw_clust_y_test['HDDS_category'] )\n",
        "\n",
        "print(classification_report(y_test, y_pred))\n",
        "\n",
        "y_pred,y_test  = GBCLF (mw_smote_X_train,mw_smote_HDDS_y_train, mw_clust_X_test,mw_clust_y_test['HDDS_category'] )\n",
        "\n",
        "print(classification_report(y_test, y_pred))\n",
        "\n",
        "\n",
        "\n",
        "import imblearn\n",
        "\n",
        "from imblearn.combine import SMOTETomek\n",
        "\n",
        "smt = SMOTE(random_state=42,kind='regular',k_neighbors=2)\n",
        "\n",
        "mw_smote_X_train, mw_smote_rCSI_y_train = smt.fit_resample(mw_clust_X_train, mw_clust_y_train['rCSI_category'])\n",
        "\n",
        "y_pred,y_test  = rfCLF (mw_smote_X_train,mw_smote_rCSI_y_train, mw_clust_X_test,mw_clust_y_test['rCSI_category'] )\n",
        "\n",
        "print(classification_report(y_test, y_pred))\n",
        "\n",
        "y_pred,y_test  = GBCLF (mw_smote_X_train,mw_smote_rCSI_y_train, mw_clust_X_test,mw_clust_y_test['rCSI_category'] )\n",
        "\n",
        "print(classification_report(y_test, y_pred))\n"
      ],
      "execution_count": 99,
      "outputs": [
        {
          "output_type": "stream",
          "text": [
            "Fitting 3 folds for each of 30 candidates, totalling 90 fits\n"
          ],
          "name": "stdout"
        },
        {
          "output_type": "stream",
          "text": [
            "[Parallel(n_jobs=-1)]: Using backend LokyBackend with 2 concurrent workers.\n",
            "[Parallel(n_jobs=-1)]: Done  37 tasks      | elapsed:   20.2s\n",
            "[Parallel(n_jobs=-1)]: Done  90 out of  90 | elapsed:   48.4s finished\n"
          ],
          "name": "stderr"
        },
        {
          "output_type": "stream",
          "text": [
            "              precision    recall  f1-score   support\n",
            "\n",
            "           0       0.70      0.98      0.82       309\n",
            "           1       0.55      0.04      0.08       136\n",
            "\n",
            "    accuracy                           0.70       445\n",
            "   macro avg       0.62      0.51      0.45       445\n",
            "weighted avg       0.65      0.70      0.59       445\n",
            "\n",
            "Fitting 3 folds for each of 30 candidates, totalling 90 fits\n"
          ],
          "name": "stdout"
        },
        {
          "output_type": "stream",
          "text": [
            "[Parallel(n_jobs=-1)]: Using backend LokyBackend with 2 concurrent workers.\n"
          ],
          "name": "stderr"
        },
        {
          "output_type": "error",
          "ename": "KeyboardInterrupt",
          "evalue": "ignored",
          "traceback": [
            "\u001b[0;31m---------------------------------------------------------------------------\u001b[0m",
            "\u001b[0;31mKeyboardInterrupt\u001b[0m                         Traceback (most recent call last)",
            "\u001b[0;32m<ipython-input-99-f41235a5c76a>\u001b[0m in \u001b[0;36m<module>\u001b[0;34m()\u001b[0m\n\u001b[1;32m     13\u001b[0m \u001b[0mprint\u001b[0m\u001b[0;34m(\u001b[0m\u001b[0mclassification_report\u001b[0m\u001b[0;34m(\u001b[0m\u001b[0my_test\u001b[0m\u001b[0;34m,\u001b[0m \u001b[0my_pred\u001b[0m\u001b[0;34m)\u001b[0m\u001b[0;34m)\u001b[0m\u001b[0;34m\u001b[0m\u001b[0;34m\u001b[0m\u001b[0m\n\u001b[1;32m     14\u001b[0m \u001b[0;34m\u001b[0m\u001b[0m\n\u001b[0;32m---> 15\u001b[0;31m \u001b[0my_pred\u001b[0m\u001b[0;34m,\u001b[0m\u001b[0my_test\u001b[0m  \u001b[0;34m=\u001b[0m \u001b[0mGBCLF\u001b[0m \u001b[0;34m(\u001b[0m\u001b[0mmw_smote_X_train\u001b[0m\u001b[0;34m,\u001b[0m\u001b[0mmw_smote_FCS_y_train\u001b[0m\u001b[0;34m,\u001b[0m \u001b[0mmw_clust_X_test\u001b[0m\u001b[0;34m,\u001b[0m\u001b[0mmw_clust_y_test\u001b[0m\u001b[0;34m[\u001b[0m\u001b[0;34m'FCS_category'\u001b[0m\u001b[0;34m]\u001b[0m \u001b[0;34m)\u001b[0m\u001b[0;34m\u001b[0m\u001b[0;34m\u001b[0m\u001b[0m\n\u001b[0m\u001b[1;32m     16\u001b[0m \u001b[0;34m\u001b[0m\u001b[0m\n\u001b[1;32m     17\u001b[0m \u001b[0mprint\u001b[0m\u001b[0;34m(\u001b[0m\u001b[0mclassification_report\u001b[0m\u001b[0;34m(\u001b[0m\u001b[0my_test\u001b[0m\u001b[0;34m,\u001b[0m \u001b[0my_pred\u001b[0m\u001b[0;34m)\u001b[0m\u001b[0;34m)\u001b[0m\u001b[0;34m\u001b[0m\u001b[0;34m\u001b[0m\u001b[0m\n",
            "\u001b[0;32m<ipython-input-82-9a14ec94dedd>\u001b[0m in \u001b[0;36mGBCLF\u001b[0;34m(X_train, y_train, X_test, y_test)\u001b[0m\n\u001b[1;32m     32\u001b[0m \u001b[0;34m\u001b[0m\u001b[0m\n\u001b[1;32m     33\u001b[0m     \u001b[0;31m# Fit the random search model\u001b[0m\u001b[0;34m\u001b[0m\u001b[0;34m\u001b[0m\u001b[0;34m\u001b[0m\u001b[0m\n\u001b[0;32m---> 34\u001b[0;31m     \u001b[0mGB_random\u001b[0m\u001b[0;34m.\u001b[0m\u001b[0mfit\u001b[0m\u001b[0;34m(\u001b[0m\u001b[0mX_train\u001b[0m\u001b[0;34m,\u001b[0m \u001b[0my_train\u001b[0m\u001b[0;34m)\u001b[0m\u001b[0;34m\u001b[0m\u001b[0;34m\u001b[0m\u001b[0m\n\u001b[0m\u001b[1;32m     35\u001b[0m \u001b[0;34m\u001b[0m\u001b[0m\n\u001b[1;32m     36\u001b[0m     \u001b[0;31m# Return accuracy\u001b[0m\u001b[0;34m\u001b[0m\u001b[0;34m\u001b[0m\u001b[0;34m\u001b[0m\u001b[0m\n",
            "\u001b[0;32m/usr/local/lib/python3.6/dist-packages/sklearn/model_selection/_search.py\u001b[0m in \u001b[0;36mfit\u001b[0;34m(self, X, y, groups, **fit_params)\u001b[0m\n\u001b[1;32m    685\u001b[0m                 \u001b[0;32mreturn\u001b[0m \u001b[0mresults\u001b[0m\u001b[0;34m\u001b[0m\u001b[0;34m\u001b[0m\u001b[0m\n\u001b[1;32m    686\u001b[0m \u001b[0;34m\u001b[0m\u001b[0m\n\u001b[0;32m--> 687\u001b[0;31m             \u001b[0mself\u001b[0m\u001b[0;34m.\u001b[0m\u001b[0m_run_search\u001b[0m\u001b[0;34m(\u001b[0m\u001b[0mevaluate_candidates\u001b[0m\u001b[0;34m)\u001b[0m\u001b[0;34m\u001b[0m\u001b[0;34m\u001b[0m\u001b[0m\n\u001b[0m\u001b[1;32m    688\u001b[0m \u001b[0;34m\u001b[0m\u001b[0m\n\u001b[1;32m    689\u001b[0m         \u001b[0;31m# For multi-metric evaluation, store the best_index_, best_params_ and\u001b[0m\u001b[0;34m\u001b[0m\u001b[0;34m\u001b[0m\u001b[0;34m\u001b[0m\u001b[0m\n",
            "\u001b[0;32m/usr/local/lib/python3.6/dist-packages/sklearn/model_selection/_search.py\u001b[0m in \u001b[0;36m_run_search\u001b[0;34m(self, evaluate_candidates)\u001b[0m\n\u001b[1;32m   1466\u001b[0m         evaluate_candidates(ParameterSampler(\n\u001b[1;32m   1467\u001b[0m             \u001b[0mself\u001b[0m\u001b[0;34m.\u001b[0m\u001b[0mparam_distributions\u001b[0m\u001b[0;34m,\u001b[0m \u001b[0mself\u001b[0m\u001b[0;34m.\u001b[0m\u001b[0mn_iter\u001b[0m\u001b[0;34m,\u001b[0m\u001b[0;34m\u001b[0m\u001b[0;34m\u001b[0m\u001b[0m\n\u001b[0;32m-> 1468\u001b[0;31m             random_state=self.random_state))\n\u001b[0m",
            "\u001b[0;32m/usr/local/lib/python3.6/dist-packages/sklearn/model_selection/_search.py\u001b[0m in \u001b[0;36mevaluate_candidates\u001b[0;34m(candidate_params)\u001b[0m\n\u001b[1;32m    664\u001b[0m                                \u001b[0;32mfor\u001b[0m \u001b[0mparameters\u001b[0m\u001b[0;34m,\u001b[0m \u001b[0;34m(\u001b[0m\u001b[0mtrain\u001b[0m\u001b[0;34m,\u001b[0m \u001b[0mtest\u001b[0m\u001b[0;34m)\u001b[0m\u001b[0;34m\u001b[0m\u001b[0;34m\u001b[0m\u001b[0m\n\u001b[1;32m    665\u001b[0m                                in product(candidate_params,\n\u001b[0;32m--> 666\u001b[0;31m                                           cv.split(X, y, groups)))\n\u001b[0m\u001b[1;32m    667\u001b[0m \u001b[0;34m\u001b[0m\u001b[0m\n\u001b[1;32m    668\u001b[0m                 \u001b[0;32mif\u001b[0m \u001b[0mlen\u001b[0m\u001b[0;34m(\u001b[0m\u001b[0mout\u001b[0m\u001b[0;34m)\u001b[0m \u001b[0;34m<\u001b[0m \u001b[0;36m1\u001b[0m\u001b[0;34m:\u001b[0m\u001b[0;34m\u001b[0m\u001b[0;34m\u001b[0m\u001b[0m\n",
            "\u001b[0;32m/usr/local/lib/python3.6/dist-packages/joblib/parallel.py\u001b[0m in \u001b[0;36m__call__\u001b[0;34m(self, iterable)\u001b[0m\n\u001b[1;32m    932\u001b[0m \u001b[0;34m\u001b[0m\u001b[0m\n\u001b[1;32m    933\u001b[0m             \u001b[0;32mwith\u001b[0m \u001b[0mself\u001b[0m\u001b[0;34m.\u001b[0m\u001b[0m_backend\u001b[0m\u001b[0;34m.\u001b[0m\u001b[0mretrieval_context\u001b[0m\u001b[0;34m(\u001b[0m\u001b[0;34m)\u001b[0m\u001b[0;34m:\u001b[0m\u001b[0;34m\u001b[0m\u001b[0;34m\u001b[0m\u001b[0m\n\u001b[0;32m--> 934\u001b[0;31m                 \u001b[0mself\u001b[0m\u001b[0;34m.\u001b[0m\u001b[0mretrieve\u001b[0m\u001b[0;34m(\u001b[0m\u001b[0;34m)\u001b[0m\u001b[0;34m\u001b[0m\u001b[0;34m\u001b[0m\u001b[0m\n\u001b[0m\u001b[1;32m    935\u001b[0m             \u001b[0;31m# Make sure that we get a last message telling us we are done\u001b[0m\u001b[0;34m\u001b[0m\u001b[0;34m\u001b[0m\u001b[0;34m\u001b[0m\u001b[0m\n\u001b[1;32m    936\u001b[0m             \u001b[0melapsed_time\u001b[0m \u001b[0;34m=\u001b[0m \u001b[0mtime\u001b[0m\u001b[0;34m.\u001b[0m\u001b[0mtime\u001b[0m\u001b[0;34m(\u001b[0m\u001b[0;34m)\u001b[0m \u001b[0;34m-\u001b[0m \u001b[0mself\u001b[0m\u001b[0;34m.\u001b[0m\u001b[0m_start_time\u001b[0m\u001b[0;34m\u001b[0m\u001b[0;34m\u001b[0m\u001b[0m\n",
            "\u001b[0;32m/usr/local/lib/python3.6/dist-packages/joblib/parallel.py\u001b[0m in \u001b[0;36mretrieve\u001b[0;34m(self)\u001b[0m\n\u001b[1;32m    831\u001b[0m             \u001b[0;32mtry\u001b[0m\u001b[0;34m:\u001b[0m\u001b[0;34m\u001b[0m\u001b[0;34m\u001b[0m\u001b[0m\n\u001b[1;32m    832\u001b[0m                 \u001b[0;32mif\u001b[0m \u001b[0mgetattr\u001b[0m\u001b[0;34m(\u001b[0m\u001b[0mself\u001b[0m\u001b[0;34m.\u001b[0m\u001b[0m_backend\u001b[0m\u001b[0;34m,\u001b[0m \u001b[0;34m'supports_timeout'\u001b[0m\u001b[0;34m,\u001b[0m \u001b[0;32mFalse\u001b[0m\u001b[0;34m)\u001b[0m\u001b[0;34m:\u001b[0m\u001b[0;34m\u001b[0m\u001b[0;34m\u001b[0m\u001b[0m\n\u001b[0;32m--> 833\u001b[0;31m                     \u001b[0mself\u001b[0m\u001b[0;34m.\u001b[0m\u001b[0m_output\u001b[0m\u001b[0;34m.\u001b[0m\u001b[0mextend\u001b[0m\u001b[0;34m(\u001b[0m\u001b[0mjob\u001b[0m\u001b[0;34m.\u001b[0m\u001b[0mget\u001b[0m\u001b[0;34m(\u001b[0m\u001b[0mtimeout\u001b[0m\u001b[0;34m=\u001b[0m\u001b[0mself\u001b[0m\u001b[0;34m.\u001b[0m\u001b[0mtimeout\u001b[0m\u001b[0;34m)\u001b[0m\u001b[0;34m)\u001b[0m\u001b[0;34m\u001b[0m\u001b[0;34m\u001b[0m\u001b[0m\n\u001b[0m\u001b[1;32m    834\u001b[0m                 \u001b[0;32melse\u001b[0m\u001b[0;34m:\u001b[0m\u001b[0;34m\u001b[0m\u001b[0;34m\u001b[0m\u001b[0m\n\u001b[1;32m    835\u001b[0m                     \u001b[0mself\u001b[0m\u001b[0;34m.\u001b[0m\u001b[0m_output\u001b[0m\u001b[0;34m.\u001b[0m\u001b[0mextend\u001b[0m\u001b[0;34m(\u001b[0m\u001b[0mjob\u001b[0m\u001b[0;34m.\u001b[0m\u001b[0mget\u001b[0m\u001b[0;34m(\u001b[0m\u001b[0;34m)\u001b[0m\u001b[0;34m)\u001b[0m\u001b[0;34m\u001b[0m\u001b[0;34m\u001b[0m\u001b[0m\n",
            "\u001b[0;32m/usr/local/lib/python3.6/dist-packages/joblib/_parallel_backends.py\u001b[0m in \u001b[0;36mwrap_future_result\u001b[0;34m(future, timeout)\u001b[0m\n\u001b[1;32m    519\u001b[0m         AsyncResults.get from multiprocessing.\"\"\"\n\u001b[1;32m    520\u001b[0m         \u001b[0;32mtry\u001b[0m\u001b[0;34m:\u001b[0m\u001b[0;34m\u001b[0m\u001b[0;34m\u001b[0m\u001b[0m\n\u001b[0;32m--> 521\u001b[0;31m             \u001b[0;32mreturn\u001b[0m \u001b[0mfuture\u001b[0m\u001b[0;34m.\u001b[0m\u001b[0mresult\u001b[0m\u001b[0;34m(\u001b[0m\u001b[0mtimeout\u001b[0m\u001b[0;34m=\u001b[0m\u001b[0mtimeout\u001b[0m\u001b[0;34m)\u001b[0m\u001b[0;34m\u001b[0m\u001b[0;34m\u001b[0m\u001b[0m\n\u001b[0m\u001b[1;32m    522\u001b[0m         \u001b[0;32mexcept\u001b[0m \u001b[0mLokyTimeoutError\u001b[0m\u001b[0;34m:\u001b[0m\u001b[0;34m\u001b[0m\u001b[0;34m\u001b[0m\u001b[0m\n\u001b[1;32m    523\u001b[0m             \u001b[0;32mraise\u001b[0m \u001b[0mTimeoutError\u001b[0m\u001b[0;34m(\u001b[0m\u001b[0;34m)\u001b[0m\u001b[0;34m\u001b[0m\u001b[0;34m\u001b[0m\u001b[0m\n",
            "\u001b[0;32m/usr/lib/python3.6/concurrent/futures/_base.py\u001b[0m in \u001b[0;36mresult\u001b[0;34m(self, timeout)\u001b[0m\n\u001b[1;32m    425\u001b[0m                 \u001b[0;32mreturn\u001b[0m \u001b[0mself\u001b[0m\u001b[0;34m.\u001b[0m\u001b[0m__get_result\u001b[0m\u001b[0;34m(\u001b[0m\u001b[0;34m)\u001b[0m\u001b[0;34m\u001b[0m\u001b[0;34m\u001b[0m\u001b[0m\n\u001b[1;32m    426\u001b[0m \u001b[0;34m\u001b[0m\u001b[0m\n\u001b[0;32m--> 427\u001b[0;31m             \u001b[0mself\u001b[0m\u001b[0;34m.\u001b[0m\u001b[0m_condition\u001b[0m\u001b[0;34m.\u001b[0m\u001b[0mwait\u001b[0m\u001b[0;34m(\u001b[0m\u001b[0mtimeout\u001b[0m\u001b[0;34m)\u001b[0m\u001b[0;34m\u001b[0m\u001b[0;34m\u001b[0m\u001b[0m\n\u001b[0m\u001b[1;32m    428\u001b[0m \u001b[0;34m\u001b[0m\u001b[0m\n\u001b[1;32m    429\u001b[0m             \u001b[0;32mif\u001b[0m \u001b[0mself\u001b[0m\u001b[0;34m.\u001b[0m\u001b[0m_state\u001b[0m \u001b[0;32min\u001b[0m \u001b[0;34m[\u001b[0m\u001b[0mCANCELLED\u001b[0m\u001b[0;34m,\u001b[0m \u001b[0mCANCELLED_AND_NOTIFIED\u001b[0m\u001b[0;34m]\u001b[0m\u001b[0;34m:\u001b[0m\u001b[0;34m\u001b[0m\u001b[0;34m\u001b[0m\u001b[0m\n",
            "\u001b[0;32m/usr/lib/python3.6/threading.py\u001b[0m in \u001b[0;36mwait\u001b[0;34m(self, timeout)\u001b[0m\n\u001b[1;32m    293\u001b[0m         \u001b[0;32mtry\u001b[0m\u001b[0;34m:\u001b[0m    \u001b[0;31m# restore state no matter what (e.g., KeyboardInterrupt)\u001b[0m\u001b[0;34m\u001b[0m\u001b[0;34m\u001b[0m\u001b[0m\n\u001b[1;32m    294\u001b[0m             \u001b[0;32mif\u001b[0m \u001b[0mtimeout\u001b[0m \u001b[0;32mis\u001b[0m \u001b[0;32mNone\u001b[0m\u001b[0;34m:\u001b[0m\u001b[0;34m\u001b[0m\u001b[0;34m\u001b[0m\u001b[0m\n\u001b[0;32m--> 295\u001b[0;31m                 \u001b[0mwaiter\u001b[0m\u001b[0;34m.\u001b[0m\u001b[0macquire\u001b[0m\u001b[0;34m(\u001b[0m\u001b[0;34m)\u001b[0m\u001b[0;34m\u001b[0m\u001b[0;34m\u001b[0m\u001b[0m\n\u001b[0m\u001b[1;32m    296\u001b[0m                 \u001b[0mgotit\u001b[0m \u001b[0;34m=\u001b[0m \u001b[0;32mTrue\u001b[0m\u001b[0;34m\u001b[0m\u001b[0;34m\u001b[0m\u001b[0m\n\u001b[1;32m    297\u001b[0m             \u001b[0;32melse\u001b[0m\u001b[0;34m:\u001b[0m\u001b[0;34m\u001b[0m\u001b[0;34m\u001b[0m\u001b[0m\n",
            "\u001b[0;31mKeyboardInterrupt\u001b[0m: "
          ]
        }
      ]
    },
    {
      "cell_type": "code",
      "metadata": {
        "id": "S5gHVdbbOyOD",
        "colab_type": "code",
        "colab": {
          "base_uri": "https://localhost:8080/",
          "height": 381
        },
        "outputId": "dd21d7f1-a321-4f4c-e659-5eb9de131a28"
      },
      "source": [
        "# import imblearn\n",
        "\n",
        "# from imblearn.over_sampling import ADASYN\n",
        "# ada = ADASYN(random_state=42)\n",
        "\n",
        "# mw_ada_X_train, mw_ada_FCS_y_train = ada.fit_resample(mw_clust_X_train, mw_clust_y_train['FCS_category'])\n",
        "\n",
        "# y_pred,y_test  = rfCLF (mw_ada_X_train,mw_ada_FCS_y_train, mw_clust_X_test,mw_clust_y_test['FCS_category'] )\n",
        "\n",
        "# print(classification_report(y_test, y_pred))\n",
        "\n",
        "# y_pred,y_test  = GBCLF (mw_ada_X_train,mw_ada_FCS_y_train, mw_clust_X_test,mw_clust_y_test['FCS_category'] )\n",
        "\n",
        "# print(classification_report(y_test, y_pred))\n",
        "\n",
        "\n",
        "# import imblearn\n",
        "\n",
        "# from imblearn.over_sampling import ADASYN\n",
        "\n",
        "# ada = ADASYN(random_state=42,n_neighbors=1,n_jobs=5)\n",
        "\n",
        "# mw_ada_X_train, mw_ada_HDDS_y_train = ada.fit_resample(mw_clust_X_train, mw_clust_y_train['HDDS_category'])\n",
        "\n",
        "# y_pred,y_test  = rfCLF (mw_ada_X_train,mw_ada_HDDS_y_train, mw_clust_X_test,mw_clust_y_test['HDDS_category'] )\n",
        "\n",
        "# print(classification_report(y_test, y_pred))\n",
        "\n",
        "# y_pred,y_test  = GBCLF (mw_ada_X_train,mw_ada_HDDS_y_train, mw_clust_X_test,mw_clust_y_test['HDDS_category'] )\n",
        "\n",
        "# print(classification_report(y_test, y_pred))\n",
        "\n",
        "\n",
        "\n",
        "import imblearn\n",
        "\n",
        "from imblearn.over_sampling import ADASYN\n",
        "\n",
        "ada = ADASYN(random_state=42,n_jobs=5,n_neighbors=1)\n",
        "\n",
        "mw_ada_X_train, mw_ada_rCSI_y_train = ada.fit_resample(mw_clust_X_train, mw_clust_y_train['rCSI_category'])\n",
        "\n",
        "y_pred,y_test  = rfCLF (mw_ada_X_train,mw_ada_rCSI_y_train, mw_clust_X_test,mw_clust_y_test['rCSI_category'] )\n",
        "\n",
        "print(classification_report(y_test, y_pred))\n",
        "\n",
        "y_pred,y_test  = GBCLF (mw_ada_X_train,mw_ada_rCSI_y_train, mw_clust_X_test,mw_clust_y_test['rCSI_category'] )\n",
        "\n",
        "print(classification_report(y_test, y_pred))\n"
      ],
      "execution_count": 106,
      "outputs": [
        {
          "output_type": "error",
          "ename": "ValueError",
          "evalue": "ignored",
          "traceback": [
            "\u001b[0;31m---------------------------------------------------------------------------\u001b[0m",
            "\u001b[0;31mValueError\u001b[0m                                Traceback (most recent call last)",
            "\u001b[0;32m<ipython-input-106-f9c8255e11ce>\u001b[0m in \u001b[0;36m<module>\u001b[0;34m()\u001b[0m\n\u001b[1;32m      8\u001b[0m \u001b[0mada\u001b[0m \u001b[0;34m=\u001b[0m \u001b[0mADASYN\u001b[0m\u001b[0;34m(\u001b[0m\u001b[0mrandom_state\u001b[0m\u001b[0;34m=\u001b[0m\u001b[0;36m42\u001b[0m\u001b[0;34m,\u001b[0m\u001b[0mn_jobs\u001b[0m\u001b[0;34m=\u001b[0m\u001b[0;36m5\u001b[0m\u001b[0;34m,\u001b[0m\u001b[0mn_neighbors\u001b[0m\u001b[0;34m=\u001b[0m\u001b[0;36m1\u001b[0m\u001b[0;34m)\u001b[0m\u001b[0;34m\u001b[0m\u001b[0;34m\u001b[0m\u001b[0m\n\u001b[1;32m      9\u001b[0m \u001b[0;34m\u001b[0m\u001b[0m\n\u001b[0;32m---> 10\u001b[0;31m \u001b[0mmw_ada_X_train\u001b[0m\u001b[0;34m,\u001b[0m \u001b[0mmw_ada_rCSI_y_train\u001b[0m \u001b[0;34m=\u001b[0m \u001b[0mada\u001b[0m\u001b[0;34m.\u001b[0m\u001b[0mfit_resample\u001b[0m\u001b[0;34m(\u001b[0m\u001b[0mmw_clust_X_train\u001b[0m\u001b[0;34m,\u001b[0m \u001b[0mmw_clust_y_train\u001b[0m\u001b[0;34m[\u001b[0m\u001b[0;34m'rCSI_category'\u001b[0m\u001b[0;34m]\u001b[0m\u001b[0;34m)\u001b[0m\u001b[0;34m\u001b[0m\u001b[0;34m\u001b[0m\u001b[0m\n\u001b[0m\u001b[1;32m     11\u001b[0m \u001b[0;34m\u001b[0m\u001b[0m\n\u001b[1;32m     12\u001b[0m \u001b[0my_pred\u001b[0m\u001b[0;34m,\u001b[0m\u001b[0my_test\u001b[0m  \u001b[0;34m=\u001b[0m \u001b[0mrfCLF\u001b[0m \u001b[0;34m(\u001b[0m\u001b[0mmw_ada_X_train\u001b[0m\u001b[0;34m,\u001b[0m\u001b[0mmw_ada_rCSI_y_train\u001b[0m\u001b[0;34m,\u001b[0m \u001b[0mmw_clust_X_test\u001b[0m\u001b[0;34m,\u001b[0m\u001b[0mmw_clust_y_test\u001b[0m\u001b[0;34m[\u001b[0m\u001b[0;34m'rCSI_category'\u001b[0m\u001b[0;34m]\u001b[0m \u001b[0;34m)\u001b[0m\u001b[0;34m\u001b[0m\u001b[0;34m\u001b[0m\u001b[0m\n",
            "\u001b[0;32m/usr/local/lib/python3.6/dist-packages/imblearn/base.py\u001b[0m in \u001b[0;36mfit_resample\u001b[0;34m(self, X, y)\u001b[0m\n\u001b[1;32m     83\u001b[0m             self.sampling_strategy, y, self._sampling_type)\n\u001b[1;32m     84\u001b[0m \u001b[0;34m\u001b[0m\u001b[0m\n\u001b[0;32m---> 85\u001b[0;31m         \u001b[0moutput\u001b[0m \u001b[0;34m=\u001b[0m \u001b[0mself\u001b[0m\u001b[0;34m.\u001b[0m\u001b[0m_fit_resample\u001b[0m\u001b[0;34m(\u001b[0m\u001b[0mX\u001b[0m\u001b[0;34m,\u001b[0m \u001b[0my\u001b[0m\u001b[0;34m)\u001b[0m\u001b[0;34m\u001b[0m\u001b[0;34m\u001b[0m\u001b[0m\n\u001b[0m\u001b[1;32m     86\u001b[0m \u001b[0;34m\u001b[0m\u001b[0m\n\u001b[1;32m     87\u001b[0m         \u001b[0;32mif\u001b[0m \u001b[0mbinarize_y\u001b[0m\u001b[0;34m:\u001b[0m\u001b[0;34m\u001b[0m\u001b[0;34m\u001b[0m\u001b[0m\n",
            "\u001b[0;32m/usr/local/lib/python3.6/dist-packages/imblearn/over_sampling/_adasyn.py\u001b[0m in \u001b[0;36m_fit_resample\u001b[0;34m(self, X, y)\u001b[0m\n\u001b[1;32m    137\u001b[0m             \u001b[0;31m# to find the class NN to generate new samples\u001b[0m\u001b[0;34m\u001b[0m\u001b[0;34m\u001b[0m\u001b[0;34m\u001b[0m\u001b[0m\n\u001b[1;32m    138\u001b[0m             \u001b[0mself\u001b[0m\u001b[0;34m.\u001b[0m\u001b[0mnn_\u001b[0m\u001b[0;34m.\u001b[0m\u001b[0mfit\u001b[0m\u001b[0;34m(\u001b[0m\u001b[0mX_class\u001b[0m\u001b[0;34m)\u001b[0m\u001b[0;34m\u001b[0m\u001b[0;34m\u001b[0m\u001b[0m\n\u001b[0;32m--> 139\u001b[0;31m             \u001b[0m_\u001b[0m\u001b[0;34m,\u001b[0m \u001b[0mnn_index\u001b[0m \u001b[0;34m=\u001b[0m \u001b[0mself\u001b[0m\u001b[0;34m.\u001b[0m\u001b[0mnn_\u001b[0m\u001b[0;34m.\u001b[0m\u001b[0mkneighbors\u001b[0m\u001b[0;34m(\u001b[0m\u001b[0mX_class\u001b[0m\u001b[0;34m)\u001b[0m\u001b[0;34m\u001b[0m\u001b[0;34m\u001b[0m\u001b[0m\n\u001b[0m\u001b[1;32m    140\u001b[0m \u001b[0;34m\u001b[0m\u001b[0m\n\u001b[1;32m    141\u001b[0m             \u001b[0;32mif\u001b[0m \u001b[0msparse\u001b[0m\u001b[0;34m.\u001b[0m\u001b[0missparse\u001b[0m\u001b[0;34m(\u001b[0m\u001b[0mX\u001b[0m\u001b[0;34m)\u001b[0m\u001b[0;34m:\u001b[0m\u001b[0;34m\u001b[0m\u001b[0;34m\u001b[0m\u001b[0m\n",
            "\u001b[0;32m/usr/local/lib/python3.6/dist-packages/sklearn/neighbors/base.py\u001b[0m in \u001b[0;36mkneighbors\u001b[0;34m(self, X, n_neighbors, return_distance)\u001b[0m\n\u001b[1;32m    413\u001b[0m                 \u001b[0;34m\"Expected n_neighbors <= n_samples, \"\u001b[0m\u001b[0;34m\u001b[0m\u001b[0;34m\u001b[0m\u001b[0m\n\u001b[1;32m    414\u001b[0m                 \u001b[0;34m\" but n_samples = %d, n_neighbors = %d\"\u001b[0m \u001b[0;34m%\u001b[0m\u001b[0;34m\u001b[0m\u001b[0;34m\u001b[0m\u001b[0m\n\u001b[0;32m--> 415\u001b[0;31m                 \u001b[0;34m(\u001b[0m\u001b[0mtrain_size\u001b[0m\u001b[0;34m,\u001b[0m \u001b[0mn_neighbors\u001b[0m\u001b[0;34m)\u001b[0m\u001b[0;34m\u001b[0m\u001b[0;34m\u001b[0m\u001b[0m\n\u001b[0m\u001b[1;32m    416\u001b[0m             )\n\u001b[1;32m    417\u001b[0m         \u001b[0mn_samples\u001b[0m\u001b[0;34m,\u001b[0m \u001b[0m_\u001b[0m \u001b[0;34m=\u001b[0m \u001b[0mX\u001b[0m\u001b[0;34m.\u001b[0m\u001b[0mshape\u001b[0m\u001b[0;34m\u001b[0m\u001b[0;34m\u001b[0m\u001b[0m\n",
            "\u001b[0;31mValueError\u001b[0m: Expected n_neighbors <= n_samples,  but n_samples = 1, n_neighbors = 2"
          ]
        }
      ]
    },
    {
      "cell_type": "code",
      "metadata": {
        "id": "k76k52qgReLV",
        "colab_type": "code",
        "colab": {
          "base_uri": "https://localhost:8080/",
          "height": 1000
        },
        "outputId": "66242489-1e87-4334-f2c6-cdd8ab86c17a"
      },
      "source": [
        "import imblearn\n",
        "\n",
        "from imblearn.over_sampling import ADASYN\n",
        "ada = ADASYN(random_state=42,n_jobs=5)\n",
        "\n",
        "tz_ada_X_train, tz_ada_FCS_y_train = ada.fit_resample(tz_clust_X_train, tz_clust_y_train['FCS_category'])\n",
        "\n",
        "y_pred,y_test  = rfCLF (tz_ada_X_train,tz_ada_FCS_y_train, tz_clust_X_test,tz_clust_y_test['FCS_category'] )\n",
        "\n",
        "print(classification_report(y_test, y_pred))\n",
        "\n",
        "y_pred,y_test  = GBCLF (tz_ada_X_train,tz_ada_FCS_y_train, tz_clust_X_test,tz_clust_y_test['FCS_category'] )\n",
        "\n",
        "print(classification_report(y_test, y_pred))\n",
        "\n",
        "\n",
        "import imblearn\n",
        "\n",
        "from imblearn.over_sampling import ADASYN\n",
        "\n",
        "ada = ADASYN(random_state=42,n_jobs=5)\n",
        "\n",
        "tz_ada_X_train, tz_ada_HDDS_y_train = ada.fit_resample(tz_clust_X_train, tz_clust_y_train['HDDS_category'])\n",
        "\n",
        "y_pred,y_test  = rfCLF (tz_ada_X_train,tz_ada_HDDS_y_train, tz_clust_X_test,tz_clust_y_test['HDDS_category'] )\n",
        "\n",
        "print(classification_report(y_test, y_pred))\n",
        "\n",
        "y_pred,y_test  = GBCLF (tz_ada_X_train,tz_ada_HDDS_y_train, tz_clust_X_test,tz_clust_y_test['HDDS_category'] )\n",
        "\n",
        "print(classification_report(y_test, y_pred))\n",
        "\n",
        "\n",
        "\n",
        "import imblearn\n",
        "\n",
        "from imblearn.over_sampling import ADASYN\n",
        "\n",
        "ada = ADASYN(random_state=42,n_jobs=5)\n",
        "\n",
        "tz_ada_X_train, tz_ada_rCSI_y_train = ada.fit_resample(tz_clust_X_train, tz_clust_y_train['rCSI_category'])\n",
        "\n",
        "y_pred,y_test  = rfCLF (tz_ada_X_train,tz_ada_rCSI_y_train, tz_clust_X_test,tz_clust_y_test['rCSI_category'] )\n",
        "\n",
        "print(classification_report(y_test, y_pred))\n",
        "\n",
        "y_pred,y_test  = GBCLF (tz_ada_X_train,tz_ada_rCSI_y_train, tz_clust_X_test,tz_clust_y_test['rCSI_category'] )\n",
        "\n",
        "print(classification_report(y_test, y_pred))\n"
      ],
      "execution_count": 109,
      "outputs": [
        {
          "output_type": "stream",
          "text": [
            "Fitting 3 folds for each of 30 candidates, totalling 90 fits\n"
          ],
          "name": "stdout"
        },
        {
          "output_type": "stream",
          "text": [
            "[Parallel(n_jobs=-1)]: Using backend LokyBackend with 2 concurrent workers.\n",
            "[Parallel(n_jobs=-1)]: Done  37 tasks      | elapsed:   24.1s\n",
            "[Parallel(n_jobs=-1)]: Done  90 out of  90 | elapsed:   55.6s finished\n"
          ],
          "name": "stderr"
        },
        {
          "output_type": "stream",
          "text": [
            "              precision    recall  f1-score   support\n",
            "\n",
            "           0       0.94      0.90      0.92       342\n",
            "           1       0.42      0.58      0.49        43\n",
            "           2       0.00      0.00      0.00         1\n",
            "\n",
            "    accuracy                           0.86       386\n",
            "   macro avg       0.45      0.49      0.47       386\n",
            "weighted avg       0.88      0.86      0.87       386\n",
            "\n",
            "Fitting 3 folds for each of 30 candidates, totalling 90 fits\n"
          ],
          "name": "stdout"
        },
        {
          "output_type": "stream",
          "text": [
            "[Parallel(n_jobs=-1)]: Using backend LokyBackend with 2 concurrent workers.\n",
            "[Parallel(n_jobs=-1)]: Done  37 tasks      | elapsed:   58.3s\n",
            "[Parallel(n_jobs=-1)]: Done  90 out of  90 | elapsed:  2.3min finished\n"
          ],
          "name": "stderr"
        },
        {
          "output_type": "stream",
          "text": [
            "              precision    recall  f1-score   support\n",
            "\n",
            "           0       0.94      0.89      0.91       342\n",
            "           1       0.37      0.51      0.43        43\n",
            "           2       0.00      0.00      0.00         1\n",
            "\n",
            "    accuracy                           0.85       386\n",
            "   macro avg       0.43      0.47      0.45       386\n",
            "weighted avg       0.87      0.85      0.86       386\n",
            "\n",
            "Fitting 3 folds for each of 30 candidates, totalling 90 fits\n"
          ],
          "name": "stdout"
        },
        {
          "output_type": "stream",
          "text": [
            "[Parallel(n_jobs=-1)]: Using backend LokyBackend with 2 concurrent workers.\n",
            "[Parallel(n_jobs=-1)]: Done  37 tasks      | elapsed:   21.5s\n",
            "[Parallel(n_jobs=-1)]: Done  90 out of  90 | elapsed:   51.4s finished\n"
          ],
          "name": "stderr"
        },
        {
          "output_type": "stream",
          "text": [
            "              precision    recall  f1-score   support\n",
            "\n",
            "           0       0.50      0.74      0.60        82\n",
            "           1       0.92      0.80      0.86       304\n",
            "\n",
            "    accuracy                           0.79       386\n",
            "   macro avg       0.71      0.77      0.73       386\n",
            "weighted avg       0.83      0.79      0.80       386\n",
            "\n",
            "Fitting 3 folds for each of 30 candidates, totalling 90 fits\n"
          ],
          "name": "stdout"
        },
        {
          "output_type": "stream",
          "text": [
            "[Parallel(n_jobs=-1)]: Using backend LokyBackend with 2 concurrent workers.\n",
            "[Parallel(n_jobs=-1)]: Done  37 tasks      | elapsed:   53.1s\n",
            "[Parallel(n_jobs=-1)]: Done  90 out of  90 | elapsed:  2.1min finished\n"
          ],
          "name": "stderr"
        },
        {
          "output_type": "stream",
          "text": [
            "              precision    recall  f1-score   support\n",
            "\n",
            "           0       0.52      0.60      0.56        82\n",
            "           1       0.89      0.85      0.87       304\n",
            "\n",
            "    accuracy                           0.80       386\n",
            "   macro avg       0.70      0.72      0.71       386\n",
            "weighted avg       0.81      0.80      0.80       386\n",
            "\n",
            "Fitting 3 folds for each of 30 candidates, totalling 90 fits\n"
          ],
          "name": "stdout"
        },
        {
          "output_type": "stream",
          "text": [
            "[Parallel(n_jobs=-1)]: Using backend LokyBackend with 2 concurrent workers.\n",
            "[Parallel(n_jobs=-1)]: Done  37 tasks      | elapsed:   17.1s\n",
            "[Parallel(n_jobs=-1)]: Done  90 out of  90 | elapsed:   41.0s finished\n"
          ],
          "name": "stderr"
        },
        {
          "output_type": "stream",
          "text": [
            "              precision    recall  f1-score   support\n",
            "\n",
            "           0       0.68      0.76      0.72       227\n",
            "           1       0.55      0.46      0.50       153\n",
            "           2       0.00      0.00      0.00         6\n",
            "\n",
            "    accuracy                           0.63       386\n",
            "   macro avg       0.41      0.41      0.41       386\n",
            "weighted avg       0.61      0.63      0.62       386\n",
            "\n",
            "Fitting 3 folds for each of 30 candidates, totalling 90 fits\n"
          ],
          "name": "stdout"
        },
        {
          "output_type": "stream",
          "text": [
            "[Parallel(n_jobs=-1)]: Using backend LokyBackend with 2 concurrent workers.\n",
            "[Parallel(n_jobs=-1)]: Done  37 tasks      | elapsed:   52.8s\n",
            "[Parallel(n_jobs=-1)]: Done  90 out of  90 | elapsed:  2.0min finished\n"
          ],
          "name": "stderr"
        },
        {
          "output_type": "stream",
          "text": [
            "              precision    recall  f1-score   support\n",
            "\n",
            "           0       0.67      0.77      0.71       227\n",
            "           1       0.54      0.44      0.49       153\n",
            "           2       0.00      0.00      0.00         6\n",
            "\n",
            "    accuracy                           0.63       386\n",
            "   macro avg       0.40      0.40      0.40       386\n",
            "weighted avg       0.61      0.63      0.61       386\n",
            "\n"
          ],
          "name": "stdout"
        }
      ]
    },
    {
      "cell_type": "code",
      "metadata": {
        "id": "sD3n8eLNRzhc",
        "colab_type": "code",
        "colab": {
          "base_uri": "https://localhost:8080/",
          "height": 988
        },
        "outputId": "04525e1c-0bdd-4030-fd35-de10773fde4a"
      },
      "source": [
        "import imblearn\n",
        "\n",
        "from imblearn.over_sampling import ADASYN\n",
        "ada = ADASYN(random_state=42,n_jobs=5)\n",
        "\n",
        "ug_ada_X_train, ug_ada_FCS_y_train = ada.fit_resample(ug_clust_X_train, ug_clust_y_train['FCS_category'])\n",
        "\n",
        "y_pred,y_test  = rfCLF (ug_ada_X_train,ug_ada_FCS_y_train, ug_clust_X_test,ug_clust_y_test['FCS_category'] )\n",
        "\n",
        "print(classification_report(y_test, y_pred))\n",
        "\n",
        "y_pred,y_test  = GBCLF (ug_ada_X_train,ug_ada_FCS_y_train, ug_clust_X_test,ug_clust_y_test['FCS_category'] )\n",
        "\n",
        "print(classification_report(y_test, y_pred))\n",
        "\n",
        "\n",
        "import imblearn\n",
        "\n",
        "from imblearn.over_sampling import ADASYN\n",
        "\n",
        "ada = ADASYN(random_state=42,n_jobs=5)\n",
        "\n",
        "ug_ada_X_train, ug_ada_HDDS_y_train = ada.fit_resample(ug_clust_X_train, ug_clust_y_train['HDDS_category'])\n",
        "\n",
        "y_pred,y_test  = rfCLF (ug_ada_X_train,ug_ada_HDDS_y_train, ug_clust_X_test,ug_clust_y_test['HDDS_category'] )\n",
        "\n",
        "print(classification_report(y_test, y_pred))\n",
        "\n",
        "y_pred,y_test  = GBCLF (ug_ada_X_train,ug_ada_HDDS_y_train, ug_clust_X_test,ug_clust_y_test['HDDS_category'] )\n",
        "\n",
        "print(classification_report(y_test, y_pred))\n",
        "\n"
      ],
      "execution_count": 111,
      "outputs": [
        {
          "output_type": "stream",
          "text": [
            "Fitting 3 folds for each of 30 candidates, totalling 90 fits\n"
          ],
          "name": "stdout"
        },
        {
          "output_type": "stream",
          "text": [
            "[Parallel(n_jobs=-1)]: Using backend LokyBackend with 2 concurrent workers.\n",
            "[Parallel(n_jobs=-1)]: Done  37 tasks      | elapsed:    9.4s\n",
            "[Parallel(n_jobs=-1)]: Done  90 out of  90 | elapsed:   23.2s finished\n"
          ],
          "name": "stderr"
        },
        {
          "output_type": "stream",
          "text": [
            "              precision    recall  f1-score   support\n",
            "\n",
            "           0       0.85      0.89      0.87       334\n",
            "           1       0.50      0.41      0.45        97\n",
            "           2       0.30      0.33      0.32         9\n",
            "\n",
            "    accuracy                           0.78       440\n",
            "   macro avg       0.55      0.55      0.55       440\n",
            "weighted avg       0.76      0.78      0.77       440\n",
            "\n",
            "Fitting 3 folds for each of 30 candidates, totalling 90 fits\n"
          ],
          "name": "stdout"
        },
        {
          "output_type": "stream",
          "text": [
            "[Parallel(n_jobs=-1)]: Using backend LokyBackend with 2 concurrent workers.\n",
            "[Parallel(n_jobs=-1)]: Done  37 tasks      | elapsed:   26.8s\n",
            "[Parallel(n_jobs=-1)]: Done  90 out of  90 | elapsed:  1.1min finished\n"
          ],
          "name": "stderr"
        },
        {
          "output_type": "stream",
          "text": [
            "              precision    recall  f1-score   support\n",
            "\n",
            "           0       0.84      0.85      0.85       334\n",
            "           1       0.46      0.43      0.44        97\n",
            "           2       0.27      0.33      0.30         9\n",
            "\n",
            "    accuracy                           0.75       440\n",
            "   macro avg       0.52      0.54      0.53       440\n",
            "weighted avg       0.75      0.75      0.75       440\n",
            "\n",
            "Fitting 3 folds for each of 30 candidates, totalling 90 fits\n"
          ],
          "name": "stdout"
        },
        {
          "output_type": "stream",
          "text": [
            "[Parallel(n_jobs=-1)]: Using backend LokyBackend with 2 concurrent workers.\n",
            "[Parallel(n_jobs=-1)]: Done  37 tasks      | elapsed:   13.6s\n",
            "[Parallel(n_jobs=-1)]: Done  90 out of  90 | elapsed:   32.5s finished\n"
          ],
          "name": "stderr"
        },
        {
          "output_type": "stream",
          "text": [
            "              precision    recall  f1-score   support\n",
            "\n",
            "           0       0.83      0.10      0.18        49\n",
            "           1       0.89      1.00      0.94       389\n",
            "           2       0.00      0.00      0.00         2\n",
            "\n",
            "    accuracy                           0.89       440\n",
            "   macro avg       0.58      0.37      0.37       440\n",
            "weighted avg       0.88      0.89      0.85       440\n",
            "\n",
            "Fitting 3 folds for each of 30 candidates, totalling 90 fits\n"
          ],
          "name": "stdout"
        },
        {
          "output_type": "stream",
          "text": [
            "[Parallel(n_jobs=-1)]: Using backend LokyBackend with 2 concurrent workers.\n",
            "[Parallel(n_jobs=-1)]: Done  37 tasks      | elapsed:   25.4s\n",
            "[Parallel(n_jobs=-1)]: Done  90 out of  90 | elapsed:  1.0min finished\n"
          ],
          "name": "stderr"
        },
        {
          "output_type": "stream",
          "text": [
            "              precision    recall  f1-score   support\n",
            "\n",
            "           0       0.47      0.18      0.26        49\n",
            "           1       0.90      0.97      0.93       389\n",
            "           2       0.00      0.00      0.00         2\n",
            "\n",
            "    accuracy                           0.88       440\n",
            "   macro avg       0.46      0.39      0.40       440\n",
            "weighted avg       0.85      0.88      0.86       440\n",
            "\n"
          ],
          "name": "stdout"
        }
      ]
    },
    {
      "cell_type": "markdown",
      "metadata": {
        "colab_type": "text",
        "id": "LsdAVsz0XtER"
      },
      "source": [
        "For example, we can cluster the records of the majority class, and do the under-sampling by removing records from each cluster, thus seeking to preserve information. In over-sampling, instead of creating exact copies of the minority class records, we can introduce small variations into those copies, creating more diverse synthetic samples.\n",
        "\n",
        "Let's apply some of these resampling techniques, using the Python library imbalanced-learn. It is compatible with scikit-learn and is part of scikit-learn-contrib projects."
      ]
    },
    {
      "cell_type": "code",
      "metadata": {
        "id": "biIZ9cE2TWgC",
        "colab_type": "code",
        "colab": {}
      },
      "source": [
        ""
      ],
      "execution_count": 0,
      "outputs": []
    },
    {
      "cell_type": "markdown",
      "metadata": {
        "id": "1TQEf9mdw7al",
        "colab_type": "text"
      },
      "source": [
        "## Region split results"
      ]
    },
    {
      "cell_type": "code",
      "metadata": {
        "id": "JoZW4aQZzYyw",
        "colab_type": "code",
        "colab": {
          "base_uri": "https://localhost:8080/",
          "height": 478
        },
        "outputId": "8dafeee9-b9ea-4d61-e9c8-688ef27d01a6"
      },
      "source": [
        "from sklearn.utils import resample\n",
        "\n",
        "# concatenate our training data back together\n",
        "FCS_df = pd.concat([mw_clust_X_train_region, mw_clust_y_train_region['FCS_category']], axis=1)\n",
        "\n",
        "\n",
        "FCS_not_crisis = FCS_df[FCS_df.FCS_category==0]\n",
        "FCS_crisis = FCS_df[FCS_df.FCS_category!=0]\n",
        "\n",
        "# separate minority and majority classes\n",
        "\n",
        "# upsample minority\n",
        "FCS_crisis_upsampled = resample(FCS_crisis,\n",
        "                                 replace=True, # sample with replacement\n",
        "                                 n_samples=len(FCS_not_crisis), # match number in majority class\n",
        "                                 random_state=27) # reproducible results\n",
        "\n",
        "# combine majority and upsampled minority\n",
        "FCS_upsampled = pd.concat([FCS_not_crisis, FCS_crisis_upsampled])\n",
        "\n",
        "FCS_upsampled_y_train = FCS_upsampled[\"FCS_category\"]\n",
        "\n",
        "FCS_upsampled_X_train = FCS_upsampled.drop(\"FCS_category\",axis=1)\n",
        "\n",
        "y_pred,y_test  = rfCLF (FCS_upsampled_X_train,FCS_upsampled_y_train, mw_clust_X_test_region,mw_clust_y_test_region['FCS_category'] )\n",
        "\n",
        "print(classification_report(y_test, y_pred))\n",
        "\n",
        "y_pred,y_test  = XGBCLF (FCS_upsampled_X_train,FCS_upsampled_y_train, mw_clust_X_test_region,mw_clust_y_test_region['FCS_category'] )\n",
        "\n",
        "print(classification_report(y_test, y_pred))"
      ],
      "execution_count": 131,
      "outputs": [
        {
          "output_type": "stream",
          "text": [
            "Fitting 3 folds for each of 30 candidates, totalling 90 fits\n"
          ],
          "name": "stdout"
        },
        {
          "output_type": "stream",
          "text": [
            "[Parallel(n_jobs=-1)]: Using backend LokyBackend with 2 concurrent workers.\n",
            "[Parallel(n_jobs=-1)]: Done  37 tasks      | elapsed:    7.8s\n",
            "[Parallel(n_jobs=-1)]: Done  90 out of  90 | elapsed:   18.9s finished\n"
          ],
          "name": "stderr"
        },
        {
          "output_type": "stream",
          "text": [
            "              precision    recall  f1-score   support\n",
            "\n",
            "           0       0.85      0.89      0.87       749\n",
            "           1       0.59      0.49      0.53       237\n",
            "           2       0.00      0.00      0.00         1\n",
            "\n",
            "    accuracy                           0.79       987\n",
            "   macro avg       0.48      0.46      0.47       987\n",
            "weighted avg       0.78      0.79      0.79       987\n",
            "\n",
            "Fitting 3 folds for each of 30 candidates, totalling 90 fits\n"
          ],
          "name": "stdout"
        },
        {
          "output_type": "stream",
          "text": [
            "[Parallel(n_jobs=-1)]: Using backend LokyBackend with 2 concurrent workers.\n",
            "[Parallel(n_jobs=-1)]: Done  37 tasks      | elapsed:   50.1s\n",
            "[Parallel(n_jobs=-1)]: Done  90 out of  90 | elapsed:  1.9min finished\n"
          ],
          "name": "stderr"
        },
        {
          "output_type": "stream",
          "text": [
            "              precision    recall  f1-score   support\n",
            "\n",
            "           0       0.87      0.84      0.85       749\n",
            "           1       0.53      0.59      0.56       237\n",
            "           2       0.00      0.00      0.00         1\n",
            "\n",
            "    accuracy                           0.78       987\n",
            "   macro avg       0.47      0.48      0.47       987\n",
            "weighted avg       0.79      0.78      0.78       987\n",
            "\n"
          ],
          "name": "stdout"
        }
      ]
    },
    {
      "cell_type": "code",
      "metadata": {
        "id": "fQyDraj_xIRY",
        "colab_type": "code",
        "colab": {
          "base_uri": "https://localhost:8080/",
          "height": 445
        },
        "outputId": "528ceb60-61f3-4816-cba1-0f46a0916501"
      },
      "source": [
        "from sklearn.utils import resample\n",
        "\n",
        "# concatenate our training data back together\n",
        "HDDS_df = pd.concat([mw_clust_X_train_region, mw_clust_y_train_region['HDDS_category']], axis=1)\n",
        "\n",
        "\n",
        "HDDS_not_crisis = HDDS_df[HDDS_df.HDDS_category==0]\n",
        "HDDS_crisis = HDDS_df[HDDS_df.HDDS_category!=0]\n",
        "\n",
        "# separate minority and majority classes\n",
        "\n",
        "# upsample minority\n",
        "HDDS_crisis_upsampled = resample(HDDS_crisis,\n",
        "                                 replace=True, # sample with replacement\n",
        "                                 n_samples=len(HDDS_not_crisis), # match number in majority class\n",
        "                                 random_state=27) # reproducible results\n",
        "\n",
        "# combine majority and upsampled minority\n",
        "HDDS_upsampled = pd.concat([HDDS_not_crisis, HDDS_crisis_upsampled])\n",
        "\n",
        "HDDS_upsampled_y_train = HDDS_upsampled[\"HDDS_category\"]\n",
        "\n",
        "HDDS_upsampled_X_train = HDDS_upsampled.drop(\"HDDS_category\",axis=1)\n",
        "\n",
        "y_pred,y_test  = rfCLF (HDDS_upsampled_X_train,HDDS_upsampled_y_train, mw_clust_X_test_region,mw_clust_y_test_region['HDDS_category'] )\n",
        "\n",
        "print(classification_report(y_test, y_pred))\n",
        "\n",
        "y_pred,y_test  = XGBCLF (HDDS_upsampled_X_train,HDDS_upsampled_y_train, mw_clust_X_test_region,mw_clust_y_test_region['HDDS_category'] )\n",
        "\n",
        "print(classification_report(y_test, y_pred))"
      ],
      "execution_count": 129,
      "outputs": [
        {
          "output_type": "stream",
          "text": [
            "Fitting 3 folds for each of 30 candidates, totalling 90 fits\n"
          ],
          "name": "stdout"
        },
        {
          "output_type": "stream",
          "text": [
            "[Parallel(n_jobs=-1)]: Using backend LokyBackend with 2 concurrent workers.\n",
            "[Parallel(n_jobs=-1)]: Done  37 tasks      | elapsed:    4.8s\n",
            "[Parallel(n_jobs=-1)]: Done  90 out of  90 | elapsed:   10.3s finished\n",
            "[Parallel(n_jobs=-1)]: Using backend LokyBackend with 2 concurrent workers.\n"
          ],
          "name": "stderr"
        },
        {
          "output_type": "stream",
          "text": [
            "              precision    recall  f1-score   support\n",
            "\n",
            "           0       0.64      0.97      0.77       194\n",
            "           1       0.99      0.87      0.93       793\n",
            "\n",
            "    accuracy                           0.89       987\n",
            "   macro avg       0.82      0.92      0.85       987\n",
            "weighted avg       0.92      0.89      0.90       987\n",
            "\n",
            "Fitting 3 folds for each of 30 candidates, totalling 90 fits\n"
          ],
          "name": "stdout"
        },
        {
          "output_type": "stream",
          "text": [
            "[Parallel(n_jobs=-1)]: Done  37 tasks      | elapsed:    5.0s\n"
          ],
          "name": "stderr"
        },
        {
          "output_type": "stream",
          "text": [
            "              precision    recall  f1-score   support\n",
            "\n",
            "           0       0.66      0.90      0.76       194\n",
            "           1       0.97      0.89      0.93       793\n",
            "\n",
            "    accuracy                           0.89       987\n",
            "   macro avg       0.82      0.89      0.85       987\n",
            "weighted avg       0.91      0.89      0.90       987\n",
            "\n"
          ],
          "name": "stdout"
        },
        {
          "output_type": "stream",
          "text": [
            "[Parallel(n_jobs=-1)]: Done  90 out of  90 | elapsed:   11.7s finished\n"
          ],
          "name": "stderr"
        }
      ]
    },
    {
      "cell_type": "code",
      "metadata": {
        "id": "tjIHvK7by_Jk",
        "colab_type": "code",
        "colab": {
          "base_uri": "https://localhost:8080/",
          "height": 445
        },
        "outputId": "61160da1-4c15-40ce-ff36-ddb5ed1b6936"
      },
      "source": [
        "from sklearn.utils import resample\n",
        "\n",
        "# concatenate our training data back together\n",
        "rCSI_df = pd.concat([mw_clust_X_train_region, mw_clust_y_train_region['rCSI_category']], axis=1)\n",
        "\n",
        "\n",
        "rCSI_not_crisis = rCSI_df[rCSI_df.rCSI_category==0]\n",
        "rCSI_crisis = rCSI_df[rCSI_df.rCSI_category!=0]\n",
        "\n",
        "# separate minority and majority classes\n",
        "\n",
        "# upsample minority\n",
        "rCSI_crisis_upsampled = resample(rCSI_crisis,\n",
        "                                 replace=True, # sample with replacement\n",
        "                                 n_samples=len(rCSI_not_crisis), # match number in majority class\n",
        "                                 random_state=27) # reproducible results\n",
        "\n",
        "# combine majority and upsampled minority\n",
        "rCSI_upsampled = pd.concat([rCSI_not_crisis, rCSI_crisis_upsampled])\n",
        "\n",
        "rCSI_upsampled_y_train = rCSI_upsampled[\"rCSI_category\"]\n",
        "\n",
        "rCSI_upsampled_X_train = rCSI_upsampled.drop(\"rCSI_category\",axis=1)\n",
        "\n",
        "y_pred,y_test  = rfCLF (rCSI_upsampled_X_train,rCSI_upsampled_y_train, mw_clust_X_test_region,mw_clust_y_test_region['rCSI_category'] )\n",
        "\n",
        "print(classification_report(y_test, y_pred))\n",
        "\n",
        "y_pred,y_test  = XGBCLF (rCSI_upsampled_X_train,rCSI_upsampled_y_train, mw_clust_X_test_region,mw_clust_y_test_region['rCSI_category'] )\n",
        "\n",
        "print(classification_report(y_test, y_pred))"
      ],
      "execution_count": 130,
      "outputs": [
        {
          "output_type": "stream",
          "text": [
            "Fitting 3 folds for each of 30 candidates, totalling 90 fits\n"
          ],
          "name": "stdout"
        },
        {
          "output_type": "stream",
          "text": [
            "[Parallel(n_jobs=-1)]: Using backend LokyBackend with 2 concurrent workers.\n",
            "[Parallel(n_jobs=-1)]: Done  37 tasks      | elapsed:    7.3s\n",
            "[Parallel(n_jobs=-1)]: Done  90 out of  90 | elapsed:   17.9s finished\n"
          ],
          "name": "stderr"
        },
        {
          "output_type": "stream",
          "text": [
            "              precision    recall  f1-score   support\n",
            "\n",
            "           0       0.84      0.91      0.87       740\n",
            "           1       0.63      0.49      0.55       247\n",
            "\n",
            "    accuracy                           0.80       987\n",
            "   macro avg       0.74      0.70      0.71       987\n",
            "weighted avg       0.79      0.80      0.79       987\n",
            "\n",
            "Fitting 3 folds for each of 30 candidates, totalling 90 fits\n"
          ],
          "name": "stdout"
        },
        {
          "output_type": "stream",
          "text": [
            "[Parallel(n_jobs=-1)]: Using backend LokyBackend with 2 concurrent workers.\n",
            "[Parallel(n_jobs=-1)]: Done  37 tasks      | elapsed:   41.9s\n",
            "[Parallel(n_jobs=-1)]: Done  90 out of  90 | elapsed:  1.6min finished\n"
          ],
          "name": "stderr"
        },
        {
          "output_type": "stream",
          "text": [
            "              precision    recall  f1-score   support\n",
            "\n",
            "           0       0.87      0.81      0.84       740\n",
            "           1       0.53      0.64      0.58       247\n",
            "\n",
            "    accuracy                           0.77       987\n",
            "   macro avg       0.70      0.73      0.71       987\n",
            "weighted avg       0.79      0.77      0.77       987\n",
            "\n"
          ],
          "name": "stdout"
        }
      ]
    },
    {
      "cell_type": "code",
      "metadata": {
        "id": "5dzVevuszUIu",
        "colab_type": "code",
        "colab": {
          "base_uri": "https://localhost:8080/",
          "height": 924
        },
        "outputId": "bd91e63b-7d74-48b4-a7b5-7873a811ce41"
      },
      "source": [
        "from sklearn.utils import resample\n",
        "\n",
        "# concatenate our training data back together\n",
        "FCS_df = pd.concat([ug_clust_X_train_region, ug_clust_y_train_region['FCS_category']], axis=1)\n",
        "\n",
        "\n",
        "FCS_not_crisis = FCS_df[FCS_df.FCS_category==0]\n",
        "FCS_crisis = FCS_df[FCS_df.FCS_category!=0]\n",
        "\n",
        "# separate minority and majority classes\n",
        "\n",
        "# upsample minority\n",
        "FCS_crisis_upsampled = resample(FCS_crisis,\n",
        "                                replace=True, # sample with replacement\n",
        "                                n_samples=len(FCS_not_crisis), # match number in majority class\n",
        "                                random_state=27) # reproducible results\n",
        "\n",
        "# combine majority and upsampled minority\n",
        "FCS_upsampled = pd.concat([FCS_not_crisis, FCS_crisis_upsampled])\n",
        "\n",
        "FCS_upsampled_y_train = FCS_upsampled[\"FCS_category\"]\n",
        "\n",
        "FCS_upsampled_X_train = FCS_upsampled.drop(\"FCS_category\",axis=1)\n",
        "\n",
        "y_pred,y_test  = rfCLF (FCS_upsampled_X_train,FCS_upsampled_y_train, ug_clust_X_test_region,ug_clust_y_test_region['FCS_category'] )\n",
        "\n",
        "print(classification_report(y_test, y_pred))\n",
        "\n",
        "y_pred,y_test  = XGBCLF (FCS_upsampled_X_train,FCS_upsampled_y_train, ug_clust_X_test_region,ug_clust_y_test_region['FCS_category'] )\n",
        "\n",
        "print(classification_report(y_test, y_pred))\n",
        "\n",
        "\n",
        "from sklearn.utils import resample\n",
        "\n",
        "# concatenate our training data back together\n",
        "HDDS_df = pd.concat([ug_clust_X_train_region, ug_clust_y_train_region['HDDS_category']], axis=1)\n",
        "\n",
        "\n",
        "HDDS_not_crisis = HDDS_df[HDDS_df.HDDS_category==0]\n",
        "HDDS_crisis = HDDS_df[HDDS_df.HDDS_category!=0]\n",
        "\n",
        "# separate minority and majority classes\n",
        "\n",
        "# upsample minority\n",
        "HDDS_crisis_upsampled = resample(HDDS_crisis,\n",
        "                                 replace=True, # sample with replacement\n",
        "                                 n_samples=len(HDDS_not_crisis), # match number in majority class\n",
        "                                 random_state=27) # reproducible results\n",
        "\n",
        "# combine majority and upsampled minority\n",
        "HDDS_upsampled = pd.concat([HDDS_not_crisis, HDDS_crisis_upsampled])\n",
        "\n",
        "HDDS_upsampled_y_train = HDDS_upsampled[\"HDDS_category\"]\n",
        "\n",
        "HDDS_upsampled_X_train = HDDS_upsampled.drop(\"HDDS_category\",axis=1)\n",
        "\n",
        "y_pred,y_test  = rfCLF (HDDS_upsampled_X_train,HDDS_upsampled_y_train, ug_clust_X_test_region,ug_clust_y_test_region['HDDS_category'] )\n",
        "\n",
        "print(classification_report(y_test, y_pred))\n",
        "\n",
        "y_pred,y_test  = XGBCLF (HDDS_upsampled_X_train,HDDS_upsampled_y_train, ug_clust_X_test_region,ug_clust_y_test_region['HDDS_category'] )\n",
        "\n",
        "print(classification_report(y_test, y_pred))"
      ],
      "execution_count": 142,
      "outputs": [
        {
          "output_type": "stream",
          "text": [
            "Fitting 3 folds for each of 30 candidates, totalling 90 fits\n"
          ],
          "name": "stdout"
        },
        {
          "output_type": "stream",
          "text": [
            "[Parallel(n_jobs=-1)]: Using backend LokyBackend with 2 concurrent workers.\n",
            "[Parallel(n_jobs=-1)]: Done  37 tasks      | elapsed:    8.2s\n",
            "[Parallel(n_jobs=-1)]: Done  90 out of  90 | elapsed:   17.2s finished\n"
          ],
          "name": "stderr"
        },
        {
          "output_type": "stream",
          "text": [
            "              precision    recall  f1-score   support\n",
            "\n",
            "           0       0.79      0.97      0.87       346\n",
            "           1       0.36      0.09      0.14        89\n",
            "           2       0.00      0.00      0.00        15\n",
            "\n",
            "    accuracy                           0.76       450\n",
            "   macro avg       0.38      0.35      0.34       450\n",
            "weighted avg       0.68      0.76      0.70       450\n",
            "\n",
            "Fitting 3 folds for each of 30 candidates, totalling 90 fits\n"
          ],
          "name": "stdout"
        },
        {
          "output_type": "stream",
          "text": [
            "[Parallel(n_jobs=-1)]: Using backend LokyBackend with 2 concurrent workers.\n",
            "[Parallel(n_jobs=-1)]: Done  37 tasks      | elapsed:   14.2s\n",
            "[Parallel(n_jobs=-1)]: Done  90 out of  90 | elapsed:   32.7s finished\n"
          ],
          "name": "stderr"
        },
        {
          "output_type": "stream",
          "text": [
            "              precision    recall  f1-score   support\n",
            "\n",
            "           0       0.81      0.88      0.84       346\n",
            "           1       0.33      0.27      0.30        89\n",
            "           2       0.00      0.00      0.00        15\n",
            "\n",
            "    accuracy                           0.73       450\n",
            "   macro avg       0.38      0.38      0.38       450\n",
            "weighted avg       0.69      0.73      0.71       450\n",
            "\n",
            "Fitting 3 folds for each of 30 candidates, totalling 90 fits\n"
          ],
          "name": "stdout"
        },
        {
          "output_type": "stream",
          "text": [
            "[Parallel(n_jobs=-1)]: Using backend LokyBackend with 2 concurrent workers.\n",
            "[Parallel(n_jobs=-1)]: Done  70 tasks      | elapsed:    4.9s\n",
            "[Parallel(n_jobs=-1)]: Done  90 out of  90 | elapsed:    6.3s finished\n",
            "[Parallel(n_jobs=-1)]: Using backend LokyBackend with 2 concurrent workers.\n"
          ],
          "name": "stderr"
        },
        {
          "output_type": "stream",
          "text": [
            "              precision    recall  f1-score   support\n",
            "\n",
            "           0       0.25      0.97      0.39        66\n",
            "           1       0.97      0.49      0.65       374\n",
            "           2       0.00      0.00      0.00        10\n",
            "\n",
            "    accuracy                           0.55       450\n",
            "   macro avg       0.40      0.49      0.35       450\n",
            "weighted avg       0.84      0.55      0.60       450\n",
            "\n",
            "Fitting 3 folds for each of 30 candidates, totalling 90 fits\n",
            "              precision    recall  f1-score   support\n",
            "\n",
            "           0       0.19      0.92      0.32        66\n",
            "           1       0.94      0.33      0.49       374\n",
            "           2       0.00      0.00      0.00        10\n",
            "\n",
            "    accuracy                           0.41       450\n",
            "   macro avg       0.38      0.42      0.27       450\n",
            "weighted avg       0.81      0.41      0.45       450\n",
            "\n"
          ],
          "name": "stdout"
        },
        {
          "output_type": "stream",
          "text": [
            "[Parallel(n_jobs=-1)]: Done  90 out of  90 | elapsed:    1.6s finished\n"
          ],
          "name": "stderr"
        }
      ]
    },
    {
      "cell_type": "markdown",
      "metadata": {
        "id": "3Dj9_M4NXfA7",
        "colab_type": "text"
      },
      "source": [
        "## Random split results "
      ]
    },
    {
      "cell_type": "code",
      "metadata": {
        "id": "AHf9yEc_XcKp",
        "colab_type": "code",
        "colab": {}
      },
      "source": [
        "X_train_ug, X_test_ug, y_train_ug, y_test_ug \n",
        "\n"
      ],
      "execution_count": 0,
      "outputs": []
    },
    {
      "cell_type": "code",
      "metadata": {
        "id": "RARevp-y1VqO",
        "colab_type": "code",
        "colab": {
          "base_uri": "https://localhost:8080/",
          "height": 924
        },
        "outputId": "bcf5dfbd-a2bb-4bc1-d01f-2e03bde56286"
      },
      "source": [
        "from sklearn.utils import resample\n",
        "\n",
        "# concatenate our training data back together\n",
        "FCS_df = pd.concat([X_train_ug, y_train_ug['FCS_category']], axis=1)\n",
        "\n",
        "\n",
        "FCS_not_crisis = FCS_df[FCS_df.FCS_category==0]\n",
        "FCS_crisis = FCS_df[FCS_df.FCS_category!=0]\n",
        "\n",
        "# separate minority and majority classes\n",
        "\n",
        "# upsample minority\n",
        "FCS_crisis_upsampled = resample(FCS_crisis,\n",
        "                                replace=True, # sample with replacement\n",
        "                                n_samples=len(FCS_not_crisis), # match number in majority class\n",
        "                                random_state=27) # reproducible results\n",
        "\n",
        "# combine majority and upsampled minority\n",
        "FCS_upsampled = pd.concat([FCS_not_crisis, FCS_crisis_upsampled])\n",
        "\n",
        "FCS_upsampled_y_train = FCS_upsampled[\"FCS_category\"]\n",
        "\n",
        "FCS_upsampled_X_train = FCS_upsampled.drop(\"FCS_category\",axis=1)\n",
        "\n",
        "y_pred,y_test  = rfCLF (FCS_upsampled_X_train,FCS_upsampled_y_train, X_test_ug,y_test_ug['FCS_category'] )\n",
        "\n",
        "print(classification_report(y_test, y_pred))\n",
        "\n",
        "y_pred,y_test  = XGBCLF (FCS_upsampled_X_train,FCS_upsampled_y_train, X_test_ug,y_test_ug['FCS_category'] )\n",
        "\n",
        "print(classification_report(y_test, y_pred))\n",
        "\n",
        "\n",
        "from sklearn.utils import resample\n",
        "\n",
        "# concatenate our training data back together\n",
        "HDDS_df = pd.concat([X_train_ug, y_train_ug['HDDS_category']], axis=1)\n",
        "\n",
        "\n",
        "HDDS_not_crisis = HDDS_df[HDDS_df.HDDS_category==0]\n",
        "HDDS_crisis = HDDS_df[HDDS_df.HDDS_category!=0]\n",
        "\n",
        "# separate minority and majority classes\n",
        "\n",
        "# upsample minority\n",
        "HDDS_crisis_upsampled = resample(HDDS_crisis,\n",
        "                                 replace=True, # sample with replacement\n",
        "                                 n_samples=len(HDDS_not_crisis), # match number in majority class\n",
        "                                 random_state=27) # reproducible results\n",
        "\n",
        "# combine majority and upsampled minority\n",
        "HDDS_upsampled = pd.concat([HDDS_not_crisis, HDDS_crisis_upsampled])\n",
        "\n",
        "HDDS_upsampled_y_train = HDDS_upsampled[\"HDDS_category\"]\n",
        "\n",
        "HDDS_upsampled_X_train = HDDS_upsampled.drop(\"HDDS_category\",axis=1)\n",
        "\n",
        "y_pred,y_test  = rfCLF (HDDS_upsampled_X_train,HDDS_upsampled_y_train, X_test_ug,y_test_ug['HDDS_category'] )\n",
        "\n",
        "print(classification_report(y_test, y_pred))\n",
        "\n",
        "y_pred,y_test  = XGBCLF (HDDS_upsampled_X_train,HDDS_upsampled_y_train, X_test_ug,y_test_ug['HDDS_category'] )\n",
        "\n",
        "print(classification_report(y_test, y_pred))"
      ],
      "execution_count": 184,
      "outputs": [
        {
          "output_type": "stream",
          "text": [
            "Fitting 3 folds for each of 30 candidates, totalling 90 fits\n"
          ],
          "name": "stdout"
        },
        {
          "output_type": "stream",
          "text": [
            "[Parallel(n_jobs=-1)]: Using backend LokyBackend with 2 concurrent workers.\n",
            "[Parallel(n_jobs=-1)]: Done  37 tasks      | elapsed:    8.8s\n",
            "[Parallel(n_jobs=-1)]: Done  90 out of  90 | elapsed:   18.5s finished\n"
          ],
          "name": "stderr"
        },
        {
          "output_type": "stream",
          "text": [
            "              precision    recall  f1-score   support\n",
            "\n",
            "           0       0.79      0.93      0.86       287\n",
            "           1       0.77      0.56      0.65       153\n",
            "           2       1.00      0.60      0.75        15\n",
            "\n",
            "    accuracy                           0.79       455\n",
            "   macro avg       0.86      0.70      0.75       455\n",
            "weighted avg       0.79      0.79      0.78       455\n",
            "\n",
            "Fitting 3 folds for each of 30 candidates, totalling 90 fits\n"
          ],
          "name": "stdout"
        },
        {
          "output_type": "stream",
          "text": [
            "[Parallel(n_jobs=-1)]: Using backend LokyBackend with 2 concurrent workers.\n",
            "[Parallel(n_jobs=-1)]: Done  37 tasks      | elapsed:   16.2s\n",
            "[Parallel(n_jobs=-1)]: Done  90 out of  90 | elapsed:   37.1s finished\n"
          ],
          "name": "stderr"
        },
        {
          "output_type": "stream",
          "text": [
            "              precision    recall  f1-score   support\n",
            "\n",
            "           0       0.77      0.76      0.76       287\n",
            "           1       0.54      0.59      0.56       153\n",
            "           2       0.60      0.20      0.30        15\n",
            "\n",
            "    accuracy                           0.68       455\n",
            "   macro avg       0.64      0.52      0.54       455\n",
            "weighted avg       0.69      0.68      0.68       455\n",
            "\n",
            "Fitting 3 folds for each of 30 candidates, totalling 90 fits\n"
          ],
          "name": "stdout"
        },
        {
          "output_type": "stream",
          "text": [
            "[Parallel(n_jobs=-1)]: Using backend LokyBackend with 2 concurrent workers.\n",
            "[Parallel(n_jobs=-1)]: Done  70 tasks      | elapsed:    5.5s\n",
            "[Parallel(n_jobs=-1)]: Done  90 out of  90 | elapsed:    7.0s finished\n",
            "[Parallel(n_jobs=-1)]: Using backend LokyBackend with 2 concurrent workers.\n"
          ],
          "name": "stderr"
        },
        {
          "output_type": "stream",
          "text": [
            "              precision    recall  f1-score   support\n",
            "\n",
            "           0       0.19      0.88      0.31        26\n",
            "           1       0.98      0.77      0.86       424\n",
            "           2       0.00      0.00      0.00         5\n",
            "\n",
            "    accuracy                           0.77       455\n",
            "   macro avg       0.39      0.55      0.39       455\n",
            "weighted avg       0.93      0.77      0.82       455\n",
            "\n",
            "Fitting 3 folds for each of 30 candidates, totalling 90 fits\n",
            "              precision    recall  f1-score   support\n",
            "\n",
            "           0       0.18      0.88      0.30        26\n",
            "           1       0.98      0.75      0.85       424\n",
            "           2       0.00      0.00      0.00         5\n",
            "\n",
            "    accuracy                           0.75       455\n",
            "   macro avg       0.39      0.55      0.38       455\n",
            "weighted avg       0.92      0.75      0.81       455\n",
            "\n"
          ],
          "name": "stdout"
        },
        {
          "output_type": "stream",
          "text": [
            "[Parallel(n_jobs=-1)]: Done  90 out of  90 | elapsed:    3.8s finished\n"
          ],
          "name": "stderr"
        }
      ]
    },
    {
      "cell_type": "code",
      "metadata": {
        "id": "_riAF7DCYauM",
        "colab_type": "code",
        "colab": {
          "base_uri": "https://localhost:8080/",
          "height": 1000
        },
        "outputId": "a8006936-9059-4e90-ea9d-b9a4841ee948"
      },
      "source": [
        "from sklearn.utils import resample\n",
        "\n",
        "# concatenate our training data back together\n",
        "FCS_df = pd.concat([X_train_mw, y_train_mw['FCS_category']], axis=1)\n",
        "\n",
        "\n",
        "FCS_not_crisis = FCS_df[FCS_df.FCS_category==0]\n",
        "FCS_crisis = FCS_df[FCS_df.FCS_category!=0]\n",
        "\n",
        "# separate minority and majority classes\n",
        "\n",
        "# upsample minority\n",
        "FCS_crisis_upsampled = resample(FCS_crisis,\n",
        "                                replace=True, # sample with replacement\n",
        "                                n_samples=len(FCS_not_crisis), # match number in majority class\n",
        "                                random_state=27) # reproducible results\n",
        "\n",
        "# combine majority and upsampled minority\n",
        "FCS_upsampled = pd.concat([FCS_not_crisis, FCS_crisis_upsampled])\n",
        "\n",
        "FCS_upsampled_y_train = FCS_upsampled[\"FCS_category\"]\n",
        "\n",
        "FCS_upsampled_X_train = FCS_upsampled.drop(\"FCS_category\",axis=1)\n",
        "\n",
        "y_pred,y_test  = rfCLF (FCS_upsampled_X_train,FCS_upsampled_y_train, X_test_mw,y_test_mw['FCS_category'] )\n",
        "\n",
        "print(classification_report(y_test, y_pred))\n",
        "\n",
        "y_pred,y_test  = XGBCLF (FCS_upsampled_X_train,FCS_upsampled_y_train, X_test_mw,y_test_mw['FCS_category'] )\n",
        "\n",
        "print(classification_report(y_test, y_pred))\n",
        "\n",
        "\n",
        "from sklearn.utils import resample\n",
        "\n",
        "# concatenate our training data back together\n",
        "HDDS_df = pd.concat([X_train_mw, y_train_mw['HDDS_category']], axis=1)\n",
        "\n",
        "\n",
        "HDDS_not_crisis = HDDS_df[HDDS_df.HDDS_category==0]\n",
        "HDDS_crisis = HDDS_df[HDDS_df.HDDS_category!=0]\n",
        "\n",
        "# separate minority and majority classes\n",
        "\n",
        "# upsample minority\n",
        "HDDS_crisis_upsampled = resample(HDDS_crisis,\n",
        "                                 replace=True, # sample with replacement\n",
        "                                 n_samples=len(HDDS_not_crisis), # match number in majority class\n",
        "                                 random_state=27) # reproducible results\n",
        "\n",
        "# combine majority and upsampled minority\n",
        "HDDS_upsampled = pd.concat([HDDS_not_crisis, HDDS_crisis_upsampled])\n",
        "\n",
        "HDDS_upsampled_y_train = HDDS_upsampled[\"HDDS_category\"]\n",
        "\n",
        "HDDS_upsampled_X_train = HDDS_upsampled.drop(\"HDDS_category\",axis=1)\n",
        "\n",
        "y_pred,y_test  = rfCLF (HDDS_upsampled_X_train,HDDS_upsampled_y_train, X_test_mw,y_test_mw['HDDS_category'] )\n",
        "\n",
        "print(classification_report(y_test, y_pred))\n",
        "\n",
        "y_pred,y_test  = XGBCLF (HDDS_upsampled_X_train,HDDS_upsampled_y_train, X_test_mw,y_test_mw['HDDS_category'] )\n",
        "\n",
        "print(classification_report(y_test, y_pred))\n",
        "\n",
        "from sklearn.utils import resample\n",
        "\n",
        "# concatenate our training data back together\n",
        "rCSI_df = pd.concat([X_train_mw, y_train_mw['rCSI_category']], axis=1)\n",
        "\n",
        "\n",
        "rCSI_not_crisis = rCSI_df[rCSI_df.rCSI_category==0]\n",
        "rCSI_crisis = rCSI_df[rCSI_df.rCSI_category!=0]\n",
        "\n",
        "# separate minority and majority classes\n",
        "\n",
        "# upsample minority\n",
        "rCSI_crisis_upsampled = resample(rCSI_crisis,\n",
        "                                 replace=True, # sample with replacement\n",
        "                                 n_samples=len(rCSI_not_crisis), # match number in majority class\n",
        "                                 random_state=27) # reproducible results\n",
        "\n",
        "# combine majority and upsampled minority\n",
        "rCSI_upsampled = pd.concat([rCSI_not_crisis, rCSI_crisis_upsampled])\n",
        "\n",
        "rCSI_upsampled_y_train = rCSI_upsampled[\"rCSI_category\"]\n",
        "\n",
        "rCSI_upsampled_X_train = rCSI_upsampled.drop(\"rCSI_category\",axis=1)\n",
        "\n",
        "y_pred,y_test  = rfCLF (rCSI_upsampled_X_train,rCSI_upsampled_y_train, X_test_mw,y_test_mw['rCSI_category'] )\n",
        "\n",
        "print(classification_report(y_test, y_pred))\n",
        "\n",
        "y_pred,y_test  = XGBCLF (rCSI_upsampled_X_train,rCSI_upsampled_y_train, X_test_mw,y_test_mw['rCSI_category'] )\n",
        "\n",
        "print(classification_report(y_test, y_pred))"
      ],
      "execution_count": 185,
      "outputs": [
        {
          "output_type": "stream",
          "text": [
            "Fitting 3 folds for each of 30 candidates, totalling 90 fits\n"
          ],
          "name": "stdout"
        },
        {
          "output_type": "stream",
          "text": [
            "[Parallel(n_jobs=-1)]: Using backend LokyBackend with 2 concurrent workers.\n",
            "[Parallel(n_jobs=-1)]: Done  37 tasks      | elapsed:   14.1s\n",
            "[Parallel(n_jobs=-1)]: Done  90 out of  90 | elapsed:   33.9s finished\n"
          ],
          "name": "stderr"
        },
        {
          "output_type": "stream",
          "text": [
            "              precision    recall  f1-score   support\n",
            "\n",
            "           0       0.96      0.97      0.96       658\n",
            "           1       0.89      0.86      0.87       205\n",
            "           2       0.00      0.00      0.00         2\n",
            "\n",
            "    accuracy                           0.94       865\n",
            "   macro avg       0.61      0.61      0.61       865\n",
            "weighted avg       0.94      0.94      0.94       865\n",
            "\n",
            "Fitting 3 folds for each of 30 candidates, totalling 90 fits\n"
          ],
          "name": "stdout"
        },
        {
          "output_type": "stream",
          "text": [
            "[Parallel(n_jobs=-1)]: Using backend LokyBackend with 2 concurrent workers.\n",
            "[Parallel(n_jobs=-1)]: Done  37 tasks      | elapsed:   38.0s\n",
            "[Parallel(n_jobs=-1)]: Done  90 out of  90 | elapsed:  1.5min finished\n"
          ],
          "name": "stderr"
        },
        {
          "output_type": "stream",
          "text": [
            "              precision    recall  f1-score   support\n",
            "\n",
            "           0       0.98      0.88      0.93       658\n",
            "           1       0.71      0.93      0.81       205\n",
            "           2       0.00      0.00      0.00         2\n",
            "\n",
            "    accuracy                           0.89       865\n",
            "   macro avg       0.56      0.61      0.58       865\n",
            "weighted avg       0.91      0.89      0.90       865\n",
            "\n",
            "Fitting 3 folds for each of 30 candidates, totalling 90 fits\n"
          ],
          "name": "stdout"
        },
        {
          "output_type": "stream",
          "text": [
            "[Parallel(n_jobs=-1)]: Using backend LokyBackend with 2 concurrent workers.\n",
            "[Parallel(n_jobs=-1)]: Done  37 tasks      | elapsed:    5.2s\n",
            "[Parallel(n_jobs=-1)]: Done  90 out of  90 | elapsed:   12.6s finished\n"
          ],
          "name": "stderr"
        },
        {
          "output_type": "stream",
          "text": [
            "              precision    recall  f1-score   support\n",
            "\n",
            "           0       0.79      0.97      0.87       174\n",
            "           1       0.99      0.93      0.96       690\n",
            "           2       0.00      0.00      0.00         1\n",
            "\n",
            "    accuracy                           0.94       865\n",
            "   macro avg       0.59      0.63      0.61       865\n",
            "weighted avg       0.95      0.94      0.94       865\n",
            "\n",
            "Fitting 3 folds for each of 30 candidates, totalling 90 fits\n"
          ],
          "name": "stdout"
        },
        {
          "output_type": "stream",
          "text": [
            "[Parallel(n_jobs=-1)]: Using backend LokyBackend with 2 concurrent workers.\n",
            "[Parallel(n_jobs=-1)]: Done  37 tasks      | elapsed:    3.7s\n",
            "[Parallel(n_jobs=-1)]: Done  90 out of  90 | elapsed:    8.8s finished\n",
            "[Parallel(n_jobs=-1)]: Using backend LokyBackend with 2 concurrent workers.\n"
          ],
          "name": "stderr"
        },
        {
          "output_type": "stream",
          "text": [
            "              precision    recall  f1-score   support\n",
            "\n",
            "           0       0.72      0.95      0.82       174\n",
            "           1       0.99      0.91      0.94       690\n",
            "           2       0.00      0.00      0.00         1\n",
            "\n",
            "    accuracy                           0.92       865\n",
            "   macro avg       0.57      0.62      0.59       865\n",
            "weighted avg       0.93      0.92      0.92       865\n",
            "\n",
            "Fitting 3 folds for each of 30 candidates, totalling 90 fits\n"
          ],
          "name": "stdout"
        },
        {
          "output_type": "stream",
          "text": [
            "[Parallel(n_jobs=-1)]: Done  37 tasks      | elapsed:   13.7s\n",
            "[Parallel(n_jobs=-1)]: Done  90 out of  90 | elapsed:   32.8s finished\n"
          ],
          "name": "stderr"
        },
        {
          "output_type": "stream",
          "text": [
            "              precision    recall  f1-score   support\n",
            "\n",
            "           0       0.93      0.99      0.96       591\n",
            "           1       0.95      0.83      0.89       271\n",
            "           2       0.00      0.00      0.00         3\n",
            "\n",
            "    accuracy                           0.93       865\n",
            "   macro avg       0.63      0.61      0.61       865\n",
            "weighted avg       0.93      0.93      0.93       865\n",
            "\n",
            "Fitting 3 folds for each of 30 candidates, totalling 90 fits\n"
          ],
          "name": "stdout"
        },
        {
          "output_type": "stream",
          "text": [
            "[Parallel(n_jobs=-1)]: Using backend LokyBackend with 2 concurrent workers.\n",
            "[Parallel(n_jobs=-1)]: Done  37 tasks      | elapsed:   33.4s\n",
            "[Parallel(n_jobs=-1)]: Done  90 out of  90 | elapsed:  1.3min finished\n"
          ],
          "name": "stderr"
        },
        {
          "output_type": "stream",
          "text": [
            "              precision    recall  f1-score   support\n",
            "\n",
            "           0       0.92      0.92      0.92       591\n",
            "           1       0.81      0.83      0.82       271\n",
            "           2       0.00      0.00      0.00         3\n",
            "\n",
            "    accuracy                           0.89       865\n",
            "   macro avg       0.58      0.58      0.58       865\n",
            "weighted avg       0.88      0.89      0.89       865\n",
            "\n"
          ],
          "name": "stdout"
        }
      ]
    },
    {
      "cell_type": "markdown",
      "metadata": {
        "colab_type": "text",
        "id": "ANJyTHt4jkT7"
      },
      "source": [
        "## Data Segmentation "
      ]
    },
    {
      "cell_type": "code",
      "metadata": {
        "id": "EYS98sOzvZBt",
        "colab_type": "code",
        "colab": {}
      },
      "source": [
        "url_mw_test = 'https://raw.githubusercontent.com/zhou100/FoodSecurityPrediction/master/data/clean/segmentation/mw_test.csv'\n",
        "mw_test = pd.read_csv(url_mw_test)\n",
        "\n",
        "url_tz_test = 'https://raw.githubusercontent.com/zhou100/FoodSecurityPrediction/master/data/clean/segmentation/tz_test.csv'\n",
        "tz_test = pd.read_csv(url_tz_test)\n",
        "\n",
        "url_ug_test = 'https://raw.githubusercontent.com/zhou100/FoodSecurityPrediction/master/data/clean/segmentation/ug_test.csv'\n",
        "ug_test = pd.read_csv(url_ug_test)\n",
        "\n"
      ],
      "execution_count": 0,
      "outputs": []
    },
    {
      "cell_type": "code",
      "metadata": {
        "id": "O4CqUSVzwrP0",
        "colab_type": "code",
        "colab": {}
      },
      "source": [
        "url_onedata = 'https://raw.githubusercontent.com/zhou100/FoodSecurityPrediction/master/data/clean/segmentation/one_dataset.csv'\n",
        "onedata = pd.read_csv(url_onedata)"
      ],
      "execution_count": 0,
      "outputs": []
    },
    {
      "cell_type": "code",
      "metadata": {
        "id": "5QnUGQUiw7b5",
        "colab_type": "code",
        "colab": {}
      },
      "source": [
        "url_ruraldata = 'https://raw.githubusercontent.com/zhou100/FoodSecurityPrediction/master/data/clean/segmentation/rural_dataset.csv'\n",
        "ruraldata = pd.read_csv(url_ruraldata)"
      ],
      "execution_count": 0,
      "outputs": []
    },
    {
      "cell_type": "code",
      "metadata": {
        "id": "UTLp4gGixK4N",
        "colab_type": "code",
        "colab": {}
      },
      "source": [
        "# Define label variables  \n",
        "\n",
        "mw_test['FCS_category']= pd.cut(x=mw_test['FCS'], bins=[-1,28,42,100],labels= [2, 1, 0])\n",
        "mw_test['HDDS_category']= pd.cut(x=mw_test['HDDS'], bins=[0,3,6,10],labels= [2, 1, 0])\n",
        "mw_test['rCSI_category']= pd.cut(x=mw_test['rCSI'], bins=[-1,4,17,42],labels= [0, 1, 2])\n",
        "\n",
        "tz_test['FCS_category']= pd.cut(x=tz_test['FCS'], bins=[-1,28,42,100],labels= [2, 1, 0])\n",
        "tz_test['HDDS_category']= pd.cut(x=tz_test['HDDS'], bins=[0,3,6,10],labels= [2, 1, 0])\n",
        "tz_test['rCSI_category']= pd.cut(x=tz_test['rCSI'], bins=[-1,4,17,42],labels= [0, 1, 2])\n",
        "\n",
        "\n",
        "ug_test['FCS_category']= pd.cut(x=ug_test['FCS'], bins=[-1,28,42,100],labels= [2, 1, 0])\n",
        "ug_test['HDDS_category']= pd.cut(x=ug_test['HDDS'], bins=[0,3,6,10],labels= [2, 1, 0])\n"
      ],
      "execution_count": 0,
      "outputs": []
    },
    {
      "cell_type": "code",
      "metadata": {
        "id": "STTG-Yv_x5XG",
        "colab_type": "code",
        "colab": {}
      },
      "source": [
        "\n",
        "labels = ['FCS', 'rCSI', 'HDDS']\n",
        "category_labels = ['FCS_category', 'rCSI_category', 'HDDS_category']\n",
        "\n",
        "\n",
        "\n",
        "# Separate y and X\n",
        "mw_test_y_test= mw_test[['FCS_category', 'rCSI_category', 'HDDS_category']]\n",
        "tz_test_y_test= tz_test[['FCS_category', 'rCSI_category', 'HDDS_category']]\n",
        "ug_test_y_test= ug_test[['FCS_category',  'HDDS_category']]\n",
        "\n",
        "\n",
        "mw_test_X_test= mw_test.drop(labels+category_labels,  axis=1)\n",
        "tz_test_X_test= tz_test.drop(labels+category_labels,  axis=1)\n",
        "ug_test_X_test= ug_test.drop( ['FCS_category', 'FCS', 'HDDS', 'HDDS_category'],  axis=1)\n",
        "\n"
      ],
      "execution_count": 0,
      "outputs": []
    },
    {
      "cell_type": "code",
      "metadata": {
        "id": "irIdN1IzzZDG",
        "colab_type": "code",
        "colab": {}
      },
      "source": [
        "onedata['FCS_category']= pd.cut(x=onedata['FCS'], bins=[-1,28,42,500],labels= [2, 1, 0])\n",
        "onedata['HDDS_category']= pd.cut(x=onedata['HDDS'], bins=[0,3,6,10],labels= [2, 1, 0])\n",
        "onedata['rCSI_category']= pd.cut(x=onedata['rCSI'], bins=[-1,4,17,42],labels= [0, 1, 2])\n",
        "\n",
        "onedata_y_train= onedata[['FCS_category', 'rCSI_category', 'HDDS_category']]\n",
        "\n",
        "onedata_X_train= onedata.drop(labels+category_labels,  axis=1)\n"
      ],
      "execution_count": 0,
      "outputs": []
    },
    {
      "cell_type": "code",
      "metadata": {
        "id": "LT1n59gQ0f4b",
        "colab_type": "code",
        "colab": {}
      },
      "source": [
        "ruraldata['FCS_category']= pd.cut(x=ruraldata['FCS'], bins=[-1,28,42,500],labels= [2, 1, 0])\n",
        "ruraldata['HDDS_category']= pd.cut(x=ruraldata['HDDS'], bins=[0,3,6,10],labels= [2, 1, 0])\n",
        "ruraldata['rCSI_category']= pd.cut(x=ruraldata['rCSI'], bins=[-1,4,17,42],labels= [0, 1, 2])\n",
        "\n",
        "ruraldata_y_train= ruraldata[['FCS_category', 'rCSI_category', 'HDDS_category']]\n",
        "\n",
        "ruraldata_X_train= ruraldata.drop(labels+category_labels,  axis=1)\n"
      ],
      "execution_count": 0,
      "outputs": []
    },
    {
      "cell_type": "code",
      "metadata": {
        "id": "D7Zuh_omys9F",
        "colab_type": "code",
        "colab": {}
      },
      "source": [
        "mw_clust_y_train= mw_clust_train[['FCS_category', 'rCSI_category', 'HDDS_category']]\n",
        " \n",
        "mw_clust_X_train= mw_clust_train.drop(labels+category_labels+['FNID'], axis=1)\n",
        "\n",
        "\n",
        "tz_clust_y_train= tz_clust_train[['FCS_category', 'rCSI_category', 'HDDS_category']]\n",
        "tz_clust_y_test= tz_clust_test[['FCS_category', 'rCSI_category', 'HDDS_category']]\n",
        "\n",
        "tz_clust_X_test= tz_clust_test.drop(labels+category_labels,  axis=1)\n",
        "tz_clust_X_train= tz_clust_train.drop(labels+category_labels, axis=1)\n",
        "\n",
        "\n",
        "ug_clust_y_train= ug_clust_train[['FCS_category', 'HDDS_category']]\n",
        "ug_clust_y_test= ug_clust_test[['FCS_category', 'HDDS_category']]\n",
        "\n",
        "ug_clust_X_test= ug_clust_test.drop(['FCS_category', 'FCS', 'HDDS', 'HDDS_category'],  axis=1)\n",
        "ug_clust_X_train= ug_clust_train.drop(['FCS_category', 'FCS', 'HDDS', 'HDDS_category'],axis=1)\n"
      ],
      "execution_count": 0,
      "outputs": []
    },
    {
      "cell_type": "code",
      "metadata": {
        "id": "8nybRPMy1we0",
        "colab_type": "code",
        "colab": {
          "base_uri": "https://localhost:8080/",
          "height": 33
        },
        "outputId": "e68edb82-64c9-47d1-f6bf-cb741c00dde3"
      },
      "source": [
        "sum(onedata_y_train['FCS_category'].isnull().values\n",
        ")"
      ],
      "execution_count": 47,
      "outputs": [
        {
          "output_type": "execute_result",
          "data": {
            "text/plain": [
              "0"
            ]
          },
          "metadata": {
            "tags": []
          },
          "execution_count": 47
        }
      ]
    },
    {
      "cell_type": "code",
      "metadata": {
        "id": "0K5bV9sW3AIn",
        "colab_type": "code",
        "colab": {
          "base_uri": "https://localhost:8080/",
          "height": 33
        },
        "outputId": "1d5e937c-8e3f-4a67-93b8-1cf39c5e3cd3"
      },
      "source": [
        "onedata_y_train.isnull().values.any()"
      ],
      "execution_count": 39,
      "outputs": [
        {
          "output_type": "execute_result",
          "data": {
            "text/plain": [
              "True"
            ]
          },
          "metadata": {
            "tags": []
          },
          "execution_count": 39
        }
      ]
    },
    {
      "cell_type": "code",
      "metadata": {
        "id": "pLnS4tm32To6",
        "colab_type": "code",
        "colab": {
          "base_uri": "https://localhost:8080/",
          "height": 33
        },
        "outputId": "f22573c4-e877-4b4c-8099-301c9de59a84"
      },
      "source": [
        "onedata_y_train.shape"
      ],
      "execution_count": 36,
      "outputs": [
        {
          "output_type": "execute_result",
          "data": {
            "text/plain": [
              "(5378, 3)"
            ]
          },
          "metadata": {
            "tags": []
          },
          "execution_count": 36
        }
      ]
    },
    {
      "cell_type": "code",
      "metadata": {
        "id": "tvsah6S928nx",
        "colab_type": "code",
        "colab": {
          "base_uri": "https://localhost:8080/",
          "height": 33
        },
        "outputId": "02a36233-660f-4b15-f4db-6f875d2360bf"
      },
      "source": [
        "onedata_X_train.shape"
      ],
      "execution_count": 37,
      "outputs": [
        {
          "output_type": "execute_result",
          "data": {
            "text/plain": [
              "(5378, 30)"
            ]
          },
          "metadata": {
            "tags": []
          },
          "execution_count": 37
        }
      ]
    },
    {
      "cell_type": "code",
      "metadata": {
        "id": "iwLtTfv52fI8",
        "colab_type": "code",
        "colab": {}
      },
      "source": [
        ""
      ],
      "execution_count": 0,
      "outputs": []
    },
    {
      "cell_type": "markdown",
      "metadata": {
        "id": "efiVrYC_1YZE",
        "colab_type": "text"
      },
      "source": [
        "### one data test result"
      ]
    },
    {
      "cell_type": "code",
      "metadata": {
        "id": "WKT9M4ly1dgO",
        "colab_type": "code",
        "colab": {
          "base_uri": "https://localhost:8080/",
          "height": 247
        },
        "outputId": "89ff48a1-0509-4a08-8095-5f0a9c8679e5"
      },
      "source": [
        "from sklearn.utils import resample\n",
        "\n",
        "# concatenate our training data back together\n",
        "FCS_df = pd.concat([onedata_X_train, onedata_y_train['FCS_category']], axis=1)\n",
        "\n",
        "\n",
        "FCS_not_crisis = FCS_df[FCS_df.FCS_category==0]\n",
        "FCS_crisis = FCS_df[FCS_df.FCS_category!=0]\n",
        "\n",
        "# separate minority and majority classes\n",
        "\n",
        "# upsample minority\n",
        "FCS_crisis_upsampled = resample(FCS_crisis,\n",
        "                                replace=True, # sample with replacement\n",
        "                                n_samples=len(FCS_not_crisis), # match number in majority class\n",
        "                                random_state=27) # reproducible results\n",
        "\n",
        "# combine majority and upsampled minority\n",
        "FCS_upsampled = pd.concat([FCS_not_crisis, FCS_crisis_upsampled])\n",
        "\n",
        "FCS_upsampled_y_train = FCS_upsampled[\"FCS_category\"]\n",
        "\n",
        "FCS_upsampled_X_train = FCS_upsampled.drop(\"FCS_category\",axis=1)\n",
        "\n",
        "# y_pred,y_test  = rfCLF (FCS_upsampled_X_train,FCS_upsampled_y_train, ug_test_X_test,ug_test_y_test['FCS_category'] )\n",
        "\n",
        "# print(classification_report(y_test, y_pred))\n",
        "\n",
        "# y_pred,y_test  = XGBCLF (FCS_upsampled_X_train,FCS_upsampled_y_train, ug_test_X_test,ug_test_y_test['FCS_category'] )\n",
        "\n",
        "# print(classification_report(y_test, y_pred))\n",
        "\n",
        "\n",
        "from sklearn.utils import resample\n",
        "\n",
        "# concatenate our training data back together\n",
        "HDDS_df = pd.concat([onedata_X_train, onedata_y_train['HDDS_category']], axis=1)\n",
        "\n",
        "\n",
        "HDDS_not_crisis = HDDS_df[HDDS_df.HDDS_category==0]\n",
        "HDDS_crisis = HDDS_df[HDDS_df.HDDS_category!=0]\n",
        "\n",
        "# separate minority and majority classes\n",
        "\n",
        "# upsample minority\n",
        "HDDS_crisis_upsampled = resample(HDDS_crisis,\n",
        "                                 replace=True, # sample with replacement\n",
        "                                 n_samples=len(HDDS_not_crisis), # match number in majority class\n",
        "                                 random_state=27) # reproducible results\n",
        "\n",
        "# combine majority and upsampled minority\n",
        "HDDS_upsampled = pd.concat([HDDS_not_crisis, HDDS_crisis_upsampled])\n",
        "\n",
        "HDDS_upsampled_y_train = HDDS_upsampled[\"HDDS_category\"]\n",
        "\n",
        "HDDS_upsampled_X_train = HDDS_upsampled.drop(\"HDDS_category\",axis=1)\n",
        "\n",
        "y_pred,y_test  = rfCLF (HDDS_upsampled_X_train,HDDS_upsampled_y_train, ug_test_X_test,ug_test_y_test['HDDS_category'] )\n",
        "\n",
        "print(classification_report(y_test, y_pred))\n",
        "\n",
        "# y_pred,y_test  = XGBCLF (HDDS_upsampled_X_train,HDDS_upsampled_y_train, ug_test_X_test,ug_test_y_test['HDDS_category'] )\n",
        "\n",
        "# print(classification_report(y_test, y_pred))"
      ],
      "execution_count": 53,
      "outputs": [
        {
          "output_type": "stream",
          "text": [
            "Fitting 3 folds for each of 30 candidates, totalling 90 fits\n"
          ],
          "name": "stdout"
        },
        {
          "output_type": "stream",
          "text": [
            "[Parallel(n_jobs=-1)]: Using backend LokyBackend with 2 concurrent workers.\n",
            "[Parallel(n_jobs=-1)]: Done  37 tasks      | elapsed:   12.0s\n",
            "[Parallel(n_jobs=-1)]: Done  90 out of  90 | elapsed:   26.9s finished\n"
          ],
          "name": "stderr"
        },
        {
          "output_type": "stream",
          "text": [
            "              precision    recall  f1-score   support\n",
            "\n",
            "           0       0.00      0.00      0.00        49\n",
            "           1       0.87      0.89      0.88       389\n",
            "           2       0.00      0.00      0.00         2\n",
            "\n",
            "    accuracy                           0.79       440\n",
            "   macro avg       0.29      0.30      0.29       440\n",
            "weighted avg       0.77      0.79      0.78       440\n",
            "\n"
          ],
          "name": "stdout"
        }
      ]
    },
    {
      "cell_type": "code",
      "metadata": {
        "id": "VOIufO2_4VzS",
        "colab_type": "code",
        "colab": {
          "base_uri": "https://localhost:8080/",
          "height": 1000
        },
        "outputId": "86f9d989-2d11-407e-a284-20e4257c2f4c"
      },
      "source": [
        "from sklearn.utils import resample\n",
        "\n",
        "# concatenate our training data back together\n",
        "FCS_df = pd.concat([onedata_X_train, onedata_y_train['FCS_category']], axis=1)\n",
        "\n",
        "\n",
        "FCS_not_crisis = FCS_df[FCS_df.FCS_category==0]\n",
        "FCS_crisis = FCS_df[FCS_df.FCS_category!=0]\n",
        "\n",
        "# separate minority and majority classes\n",
        "\n",
        "# upsample minority\n",
        "FCS_crisis_upsampled = resample(FCS_crisis,\n",
        "                                replace=True, # sample with replacement\n",
        "                                n_samples=len(FCS_not_crisis), # match number in majority class\n",
        "                                random_state=27) # reproducible results\n",
        "\n",
        "# combine majority and upsampled minority\n",
        "FCS_upsampled = pd.concat([FCS_not_crisis, FCS_crisis_upsampled])\n",
        "\n",
        "FCS_upsampled_y_train = FCS_upsampled[\"FCS_category\"]\n",
        "\n",
        "FCS_upsampled_X_train = FCS_upsampled.drop(\"FCS_category\",axis=1)\n",
        "\n",
        "# y_pred,y_test  = rfCLF (FCS_upsampled_X_train,FCS_upsampled_y_train, tz_test_X_test,tz_test_y_test['FCS_category'] )\n",
        "\n",
        "print(classification_report(y_test, y_pred))\n",
        "\n",
        "# y_pred,y_test  = XGBCLF (FCS_upsampled_X_train,FCS_upsampled_y_train, tz_test_X_test,tz_test_y_test['FCS_category'] )\n",
        "\n",
        "print(classification_report(y_test, y_pred))\n",
        "\n",
        "\n",
        "from sklearn.utils import resample\n",
        "\n",
        "# concatenate our training data back together\n",
        "HDDS_df = pd.concat([onedata_X_train, onedata_y_train['HDDS_category']], axis=1)\n",
        "\n",
        "\n",
        "HDDS_not_crisis = HDDS_df[HDDS_df.HDDS_category==0]\n",
        "HDDS_crisis = HDDS_df[HDDS_df.HDDS_category!=0]\n",
        "\n",
        "# separate minority and majority classes\n",
        "\n",
        "# upsample minority\n",
        "HDDS_crisis_upsampled = resample(HDDS_crisis,\n",
        "                                 replace=True, # sample with replacement\n",
        "                                 n_samples=len(HDDS_not_crisis), # match number in majority class\n",
        "                                 random_state=27) # reproducible results\n",
        "\n",
        "# combine majority and upsampled minority\n",
        "HDDS_upsampled = pd.concat([HDDS_not_crisis, HDDS_crisis_upsampled])\n",
        "\n",
        "HDDS_upsampled_y_train = HDDS_upsampled[\"HDDS_category\"]\n",
        "\n",
        "HDDS_upsampled_X_train = HDDS_upsampled.drop(\"HDDS_category\",axis=1)\n",
        "\n",
        "y_pred,y_test  = rfCLF (HDDS_upsampled_X_train,HDDS_upsampled_y_train, tz_test_X_test,tz_test_y_test['HDDS_category'] )\n",
        "\n",
        "print(classification_report(y_test, y_pred))\n",
        "\n",
        "# y_pred,y_test  = XGBCLF (HDDS_upsampled_X_train,HDDS_upsampled_y_train, tz_test_X_test,tz_test_y_test['HDDS_category'] )\n",
        "\n",
        "print(classification_report(y_test, y_pred))\n",
        "\n",
        "\n",
        "\n"
      ],
      "execution_count": 55,
      "outputs": [
        {
          "output_type": "stream",
          "text": [
            "              precision    recall  f1-score   support\n",
            "\n",
            "           0       0.87      0.85      0.86       342\n",
            "           1       0.00      0.00      0.00        43\n",
            "           2       0.00      0.00      0.00         1\n",
            "\n",
            "    accuracy                           0.75       386\n",
            "   macro avg       0.29      0.28      0.29       386\n",
            "weighted avg       0.77      0.75      0.76       386\n",
            "\n",
            "              precision    recall  f1-score   support\n",
            "\n",
            "           0       0.87      0.85      0.86       342\n",
            "           1       0.00      0.00      0.00        43\n",
            "           2       0.00      0.00      0.00         1\n",
            "\n",
            "    accuracy                           0.75       386\n",
            "   macro avg       0.29      0.28      0.29       386\n",
            "weighted avg       0.77      0.75      0.76       386\n",
            "\n",
            "Fitting 3 folds for each of 30 candidates, totalling 90 fits\n"
          ],
          "name": "stdout"
        },
        {
          "output_type": "stream",
          "text": [
            "[Parallel(n_jobs=-1)]: Using backend LokyBackend with 2 concurrent workers.\n",
            "[Parallel(n_jobs=-1)]: Done  37 tasks      | elapsed:   10.6s\n",
            "[Parallel(n_jobs=-1)]: Done  90 out of  90 | elapsed:   25.7s finished\n"
          ],
          "name": "stderr"
        },
        {
          "output_type": "stream",
          "text": [
            "              precision    recall  f1-score   support\n",
            "\n",
            "           0       0.50      0.15      0.23        82\n",
            "           1       0.81      0.96      0.88       304\n",
            "\n",
            "    accuracy                           0.79       386\n",
            "   macro avg       0.65      0.55      0.55       386\n",
            "weighted avg       0.74      0.79      0.74       386\n",
            "\n",
            "              precision    recall  f1-score   support\n",
            "\n",
            "           0       0.50      0.15      0.23        82\n",
            "           1       0.81      0.96      0.88       304\n",
            "\n",
            "    accuracy                           0.79       386\n",
            "   macro avg       0.65      0.55      0.55       386\n",
            "weighted avg       0.74      0.79      0.74       386\n",
            "\n"
          ],
          "name": "stdout"
        },
        {
          "output_type": "error",
          "ename": "ValueError",
          "evalue": "ignored",
          "traceback": [
            "\u001b[0;31m---------------------------------------------------------------------------\u001b[0m",
            "\u001b[0;31mValueError\u001b[0m                                Traceback (most recent call last)",
            "\u001b[0;32m<ipython-input-55-904efa2d44b6>\u001b[0m in \u001b[0;36m<module>\u001b[0;34m()\u001b[0m\n\u001b[1;32m     93\u001b[0m \u001b[0mrCSI_upsampled_X_train\u001b[0m \u001b[0;34m=\u001b[0m \u001b[0mrCSI_upsampled\u001b[0m\u001b[0;34m.\u001b[0m\u001b[0mdrop\u001b[0m\u001b[0;34m(\u001b[0m\u001b[0;34m\"rCSI_category\"\u001b[0m\u001b[0;34m,\u001b[0m\u001b[0maxis\u001b[0m\u001b[0;34m=\u001b[0m\u001b[0;36m1\u001b[0m\u001b[0;34m)\u001b[0m\u001b[0;34m\u001b[0m\u001b[0;34m\u001b[0m\u001b[0m\n\u001b[1;32m     94\u001b[0m \u001b[0;34m\u001b[0m\u001b[0m\n\u001b[0;32m---> 95\u001b[0;31m \u001b[0my_pred\u001b[0m\u001b[0;34m,\u001b[0m\u001b[0my_test\u001b[0m  \u001b[0;34m=\u001b[0m \u001b[0mrfCLF\u001b[0m \u001b[0;34m(\u001b[0m\u001b[0mrCSI_upsampled_X_train\u001b[0m\u001b[0;34m,\u001b[0m\u001b[0mrCSI_upsampled_y_train\u001b[0m\u001b[0;34m,\u001b[0m \u001b[0mtz_test_X_test\u001b[0m\u001b[0;34m,\u001b[0m\u001b[0mtz_test_y_test\u001b[0m\u001b[0;34m[\u001b[0m\u001b[0;34m'rCSI_category'\u001b[0m\u001b[0;34m]\u001b[0m \u001b[0;34m)\u001b[0m\u001b[0;34m\u001b[0m\u001b[0;34m\u001b[0m\u001b[0m\n\u001b[0m\u001b[1;32m     96\u001b[0m \u001b[0;34m\u001b[0m\u001b[0m\n\u001b[1;32m     97\u001b[0m \u001b[0mprint\u001b[0m\u001b[0;34m(\u001b[0m\u001b[0mclassification_report\u001b[0m\u001b[0;34m(\u001b[0m\u001b[0my_test\u001b[0m\u001b[0;34m,\u001b[0m \u001b[0my_pred\u001b[0m\u001b[0;34m)\u001b[0m\u001b[0;34m)\u001b[0m\u001b[0;34m\u001b[0m\u001b[0;34m\u001b[0m\u001b[0m\n",
            "\u001b[0;32m<ipython-input-22-e76535d58fe8>\u001b[0m in \u001b[0;36mrfCLF\u001b[0;34m(X_train, y_train, X_test, y_test)\u001b[0m\n\u001b[1;32m     26\u001b[0m \u001b[0;34m\u001b[0m\u001b[0m\n\u001b[1;32m     27\u001b[0m     \u001b[0;31m# Fit the random search model\u001b[0m\u001b[0;34m\u001b[0m\u001b[0;34m\u001b[0m\u001b[0;34m\u001b[0m\u001b[0m\n\u001b[0;32m---> 28\u001b[0;31m     \u001b[0mrf_random\u001b[0m\u001b[0;34m.\u001b[0m\u001b[0mfit\u001b[0m\u001b[0;34m(\u001b[0m\u001b[0mX_train\u001b[0m\u001b[0;34m,\u001b[0m \u001b[0my_train\u001b[0m\u001b[0;34m)\u001b[0m\u001b[0;34m\u001b[0m\u001b[0;34m\u001b[0m\u001b[0m\n\u001b[0m\u001b[1;32m     29\u001b[0m \u001b[0;34m\u001b[0m\u001b[0m\n\u001b[1;32m     30\u001b[0m     \u001b[0;31m# Return accuracy\u001b[0m\u001b[0;34m\u001b[0m\u001b[0;34m\u001b[0m\u001b[0;34m\u001b[0m\u001b[0m\n",
            "\u001b[0;32m/usr/local/lib/python3.6/dist-packages/sklearn/model_selection/_search.py\u001b[0m in \u001b[0;36mfit\u001b[0;34m(self, X, y, groups, **fit_params)\u001b[0m\n\u001b[1;32m    603\u001b[0m         \"\"\"\n\u001b[1;32m    604\u001b[0m         \u001b[0mestimator\u001b[0m \u001b[0;34m=\u001b[0m \u001b[0mself\u001b[0m\u001b[0;34m.\u001b[0m\u001b[0mestimator\u001b[0m\u001b[0;34m\u001b[0m\u001b[0;34m\u001b[0m\u001b[0m\n\u001b[0;32m--> 605\u001b[0;31m         \u001b[0mcv\u001b[0m \u001b[0;34m=\u001b[0m \u001b[0mcheck_cv\u001b[0m\u001b[0;34m(\u001b[0m\u001b[0mself\u001b[0m\u001b[0;34m.\u001b[0m\u001b[0mcv\u001b[0m\u001b[0;34m,\u001b[0m \u001b[0my\u001b[0m\u001b[0;34m,\u001b[0m \u001b[0mclassifier\u001b[0m\u001b[0;34m=\u001b[0m\u001b[0mis_classifier\u001b[0m\u001b[0;34m(\u001b[0m\u001b[0mestimator\u001b[0m\u001b[0;34m)\u001b[0m\u001b[0;34m)\u001b[0m\u001b[0;34m\u001b[0m\u001b[0;34m\u001b[0m\u001b[0m\n\u001b[0m\u001b[1;32m    606\u001b[0m \u001b[0;34m\u001b[0m\u001b[0m\n\u001b[1;32m    607\u001b[0m         scorers, self.multimetric_ = _check_multimetric_scoring(\n",
            "\u001b[0;32m/usr/local/lib/python3.6/dist-packages/sklearn/model_selection/_split.py\u001b[0m in \u001b[0;36mcheck_cv\u001b[0;34m(cv, y, classifier)\u001b[0m\n\u001b[1;32m   1981\u001b[0m     \u001b[0;32mif\u001b[0m \u001b[0misinstance\u001b[0m\u001b[0;34m(\u001b[0m\u001b[0mcv\u001b[0m\u001b[0;34m,\u001b[0m \u001b[0mnumbers\u001b[0m\u001b[0;34m.\u001b[0m\u001b[0mIntegral\u001b[0m\u001b[0;34m)\u001b[0m\u001b[0;34m:\u001b[0m\u001b[0;34m\u001b[0m\u001b[0;34m\u001b[0m\u001b[0m\n\u001b[1;32m   1982\u001b[0m         if (classifier and (y is not None) and\n\u001b[0;32m-> 1983\u001b[0;31m                 (type_of_target(y) in ('binary', 'multiclass'))):\n\u001b[0m\u001b[1;32m   1984\u001b[0m             \u001b[0;32mreturn\u001b[0m \u001b[0mStratifiedKFold\u001b[0m\u001b[0;34m(\u001b[0m\u001b[0mcv\u001b[0m\u001b[0;34m)\u001b[0m\u001b[0;34m\u001b[0m\u001b[0;34m\u001b[0m\u001b[0m\n\u001b[1;32m   1985\u001b[0m         \u001b[0;32melse\u001b[0m\u001b[0;34m:\u001b[0m\u001b[0;34m\u001b[0m\u001b[0;34m\u001b[0m\u001b[0m\n",
            "\u001b[0;32m/usr/local/lib/python3.6/dist-packages/sklearn/utils/multiclass.py\u001b[0m in \u001b[0;36mtype_of_target\u001b[0;34m(y)\u001b[0m\n\u001b[1;32m    282\u001b[0m     \u001b[0;32mif\u001b[0m \u001b[0my\u001b[0m\u001b[0;34m.\u001b[0m\u001b[0mdtype\u001b[0m\u001b[0;34m.\u001b[0m\u001b[0mkind\u001b[0m \u001b[0;34m==\u001b[0m \u001b[0;34m'f'\u001b[0m \u001b[0;32mand\u001b[0m \u001b[0mnp\u001b[0m\u001b[0;34m.\u001b[0m\u001b[0many\u001b[0m\u001b[0;34m(\u001b[0m\u001b[0my\u001b[0m \u001b[0;34m!=\u001b[0m \u001b[0my\u001b[0m\u001b[0;34m.\u001b[0m\u001b[0mastype\u001b[0m\u001b[0;34m(\u001b[0m\u001b[0mint\u001b[0m\u001b[0;34m)\u001b[0m\u001b[0;34m)\u001b[0m\u001b[0;34m:\u001b[0m\u001b[0;34m\u001b[0m\u001b[0;34m\u001b[0m\u001b[0m\n\u001b[1;32m    283\u001b[0m         \u001b[0;31m# [.1, .2, 3] or [[.1, .2, 3]] or [[1., .2]] and not [1., 2., 3.]\u001b[0m\u001b[0;34m\u001b[0m\u001b[0;34m\u001b[0m\u001b[0;34m\u001b[0m\u001b[0m\n\u001b[0;32m--> 284\u001b[0;31m         \u001b[0m_assert_all_finite\u001b[0m\u001b[0;34m(\u001b[0m\u001b[0my\u001b[0m\u001b[0;34m)\u001b[0m\u001b[0;34m\u001b[0m\u001b[0;34m\u001b[0m\u001b[0m\n\u001b[0m\u001b[1;32m    285\u001b[0m         \u001b[0;32mreturn\u001b[0m \u001b[0;34m'continuous'\u001b[0m \u001b[0;34m+\u001b[0m \u001b[0msuffix\u001b[0m\u001b[0;34m\u001b[0m\u001b[0;34m\u001b[0m\u001b[0m\n\u001b[1;32m    286\u001b[0m \u001b[0;34m\u001b[0m\u001b[0m\n",
            "\u001b[0;32m/usr/local/lib/python3.6/dist-packages/sklearn/utils/validation.py\u001b[0m in \u001b[0;36m_assert_all_finite\u001b[0;34m(X, allow_nan)\u001b[0m\n\u001b[1;32m     54\u001b[0m                 not allow_nan and not np.isfinite(X).all()):\n\u001b[1;32m     55\u001b[0m             \u001b[0mtype_err\u001b[0m \u001b[0;34m=\u001b[0m \u001b[0;34m'infinity'\u001b[0m \u001b[0;32mif\u001b[0m \u001b[0mallow_nan\u001b[0m \u001b[0;32melse\u001b[0m \u001b[0;34m'NaN, infinity'\u001b[0m\u001b[0;34m\u001b[0m\u001b[0;34m\u001b[0m\u001b[0m\n\u001b[0;32m---> 56\u001b[0;31m             \u001b[0;32mraise\u001b[0m \u001b[0mValueError\u001b[0m\u001b[0;34m(\u001b[0m\u001b[0mmsg_err\u001b[0m\u001b[0;34m.\u001b[0m\u001b[0mformat\u001b[0m\u001b[0;34m(\u001b[0m\u001b[0mtype_err\u001b[0m\u001b[0;34m,\u001b[0m \u001b[0mX\u001b[0m\u001b[0;34m.\u001b[0m\u001b[0mdtype\u001b[0m\u001b[0;34m)\u001b[0m\u001b[0;34m)\u001b[0m\u001b[0;34m\u001b[0m\u001b[0;34m\u001b[0m\u001b[0m\n\u001b[0m\u001b[1;32m     57\u001b[0m     \u001b[0;31m# for object dtype data, we only check for NaNs (GH-13254)\u001b[0m\u001b[0;34m\u001b[0m\u001b[0;34m\u001b[0m\u001b[0;34m\u001b[0m\u001b[0m\n\u001b[1;32m     58\u001b[0m     \u001b[0;32melif\u001b[0m \u001b[0mX\u001b[0m\u001b[0;34m.\u001b[0m\u001b[0mdtype\u001b[0m \u001b[0;34m==\u001b[0m \u001b[0mnp\u001b[0m\u001b[0;34m.\u001b[0m\u001b[0mdtype\u001b[0m\u001b[0;34m(\u001b[0m\u001b[0;34m'object'\u001b[0m\u001b[0;34m)\u001b[0m \u001b[0;32mand\u001b[0m \u001b[0;32mnot\u001b[0m \u001b[0mallow_nan\u001b[0m\u001b[0;34m:\u001b[0m\u001b[0;34m\u001b[0m\u001b[0;34m\u001b[0m\u001b[0m\n",
            "\u001b[0;31mValueError\u001b[0m: Input contains NaN, infinity or a value too large for dtype('float64')."
          ]
        }
      ]
    },
    {
      "cell_type": "code",
      "metadata": {
        "id": "6RKxceKs746S",
        "colab_type": "code",
        "colab": {
          "base_uri": "https://localhost:8080/",
          "height": 412
        },
        "outputId": "67db720e-3af5-4471-c37a-cddefbc5b471"
      },
      "source": [
        "\n",
        "from sklearn.utils import resample\n",
        "\n",
        "# concatenate our training data back together\n",
        "rCSI_df = pd.concat([onedata_X_train, onedata_y_train['rCSI_category']], axis=1)\n",
        "\n",
        "rCSI_df = rCSI_df.dropna(how ='any')\n",
        "\n",
        "\n",
        "rCSI_not_crisis = rCSI_df[rCSI_df.rCSI_category==0]\n",
        "rCSI_crisis = rCSI_df[rCSI_df.rCSI_category!=0]\n",
        "\n",
        "# separate minority and majority classes\n",
        "\n",
        "# upsample minority\n",
        "rCSI_crisis_upsampled = resample(rCSI_crisis,\n",
        "                                 replace=True, # sample with replacement\n",
        "                                 n_samples=len(rCSI_not_crisis), # match number in majority class\n",
        "                                 random_state=27) # reproducible results\n",
        "\n",
        "# combine majority and upsampled minority\n",
        "rCSI_upsampled = pd.concat([rCSI_not_crisis, rCSI_crisis_upsampled])\n",
        "\n",
        "rCSI_upsampled_y_train = rCSI_upsampled[\"rCSI_category\"]\n",
        "\n",
        "rCSI_upsampled_X_train = rCSI_upsampled.drop(\"rCSI_category\",axis=1)\n",
        "\n",
        "y_pred,y_test  = rfCLF (rCSI_upsampled_X_train,rCSI_upsampled_y_train, tz_test_X_test,tz_test_y_test['rCSI_category'] )\n",
        "\n",
        "print(classification_report(y_test, y_pred))\n",
        "\n",
        "# y_pred,y_test  = XGBCLF (rCSI_upsampled_X_train,rCSI_upsampled_y_train, tz_test_X_test,tz_test_y_test['rCSI_category'] )\n",
        "\n",
        "print(classification_report(y_test, y_pred))"
      ],
      "execution_count": 60,
      "outputs": [
        {
          "output_type": "stream",
          "text": [
            "Fitting 3 folds for each of 30 candidates, totalling 90 fits\n"
          ],
          "name": "stdout"
        },
        {
          "output_type": "stream",
          "text": [
            "[Parallel(n_jobs=-1)]: Using backend LokyBackend with 2 concurrent workers.\n",
            "[Parallel(n_jobs=-1)]: Done  37 tasks      | elapsed:   28.2s\n",
            "[Parallel(n_jobs=-1)]: Done  90 out of  90 | elapsed:  1.1min finished\n"
          ],
          "name": "stderr"
        },
        {
          "output_type": "stream",
          "text": [
            "              precision    recall  f1-score   support\n",
            "\n",
            "           0       0.58      0.88      0.70       227\n",
            "           1       0.31      0.08      0.13       153\n",
            "           2       0.00      0.00      0.00         6\n",
            "\n",
            "    accuracy                           0.55       386\n",
            "   macro avg       0.30      0.32      0.28       386\n",
            "weighted avg       0.46      0.55      0.46       386\n",
            "\n",
            "              precision    recall  f1-score   support\n",
            "\n",
            "           0       0.58      0.88      0.70       227\n",
            "           1       0.31      0.08      0.13       153\n",
            "           2       0.00      0.00      0.00         6\n",
            "\n",
            "    accuracy                           0.55       386\n",
            "   macro avg       0.30      0.32      0.28       386\n",
            "weighted avg       0.46      0.55      0.46       386\n",
            "\n"
          ],
          "name": "stdout"
        }
      ]
    },
    {
      "cell_type": "code",
      "metadata": {
        "id": "aK-jhxwk4q5U",
        "colab_type": "code",
        "colab": {
          "base_uri": "https://localhost:8080/",
          "height": 676
        },
        "outputId": "3c04d7f8-a927-4626-f600-1edcca416b98"
      },
      "source": [
        "from sklearn.utils import resample\n",
        "\n",
        "# concatenate our training data back together\n",
        "FCS_df = pd.concat([onedata_X_train, onedata_y_train['FCS_category']], axis=1)\n",
        "\n",
        "\n",
        "FCS_not_crisis = FCS_df[FCS_df.FCS_category==0]\n",
        "FCS_crisis = FCS_df[FCS_df.FCS_category!=0]\n",
        "\n",
        "# separate minority and majority classes\n",
        "\n",
        "# upsample minority\n",
        "FCS_crisis_upsampled = resample(FCS_crisis,\n",
        "                                replace=True, # sample with replacement\n",
        "                                n_samples=len(FCS_not_crisis), # match number in majority class\n",
        "                                random_state=27) # reproducible results\n",
        "\n",
        "# combine majority and upsampled minority\n",
        "FCS_upsampled = pd.concat([FCS_not_crisis, FCS_crisis_upsampled])\n",
        "\n",
        "FCS_upsampled_y_train = FCS_upsampled[\"FCS_category\"]\n",
        "\n",
        "FCS_upsampled_X_train = FCS_upsampled.drop(\"FCS_category\",axis=1)\n",
        "\n",
        "y_pred,y_test  = rfCLF (FCS_upsampled_X_train,FCS_upsampled_y_train, mw_test_X_test,mw_test_y_test['FCS_category'] )\n",
        "\n",
        "print(classification_report(y_test, y_pred))\n",
        "\n",
        "#y_pred,y_test  = XGBCLF (FCS_upsampled_X_train,FCS_upsampled_y_train, mw_test_X_test,mw_test_y_test['FCS_category'] )\n",
        "\n",
        "# print(classification_report(y_test, y_pred))\n",
        "\n",
        "\n",
        "from sklearn.utils import resample\n",
        "\n",
        "# concatenate our training data back together\n",
        "HDDS_df = pd.concat([onedata_X_train, onedata_y_train['HDDS_category']], axis=1)\n",
        "\n",
        "\n",
        "HDDS_not_crisis = HDDS_df[HDDS_df.HDDS_category==0]\n",
        "HDDS_crisis = HDDS_df[HDDS_df.HDDS_category!=0]\n",
        "\n",
        "# separate minority and majority classes\n",
        "\n",
        "# upsample minority\n",
        "HDDS_crisis_upsampled = resample(HDDS_crisis,\n",
        "                                 replace=True, # sample with replacement\n",
        "                                 n_samples=len(HDDS_not_crisis), # match number in majority class\n",
        "                                 random_state=27) # reproducible results\n",
        "\n",
        "# combine majority and upsampled minority\n",
        "HDDS_upsampled = pd.concat([HDDS_not_crisis, HDDS_crisis_upsampled])\n",
        "\n",
        "HDDS_upsampled_y_train = HDDS_upsampled[\"HDDS_category\"]\n",
        "\n",
        "HDDS_upsampled_X_train = HDDS_upsampled.drop(\"HDDS_category\",axis=1)\n",
        "\n",
        "y_pred,y_test  = rfCLF (HDDS_upsampled_X_train,HDDS_upsampled_y_train, mw_test_X_test,mw_test_y_test['HDDS_category'] )\n",
        "\n",
        "print(classification_report(y_test, y_pred))\n",
        "\n",
        "#y_pred,y_test  = XGBCLF (HDDS_upsampled_X_train,HDDS_upsampled_y_train, mw_test_X_test,mw_test_y_test['HDDS_category'] )\n",
        "\n",
        "#print(classification_report(y_test, y_pred))\n",
        "\n",
        "\n",
        "\n",
        "\n",
        "\n",
        "\n",
        "from sklearn.utils import resample\n",
        "\n",
        "# concatenate our training data back together\n",
        "rCSI_df = pd.concat([onedata_X_train, onedata_y_train['rCSI_category']], axis=1)\n",
        "rCSI_df = rCSI_df.dropna(how ='any')\n",
        "\n",
        "\n",
        "rCSI_not_crisis = rCSI_df[rCSI_df.rCSI_category==0]\n",
        "rCSI_crisis = rCSI_df[rCSI_df.rCSI_category!=0]\n",
        "\n",
        "# separate minority and majority classes\n",
        "\n",
        "# upsample minority\n",
        "rCSI_crisis_upsampled = resample(rCSI_crisis,\n",
        "                                 replace=True, # sample with replacement\n",
        "                                 n_samples=len(rCSI_not_crisis), # match number in majority class\n",
        "                                 random_state=27) # reproducible results\n",
        "\n",
        "# combine majority and upsampled minority\n",
        "rCSI_upsampled = pd.concat([rCSI_not_crisis, rCSI_crisis_upsampled])\n",
        "\n",
        "rCSI_upsampled_y_train = rCSI_upsampled[\"rCSI_category\"]\n",
        "\n",
        "rCSI_upsampled_X_train = rCSI_upsampled.drop(\"rCSI_category\",axis=1)\n",
        "\n",
        "y_pred,y_test  = rfCLF (rCSI_upsampled_X_train,rCSI_upsampled_y_train, mw_test_X_test,mw_test_y_test['rCSI_category'] )\n",
        "\n",
        "print(classification_report(y_test, y_pred))\n",
        "\n",
        "#y_pred,y_test  = XGBCLF (rCSI_upsampled_X_train,rCSI_upsampled_y_train, mw_test_X_test,mw_test_y_test['rCSI_category'] )\n",
        "\n",
        "#print(classification_report(y_test, y_pred))"
      ],
      "execution_count": 61,
      "outputs": [
        {
          "output_type": "stream",
          "text": [
            "Fitting 3 folds for each of 30 candidates, totalling 90 fits\n"
          ],
          "name": "stdout"
        },
        {
          "output_type": "stream",
          "text": [
            "[Parallel(n_jobs=-1)]: Using backend LokyBackend with 2 concurrent workers.\n",
            "[Parallel(n_jobs=-1)]: Done  37 tasks      | elapsed:   36.7s\n",
            "[Parallel(n_jobs=-1)]: Done  90 out of  90 | elapsed:  1.5min finished\n"
          ],
          "name": "stderr"
        },
        {
          "output_type": "stream",
          "text": [
            "              precision    recall  f1-score   support\n",
            "\n",
            "           0       0.69      1.00      0.82       309\n",
            "           1       0.00      0.00      0.00       136\n",
            "\n",
            "    accuracy                           0.69       445\n",
            "   macro avg       0.35      0.50      0.41       445\n",
            "weighted avg       0.48      0.69      0.57       445\n",
            "\n",
            "Fitting 3 folds for each of 30 candidates, totalling 90 fits\n"
          ],
          "name": "stdout"
        },
        {
          "output_type": "stream",
          "text": [
            "[Parallel(n_jobs=-1)]: Using backend LokyBackend with 2 concurrent workers.\n",
            "[Parallel(n_jobs=-1)]: Done  37 tasks      | elapsed:   10.6s\n",
            "[Parallel(n_jobs=-1)]: Done  90 out of  90 | elapsed:   25.6s finished\n"
          ],
          "name": "stderr"
        },
        {
          "output_type": "stream",
          "text": [
            "              precision    recall  f1-score   support\n",
            "\n",
            "           0       0.00      0.00      0.00         0\n",
            "           1       1.00      0.62      0.77       445\n",
            "\n",
            "    accuracy                           0.62       445\n",
            "   macro avg       0.50      0.31      0.38       445\n",
            "weighted avg       1.00      0.62      0.77       445\n",
            "\n",
            "Fitting 3 folds for each of 30 candidates, totalling 90 fits\n"
          ],
          "name": "stdout"
        },
        {
          "output_type": "stream",
          "text": [
            "[Parallel(n_jobs=-1)]: Using backend LokyBackend with 2 concurrent workers.\n",
            "[Parallel(n_jobs=-1)]: Done  37 tasks      | elapsed:   29.0s\n",
            "[Parallel(n_jobs=-1)]: Done  90 out of  90 | elapsed:  1.2min finished\n"
          ],
          "name": "stderr"
        },
        {
          "output_type": "stream",
          "text": [
            "              precision    recall  f1-score   support\n",
            "\n",
            "           0       0.36      0.94      0.52       157\n",
            "           1       0.70      0.08      0.15       282\n",
            "           2       0.00      0.00      0.00         6\n",
            "\n",
            "    accuracy                           0.38       445\n",
            "   macro avg       0.35      0.34      0.22       445\n",
            "weighted avg       0.57      0.38      0.27       445\n",
            "\n"
          ],
          "name": "stdout"
        }
      ]
    },
    {
      "cell_type": "markdown",
      "metadata": {
        "id": "mMT2cWgg6iht",
        "colab_type": "text"
      },
      "source": [
        "### rural seg"
      ]
    },
    {
      "cell_type": "code",
      "metadata": {
        "id": "lmEN18uF9nAX",
        "colab_type": "code",
        "colab": {
          "base_uri": "https://localhost:8080/",
          "height": 478
        },
        "outputId": "092d2efa-64d7-4aca-98c2-e906aec69c90"
      },
      "source": [
        "from sklearn.utils import resample\n",
        "\n",
        "# concatenate our training data back together\n",
        "FCS_df = pd.concat([ruraldata_X_train, ruraldata_y_train['FCS_category']], axis=1)\n",
        "\n",
        "\n",
        "FCS_not_crisis = FCS_df[FCS_df.FCS_category==0]\n",
        "FCS_crisis = FCS_df[FCS_df.FCS_category!=0]\n",
        "\n",
        "# separate minority and majority classes\n",
        "\n",
        "# upsample minority\n",
        "FCS_crisis_upsampled = resample(FCS_crisis,\n",
        "                                replace=True, # sample with replacement\n",
        "                                n_samples=len(FCS_not_crisis), # match number in majority class\n",
        "                                random_state=27) # reproducible results\n",
        "\n",
        "# combine majority and upsampled minority\n",
        "FCS_upsampled = pd.concat([FCS_not_crisis, FCS_crisis_upsampled])\n",
        "\n",
        "FCS_upsampled_y_train = FCS_upsampled[\"FCS_category\"]\n",
        "\n",
        "FCS_upsampled_X_train = FCS_upsampled.drop(\"FCS_category\",axis=1)\n",
        "\n",
        "y_pred,y_test  = rfCLF (FCS_upsampled_X_train,FCS_upsampled_y_train, ug_test_X_test,ug_test_y_test['FCS_category'] )\n",
        "\n",
        "print(classification_report(y_test, y_pred))\n",
        "\n",
        "# y_pred,y_test  = XGBCLF (FCS_upsampled_X_train,FCS_upsampled_y_train, ug_test_X_test,ug_test_y_test['FCS_category'] )\n",
        "\n",
        "# print(classification_report(y_test, y_pred))\n",
        "\n",
        "\n",
        "from sklearn.utils import resample\n",
        "\n",
        "# concatenate our training data back together\n",
        "HDDS_df = pd.concat([ruraldata_X_train, ruraldata_y_train['HDDS_category']], axis=1)\n",
        "\n",
        "\n",
        "HDDS_not_crisis = HDDS_df[HDDS_df.HDDS_category==0]\n",
        "HDDS_crisis = HDDS_df[HDDS_df.HDDS_category!=0]\n",
        "\n",
        "# separate minority and majority classes\n",
        "\n",
        "# upsample minority\n",
        "HDDS_crisis_upsampled = resample(HDDS_crisis,\n",
        "                                 replace=True, # sample with replacement\n",
        "                                 n_samples=len(HDDS_not_crisis), # match number in majority class\n",
        "                                 random_state=27) # reproducible results\n",
        "\n",
        "# combine majority and upsampled minority\n",
        "HDDS_upsampled = pd.concat([HDDS_not_crisis, HDDS_crisis_upsampled])\n",
        "\n",
        "HDDS_upsampled_y_train = HDDS_upsampled[\"HDDS_category\"]\n",
        "\n",
        "HDDS_upsampled_X_train = HDDS_upsampled.drop(\"HDDS_category\",axis=1)\n",
        "\n",
        "y_pred,y_test  = rfCLF (HDDS_upsampled_X_train,HDDS_upsampled_y_train, ug_test_X_test,ug_test_y_test['HDDS_category'] )\n",
        "\n",
        "print(classification_report(y_test, y_pred))\n",
        "\n",
        "# y_pred,y_test  = XGBCLF (HDDS_upsampled_X_train,HDDS_upsampled_y_train, ug_test_X_test,ug_test_y_test['HDDS_category'] )\n",
        "\n",
        "# print(classification_report(y_test, y_pred))"
      ],
      "execution_count": 63,
      "outputs": [
        {
          "output_type": "stream",
          "text": [
            "Fitting 3 folds for each of 30 candidates, totalling 90 fits\n"
          ],
          "name": "stdout"
        },
        {
          "output_type": "stream",
          "text": [
            "[Parallel(n_jobs=-1)]: Using backend LokyBackend with 2 concurrent workers.\n",
            "[Parallel(n_jobs=-1)]: Done  37 tasks      | elapsed:   18.7s\n",
            "[Parallel(n_jobs=-1)]: Done  90 out of  90 | elapsed:   41.9s finished\n"
          ],
          "name": "stderr"
        },
        {
          "output_type": "stream",
          "text": [
            "              precision    recall  f1-score   support\n",
            "\n",
            "           0       0.74      0.78      0.76       334\n",
            "           1       0.17      0.16      0.17        97\n",
            "           2       0.00      0.00      0.00         9\n",
            "\n",
            "    accuracy                           0.62       440\n",
            "   macro avg       0.31      0.31      0.31       440\n",
            "weighted avg       0.60      0.62      0.61       440\n",
            "\n",
            "Fitting 3 folds for each of 30 candidates, totalling 90 fits\n"
          ],
          "name": "stdout"
        },
        {
          "output_type": "stream",
          "text": [
            "[Parallel(n_jobs=-1)]: Using backend LokyBackend with 2 concurrent workers.\n",
            "[Parallel(n_jobs=-1)]: Done  70 tasks      | elapsed:    6.0s\n"
          ],
          "name": "stderr"
        },
        {
          "output_type": "stream",
          "text": [
            "              precision    recall  f1-score   support\n",
            "\n",
            "           0       0.00      0.00      0.00        49\n",
            "           1       0.87      0.91      0.89       389\n",
            "           2       0.00      0.00      0.00         2\n",
            "\n",
            "    accuracy                           0.81       440\n",
            "   macro avg       0.29      0.30      0.30       440\n",
            "weighted avg       0.77      0.81      0.79       440\n",
            "\n"
          ],
          "name": "stdout"
        },
        {
          "output_type": "stream",
          "text": [
            "[Parallel(n_jobs=-1)]: Done  90 out of  90 | elapsed:    7.7s finished\n"
          ],
          "name": "stderr"
        }
      ]
    },
    {
      "cell_type": "code",
      "metadata": {
        "id": "L0pk1Bb5-vYB",
        "colab_type": "code",
        "colab": {
          "base_uri": "https://localhost:8080/",
          "height": 676
        },
        "outputId": "2bc8a210-d24a-472c-e295-1645c79baa0f"
      },
      "source": [
        "from sklearn.utils import resample\n",
        "\n",
        "# concatenate our training data back together\n",
        "FCS_df = pd.concat([ruraldata_X_train, ruraldata_y_train['FCS_category']], axis=1)\n",
        "\n",
        "\n",
        "FCS_not_crisis = FCS_df[FCS_df.FCS_category==0]\n",
        "FCS_crisis = FCS_df[FCS_df.FCS_category!=0]\n",
        "\n",
        "# separate minority and majority classes\n",
        "\n",
        "# upsample minority\n",
        "FCS_crisis_upsampled = resample(FCS_crisis,\n",
        "                                replace=True, # sample with replacement\n",
        "                                n_samples=len(FCS_not_crisis), # match number in majority class\n",
        "                                random_state=27) # reproducible results\n",
        "\n",
        "# combine majority and upsampled minority\n",
        "FCS_upsampled = pd.concat([FCS_not_crisis, FCS_crisis_upsampled])\n",
        "\n",
        "FCS_upsampled_y_train = FCS_upsampled[\"FCS_category\"]\n",
        "\n",
        "FCS_upsampled_X_train = FCS_upsampled.drop(\"FCS_category\",axis=1)\n",
        "\n",
        "y_pred,y_test  = rfCLF (FCS_upsampled_X_train,FCS_upsampled_y_train, mw_test_X_test,mw_test_y_test['FCS_category'] )\n",
        "\n",
        "print(classification_report(y_test, y_pred))\n",
        "\n",
        "#y_pred,y_test  = XGBCLF (FCS_upsampled_X_train,FCS_upsampled_y_train, mw_test_X_test,mw_test_y_test['FCS_category'] )\n",
        "\n",
        "# print(classification_report(y_test, y_pred))\n",
        "\n",
        "\n",
        "from sklearn.utils import resample\n",
        "\n",
        "# concatenate our training data back together\n",
        "HDDS_df = pd.concat([ruraldata_X_train, ruraldata_y_train['HDDS_category']], axis=1)\n",
        "\n",
        "\n",
        "HDDS_not_crisis = HDDS_df[HDDS_df.HDDS_category==0]\n",
        "HDDS_crisis = HDDS_df[HDDS_df.HDDS_category!=0]\n",
        "\n",
        "# separate minority and majority classes\n",
        "\n",
        "# upsample minority\n",
        "HDDS_crisis_upsampled = resample(HDDS_crisis,\n",
        "                                 replace=True, # sample with replacement\n",
        "                                 n_samples=len(HDDS_not_crisis), # match number in majority class\n",
        "                                 random_state=27) # reproducible results\n",
        "\n",
        "# combine majority and upsampled minority\n",
        "HDDS_upsampled = pd.concat([HDDS_not_crisis, HDDS_crisis_upsampled])\n",
        "\n",
        "HDDS_upsampled_y_train = HDDS_upsampled[\"HDDS_category\"]\n",
        "\n",
        "HDDS_upsampled_X_train = HDDS_upsampled.drop(\"HDDS_category\",axis=1)\n",
        "\n",
        "y_pred,y_test  = rfCLF (HDDS_upsampled_X_train,HDDS_upsampled_y_train, mw_test_X_test,mw_test_y_test['HDDS_category'] )\n",
        "\n",
        "print(classification_report(y_test, y_pred))\n",
        "\n",
        "#y_pred,y_test  = XGBCLF (HDDS_upsampled_X_train,HDDS_upsampled_y_train, mw_test_X_test,mw_test_y_test['HDDS_category'] )\n",
        "\n",
        "#print(classification_report(y_test, y_pred))\n",
        "\n",
        "\n",
        "\n",
        "\n",
        "\n",
        "\n",
        "from sklearn.utils import resample\n",
        "\n",
        "# concatenate our training data back together\n",
        "rCSI_df = pd.concat([ruraldata_X_train, ruraldata_y_train['rCSI_category']], axis=1)\n",
        "rCSI_df = rCSI_df.dropna(how ='any')\n",
        "\n",
        "\n",
        "rCSI_not_crisis = rCSI_df[rCSI_df.rCSI_category==0]\n",
        "rCSI_crisis = rCSI_df[rCSI_df.rCSI_category!=0]\n",
        "\n",
        "# separate minority and majority classes\n",
        "\n",
        "# upsample minority\n",
        "rCSI_crisis_upsampled = resample(rCSI_crisis,\n",
        "                                 replace=True, # sample with replacement\n",
        "                                 n_samples=len(rCSI_not_crisis), # match number in majority class\n",
        "                                 random_state=27) # reproducible results\n",
        "\n",
        "# combine majority and upsampled minority\n",
        "rCSI_upsampled = pd.concat([rCSI_not_crisis, rCSI_crisis_upsampled])\n",
        "\n",
        "rCSI_upsampled_y_train = rCSI_upsampled[\"rCSI_category\"]\n",
        "\n",
        "rCSI_upsampled_X_train = rCSI_upsampled.drop(\"rCSI_category\",axis=1)\n",
        "\n",
        "y_pred,y_test  = rfCLF (rCSI_upsampled_X_train,rCSI_upsampled_y_train, mw_test_X_test,mw_test_y_test['rCSI_category'] )\n",
        "\n",
        "print(classification_report(y_test, y_pred))\n",
        "\n",
        "#y_pred,y_test  = XGBCLF (rCSI_upsampled_X_train,rCSI_upsampled_y_train, mw_test_X_test,mw_test_y_test['rCSI_category'] )\n",
        "\n",
        "#print(classification_report(y_test, y_pred))"
      ],
      "execution_count": 64,
      "outputs": [
        {
          "output_type": "stream",
          "text": [
            "Fitting 3 folds for each of 30 candidates, totalling 90 fits\n"
          ],
          "name": "stdout"
        },
        {
          "output_type": "stream",
          "text": [
            "[Parallel(n_jobs=-1)]: Using backend LokyBackend with 2 concurrent workers.\n",
            "[Parallel(n_jobs=-1)]: Done  37 tasks      | elapsed:   17.0s\n",
            "[Parallel(n_jobs=-1)]: Done  90 out of  90 | elapsed:   40.5s finished\n"
          ],
          "name": "stderr"
        },
        {
          "output_type": "stream",
          "text": [
            "              precision    recall  f1-score   support\n",
            "\n",
            "           0       0.70      1.00      0.82       309\n",
            "           1       1.00      0.01      0.01       136\n",
            "\n",
            "    accuracy                           0.70       445\n",
            "   macro avg       0.85      0.50      0.42       445\n",
            "weighted avg       0.79      0.70      0.57       445\n",
            "\n",
            "Fitting 3 folds for each of 30 candidates, totalling 90 fits\n"
          ],
          "name": "stdout"
        },
        {
          "output_type": "stream",
          "text": [
            "[Parallel(n_jobs=-1)]: Using backend LokyBackend with 2 concurrent workers.\n",
            "[Parallel(n_jobs=-1)]: Done  70 tasks      | elapsed:    6.0s\n",
            "[Parallel(n_jobs=-1)]: Done  90 out of  90 | elapsed:    7.7s finished\n",
            "[Parallel(n_jobs=-1)]: Using backend LokyBackend with 2 concurrent workers.\n"
          ],
          "name": "stderr"
        },
        {
          "output_type": "stream",
          "text": [
            "              precision    recall  f1-score   support\n",
            "\n",
            "           0       0.00      0.00      0.00         0\n",
            "           1       1.00      0.46      0.63       445\n",
            "\n",
            "    accuracy                           0.46       445\n",
            "   macro avg       0.50      0.23      0.32       445\n",
            "weighted avg       1.00      0.46      0.63       445\n",
            "\n",
            "Fitting 3 folds for each of 30 candidates, totalling 90 fits\n"
          ],
          "name": "stdout"
        },
        {
          "output_type": "stream",
          "text": [
            "[Parallel(n_jobs=-1)]: Done  37 tasks      | elapsed:   13.1s\n",
            "[Parallel(n_jobs=-1)]: Done  90 out of  90 | elapsed:   31.4s finished\n"
          ],
          "name": "stderr"
        },
        {
          "output_type": "stream",
          "text": [
            "              precision    recall  f1-score   support\n",
            "\n",
            "           0       0.47      0.75      0.58       157\n",
            "           1       0.77      0.53      0.63       282\n",
            "           2       0.00      0.00      0.00         6\n",
            "\n",
            "    accuracy                           0.60       445\n",
            "   macro avg       0.41      0.43      0.40       445\n",
            "weighted avg       0.65      0.60      0.60       445\n",
            "\n"
          ],
          "name": "stdout"
        }
      ]
    },
    {
      "cell_type": "code",
      "metadata": {
        "id": "cD0RM_Cv-0pD",
        "colab_type": "code",
        "colab": {
          "base_uri": "https://localhost:8080/",
          "height": 693
        },
        "outputId": "79d1f5a0-c487-4bd1-d809-533a58fc2843"
      },
      "source": [
        "from sklearn.utils import resample\n",
        "\n",
        "# concatenate our training data back together\n",
        "FCS_df = pd.concat([ruraldata_X_train, ruraldata_y_train['FCS_category']], axis=1)\n",
        "\n",
        "\n",
        "FCS_not_crisis = FCS_df[FCS_df.FCS_category==0]\n",
        "FCS_crisis = FCS_df[FCS_df.FCS_category!=0]\n",
        "\n",
        "# separate minority and majority classes\n",
        "\n",
        "# upsample minority\n",
        "FCS_crisis_upsampled = resample(FCS_crisis,\n",
        "                                replace=True, # sample with replacement\n",
        "                                n_samples=len(FCS_not_crisis), # match number in majority class\n",
        "                                random_state=27) # reproducible results\n",
        "\n",
        "# combine majority and upsampled minority\n",
        "FCS_upsampled = pd.concat([FCS_not_crisis, FCS_crisis_upsampled])\n",
        "\n",
        "FCS_upsampled_y_train = FCS_upsampled[\"FCS_category\"]\n",
        "\n",
        "FCS_upsampled_X_train = FCS_upsampled.drop(\"FCS_category\",axis=1)\n",
        "\n",
        "y_pred,y_test  = rfCLF (FCS_upsampled_X_train,FCS_upsampled_y_train, tz_test_X_test,tz_test_y_test['FCS_category'] )\n",
        "\n",
        "print(classification_report(y_test, y_pred))\n",
        "\n",
        "#y_pred,y_test  = XGBCLF (FCS_upsampled_X_train,FCS_upsampled_y_train, tz_test_X_test,tz_test_y_test['FCS_category'] )\n",
        "\n",
        "# print(classification_report(y_test, y_pred))\n",
        "\n",
        "\n",
        "from sklearn.utils import resample\n",
        "\n",
        "# concatenate our training data back together\n",
        "HDDS_df = pd.concat([ruraldata_X_train, ruraldata_y_train['HDDS_category']], axis=1)\n",
        "\n",
        "\n",
        "HDDS_not_crisis = HDDS_df[HDDS_df.HDDS_category==0]\n",
        "HDDS_crisis = HDDS_df[HDDS_df.HDDS_category!=0]\n",
        "\n",
        "# separate minority and majority classes\n",
        "\n",
        "# upsample minority\n",
        "HDDS_crisis_upsampled = resample(HDDS_crisis,\n",
        "                                 replace=True, # sample with replacement\n",
        "                                 n_samples=len(HDDS_not_crisis), # match number in majority class\n",
        "                                 random_state=27) # reproducible results\n",
        "\n",
        "# combine majority and upsampled minority\n",
        "HDDS_upsampled = pd.concat([HDDS_not_crisis, HDDS_crisis_upsampled])\n",
        "\n",
        "HDDS_upsampled_y_train = HDDS_upsampled[\"HDDS_category\"]\n",
        "\n",
        "HDDS_upsampled_X_train = HDDS_upsampled.drop(\"HDDS_category\",axis=1)\n",
        "\n",
        "y_pred,y_test  = rfCLF (HDDS_upsampled_X_train,HDDS_upsampled_y_train, tz_test_X_test,tz_test_y_test['HDDS_category'] )\n",
        "\n",
        "print(classification_report(y_test, y_pred))\n",
        "\n",
        "#y_pred,y_test  = XGBCLF (HDDS_upsampled_X_train,HDDS_upsampled_y_train, tz_test_X_test,tz_test_y_test['HDDS_category'] )\n",
        "\n",
        "#print(classification_report(y_test, y_pred))\n",
        "\n",
        "\n",
        "\n",
        "\n",
        "\n",
        "\n",
        "from sklearn.utils import resample\n",
        "\n",
        "# concatenate our training data back together\n",
        "rCSI_df = pd.concat([ruraldata_X_train, ruraldata_y_train['rCSI_category']], axis=1)\n",
        "rCSI_df = rCSI_df.dropna(how ='any')\n",
        "\n",
        "\n",
        "rCSI_not_crisis = rCSI_df[rCSI_df.rCSI_category==0]\n",
        "rCSI_crisis = rCSI_df[rCSI_df.rCSI_category!=0]\n",
        "\n",
        "# separate minority and majority classes\n",
        "\n",
        "# upsample minority\n",
        "rCSI_crisis_upsampled = resample(rCSI_crisis,\n",
        "                                 replace=True, # sample with replacement\n",
        "                                 n_samples=len(rCSI_not_crisis), # match number in majority class\n",
        "                                 random_state=27) # reproducible results\n",
        "\n",
        "# combine majority and upsampled minority\n",
        "rCSI_upsampled = pd.concat([rCSI_not_crisis, rCSI_crisis_upsampled])\n",
        "\n",
        "rCSI_upsampled_y_train = rCSI_upsampled[\"rCSI_category\"]\n",
        "\n",
        "rCSI_upsampled_X_train = rCSI_upsampled.drop(\"rCSI_category\",axis=1)\n",
        "\n",
        "y_pred,y_test  = rfCLF (rCSI_upsampled_X_train,rCSI_upsampled_y_train, tz_test_X_test,tz_test_y_test['rCSI_category'] )\n",
        "\n",
        "print(classification_report(y_test, y_pred))\n",
        "\n",
        "#y_pred,y_test  = XGBCLF (rCSI_upsampled_X_train,rCSI_upsampled_y_train, tz_test_X_test,tz_test_y_test['rCSI_category'] )\n",
        "\n",
        "#print(classification_report(y_test, y_pred))"
      ],
      "execution_count": 65,
      "outputs": [
        {
          "output_type": "stream",
          "text": [
            "Fitting 3 folds for each of 30 candidates, totalling 90 fits\n"
          ],
          "name": "stdout"
        },
        {
          "output_type": "stream",
          "text": [
            "[Parallel(n_jobs=-1)]: Using backend LokyBackend with 2 concurrent workers.\n",
            "[Parallel(n_jobs=-1)]: Done  37 tasks      | elapsed:   16.9s\n",
            "[Parallel(n_jobs=-1)]: Done  90 out of  90 | elapsed:   40.2s finished\n"
          ],
          "name": "stderr"
        },
        {
          "output_type": "stream",
          "text": [
            "              precision    recall  f1-score   support\n",
            "\n",
            "           0       0.89      0.88      0.89       342\n",
            "           1       0.16      0.19      0.17        43\n",
            "           2       0.00      0.00      0.00         1\n",
            "\n",
            "    accuracy                           0.80       386\n",
            "   macro avg       0.35      0.36      0.35       386\n",
            "weighted avg       0.81      0.80      0.80       386\n",
            "\n",
            "Fitting 3 folds for each of 30 candidates, totalling 90 fits\n"
          ],
          "name": "stdout"
        },
        {
          "output_type": "stream",
          "text": [
            "[Parallel(n_jobs=-1)]: Using backend LokyBackend with 2 concurrent workers.\n",
            "[Parallel(n_jobs=-1)]: Done  70 tasks      | elapsed:    6.1s\n",
            "[Parallel(n_jobs=-1)]: Done  90 out of  90 | elapsed:    7.8s finished\n",
            "[Parallel(n_jobs=-1)]: Using backend LokyBackend with 2 concurrent workers.\n"
          ],
          "name": "stderr"
        },
        {
          "output_type": "stream",
          "text": [
            "              precision    recall  f1-score   support\n",
            "\n",
            "           0       0.57      0.15      0.23        82\n",
            "           1       0.81      0.97      0.88       304\n",
            "\n",
            "    accuracy                           0.80       386\n",
            "   macro avg       0.69      0.56      0.56       386\n",
            "weighted avg       0.76      0.80      0.74       386\n",
            "\n",
            "Fitting 3 folds for each of 30 candidates, totalling 90 fits\n"
          ],
          "name": "stdout"
        },
        {
          "output_type": "stream",
          "text": [
            "[Parallel(n_jobs=-1)]: Done  37 tasks      | elapsed:   13.2s\n",
            "[Parallel(n_jobs=-1)]: Done  90 out of  90 | elapsed:   31.8s finished\n"
          ],
          "name": "stderr"
        },
        {
          "output_type": "stream",
          "text": [
            "              precision    recall  f1-score   support\n",
            "\n",
            "           0       0.68      0.21      0.32       227\n",
            "           1       0.41      0.86      0.56       153\n",
            "           2       0.00      0.00      0.00         6\n",
            "\n",
            "    accuracy                           0.46       386\n",
            "   macro avg       0.36      0.35      0.29       386\n",
            "weighted avg       0.56      0.46      0.41       386\n",
            "\n"
          ],
          "name": "stdout"
        }
      ]
    },
    {
      "cell_type": "markdown",
      "metadata": {
        "colab_type": "text",
        "id": "WWSlbeogjmtg"
      },
      "source": [
        "## Interpretation\n"
      ]
    }
  ]
}